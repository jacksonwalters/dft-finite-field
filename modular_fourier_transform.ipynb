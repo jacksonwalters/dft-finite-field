{
 "cells": [
  {
   "cell_type": "code",
   "execution_count": null,
   "id": "b1692b05",
   "metadata": {},
   "outputs": [],
   "source": [
    "#https://en.wikipedia.org/wiki/Discrete_Fourier_transform_over_a_ring\n",
    "#implementation of the discrete Fourier transform over a ring R\n",
    "#can assume R is an integral domain\n",
    "#so just choose \\alpha a primitive n-th root of unity, i.e. \\alpha^n=1, \\alpha \\ne 1\n",
    "#ensure n invertible, i.e. char(R) does not divide n"
   ]
  },
  {
   "cell_type": "code",
   "execution_count": 113,
   "id": "ec365c3d",
   "metadata": {},
   "outputs": [],
   "source": [
    "n=10; p=11"
   ]
  },
  {
   "cell_type": "code",
   "execution_count": 114,
   "id": "47bab202",
   "metadata": {},
   "outputs": [],
   "source": [
    "#finite field of size p\n",
    "K = GF(p)"
   ]
  },
  {
   "cell_type": "code",
   "execution_count": 115,
   "id": "1d69cd93",
   "metadata": {},
   "outputs": [],
   "source": [
    "assert K(n) != K(0) #ensure n is invertible \n",
    "assert gcd(p-1,n) != 1 #ensure a primitive n-th root of unity exists"
   ]
  },
  {
   "cell_type": "code",
   "execution_count": 116,
   "id": "49678f46",
   "metadata": {},
   "outputs": [],
   "source": [
    "#find an n-th root in finite field of size p\n",
    "def primitive_root(K,n):\n",
    "    for a in K:\n",
    "        if a != 1 and a**n == 1:\n",
    "            return a"
   ]
  },
  {
   "cell_type": "code",
   "execution_count": 117,
   "id": "2d4287ef",
   "metadata": {},
   "outputs": [],
   "source": [
    "#list to be transformed\n",
    "v = [K(i) for i in range(n)]\n",
    "alpha = primitive_root(K,n)"
   ]
  },
  {
   "cell_type": "code",
   "execution_count": 22,
   "id": "2de10cbd",
   "metadata": {},
   "outputs": [],
   "source": [
    "#DFT over a ring with primitive root alpha\n",
    "def fourier_transform(v,alpha):\n",
    "    return [sum(v[j]*alpha**(j*k) for j in range(len(v))) for k in range(len(v))]"
   ]
  },
  {
   "cell_type": "code",
   "execution_count": 110,
   "id": "67941c03",
   "metadata": {},
   "outputs": [
    {
     "data": {
      "text/plain": [
       "[1, 10, 7, 3, 8, 6, 4, 9, 5, 2]"
      ]
     },
     "execution_count": 110,
     "metadata": {},
     "output_type": "execute_result"
    }
   ],
   "source": [
    "f=fourier_transform(v,alpha); f"
   ]
  },
  {
   "cell_type": "code",
   "execution_count": 37,
   "id": "c522b631",
   "metadata": {},
   "outputs": [],
   "source": [
    "#define the inverse Fourier transform\n",
    "def inverse_fourier_transform(f,alpha):\n",
    "    return [K(1/len(f))*sum(f[k]*alpha**(-j*k) for k in range(len(f))) for j in range(len(f))]"
   ]
  },
  {
   "cell_type": "code",
   "execution_count": 111,
   "id": "fe53ff25",
   "metadata": {},
   "outputs": [
    {
     "data": {
      "text/plain": [
       "[0, 1, 2, 3, 4, 5, 6, 7, 8, 9]"
      ]
     },
     "execution_count": 111,
     "metadata": {},
     "output_type": "execute_result"
    }
   ],
   "source": [
    "inverse_fourier_transform(f,alpha)"
   ]
  },
  {
   "cell_type": "code",
   "execution_count": 40,
   "id": "563a4ad0",
   "metadata": {},
   "outputs": [
    {
     "data": {
      "text/plain": [
       "5"
      ]
     },
     "execution_count": 40,
     "metadata": {},
     "output_type": "execute_result"
    }
   ],
   "source": [
    "K(1/len(f))"
   ]
  },
  {
   "cell_type": "code",
   "execution_count": null,
   "id": "f7bef1e3",
   "metadata": {},
   "outputs": [],
   "source": []
  }
 ],
 "metadata": {
  "kernelspec": {
   "display_name": "SageMath 10.1",
   "language": "sage",
   "name": "sagemath"
  },
  "language_info": {
   "codemirror_mode": {
    "name": "ipython",
    "version": 3
   },
   "file_extension": ".py",
   "mimetype": "text/x-python",
   "name": "python",
   "nbconvert_exporter": "python",
   "pygments_lexer": "ipython3",
   "version": "3.11.1"
  }
 },
 "nbformat": 4,
 "nbformat_minor": 5
}
