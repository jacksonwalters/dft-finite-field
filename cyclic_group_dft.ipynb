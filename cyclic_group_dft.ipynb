{
 "cells": [
  {
   "cell_type": "code",
   "execution_count": 1,
   "id": "98783dcf",
   "metadata": {},
   "outputs": [],
   "source": [
    "#https://en.wikipedia.org/wiki/Discrete_Fourier_transform_over_a_ring\n",
    "#implementation of the discrete Fourier transform over a ring R\n",
    "#can assume R is an integral domain\n",
    "#so just choose \\alpha a primitive n-th root of unity, i.e. \\alpha^n=1, \\alpha \\ne 1\n",
    "#ensure n invertible, i.e. p=char(R) does not divide n\n",
    "#note x^{p-1} = 1, so we require n|p-1"
   ]
  },
  {
   "cell_type": "code",
   "execution_count": 2,
   "id": "b8d05398",
   "metadata": {},
   "outputs": [],
   "source": [
    "#find an n-th root in finite field K\n",
    "def primitive_root(K,n):\n",
    "    for a in K:\n",
    "        if a**n == 1 and all(a**k != 1 for k in range(1,n)):\n",
    "            return a"
   ]
  },
  {
   "cell_type": "code",
   "execution_count": 3,
   "id": "d109015b-1b4e-426b-be88-d40c20a1f5ca",
   "metadata": {},
   "outputs": [],
   "source": [
    "#find an n^th root over unity in an extension F_q of F_p\n",
    "#note that if p|n, n==0 mod p, so there is no n^th root over F_p^r\n",
    "def primitive_root_unity(p,n):\n",
    "    assert not p.divides(n)\n",
    "    #find an n^th root of unity over F_q\n",
    "    r = 1\n",
    "    while not n.divides(p**r - 1):\n",
    "        r += 1\n",
    "    q = p**r\n",
    "    k.<a> = GF(q)\n",
    "    return a^((q-1)/n), k"
   ]
  },
  {
   "cell_type": "code",
   "execution_count": 4,
   "id": "59ddb742",
   "metadata": {},
   "outputs": [],
   "source": [
    "#DFT over a ring with primitive root alpha\n",
    "def fourier_transform(v,alpha):\n",
    "    return [sum(v[j]*alpha**(j*k) for j in range(len(v))) for k in range(len(v))]"
   ]
  },
  {
   "cell_type": "code",
   "execution_count": 5,
   "id": "778df252",
   "metadata": {},
   "outputs": [],
   "source": [
    "#define the inverse Fourier transform\n",
    "def inverse_fourier_transform(f,alpha):\n",
    "    return [K(1/len(f))*sum(f[k]*alpha**(-j*k) for k in range(len(f))) for j in range(len(f))]"
   ]
  },
  {
   "cell_type": "code",
   "execution_count": 6,
   "id": "3f458e24",
   "metadata": {},
   "outputs": [],
   "source": [
    "#we are looking at the group algebra F_p[C_N]\n",
    "#this is F_p[x]/(x^N-1)\n",
    "#if p|N, we can write (x^N-1) = (x^m-1)^{p^s} for some s\n",
    "#we are looking at roots of unity mod p\n",
    "#to factor x^m-1, use cyclotomic polynomials: x^m-1 = \\prod_{d|m} phi_d(x)\n",
    "#to factor phi_d(x) in F_p, that's equivalent to looking at (p) in Z[x]/Phi_d(x) = Z[zeta]\n",
    "#(p) = P_1...P_g where each P_i has the same residue degree f\n",
    "#Here f*g = phi(d), and f is the order of p modulo d, phi is Euler totient\n",
    "#phi_d(x) factors in F_p[x] into g polynomials, each of degree f\n",
    "#thus F_p[x]/(x^N-1) \\cong \\prod_{d|m} \\prod_{i=1}^g F_p[x]/(P_i^{p^s})\n",
    "#by the Chinese remainder theorem\n",
    "#i.e. just factor x^N-1 mod p, and map onto residue classes\n",
    "#we can also factor over a splitting field, F_q\n",
    "#this will result in linear factors, with possible multiplicity if p|N"
   ]
  },
  {
   "cell_type": "code",
   "execution_count": 47,
   "id": "295e02b4",
   "metadata": {},
   "outputs": [],
   "source": [
    "#h is an element of F_p[C_N]\n",
    "#that is, h = h0+h1*x+h2x^2+...+h_{N-1}x^N-1\n",
    "#we allow h as a list of N numbers modulo p\n",
    "#h = [h0,h1,h2,...,h_{N-1}]\n",
    "def discrete_fourier_transform(h,p,splitting_field=False):\n",
    "    #length of list is size of N\n",
    "    N = len(h)\n",
    "    #define the polynomial ring F_p[x]\n",
    "    R = PolynomialRing(GF(p),'x')\n",
    "    #name the generator x an element of R\n",
    "    x = R.0\n",
    "    #define the polynomial x^N-1\n",
    "    f = x**N-1; assert f in R\n",
    "    if splitting_field:\n",
    "        K.<a> = f.splitting_field()\n",
    "        #define the polynomial ring over extended base field\n",
    "        R = PolynomialRing(K,'x')\n",
    "        #name the generator x an element of R\n",
    "        x = R.0\n",
    "        #define the polynomial x^N-1\n",
    "        f = x**N-1; assert f in R\n",
    "    #define the quotient ring F_p[x]/(x^N-1)\n",
    "    S = R.quotient(x^N - 1, 'x')\n",
    "    #transform the list of coefficients of h into a polynomial in R=F_p[x]\n",
    "    h = sum(h[i]*x**i for i in range(N)); assert h in S\n",
    "    #factor f in F_p[x], save as list of factors and multiplicities\n",
    "    f_factors = list(f.factor())\n",
    "    #implement the Chinese remainder theorem mapping S=F_p[x]/(x^N-1) --> \\prod_i R/(factor_i^mult_i)\n",
    "    h_transform=[list(R.quotient(f_factors[i][0]**f_factors[i][1])(h)) for i in range(len(f_factors))]\n",
    "    return h_transform"
   ]
  },
  {
   "cell_type": "code",
   "execution_count": 8,
   "id": "c481e8ff-7c1b-4014-bb79-b8cde6d652c1",
   "metadata": {},
   "outputs": [],
   "source": [
    "def dft_matrix(p,n):\n",
    "    return matrix([flatten(discrete_fourier_transform([1 if i==j else 0 for j in range(n)],p,splitting_field=True)) for i in range(n)]).transpose()"
   ]
  },
  {
   "cell_type": "code",
   "execution_count": 9,
   "id": "8ab529df-7923-4b23-bfc9-b77296d14d06",
   "metadata": {},
   "outputs": [],
   "source": [
    "#compute the DFT matrix as a Vandermonde matrix over F_q\n",
    "#find a primitive n^th root of unity over F_q as long as n == 0 over F_p\n",
    "def dft_matrix_vandermonde(p,n):\n",
    "    alpha, k = primitive_root_unity(p,n)\n",
    "    return matrix(k, [[alpha^(i*j) for i in range(n)] for j in range(n)])"
   ]
  },
  {
   "cell_type": "code",
   "execution_count": 63,
   "id": "9203225a-5bff-44d5-b97b-569f86bb9287",
   "metadata": {},
   "outputs": [
    {
     "data": {
      "text/plain": [
       "[      1       1       1       1]\n",
       "[      1   a + 1       2 2*a + 2]\n",
       "[      1       2       1       2]\n",
       "[      1 2*a + 2       2   a + 1]"
      ]
     },
     "execution_count": 63,
     "metadata": {},
     "output_type": "execute_result"
    }
   ],
   "source": [
    "dft_matrix_vandermonde(3,4)"
   ]
  },
  {
   "cell_type": "code",
   "execution_count": 54,
   "id": "05188fd2-ac54-48e7-a795-09b4a3eee7d8",
   "metadata": {},
   "outputs": [
    {
     "data": {
      "text/plain": [
       "9"
      ]
     },
     "execution_count": 54,
     "metadata": {},
     "output_type": "execute_result"
    }
   ],
   "source": [
    "dft_matrix(3,4).base_ring().order()"
   ]
  },
  {
   "cell_type": "code",
   "execution_count": 58,
   "id": "2fde7fe0-4330-4a04-a926-769f53a126b9",
   "metadata": {},
   "outputs": [
    {
     "data": {
      "text/plain": [
       "a"
      ]
     },
     "execution_count": 58,
     "metadata": {},
     "output_type": "execute_result"
    }
   ],
   "source": [
    "dft_matrix(3,4).base_ring().gen()"
   ]
  },
  {
   "cell_type": "code",
   "execution_count": 61,
   "id": "f34f8070-acf1-4b76-9d5e-c4f46af3f9bd",
   "metadata": {},
   "outputs": [
    {
     "name": "stdout",
     "output_type": "stream",
     "text": [
      "0\n",
      "80\n"
     ]
    },
    {
     "data": {
      "text/plain": [
       "[None, None]"
      ]
     },
     "execution_count": 61,
     "metadata": {},
     "output_type": "execute_result"
    }
   ],
   "source": [
    "[print(k) for k in range(100) if dft_matrix(3,5)^k == identity_matrix(5)]"
   ]
  },
  {
   "cell_type": "code",
   "execution_count": 112,
   "id": "21197a61-6037-401c-8db9-338f2c22f5c8",
   "metadata": {},
   "outputs": [
    {
     "data": {
      "text/plain": [
       "Finite Field in a of size 3^5"
      ]
     },
     "execution_count": 112,
     "metadata": {},
     "output_type": "execute_result"
    }
   ],
   "source": [
    "dft_matrix_vandermonde(3,11).base_ring()"
   ]
  },
  {
   "cell_type": "code",
   "execution_count": 94,
   "id": "20de5e94-3d77-40bd-9360-fcba6ee35ab0",
   "metadata": {},
   "outputs": [
    {
     "data": {
      "text/plain": [
       "(x + 2)^6 * (x + a^19 + 2*a^18 + 2*a^17 + a^15 + 2*a^14 + 2*a^13 + 2*a^12 + a^10 + a^9 + 2*a^8 + a^7 + 2*a^4 + 2*a^3 + a^2 + 1)^6 * (x + 2*a^19 + a^18 + a^17 + 2*a^15 + a^14 + a^13 + a^12 + 2*a^10 + 2*a^9 + a^8 + 2*a^7 + a^4 + a^3 + 2*a^2 + 2)^6 * (x + 1)^7"
      ]
     },
     "execution_count": 94,
     "metadata": {},
     "output_type": "execute_result"
    }
   ],
   "source": [
    "dft_matrix_vandermonde(3,25).charpoly().factor()"
   ]
  },
  {
   "cell_type": "code",
   "execution_count": 125,
   "id": "77e959db-6c9e-4745-ad27-16914b787ec7",
   "metadata": {},
   "outputs": [
    {
     "name": "stdout",
     "output_type": "stream",
     "text": [
      "Finite Field in a of size 3^10\n",
      "[1, 1, 2, 2, 2, 2*a^9 + 2*a^7 + a^6 + 2*a^4 + 2*a^3 + a^2 + 2*a + 1, 2*a^9 + 2*a^7 + a^6 + 2*a^4 + 2*a^3 + a^2 + 2*a + 1, 2*a^9 + 2*a^7 + a^6 + 2*a^4 + 2*a^3 + a^2 + 2*a + 1, a^9 + a^7 + 2*a^6 + a^4 + a^3 + 2*a^2 + a + 2, a^9 + a^7 + 2*a^6 + a^4 + a^3 + 2*a^2 + a + 2, a^9 + a^7 + 2*a^6 + a^4 + a^3 + 2*a^2 + a + 2]\n",
      "4\n"
     ]
    },
    {
     "data": {
      "text/plain": [
       "[1, 1, 2, 2, 2, 4, 4, 4, 4, 4, 4]"
      ]
     },
     "execution_count": 125,
     "metadata": {},
     "output_type": "execute_result"
    }
   ],
   "source": [
    "#it appears the eigenvalues are 1, -1, and two elements of order 4, just as in the complex case. \n",
    "k.<a> = dft_matrix_vandermonde(3,11).charpoly().splitting_field()\n",
    "print(k)\n",
    "eigs = matrix(k,dft_matrix_vandermonde(3,11)).eigenvalues(extend=False); print(eigs)\n",
    "print(len(set(eigs)))\n",
    "[eig.multiplicative_order() for eig in eigs]"
   ]
  },
  {
   "cell_type": "code",
   "execution_count": 137,
   "id": "c5daf250-9cca-4577-9bf1-78fdafdd8528",
   "metadata": {},
   "outputs": [
    {
     "data": {
      "text/plain": [
       "a^9 + a^7 + 2*a^6 + a^4 + a^3 + 2*a^2 + a + 2"
      ]
     },
     "execution_count": 137,
     "metadata": {},
     "output_type": "execute_result"
    }
   ],
   "source": [
    "a^(-(3^10-1)/4)"
   ]
  },
  {
   "cell_type": "code",
   "execution_count": 11,
   "id": "a7ca41fa-7a7e-4516-8b23-c88e013eb73a",
   "metadata": {},
   "outputs": [
    {
     "data": {
      "text/plain": [
       "2*a + 2"
      ]
     },
     "execution_count": 11,
     "metadata": {},
     "output_type": "execute_result"
    }
   ],
   "source": [
    "dft_matrix_vandermonde(3,4).base_ring().gen()^6"
   ]
  },
  {
   "cell_type": "code",
   "execution_count": 12,
   "id": "dee911c4-2cad-43b7-97cf-ebaf9eb08d2b",
   "metadata": {},
   "outputs": [
    {
     "data": {
      "text/plain": [
       "2*a + 2"
      ]
     },
     "execution_count": 12,
     "metadata": {},
     "output_type": "execute_result"
    }
   ],
   "source": [
    "dft_matrix_vandermonde(3,4).det()"
   ]
  },
  {
   "cell_type": "code",
   "execution_count": 13,
   "id": "c743b228-4436-45f1-aaee-36cffeb38c2c",
   "metadata": {},
   "outputs": [
    {
     "data": {
      "text/plain": [
       "a + 1"
      ]
     },
     "execution_count": 13,
     "metadata": {},
     "output_type": "execute_result"
    }
   ],
   "source": [
    "dft_matrix(3,4).det()"
   ]
  },
  {
   "cell_type": "code",
   "execution_count": 14,
   "id": "05195242-a3be-48b6-b0d0-e835dc06d0b2",
   "metadata": {},
   "outputs": [
    {
     "data": {
      "text/plain": [
       "[a, a + 1, 2*a^3 + 1, 2*a^3 + 2*a^2 + 2, a^3 + a^2 + 1]"
      ]
     },
     "execution_count": 14,
     "metadata": {},
     "output_type": "execute_result"
    }
   ],
   "source": [
    "k.<a> = dft_matrix(3,5).charpoly().splitting_field()\n",
    "matrix(k,dft_matrix(3,5)).eigenvalues(extend=False)"
   ]
  },
  {
   "cell_type": "code",
   "execution_count": 15,
   "id": "5e4c71a2-5417-4e22-8423-95374b48eb46",
   "metadata": {},
   "outputs": [
    {
     "data": {
      "text/plain": [
       "(x + 2*a + 2) * (x^3 + (2*a + 1)*x^2 + 2*a*x + 2)"
      ]
     },
     "execution_count": 15,
     "metadata": {},
     "output_type": "execute_result"
    }
   ],
   "source": [
    "dft_matrix(3,4).charpoly().factor()"
   ]
  },
  {
   "cell_type": "code",
   "execution_count": 16,
   "id": "1e61e976-b9e4-4dfd-a56e-c519d37c9f06",
   "metadata": {},
   "outputs": [
    {
     "data": {
      "text/plain": [
       "[(2, 1), (1, 1), (a^3 + a^2 + 1, 1), (2*a^3 + 2*a^2 + 2, 2)]"
      ]
     },
     "execution_count": 16,
     "metadata": {},
     "output_type": "execute_result"
    }
   ],
   "source": [
    "dft_matrix_vandermonde(3,5).charpoly().roots()"
   ]
  },
  {
   "cell_type": "code",
   "execution_count": 17,
   "id": "13441c72-f051-4f5b-b5aa-3c3498826f25",
   "metadata": {},
   "outputs": [
    {
     "data": {
      "text/plain": [
       "[2, 1, a^3 + a^2 + 1, 2*a^3 + 2*a^2 + 2, 2*a^3 + 2*a^2 + 2]"
      ]
     },
     "execution_count": 17,
     "metadata": {},
     "output_type": "execute_result"
    }
   ],
   "source": [
    "k.<a> = dft_matrix_vandermonde(3,5).charpoly().splitting_field()\n",
    "matrix(k,dft_matrix_vandermonde(3,5)).eigenvalues(extend=False)"
   ]
  },
  {
   "cell_type": "code",
   "execution_count": 18,
   "id": "b242151c-b021-45f0-bb0d-2bdfaf94690e",
   "metadata": {},
   "outputs": [
    {
     "data": {
      "text/plain": [
       "[[2], [1], [2*a + 2], [a + 1]]"
      ]
     },
     "execution_count": 18,
     "metadata": {},
     "output_type": "execute_result"
    }
   ],
   "source": [
    "discrete_fourier_transform([0, 1, 0, 0],3,splitting_field=True)"
   ]
  },
  {
   "cell_type": "code",
   "execution_count": 19,
   "id": "67415f90-2231-4287-9f51-bd46fb642734",
   "metadata": {},
   "outputs": [],
   "source": [
    "#find the \\sqrt{n} in a splitting field of x^n-1 over F_p\n",
    "def square_root_splitting_field(p,n):\n",
    "    #define the polynomial ring F_p[x]\n",
    "    R = PolynomialRing(GF(p),'x')\n",
    "    #name the generator x an element of R\n",
    "    x = R.0\n",
    "    #define the polynomial x^N-1\n",
    "    f = x**n-1; assert f in R\n",
    "    #find the splitting field \n",
    "    K.<a> = f.splitting_field()\n",
    "    #embed n in the field K, and take the square root\n",
    "    return sqrt(K(n))"
   ]
  },
  {
   "cell_type": "code",
   "execution_count": 20,
   "id": "7cff486a-88fe-4327-8d54-6c959f78644a",
   "metadata": {},
   "outputs": [
    {
     "data": {
      "text/plain": [
       "[1 0 0 0 0 0]\n",
       "[0 1 0 0 0 0]\n",
       "[0 0 1 0 0 0]\n",
       "[0 0 0 1 0 0]\n",
       "[0 0 0 0 1 0]\n",
       "[0 0 0 0 0 1]"
      ]
     },
     "execution_count": 20,
     "metadata": {},
     "output_type": "execute_result"
    }
   ],
   "source": [
    "dft_matrix(5,6)^120"
   ]
  },
  {
   "cell_type": "code",
   "execution_count": 21,
   "id": "4189f039-c2ef-4c8a-a682-308308d6871b",
   "metadata": {},
   "outputs": [
    {
     "data": {
      "text/plain": [
       "Finite Field in a of size 3^6"
      ]
     },
     "execution_count": 21,
     "metadata": {},
     "output_type": "execute_result"
    }
   ],
   "source": [
    "dft_matrix(3,4).charpoly().splitting_field('a')"
   ]
  },
  {
   "cell_type": "code",
   "execution_count": 22,
   "id": "a55cf9f4",
   "metadata": {},
   "outputs": [],
   "source": [
    "def inv_discrete_fourier_transform(hhat,p,splitting_field=False):\n",
    "    N = sum(len(l) for l in hhat)\n",
    "    #define the polynomial ring F_p[x]\n",
    "    R = PolynomialRing(GF(p),'x')\n",
    "    #name the generator x an element of R\n",
    "    x = R.0\n",
    "    #define the polynomial x^N-1\n",
    "    f = x**N-1; assert f in R\n",
    "    if splitting_field:\n",
    "        K.<a> = f.splitting_field()\n",
    "        #define the polynomial ring over extended base field\n",
    "        R = PolynomialRing(K,'x')\n",
    "        #name the generator x an element of R\n",
    "        x = R.0\n",
    "        #define the polynomial x^N-1\n",
    "        f = x**N-1; assert f in R\n",
    "    S = R.quotient(x^N - 1, 'x')\n",
    "    f_factors = list(f.factor())\n",
    "    #perform inverse of Chinese remainder theorem\n",
    "    #for each modulus N_i = N/n_i, where n_i is the modulus of each factor\n",
    "    #Bezout's theorem applies, so we get M_i*N_i + m_i*n_i = 1\n",
    "    #a solution x = \\sum_{i=1}^k a_i*M_i*N_i, where a_i are the remainders\n",
    "    n = [f_factors[i][0]**f_factors[i][1] for i in range(len(f_factors))]\n",
    "    #get coefficients M_i, m_i from N_i, n_i\n",
    "    M = [xgcd(f/n[i],n[i])[1] for i in range(len(n))]\n",
    "    #get remainders as polynomials in R\n",
    "    a = [sum(hhat[i][j]*x**j for j in range(len(hhat[i]))) for i in range(len(hhat))]\n",
    "    inv_transform = sum(a[i]*M[i]*(f/n[i]) for i in range(len(a)))\n",
    "    return list(S(inv_transform))"
   ]
  },
  {
   "cell_type": "code",
   "execution_count": 23,
   "id": "264b43d7",
   "metadata": {},
   "outputs": [
    {
     "data": {
      "text/plain": [
       "[0, 0, 0, 0, 0, 1]"
      ]
     },
     "execution_count": 23,
     "metadata": {},
     "output_type": "execute_result"
    }
   ],
   "source": [
    "inv_discrete_fourier_transform([[4], [1], [4, 4], [1, 4]],5)"
   ]
  },
  {
   "cell_type": "code",
   "execution_count": 24,
   "id": "8ccb6820",
   "metadata": {},
   "outputs": [
    {
     "data": {
      "text/plain": [
       "[1, 1, 1, 1, 1, 1]"
      ]
     },
     "execution_count": 24,
     "metadata": {},
     "output_type": "execute_result"
    }
   ],
   "source": [
    "n=6; p=7\n",
    "#finite field of size p\n",
    "K = GF(p)\n",
    "assert K(n) != K(0) #ensure n is invertible\n",
    "assert n.divides(p-1) #ensure a primitive n-th root of unity exists\n",
    "#list to be transformed\n",
    "v = [K(1) for i in range(n)]\n",
    "alpha = primitive_root(K,n)\n",
    "f=fourier_transform(v,alpha); f\n",
    "inverse_fourier_transform(f,alpha)"
   ]
  },
  {
   "cell_type": "code",
   "execution_count": 25,
   "id": "2adbca9c-22c7-4041-b88c-64ba14be123e",
   "metadata": {},
   "outputs": [
    {
     "name": "stdout",
     "output_type": "stream",
     "text": [
      "x^3 + 2\n",
      "2*x^3 + 2\n"
     ]
    }
   ],
   "source": [
    "from sage.misc.flatten import flatten\n",
    "#idempotent corresponding to (1,0) in the product of quotient rings for p=3, N=6\n",
    "quotient_idem_0 = [[1,0,0],[0,0,0]]\n",
    "#idempotent corresponding to (0,1) in the product of quotient rings for p=3, N=6\n",
    "quotient_idem_1 = [[0,0,0],[1,0,0]]\n",
    "N = len(flatten(quotient_idem_0))\n",
    "R = PolynomialRing(GF(3),'x')\n",
    "S = R.quotient(x^N - 1, 'x')\n",
    "x = R.0 #name the generator x an element of R\n",
    "inv_FT_0 = inv_discrete_fourier_transform(quotient_idem_0,3,splitting_field=False) #inverse FT\n",
    "idem_0 = sum(inv_FT_0[i]*x**i for i in range(N)); assert idem_0 in S #map list to poly in S\n",
    "inv_FT_1 = inv_discrete_fourier_transform(quotient_idem_1,3,splitting_field=False) #inverse DFT \n",
    "idem_1 = sum(inv_FT_1[i]*x**i for i in range(N)); assert idem_1 in S #map list to poly in S\n",
    "print(idem_0); print(idem_1)"
   ]
  },
  {
   "cell_type": "code",
   "execution_count": null,
   "id": "7e9fe429-252a-4f7a-b7fc-54d8a3fee761",
   "metadata": {},
   "outputs": [],
   "source": []
  }
 ],
 "metadata": {
  "kernelspec": {
   "display_name": "SageMath 10.3",
   "language": "sage",
   "name": "sagemath-10.3"
  },
  "language_info": {
   "codemirror_mode": {
    "name": "ipython",
    "version": 3
   },
   "file_extension": ".py",
   "mimetype": "text/x-python",
   "name": "python",
   "nbconvert_exporter": "python",
   "pygments_lexer": "ipython3",
   "version": "3.11.1"
  }
 },
 "nbformat": 4,
 "nbformat_minor": 5
}
