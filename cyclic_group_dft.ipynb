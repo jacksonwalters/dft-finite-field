{
 "cells": [
  {
   "cell_type": "code",
   "execution_count": 29,
   "id": "98783dcf",
   "metadata": {},
   "outputs": [],
   "source": [
    "#https://en.wikipedia.org/wiki/Discrete_Fourier_transform_over_a_ring\n",
    "#implementation of the discrete Fourier transform over a ring R\n",
    "#can assume R is an integral domain\n",
    "#so just choose \\alpha a primitive n-th root of unity, i.e. \\alpha^n=1, \\alpha \\ne 1\n",
    "#ensure n invertible, i.e. p=char(R) does not divide n\n",
    "#note x^{p-1} = 1, so we require n|p-1"
   ]
  },
  {
   "cell_type": "code",
   "execution_count": 30,
   "id": "b8d05398",
   "metadata": {},
   "outputs": [],
   "source": [
    "#find an n-th root in finite field of size p\n",
    "def primitive_root(K,n):\n",
    "    for a in K:\n",
    "        if a**n == 1 and all(a**k != 1 for k in range(1,n)):\n",
    "            return a"
   ]
  },
  {
   "cell_type": "code",
   "execution_count": 31,
   "id": "59ddb742",
   "metadata": {},
   "outputs": [],
   "source": [
    "#DFT over a ring with primitive root alpha\n",
    "def fourier_transform(v,alpha):\n",
    "    return [sum(v[j]*alpha**(j*k) for j in range(len(v))) for k in range(len(v))]"
   ]
  },
  {
   "cell_type": "code",
   "execution_count": 32,
   "id": "778df252",
   "metadata": {},
   "outputs": [],
   "source": [
    "#define the inverse Fourier transform\n",
    "def inverse_fourier_transform(f,alpha):\n",
    "    return [K(1/len(f))*sum(f[k]*alpha**(-j*k) for k in range(len(f))) for j in range(len(f))]"
   ]
  },
  {
   "cell_type": "code",
   "execution_count": 5,
   "id": "3f458e24",
   "metadata": {},
   "outputs": [],
   "source": [
    "#we are looking at the group algebra F_p[C_N]\n",
    "#this is F_p[x]/(x^N-1)\n",
    "#if p|N, we can write (x^N-1) = (x^m-1)^{p^s} for some s\n",
    "#we are looking at roots of unity mod p\n",
    "#to factor x^m-1, use cyclotomic polynomials: x^m-1 = \\prod_{d|m} phi_d(x)\n",
    "#to factor phi_d(x) in F_p, that's equivalent to looking at (p) in Z[x]/Phi_d(x) = Z[zeta]\n",
    "#(p) = P_1...P_g where each P_i has the same residue degree f\n",
    "#Here f*g = phi(d), and f is the order of p modulo d, phi is Euler totient\n",
    "#phi_d(x) factors in F_p[x] into g polynomials, each of degree f\n",
    "#thus F_p[x]/(x^N-1) \\cong \\prod_{d|m} \\prod_{i=1}^g F_p[x]/(P_i^{p^s})\n",
    "#by the Chinese remainder theorem\n",
    "#i.e. just factor x^N-1 mod p, and map onto residue classes\n",
    "#we can also factor over a splitting field, F_q\n",
    "#this will result in linear factors, with possible multiplicity if p|N"
   ]
  },
  {
   "cell_type": "code",
   "execution_count": 33,
   "id": "295e02b4",
   "metadata": {},
   "outputs": [],
   "source": [
    "#h is an element of F_p[C_N]\n",
    "#that is, h = h0+h1*x+h2x^2+...+h_{N-1}x^N-1\n",
    "#we allow h as a list of N numbers modulo p\n",
    "#h = [h0,h1,h2,...,h_{N-1}]\n",
    "def discrete_fourier_transform(h,p,splitting_field=False):\n",
    "    #length of list is size of N\n",
    "    N = len(h)\n",
    "    #define the polynomial ring F_p[x]\n",
    "    R = PolynomialRing(GF(p),'x')\n",
    "    #name the generator x an element of R\n",
    "    x = R.0\n",
    "    #define the polynomial x^N-1\n",
    "    f = x**N-1; assert f in R\n",
    "    if splitting_field:\n",
    "        K.<a> = f.splitting_field()\n",
    "        #define the polynomial ring over extended base field\n",
    "        R = PolynomialRing(K,'x')\n",
    "        #name the generator x an element of R\n",
    "        x = R.0\n",
    "        #define the polynomial x^N-1\n",
    "        f = x**N-1; assert f in R\n",
    "    #define the quotient ring F_p[x]/(x^N-1)\n",
    "    S = R.quotient(x^N - 1, 'x')\n",
    "    #transform the list of coefficients of h into a polynomial in R=F_p[x]\n",
    "    h = sum(h[i]*x**i for i in range(N)); assert h in S\n",
    "    #factor f in F_p[x], save as list of factors and multiplicities\n",
    "    f_factors = list(f.factor())\n",
    "    #implement the Chinese remainder theorem mapping S=F_p[x]/(x^N-1) --> \\prod_i R/(factor_i^mult_i)\n",
    "    h_transform=[list(R.quotient(f_factors[i][0]**f_factors[i][1])(h)) for i in range(len(f_factors))]\n",
    "    return h_transform"
   ]
  },
  {
   "cell_type": "code",
   "execution_count": 47,
   "id": "c481e8ff-7c1b-4014-bb79-b8cde6d652c1",
   "metadata": {},
   "outputs": [],
   "source": [
    "def dft_matrix(p,n):\n",
    "    return matrix([flatten(discrete_fourier_transform([1 if i==j else 0 for j in range(n)],p,splitting_field=True)) for i in range(n)]).transpose()"
   ]
  },
  {
   "cell_type": "code",
   "execution_count": 87,
   "id": "7966ee43-502c-4df8-a269-16a555fdf466",
   "metadata": {},
   "outputs": [
    {
     "data": {
      "text/plain": [
       "[      1       2       1       2]\n",
       "[      1       1       1       1]\n",
       "[      1 2*a + 2       2   a + 1]\n",
       "[      1   a + 1       2 2*a + 2]"
      ]
     },
     "execution_count": 87,
     "metadata": {},
     "output_type": "execute_result"
    }
   ],
   "source": [
    "dft_matrix(3,4)"
   ]
  },
  {
   "cell_type": "code",
   "execution_count": 91,
   "id": "7cff486a-88fe-4327-8d54-6c959f78644a",
   "metadata": {},
   "outputs": [
    {
     "data": {
      "text/plain": [
       "[      1       4       1       4       1       4]\n",
       "[      1       1       1       1       1       1]\n",
       "[      1 3*a + 4 3*a + 3       4 2*a + 1 2*a + 2]\n",
       "[      1 3*a + 3 2*a + 1       1 3*a + 3 2*a + 1]\n",
       "[      1 2*a + 2 2*a + 1       4 3*a + 3 3*a + 4]\n",
       "[      1 2*a + 1 3*a + 3       1 2*a + 1 3*a + 3]"
      ]
     },
     "execution_count": 91,
     "metadata": {},
     "output_type": "execute_result"
    }
   ],
   "source": [
    "dft_matrix(5,6)"
   ]
  },
  {
   "cell_type": "code",
   "execution_count": 99,
   "id": "4189f039-c2ef-4c8a-a682-308308d6871b",
   "metadata": {},
   "outputs": [
    {
     "data": {
      "text/plain": [
       "Finite Field in a of size 3^6"
      ]
     },
     "execution_count": 99,
     "metadata": {},
     "output_type": "execute_result"
    }
   ],
   "source": [
    "dft_matrix(3,4).charpoly().splitting_field('a')"
   ]
  },
  {
   "cell_type": "code",
   "execution_count": 38,
   "id": "a55cf9f4",
   "metadata": {},
   "outputs": [],
   "source": [
    "def inv_discrete_fourier_transform(hhat,p,splitting_field=False):\n",
    "    N = sum(len(l) for l in hhat)\n",
    "    #define the polynomial ring F_p[x]\n",
    "    R = PolynomialRing(GF(p),'x')\n",
    "    #name the generator x an element of R\n",
    "    x = R.0\n",
    "    #define the polynomial x^N-1\n",
    "    f = x**N-1; assert f in R\n",
    "    if splitting_field:\n",
    "        K.<a> = f.splitting_field()\n",
    "        #define the polynomial ring over extended base field\n",
    "        R = PolynomialRing(K,'x')\n",
    "        #name the generator x an element of R\n",
    "        x = R.0\n",
    "        #define the polynomial x^N-1\n",
    "        f = x**N-1; assert f in R\n",
    "    S = R.quotient(x^N - 1, 'x')\n",
    "    f_factors = list(f.factor())\n",
    "    #perform inverse of Chinese remainder theorem\n",
    "    #for each modulus N_i = N/n_i, where n_i is the modulus of each factor\n",
    "    #Bezout's theorem applies, so we get M_i*N_i + m_i*n_i = 1\n",
    "    #a solution x = \\sum_{i=1}^k a_i*M_i*N_i, where a_i are the remainders\n",
    "    n = [f_factors[i][0]**f_factors[i][1] for i in range(len(f_factors))]\n",
    "    #get coefficients M_i, m_i from N_i, n_i\n",
    "    M = [xgcd(f/n[i],n[i])[1] for i in range(len(n))]\n",
    "    #get remainders as polynomials in R\n",
    "    a = [sum(hhat[i][j]*x**j for j in range(len(hhat[i]))) for i in range(len(hhat))]\n",
    "    inv_transform = sum(a[i]*M[i]*(f/n[i]) for i in range(len(a)))\n",
    "    return list(S(inv_transform))"
   ]
  },
  {
   "cell_type": "code",
   "execution_count": 39,
   "id": "264b43d7",
   "metadata": {},
   "outputs": [
    {
     "data": {
      "text/plain": [
       "[0, 0, 0, 0, 0, 1]"
      ]
     },
     "execution_count": 39,
     "metadata": {},
     "output_type": "execute_result"
    }
   ],
   "source": [
    "inv_discrete_fourier_transform([[4], [1], [4, 4], [1, 4]],5)"
   ]
  },
  {
   "cell_type": "code",
   "execution_count": 40,
   "id": "8ccb6820",
   "metadata": {},
   "outputs": [
    {
     "data": {
      "text/plain": [
       "[1, 1, 1, 1, 1, 1]"
      ]
     },
     "execution_count": 40,
     "metadata": {},
     "output_type": "execute_result"
    }
   ],
   "source": [
    "n=6; p=7\n",
    "#finite field of size p\n",
    "K = GF(p)\n",
    "assert K(n) != K(0) #ensure n is invertible\n",
    "assert n.divides(p-1) #ensure a primitive n-th root of unity exists\n",
    "#list to be transformed\n",
    "v = [K(1) for i in range(n)]\n",
    "alpha = primitive_root(K,n)\n",
    "f=fourier_transform(v,alpha); f\n",
    "inverse_fourier_transform(f,alpha)"
   ]
  },
  {
   "cell_type": "code",
   "execution_count": 41,
   "id": "2adbca9c-22c7-4041-b88c-64ba14be123e",
   "metadata": {},
   "outputs": [
    {
     "name": "stdout",
     "output_type": "stream",
     "text": [
      "x^3 + 2\n",
      "2*x^3 + 2\n"
     ]
    }
   ],
   "source": [
    "from sage.misc.flatten import flatten\n",
    "#idempotent corresponding to (1,0) in the product of quotient rings for p=3, N=6\n",
    "quotient_idem_0 = [[1,0,0],[0,0,0]]\n",
    "#idempotent corresponding to (0,1) in the product of quotient rings for p=3, N=6\n",
    "quotient_idem_1 = [[0,0,0],[1,0,0]]\n",
    "N = len(flatten(quotient_idem_0))\n",
    "R = PolynomialRing(GF(3),'x')\n",
    "S = R.quotient(x^N - 1, 'x')\n",
    "x = R.0 #name the generator x an element of R\n",
    "inv_FT_0 = inv_discrete_fourier_transform(quotient_idem_0,3,splitting_field=False) #inverse FT\n",
    "idem_0 = sum(inv_FT_0[i]*x**i for i in range(N)); assert idem_0 in S #map list to poly in S\n",
    "inv_FT_1 = inv_discrete_fourier_transform(quotient_idem_1,3,splitting_field=False) #inverse DFT \n",
    "idem_1 = sum(inv_FT_1[i]*x**i for i in range(N)); assert idem_1 in S #map list to poly in S\n",
    "print(idem_0); print(idem_1)"
   ]
  },
  {
   "cell_type": "code",
   "execution_count": null,
   "id": "7e9fe429-252a-4f7a-b7fc-54d8a3fee761",
   "metadata": {},
   "outputs": [],
   "source": []
  }
 ],
 "metadata": {
  "kernelspec": {
   "display_name": "SageMath 10.3",
   "language": "sage",
   "name": "sagemath-10.3"
  },
  "language_info": {
   "codemirror_mode": {
    "name": "ipython",
    "version": 3
   },
   "file_extension": ".py",
   "mimetype": "text/x-python",
   "name": "python",
   "nbconvert_exporter": "python",
   "pygments_lexer": "ipython3",
   "version": "3.11.1"
  }
 },
 "nbformat": 4,
 "nbformat_minor": 5
}
