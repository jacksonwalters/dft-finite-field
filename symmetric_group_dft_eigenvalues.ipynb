{
 "cells": [
  {
   "cell_type": "code",
   "execution_count": 5,
   "id": "2a529f2b-1157-4229-84d0-8749505137a0",
   "metadata": {},
   "outputs": [],
   "source": [
    "n=3"
   ]
  },
  {
   "cell_type": "code",
   "execution_count": 6,
   "id": "8624b4fc-d39e-474d-9358-672e4027ace1",
   "metadata": {},
   "outputs": [],
   "source": [
    "G = SymmetricGroup(n)"
   ]
  },
  {
   "cell_type": "code",
   "execution_count": 7,
   "id": "1c45cb00-2600-4dee-8b70-5a6baf72fca4",
   "metadata": {},
   "outputs": [],
   "source": [
    "SGA = G.algebra(QQ)"
   ]
  },
  {
   "cell_type": "code",
   "execution_count": 8,
   "id": "7fcb1221-5691-4d2e-b30d-32dfef1c1468",
   "metadata": {},
   "outputs": [
    {
     "data": {
      "text/plain": [
       "[   1    1    1    1    1    1]\n",
       "[   1 -1/2 -1/2  1/2  1/2   -1]\n",
       "[   0 -3/4  3/4  3/4 -3/4    0]\n",
       "[   0    1   -1    1   -1    0]\n",
       "[   1 -1/2 -1/2 -1/2 -1/2    1]\n",
       "[   1    1    1   -1   -1   -1]"
      ]
     },
     "execution_count": 8,
     "metadata": {},
     "output_type": "execute_result"
    }
   ],
   "source": [
    "A = SGA.dft(); A"
   ]
  },
  {
   "cell_type": "code",
   "execution_count": 93,
   "id": "01fd16bc-d1c9-43cb-b9fe-95891d53e952",
   "metadata": {},
   "outputs": [],
   "source": [
    "#is the matrix unitary?\n",
    "#A*A^T, the Gram matrix, is diagonal, but not the identity. so A is not unitary."
   ]
  },
  {
   "cell_type": "code",
   "execution_count": 9,
   "id": "e67456ca-95cd-45b2-b443-967066ba5493",
   "metadata": {},
   "outputs": [
    {
     "name": "stdout",
     "output_type": "stream",
     "text": [
      "[  6   0   0   0   0   0]\n",
      "[  0   3   0   0   0   0]\n",
      "[  0   0 9/4   0   0   0]\n",
      "[  0   0   0   4   0   0]\n",
      "[  0   0   0   0   3   0]\n",
      "[  0   0   0   0   0   6]\n"
     ]
    }
   ],
   "source": [
    "print((A*A.transpose()).str())"
   ]
  },
  {
   "cell_type": "code",
   "execution_count": 1,
   "id": "e5fa7439-9967-496e-b27a-6c2564f7f9ca",
   "metadata": {},
   "outputs": [],
   "source": [
    "#define a new DFT which is unitary\n",
    "#NOTE: in Beals' ['97] he normalizes by \\sqrt{d_\\lambda/n!}\n",
    "#but also notes that a basis change is an equivalence relation on rep'ns\n",
    "#and each equivalence class contains a unitary representatione\n",
    "#if each rep'n \\rho \\in \\hat{G} is unitary, then the transformation is unitary\n",
    "#these representations are not unitary\n",
    "#to make them unitary, use Weyl's unitary trick: \n",
    "#define a new inner product <x,y>_\\rho = (1/|G|)\\sum_{g \\in G}<\\rho(g)x,\\rho(g)y>\n",
    "#compute an orthonormal basis using this inner product"
   ]
  },
  {
   "cell_type": "code",
   "execution_count": 54,
   "id": "aca07005-770f-4a0f-bd28-f6c3a5446787",
   "metadata": {},
   "outputs": [],
   "source": [
    "#define the Fourier coefficient at the representation specht_module\n",
    "#which is the Specht module corresponding to partition\n",
    "def hat(f,partition,unitary=False):\n",
    "    n = sum(partition)\n",
    "    G = SymmetricGroup(n)\n",
    "    specht_module = G.algebra(QQ).specht_module(partition)\n",
    "    rho = specht_module.representation_matrix\n",
    "    d_part = specht_module.dimension()\n",
    "    if unitary:\n",
    "        M = unitary_change_of_basis(partition)\n",
    "        return sqrt(d_part/G.order())*sum(f(g)*M.inverse()*rho(g)*M for g in G)\n",
    "    else:\n",
    "        return sum(f(g)*rho(g) for g in G)"
   ]
  },
  {
   "cell_type": "code",
   "execution_count": 53,
   "id": "b3d16b48-b4bd-43b8-bb87-038cc9cd9afd",
   "metadata": {},
   "outputs": [],
   "source": [
    "#define the delta function delta_s(t) = {1 if s == t, 0 otherwise}\n",
    "def delta(s):\n",
    "    return lambda t: 1 if t == s else 0"
   ]
  },
  {
   "cell_type": "code",
   "execution_count": 52,
   "id": "dad4c039-cddd-4d55-8be4-09dff460fbb8",
   "metadata": {},
   "outputs": [],
   "source": [
    "#for each basis element g \\in G\n",
    "#compute the Fourier coefficients \\hat{\\delta_g}(partition) for all partitions\n",
    "#make the Fourier coefficients into a list via .list()\n",
    "#flatten the list of lists to get a vector \\hat{g}\n",
    "#put the vectors into a list and take the transpose to get the DFT\n",
    "from sage.misc.flatten import flatten\n",
    "def unitary_dft(n):\n",
    "    return matrix([flatten([hat(delta(g),partition,unitary=True).list() for partition in Partitions(n)]) for g in G]).transpose()"
   ]
  },
  {
   "cell_type": "code",
   "execution_count": 51,
   "id": "15d7dc7a-2a6a-42b7-8bbb-7b8e59ca0584",
   "metadata": {},
   "outputs": [],
   "source": [
    "#find the change-of-basis matrix M for which A = M*GS where GS is the Gram-Schmidt orthonormal basis of A\n",
    "def unitary_change_of_basis(partition):\n",
    "    specht_module = G.algebra(QQ).specht_module(partition)\n",
    "    rho = specht_module.representation_matrix\n",
    "    P = (1/G.order())*sum(rho(g)*rho(g).conjugate().transpose() for g in G)\n",
    "    Q = P.principal_square_root()\n",
    "    return Q"
   ]
  },
  {
   "cell_type": "code",
   "execution_count": 45,
   "id": "13966252-bb51-40ca-a7a5-77af120853b9",
   "metadata": {},
   "outputs": [],
   "source": [
    "#ISSUE: the change-of-basis matrix is not making the representations unitary\n",
    "#SOLUTION: use the simpler form of the change-of-basis \n",
    "#which just averages the repsentations \"squared\" over the group and takes a square root"
   ]
  },
  {
   "cell_type": "code",
   "execution_count": 55,
   "id": "38f2b72c-4940-4d1b-9dc4-b44ac83381fb",
   "metadata": {},
   "outputs": [
    {
     "data": {
      "text/plain": [
       "[1/2*sqrt(2) + 1/2*sqrt(2/3) 1/2*sqrt(2) - 1/2*sqrt(2/3)]\n",
       "[1/2*sqrt(2) - 1/2*sqrt(2/3) 1/2*sqrt(2) + 1/2*sqrt(2/3)]"
      ]
     },
     "execution_count": 55,
     "metadata": {},
     "output_type": "execute_result"
    }
   ],
   "source": [
    "Q = unitary_change_of_basis(partition); Q"
   ]
  },
  {
   "cell_type": "code",
   "execution_count": 49,
   "id": "cdb2a5e2-46e2-4aac-b1bd-3a5bb66b2ab0",
   "metadata": {},
   "outputs": [
    {
     "data": {
      "text/plain": [
       "[1 0]\n",
       "[0 1]"
      ]
     },
     "execution_count": 49,
     "metadata": {},
     "output_type": "execute_result"
    }
   ],
   "source": [
    "U = (Q.inverse()*rho(G[5])*Q).simplify_full(); (U*U.transpose()).simplify_full()"
   ]
  },
  {
   "cell_type": "code",
   "execution_count": 56,
   "id": "e1915ae5-62de-4b5e-ba8c-4d1a9c57b875",
   "metadata": {},
   "outputs": [],
   "source": [
    "partition = Partitions(n)[1]"
   ]
  },
  {
   "cell_type": "code",
   "execution_count": 57,
   "id": "221e7dfc-1a56-4781-b7a4-bceb717249a6",
   "metadata": {},
   "outputs": [],
   "source": [
    "specht_module = G.algebra(QQ).specht_module(partition)"
   ]
  },
  {
   "cell_type": "code",
   "execution_count": 58,
   "id": "d69afaed-5921-4816-92d5-fbe1f23bd571",
   "metadata": {},
   "outputs": [],
   "source": [
    "rho = specht_module.representation_matrix"
   ]
  },
  {
   "cell_type": "code",
   "execution_count": 59,
   "id": "b48d4bef-633a-4212-979d-3624a1235f85",
   "metadata": {},
   "outputs": [],
   "source": [
    "d_part = specht_module.dimension()"
   ]
  },
  {
   "cell_type": "code",
   "execution_count": 61,
   "id": "8ba7dfc6-7632-4519-93a9-74680ed23263",
   "metadata": {},
   "outputs": [
    {
     "data": {
      "text/plain": [
       "[1 0 0 0 0 0]\n",
       "[0 1 0 0 0 0]\n",
       "[0 0 1 0 0 0]\n",
       "[0 0 0 1 0 0]\n",
       "[0 0 0 0 1 0]\n",
       "[0 0 0 0 0 1]"
      ]
     },
     "execution_count": 61,
     "metadata": {},
     "output_type": "execute_result"
    }
   ],
   "source": [
    "#check that the DFT is unitary\n",
    "(unitary_dft(3)*unitary_dft(3).transpose()).simplify_full()"
   ]
  },
  {
   "cell_type": "code",
   "execution_count": 58,
   "id": "14cbad6c-4016-4b14-9ce0-415b9d90f2c1",
   "metadata": {},
   "outputs": [],
   "source": [
    "#what are the eigenvalues?\n",
    "#n=3: two real, two complex\n",
    "#n=4: all complex\n",
    "#the magnitude is not 1, they're closely grouped around 2 or 3"
   ]
  },
  {
   "cell_type": "code",
   "execution_count": 92,
   "id": "2caebbde-e05f-416d-a06f-b1d8d8c53ebb",
   "metadata": {},
   "outputs": [
    {
     "data": {
      "text/plain": [
       "[-1.927382440195288?, 2.121715010353017?, -1.174423554578382? - 1.623003052198150?*I, -1.174423554578382? + 1.623003052198150?*I, 1.452257269499517? - 1.086817272076326?*I, 1.452257269499517? + 1.086817272076326?*I]"
      ]
     },
     "execution_count": 92,
     "metadata": {},
     "output_type": "execute_result"
    }
   ],
   "source": [
    "eigs = A.eigenvalues(); eigs"
   ]
  },
  {
   "cell_type": "code",
   "execution_count": 93,
   "id": "edb1c420-f44a-4cb3-9fb3-2ffa17dee539",
   "metadata": {},
   "outputs": [
    {
     "data": {
      "text/plain": [
       "[1.927382440195288?,\n",
       " 2.121715010353017?,\n",
       " 2.003349593304431?,\n",
       " 2.003349593304431?,\n",
       " 1.813897174510622?,\n",
       " 1.813897174510622?]"
      ]
     },
     "execution_count": 93,
     "metadata": {},
     "output_type": "execute_result"
    }
   ],
   "source": [
    "[abs(eig) for eig in eigs]"
   ]
  },
  {
   "cell_type": "code",
   "execution_count": 121,
   "id": "5a48909b-3b9a-437c-a778-e81f28f3735b",
   "metadata": {},
   "outputs": [
    {
     "name": "stdout",
     "output_type": "stream",
     "text": [
      "[2.44948974+0.j 2.44948974+0.j 2.        +0.j 1.73205081+0.j\n",
      " 1.73205081+0.j 1.5       +0.j]\n",
      "[2.44948974 1.73205081 1.5        2.         1.73205081 2.44948974]\n"
     ]
    }
   ],
   "source": [
    "#note that the singluar values are the square roots of the diagonal entries of the Gram matrix\n",
    "print(SymmetricGroup(n).algebra(CDF).dft().SVD()[1].numpy().diagonal())\n",
    "print(sqrt((A*A.transpose()).numpy().diagonal()))"
   ]
  },
  {
   "cell_type": "code",
   "execution_count": null,
   "id": "7b949e59-2889-48f2-a750-2c981e15795b",
   "metadata": {},
   "outputs": [],
   "source": []
  }
 ],
 "metadata": {
  "kernelspec": {
   "display_name": "SageMath 10.3",
   "language": "sage",
   "name": "sagemath-10.3"
  },
  "language_info": {
   "codemirror_mode": {
    "name": "ipython",
    "version": 3
   },
   "file_extension": ".py",
   "mimetype": "text/x-python",
   "name": "python",
   "nbconvert_exporter": "python",
   "pygments_lexer": "ipython3",
   "version": "3.11.1"
  }
 },
 "nbformat": 4,
 "nbformat_minor": 5
}
