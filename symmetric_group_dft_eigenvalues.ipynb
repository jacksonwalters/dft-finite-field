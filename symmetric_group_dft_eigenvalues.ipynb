{
 "cells": [
  {
   "cell_type": "code",
   "execution_count": 1,
   "id": "e5fa7439-9967-496e-b27a-6c2564f7f9ca",
   "metadata": {},
   "outputs": [],
   "source": [
    "#define a new DFT which is unitary\n",
    "#NOTE: in Beals' ['97] he normalizes by \\sqrt{d_\\lambda/n!}\n",
    "#but also notes that a basis change is an equivalence relation on rep'ns\n",
    "#and each equivalence class contains a unitary representatione\n",
    "#if each rep'n \\rho \\in \\hat{G} is unitary, then the transformation is unitary\n",
    "#these representations are not unitary\n",
    "#to make them unitary, use Weyl's unitary trick\n",
    "#OPTION 1: use the formula P = \\int_G \\rho(g)\\rho(g)^* dg, and take a square root to find Q s.t. P = Q^2\n",
    "#OPTION 2: define a new invariant inner product compute an orthonormal basis w.r.t. \n",
    "#this inner product by computing the Gram matrix A and using A.gram_schmidt()"
   ]
  },
  {
   "cell_type": "code",
   "execution_count": 138,
   "id": "09ba488d-3cf4-4e00-b83c-fc24299da6c7",
   "metadata": {},
   "outputs": [],
   "source": [
    "#define conjugation as x |--> x**q, an order two automorphism of F_q^2. note x**q == x for x \\in F_q.\n",
    "def conjugate_transpose_pos_char(A):\n",
    "    assert A.nrows() == A.ncols()\n",
    "    field_size = A.base_ring().order()\n",
    "    q = sqrt(field_size) if field_size.is_square() else field_size\n",
    "    print(q)\n",
    "    return matrix(GF(q**2),[[A[i][j]**q for i in range(A.nrows())] for j in range(A.nrows())]).transpose()"
   ]
  },
  {
   "cell_type": "code",
   "execution_count": 86,
   "id": "ceef00d1-d036-4f68-b585-79fe3f1c6807",
   "metadata": {},
   "outputs": [],
   "source": [
    "#find the change-of-basis matrix Q making \\rho(g) unitary for all g \\in G\n",
    "def unitary_change_of_basis(SGA,partition):\n",
    "    rho = SGA.specht_module(partition).representation_matrix\n",
    "    group_size = SGA.group().cardinality()\n",
    "    if SGA.characteristic() > 0:\n",
    "        P = SGA.base_ring()(1/group_size)*sum(rho(g)*conjugate_transpose_pos_char(rho(g)) for g in SGA.group())\n",
    "        D, M = P.diagonalization()\n",
    "        sqrt_D = diagonal_matrix([P.base_ring()(D[i][i]).square_root() for i in range(D.ncols())])\n",
    "        return M*sqrt_D*M.inverse()\n",
    "    else:\n",
    "        P = (1/group_size)*sum(rho(g)*rho(g).conjugate().transpose() for g in SGA.group())\n",
    "        return P.principal_square_root()"
   ]
  },
  {
   "cell_type": "code",
   "execution_count": 87,
   "id": "aca07005-770f-4a0f-bd28-f6c3a5446787",
   "metadata": {},
   "outputs": [],
   "source": [
    "#define the Fourier coefficient at the representation specht_module\n",
    "#which is the Specht module corresponding to partition\n",
    "def hat(f,partition,SGA,unitary=False):\n",
    "    specht_module = SGA.specht_module(partition)\n",
    "    rho = specht_module.representation_matrix\n",
    "    if unitary:\n",
    "        Q = unitary_change_of_basis(SGA,partition)\n",
    "        F = Q.base_ring()\n",
    "        unitary_factor = F(specht_module.dimension()/SGA.group().cardinality()).square_root()\n",
    "        return unitary_factor*sum(f(g)*Q.inverse()*rho(g)*Q for g in SGA.group())\n",
    "    else:\n",
    "        return sum(f(g)*rho(g) for g in SGA.group())"
   ]
  },
  {
   "cell_type": "code",
   "execution_count": 88,
   "id": "b3d16b48-b4bd-43b8-bb87-038cc9cd9afd",
   "metadata": {},
   "outputs": [],
   "source": [
    "#define the delta function delta_s(t) = {1 if s == t, 0 otherwise}\n",
    "delta = lambda s: lambda t: 1 if t == s else 0"
   ]
  },
  {
   "cell_type": "code",
   "execution_count": 89,
   "id": "dad4c039-cddd-4d55-8be4-09dff460fbb8",
   "metadata": {},
   "outputs": [],
   "source": [
    "#for each basis element g \\in G compute the Fourier coefficients \\hat{\\delta_g}(partition) for all partitions\n",
    "from sage.misc.flatten import flatten\n",
    "def unitary_dft(SGA):\n",
    "    return matrix([flatten([hat(delta(g),partition,SGA,unitary=True).list() for partition in Partitions(SGA.group().degree())]) for g in G]).transpose()"
   ]
  },
  {
   "cell_type": "code",
   "execution_count": 55,
   "id": "262144e3-03f9-493c-a54e-d288abd9395e",
   "metadata": {},
   "outputs": [],
   "source": [
    "#QUESTION: is the SGA DFT unitary?"
   ]
  },
  {
   "cell_type": "code",
   "execution_count": 62,
   "id": "279b49c8-3b66-4689-a755-26dce655f9d6",
   "metadata": {},
   "outputs": [],
   "source": [
    "SGA = SymmetricGroupAlgebra(GF(7),3)"
   ]
  },
  {
   "cell_type": "code",
   "execution_count": 63,
   "id": "ddf55970-a7d3-4b70-aa14-6e2e1c3b3177",
   "metadata": {},
   "outputs": [],
   "source": [
    "G = SGA.group()"
   ]
  },
  {
   "cell_type": "code",
   "execution_count": 64,
   "id": "1b2edd70-15e8-46b2-a4b8-b7b6e1a62f25",
   "metadata": {},
   "outputs": [
    {
     "data": {
      "text/plain": [
       "[1 1 1 1 1 1]\n",
       "[1 4 6 3 3 4]\n",
       "[0 6 0 6 1 1]\n",
       "[0 1 0 6 1 6]\n",
       "[1 3 1 3 3 3]\n",
       "[1 6 6 1 1 6]"
      ]
     },
     "execution_count": 64,
     "metadata": {},
     "output_type": "execute_result"
    }
   ],
   "source": [
    "SGA_dft = SGA.dft(); SGA_dft"
   ]
  },
  {
   "cell_type": "code",
   "execution_count": 65,
   "id": "6df6046c-68f4-4e02-8f54-e7fb57c47349",
   "metadata": {},
   "outputs": [
    {
     "data": {
      "text/plain": [
       "[6 0 0 0 0 0]\n",
       "[0 3 0 0 0 0]\n",
       "[0 0 4 0 0 0]\n",
       "[0 0 0 4 0 0]\n",
       "[0 0 0 0 3 0]\n",
       "[0 0 0 0 0 6]"
      ]
     },
     "execution_count": 65,
     "metadata": {},
     "output_type": "execute_result"
    }
   ],
   "source": [
    "#check if A*A^T == Id. it's not, but the columns are orthonormal\n",
    "SGA_dft*SGA_dft.transpose()"
   ]
  },
  {
   "cell_type": "code",
   "execution_count": 66,
   "id": "3bb7401a-4174-43e1-a5c0-d4cf7274a07f",
   "metadata": {},
   "outputs": [
    {
     "data": {
      "text/plain": [
       "[2, 1]"
      ]
     },
     "execution_count": 66,
     "metadata": {},
     "output_type": "execute_result"
    }
   ],
   "source": [
    "partition = Partitions(SGA.group().degree())[1]; partition"
   ]
  },
  {
   "cell_type": "code",
   "execution_count": 67,
   "id": "585b6cdc-ae42-4ba0-90a8-6ef2723999a3",
   "metadata": {},
   "outputs": [],
   "source": [
    "specht_module = SGA.specht_module(partition)"
   ]
  },
  {
   "cell_type": "code",
   "execution_count": 68,
   "id": "fe9d71f6-1301-451e-8667-b55fa99fbccb",
   "metadata": {},
   "outputs": [],
   "source": [
    "rho = specht_module.representation_matrix"
   ]
  },
  {
   "cell_type": "code",
   "execution_count": 69,
   "id": "cf2dafb1-12fd-4189-ad55-87896faec2ec",
   "metadata": {},
   "outputs": [
    {
     "data": {
      "text/plain": [
       "[4 0]\n",
       "[0 4]"
      ]
     },
     "execution_count": 69,
     "metadata": {},
     "output_type": "execute_result"
    }
   ],
   "source": [
    "P = SGA.base_ring()(1/SGA.group().cardinality())*sum(rho(g)*conjugate_transpose_pos_char(rho(g)) for g in SGA.group()); P"
   ]
  },
  {
   "cell_type": "code",
   "execution_count": 70,
   "id": "cd3b8c11-5efd-4a62-b04a-73132be51a4c",
   "metadata": {},
   "outputs": [
    {
     "data": {
      "text/plain": [
       "49"
      ]
     },
     "execution_count": 70,
     "metadata": {},
     "output_type": "execute_result"
    }
   ],
   "source": [
    "q2 = P.base_ring().cardinality(); q2"
   ]
  },
  {
   "cell_type": "code",
   "execution_count": 71,
   "id": "4ecea907-52ec-4c8a-8250-aa35ed687a51",
   "metadata": {},
   "outputs": [
    {
     "data": {
      "text/plain": [
       "[4 0]\n",
       "[0 4]"
      ]
     },
     "execution_count": 71,
     "metadata": {},
     "output_type": "execute_result"
    }
   ],
   "source": [
    "D, M = P.diagonalization(); D"
   ]
  },
  {
   "cell_type": "code",
   "execution_count": 72,
   "id": "1b6d84aa-98f3-4715-82b3-fe51c20836db",
   "metadata": {},
   "outputs": [],
   "source": [
    "F = GF(q2)"
   ]
  },
  {
   "cell_type": "code",
   "execution_count": 73,
   "id": "53558051-fbee-4e52-a51d-6e7b16626659",
   "metadata": {},
   "outputs": [
    {
     "data": {
      "text/plain": [
       "[2 0]\n",
       "[0 2]"
      ]
     },
     "execution_count": 73,
     "metadata": {},
     "output_type": "execute_result"
    }
   ],
   "source": [
    "sqrt_D = diagonal_matrix([F(D[i][i]).square_root() for i in range(D.ncols())]); sqrt_D"
   ]
  },
  {
   "cell_type": "code",
   "execution_count": 100,
   "id": "d3ee2186-310e-4a7c-bf8d-cb0727ea8251",
   "metadata": {},
   "outputs": [
    {
     "data": {
      "text/plain": [
       "True"
      ]
     },
     "execution_count": 100,
     "metadata": {},
     "output_type": "execute_result"
    }
   ],
   "source": [
    "Q = M*sqrt_D*M.inverse(); Q^2 == P"
   ]
  },
  {
   "cell_type": "code",
   "execution_count": 99,
   "id": "b82a3693-ed70-40ea-a4f4-0ed65dbd56ec",
   "metadata": {},
   "outputs": [
    {
     "data": {
      "text/plain": [
       "[2 0]\n",
       "[0 2]"
      ]
     },
     "execution_count": 99,
     "metadata": {},
     "output_type": "execute_result"
    }
   ],
   "source": [
    "Q = unitary_change_of_basis(SGA,partition); Q"
   ]
  },
  {
   "cell_type": "code",
   "execution_count": 137,
   "id": "3417c790-bfc5-4740-b1e6-b608a06822bf",
   "metadata": {},
   "outputs": [
    {
     "data": {
      "text/plain": [
       "[2, 3, 1]"
      ]
     },
     "execution_count": 137,
     "metadata": {},
     "output_type": "execute_result"
    }
   ],
   "source": [
    "G[3]"
   ]
  },
  {
   "cell_type": "code",
   "execution_count": 136,
   "id": "351ff127-9790-4633-85b6-24576ccabc18",
   "metadata": {},
   "outputs": [
    {
     "data": {
      "text/plain": [
       "[6 1]\n",
       "[6 0]"
      ]
     },
     "execution_count": 136,
     "metadata": {},
     "output_type": "execute_result"
    }
   ],
   "source": [
    "rho(G[3])"
   ]
  },
  {
   "cell_type": "code",
   "execution_count": 134,
   "id": "cf7eab07-1332-4538-b70c-6ff144812a73",
   "metadata": {},
   "outputs": [
    {
     "data": {
      "text/plain": [
       "[6 1]\n",
       "[6 0]"
      ]
     },
     "execution_count": 134,
     "metadata": {},
     "output_type": "execute_result"
    }
   ],
   "source": [
    "U_rho = Q.inverse()*rho(G[3])*Q; U_rho"
   ]
  },
  {
   "cell_type": "code",
   "execution_count": 139,
   "id": "77a25aa2-afbd-4ffa-9bd8-f204a1ed8558",
   "metadata": {},
   "outputs": [
    {
     "name": "stdout",
     "output_type": "stream",
     "text": [
      "7\n"
     ]
    },
    {
     "data": {
      "text/plain": [
       "[0 6]\n",
       "[1 6]"
      ]
     },
     "execution_count": 139,
     "metadata": {},
     "output_type": "execute_result"
    }
   ],
   "source": [
    "U_rho*conjugate_transpose_pos_char(U_rho)"
   ]
  },
  {
   "cell_type": "code",
   "execution_count": 126,
   "id": "cf96731b-2f63-449b-bcb9-88bd015d4dfd",
   "metadata": {},
   "outputs": [
    {
     "data": {
      "text/plain": [
       "[3 1 3 5 5 3]\n",
       "[0 1 6 4 3 3]\n",
       "[0 0 6 1 6 1]\n",
       "[0 2 4 3 6 6]\n",
       "[6 5 4 6 5 5]\n",
       "[0 2 5 3 4 6]"
      ]
     },
     "execution_count": 126,
     "metadata": {},
     "output_type": "execute_result"
    }
   ],
   "source": [
    "U_dft = unitary_dft(SGA); U_dft*conjugate_transpose_pos_char(U_dft)"
   ]
  },
  {
   "cell_type": "code",
   "execution_count": 96,
   "id": "8ba7dfc6-7632-4519-93a9-74680ed23263",
   "metadata": {},
   "outputs": [
    {
     "data": {
      "text/plain": [
       "False"
      ]
     },
     "execution_count": 96,
     "metadata": {},
     "output_type": "execute_result"
    }
   ],
   "source": [
    "#check that the DFT is unitary\n",
    "(U_dft*U_dft.transpose()) == identity_matrix(SGA.group().cardinality())"
   ]
  },
  {
   "cell_type": "code",
   "execution_count": 92,
   "id": "45e8804f-368c-49d1-b073-219eadd8f3ed",
   "metadata": {},
   "outputs": [],
   "source": [
    "#what are the eigenvalues?"
   ]
  },
  {
   "cell_type": "code",
   "execution_count": 94,
   "id": "888cca70-d42c-42a4-94fc-78f1520fc990",
   "metadata": {},
   "outputs": [
    {
     "ename": "AttributeError",
     "evalue": "'sage.rings.integer.Integer' object has no attribute 'group'",
     "output_type": "error",
     "traceback": [
      "\u001b[0;31m---------------------------------------------------------------------------\u001b[0m",
      "\u001b[0;31mAttributeError\u001b[0m                            Traceback (most recent call last)",
      "Cell \u001b[0;32mIn[94], line 1\u001b[0m\n\u001b[0;32m----> 1\u001b[0m eigs \u001b[38;5;241m=\u001b[39m matrix(CDF,\u001b[43munitary_dft\u001b[49m\u001b[43m(\u001b[49m\u001b[43mInteger\u001b[49m\u001b[43m(\u001b[49m\u001b[38;5;241;43m3\u001b[39;49m\u001b[43m)\u001b[49m\u001b[43m)\u001b[49m\u001b[38;5;241m.\u001b[39msimplify_full())\u001b[38;5;241m.\u001b[39meigenvalues()\n",
      "Cell \u001b[0;32mIn[89], line 4\u001b[0m, in \u001b[0;36munitary_dft\u001b[0;34m(SGA)\u001b[0m\n\u001b[1;32m      3\u001b[0m \u001b[38;5;28;01mdef\u001b[39;00m \u001b[38;5;21munitary_dft\u001b[39m(SGA):\n\u001b[0;32m----> 4\u001b[0m     \u001b[38;5;28;01mreturn\u001b[39;00m matrix(\u001b[43m[\u001b[49m\u001b[43mflatten\u001b[49m\u001b[43m(\u001b[49m\u001b[43m[\u001b[49m\u001b[43mhat\u001b[49m\u001b[43m(\u001b[49m\u001b[43mdelta\u001b[49m\u001b[43m(\u001b[49m\u001b[43mg\u001b[49m\u001b[43m)\u001b[49m\u001b[43m,\u001b[49m\u001b[43mpartition\u001b[49m\u001b[43m,\u001b[49m\u001b[43mSGA\u001b[49m\u001b[43m,\u001b[49m\u001b[43munitary\u001b[49m\u001b[38;5;241;43m=\u001b[39;49m\u001b[38;5;28;43;01mTrue\u001b[39;49;00m\u001b[43m)\u001b[49m\u001b[38;5;241;43m.\u001b[39;49m\u001b[43mlist\u001b[49m\u001b[43m(\u001b[49m\u001b[43m)\u001b[49m\u001b[43m \u001b[49m\u001b[38;5;28;43;01mfor\u001b[39;49;00m\u001b[43m \u001b[49m\u001b[43mpartition\u001b[49m\u001b[43m \u001b[49m\u001b[38;5;129;43;01min\u001b[39;49;00m\u001b[43m \u001b[49m\u001b[43mPartitions\u001b[49m\u001b[43m(\u001b[49m\u001b[43mSGA\u001b[49m\u001b[38;5;241;43m.\u001b[39;49m\u001b[43mgroup\u001b[49m\u001b[43m(\u001b[49m\u001b[43m)\u001b[49m\u001b[38;5;241;43m.\u001b[39;49m\u001b[43mdegree\u001b[49m\u001b[43m(\u001b[49m\u001b[43m)\u001b[49m\u001b[43m)\u001b[49m\u001b[43m]\u001b[49m\u001b[43m)\u001b[49m\u001b[43m \u001b[49m\u001b[38;5;28;43;01mfor\u001b[39;49;00m\u001b[43m \u001b[49m\u001b[43mg\u001b[49m\u001b[43m \u001b[49m\u001b[38;5;129;43;01min\u001b[39;49;00m\u001b[43m \u001b[49m\u001b[43mG\u001b[49m\u001b[43m]\u001b[49m)\u001b[38;5;241m.\u001b[39mtranspose()\n",
      "Cell \u001b[0;32mIn[89], line 4\u001b[0m, in \u001b[0;36m<listcomp>\u001b[0;34m(.0)\u001b[0m\n\u001b[1;32m      3\u001b[0m \u001b[38;5;28;01mdef\u001b[39;00m \u001b[38;5;21munitary_dft\u001b[39m(SGA):\n\u001b[0;32m----> 4\u001b[0m     \u001b[38;5;28;01mreturn\u001b[39;00m matrix([flatten([hat(delta(g),partition,SGA,unitary\u001b[38;5;241m=\u001b[39m\u001b[38;5;28;01mTrue\u001b[39;00m)\u001b[38;5;241m.\u001b[39mlist() \u001b[38;5;28;01mfor\u001b[39;00m partition \u001b[38;5;129;01min\u001b[39;00m Partitions(\u001b[43mSGA\u001b[49m\u001b[38;5;241;43m.\u001b[39;49m\u001b[43mgroup\u001b[49m()\u001b[38;5;241m.\u001b[39mdegree())]) \u001b[38;5;28;01mfor\u001b[39;00m g \u001b[38;5;129;01min\u001b[39;00m G])\u001b[38;5;241m.\u001b[39mtranspose()\n",
      "File \u001b[0;32m/private/var/tmp/sage-10.3-current/local/var/lib/sage/venv-python3.11.1/lib/python3.11/site-packages/sage/structure/element.pyx:489\u001b[0m, in \u001b[0;36msage.structure.element.Element.__getattr__ (build/cythonized/sage/structure/element.c:11610)\u001b[0;34m()\u001b[0m\n\u001b[1;32m    487\u001b[0m         AttributeError: 'LeftZeroSemigroup_with_category.element_class' object has no attribute 'blah_blah'...\n\u001b[1;32m    488\u001b[0m     \"\"\"\n\u001b[0;32m--> 489\u001b[0m     return self.getattr_from_category(name)\n\u001b[1;32m    490\u001b[0m \n\u001b[1;32m    491\u001b[0m cdef getattr_from_category(self, name) noexcept:\n",
      "File \u001b[0;32m/private/var/tmp/sage-10.3-current/local/var/lib/sage/venv-python3.11.1/lib/python3.11/site-packages/sage/structure/element.pyx:502\u001b[0m, in \u001b[0;36msage.structure.element.Element.getattr_from_category (build/cythonized/sage/structure/element.c:11720)\u001b[0;34m()\u001b[0m\n\u001b[1;32m    500\u001b[0m     else:\n\u001b[1;32m    501\u001b[0m         cls = P._abstract_element_class\n\u001b[0;32m--> 502\u001b[0m     return getattr_from_other_class(self, cls, name)\n\u001b[1;32m    503\u001b[0m \n\u001b[1;32m    504\u001b[0m def __dir__(self):\n",
      "File \u001b[0;32m/private/var/tmp/sage-10.3-current/local/var/lib/sage/venv-python3.11.1/lib/python3.11/site-packages/sage/cpython/getattr.pyx:362\u001b[0m, in \u001b[0;36msage.cpython.getattr.getattr_from_other_class (build/cythonized/sage/cpython/getattr.c:4443)\u001b[0;34m()\u001b[0m\n\u001b[1;32m    360\u001b[0m     dummy_error_message.cls = type(self)\n\u001b[1;32m    361\u001b[0m     dummy_error_message.name = name\n\u001b[0;32m--> 362\u001b[0m     raise AttributeError(dummy_error_message)\n\u001b[1;32m    363\u001b[0m attribute = <object>attr\n\u001b[1;32m    364\u001b[0m # Check for a descriptor (__get__ in Python)\n",
      "\u001b[0;31mAttributeError\u001b[0m: 'sage.rings.integer.Integer' object has no attribute 'group'"
     ]
    }
   ],
   "source": [
    "eigs = matrix(CDF,unitary_dft(3).simplify_full()).eigenvalues()"
   ]
  },
  {
   "cell_type": "code",
   "execution_count": null,
   "id": "de676e52-78db-42ae-a2f3-befeec8fe9bc",
   "metadata": {},
   "outputs": [],
   "source": [
    "eigs"
   ]
  },
  {
   "cell_type": "code",
   "execution_count": 93,
   "id": "14cbad6c-4016-4b14-9ce0-415b9d90f2c1",
   "metadata": {},
   "outputs": [],
   "source": [
    "#n=3: two real, two complex\n",
    "#n=4: all complex\n",
    "#the magnitude is not 1, they're closely grouped around 2 or 3"
   ]
  },
  {
   "cell_type": "code",
   "execution_count": null,
   "id": "2caebbde-e05f-416d-a06f-b1d8d8c53ebb",
   "metadata": {},
   "outputs": [],
   "source": [
    "eigs = A.eigenvalues(); eigs"
   ]
  },
  {
   "cell_type": "code",
   "execution_count": null,
   "id": "edb1c420-f44a-4cb3-9fb3-2ffa17dee539",
   "metadata": {},
   "outputs": [],
   "source": [
    "[abs(eig) for eig in eigs]"
   ]
  },
  {
   "cell_type": "code",
   "execution_count": null,
   "id": "5a48909b-3b9a-437c-a778-e81f28f3735b",
   "metadata": {},
   "outputs": [],
   "source": [
    "#note that the singluar values are the square roots of the diagonal entries of the Gram matrix\n",
    "print(SymmetricGroup(n).algebra(CDF).dft().SVD()[1].numpy().diagonal())\n",
    "print(sqrt((A*A.transpose()).numpy().diagonal()))"
   ]
  },
  {
   "cell_type": "code",
   "execution_count": null,
   "id": "7b949e59-2889-48f2-a750-2c981e15795b",
   "metadata": {},
   "outputs": [],
   "source": []
  }
 ],
 "metadata": {
  "kernelspec": {
   "display_name": "SageMath 10.3",
   "language": "sage",
   "name": "sagemath-10.3"
  },
  "language_info": {
   "codemirror_mode": {
    "name": "ipython",
    "version": 3
   },
   "file_extension": ".py",
   "mimetype": "text/x-python",
   "name": "python",
   "nbconvert_exporter": "python",
   "pygments_lexer": "ipython3",
   "version": "3.11.1"
  }
 },
 "nbformat": 4,
 "nbformat_minor": 5
}
