{
 "cells": [
  {
   "cell_type": "code",
   "execution_count": 28,
   "id": "e5fa7439-9967-496e-b27a-6c2564f7f9ca",
   "metadata": {},
   "outputs": [],
   "source": [
    "#define a new DFT which is unitary\n",
    "#NOTE: in Beals' ['97] he normalizes by \\sqrt{d_\\lambda/n!}\n",
    "#but also notes that a basis change is an equivalence relation on rep'ns\n",
    "#and each equivalence class contains a unitary representatione\n",
    "#if each rep'n \\rho \\in \\hat{G} is unitary, then the transformation is unitary\n",
    "#these representations are not unitary\n",
    "#to make them unitary, use Weyl's unitary trick\n",
    "#OPTION 1: use the formula P = \\int_G \\rho(g)\\rho(g)^* dg, and take a square root to find Q s.t. P = Q^2\n",
    "#OPTION 2: define a new invariant inner product compute an orthonormal basis w.r.t. \n",
    "#this inner product by computing the Gram matrix A and using A.gram_schmidt()"
   ]
  },
  {
   "cell_type": "code",
   "execution_count": 207,
   "id": "16978d16-cd96-4cb8-b2c0-0f94da4b5545",
   "metadata": {},
   "outputs": [],
   "source": [
    "#determine whether the matrix is unitary over F_q\n",
    "#we define conjugation by working over F_q^2, and using \\alpha: x |--> x^q, an order two automorphism\n",
    "#if q=p^r, alpha is the r^th power of Frobenius\n",
    "def alpha(x,q):\n",
    "    return x**q"
   ]
  },
  {
   "cell_type": "code",
   "execution_count": 208,
   "id": "09ba488d-3cf4-4e00-b83c-fc24299da6c7",
   "metadata": {},
   "outputs": [],
   "source": [
    "#define the conjugate transpose of a matrix A by first computing the size of the base field, F_q\n",
    "#if q is square, then q' = sqrt{q} so we are working over F_(q')^2 where q = (q')^2\n",
    "def conjugate_transpose_pos_char(A):\n",
    "    assert A.nrows() == A.ncols()\n",
    "    n = A.nrows()\n",
    "    field_size = A.base_ring().order()\n",
    "    if field_size.is_square():\n",
    "        q = sqrt(field_size)\n",
    "    else:\n",
    "        q = field_size\n",
    "    return matrix([[alpha(A[i][j],q) for i in range(n)] for j in range(n)]).transpose()"
   ]
  },
  {
   "cell_type": "code",
   "execution_count": 255,
   "id": "ceef00d1-d036-4f68-b585-79fe3f1c6807",
   "metadata": {},
   "outputs": [],
   "source": [
    "#find the change-of-basis matrix M for which A = M*GS where GS is the Gram-Schmidt orthonormal basis of A\n",
    "def unitary_change_of_basis(SGA,partition):\n",
    "    rho = SGA.specht_module(partition).representation_matrix\n",
    "    group_size = SGA.group().cardinality()\n",
    "    if SGA.characteristic() > 0:\n",
    "        P = SGA.base_ring()(1/group_size)*sum(rho(g)*conjugate_transpose_pos_char(rho(g)).transpose() for g in SGA.group())\n",
    "        q = P.base_ring().cardinality()\n",
    "        D, M = P.diagonalization()\n",
    "        sqrt_D = diagonal_matrix([D[i][i].square_root(extend=True) for i in range(D.ncols())])\n",
    "        return M*sqrt_D*M.inverse()\n",
    "    else:\n",
    "        P = (1/group_size)*sum(rho(g)*rho(g).conjugate().transpose() for g in SGA.group())\n",
    "        return P.principal_square_root()"
   ]
  },
  {
   "cell_type": "code",
   "execution_count": 231,
   "id": "aca07005-770f-4a0f-bd28-f6c3a5446787",
   "metadata": {},
   "outputs": [],
   "source": [
    "#define the Fourier coefficient at the representation specht_module\n",
    "#which is the Specht module corresponding to partition\n",
    "def hat(f,partition,SGA,unitary=False):\n",
    "    specht_module = SGA.specht_module(partition)\n",
    "    rho = specht_module.representation_matrix\n",
    "    if unitary:\n",
    "        Q = unitary_change_of_basis(SGA,partition)\n",
    "        unitary_factor = sqrt(specht_module.dimension()/SGA.group().cardinality())\n",
    "        return unitary_factor*sum(f(g)*Q.inverse()*rho(g)*Q for g in SGA.group())\n",
    "    else:\n",
    "        return sum(f(g)*rho(g) for g in SGA.group())"
   ]
  },
  {
   "cell_type": "code",
   "execution_count": 34,
   "id": "b3d16b48-b4bd-43b8-bb87-038cc9cd9afd",
   "metadata": {},
   "outputs": [],
   "source": [
    "#define the delta function delta_s(t) = {1 if s == t, 0 otherwise}\n",
    "delta = lambda s: lambda t: 1 if t == s else 0"
   ]
  },
  {
   "cell_type": "code",
   "execution_count": 57,
   "id": "dad4c039-cddd-4d55-8be4-09dff460fbb8",
   "metadata": {},
   "outputs": [],
   "source": [
    "#for each basis element g \\in G compute the Fourier coefficients \\hat{\\delta_g}(partition) for all partitions\n",
    "from sage.misc.flatten import flatten\n",
    "def unitary_dft(SGA):\n",
    "    return matrix([flatten([hat(delta(g),partition,SGA,unitary=True).list() for partition in Partitions(SGA.group().degree())]) for g in G]).transpose()"
   ]
  },
  {
   "cell_type": "code",
   "execution_count": null,
   "id": "262144e3-03f9-493c-a54e-d288abd9395e",
   "metadata": {},
   "outputs": [],
   "source": [
    "#is the SGA DFT unitary?"
   ]
  },
  {
   "cell_type": "code",
   "execution_count": 107,
   "id": "279b49c8-3b66-4689-a755-26dce655f9d6",
   "metadata": {},
   "outputs": [],
   "source": [
    "SGA = SymmetricGroupAlgebra(GF(7),3)"
   ]
  },
  {
   "cell_type": "code",
   "execution_count": 108,
   "id": "1b2edd70-15e8-46b2-a4b8-b7b6e1a62f25",
   "metadata": {},
   "outputs": [
    {
     "data": {
      "text/plain": [
       "[1 1 1 1 1 1]\n",
       "[1 4 6 3 3 4]\n",
       "[0 6 0 6 1 1]\n",
       "[0 1 0 6 1 6]\n",
       "[1 3 1 3 3 3]\n",
       "[1 6 6 1 1 6]"
      ]
     },
     "execution_count": 108,
     "metadata": {},
     "output_type": "execute_result"
    }
   ],
   "source": [
    "A = SGA.dft(); A"
   ]
  },
  {
   "cell_type": "code",
   "execution_count": 109,
   "id": "6df6046c-68f4-4e02-8f54-e7fb57c47349",
   "metadata": {},
   "outputs": [
    {
     "data": {
      "text/plain": [
       "[6 0 0 0 0 0]\n",
       "[0 3 0 0 0 0]\n",
       "[0 0 4 0 0 0]\n",
       "[0 0 0 4 0 0]\n",
       "[0 0 0 0 3 0]\n",
       "[0 0 0 0 0 6]"
      ]
     },
     "execution_count": 109,
     "metadata": {},
     "output_type": "execute_result"
    }
   ],
   "source": [
    "#check if A*A^T == Id. it's not, but the columns are orthonormal\n",
    "A*A.transpose()"
   ]
  },
  {
   "cell_type": "code",
   "execution_count": 144,
   "id": "3bb7401a-4174-43e1-a5c0-d4cf7274a07f",
   "metadata": {},
   "outputs": [
    {
     "data": {
      "text/plain": [
       "[2, 1]"
      ]
     },
     "execution_count": 144,
     "metadata": {},
     "output_type": "execute_result"
    }
   ],
   "source": [
    "partition = Partitions(SGA.group().degree())[1]; partition"
   ]
  },
  {
   "cell_type": "code",
   "execution_count": 150,
   "id": "585b6cdc-ae42-4ba0-90a8-6ef2723999a3",
   "metadata": {},
   "outputs": [],
   "source": [
    "specht_module = SGA.specht_module(partition)"
   ]
  },
  {
   "cell_type": "code",
   "execution_count": 151,
   "id": "fe9d71f6-1301-451e-8667-b55fa99fbccb",
   "metadata": {},
   "outputs": [],
   "source": [
    "rho = specht_module.representation_matrix"
   ]
  },
  {
   "cell_type": "code",
   "execution_count": 152,
   "id": "cf2dafb1-12fd-4189-ad55-87896faec2ec",
   "metadata": {},
   "outputs": [
    {
     "data": {
      "text/plain": [
       "[6 3]\n",
       "[3 6]"
      ]
     },
     "execution_count": 152,
     "metadata": {},
     "output_type": "execute_result"
    }
   ],
   "source": [
    "P = SGA.base_ring()(1/SGA.group().cardinality())*sum(rho(g)*conjugate_transpose_pos_char(rho(g)).transpose() for g in SGA.group()); P"
   ]
  },
  {
   "cell_type": "code",
   "execution_count": 239,
   "id": "cd3b8c11-5efd-4a62-b04a-73132be51a4c",
   "metadata": {},
   "outputs": [],
   "source": [
    "q = P.base_ring().cardinality()"
   ]
  },
  {
   "cell_type": "code",
   "execution_count": 275,
   "id": "cdaef221-9c60-43a5-a714-6b3522dc74f0",
   "metadata": {},
   "outputs": [],
   "source": [
    "F=GF(q**2)"
   ]
  },
  {
   "cell_type": "code",
   "execution_count": 259,
   "id": "5474679f-43c8-44a9-870a-ea2b601775da",
   "metadata": {},
   "outputs": [
    {
     "data": {
      "text/plain": [
       "2*z2 + 6"
      ]
     },
     "execution_count": 259,
     "metadata": {},
     "output_type": "execute_result"
    }
   ],
   "source": [
    "F(3).square_root()"
   ]
  },
  {
   "cell_type": "code",
   "execution_count": 273,
   "id": "69505b0a-2fbd-43d6-8691-41c5a590f8a2",
   "metadata": {},
   "outputs": [
    {
     "data": {
      "text/plain": [
       "2*z2 + 6"
      ]
     },
     "execution_count": 273,
     "metadata": {},
     "output_type": "execute_result"
    }
   ],
   "source": [
    "GF(7**2)(3).square_root()"
   ]
  },
  {
   "cell_type": "code",
   "execution_count": 225,
   "id": "0880c3e1-4a2b-484b-b98b-b2f0eee66022",
   "metadata": {},
   "outputs": [
    {
     "data": {
      "text/plain": [
       "[3 0]\n",
       "[0 2]"
      ]
     },
     "execution_count": 225,
     "metadata": {},
     "output_type": "execute_result"
    }
   ],
   "source": [
    "D, M = P.diagonalization(); D"
   ]
  },
  {
   "cell_type": "code",
   "execution_count": 276,
   "id": "5dd39f6b-72db-44f0-8a4b-7c8ef410db22",
   "metadata": {},
   "outputs": [
    {
     "data": {
      "text/plain": [
       "2*z2 + 6"
      ]
     },
     "execution_count": 276,
     "metadata": {},
     "output_type": "execute_result"
    }
   ],
   "source": [
    "sqrt_D = diagonal_matrix([F(D[i][i]).square_root() for i in range(D.ncols())]); sqrt_D[0][0]"
   ]
  },
  {
   "cell_type": "code",
   "execution_count": 277,
   "id": "1398100b-2ade-4d49-b56e-56305b297a11",
   "metadata": {},
   "outputs": [
    {
     "data": {
      "text/plain": [
       "True"
      ]
     },
     "execution_count": 277,
     "metadata": {},
     "output_type": "execute_result"
    }
   ],
   "source": [
    "M*D*M.inverse() == P"
   ]
  },
  {
   "cell_type": "code",
   "execution_count": 278,
   "id": "3c95e610-435f-4893-a56d-059f569bb53b",
   "metadata": {},
   "outputs": [
    {
     "data": {
      "text/plain": [
       "True"
      ]
     },
     "execution_count": 278,
     "metadata": {},
     "output_type": "execute_result"
    }
   ],
   "source": [
    "sqrt_D*sqrt_D == D"
   ]
  },
  {
   "cell_type": "code",
   "execution_count": 279,
   "id": "c865686a-5828-4c29-bf9d-1f22410438cb",
   "metadata": {},
   "outputs": [
    {
     "data": {
      "text/plain": [
       "[  z2 + 5 6*z2 + 6]\n",
       "[6*z2 + 6   z2 + 5]"
      ]
     },
     "execution_count": 279,
     "metadata": {},
     "output_type": "execute_result"
    }
   ],
   "source": [
    "M*sqrt_D*M.inverse()"
   ]
  },
  {
   "cell_type": "code",
   "execution_count": 280,
   "id": "b59fd885-f98f-4785-a7ce-bbb7085d5449",
   "metadata": {},
   "outputs": [
    {
     "data": {
      "text/plain": [
       "[6 3]\n",
       "[3 6]"
      ]
     },
     "execution_count": 280,
     "metadata": {},
     "output_type": "execute_result"
    }
   ],
   "source": [
    "(M*sqrt_D*M.inverse())**2"
   ]
  },
  {
   "cell_type": "code",
   "execution_count": 230,
   "id": "76007d3a-764e-4421-824d-2a6029132684",
   "metadata": {},
   "outputs": [
    {
     "data": {
      "text/plain": [
       "sqrt(1/3)"
      ]
     },
     "execution_count": 230,
     "metadata": {},
     "output_type": "execute_result"
    }
   ],
   "source": [
    "sqrt(specht_module.dimension()/SGA.group().cardinality())"
   ]
  },
  {
   "cell_type": "code",
   "execution_count": 234,
   "id": "cf96731b-2f63-449b-bcb9-88bd015d4dfd",
   "metadata": {},
   "outputs": [
    {
     "ename": "AttributeError",
     "evalue": "'FiniteField_prime_modn_with_category' object has no attribute 'size'",
     "output_type": "error",
     "traceback": [
      "\u001b[0;31m---------------------------------------------------------------------------\u001b[0m",
      "\u001b[0;31mKeyError\u001b[0m                                  Traceback (most recent call last)",
      "File \u001b[0;32m/private/var/tmp/sage-10.3-current/local/var/lib/sage/venv-python3.11.1/lib/python3.11/site-packages/sage/structure/category_object.pyx:855\u001b[0m, in \u001b[0;36msage.structure.category_object.CategoryObject.getattr_from_category (build/cythonized/sage/structure/category_object.c:10044)\u001b[0;34m()\u001b[0m\n\u001b[1;32m    854\u001b[0m try:\n\u001b[0;32m--> 855\u001b[0m     return self._cached_methods[name]\n\u001b[1;32m    856\u001b[0m except KeyError:\n",
      "\u001b[0;31mKeyError\u001b[0m: 'size'",
      "\nDuring handling of the above exception, another exception occurred:\n",
      "\u001b[0;31mAttributeError\u001b[0m                            Traceback (most recent call last)",
      "Cell \u001b[0;32mIn[234], line 1\u001b[0m\n\u001b[0;32m----> 1\u001b[0m U_dft \u001b[38;5;241m=\u001b[39m unitary_dft(SGA)\u001b[38;5;241m.\u001b[39msimplify_full(); U_dft\n",
      "Cell \u001b[0;32mIn[57], line 4\u001b[0m, in \u001b[0;36munitary_dft\u001b[0;34m(SGA)\u001b[0m\n\u001b[1;32m      3\u001b[0m \u001b[38;5;28;01mdef\u001b[39;00m \u001b[38;5;21munitary_dft\u001b[39m(SGA):\n\u001b[0;32m----> 4\u001b[0m     \u001b[38;5;28;01mreturn\u001b[39;00m matrix(\u001b[43m[\u001b[49m\u001b[43mflatten\u001b[49m\u001b[43m(\u001b[49m\u001b[43m[\u001b[49m\u001b[43mhat\u001b[49m\u001b[43m(\u001b[49m\u001b[43mdelta\u001b[49m\u001b[43m(\u001b[49m\u001b[43mg\u001b[49m\u001b[43m)\u001b[49m\u001b[43m,\u001b[49m\u001b[43mpartition\u001b[49m\u001b[43m,\u001b[49m\u001b[43mSGA\u001b[49m\u001b[43m,\u001b[49m\u001b[43munitary\u001b[49m\u001b[38;5;241;43m=\u001b[39;49m\u001b[38;5;28;43;01mTrue\u001b[39;49;00m\u001b[43m)\u001b[49m\u001b[38;5;241;43m.\u001b[39;49m\u001b[43mlist\u001b[49m\u001b[43m(\u001b[49m\u001b[43m)\u001b[49m\u001b[43m \u001b[49m\u001b[38;5;28;43;01mfor\u001b[39;49;00m\u001b[43m \u001b[49m\u001b[43mpartition\u001b[49m\u001b[43m \u001b[49m\u001b[38;5;129;43;01min\u001b[39;49;00m\u001b[43m \u001b[49m\u001b[43mPartitions\u001b[49m\u001b[43m(\u001b[49m\u001b[43mSGA\u001b[49m\u001b[38;5;241;43m.\u001b[39;49m\u001b[43mgroup\u001b[49m\u001b[43m(\u001b[49m\u001b[43m)\u001b[49m\u001b[38;5;241;43m.\u001b[39;49m\u001b[43mdegree\u001b[49m\u001b[43m(\u001b[49m\u001b[43m)\u001b[49m\u001b[43m)\u001b[49m\u001b[43m]\u001b[49m\u001b[43m)\u001b[49m\u001b[43m \u001b[49m\u001b[38;5;28;43;01mfor\u001b[39;49;00m\u001b[43m \u001b[49m\u001b[43mg\u001b[49m\u001b[43m \u001b[49m\u001b[38;5;129;43;01min\u001b[39;49;00m\u001b[43m \u001b[49m\u001b[43mG\u001b[49m\u001b[43m]\u001b[49m)\u001b[38;5;241m.\u001b[39mtranspose()\n",
      "Cell \u001b[0;32mIn[57], line 4\u001b[0m, in \u001b[0;36m<listcomp>\u001b[0;34m(.0)\u001b[0m\n\u001b[1;32m      3\u001b[0m \u001b[38;5;28;01mdef\u001b[39;00m \u001b[38;5;21munitary_dft\u001b[39m(SGA):\n\u001b[0;32m----> 4\u001b[0m     \u001b[38;5;28;01mreturn\u001b[39;00m matrix([flatten(\u001b[43m[\u001b[49m\u001b[43mhat\u001b[49m\u001b[43m(\u001b[49m\u001b[43mdelta\u001b[49m\u001b[43m(\u001b[49m\u001b[43mg\u001b[49m\u001b[43m)\u001b[49m\u001b[43m,\u001b[49m\u001b[43mpartition\u001b[49m\u001b[43m,\u001b[49m\u001b[43mSGA\u001b[49m\u001b[43m,\u001b[49m\u001b[43munitary\u001b[49m\u001b[38;5;241;43m=\u001b[39;49m\u001b[38;5;28;43;01mTrue\u001b[39;49;00m\u001b[43m)\u001b[49m\u001b[38;5;241;43m.\u001b[39;49m\u001b[43mlist\u001b[49m\u001b[43m(\u001b[49m\u001b[43m)\u001b[49m\u001b[43m \u001b[49m\u001b[38;5;28;43;01mfor\u001b[39;49;00m\u001b[43m \u001b[49m\u001b[43mpartition\u001b[49m\u001b[43m \u001b[49m\u001b[38;5;129;43;01min\u001b[39;49;00m\u001b[43m \u001b[49m\u001b[43mPartitions\u001b[49m\u001b[43m(\u001b[49m\u001b[43mSGA\u001b[49m\u001b[38;5;241;43m.\u001b[39;49m\u001b[43mgroup\u001b[49m\u001b[43m(\u001b[49m\u001b[43m)\u001b[49m\u001b[38;5;241;43m.\u001b[39;49m\u001b[43mdegree\u001b[49m\u001b[43m(\u001b[49m\u001b[43m)\u001b[49m\u001b[43m)\u001b[49m\u001b[43m]\u001b[49m) \u001b[38;5;28;01mfor\u001b[39;00m g \u001b[38;5;129;01min\u001b[39;00m G])\u001b[38;5;241m.\u001b[39mtranspose()\n",
      "Cell \u001b[0;32mIn[57], line 4\u001b[0m, in \u001b[0;36m<listcomp>\u001b[0;34m(.0)\u001b[0m\n\u001b[1;32m      3\u001b[0m \u001b[38;5;28;01mdef\u001b[39;00m \u001b[38;5;21munitary_dft\u001b[39m(SGA):\n\u001b[0;32m----> 4\u001b[0m     \u001b[38;5;28;01mreturn\u001b[39;00m matrix([flatten([\u001b[43mhat\u001b[49m\u001b[43m(\u001b[49m\u001b[43mdelta\u001b[49m\u001b[43m(\u001b[49m\u001b[43mg\u001b[49m\u001b[43m)\u001b[49m\u001b[43m,\u001b[49m\u001b[43mpartition\u001b[49m\u001b[43m,\u001b[49m\u001b[43mSGA\u001b[49m\u001b[43m,\u001b[49m\u001b[43munitary\u001b[49m\u001b[38;5;241;43m=\u001b[39;49m\u001b[38;5;28;43;01mTrue\u001b[39;49;00m\u001b[43m)\u001b[49m\u001b[38;5;241m.\u001b[39mlist() \u001b[38;5;28;01mfor\u001b[39;00m partition \u001b[38;5;129;01min\u001b[39;00m Partitions(SGA\u001b[38;5;241m.\u001b[39mgroup()\u001b[38;5;241m.\u001b[39mdegree())]) \u001b[38;5;28;01mfor\u001b[39;00m g \u001b[38;5;129;01min\u001b[39;00m G])\u001b[38;5;241m.\u001b[39mtranspose()\n",
      "Cell \u001b[0;32mIn[231], line 7\u001b[0m, in \u001b[0;36mhat\u001b[0;34m(f, partition, SGA, unitary)\u001b[0m\n\u001b[1;32m      5\u001b[0m rho \u001b[38;5;241m=\u001b[39m specht_module\u001b[38;5;241m.\u001b[39mrepresentation_matrix\n\u001b[1;32m      6\u001b[0m \u001b[38;5;28;01mif\u001b[39;00m unitary:\n\u001b[0;32m----> 7\u001b[0m     Q \u001b[38;5;241m=\u001b[39m \u001b[43munitary_change_of_basis\u001b[49m\u001b[43m(\u001b[49m\u001b[43mSGA\u001b[49m\u001b[43m,\u001b[49m\u001b[43mpartition\u001b[49m\u001b[43m)\u001b[49m\n\u001b[1;32m      8\u001b[0m     unitary_factor \u001b[38;5;241m=\u001b[39m sqrt(specht_module\u001b[38;5;241m.\u001b[39mdimension()\u001b[38;5;241m/\u001b[39mSGA\u001b[38;5;241m.\u001b[39mgroup()\u001b[38;5;241m.\u001b[39mcardinality())\n\u001b[1;32m      9\u001b[0m     \u001b[38;5;28;01mreturn\u001b[39;00m unitary_factor\u001b[38;5;241m*\u001b[39m\u001b[38;5;28msum\u001b[39m(f(g)\u001b[38;5;241m*\u001b[39mQ\u001b[38;5;241m.\u001b[39minverse()\u001b[38;5;241m*\u001b[39mrho(g)\u001b[38;5;241m*\u001b[39mQ \u001b[38;5;28;01mfor\u001b[39;00m g \u001b[38;5;129;01min\u001b[39;00m SGA\u001b[38;5;241m.\u001b[39mgroup())\n",
      "Cell \u001b[0;32mIn[233], line 7\u001b[0m, in \u001b[0;36munitary_change_of_basis\u001b[0;34m(SGA, partition)\u001b[0m\n\u001b[1;32m      5\u001b[0m \u001b[38;5;28;01mif\u001b[39;00m SGA\u001b[38;5;241m.\u001b[39mcharacteristic() \u001b[38;5;241m>\u001b[39m Integer(\u001b[38;5;241m0\u001b[39m):\n\u001b[1;32m      6\u001b[0m     P \u001b[38;5;241m=\u001b[39m SGA\u001b[38;5;241m.\u001b[39mbase_ring()(Integer(\u001b[38;5;241m1\u001b[39m)\u001b[38;5;241m/\u001b[39mgroup_size)\u001b[38;5;241m*\u001b[39m\u001b[38;5;28msum\u001b[39m(rho(g)\u001b[38;5;241m*\u001b[39mconjugate_transpose_pos_char(rho(g))\u001b[38;5;241m.\u001b[39mtranspose() \u001b[38;5;28;01mfor\u001b[39;00m g \u001b[38;5;129;01min\u001b[39;00m SGA\u001b[38;5;241m.\u001b[39mgroup())\n\u001b[0;32m----> 7\u001b[0m     q \u001b[38;5;241m=\u001b[39m \u001b[43mP\u001b[49m\u001b[38;5;241;43m.\u001b[39;49m\u001b[43mbase_ring\u001b[49m\u001b[43m(\u001b[49m\u001b[43m)\u001b[49m\u001b[38;5;241;43m.\u001b[39;49m\u001b[43msize\u001b[49m()\n\u001b[1;32m      8\u001b[0m     \u001b[38;5;28mprint\u001b[39m(q)\n\u001b[1;32m      9\u001b[0m     D, M \u001b[38;5;241m=\u001b[39m P\u001b[38;5;241m.\u001b[39mdiagonalization()\n",
      "File \u001b[0;32m/private/var/tmp/sage-10.3-current/local/var/lib/sage/venv-python3.11.1/lib/python3.11/site-packages/sage/structure/category_object.pyx:849\u001b[0m, in \u001b[0;36msage.structure.category_object.CategoryObject.__getattr__ (build/cythonized/sage/structure/category_object.c:9964)\u001b[0;34m()\u001b[0m\n\u001b[1;32m    847\u001b[0m         AttributeError: 'PrimeNumbers_with_category' object has no attribute 'sadfasdf'...\n\u001b[1;32m    848\u001b[0m     \"\"\"\n\u001b[0;32m--> 849\u001b[0m     return self.getattr_from_category(name)\n\u001b[1;32m    850\u001b[0m \n\u001b[1;32m    851\u001b[0m cdef getattr_from_category(self, name) noexcept:\n",
      "File \u001b[0;32m/private/var/tmp/sage-10.3-current/local/var/lib/sage/venv-python3.11.1/lib/python3.11/site-packages/sage/structure/category_object.pyx:864\u001b[0m, in \u001b[0;36msage.structure.category_object.CategoryObject.getattr_from_category (build/cythonized/sage/structure/category_object.c:10128)\u001b[0;34m()\u001b[0m\n\u001b[1;32m    862\u001b[0m     cls = self._category.parent_class\n\u001b[1;32m    863\u001b[0m \n\u001b[0;32m--> 864\u001b[0m attr = getattr_from_other_class(self, cls, name)\n\u001b[1;32m    865\u001b[0m self._cached_methods[name] = attr\n\u001b[1;32m    866\u001b[0m return attr\n",
      "File \u001b[0;32m/private/var/tmp/sage-10.3-current/local/var/lib/sage/venv-python3.11.1/lib/python3.11/site-packages/sage/cpython/getattr.pyx:357\u001b[0m, in \u001b[0;36msage.cpython.getattr.getattr_from_other_class (build/cythonized/sage/cpython/getattr.c:4376)\u001b[0;34m()\u001b[0m\n\u001b[1;32m    355\u001b[0m     dummy_error_message.cls = type(self)\n\u001b[1;32m    356\u001b[0m     dummy_error_message.name = name\n\u001b[0;32m--> 357\u001b[0m     raise AttributeError(dummy_error_message)\n\u001b[1;32m    358\u001b[0m cdef PyObject* attr = instance_getattr(cls, name)\n\u001b[1;32m    359\u001b[0m if attr is NULL:\n",
      "\u001b[0;31mAttributeError\u001b[0m: 'FiniteField_prime_modn_with_category' object has no attribute 'size'"
     ]
    }
   ],
   "source": [
    "U_dft = unitary_dft(SGA).simplify_full(); U_dft"
   ]
  },
  {
   "cell_type": "code",
   "execution_count": 106,
   "id": "8ba7dfc6-7632-4519-93a9-74680ed23263",
   "metadata": {},
   "outputs": [
    {
     "data": {
      "text/plain": [
       "True"
      ]
     },
     "execution_count": 106,
     "metadata": {},
     "output_type": "execute_result"
    }
   ],
   "source": [
    "#check that the DFT is unitary\n",
    "(U_dft*U_dft.transpose()).simplify_full() == identity_matrix(SGA.group().cardinality())"
   ]
  },
  {
   "cell_type": "code",
   "execution_count": null,
   "id": "888cca70-d42c-42a4-94fc-78f1520fc990",
   "metadata": {},
   "outputs": [],
   "source": [
    "eigs = matrix(CDF,unitary_dft(3).simplify_full()).eigenvalues()"
   ]
  },
  {
   "cell_type": "code",
   "execution_count": null,
   "id": "de676e52-78db-42ae-a2f3-befeec8fe9bc",
   "metadata": {},
   "outputs": [],
   "source": [
    "eigs"
   ]
  },
  {
   "cell_type": "code",
   "execution_count": null,
   "id": "14cbad6c-4016-4b14-9ce0-415b9d90f2c1",
   "metadata": {},
   "outputs": [],
   "source": [
    "#what are the eigenvalues?\n",
    "#n=3: two real, two complex\n",
    "#n=4: all complex\n",
    "#the magnitude is not 1, they're closely grouped around 2 or 3"
   ]
  },
  {
   "cell_type": "code",
   "execution_count": null,
   "id": "2caebbde-e05f-416d-a06f-b1d8d8c53ebb",
   "metadata": {},
   "outputs": [],
   "source": [
    "eigs = A.eigenvalues(); eigs"
   ]
  },
  {
   "cell_type": "code",
   "execution_count": null,
   "id": "edb1c420-f44a-4cb3-9fb3-2ffa17dee539",
   "metadata": {},
   "outputs": [],
   "source": [
    "[abs(eig) for eig in eigs]"
   ]
  },
  {
   "cell_type": "code",
   "execution_count": null,
   "id": "5a48909b-3b9a-437c-a778-e81f28f3735b",
   "metadata": {},
   "outputs": [],
   "source": [
    "#note that the singluar values are the square roots of the diagonal entries of the Gram matrix\n",
    "print(SymmetricGroup(n).algebra(CDF).dft().SVD()[1].numpy().diagonal())\n",
    "print(sqrt((A*A.transpose()).numpy().diagonal()))"
   ]
  },
  {
   "cell_type": "code",
   "execution_count": null,
   "id": "7b949e59-2889-48f2-a750-2c981e15795b",
   "metadata": {},
   "outputs": [],
   "source": []
  }
 ],
 "metadata": {
  "kernelspec": {
   "display_name": "SageMath 10.3",
   "language": "sage",
   "name": "sagemath-10.3"
  },
  "language_info": {
   "codemirror_mode": {
    "name": "ipython",
    "version": 3
   },
   "file_extension": ".py",
   "mimetype": "text/x-python",
   "name": "python",
   "nbconvert_exporter": "python",
   "pygments_lexer": "ipython3",
   "version": "3.11.1"
  }
 },
 "nbformat": 4,
 "nbformat_minor": 5
}
