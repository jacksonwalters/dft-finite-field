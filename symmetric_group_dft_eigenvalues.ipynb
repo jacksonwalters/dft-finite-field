{
 "cells": [
  {
   "cell_type": "code",
   "execution_count": 5,
   "id": "2a529f2b-1157-4229-84d0-8749505137a0",
   "metadata": {},
   "outputs": [],
   "source": [
    "n=3"
   ]
  },
  {
   "cell_type": "code",
   "execution_count": 7,
   "id": "8624b4fc-d39e-474d-9358-672e4027ace1",
   "metadata": {},
   "outputs": [],
   "source": [
    "G = SymmetricGroup(n)"
   ]
  },
  {
   "cell_type": "code",
   "execution_count": 7,
   "id": "1c45cb00-2600-4dee-8b70-5a6baf72fca4",
   "metadata": {},
   "outputs": [],
   "source": [
    "SGA = G.algebra(QQ)"
   ]
  },
  {
   "cell_type": "code",
   "execution_count": 8,
   "id": "7fcb1221-5691-4d2e-b30d-32dfef1c1468",
   "metadata": {},
   "outputs": [
    {
     "data": {
      "text/plain": [
       "[   1    1    1    1    1    1]\n",
       "[   1 -1/2 -1/2  1/2  1/2   -1]\n",
       "[   0 -3/4  3/4  3/4 -3/4    0]\n",
       "[   0    1   -1    1   -1    0]\n",
       "[   1 -1/2 -1/2 -1/2 -1/2    1]\n",
       "[   1    1    1   -1   -1   -1]"
      ]
     },
     "execution_count": 8,
     "metadata": {},
     "output_type": "execute_result"
    }
   ],
   "source": [
    "A = SGA.dft(); A"
   ]
  },
  {
   "cell_type": "code",
   "execution_count": 93,
   "id": "01fd16bc-d1c9-43cb-b9fe-95891d53e952",
   "metadata": {},
   "outputs": [],
   "source": [
    "#is the matrix unitary?\n",
    "#A*A^T, the Gram matrix, is diagonal, but not the identity. so A is not unitary."
   ]
  },
  {
   "cell_type": "code",
   "execution_count": 9,
   "id": "e67456ca-95cd-45b2-b443-967066ba5493",
   "metadata": {},
   "outputs": [
    {
     "name": "stdout",
     "output_type": "stream",
     "text": [
      "[  6   0   0   0   0   0]\n",
      "[  0   3   0   0   0   0]\n",
      "[  0   0 9/4   0   0   0]\n",
      "[  0   0   0   4   0   0]\n",
      "[  0   0   0   0   3   0]\n",
      "[  0   0   0   0   0   6]\n"
     ]
    }
   ],
   "source": [
    "print((A*A.transpose()).str())"
   ]
  },
  {
   "cell_type": "code",
   "execution_count": 1,
   "id": "e5fa7439-9967-496e-b27a-6c2564f7f9ca",
   "metadata": {},
   "outputs": [],
   "source": [
    "#define a new DFT which is unitary\n",
    "#NOTE: in Beals' ['97] he normalizes by \\sqrt{d_\\lambda/n!}\n",
    "#but also notes that a basis change is an equivalence relation on rep'ns\n",
    "#and each equivalence class contains a unitary representatione\n",
    "#if each rep'n \\rho \\in \\hat{G} is unitary, then the transformation is unitary\n",
    "#these representations are not unitary\n",
    "#to make them unitary, use Weyl's unitary trick: \n",
    "#define a new inner product <x,y>_\\rho = (1/|G|)\\sum_{g \\in G}<\\rho(g)x,\\rho(g)y>\n",
    "#compute an orthonormal basis using this inner product"
   ]
  },
  {
   "cell_type": "code",
   "execution_count": 434,
   "id": "aca07005-770f-4a0f-bd28-f6c3a5446787",
   "metadata": {},
   "outputs": [],
   "source": [
    "#define the Fourier coefficient at the representation specht_module\n",
    "#which is the Specht module corresponding to partition\n",
    "def hat(f,partition,unitary=False):\n",
    "    n = sum(partition)\n",
    "    G = SymmetricGroup(n)\n",
    "    specht_module = G.algebra(QQ).specht_module(partition)\n",
    "    rho = specht_module.representation_matrix\n",
    "    d_part = specht_module.dimension()\n",
    "    if unitary:\n",
    "        M = unitary_change_of_basis(partition,base_ring=QQbar)\n",
    "        return sqrt(d_part/G.order())*sum(f(g)*M.inverse()*rho(g)*M for g in G)\n",
    "    else:\n",
    "        return sum(f(g)*rho(g) for g in G)"
   ]
  },
  {
   "cell_type": "code",
   "execution_count": 178,
   "id": "b3d16b48-b4bd-43b8-bb87-038cc9cd9afd",
   "metadata": {},
   "outputs": [],
   "source": [
    "#define the delta function delta_s(t) = {1 if s == t, 0 otherwise}\n",
    "def delta(s):\n",
    "    return lambda t: 1 if t == s else 0"
   ]
  },
  {
   "cell_type": "code",
   "execution_count": 411,
   "id": "dad4c039-cddd-4d55-8be4-09dff460fbb8",
   "metadata": {},
   "outputs": [],
   "source": [
    "#for each basis element g \\in G\n",
    "#compute the Fourier coefficients \\hat{\\delta_g}(partition) for all partitions\n",
    "#make the Fourier coefficients into a list via .list()\n",
    "#flatten the list of lists to get a vector \\hat{g}\n",
    "#put the vectors into a list and take the transpose to get the DFT\n",
    "from sage.misc.flatten import flatten\n",
    "def unitary_dft(n):\n",
    "    return matrix([flatten([hat(delta(g),partition,unitary=True).list() for partition in Partitions(n)]) for g in G]).transpose()"
   ]
  },
  {
   "cell_type": "code",
   "execution_count": 378,
   "id": "06e8a8e3-3d2b-4eed-879e-ee3d1a10aa44",
   "metadata": {},
   "outputs": [],
   "source": [
    "#define the G-averaged inner product given a representation\n",
    "#<x,y>_\\rho = (1/|G|)\\sum_{g \\in G}<\\rho(g)x,\\rho(g)y>\n",
    "#where x, y are coordinate vectors for elements in V_\\rho\n",
    "def inv_inner_product(partition,x,y):\n",
    "    n = sum(partition)\n",
    "    G = SymmetricGroup(n)\n",
    "    rho = G.algebra(QQ).specht_module(partition).representation_matrix\n",
    "    return (1/G.order())*sum((rho(g)*vector(x))*(rho(g)*vector(y)) for g in G)"
   ]
  },
  {
   "cell_type": "code",
   "execution_count": 379,
   "id": "4d91c380-b3a7-430e-8ffd-5bfef84bcfff",
   "metadata": {},
   "outputs": [],
   "source": [
    "#define the projection of the vector v onto vector u\n",
    "def proj(u,v):\n",
    "    return ((vector(v)*vector(u))/(vector(u)*vector(u)))*vector(u)"
   ]
  },
  {
   "cell_type": "code",
   "execution_count": 391,
   "id": "9323ef23-5b5e-4a60-bc29-cd0e23d7f5ef",
   "metadata": {},
   "outputs": [],
   "source": [
    "#define Gram-Schmidt orthonormalization process that works in the symbolic ring\n",
    "#assume A = [v_1, v_2, ... , v_k] and each v_j is a column vector\n",
    "#NOTE: GS, M = A.gram_schmidt(orthonormal=True) works for some rings, but not \\QQ or exact rings\n",
    "def gram_schmidt_SR(A,partition,orthonormal=False):\n",
    "    v = A.transpose()\n",
    "    u = []\n",
    "    e = []\n",
    "    for k in range(A.ncols()):\n",
    "        u_k = v[k] - sum(proj(u[j],v[k]) for j in range(k))\n",
    "        u.append(u_k)\n",
    "        e.append(u_k/(u_k.norm()))\n",
    "    if orthonormal:\n",
    "        return matrix(e).transpose()\n",
    "    else:\n",
    "        return matrix(u).transpose()"
   ]
  },
  {
   "cell_type": "code",
   "execution_count": 458,
   "id": "15d7dc7a-2a6a-42b7-8bbb-7b8e59ca0584",
   "metadata": {},
   "outputs": [],
   "source": [
    "#find the change-of-basis matrix M for which A = M*GS where GS is the Gram-Schmidt orthonormal basis of A\n",
    "def unitary_change_of_basis(partition,base_ring=QQ):\n",
    "    A = gram_matrix(partition,base_ring)\n",
    "    #orthonormal_vecs = gram_schmidt_SR(A,partition,orthonormal=True)\n",
    "    orthonormal_vecs, M = A.gram_schmidt(orthonormal=True)\n",
    "    return M"
   ]
  },
  {
   "cell_type": "code",
   "execution_count": 416,
   "id": "500edfd3-98b3-4dcc-b93d-849d0c418d28",
   "metadata": {},
   "outputs": [],
   "source": [
    "#define the inner product matrix A = [<e_i,e_j>_\\rho] for some ordered basis of {e_i} of V_\\rho\n",
    "def gram_matrix(partition,base_ring=QQ):\n",
    "    specht_module = G.algebra(base_ring).specht_module(partition)\n",
    "    d_part = specht_module.dimension()\n",
    "    e = lambda i: [1 if i==j else 0 for j in range(d_part)]\n",
    "    return matrix(base_ring,[[inv_inner_product(partition,e(i),e(j)) for j in range(d_part)] for i in range(d_part)])"
   ]
  },
  {
   "cell_type": "code",
   "execution_count": 469,
   "id": "13966252-bb51-40ca-a7a5-77af120853b9",
   "metadata": {},
   "outputs": [],
   "source": [
    "#ISSUE: the change-of-basis matrix is not making the representations unitary\n",
    "#DESCRIPTION: both Gram-Schmidt methods are failing.\n",
    "#the change-of-basis taking you from the orthonormal basis to the standard basis should be what's required."
   ]
  },
  {
   "cell_type": "code",
   "execution_count": 61,
   "id": "e1915ae5-62de-4b5e-ba8c-4d1a9c57b875",
   "metadata": {},
   "outputs": [],
   "source": [
    "partition = Partitions(n)[1]"
   ]
  },
  {
   "cell_type": "code",
   "execution_count": 501,
   "id": "221e7dfc-1a56-4781-b7a4-bceb717249a6",
   "metadata": {},
   "outputs": [],
   "source": [
    "specht_module = G.algebra(QQ).specht_module(partition)"
   ]
  },
  {
   "cell_type": "code",
   "execution_count": 131,
   "id": "d69afaed-5921-4816-92d5-fbe1f23bd571",
   "metadata": {},
   "outputs": [],
   "source": [
    "rho = specht_module.representation_matrix"
   ]
  },
  {
   "cell_type": "code",
   "execution_count": 105,
   "id": "b48d4bef-633a-4212-979d-3624a1235f85",
   "metadata": {},
   "outputs": [],
   "source": [
    "d_part = specht_module.dimension()"
   ]
  },
  {
   "cell_type": "code",
   "execution_count": 518,
   "id": "fd3c5ea3-acd5-4723-9b58-0b7e093710cb",
   "metadata": {},
   "outputs": [],
   "source": [
    "A_2 = gram_matrix(partition,base_ring=QQ)"
   ]
  },
  {
   "cell_type": "code",
   "execution_count": 519,
   "id": "83b59dcb-a3c3-40c5-9d4f-fdc5805d30b8",
   "metadata": {},
   "outputs": [],
   "source": [
    "A_1 = gram_matrix(partition,base_ring=QQbar)"
   ]
  },
  {
   "cell_type": "code",
   "execution_count": 520,
   "id": "bfccf1b3-ec03-421f-9f08-2d60029ef6a3",
   "metadata": {},
   "outputs": [
    {
     "data": {
      "text/plain": [
       "[ 1.490711984999860?                   0]\n",
       "[-1.192569587999888? 0.8944271909999159?]"
      ]
     },
     "execution_count": 520,
     "metadata": {},
     "output_type": "execute_result"
    }
   ],
   "source": [
    "#gram_schmidt uses QR to actually compute the orthonormal vectors and coefficient matrix\n",
    "#the built-in method is also not working\n",
    "M_1 = unitary_change_of_basis(partition,base_ring=QQbar); M_1"
   ]
  },
  {
   "cell_type": "code",
   "execution_count": 510,
   "id": "4610ba52-72b1-4e64-9965-6db5df43a58d",
   "metadata": {},
   "outputs": [
    {
     "data": {
      "text/plain": [
       "[ 2/5*sqrt(5)    sqrt(1/5)]\n",
       "[-1/5*sqrt(5)  2*sqrt(1/5)]"
      ]
     },
     "execution_count": 510,
     "metadata": {},
     "output_type": "execute_result"
    }
   ],
   "source": [
    "orthonormal_vecs = gram_schmidt_SR(A,partition,orthonormal=True); orthonormal_vecs"
   ]
  },
  {
   "cell_type": "code",
   "execution_count": 522,
   "id": "a9b67e39-6763-4cea-8e76-d4073a41824f",
   "metadata": {},
   "outputs": [
    {
     "data": {
      "text/plain": [
       "[ 1.490711984999860?                   0]\n",
       "[-1.192569587999888? 0.8944271909999159?]"
      ]
     },
     "execution_count": 522,
     "metadata": {},
     "output_type": "execute_result"
    }
   ],
   "source": [
    "M_2 = A_2*orthonormal_vecs.inverse(); M_2"
   ]
  },
  {
   "cell_type": "code",
   "execution_count": 517,
   "id": "b975887b-fa7c-4683-8e23-b9e5053f359c",
   "metadata": {},
   "outputs": [
    {
     "data": {
      "text/plain": [
       "[0.?e-18 0.?e-18]\n",
       "[0.?e-17 0.?e-17]"
      ]
     },
     "execution_count": 517,
     "metadata": {},
     "output_type": "execute_result"
    }
   ],
   "source": [
    "orthonormal_vecs, M = A_2.gram_schmidt(orthonormal=True); M*orthonormal_vecs - A"
   ]
  },
  {
   "cell_type": "code",
   "execution_count": 504,
   "id": "5d69cee2-7ed4-49f0-9690-bb52a69d696d",
   "metadata": {},
   "outputs": [
    {
     "data": {
      "text/plain": [
       "0"
      ]
     },
     "execution_count": 504,
     "metadata": {},
     "output_type": "execute_result"
    }
   ],
   "source": [
    "#check that inner products of columns are really zero\n",
    "orthonormal_vecs.transpose()[0]*orthonormal_vecs.transpose()[1]"
   ]
  },
  {
   "cell_type": "code",
   "execution_count": 503,
   "id": "ec9f894d-65fd-48bc-9269-4d1b7c49c22e",
   "metadata": {},
   "outputs": [
    {
     "data": {
      "text/plain": [
       "True"
      ]
     },
     "execution_count": 503,
     "metadata": {},
     "output_type": "execute_result"
    }
   ],
   "source": [
    "#check that \\rho(g) is unitary w.r.t. invariant inner product\n",
    "x = vector([1,2]); y = vector([2,3])\n",
    "all(inv_inner_product(partition,rho(g)*x,rho(g)*y) == inv_inner_product(partition,x,y) for g in G)"
   ]
  },
  {
   "cell_type": "code",
   "execution_count": 523,
   "id": "f6530c42-9e06-4e7d-bdf7-4f2df8fab258",
   "metadata": {},
   "outputs": [
    {
     "data": {
      "text/plain": [
       "[3.600000000000000? 7.800000000000000?]\n",
       "[7.800000000000000? 17.17777777777778?]"
      ]
     },
     "execution_count": 523,
     "metadata": {},
     "output_type": "execute_result"
    }
   ],
   "source": [
    "U = M.inverse()*rho(G[5])*M; U*U.transpose()"
   ]
  },
  {
   "cell_type": "code",
   "execution_count": 493,
   "id": "8ba7dfc6-7632-4519-93a9-74680ed23263",
   "metadata": {},
   "outputs": [
    {
     "data": {
      "text/plain": [
       "[                                        1                                         0                                         0                                         0                                         0                                         0]\n",
       "[                                        0                                    244/75                                    -26/25                                  1586/225                                   -169/75 sqrt(1/3)*sqrt(1/6) - sqrt(1/3)*sqrt(1/6)]\n",
       "[                                        0                                    -26/25                                     12/25                                   -169/75                                     26/25                                         0]\n",
       "[                                        0                                  1586/225                                   -169/75                                 14884/675                                 -1586/225                                         0]\n",
       "[                                        0                                   -169/75                                     26/25                                 -1586/225                                    244/75                                         0]\n",
       "[                                        0 sqrt(1/3)*sqrt(1/6) - sqrt(1/3)*sqrt(1/6)                                         0                                         0                                         0                                         1]"
      ]
     },
     "execution_count": 493,
     "metadata": {},
     "output_type": "execute_result"
    }
   ],
   "source": [
    "#check that the DFT is unitary\n",
    "unitary_dft(3)*unitary_dft(3).transpose()"
   ]
  },
  {
   "cell_type": "code",
   "execution_count": 58,
   "id": "14cbad6c-4016-4b14-9ce0-415b9d90f2c1",
   "metadata": {},
   "outputs": [],
   "source": [
    "#what are the eigenvalues?\n",
    "#n=3: two real, two complex\n",
    "#n=4: all complex\n",
    "#the magnitude is not 1, they're closely grouped around 2 or 3"
   ]
  },
  {
   "cell_type": "code",
   "execution_count": 92,
   "id": "2caebbde-e05f-416d-a06f-b1d8d8c53ebb",
   "metadata": {},
   "outputs": [
    {
     "data": {
      "text/plain": [
       "[-1.927382440195288?, 2.121715010353017?, -1.174423554578382? - 1.623003052198150?*I, -1.174423554578382? + 1.623003052198150?*I, 1.452257269499517? - 1.086817272076326?*I, 1.452257269499517? + 1.086817272076326?*I]"
      ]
     },
     "execution_count": 92,
     "metadata": {},
     "output_type": "execute_result"
    }
   ],
   "source": [
    "eigs = A.eigenvalues(); eigs"
   ]
  },
  {
   "cell_type": "code",
   "execution_count": 93,
   "id": "edb1c420-f44a-4cb3-9fb3-2ffa17dee539",
   "metadata": {},
   "outputs": [
    {
     "data": {
      "text/plain": [
       "[1.927382440195288?,\n",
       " 2.121715010353017?,\n",
       " 2.003349593304431?,\n",
       " 2.003349593304431?,\n",
       " 1.813897174510622?,\n",
       " 1.813897174510622?]"
      ]
     },
     "execution_count": 93,
     "metadata": {},
     "output_type": "execute_result"
    }
   ],
   "source": [
    "[abs(eig) for eig in eigs]"
   ]
  },
  {
   "cell_type": "code",
   "execution_count": 121,
   "id": "5a48909b-3b9a-437c-a778-e81f28f3735b",
   "metadata": {},
   "outputs": [
    {
     "name": "stdout",
     "output_type": "stream",
     "text": [
      "[2.44948974+0.j 2.44948974+0.j 2.        +0.j 1.73205081+0.j\n",
      " 1.73205081+0.j 1.5       +0.j]\n",
      "[2.44948974 1.73205081 1.5        2.         1.73205081 2.44948974]\n"
     ]
    }
   ],
   "source": [
    "#note that the singluar values are the square roots of the diagonal entries of the Gram matrix\n",
    "print(SymmetricGroup(n).algebra(CDF).dft().SVD()[1].numpy().diagonal())\n",
    "print(sqrt((A*A.transpose()).numpy().diagonal()))"
   ]
  },
  {
   "cell_type": "code",
   "execution_count": null,
   "id": "7b949e59-2889-48f2-a750-2c981e15795b",
   "metadata": {},
   "outputs": [],
   "source": []
  }
 ],
 "metadata": {
  "kernelspec": {
   "display_name": "SageMath 10.3",
   "language": "sage",
   "name": "sagemath-10.3"
  },
  "language_info": {
   "codemirror_mode": {
    "name": "ipython",
    "version": 3
   },
   "file_extension": ".py",
   "mimetype": "text/x-python",
   "name": "python",
   "nbconvert_exporter": "python",
   "pygments_lexer": "ipython3",
   "version": "3.11.1"
  }
 },
 "nbformat": 4,
 "nbformat_minor": 5
}
