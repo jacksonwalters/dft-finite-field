{
 "cells": [
  {
   "cell_type": "code",
   "execution_count": 5,
   "id": "2a529f2b-1157-4229-84d0-8749505137a0",
   "metadata": {},
   "outputs": [],
   "source": [
    "n=3"
   ]
  },
  {
   "cell_type": "code",
   "execution_count": 7,
   "id": "8624b4fc-d39e-474d-9358-672e4027ace1",
   "metadata": {},
   "outputs": [],
   "source": [
    "G = SymmetricGroup(n)"
   ]
  },
  {
   "cell_type": "code",
   "execution_count": 7,
   "id": "1c45cb00-2600-4dee-8b70-5a6baf72fca4",
   "metadata": {},
   "outputs": [],
   "source": [
    "SGA = G.algebra(QQ)"
   ]
  },
  {
   "cell_type": "code",
   "execution_count": 8,
   "id": "7fcb1221-5691-4d2e-b30d-32dfef1c1468",
   "metadata": {},
   "outputs": [
    {
     "data": {
      "text/plain": [
       "[   1    1    1    1    1    1]\n",
       "[   1 -1/2 -1/2  1/2  1/2   -1]\n",
       "[   0 -3/4  3/4  3/4 -3/4    0]\n",
       "[   0    1   -1    1   -1    0]\n",
       "[   1 -1/2 -1/2 -1/2 -1/2    1]\n",
       "[   1    1    1   -1   -1   -1]"
      ]
     },
     "execution_count": 8,
     "metadata": {},
     "output_type": "execute_result"
    }
   ],
   "source": [
    "A = SGA.dft(); A"
   ]
  },
  {
   "cell_type": "code",
   "execution_count": 93,
   "id": "01fd16bc-d1c9-43cb-b9fe-95891d53e952",
   "metadata": {},
   "outputs": [],
   "source": [
    "#is the matrix unitary?\n",
    "#A*A^T, the Gram matrix, is diagonal, but not the identity. so A is not unitary."
   ]
  },
  {
   "cell_type": "code",
   "execution_count": 9,
   "id": "e67456ca-95cd-45b2-b443-967066ba5493",
   "metadata": {},
   "outputs": [
    {
     "name": "stdout",
     "output_type": "stream",
     "text": [
      "[  6   0   0   0   0   0]\n",
      "[  0   3   0   0   0   0]\n",
      "[  0   0 9/4   0   0   0]\n",
      "[  0   0   0   4   0   0]\n",
      "[  0   0   0   0   3   0]\n",
      "[  0   0   0   0   0   6]\n"
     ]
    }
   ],
   "source": [
    "print((A*A.transpose()).str())"
   ]
  },
  {
   "cell_type": "code",
   "execution_count": 1,
   "id": "e5fa7439-9967-496e-b27a-6c2564f7f9ca",
   "metadata": {},
   "outputs": [],
   "source": [
    "#define a new DFT which is unitary\n",
    "#NOTE: in Beals' ['97] he normalizes by \\sqrt{d_\\lambda/n!}\n",
    "#but also notes that a basis change is an equivalence relation on rep'ns\n",
    "#and each equivalence class contains a unitary representatione\n",
    "#if each rep'n \\rho \\in \\hat{G} is unitary, then the transformation is unitary\n",
    "#these representations are not unitary\n",
    "#to make them unitary, use Weyl's unitary trick: \n",
    "#define a new inner product <x,y>_\\rho = (1/|G|)\\sum_{g \\in G}<\\rho(g)x,\\rho(g)y>\n",
    "#compute an orthonormal basis using this inner product"
   ]
  },
  {
   "cell_type": "code",
   "execution_count": 210,
   "id": "aca07005-770f-4a0f-bd28-f6c3a5446787",
   "metadata": {},
   "outputs": [],
   "source": [
    "#define the Fourier coefficient at the representation specht_module\n",
    "#which is the Specht module corresponding to partition\n",
    "def hat(f,partition):\n",
    "    n = sum(partition)\n",
    "    G = SymmetricGroup(n)\n",
    "    specht_module = G.algebra(QQ).specht_module(partition)\n",
    "    d_part = specht_module.dimension()\n",
    "    return sqrt(d_part/G.order())*sum(f(g)*specht_module.representation_matrix(g) for g in G)"
   ]
  },
  {
   "cell_type": "code",
   "execution_count": 11,
   "id": "b3d16b48-b4bd-43b8-bb87-038cc9cd9afd",
   "metadata": {},
   "outputs": [],
   "source": [
    "#define the delta function delta_s(t) = {1 if s == t, 0 otherwise}\n",
    "def delta(s):\n",
    "    return lambda t: 1 if t == s else 0"
   ]
  },
  {
   "cell_type": "code",
   "execution_count": 12,
   "id": "dad4c039-cddd-4d55-8be4-09dff460fbb8",
   "metadata": {},
   "outputs": [],
   "source": [
    "#for each basis element g \\in G\n",
    "#compute the Fourier coefficients \\hat{\\delta_g}(partition) for all partitions\n",
    "#make the Fourier coefficients into a list via .list()\n",
    "#flatten the list of lists to get a vector \\hat{g}\n",
    "#put the vectors into a list and take the transpose to get the DFT\n",
    "from sage.misc.flatten import flatten\n",
    "def unitary_dft(n):\n",
    "    return matrix([flatten([hat(delta(g),partition).list() for partition in Partitions(n)]) for g in G]).transpose()"
   ]
  },
  {
   "cell_type": "code",
   "execution_count": 257,
   "id": "8ea196b0-2c57-4ecb-8aa6-1e850c3e174e",
   "metadata": {},
   "outputs": [],
   "source": [
    "#define the standard inner product on k[S_n]\n",
    "def std_inner_product(n,x,y):\n",
    "    G = SymmetricGroup(n)\n",
    "    return sum(x[g]*conjugate(y[g]) for g in G)"
   ]
  },
  {
   "cell_type": "code",
   "execution_count": 10,
   "id": "06e8a8e3-3d2b-4eed-879e-ee3d1a10aa44",
   "metadata": {},
   "outputs": [],
   "source": [
    "#define the G-averaged inner product given a representation\n",
    "#<x,y>_\\rho = (1/|G|)\\sum_{g \\in G}<\\rho(g)x,\\rho(g)y>\n",
    "def inv_inner_product(partition,x,y):\n",
    "    n = sum(partition)\n",
    "    G = SymmetricGroup(n)\n",
    "    rho = G.algebra(QQ).specht_module(partition).representation_matrix\n",
    "    return (1/G.order())*sum((rho(g)*vector(x)).inner_product(rho(g)*vector(y)) for g in G)"
   ]
  },
  {
   "cell_type": "code",
   "execution_count": 195,
   "id": "4d91c380-b3a7-430e-8ffd-5bfef84bcfff",
   "metadata": {},
   "outputs": [],
   "source": [
    "#define the projection of the vector v onto vector u\n",
    "def proj(u,v):\n",
    "    return (vector(v).inner_product(vector(u))/vector(u).inner_product(vector(u)))*vector(u)"
   ]
  },
  {
   "cell_type": "code",
   "execution_count": 231,
   "id": "9323ef23-5b5e-4a60-bc29-cd0e23d7f5ef",
   "metadata": {},
   "outputs": [],
   "source": [
    "#define Gram-Schmidt orthonormalization process that works in the symbolic ring\n",
    "#assume A = [v_1, v_2, ... , v_k] and each v_j is a column vector\n",
    "#NOTE: GS, M = A.gram_schmidt(orthonormal=True) works for some rings, but not \\QQ or exact rings\n",
    "def gram_schmidt_SR(A,orthonormal=False):\n",
    "    v = A.transpose()\n",
    "    u = []\n",
    "    if orthonormal:\n",
    "        e = []\n",
    "    for k in range(A.ncols()):\n",
    "        u_k = v[k] - sum(proj(u[j],v[k]) for j in range(k))\n",
    "        u.append(u_k)\n",
    "        if orthonormal:\n",
    "            e.append(u_k/u_k.norm())\n",
    "    if orthonormal:\n",
    "        return matrix(e).transpose()\n",
    "    else:\n",
    "        return matrix(u).transpose()"
   ]
  },
  {
   "cell_type": "code",
   "execution_count": 232,
   "id": "15d7dc7a-2a6a-42b7-8bbb-7b8e59ca0584",
   "metadata": {},
   "outputs": [],
   "source": [
    "#find the change-of-basis matrix M for which A = M*GS where GS is the Gram-Schmidt orthonormal basis of A\n",
    "def unitary_change_of_basis(A):\n",
    "    orthonormal_vecs = gram_schmidt_SR(A,orthonormal=True)\n",
    "    return (A*orthonormal_vecs.inverse()).simplify_full()"
   ]
  },
  {
   "cell_type": "code",
   "execution_count": 26,
   "id": "500edfd3-98b3-4dcc-b93d-849d0c418d28",
   "metadata": {},
   "outputs": [],
   "source": [
    "#define the inner product matrix A = [<e_i,e_j>_\\rho] for some ordered basis of {e_i} of V_\\rho\n",
    "#ISSUE: is the inner product on V_\\rho really defined by making the basis vectors orthonormal?\n",
    "#or is it just the inner product on k[S_n] which is k^6, which restricts to the invariant subspace?\n",
    "def inner_product_matrix(partition):\n",
    "    specht_module = G.algebra(QQ).specht_module(partition)\n",
    "    d_part = specht_module.dimension()\n",
    "    e = lambda i: [1 if i==j else 0 for j in range(d_part)]\n",
    "    return matrix([[inv_inner_product(partition,e(i),e(j)) for j in range(d_part)] for i in range(d_part)])"
   ]
  },
  {
   "cell_type": "code",
   "execution_count": 27,
   "id": "5268489f-36cd-41a3-a760-f1be33220ff3",
   "metadata": {},
   "outputs": [
    {
     "data": {
      "text/plain": [
       "[ 4/3 -2/3]\n",
       "[-2/3  4/3]"
      ]
     },
     "execution_count": 27,
     "metadata": {},
     "output_type": "execute_result"
    }
   ],
   "source": [
    "partition = Partitions(n)[1]\n",
    "specht_module = G.algebra(QQ).specht_module(partition)\n",
    "inner_product_matrix(partition)"
   ]
  },
  {
   "cell_type": "code",
   "execution_count": 15,
   "id": "93b960ce-195a-44ea-9601-4a425fa03ae2",
   "metadata": {},
   "outputs": [],
   "source": [
    "repn_basis = [b.lift() for b in specht_module.basis()]"
   ]
  },
  {
   "cell_type": "code",
   "execution_count": 25,
   "id": "b3694655-d58b-4909-b6e5-46ab1007f627",
   "metadata": {},
   "outputs": [
    {
     "data": {
      "text/plain": [
       "[((), 1), ((1,2,3), -1), ((2,3), -1), ((1,2), 1)]"
      ]
     },
     "execution_count": 25,
     "metadata": {},
     "output_type": "execute_result"
    }
   ],
   "source": [
    "list(repn_basis[0])"
   ]
  },
  {
   "cell_type": "code",
   "execution_count": 23,
   "id": "7744e008-ce07-477e-8e80-a15b3c9ea37c",
   "metadata": {},
   "outputs": [
    {
     "data": {
      "text/plain": [
       "(1, 0, -1, -1, 0, 1)"
      ]
     },
     "execution_count": 23,
     "metadata": {},
     "output_type": "execute_result"
    }
   ],
   "source": [
    "vector(repn_basis[0])"
   ]
  },
  {
   "cell_type": "code",
   "execution_count": 267,
   "id": "eee15510-c185-4f66-ad20-da3fc3a65ce0",
   "metadata": {},
   "outputs": [
    {
     "data": {
      "text/plain": [
       "[ 4/3 -2/3]\n",
       "[-2/3  4/3]"
      ]
     },
     "execution_count": 267,
     "metadata": {},
     "output_type": "execute_result"
    }
   ],
   "source": [
    "A"
   ]
  },
  {
   "cell_type": "code",
   "execution_count": 276,
   "id": "b234357f-cd8f-469b-9632-1f6313d87336",
   "metadata": {},
   "outputs": [
    {
     "name": "stdout",
     "output_type": "stream",
     "text": [
      "[ 4/3 -2/3]\n",
      "[-2/3  4/3]\n",
      "[  2/5*sqrt(5) -8/15*sqrt(5)]\n",
      "[            0   2/3*sqrt(5)]\n",
      "[  18/5  -39/5]\n",
      "[ -39/5 773/45]\n"
     ]
    }
   ],
   "source": [
    "#check that the change-of-basis matrix really turns \\rho into a unitary representation\n",
    "G = SymmetricGroup(n)\n",
    "A = inner_product_matrix(partition); print(A)\n",
    "M = unitary_change_of_basis(A); print(M)\n",
    "rho = specht_module.representation_matrix\n",
    "U = M.inverse()*rho(G[1])*M\n",
    "print(U.transpose()*U)"
   ]
  },
  {
   "cell_type": "code",
   "execution_count": 239,
   "id": "6fa145a1-bffc-403c-a672-4a045b460f0a",
   "metadata": {},
   "outputs": [],
   "source": [
    "orthonormal_vecs = gram_schmidt_SR(A,orthonormal=True)"
   ]
  },
  {
   "cell_type": "code",
   "execution_count": 243,
   "id": "642aeccf-c3c9-4dd8-9405-656e279d258a",
   "metadata": {},
   "outputs": [
    {
     "data": {
      "text/plain": [
       "[() - (2,3) + (1,2) - (1,2,3), -(2,3) - (1,2,3) + (1,3,2) + (1,3)]"
      ]
     },
     "execution_count": 243,
     "metadata": {},
     "output_type": "execute_result"
    }
   ],
   "source": [
    "repn_basis = [b.lift() for b in specht_module.basis()]; repn_basis"
   ]
  },
  {
   "cell_type": "code",
   "execution_count": 255,
   "id": "b48935c3-6a65-459e-92ca-e5d4cc905bf1",
   "metadata": {},
   "outputs": [
    {
     "data": {
      "text/plain": [
       "0"
      ]
     },
     "execution_count": 255,
     "metadata": {},
     "output_type": "execute_result"
    }
   ],
   "source": [
    "repn_basis[0][G[1]]"
   ]
  },
  {
   "cell_type": "code",
   "execution_count": 260,
   "id": "0af1fee1-8058-41a9-9612-b84e0b1e9723",
   "metadata": {},
   "outputs": [
    {
     "data": {
      "text/plain": [
       "2"
      ]
     },
     "execution_count": 260,
     "metadata": {},
     "output_type": "execute_result"
    }
   ],
   "source": [
    "std_inner_product(n,repn_basis[0],repn_basis[1])"
   ]
  },
  {
   "cell_type": "code",
   "execution_count": 241,
   "id": "df6b74a9-cd0c-4481-9113-389ffb5d617f",
   "metadata": {},
   "outputs": [
    {
     "data": {
      "text/plain": [
       "True"
      ]
     },
     "execution_count": 241,
     "metadata": {},
     "output_type": "execute_result"
    }
   ],
   "source": [
    "A == M*orthonormal_vecs().simplify_full()"
   ]
  },
  {
   "cell_type": "code",
   "execution_count": 177,
   "id": "aac28ddf-a9bc-4519-933e-9f7772d4ce6d",
   "metadata": {},
   "outputs": [],
   "source": [
    "repn_basis = [b.lift() for b in G.algebra(QQ).specht_module(partition).basis()]"
   ]
  },
  {
   "cell_type": "code",
   "execution_count": 141,
   "id": "bb08d5b2-5271-4343-8c7e-7acecbd0e797",
   "metadata": {},
   "outputs": [
    {
     "data": {
      "text/plain": [
       "[ 12/5*sqrt(5) -16/5*sqrt(5)]\n",
       "[            0     4*sqrt(5)]"
      ]
     },
     "execution_count": 141,
     "metadata": {},
     "output_type": "execute_result"
    }
   ],
   "source": [
    "unitary_change_of_basis(A).simplify_full()"
   ]
  },
  {
   "cell_type": "code",
   "execution_count": 153,
   "id": "8ba7dfc6-7632-4519-93a9-74680ed23263",
   "metadata": {},
   "outputs": [
    {
     "data": {
      "text/plain": [
       "[   1    0    0    0    0    0]\n",
       "[   0  4/3 -2/3  2/3 -1/3    0]\n",
       "[   0 -2/3  4/3 -1/3  2/3    0]\n",
       "[   0  2/3 -1/3  4/3 -2/3    0]\n",
       "[   0 -1/3  2/3 -2/3  4/3    0]\n",
       "[   0    0    0    0    0    1]"
      ]
     },
     "execution_count": 153,
     "metadata": {},
     "output_type": "execute_result"
    }
   ],
   "source": [
    "unitary_dft(3)*unitary_dft(3).transpose()"
   ]
  },
  {
   "cell_type": "code",
   "execution_count": 58,
   "id": "14cbad6c-4016-4b14-9ce0-415b9d90f2c1",
   "metadata": {},
   "outputs": [],
   "source": [
    "#what are the eigenvalues?\n",
    "#n=3: two real, two complex\n",
    "#n=4: all complex\n",
    "#the magnitude is not 1, they're closely grouped around 2 or 3"
   ]
  },
  {
   "cell_type": "code",
   "execution_count": 92,
   "id": "2caebbde-e05f-416d-a06f-b1d8d8c53ebb",
   "metadata": {},
   "outputs": [
    {
     "data": {
      "text/plain": [
       "[-1.927382440195288?, 2.121715010353017?, -1.174423554578382? - 1.623003052198150?*I, -1.174423554578382? + 1.623003052198150?*I, 1.452257269499517? - 1.086817272076326?*I, 1.452257269499517? + 1.086817272076326?*I]"
      ]
     },
     "execution_count": 92,
     "metadata": {},
     "output_type": "execute_result"
    }
   ],
   "source": [
    "eigs = A.eigenvalues(); eigs"
   ]
  },
  {
   "cell_type": "code",
   "execution_count": 93,
   "id": "edb1c420-f44a-4cb3-9fb3-2ffa17dee539",
   "metadata": {},
   "outputs": [
    {
     "data": {
      "text/plain": [
       "[1.927382440195288?,\n",
       " 2.121715010353017?,\n",
       " 2.003349593304431?,\n",
       " 2.003349593304431?,\n",
       " 1.813897174510622?,\n",
       " 1.813897174510622?]"
      ]
     },
     "execution_count": 93,
     "metadata": {},
     "output_type": "execute_result"
    }
   ],
   "source": [
    "[abs(eig) for eig in eigs]"
   ]
  },
  {
   "cell_type": "code",
   "execution_count": 121,
   "id": "5a48909b-3b9a-437c-a778-e81f28f3735b",
   "metadata": {},
   "outputs": [
    {
     "name": "stdout",
     "output_type": "stream",
     "text": [
      "[2.44948974+0.j 2.44948974+0.j 2.        +0.j 1.73205081+0.j\n",
      " 1.73205081+0.j 1.5       +0.j]\n",
      "[2.44948974 1.73205081 1.5        2.         1.73205081 2.44948974]\n"
     ]
    }
   ],
   "source": [
    "#note that the singluar values are the square roots of the diagonal entries of the Gram matrix\n",
    "print(SymmetricGroup(n).algebra(CDF).dft().SVD()[1].numpy().diagonal())\n",
    "print(sqrt((A*A.transpose()).numpy().diagonal()))"
   ]
  },
  {
   "cell_type": "code",
   "execution_count": null,
   "id": "7b949e59-2889-48f2-a750-2c981e15795b",
   "metadata": {},
   "outputs": [],
   "source": []
  }
 ],
 "metadata": {
  "kernelspec": {
   "display_name": "SageMath 10.3",
   "language": "sage",
   "name": "sagemath-10.3"
  },
  "language_info": {
   "codemirror_mode": {
    "name": "ipython",
    "version": 3
   },
   "file_extension": ".py",
   "mimetype": "text/x-python",
   "name": "python",
   "nbconvert_exporter": "python",
   "pygments_lexer": "ipython3",
   "version": "3.11.1"
  }
 },
 "nbformat": 4,
 "nbformat_minor": 5
}
