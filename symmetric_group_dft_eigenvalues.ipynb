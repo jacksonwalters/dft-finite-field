{
 "cells": [
  {
   "cell_type": "code",
   "execution_count": 72,
   "id": "e5fa7439-9967-496e-b27a-6c2564f7f9ca",
   "metadata": {},
   "outputs": [],
   "source": [
    "#define a new DFT which is unitary\n",
    "#NOTE: in Beals' ['97] he normalizes by \\sqrt{d_\\lambda/n!}\n",
    "#but also notes that a basis change is an equivalence relation on rep'ns\n",
    "#and each equivalence class contains a unitary representatione\n",
    "#if each rep'n \\rho \\in \\hat{G} is unitary, then the transformation is unitary\n",
    "#these representations are not unitary\n",
    "#to make them unitary, use Weyl's unitary trick\n",
    "#OPTION 1: use the formula P = \\int_G \\rho(g)\\rho(g)^* dg, and take a square root to find Q s.t. P = Q^2\n",
    "#OPTION 2: define a new invariant inner product compute an orthonormal basis w.r.t. \n",
    "#this inner product by computing the Gram matrix A and using A.gram_schmidt()"
   ]
  },
  {
   "cell_type": "code",
   "execution_count": 73,
   "id": "f4f39b63-d30d-445e-8cde-3ea75a3c64d3",
   "metadata": {},
   "outputs": [],
   "source": [
    "#compute a field which contains all the square roots required\n",
    "def containing_field(SGA):\n",
    "    required_square_roots = []\n",
    "    for partition in Partitions(SGA.group().degree()):\n",
    "        specht_module = SGA.specht_module(partition)\n",
    "        rho = specht_module.representation_matrix\n",
    "        group_size = SGA.group().cardinality()\n",
    "        P = (1/group_size)*sum(rho(g)*rho(g).conjugate().transpose() for g in SGA.group())\n",
    "        d, L = P.eigenmatrix_left()\n",
    "        unitary_factor = specht_module.dimension()/SGA.group().cardinality()\n",
    "        required_square_roots += [unitary_factor] + d.diagonal()\n",
    "    K = SGA.base_ring()\n",
    "    for n in set(required_square_roots):\n",
    "        R.<x> = PolynomialRing(K)\n",
    "        if (x**2 - n).is_irreducible():\n",
    "            gen_name = \"a\"+str(list(set(required_square_roots)).index(n))\n",
    "            K = K.extension(sqrt(n).minpoly(),names=gen_name)\n",
    "    return K"
   ]
  },
  {
   "cell_type": "code",
   "execution_count": 74,
   "id": "ceef00d1-d036-4f68-b585-79fe3f1c6807",
   "metadata": {},
   "outputs": [],
   "source": [
    "#find the change-of-basis matrix Q making \\rho(g) unitary for all g \\in G\n",
    "from sage.matrix.special import diagonal_matrix\n",
    "from sage.misc.functional import sqrt\n",
    "def unitary_change_of_basis(SGA,partition,K):\n",
    "    rho = SGA.specht_module(partition).representation_matrix\n",
    "    group_size = SGA.group().cardinality()\n",
    "    P = (1/group_size)*sum(rho(g)*rho(g).conjugate().transpose() for g in SGA.group())\n",
    "    d, L = P.eigenmatrix_left()\n",
    "    return L.inverse() * diagonal_matrix([sqrt(K(a)) for a in d.diagonal()]) * L"
   ]
  },
  {
   "cell_type": "code",
   "execution_count": 75,
   "id": "aca07005-770f-4a0f-bd28-f6c3a5446787",
   "metadata": {},
   "outputs": [],
   "source": [
    "#define the Fourier coefficient at the representation specht_module\n",
    "#which is the Specht module corresponding to partition\n",
    "def hat(f,partition,SGA,K,unitary=False):\n",
    "    specht_module = SGA.specht_module(partition)\n",
    "    rho = specht_module.representation_matrix\n",
    "    if unitary:\n",
    "        Q = unitary_change_of_basis(SGA,partition,K)\n",
    "        unitary_factor = specht_module.dimension()/SGA.group().cardinality()\n",
    "        sqrt_unitary_factor = sqrt(K(unitary_factor))\n",
    "        return sqrt_unitary_factor*sum(f(g)*Q.inverse()*rho(g)*Q for g in SGA.group())\n",
    "    else:\n",
    "        return sum(f(g)*rho(g) for g in SGA.group())"
   ]
  },
  {
   "cell_type": "code",
   "execution_count": 76,
   "id": "b3d16b48-b4bd-43b8-bb87-038cc9cd9afd",
   "metadata": {},
   "outputs": [],
   "source": [
    "#define the delta function delta_s(t) = {1 if s == t, 0 otherwise}\n",
    "delta = lambda s: lambda t: 1 if t == s else 0"
   ]
  },
  {
   "cell_type": "code",
   "execution_count": 77,
   "id": "dad4c039-cddd-4d55-8be4-09dff460fbb8",
   "metadata": {},
   "outputs": [],
   "source": [
    "#for each basis element g \\in G compute the Fourier coefficients \\hat{\\delta_g}(partition) for all partitions\n",
    "from sage.misc.flatten import flatten\n",
    "def unitary_dft(SGA):\n",
    "    K = containing_field(SGA)\n",
    "    return matrix(K,[flatten([hat(delta(g),partition,SGA,K,unitary=True).list() for partition in Partitions(SGA.group().degree())]) for g in SGA.group()]).transpose()"
   ]
  },
  {
   "cell_type": "code",
   "execution_count": 79,
   "id": "279b49c8-3b66-4689-a755-26dce655f9d6",
   "metadata": {},
   "outputs": [],
   "source": [
    "SGA = SymmetricGroupAlgebra(QQ,3)"
   ]
  },
  {
   "cell_type": "code",
   "execution_count": 80,
   "id": "8c2d8748-b9d5-4ed8-94e7-14daceb60e60",
   "metadata": {},
   "outputs": [
    {
     "data": {
      "text/plain": [
       "-3*a2"
      ]
     },
     "execution_count": 80,
     "metadata": {},
     "output_type": "execute_result"
    }
   ],
   "source": [
    "K = containing_field(SGA); sqrt(K(3))"
   ]
  },
  {
   "cell_type": "code",
   "execution_count": 81,
   "id": "ddf55970-a7d3-4b70-aa14-6e2e1c3b3177",
   "metadata": {},
   "outputs": [],
   "source": [
    "G = SGA.group()"
   ]
  },
  {
   "cell_type": "code",
   "execution_count": 82,
   "id": "1b2edd70-15e8-46b2-a4b8-b7b6e1a62f25",
   "metadata": {},
   "outputs": [
    {
     "data": {
      "text/plain": [
       "[   1    1    1    1    1    1]\n",
       "[   1  1/2   -1 -1/2 -1/2  1/2]\n",
       "[   0  3/4    0  3/4 -3/4 -3/4]\n",
       "[   0    1    0   -1    1   -1]\n",
       "[   1 -1/2    1 -1/2 -1/2 -1/2]\n",
       "[   1   -1   -1    1    1   -1]"
      ]
     },
     "execution_count": 82,
     "metadata": {},
     "output_type": "execute_result"
    }
   ],
   "source": [
    "SGA_dft = SGA.dft(); SGA_dft"
   ]
  },
  {
   "cell_type": "code",
   "execution_count": 83,
   "id": "6df6046c-68f4-4e02-8f54-e7fb57c47349",
   "metadata": {},
   "outputs": [
    {
     "data": {
      "text/plain": [
       "[  6   0   0   0   0   0]\n",
       "[  0   3   0   0   0   0]\n",
       "[  0   0 9/4   0   0   0]\n",
       "[  0   0   0   4   0   0]\n",
       "[  0   0   0   0   3   0]\n",
       "[  0   0   0   0   0   6]"
      ]
     },
     "execution_count": 83,
     "metadata": {},
     "output_type": "execute_result"
    }
   ],
   "source": [
    "#check if A*A^T == Id. it's not, but the columns are orthonormal\n",
    "SGA_dft*SGA_dft.transpose()"
   ]
  },
  {
   "cell_type": "code",
   "execution_count": 84,
   "id": "3bb7401a-4174-43e1-a5c0-d4cf7274a07f",
   "metadata": {},
   "outputs": [
    {
     "data": {
      "text/plain": [
       "[2, 1]"
      ]
     },
     "execution_count": 84,
     "metadata": {},
     "output_type": "execute_result"
    }
   ],
   "source": [
    "partition = Partitions(SGA.group().degree())[1]; partition"
   ]
  },
  {
   "cell_type": "code",
   "execution_count": 85,
   "id": "585b6cdc-ae42-4ba0-90a8-6ef2723999a3",
   "metadata": {},
   "outputs": [],
   "source": [
    "specht_module = SGA.specht_module(partition)"
   ]
  },
  {
   "cell_type": "code",
   "execution_count": 86,
   "id": "fe9d71f6-1301-451e-8667-b55fa99fbccb",
   "metadata": {},
   "outputs": [],
   "source": [
    "rho = specht_module.representation_matrix"
   ]
  },
  {
   "cell_type": "code",
   "execution_count": 87,
   "id": "6ab6a378-64ed-4d85-8220-645e594b8738",
   "metadata": {},
   "outputs": [],
   "source": [
    "group_size = SGA.group().cardinality()"
   ]
  },
  {
   "cell_type": "code",
   "execution_count": 88,
   "id": "abcea45b-630b-4ecc-abe6-a6699a28bcc9",
   "metadata": {},
   "outputs": [
    {
     "data": {
      "text/plain": [
       "Rational Field"
      ]
     },
     "execution_count": 88,
     "metadata": {},
     "output_type": "execute_result"
    }
   ],
   "source": [
    "P = (1/group_size)*sum(rho(g)*rho(g).conjugate().transpose() for g in SGA.group()); P.base_ring()"
   ]
  },
  {
   "cell_type": "code",
   "execution_count": 89,
   "id": "b82a3693-ed70-40ea-a4f4-0ed65dbd56ec",
   "metadata": {},
   "outputs": [
    {
     "data": {
      "text/plain": [
       "[ 1/2*a1*a2 + 1/2*a1 -1/2*a1*a2 + 1/2*a1]\n",
       "[-1/2*a1*a2 + 1/2*a1  1/2*a1*a2 + 1/2*a1]"
      ]
     },
     "execution_count": 89,
     "metadata": {},
     "output_type": "execute_result"
    }
   ],
   "source": [
    "Q = unitary_change_of_basis(SGA,partition,K); Q"
   ]
  },
  {
   "cell_type": "code",
   "execution_count": 90,
   "id": "c2b8cd24-eb11-4efe-8eae-b01102bf8a9c",
   "metadata": {},
   "outputs": [
    {
     "data": {
      "text/plain": [
       "1/3"
      ]
     },
     "execution_count": 90,
     "metadata": {},
     "output_type": "execute_result"
    }
   ],
   "source": [
    "unitary_factor = specht_module.dimension()/SGA.group().cardinality(); unitary_factor"
   ]
  },
  {
   "cell_type": "code",
   "execution_count": 91,
   "id": "132484d0-971e-4b2f-a09b-60a480ed2782",
   "metadata": {},
   "outputs": [
    {
     "data": {
      "text/plain": [
       "Number Field in a2 with defining polynomial x^2 - 1/3 over its base field"
      ]
     },
     "execution_count": 91,
     "metadata": {},
     "output_type": "execute_result"
    }
   ],
   "source": [
    "K"
   ]
  },
  {
   "cell_type": "code",
   "execution_count": 92,
   "id": "3417c790-bfc5-4740-b1e6-b608a06822bf",
   "metadata": {},
   "outputs": [
    {
     "data": {
      "text/plain": [
       "[2, 3, 1]"
      ]
     },
     "execution_count": 92,
     "metadata": {},
     "output_type": "execute_result"
    }
   ],
   "source": [
    "G[3]"
   ]
  },
  {
   "cell_type": "code",
   "execution_count": 93,
   "id": "351ff127-9790-4633-85b6-24576ccabc18",
   "metadata": {},
   "outputs": [
    {
     "data": {
      "text/plain": [
       "[-1  1]\n",
       "[-1  0]"
      ]
     },
     "execution_count": 93,
     "metadata": {},
     "output_type": "execute_result"
    }
   ],
   "source": [
    "rho(G[3])"
   ]
  },
  {
   "cell_type": "code",
   "execution_count": 94,
   "id": "cf7eab07-1332-4538-b70c-6ff144812a73",
   "metadata": {},
   "outputs": [
    {
     "data": {
      "text/plain": [
       "[   -1/2  3/2*a2]\n",
       "[-3/2*a2    -1/2]"
      ]
     },
     "execution_count": 94,
     "metadata": {},
     "output_type": "execute_result"
    }
   ],
   "source": [
    "U_rho = Q.inverse()*rho(G[3])*Q; U_rho"
   ]
  },
  {
   "cell_type": "code",
   "execution_count": 95,
   "id": "77a25aa2-afbd-4ffa-9bd8-f204a1ed8558",
   "metadata": {},
   "outputs": [
    {
     "data": {
      "text/plain": [
       "[1 0]\n",
       "[0 1]"
      ]
     },
     "execution_count": 95,
     "metadata": {},
     "output_type": "execute_result"
    }
   ],
   "source": [
    "U_rho*U_rho.conjugate().transpose()"
   ]
  },
  {
   "cell_type": "code",
   "execution_count": 96,
   "id": "2503a178-95f8-470f-b4d8-d13c520df4fa",
   "metadata": {},
   "outputs": [
    {
     "data": {
      "text/plain": [
       "[ 1/2*a1*a2  1/2*a1*a2  1/2*a1*a2  1/2*a1*a2  1/2*a1*a2  1/2*a1*a2]\n",
       "[       -a2          0       -1/2     1/2*a2     1/2*a2        1/2]\n",
       "[         0        -a2     1/2*a2       -1/2        1/2     1/2*a2]\n",
       "[         0        -a2     1/2*a2        1/2       -1/2     1/2*a2]\n",
       "[       -a2          0        1/2     1/2*a2     1/2*a2       -1/2]\n",
       "[ 1/2*a1*a2 -1/2*a1*a2 -1/2*a1*a2  1/2*a1*a2  1/2*a1*a2 -1/2*a1*a2]"
      ]
     },
     "execution_count": 96,
     "metadata": {},
     "output_type": "execute_result"
    }
   ],
   "source": [
    "unitary_dft(SGA)"
   ]
  },
  {
   "cell_type": "code",
   "execution_count": 97,
   "id": "cf96731b-2f63-449b-bcb9-88bd015d4dfd",
   "metadata": {},
   "outputs": [
    {
     "data": {
      "text/plain": [
       "[1 0 0 0 0 0]\n",
       "[0 1 0 0 0 0]\n",
       "[0 0 1 0 0 0]\n",
       "[0 0 0 1 0 0]\n",
       "[0 0 0 0 1 0]\n",
       "[0 0 0 0 0 1]"
      ]
     },
     "execution_count": 97,
     "metadata": {},
     "output_type": "execute_result"
    }
   ],
   "source": [
    "U_dft = unitary_dft(SGA); U_dft*U_dft.conjugate().transpose()"
   ]
  },
  {
   "cell_type": "code",
   "execution_count": 98,
   "id": "8ba7dfc6-7632-4519-93a9-74680ed23263",
   "metadata": {},
   "outputs": [
    {
     "data": {
      "text/plain": [
       "True"
      ]
     },
     "execution_count": 98,
     "metadata": {},
     "output_type": "execute_result"
    }
   ],
   "source": [
    "#check that the DFT is unitary\n",
    "(U_dft*U_dft.transpose()) == identity_matrix(SGA.group().cardinality())"
   ]
  },
  {
   "cell_type": "code",
   "execution_count": 99,
   "id": "45e8804f-368c-49d1-b073-219eadd8f3ed",
   "metadata": {},
   "outputs": [],
   "source": [
    "#what are the eigenvalues?"
   ]
  },
  {
   "cell_type": "code",
   "execution_count": 100,
   "id": "888cca70-d42c-42a4-94fc-78f1520fc990",
   "metadata": {},
   "outputs": [
    {
     "ename": "KeyboardInterrupt",
     "evalue": "",
     "output_type": "error",
     "traceback": [
      "\u001b[0;31m---------------------------------------------------------------------------\u001b[0m",
      "\u001b[0;31mKeyboardInterrupt\u001b[0m                         Traceback (most recent call last)",
      "Cell \u001b[0;32mIn[100], line 2\u001b[0m\n\u001b[1;32m      1\u001b[0m U_dft \u001b[38;5;241m=\u001b[39m unitary_dft(SGA)\n\u001b[0;32m----> 2\u001b[0m k \u001b[38;5;241m=\u001b[39m U_dft\u001b[38;5;241m.\u001b[39mcharpoly()\u001b[38;5;241m.\u001b[39msplitting_field(names\u001b[38;5;241m=\u001b[39m(\u001b[38;5;124m'\u001b[39m\u001b[38;5;124ma\u001b[39m\u001b[38;5;124m'\u001b[39m,)); (a,) \u001b[38;5;241m=\u001b[39m k\u001b[38;5;241m.\u001b[39m_first_ngens(\u001b[38;5;241m1\u001b[39m)\n\u001b[1;32m      3\u001b[0m eigs \u001b[38;5;241m=\u001b[39m matrix(k,U_dft)\u001b[38;5;241m.\u001b[39meigenvalues(extend\u001b[38;5;241m=\u001b[39m\u001b[38;5;28;01mFalse\u001b[39;00m); eigs\n",
      "File \u001b[0;32m/private/var/tmp/sage-10.3-current/local/var/lib/sage/venv-python3.11.1/lib/python3.11/site-packages/sage/rings/polynomial/polynomial_element.pyx:5326\u001b[0m, in \u001b[0;36msage.rings.polynomial.polynomial_element.Polynomial.splitting_field (build/cythonized/sage/rings/polynomial/polynomial_element.c:55827)\u001b[0;34m()\u001b[0m\n\u001b[1;32m   5324\u001b[0m if isinstance(F, NumberField):\n\u001b[1;32m   5325\u001b[0m     from sage.rings.number_field.splitting_field import splitting_field\n\u001b[0;32m-> 5326\u001b[0m     return splitting_field(f, name, map, **kwds)\n\u001b[1;32m   5327\u001b[0m elif isinstance(F, FiniteField):\n\u001b[1;32m   5328\u001b[0m     degree = lcm([f.degree() for f, _ in self.factor()])\n",
      "File \u001b[0;32m/private/var/tmp/sage-10.3-current/local/var/lib/sage/venv-python3.11.1/lib/python3.11/site-packages/sage/rings/number_field/splitting_field.py:561\u001b[0m, in \u001b[0;36msplitting_field\u001b[0;34m(poly, name, map, degree_multiple, abort_degree, simplify, simplify_all)\u001b[0m\n\u001b[1;32m    558\u001b[0m     MtoL \u001b[38;5;241m=\u001b[39m pari(\u001b[38;5;124m\"\u001b[39m\u001b[38;5;124m'\u001b[39m\u001b[38;5;124my\u001b[39m\u001b[38;5;124m\"\u001b[39m)\n\u001b[1;32m    560\u001b[0m NtoL \u001b[38;5;241m=\u001b[39m MtoL\u001b[38;5;241m/\u001b[39mMdiv\n\u001b[0;32m--> 561\u001b[0m KtoL \u001b[38;5;241m=\u001b[39m \u001b[43mKtoN\u001b[49m\u001b[38;5;241;43m.\u001b[39;49m\u001b[43mlift\u001b[49m\u001b[43m(\u001b[49m\u001b[43m)\u001b[49m\u001b[38;5;241;43m.\u001b[39;49m\u001b[43msubst\u001b[49m\u001b[43m(\u001b[49m\u001b[38;5;124;43m\"\u001b[39;49m\u001b[38;5;124;43mx\u001b[39;49m\u001b[38;5;124;43m\"\u001b[39;49m\u001b[43m,\u001b[49m\u001b[43m \u001b[49m\u001b[43mNtoL\u001b[49m\u001b[43m)\u001b[49m\u001b[38;5;241m.\u001b[39mMod(Lpol)\n\u001b[1;32m    562\u001b[0m Kpol \u001b[38;5;241m=\u001b[39m Lpol   \u001b[38;5;66;03m# New Kpol (for next iteration)\u001b[39;00m\n\u001b[1;32m    563\u001b[0m verbose(\u001b[38;5;124m\"\u001b[39m\u001b[38;5;124mNew field: \u001b[39m\u001b[38;5;132;01m%s\u001b[39;00m\u001b[38;5;124m\"\u001b[39m \u001b[38;5;241m%\u001b[39m Kpol, t)\n",
      "File \u001b[0;32mcypari2/auto_gen.pxi:33295\u001b[0m, in \u001b[0;36mcypari2.gen.Gen_base.subst\u001b[0;34m()\u001b[0m\n",
      "\u001b[0;31mKeyboardInterrupt\u001b[0m: "
     ]
    }
   ],
   "source": [
    "k.<a> = U_dft.charpoly().splitting_field()\n",
    "eigs = matrix(k,U_dft).eigenvalues(extend=False); eigs"
   ]
  },
  {
   "cell_type": "code",
   "execution_count": null,
   "id": "de676e52-78db-42ae-a2f3-befeec8fe9bc",
   "metadata": {},
   "outputs": [],
   "source": [
    "eigs"
   ]
  },
  {
   "cell_type": "code",
   "execution_count": null,
   "id": "14cbad6c-4016-4b14-9ce0-415b9d90f2c1",
   "metadata": {},
   "outputs": [],
   "source": [
    "#n=3: two real, two complex\n",
    "#n=4: all complex\n",
    "#the magnitude is not 1, they're closely grouped around 2 or 3"
   ]
  },
  {
   "cell_type": "code",
   "execution_count": null,
   "id": "2caebbde-e05f-416d-a06f-b1d8d8c53ebb",
   "metadata": {},
   "outputs": [],
   "source": [
    "eigs = A.eigenvalues(); eigs"
   ]
  },
  {
   "cell_type": "code",
   "execution_count": null,
   "id": "edb1c420-f44a-4cb3-9fb3-2ffa17dee539",
   "metadata": {},
   "outputs": [],
   "source": [
    "[abs(eig) for eig in eigs]"
   ]
  },
  {
   "cell_type": "code",
   "execution_count": null,
   "id": "5a48909b-3b9a-437c-a778-e81f28f3735b",
   "metadata": {},
   "outputs": [],
   "source": [
    "#note that the singluar values are the square roots of the diagonal entries of the Gram matrix\n",
    "print(SymmetricGroup(n).algebra(CDF).dft().SVD()[1].numpy().diagonal())\n",
    "print(sqrt((A*A.transpose()).numpy().diagonal()))"
   ]
  },
  {
   "cell_type": "code",
   "execution_count": null,
   "id": "7b949e59-2889-48f2-a750-2c981e15795b",
   "metadata": {},
   "outputs": [],
   "source": []
  }
 ],
 "metadata": {
  "kernelspec": {
   "display_name": "SageMath 10.3",
   "language": "sage",
   "name": "sagemath-10.3"
  },
  "language_info": {
   "codemirror_mode": {
    "name": "ipython",
    "version": 3
   },
   "file_extension": ".py",
   "mimetype": "text/x-python",
   "name": "python",
   "nbconvert_exporter": "python",
   "pygments_lexer": "ipython3",
   "version": "3.11.1"
  }
 },
 "nbformat": 4,
 "nbformat_minor": 5
}
