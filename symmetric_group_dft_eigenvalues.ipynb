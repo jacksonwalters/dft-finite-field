{
 "cells": [
  {
   "cell_type": "code",
   "execution_count": 9,
   "id": "2a529f2b-1157-4229-84d0-8749505137a0",
   "metadata": {},
   "outputs": [],
   "source": [
    "n=3"
   ]
  },
  {
   "cell_type": "code",
   "execution_count": 11,
   "id": "8624b4fc-d39e-474d-9358-672e4027ace1",
   "metadata": {},
   "outputs": [],
   "source": [
    "G = SymmetricGroup(n)"
   ]
  },
  {
   "cell_type": "code",
   "execution_count": 56,
   "id": "1c45cb00-2600-4dee-8b70-5a6baf72fca4",
   "metadata": {},
   "outputs": [],
   "source": [
    "SGA = G.algebra(QQ)"
   ]
  },
  {
   "cell_type": "code",
   "execution_count": 57,
   "id": "7fcb1221-5691-4d2e-b30d-32dfef1c1468",
   "metadata": {},
   "outputs": [
    {
     "data": {
      "text/plain": [
       "[   1    1    1    1    1    1]\n",
       "[   1 -1/2 -1/2  1/2  1/2   -1]\n",
       "[   0 -3/4  3/4  3/4 -3/4    0]\n",
       "[   0    1   -1    1   -1    0]\n",
       "[   1 -1/2 -1/2 -1/2 -1/2    1]\n",
       "[   1    1    1   -1   -1   -1]"
      ]
     },
     "execution_count": 57,
     "metadata": {},
     "output_type": "execute_result"
    }
   ],
   "source": [
    "A = SGA.dft(); A"
   ]
  },
  {
   "cell_type": "code",
   "execution_count": 89,
   "id": "01fd16bc-d1c9-43cb-b9fe-95891d53e952",
   "metadata": {},
   "outputs": [],
   "source": [
    "#is the matrix unitary?\n",
    "#A*A^T is diagonal, but not the identity. so A is not unitary.\n",
    "#A*A^T is called the Gram matrix"
   ]
  },
  {
   "cell_type": "code",
   "execution_count": 58,
   "id": "e67456ca-95cd-45b2-b443-967066ba5493",
   "metadata": {},
   "outputs": [
    {
     "name": "stdout",
     "output_type": "stream",
     "text": [
      "[  6   0   0   0   0   0]\n",
      "[  0   3   0   0   0   0]\n",
      "[  0   0 9/4   0   0   0]\n",
      "[  0   0   0   4   0   0]\n",
      "[  0   0   0   0   3   0]\n",
      "[  0   0   0   0   0   6]\n"
     ]
    }
   ],
   "source": [
    "print((A*A.transpose()).str())"
   ]
  },
  {
   "cell_type": "code",
   "execution_count": 3,
   "id": "e5fa7439-9967-496e-b27a-6c2564f7f9ca",
   "metadata": {},
   "outputs": [],
   "source": [
    "#define a new DFT which is unitary"
   ]
  },
  {
   "cell_type": "code",
   "execution_count": 71,
   "id": "aca07005-770f-4a0f-bd28-f6c3a5446787",
   "metadata": {},
   "outputs": [],
   "source": [
    "#define the Fourier coefficient at the representation spc\n",
    "#which is the Specht module corresponding to partition\n",
    "def f_hat(f,partition):\n",
    "    specht_module = SGA.specht_module(partition)\n",
    "    d_part = specht_module.dimension()\n",
    "    return sqrt(d_part/factorial(n))*sum(f(sigma)*specht_module.representation_matrix(sigma) for sigma in G)"
   ]
  },
  {
   "cell_type": "code",
   "execution_count": 24,
   "id": "b3d16b48-b4bd-43b8-bb87-038cc9cd9afd",
   "metadata": {},
   "outputs": [],
   "source": [
    "#define the delta function delta_\\s(\\t) = {1 if s == t, 0 otherwise}\n",
    "def delta(s):\n",
    "    return lambda t: 1 if t == s else 0"
   ]
  },
  {
   "cell_type": "code",
   "execution_count": 45,
   "id": "dad4c039-cddd-4d55-8be4-09dff460fbb8",
   "metadata": {},
   "outputs": [],
   "source": [
    "#compute \\hat{\\delta_s}(partition) for each basis vector s \\in G\n",
    "from sage.misc.flatten import flatten\n",
    "def unitary_dft():\n",
    "    return matrix([flatten([f_hat(delta(g),partition).list() for partition in Partitions(n)]) for g in G]).transpose()"
   ]
  },
  {
   "cell_type": "code",
   "execution_count": 72,
   "id": "8ba7dfc6-7632-4519-93a9-74680ed23263",
   "metadata": {},
   "outputs": [
    {
     "data": {
      "text/plain": [
       "[ sqrt(1/6)  sqrt(1/6)  sqrt(1/6)  sqrt(1/6)  sqrt(1/6)  sqrt(1/6)]\n",
       "[ sqrt(1/3) -sqrt(1/3)          0 -sqrt(1/3)          0  sqrt(1/3)]\n",
       "[         0  sqrt(1/3) -sqrt(1/3)          0  sqrt(1/3) -sqrt(1/3)]\n",
       "[         0 -sqrt(1/3)  sqrt(1/3) -sqrt(1/3)  sqrt(1/3)          0]\n",
       "[ sqrt(1/3)          0 -sqrt(1/3)  sqrt(1/3)          0 -sqrt(1/3)]\n",
       "[ sqrt(1/6)  sqrt(1/6)  sqrt(1/6) -sqrt(1/6) -sqrt(1/6) -sqrt(1/6)]"
      ]
     },
     "execution_count": 72,
     "metadata": {},
     "output_type": "execute_result"
    }
   ],
   "source": [
    "unitary_dft()*unitary"
   ]
  },
  {
   "cell_type": "code",
   "execution_count": 61,
   "id": "6eabf847-892f-4e46-b34d-ffadaed22f0d",
   "metadata": {},
   "outputs": [
    {
     "data": {
      "text/plain": [
       "[-1  1]\n",
       "[-1  0]"
      ]
     },
     "execution_count": 61,
     "metadata": {},
     "output_type": "execute_result"
    }
   ],
   "source": [
    "SGA.specht_module(Partitions(n)[1]).representation_matrix(G[1])"
   ]
  },
  {
   "cell_type": "code",
   "execution_count": 58,
   "id": "14cbad6c-4016-4b14-9ce0-415b9d90f2c1",
   "metadata": {},
   "outputs": [],
   "source": [
    "#what are the eigenvalues?\n",
    "#n=3: two real, two complex\n",
    "#n=4: all complex\n",
    "#the magnitude is not 1, they're closely grouped around 2 or 3"
   ]
  },
  {
   "cell_type": "code",
   "execution_count": 92,
   "id": "2caebbde-e05f-416d-a06f-b1d8d8c53ebb",
   "metadata": {},
   "outputs": [
    {
     "data": {
      "text/plain": [
       "[-1.927382440195288?, 2.121715010353017?, -1.174423554578382? - 1.623003052198150?*I, -1.174423554578382? + 1.623003052198150?*I, 1.452257269499517? - 1.086817272076326?*I, 1.452257269499517? + 1.086817272076326?*I]"
      ]
     },
     "execution_count": 92,
     "metadata": {},
     "output_type": "execute_result"
    }
   ],
   "source": [
    "eigs = A.eigenvalues(); eigs"
   ]
  },
  {
   "cell_type": "code",
   "execution_count": 93,
   "id": "edb1c420-f44a-4cb3-9fb3-2ffa17dee539",
   "metadata": {},
   "outputs": [
    {
     "data": {
      "text/plain": [
       "[1.927382440195288?,\n",
       " 2.121715010353017?,\n",
       " 2.003349593304431?,\n",
       " 2.003349593304431?,\n",
       " 1.813897174510622?,\n",
       " 1.813897174510622?]"
      ]
     },
     "execution_count": 93,
     "metadata": {},
     "output_type": "execute_result"
    }
   ],
   "source": [
    "[abs(eig) for eig in eigs]"
   ]
  },
  {
   "cell_type": "code",
   "execution_count": 121,
   "id": "5a48909b-3b9a-437c-a778-e81f28f3735b",
   "metadata": {},
   "outputs": [
    {
     "name": "stdout",
     "output_type": "stream",
     "text": [
      "[2.44948974+0.j 2.44948974+0.j 2.        +0.j 1.73205081+0.j\n",
      " 1.73205081+0.j 1.5       +0.j]\n",
      "[2.44948974 1.73205081 1.5        2.         1.73205081 2.44948974]\n"
     ]
    }
   ],
   "source": [
    "#note that the singluar values are the square roots of the diagonal entries of the Gram matrix\n",
    "print(SymmetricGroup(n).algebra(CDF).dft().SVD()[1].numpy().diagonal())\n",
    "print(sqrt((A*A.transpose()).numpy().diagonal()))"
   ]
  },
  {
   "cell_type": "code",
   "execution_count": null,
   "id": "7b949e59-2889-48f2-a750-2c981e15795b",
   "metadata": {},
   "outputs": [],
   "source": []
  }
 ],
 "metadata": {
  "kernelspec": {
   "display_name": "SageMath 10.3",
   "language": "sage",
   "name": "sagemath-10.3"
  },
  "language_info": {
   "codemirror_mode": {
    "name": "ipython",
    "version": 3
   },
   "file_extension": ".py",
   "mimetype": "text/x-python",
   "name": "python",
   "nbconvert_exporter": "python",
   "pygments_lexer": "ipython3",
   "version": "3.11.1"
  }
 },
 "nbformat": 4,
 "nbformat_minor": 5
}
