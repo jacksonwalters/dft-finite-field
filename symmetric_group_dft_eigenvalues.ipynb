{
 "cells": [
  {
   "cell_type": "code",
   "execution_count": 1,
   "id": "e5fa7439-9967-496e-b27a-6c2564f7f9ca",
   "metadata": {},
   "outputs": [],
   "source": [
    "#define a new DFT which is unitary\n",
    "#NOTE: in Beals' ['97] he normalizes by \\sqrt{d_\\lambda/n!}\n",
    "#but also notes that a basis change is an equivalence relation on rep'ns\n",
    "#and each equivalence class contains a unitary representatione\n",
    "#if each rep'n \\rho \\in \\hat{G} is unitary, then the transformation is unitary\n",
    "#these representations are not unitary\n",
    "#to make them unitary, use Weyl's unitary trick\n",
    "#OPTION 1: use the formula P = \\int_G \\rho(g)\\rho(g)^* dg, and take a square root to find Q s.t. P = Q^2\n",
    "#OPTION 2: define a new invariant inner product compute an orthonormal basis w.r.t. \n",
    "#this inner product by computing the Gram matrix A and using A.gram_schmidt()"
   ]
  },
  {
   "cell_type": "code",
   "execution_count": 287,
   "id": "ceef00d1-d036-4f68-b585-79fe3f1c6807",
   "metadata": {},
   "outputs": [],
   "source": [
    "#find the change-of-basis matrix Q making \\rho(g) unitary for all g \\in G\n",
    "from sage.matrix.special import diagonal_matrix\n",
    "from sage.misc.functional import sqrt\n",
    "def unitary_change_of_basis(SGA,partition):\n",
    "    rho = SGA.specht_module(partition).representation_matrix\n",
    "    group_size = SGA.group().cardinality()\n",
    "    P = (1/group_size)*sum(rho(g)*rho(g).conjugate().transpose() for g in SGA.group())\n",
    "    d, L = P.eigenmatrix_left()\n",
    "    return L.inverse() * diagonal_matrix([sqrt(a) for a in d.diagonal()]) * L"
   ]
  },
  {
   "cell_type": "code",
   "execution_count": 241,
   "id": "efa0fa10-08e2-4abc-9caf-2e274531a6bd",
   "metadata": {},
   "outputs": [],
   "source": [
    "#find the \\sqrt{n} by extending to degree 2 field L = K[x]/(x^2-n)\n",
    "def square_root_ext(F,n):\n",
    "    R = PolynomialRing(F,'x')\n",
    "    f = R.0**2-n; assert f in R\n",
    "    L.<a> = f.splitting_field()\n",
    "    return sqrt(L(n))"
   ]
  },
  {
   "cell_type": "code",
   "execution_count": 267,
   "id": "aca07005-770f-4a0f-bd28-f6c3a5446787",
   "metadata": {},
   "outputs": [],
   "source": [
    "#define the Fourier coefficient at the representation specht_module\n",
    "#which is the Specht module corresponding to partition\n",
    "def hat(f,partition,SGA,unitary=False):\n",
    "    specht_module = SGA.specht_module(partition)\n",
    "    rho = specht_module.representation_matrix\n",
    "    if unitary:\n",
    "        Q = unitary_change_of_basis(SGA,partition)\n",
    "        K.<a> = NumberField(list(set([a.minpoly() for a in Q.list()])))\n",
    "        unitary_factor = specht_module.dimension()/SGA.group().cardinality()\n",
    "        sqrt_unitary_factor = square_root_ext(K,unitary_factor)\n",
    "        return sqrt_unitary_factor*sum(f(g)*Q.inverse()*rho(g)*Q for g in SGA.group())\n",
    "    else:\n",
    "        return sum(f(g)*rho(g) for g in SGA.group())"
   ]
  },
  {
   "cell_type": "code",
   "execution_count": 164,
   "id": "b3d16b48-b4bd-43b8-bb87-038cc9cd9afd",
   "metadata": {},
   "outputs": [],
   "source": [
    "#define the delta function delta_s(t) = {1 if s == t, 0 otherwise}\n",
    "delta = lambda s: lambda t: 1 if t == s else 0"
   ]
  },
  {
   "cell_type": "code",
   "execution_count": 146,
   "id": "dad4c039-cddd-4d55-8be4-09dff460fbb8",
   "metadata": {},
   "outputs": [],
   "source": [
    "#for each basis element g \\in G compute the Fourier coefficients \\hat{\\delta_g}(partition) for all partitions\n",
    "from sage.misc.flatten import flatten\n",
    "def unitary_dft(SGA):\n",
    "    unitary_dft_matrix = matrix([flatten([hat(delta(g),partition,SGA,unitary=True).list() for partition in Partitions(SGA.group().degree())]) for g in G]).transpose()\n",
    "    if unitary_dft_matrix.base_ring() == SR:\n",
    "        return unitary_dft_matrix.simplify_full()\n",
    "    else:\n",
    "        return unitary_dft_matrix"
   ]
  },
  {
   "cell_type": "code",
   "execution_count": 55,
   "id": "262144e3-03f9-493c-a54e-d288abd9395e",
   "metadata": {},
   "outputs": [],
   "source": [
    "#QUESTION: is the SGA DFT unitary?"
   ]
  },
  {
   "cell_type": "code",
   "execution_count": 170,
   "id": "279b49c8-3b66-4689-a755-26dce655f9d6",
   "metadata": {},
   "outputs": [],
   "source": [
    "SGA = SymmetricGroupAlgebra(QQ,3)"
   ]
  },
  {
   "cell_type": "code",
   "execution_count": 171,
   "id": "ddf55970-a7d3-4b70-aa14-6e2e1c3b3177",
   "metadata": {},
   "outputs": [],
   "source": [
    "G = SGA.group()"
   ]
  },
  {
   "cell_type": "code",
   "execution_count": 172,
   "id": "1b2edd70-15e8-46b2-a4b8-b7b6e1a62f25",
   "metadata": {},
   "outputs": [
    {
     "data": {
      "text/plain": [
       "[   1    1    1    1    1    1]\n",
       "[   1  1/2   -1 -1/2 -1/2  1/2]\n",
       "[   0  3/4    0  3/4 -3/4 -3/4]\n",
       "[   0    1    0   -1    1   -1]\n",
       "[   1 -1/2    1 -1/2 -1/2 -1/2]\n",
       "[   1   -1   -1    1    1   -1]"
      ]
     },
     "execution_count": 172,
     "metadata": {},
     "output_type": "execute_result"
    }
   ],
   "source": [
    "SGA_dft = SGA.dft(); SGA_dft"
   ]
  },
  {
   "cell_type": "code",
   "execution_count": 173,
   "id": "6df6046c-68f4-4e02-8f54-e7fb57c47349",
   "metadata": {},
   "outputs": [
    {
     "data": {
      "text/plain": [
       "[  6   0   0   0   0   0]\n",
       "[  0   3   0   0   0   0]\n",
       "[  0   0 9/4   0   0   0]\n",
       "[  0   0   0   4   0   0]\n",
       "[  0   0   0   0   3   0]\n",
       "[  0   0   0   0   0   6]"
      ]
     },
     "execution_count": 173,
     "metadata": {},
     "output_type": "execute_result"
    }
   ],
   "source": [
    "#check if A*A^T == Id. it's not, but the columns are orthonormal\n",
    "SGA_dft*SGA_dft.transpose()"
   ]
  },
  {
   "cell_type": "code",
   "execution_count": 174,
   "id": "3bb7401a-4174-43e1-a5c0-d4cf7274a07f",
   "metadata": {},
   "outputs": [
    {
     "data": {
      "text/plain": [
       "[2, 1]"
      ]
     },
     "execution_count": 174,
     "metadata": {},
     "output_type": "execute_result"
    }
   ],
   "source": [
    "partition = Partitions(SGA.group().degree())[1]; partition"
   ]
  },
  {
   "cell_type": "code",
   "execution_count": 205,
   "id": "585b6cdc-ae42-4ba0-90a8-6ef2723999a3",
   "metadata": {},
   "outputs": [],
   "source": [
    "specht_module = SGA.specht_module(partition)"
   ]
  },
  {
   "cell_type": "code",
   "execution_count": 206,
   "id": "fe9d71f6-1301-451e-8667-b55fa99fbccb",
   "metadata": {},
   "outputs": [],
   "source": [
    "rho = specht_module.representation_matrix"
   ]
  },
  {
   "cell_type": "code",
   "execution_count": 232,
   "id": "6ab6a378-64ed-4d85-8220-645e594b8738",
   "metadata": {},
   "outputs": [],
   "source": [
    "group_size = SGA.group().cardinality()"
   ]
  },
  {
   "cell_type": "code",
   "execution_count": 284,
   "id": "abcea45b-630b-4ecc-abe6-a6699a28bcc9",
   "metadata": {},
   "outputs": [
    {
     "data": {
      "text/plain": [
       "Rational Field"
      ]
     },
     "execution_count": 284,
     "metadata": {},
     "output_type": "execute_result"
    }
   ],
   "source": [
    "P = (1/group_size)*sum(rho(g)*rho(g).conjugate().transpose() for g in SGA.group()); P.base_ring()"
   ]
  },
  {
   "cell_type": "code",
   "execution_count": 288,
   "id": "d7fb40d1-b1ce-4bee-84eb-21f0c585f0ac",
   "metadata": {},
   "outputs": [
    {
     "data": {
      "text/plain": [
       "[4/3, 2/3, 2/3, 4/3]"
      ]
     },
     "execution_count": 288,
     "metadata": {},
     "output_type": "execute_result"
    }
   ],
   "source": [
    "P.list()"
   ]
  },
  {
   "cell_type": "code",
   "execution_count": 286,
   "id": "b82a3693-ed70-40ea-a4f4-0ed65dbd56ec",
   "metadata": {},
   "outputs": [
    {
     "data": {
      "text/plain": [
       "[1/2*sqrt(2) + 1/2*sqrt(2/3) 1/2*sqrt(2) - 1/2*sqrt(2/3)]\n",
       "[1/2*sqrt(2) - 1/2*sqrt(2/3) 1/2*sqrt(2) + 1/2*sqrt(2/3)]"
      ]
     },
     "execution_count": 286,
     "metadata": {},
     "output_type": "execute_result"
    }
   ],
   "source": [
    "Q = unitary_change_of_basis(SGA,partition); Q"
   ]
  },
  {
   "cell_type": "code",
   "execution_count": 246,
   "id": "b8ae04e2-1391-4f37-b89c-7a00c452df7b",
   "metadata": {},
   "outputs": [],
   "source": [
    "Q_list = Q.list();"
   ]
  },
  {
   "cell_type": "code",
   "execution_count": 275,
   "id": "85f46cd2-d2ef-41ca-95fc-d54d0ceccb56",
   "metadata": {},
   "outputs": [
    {
     "data": {
      "text/plain": [
       "[x^4 - 4/3*x^2 + 1/9]"
      ]
     },
     "execution_count": 275,
     "metadata": {},
     "output_type": "execute_result"
    }
   ],
   "source": [
    "Q_list_polys = list(set([a.minpoly() for a in Q.list()])); Q_list_polys"
   ]
  },
  {
   "cell_type": "code",
   "execution_count": 282,
   "id": "c2b8cd24-eb11-4efe-8eae-b01102bf8a9c",
   "metadata": {},
   "outputs": [
    {
     "data": {
      "text/plain": [
       "1/3"
      ]
     },
     "execution_count": 282,
     "metadata": {},
     "output_type": "execute_result"
    }
   ],
   "source": [
    "unitary_factor = specht_module.dimension()/SGA.group().cardinality(); unitary_factor"
   ]
  },
  {
   "cell_type": "code",
   "execution_count": 283,
   "id": "5fa90510-c76e-4ac8-b8b4-ae8d177dfee2",
   "metadata": {},
   "outputs": [
    {
     "ename": "ValueError",
     "evalue": "need a real or complex embedding to convert a non rational element of a number field into an algebraic number",
     "output_type": "error",
     "traceback": [
      "\u001b[0;31m---------------------------------------------------------------------------\u001b[0m",
      "\u001b[0;31mValueError\u001b[0m                                Traceback (most recent call last)",
      "Cell \u001b[0;32mIn[283], line 1\u001b[0m\n\u001b[0;32m----> 1\u001b[0m \u001b[43mmatrix\u001b[49m\u001b[43m(\u001b[49m\u001b[43mK\u001b[49m\u001b[43m,\u001b[49m\u001b[43mQ\u001b[49m\u001b[43m)\u001b[49m\n",
      "File \u001b[0;32m/private/var/tmp/sage-10.3-current/local/var/lib/sage/venv-python3.11.1/lib/python3.11/site-packages/sage/matrix/constructor.pyx:648\u001b[0m, in \u001b[0;36msage.matrix.constructor.matrix (build/cythonized/sage/matrix/constructor.c:5351)\u001b[0;34m()\u001b[0m\n\u001b[1;32m    646\u001b[0m \"\"\"\n\u001b[1;32m    647\u001b[0m immutable = kwds.pop('immutable', False)\n\u001b[0;32m--> 648\u001b[0m M = MatrixArgs(*args, **kwds).matrix()\n\u001b[1;32m    649\u001b[0m if immutable:\n\u001b[1;32m    650\u001b[0m     M.set_immutable()\n",
      "File \u001b[0;32m/private/var/tmp/sage-10.3-current/local/var/lib/sage/venv-python3.11.1/lib/python3.11/site-packages/sage/matrix/args.pyx:690\u001b[0m, in \u001b[0;36msage.matrix.args.MatrixArgs.matrix (build/cythonized/sage/matrix/args.c:13082)\u001b[0;34m()\u001b[0m\n\u001b[1;32m    688\u001b[0m             break\n\u001b[1;32m    689\u001b[0m else:\n\u001b[0;32m--> 690\u001b[0m     M = self.space(self, coerce=convert)\n\u001b[1;32m    691\u001b[0m \n\u001b[1;32m    692\u001b[0m # Also store the matrix to support multiple calls of matrix()\n",
      "File \u001b[0;32m/private/var/tmp/sage-10.3-current/local/var/lib/sage/venv-python3.11.1/lib/python3.11/site-packages/sage/structure/parent.pyx:903\u001b[0m, in \u001b[0;36msage.structure.parent.Parent.__call__ (build/cythonized/sage/structure/parent.c:12703)\u001b[0;34m()\u001b[0m\n\u001b[1;32m    901\u001b[0m         return mor._call_(x)\n\u001b[1;32m    902\u001b[0m     else:\n\u001b[0;32m--> 903\u001b[0m         return mor._call_with_args(x, args, kwds)\n\u001b[1;32m    904\u001b[0m \n\u001b[1;32m    905\u001b[0m raise TypeError(_LazyString(\"No conversion defined from %s to %s\", (R, self), {}))\n",
      "File \u001b[0;32m/private/var/tmp/sage-10.3-current/local/var/lib/sage/venv-python3.11.1/lib/python3.11/site-packages/sage/structure/coerce_maps.pyx:182\u001b[0m, in \u001b[0;36msage.structure.coerce_maps.DefaultConvertMap_unique._call_with_args (build/cythonized/sage/structure/coerce_maps.c:7555)\u001b[0;34m()\u001b[0m\n\u001b[1;32m    180\u001b[0m     print(type(C), C)\n\u001b[1;32m    181\u001b[0m     print(type(C._element_constructor), C._element_constructor)\n\u001b[0;32m--> 182\u001b[0m raise\n\u001b[1;32m    183\u001b[0m \n\u001b[1;32m    184\u001b[0m \n",
      "File \u001b[0;32m/private/var/tmp/sage-10.3-current/local/var/lib/sage/venv-python3.11.1/lib/python3.11/site-packages/sage/structure/coerce_maps.pyx:172\u001b[0m, in \u001b[0;36msage.structure.coerce_maps.DefaultConvertMap_unique._call_with_args (build/cythonized/sage/structure/coerce_maps.c:7347)\u001b[0;34m()\u001b[0m\n\u001b[1;32m    170\u001b[0m         return C._element_constructor(x)\n\u001b[1;32m    171\u001b[0m     else:\n\u001b[0;32m--> 172\u001b[0m         return C._element_constructor(x, **kwds)\n\u001b[1;32m    173\u001b[0m else:\n\u001b[1;32m    174\u001b[0m     if len(kwds) == 0:\n",
      "File \u001b[0;32m/private/var/tmp/sage-10.3-current/local/var/lib/sage/venv-python3.11.1/lib/python3.11/site-packages/sage/matrix/matrix_space.py:974\u001b[0m, in \u001b[0;36mMatrixSpace._element_constructor_\u001b[0;34m(self, entries, **kwds)\u001b[0m\n\u001b[1;32m    856\u001b[0m \u001b[38;5;28;01mdef\u001b[39;00m \u001b[38;5;21m_element_constructor_\u001b[39m(\u001b[38;5;28mself\u001b[39m, entries, \u001b[38;5;241m*\u001b[39m\u001b[38;5;241m*\u001b[39mkwds):\n\u001b[1;32m    857\u001b[0m \u001b[38;5;250m    \u001b[39m\u001b[38;5;124;03m\"\"\"\u001b[39;00m\n\u001b[1;32m    858\u001b[0m \u001b[38;5;124;03m    Construct an element of ``self`` from ``entries``.\u001b[39;00m\n\u001b[1;32m    859\u001b[0m \n\u001b[0;32m   (...)\u001b[0m\n\u001b[1;32m    972\u001b[0m \u001b[38;5;124;03m        False\u001b[39;00m\n\u001b[1;32m    973\u001b[0m \u001b[38;5;124;03m    \"\"\"\u001b[39;00m\n\u001b[0;32m--> 974\u001b[0m     \u001b[38;5;28;01mreturn\u001b[39;00m \u001b[38;5;28;43mself\u001b[39;49m\u001b[38;5;241;43m.\u001b[39;49m\u001b[43melement_class\u001b[49m\u001b[43m(\u001b[49m\u001b[38;5;28;43mself\u001b[39;49m\u001b[43m,\u001b[49m\u001b[43m \u001b[49m\u001b[43mentries\u001b[49m\u001b[43m,\u001b[49m\u001b[43m \u001b[49m\u001b[38;5;241;43m*\u001b[39;49m\u001b[38;5;241;43m*\u001b[39;49m\u001b[43mkwds\u001b[49m\u001b[43m)\u001b[49m\n",
      "File \u001b[0;32m/private/var/tmp/sage-10.3-current/local/var/lib/sage/venv-python3.11.1/lib/python3.11/site-packages/sage/matrix/matrix_generic_dense.pyx:82\u001b[0m, in \u001b[0;36msage.matrix.matrix_generic_dense.Matrix_generic_dense.__init__ (build/cythonized/sage/matrix/matrix_generic_dense.c:5542)\u001b[0;34m()\u001b[0m\n\u001b[1;32m     80\u001b[0m     \"\"\"\n\u001b[1;32m     81\u001b[0m     ma = MatrixArgs_init(parent, entries)\n\u001b[0;32m---> 82\u001b[0m     self._entries = ma.list(coerce)\n\u001b[1;32m     83\u001b[0m \n\u001b[1;32m     84\u001b[0m cdef Matrix_generic_dense _new(self, Py_ssize_t nrows, Py_ssize_t ncols) noexcept:\n",
      "File \u001b[0;32m/private/var/tmp/sage-10.3-current/local/var/lib/sage/venv-python3.11.1/lib/python3.11/site-packages/sage/matrix/args.pyx:753\u001b[0m, in \u001b[0;36msage.matrix.args.MatrixArgs.list (build/cythonized/sage/matrix/args.c:13544)\u001b[0;34m()\u001b[0m\n\u001b[1;32m    751\u001b[0m             L = L[:]\n\u001b[1;32m    752\u001b[0m else:\n\u001b[0;32m--> 753\u001b[0m     L = list(self.iter(convert))\n\u001b[1;32m    754\u001b[0m \n\u001b[1;32m    755\u001b[0m cdef long N = self.nrows * self.ncols\n",
      "File \u001b[0;32m/private/var/tmp/sage-10.3-current/local/var/lib/sage/venv-python3.11.1/lib/python3.11/site-packages/sage/matrix/args.pyx:590\u001b[0m, in \u001b[0;36miter (build/cythonized/sage/matrix/args.c:12547)\u001b[0;34m()\u001b[0m\n\u001b[1;32m    588\u001b[0m x = m[i, j]\n\u001b[1;32m    589\u001b[0m if convert and self.need_to_convert(x):\n\u001b[0;32m--> 590\u001b[0m     x = self.base(x)\n\u001b[1;32m    591\u001b[0m if sparse:\n\u001b[1;32m    592\u001b[0m     yield make_SparseEntry(i, j, x)\n",
      "File \u001b[0;32m/private/var/tmp/sage-10.3-current/local/var/lib/sage/venv-python3.11.1/lib/python3.11/site-packages/sage/structure/parent.pyx:901\u001b[0m, in \u001b[0;36msage.structure.parent.Parent.__call__ (build/cythonized/sage/structure/parent.c:12676)\u001b[0;34m()\u001b[0m\n\u001b[1;32m    899\u001b[0m if mor is not None:\n\u001b[1;32m    900\u001b[0m     if no_extra_args:\n\u001b[0;32m--> 901\u001b[0m         return mor._call_(x)\n\u001b[1;32m    902\u001b[0m     else:\n\u001b[1;32m    903\u001b[0m         return mor._call_with_args(x, args, kwds)\n",
      "File \u001b[0;32m/private/var/tmp/sage-10.3-current/local/var/lib/sage/venv-python3.11.1/lib/python3.11/site-packages/sage/structure/coerce_maps.pyx:163\u001b[0m, in \u001b[0;36msage.structure.coerce_maps.DefaultConvertMap_unique._call_ (build/cythonized/sage/structure/coerce_maps.c:6957)\u001b[0;34m()\u001b[0m\n\u001b[1;32m    161\u001b[0m             print(type(C), C)\n\u001b[1;32m    162\u001b[0m             print(type(C._element_constructor), C._element_constructor)\n\u001b[0;32m--> 163\u001b[0m         raise\n\u001b[1;32m    164\u001b[0m \n\u001b[1;32m    165\u001b[0m cpdef Element _call_with_args(self, x, args=(), kwds={}) noexcept:\n",
      "File \u001b[0;32m/private/var/tmp/sage-10.3-current/local/var/lib/sage/venv-python3.11.1/lib/python3.11/site-packages/sage/structure/coerce_maps.pyx:158\u001b[0m, in \u001b[0;36msage.structure.coerce_maps.DefaultConvertMap_unique._call_ (build/cythonized/sage/structure/coerce_maps.c:6849)\u001b[0;34m()\u001b[0m\n\u001b[1;32m    156\u001b[0m cdef Parent C = self._codomain\n\u001b[1;32m    157\u001b[0m try:\n\u001b[0;32m--> 158\u001b[0m     return C._element_constructor(x)\n\u001b[1;32m    159\u001b[0m except Exception:\n\u001b[1;32m    160\u001b[0m     if print_warnings:\n",
      "File \u001b[0;32m/private/var/tmp/sage-10.3-current/local/var/lib/sage/venv-python3.11.1/lib/python3.11/site-packages/sage/rings/number_field/number_field.py:1771\u001b[0m, in \u001b[0;36mNumberField_generic._element_constructor_\u001b[0;34m(self, x, check)\u001b[0m\n\u001b[1;32m   1769\u001b[0m     base \u001b[38;5;241m=\u001b[39m \u001b[38;5;28mself\u001b[39m\u001b[38;5;241m.\u001b[39mbase_ring()\n\u001b[1;32m   1770\u001b[0m     \u001b[38;5;28;01mreturn\u001b[39;00m \u001b[38;5;28msum\u001b[39m(base(c) \u001b[38;5;241m*\u001b[39m g \u001b[38;5;28;01mfor\u001b[39;00m c, g \u001b[38;5;129;01min\u001b[39;00m \u001b[38;5;28mzip\u001b[39m(x, \u001b[38;5;28mself\u001b[39m\u001b[38;5;241m.\u001b[39mgen(\u001b[38;5;241m0\u001b[39m)\u001b[38;5;241m.\u001b[39mpowers(\u001b[38;5;28mlen\u001b[39m(x))))\n\u001b[0;32m-> 1771\u001b[0m \u001b[38;5;28;01mreturn\u001b[39;00m \u001b[38;5;28;43mself\u001b[39;49m\u001b[38;5;241;43m.\u001b[39;49m\u001b[43m_convert_non_number_field_element\u001b[49m\u001b[43m(\u001b[49m\u001b[43mx\u001b[49m\u001b[43m)\u001b[49m\n",
      "File \u001b[0;32m/private/var/tmp/sage-10.3-current/local/var/lib/sage/venv-python3.11.1/lib/python3.11/site-packages/sage/rings/number_field/number_field.py:1867\u001b[0m, in \u001b[0;36mNumberField_generic._convert_non_number_field_element\u001b[0;34m(self, x)\u001b[0m\n\u001b[1;32m   1865\u001b[0m     \u001b[38;5;28;01mpass\u001b[39;00m\n\u001b[1;32m   1866\u001b[0m \u001b[38;5;28;01melse\u001b[39;00m:\n\u001b[0;32m-> 1867\u001b[0m     \u001b[38;5;28;01mreturn\u001b[39;00m \u001b[38;5;28;43mself\u001b[39;49m\u001b[38;5;241;43m.\u001b[39;49m\u001b[43m_convert_from_qqbar\u001b[49m\u001b[43m(\u001b[49m\u001b[43my\u001b[49m\u001b[43m)\u001b[49m\n\u001b[1;32m   1869\u001b[0m \u001b[38;5;28;01mraise\u001b[39;00m \u001b[38;5;167;01mTypeError\u001b[39;00m(\u001b[38;5;124m\"\u001b[39m\u001b[38;5;124munable to convert \u001b[39m\u001b[38;5;132;01m%r\u001b[39;00m\u001b[38;5;124m to \u001b[39m\u001b[38;5;132;01m%s\u001b[39;00m\u001b[38;5;124m\"\u001b[39m \u001b[38;5;241m%\u001b[39m (x, \u001b[38;5;28mself\u001b[39m))\n",
      "File \u001b[0;32m/private/var/tmp/sage-10.3-current/local/var/lib/sage/venv-python3.11.1/lib/python3.11/site-packages/sage/rings/number_field/number_field.py:1914\u001b[0m, in \u001b[0;36mNumberField_generic._convert_from_qqbar\u001b[0;34m(self, x)\u001b[0m\n\u001b[1;32m   1912\u001b[0m     z \u001b[38;5;241m=\u001b[39m F_to_self(y)\n\u001b[1;32m   1913\u001b[0m     \u001b[38;5;66;03m# Check whether the diagram commutes\u001b[39;00m\n\u001b[0;32m-> 1914\u001b[0m     \u001b[38;5;28;01mif\u001b[39;00m \u001b[43mQQbar\u001b[49m\u001b[43m(\u001b[49m\u001b[43mz\u001b[49m\u001b[43m)\u001b[49m \u001b[38;5;241m==\u001b[39m x:\n\u001b[1;32m   1915\u001b[0m         \u001b[38;5;28;01mreturn\u001b[39;00m z\n\u001b[1;32m   1917\u001b[0m \u001b[38;5;28;01mraise\u001b[39;00m \u001b[38;5;167;01mTypeError\u001b[39;00m(\u001b[38;5;124m\"\u001b[39m\u001b[38;5;124munable to convert \u001b[39m\u001b[38;5;132;01m%r\u001b[39;00m\u001b[38;5;124m to \u001b[39m\u001b[38;5;132;01m%s\u001b[39;00m\u001b[38;5;124m\"\u001b[39m \u001b[38;5;241m%\u001b[39m (x, \u001b[38;5;28mself\u001b[39m))\n",
      "File \u001b[0;32m/private/var/tmp/sage-10.3-current/local/var/lib/sage/venv-python3.11.1/lib/python3.11/site-packages/sage/structure/parent.pyx:901\u001b[0m, in \u001b[0;36msage.structure.parent.Parent.__call__ (build/cythonized/sage/structure/parent.c:12676)\u001b[0;34m()\u001b[0m\n\u001b[1;32m    899\u001b[0m if mor is not None:\n\u001b[1;32m    900\u001b[0m     if no_extra_args:\n\u001b[0;32m--> 901\u001b[0m         return mor._call_(x)\n\u001b[1;32m    902\u001b[0m     else:\n\u001b[1;32m    903\u001b[0m         return mor._call_with_args(x, args, kwds)\n",
      "File \u001b[0;32m/private/var/tmp/sage-10.3-current/local/var/lib/sage/venv-python3.11.1/lib/python3.11/site-packages/sage/structure/coerce_maps.pyx:163\u001b[0m, in \u001b[0;36msage.structure.coerce_maps.DefaultConvertMap_unique._call_ (build/cythonized/sage/structure/coerce_maps.c:6957)\u001b[0;34m()\u001b[0m\n\u001b[1;32m    161\u001b[0m             print(type(C), C)\n\u001b[1;32m    162\u001b[0m             print(type(C._element_constructor), C._element_constructor)\n\u001b[0;32m--> 163\u001b[0m         raise\n\u001b[1;32m    164\u001b[0m \n\u001b[1;32m    165\u001b[0m cpdef Element _call_with_args(self, x, args=(), kwds={}) noexcept:\n",
      "File \u001b[0;32m/private/var/tmp/sage-10.3-current/local/var/lib/sage/venv-python3.11.1/lib/python3.11/site-packages/sage/structure/coerce_maps.pyx:158\u001b[0m, in \u001b[0;36msage.structure.coerce_maps.DefaultConvertMap_unique._call_ (build/cythonized/sage/structure/coerce_maps.c:6849)\u001b[0;34m()\u001b[0m\n\u001b[1;32m    156\u001b[0m cdef Parent C = self._codomain\n\u001b[1;32m    157\u001b[0m try:\n\u001b[0;32m--> 158\u001b[0m     return C._element_constructor(x)\n\u001b[1;32m    159\u001b[0m except Exception:\n\u001b[1;32m    160\u001b[0m     if print_warnings:\n",
      "File \u001b[0;32m/private/var/tmp/sage-10.3-current/local/var/lib/sage/venv-python3.11.1/lib/python3.11/site-packages/sage/rings/qqbar.py:1654\u001b[0m, in \u001b[0;36mAlgebraicField._element_constructor_\u001b[0;34m(self, x)\u001b[0m\n\u001b[1;32m   1652\u001b[0m     \u001b[38;5;28;01mreturn\u001b[39;00m AlgebraicNumber(x\u001b[38;5;241m.\u001b[39m_descr)\n\u001b[1;32m   1653\u001b[0m \u001b[38;5;28;01melif\u001b[39;00m \u001b[38;5;28mhasattr\u001b[39m(x, \u001b[38;5;124m'\u001b[39m\u001b[38;5;124m_algebraic_\u001b[39m\u001b[38;5;124m'\u001b[39m):\n\u001b[0;32m-> 1654\u001b[0m     \u001b[38;5;28;01mreturn\u001b[39;00m x\u001b[38;5;241m.\u001b[39m_algebraic_(QQbar)\n\u001b[1;32m   1655\u001b[0m \u001b[38;5;28;01mreturn\u001b[39;00m AlgebraicNumber(x)\n",
      "File \u001b[0;32m/private/var/tmp/sage-10.3-current/local/var/lib/sage/venv-python3.11.1/lib/python3.11/site-packages/sage/rings/number_field/number_field_element.pyx:2877\u001b[0m, in \u001b[0;36msage.rings.number_field.number_field_element.NumberFieldElement._algebraic_ (build/cythonized/sage/rings/number_field/number_field_element.cpp:35957)\u001b[0;34m()\u001b[0m\n\u001b[1;32m   2875\u001b[0m emb = self._parent.coerce_embedding()\n\u001b[1;32m   2876\u001b[0m if emb is None:\n\u001b[0;32m-> 2877\u001b[0m     raise ValueError(\"need a real or complex embedding to convert \"\n\u001b[1;32m   2878\u001b[0m                      \"a non rational element of a number field \"\n\u001b[1;32m   2879\u001b[0m                      \"into an algebraic number\")\n",
      "\u001b[0;31mValueError\u001b[0m: need a real or complex embedding to convert a non rational element of a number field into an algebraic number"
     ]
    }
   ],
   "source": [
    "matrix(K,Q)"
   ]
  },
  {
   "cell_type": "code",
   "execution_count": 273,
   "id": "557854ad-6ac0-4c1b-81d0-62745c8ec70a",
   "metadata": {},
   "outputs": [
    {
     "data": {
      "text/plain": [
       "1/3*a^2 - 2/3"
      ]
     },
     "execution_count": 273,
     "metadata": {},
     "output_type": "execute_result"
    }
   ],
   "source": [
    "square_root_ext(K,unitary_factor)"
   ]
  },
  {
   "cell_type": "code",
   "execution_count": 279,
   "id": "18e0e69f-7d77-4e41-877e-4b44fcdcce32",
   "metadata": {},
   "outputs": [
    {
     "ename": "TypeError",
     "evalue": "unsupported operand parent(s) for *: 'Number Field in a with defining polynomial x^4 - 4*x^2 + 1' and 'Full MatrixSpace of 2 by 2 dense matrices over Symbolic Ring'",
     "output_type": "error",
     "traceback": [
      "\u001b[0;31m---------------------------------------------------------------------------\u001b[0m",
      "\u001b[0;31mTypeError\u001b[0m                                 Traceback (most recent call last)",
      "Cell \u001b[0;32mIn[279], line 1\u001b[0m\n\u001b[0;32m----> 1\u001b[0m \u001b[43mhat\u001b[49m\u001b[43m(\u001b[49m\u001b[43mdelta\u001b[49m\u001b[43m(\u001b[49m\u001b[43mG\u001b[49m\u001b[43m[\u001b[49m\u001b[43mInteger\u001b[49m\u001b[43m(\u001b[49m\u001b[38;5;241;43m3\u001b[39;49m\u001b[43m)\u001b[49m\u001b[43m]\u001b[49m\u001b[43m)\u001b[49m\u001b[43m,\u001b[49m\u001b[43mpartition\u001b[49m\u001b[43m,\u001b[49m\u001b[43mSGA\u001b[49m\u001b[43m,\u001b[49m\u001b[43munitary\u001b[49m\u001b[38;5;241;43m=\u001b[39;49m\u001b[38;5;28;43;01mTrue\u001b[39;49;00m\u001b[43m)\u001b[49m\n",
      "Cell \u001b[0;32mIn[267], line 11\u001b[0m, in \u001b[0;36mhat\u001b[0;34m(f, partition, SGA, unitary)\u001b[0m\n\u001b[1;32m      9\u001b[0m     unitary_factor \u001b[38;5;241m=\u001b[39m specht_module\u001b[38;5;241m.\u001b[39mdimension()\u001b[38;5;241m/\u001b[39mSGA\u001b[38;5;241m.\u001b[39mgroup()\u001b[38;5;241m.\u001b[39mcardinality()\n\u001b[1;32m     10\u001b[0m     sqrt_unitary_factor \u001b[38;5;241m=\u001b[39m square_root_ext(K,unitary_factor)\n\u001b[0;32m---> 11\u001b[0m     \u001b[38;5;28;01mreturn\u001b[39;00m \u001b[43msqrt_unitary_factor\u001b[49m\u001b[38;5;241;43m*\u001b[39;49m\u001b[38;5;28;43msum\u001b[39;49m\u001b[43m(\u001b[49m\u001b[43mf\u001b[49m\u001b[43m(\u001b[49m\u001b[43mg\u001b[49m\u001b[43m)\u001b[49m\u001b[38;5;241;43m*\u001b[39;49m\u001b[43mQ\u001b[49m\u001b[38;5;241;43m.\u001b[39;49m\u001b[43minverse\u001b[49m\u001b[43m(\u001b[49m\u001b[43m)\u001b[49m\u001b[38;5;241;43m*\u001b[39;49m\u001b[43mrho\u001b[49m\u001b[43m(\u001b[49m\u001b[43mg\u001b[49m\u001b[43m)\u001b[49m\u001b[38;5;241;43m*\u001b[39;49m\u001b[43mQ\u001b[49m\u001b[43m \u001b[49m\u001b[38;5;28;43;01mfor\u001b[39;49;00m\u001b[43m \u001b[49m\u001b[43mg\u001b[49m\u001b[43m \u001b[49m\u001b[38;5;129;43;01min\u001b[39;49;00m\u001b[43m \u001b[49m\u001b[43mSGA\u001b[49m\u001b[38;5;241;43m.\u001b[39;49m\u001b[43mgroup\u001b[49m\u001b[43m(\u001b[49m\u001b[43m)\u001b[49m\u001b[43m)\u001b[49m\n\u001b[1;32m     12\u001b[0m \u001b[38;5;28;01melse\u001b[39;00m:\n\u001b[1;32m     13\u001b[0m     \u001b[38;5;28;01mreturn\u001b[39;00m \u001b[38;5;28msum\u001b[39m(f(g)\u001b[38;5;241m*\u001b[39mrho(g) \u001b[38;5;28;01mfor\u001b[39;00m g \u001b[38;5;129;01min\u001b[39;00m SGA\u001b[38;5;241m.\u001b[39mgroup())\n",
      "File \u001b[0;32m/private/var/tmp/sage-10.3-current/local/var/lib/sage/venv-python3.11.1/lib/python3.11/site-packages/sage/structure/element.pyx:1506\u001b[0m, in \u001b[0;36msage.structure.element.Element.__mul__ (build/cythonized/sage/structure/element.c:20064)\u001b[0;34m()\u001b[0m\n\u001b[1;32m   1504\u001b[0m     return (<Element>left)._mul_(right)\n\u001b[1;32m   1505\u001b[0m if BOTH_ARE_ELEMENT(cl):\n\u001b[0;32m-> 1506\u001b[0m     return coercion_model.bin_op(left, right, mul)\n\u001b[1;32m   1507\u001b[0m \n\u001b[1;32m   1508\u001b[0m cdef long value\n",
      "File \u001b[0;32m/private/var/tmp/sage-10.3-current/local/var/lib/sage/venv-python3.11.1/lib/python3.11/site-packages/sage/structure/coerce.pyx:1278\u001b[0m, in \u001b[0;36msage.structure.coerce.CoercionModel.bin_op (build/cythonized/sage/structure/coerce.c:16857)\u001b[0;34m()\u001b[0m\n\u001b[1;32m   1276\u001b[0m     # We should really include the underlying error.\n\u001b[1;32m   1277\u001b[0m     # This causes so much headache.\n\u001b[0;32m-> 1278\u001b[0m     raise bin_op_exception(op, x, y)\n\u001b[1;32m   1279\u001b[0m \n\u001b[1;32m   1280\u001b[0m cpdef canonical_coercion(self, x, y) noexcept:\n",
      "\u001b[0;31mTypeError\u001b[0m: unsupported operand parent(s) for *: 'Number Field in a with defining polynomial x^4 - 4*x^2 + 1' and 'Full MatrixSpace of 2 by 2 dense matrices over Symbolic Ring'"
     ]
    }
   ],
   "source": [
    "hat(delta(G[3]),partition,SGA,unitary=True)"
   ]
  },
  {
   "cell_type": "code",
   "execution_count": 137,
   "id": "3417c790-bfc5-4740-b1e6-b608a06822bf",
   "metadata": {},
   "outputs": [
    {
     "data": {
      "text/plain": [
       "[2, 3, 1]"
      ]
     },
     "execution_count": 137,
     "metadata": {},
     "output_type": "execute_result"
    }
   ],
   "source": [
    "G[3]"
   ]
  },
  {
   "cell_type": "code",
   "execution_count": 136,
   "id": "351ff127-9790-4633-85b6-24576ccabc18",
   "metadata": {},
   "outputs": [
    {
     "data": {
      "text/plain": [
       "[6 1]\n",
       "[6 0]"
      ]
     },
     "execution_count": 136,
     "metadata": {},
     "output_type": "execute_result"
    }
   ],
   "source": [
    "rho(G[3])"
   ]
  },
  {
   "cell_type": "code",
   "execution_count": 134,
   "id": "cf7eab07-1332-4538-b70c-6ff144812a73",
   "metadata": {},
   "outputs": [
    {
     "data": {
      "text/plain": [
       "[6 1]\n",
       "[6 0]"
      ]
     },
     "execution_count": 134,
     "metadata": {},
     "output_type": "execute_result"
    }
   ],
   "source": [
    "U_rho = Q.inverse()*rho(G[3])*Q; U_rho"
   ]
  },
  {
   "cell_type": "code",
   "execution_count": 139,
   "id": "77a25aa2-afbd-4ffa-9bd8-f204a1ed8558",
   "metadata": {},
   "outputs": [
    {
     "name": "stdout",
     "output_type": "stream",
     "text": [
      "7\n"
     ]
    },
    {
     "data": {
      "text/plain": [
       "[0 6]\n",
       "[1 6]"
      ]
     },
     "execution_count": 139,
     "metadata": {},
     "output_type": "execute_result"
    }
   ],
   "source": [
    "U_rho*conjugate_transpose_pos_char(U_rho)"
   ]
  },
  {
   "cell_type": "code",
   "execution_count": 208,
   "id": "2503a178-95f8-470f-b4d8-d13c520df4fa",
   "metadata": {},
   "outputs": [
    {
     "ename": "AttributeError",
     "evalue": "'sage.rings.number_field.number_field_element_quadratic.NumberFieldElement_quadratic_sqrt' object has no attribute 'square_root'",
     "output_type": "error",
     "traceback": [
      "\u001b[0;31m---------------------------------------------------------------------------\u001b[0m",
      "\u001b[0;31mAttributeError\u001b[0m                            Traceback (most recent call last)",
      "Cell \u001b[0;32mIn[208], line 1\u001b[0m\n\u001b[0;32m----> 1\u001b[0m \u001b[43munitary_dft\u001b[49m\u001b[43m(\u001b[49m\u001b[43mSymmetricGroupAlgebra\u001b[49m\u001b[43m(\u001b[49m\u001b[43mQQ\u001b[49m\u001b[43m,\u001b[49m\u001b[43mInteger\u001b[49m\u001b[43m(\u001b[49m\u001b[38;5;241;43m3\u001b[39;49m\u001b[43m)\u001b[49m\u001b[43m)\u001b[49m\u001b[43m)\u001b[49m\u001b[38;5;241m.\u001b[39mbase_ring()\n",
      "Cell \u001b[0;32mIn[146], line 4\u001b[0m, in \u001b[0;36munitary_dft\u001b[0;34m(SGA)\u001b[0m\n\u001b[1;32m      3\u001b[0m \u001b[38;5;28;01mdef\u001b[39;00m \u001b[38;5;21munitary_dft\u001b[39m(SGA):\n\u001b[0;32m----> 4\u001b[0m     unitary_dft_matrix \u001b[38;5;241m=\u001b[39m matrix(\u001b[43m[\u001b[49m\u001b[43mflatten\u001b[49m\u001b[43m(\u001b[49m\u001b[43m[\u001b[49m\u001b[43mhat\u001b[49m\u001b[43m(\u001b[49m\u001b[43mdelta\u001b[49m\u001b[43m(\u001b[49m\u001b[43mg\u001b[49m\u001b[43m)\u001b[49m\u001b[43m,\u001b[49m\u001b[43mpartition\u001b[49m\u001b[43m,\u001b[49m\u001b[43mSGA\u001b[49m\u001b[43m,\u001b[49m\u001b[43munitary\u001b[49m\u001b[38;5;241;43m=\u001b[39;49m\u001b[38;5;28;43;01mTrue\u001b[39;49;00m\u001b[43m)\u001b[49m\u001b[38;5;241;43m.\u001b[39;49m\u001b[43mlist\u001b[49m\u001b[43m(\u001b[49m\u001b[43m)\u001b[49m\u001b[43m \u001b[49m\u001b[38;5;28;43;01mfor\u001b[39;49;00m\u001b[43m \u001b[49m\u001b[43mpartition\u001b[49m\u001b[43m \u001b[49m\u001b[38;5;129;43;01min\u001b[39;49;00m\u001b[43m \u001b[49m\u001b[43mPartitions\u001b[49m\u001b[43m(\u001b[49m\u001b[43mSGA\u001b[49m\u001b[38;5;241;43m.\u001b[39;49m\u001b[43mgroup\u001b[49m\u001b[43m(\u001b[49m\u001b[43m)\u001b[49m\u001b[38;5;241;43m.\u001b[39;49m\u001b[43mdegree\u001b[49m\u001b[43m(\u001b[49m\u001b[43m)\u001b[49m\u001b[43m)\u001b[49m\u001b[43m]\u001b[49m\u001b[43m)\u001b[49m\u001b[43m \u001b[49m\u001b[38;5;28;43;01mfor\u001b[39;49;00m\u001b[43m \u001b[49m\u001b[43mg\u001b[49m\u001b[43m \u001b[49m\u001b[38;5;129;43;01min\u001b[39;49;00m\u001b[43m \u001b[49m\u001b[43mG\u001b[49m\u001b[43m]\u001b[49m)\u001b[38;5;241m.\u001b[39mtranspose()\n\u001b[1;32m      5\u001b[0m     \u001b[38;5;28;01mif\u001b[39;00m unitary_dft_matrix\u001b[38;5;241m.\u001b[39mbase_ring() \u001b[38;5;241m==\u001b[39m SR:\n\u001b[1;32m      6\u001b[0m         \u001b[38;5;28;01mreturn\u001b[39;00m unitary_dft_matrix\u001b[38;5;241m.\u001b[39msimplify_full()\n",
      "Cell \u001b[0;32mIn[146], line 4\u001b[0m, in \u001b[0;36m<listcomp>\u001b[0;34m(.0)\u001b[0m\n\u001b[1;32m      3\u001b[0m \u001b[38;5;28;01mdef\u001b[39;00m \u001b[38;5;21munitary_dft\u001b[39m(SGA):\n\u001b[0;32m----> 4\u001b[0m     unitary_dft_matrix \u001b[38;5;241m=\u001b[39m matrix([flatten(\u001b[43m[\u001b[49m\u001b[43mhat\u001b[49m\u001b[43m(\u001b[49m\u001b[43mdelta\u001b[49m\u001b[43m(\u001b[49m\u001b[43mg\u001b[49m\u001b[43m)\u001b[49m\u001b[43m,\u001b[49m\u001b[43mpartition\u001b[49m\u001b[43m,\u001b[49m\u001b[43mSGA\u001b[49m\u001b[43m,\u001b[49m\u001b[43munitary\u001b[49m\u001b[38;5;241;43m=\u001b[39;49m\u001b[38;5;28;43;01mTrue\u001b[39;49;00m\u001b[43m)\u001b[49m\u001b[38;5;241;43m.\u001b[39;49m\u001b[43mlist\u001b[49m\u001b[43m(\u001b[49m\u001b[43m)\u001b[49m\u001b[43m \u001b[49m\u001b[38;5;28;43;01mfor\u001b[39;49;00m\u001b[43m \u001b[49m\u001b[43mpartition\u001b[49m\u001b[43m \u001b[49m\u001b[38;5;129;43;01min\u001b[39;49;00m\u001b[43m \u001b[49m\u001b[43mPartitions\u001b[49m\u001b[43m(\u001b[49m\u001b[43mSGA\u001b[49m\u001b[38;5;241;43m.\u001b[39;49m\u001b[43mgroup\u001b[49m\u001b[43m(\u001b[49m\u001b[43m)\u001b[49m\u001b[38;5;241;43m.\u001b[39;49m\u001b[43mdegree\u001b[49m\u001b[43m(\u001b[49m\u001b[43m)\u001b[49m\u001b[43m)\u001b[49m\u001b[43m]\u001b[49m) \u001b[38;5;28;01mfor\u001b[39;00m g \u001b[38;5;129;01min\u001b[39;00m G])\u001b[38;5;241m.\u001b[39mtranspose()\n\u001b[1;32m      5\u001b[0m     \u001b[38;5;28;01mif\u001b[39;00m unitary_dft_matrix\u001b[38;5;241m.\u001b[39mbase_ring() \u001b[38;5;241m==\u001b[39m SR:\n\u001b[1;32m      6\u001b[0m         \u001b[38;5;28;01mreturn\u001b[39;00m unitary_dft_matrix\u001b[38;5;241m.\u001b[39msimplify_full()\n",
      "Cell \u001b[0;32mIn[146], line 4\u001b[0m, in \u001b[0;36m<listcomp>\u001b[0;34m(.0)\u001b[0m\n\u001b[1;32m      3\u001b[0m \u001b[38;5;28;01mdef\u001b[39;00m \u001b[38;5;21munitary_dft\u001b[39m(SGA):\n\u001b[0;32m----> 4\u001b[0m     unitary_dft_matrix \u001b[38;5;241m=\u001b[39m matrix([flatten([\u001b[43mhat\u001b[49m\u001b[43m(\u001b[49m\u001b[43mdelta\u001b[49m\u001b[43m(\u001b[49m\u001b[43mg\u001b[49m\u001b[43m)\u001b[49m\u001b[43m,\u001b[49m\u001b[43mpartition\u001b[49m\u001b[43m,\u001b[49m\u001b[43mSGA\u001b[49m\u001b[43m,\u001b[49m\u001b[43munitary\u001b[49m\u001b[38;5;241;43m=\u001b[39;49m\u001b[38;5;28;43;01mTrue\u001b[39;49;00m\u001b[43m)\u001b[49m\u001b[38;5;241m.\u001b[39mlist() \u001b[38;5;28;01mfor\u001b[39;00m partition \u001b[38;5;129;01min\u001b[39;00m Partitions(SGA\u001b[38;5;241m.\u001b[39mgroup()\u001b[38;5;241m.\u001b[39mdegree())]) \u001b[38;5;28;01mfor\u001b[39;00m g \u001b[38;5;129;01min\u001b[39;00m G])\u001b[38;5;241m.\u001b[39mtranspose()\n\u001b[1;32m      5\u001b[0m     \u001b[38;5;28;01mif\u001b[39;00m unitary_dft_matrix\u001b[38;5;241m.\u001b[39mbase_ring() \u001b[38;5;241m==\u001b[39m SR:\n\u001b[1;32m      6\u001b[0m         \u001b[38;5;28;01mreturn\u001b[39;00m unitary_dft_matrix\u001b[38;5;241m.\u001b[39msimplify_full()\n",
      "Cell \u001b[0;32mIn[204], line 10\u001b[0m, in \u001b[0;36mhat\u001b[0;34m(f, partition, SGA, unitary)\u001b[0m\n\u001b[1;32m      8\u001b[0m     F \u001b[38;5;241m=\u001b[39m Q\u001b[38;5;241m.\u001b[39mbase_ring()\n\u001b[1;32m      9\u001b[0m     unitary_factor \u001b[38;5;241m=\u001b[39m specht_module\u001b[38;5;241m.\u001b[39mdimension()\u001b[38;5;241m/\u001b[39mSGA\u001b[38;5;241m.\u001b[39mgroup()\u001b[38;5;241m.\u001b[39mcardinality()\n\u001b[0;32m---> 10\u001b[0m     sqrt_unitary_factor \u001b[38;5;241m=\u001b[39m \u001b[43msquare_root_ext\u001b[49m\u001b[43m(\u001b[49m\u001b[43mF\u001b[49m\u001b[43m,\u001b[49m\u001b[43munitary_factor\u001b[49m\u001b[43m)\u001b[49m\n\u001b[1;32m     11\u001b[0m     \u001b[38;5;28;01mreturn\u001b[39;00m sqrt_unitary_factor\u001b[38;5;241m*\u001b[39m\u001b[38;5;28msum\u001b[39m(f(g)\u001b[38;5;241m*\u001b[39mQ\u001b[38;5;241m.\u001b[39minverse()\u001b[38;5;241m*\u001b[39mrho(g)\u001b[38;5;241m*\u001b[39mQ \u001b[38;5;28;01mfor\u001b[39;00m g \u001b[38;5;129;01min\u001b[39;00m SGA\u001b[38;5;241m.\u001b[39mgroup())\n\u001b[1;32m     12\u001b[0m \u001b[38;5;28;01melse\u001b[39;00m:\n",
      "Cell \u001b[0;32mIn[202], line 6\u001b[0m, in \u001b[0;36msquare_root_ext\u001b[0;34m(F, n)\u001b[0m\n\u001b[1;32m      4\u001b[0m f \u001b[38;5;241m=\u001b[39m R\u001b[38;5;241m.\u001b[39mgen(\u001b[38;5;241m0\u001b[39m)\u001b[38;5;241m*\u001b[39m\u001b[38;5;241m*\u001b[39mInteger(\u001b[38;5;241m2\u001b[39m)\u001b[38;5;241m-\u001b[39mn; \u001b[38;5;28;01massert\u001b[39;00m f \u001b[38;5;129;01min\u001b[39;00m R\n\u001b[1;32m      5\u001b[0m L \u001b[38;5;241m=\u001b[39m f\u001b[38;5;241m.\u001b[39msplitting_field(names\u001b[38;5;241m=\u001b[39m(\u001b[38;5;124m'\u001b[39m\u001b[38;5;124ma\u001b[39m\u001b[38;5;124m'\u001b[39m,)); (a,) \u001b[38;5;241m=\u001b[39m L\u001b[38;5;241m.\u001b[39m_first_ngens(\u001b[38;5;241m1\u001b[39m)\n\u001b[0;32m----> 6\u001b[0m \u001b[38;5;28;01mreturn\u001b[39;00m \u001b[43mL\u001b[49m\u001b[43m(\u001b[49m\u001b[43mn\u001b[49m\u001b[43m)\u001b[49m\u001b[38;5;241;43m.\u001b[39;49m\u001b[43msquare_root\u001b[49m()\n",
      "File \u001b[0;32m/private/var/tmp/sage-10.3-current/local/var/lib/sage/venv-python3.11.1/lib/python3.11/site-packages/sage/structure/element.pyx:489\u001b[0m, in \u001b[0;36msage.structure.element.Element.__getattr__ (build/cythonized/sage/structure/element.c:11610)\u001b[0;34m()\u001b[0m\n\u001b[1;32m    487\u001b[0m         AttributeError: 'LeftZeroSemigroup_with_category.element_class' object has no attribute 'blah_blah'...\n\u001b[1;32m    488\u001b[0m     \"\"\"\n\u001b[0;32m--> 489\u001b[0m     return self.getattr_from_category(name)\n\u001b[1;32m    490\u001b[0m \n\u001b[1;32m    491\u001b[0m cdef getattr_from_category(self, name) noexcept:\n",
      "File \u001b[0;32m/private/var/tmp/sage-10.3-current/local/var/lib/sage/venv-python3.11.1/lib/python3.11/site-packages/sage/structure/element.pyx:502\u001b[0m, in \u001b[0;36msage.structure.element.Element.getattr_from_category (build/cythonized/sage/structure/element.c:11720)\u001b[0;34m()\u001b[0m\n\u001b[1;32m    500\u001b[0m     else:\n\u001b[1;32m    501\u001b[0m         cls = P._abstract_element_class\n\u001b[0;32m--> 502\u001b[0m     return getattr_from_other_class(self, cls, name)\n\u001b[1;32m    503\u001b[0m \n\u001b[1;32m    504\u001b[0m def __dir__(self):\n",
      "File \u001b[0;32m/private/var/tmp/sage-10.3-current/local/var/lib/sage/venv-python3.11.1/lib/python3.11/site-packages/sage/cpython/getattr.pyx:362\u001b[0m, in \u001b[0;36msage.cpython.getattr.getattr_from_other_class (build/cythonized/sage/cpython/getattr.c:4443)\u001b[0;34m()\u001b[0m\n\u001b[1;32m    360\u001b[0m     dummy_error_message.cls = type(self)\n\u001b[1;32m    361\u001b[0m     dummy_error_message.name = name\n\u001b[0;32m--> 362\u001b[0m     raise AttributeError(dummy_error_message)\n\u001b[1;32m    363\u001b[0m attribute = <object>attr\n\u001b[1;32m    364\u001b[0m # Check for a descriptor (__get__ in Python)\n",
      "\u001b[0;31mAttributeError\u001b[0m: 'sage.rings.number_field.number_field_element_quadratic.NumberFieldElement_quadratic_sqrt' object has no attribute 'square_root'"
     ]
    }
   ],
   "source": [
    "unitary_dft(SymmetricGroupAlgebra(QQ,3)).base_ring()"
   ]
  },
  {
   "cell_type": "code",
   "execution_count": 187,
   "id": "cf96731b-2f63-449b-bcb9-88bd015d4dfd",
   "metadata": {},
   "outputs": [
    {
     "data": {
      "text/plain": [
       "[1 0 0 0 0 0]\n",
       "[0 1 0 0 0 0]\n",
       "[0 0 1 0 0 0]\n",
       "[0 0 0 1 0 0]\n",
       "[0 0 0 0 1 0]\n",
       "[0 0 0 0 0 1]"
      ]
     },
     "execution_count": 187,
     "metadata": {},
     "output_type": "execute_result"
    }
   ],
   "source": [
    "U_dft = unitary_dft(SGA); U_dft*U_dft.conjugate().transpose()"
   ]
  },
  {
   "cell_type": "code",
   "execution_count": 188,
   "id": "8ba7dfc6-7632-4519-93a9-74680ed23263",
   "metadata": {},
   "outputs": [
    {
     "data": {
      "text/plain": [
       "True"
      ]
     },
     "execution_count": 188,
     "metadata": {},
     "output_type": "execute_result"
    }
   ],
   "source": [
    "#check that the DFT is unitary\n",
    "(U_dft*U_dft.transpose()) == identity_matrix(SGA.group().cardinality())"
   ]
  },
  {
   "cell_type": "code",
   "execution_count": 92,
   "id": "45e8804f-368c-49d1-b073-219eadd8f3ed",
   "metadata": {},
   "outputs": [],
   "source": [
    "#what are the eigenvalues?"
   ]
  },
  {
   "cell_type": "code",
   "execution_count": 160,
   "id": "888cca70-d42c-42a4-94fc-78f1520fc990",
   "metadata": {},
   "outputs": [
    {
     "data": {
      "text/plain": [
       "[4*a^5 + 5*a^4 + a^3 + 5*a^2 + 3*a, a^5 + 5*a^4 + 3*a^2 + a, 3*a^5 + 6*a^4 + 4*a^3 + 6*a + 5, 5*a^5 + 6*a^4 + 3*a^3 + 3*a^2 + 3*a + 5, 4*a^5 + 6*a^4 + 2*a^3 + 3*a^2 + 2*a + 4, 3*a^5 + 6*a^4 + 4*a^2 + 4*a + 1]"
      ]
     },
     "execution_count": 160,
     "metadata": {},
     "output_type": "execute_result"
    }
   ],
   "source": [
    "U_dft = unitary_dft(SGA)\n",
    "k.<a> = U_dft.charpoly().splitting_field()\n",
    "eigs = matrix(k,U_dft).eigenvalues(extend=False); eigs"
   ]
  },
  {
   "cell_type": "code",
   "execution_count": null,
   "id": "de676e52-78db-42ae-a2f3-befeec8fe9bc",
   "metadata": {},
   "outputs": [],
   "source": [
    "eigs"
   ]
  },
  {
   "cell_type": "code",
   "execution_count": 93,
   "id": "14cbad6c-4016-4b14-9ce0-415b9d90f2c1",
   "metadata": {},
   "outputs": [],
   "source": [
    "#n=3: two real, two complex\n",
    "#n=4: all complex\n",
    "#the magnitude is not 1, they're closely grouped around 2 or 3"
   ]
  },
  {
   "cell_type": "code",
   "execution_count": null,
   "id": "2caebbde-e05f-416d-a06f-b1d8d8c53ebb",
   "metadata": {},
   "outputs": [],
   "source": [
    "eigs = A.eigenvalues(); eigs"
   ]
  },
  {
   "cell_type": "code",
   "execution_count": null,
   "id": "edb1c420-f44a-4cb3-9fb3-2ffa17dee539",
   "metadata": {},
   "outputs": [],
   "source": [
    "[abs(eig) for eig in eigs]"
   ]
  },
  {
   "cell_type": "code",
   "execution_count": null,
   "id": "5a48909b-3b9a-437c-a778-e81f28f3735b",
   "metadata": {},
   "outputs": [],
   "source": [
    "#note that the singluar values are the square roots of the diagonal entries of the Gram matrix\n",
    "print(SymmetricGroup(n).algebra(CDF).dft().SVD()[1].numpy().diagonal())\n",
    "print(sqrt((A*A.transpose()).numpy().diagonal()))"
   ]
  },
  {
   "cell_type": "code",
   "execution_count": null,
   "id": "7b949e59-2889-48f2-a750-2c981e15795b",
   "metadata": {},
   "outputs": [],
   "source": []
  }
 ],
 "metadata": {
  "kernelspec": {
   "display_name": "SageMath 10.3",
   "language": "sage",
   "name": "sagemath-10.3"
  },
  "language_info": {
   "codemirror_mode": {
    "name": "ipython",
    "version": 3
   },
   "file_extension": ".py",
   "mimetype": "text/x-python",
   "name": "python",
   "nbconvert_exporter": "python",
   "pygments_lexer": "ipython3",
   "version": "3.11.1"
  }
 },
 "nbformat": 4,
 "nbformat_minor": 5
}
