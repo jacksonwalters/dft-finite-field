{
 "cells": [
  {
   "cell_type": "code",
   "execution_count": 28,
   "id": "e5fa7439-9967-496e-b27a-6c2564f7f9ca",
   "metadata": {},
   "outputs": [],
   "source": [
    "#define a new DFT which is unitary\n",
    "#NOTE: in Beals' ['97] he normalizes by \\sqrt{d_\\lambda/n!}\n",
    "#but also notes that a basis change is an equivalence relation on rep'ns\n",
    "#and each equivalence class contains a unitary representatione\n",
    "#if each rep'n \\rho \\in \\hat{G} is unitary, then the transformation is unitary\n",
    "#these representations are not unitary\n",
    "#to make them unitary, use Weyl's unitary trick\n",
    "#OPTION 1: use the formula P = \\int_G \\rho(g)\\rho(g)^* dg, and take a square root to find Q s.t. P = Q^2\n",
    "#OPTION 2: define a new invariant inner product compute an orthonormal basis w.r.t. \n",
    "#this inner product by computing the Gram matrix A and using A.gram_schmidt()"
   ]
  },
  {
   "cell_type": "code",
   "execution_count": 70,
   "id": "ceef00d1-d036-4f68-b585-79fe3f1c6807",
   "metadata": {},
   "outputs": [],
   "source": [
    "#find the change-of-basis matrix M for which A = M*GS where GS is the Gram-Schmidt orthonormal basis of A\n",
    "def unitary_change_of_basis(SGA,partition):\n",
    "    rho = SGA.specht_module(partition).representation_matrix\n",
    "    group_size = SGA.group().cardinality()\n",
    "    P = (1/group_size)*sum(rho(g)*rho(g).conjugate().transpose() for g in SGA.group())\n",
    "    return P.principal_square_root()"
   ]
  },
  {
   "cell_type": "code",
   "execution_count": 91,
   "id": "aca07005-770f-4a0f-bd28-f6c3a5446787",
   "metadata": {},
   "outputs": [],
   "source": [
    "#define the Fourier coefficient at the representation specht_module\n",
    "#which is the Specht module corresponding to partition\n",
    "def hat(f,partition,SGA,unitary=False):\n",
    "    specht_module = SGA.specht_module(partition)\n",
    "    rho = specht_module.representation_matrix\n",
    "    d_part = specht_module.dimension()\n",
    "    group_size = SGA.group().cardinality()\n",
    "    if unitary:\n",
    "        Q = unitary_change_of_basis(SGA,partition)\n",
    "        return sqrt(d_part/group_size)*sum(f(g)*Q.inverse()*rho(g)*Q for g in SGA.group())\n",
    "    else:\n",
    "        return sum(f(g)*rho(g) for g in SGA.group())"
   ]
  },
  {
   "cell_type": "code",
   "execution_count": 34,
   "id": "b3d16b48-b4bd-43b8-bb87-038cc9cd9afd",
   "metadata": {},
   "outputs": [],
   "source": [
    "#define the delta function delta_s(t) = {1 if s == t, 0 otherwise}\n",
    "delta = lambda s: lambda t: 1 if t == s else 0"
   ]
  },
  {
   "cell_type": "code",
   "execution_count": 57,
   "id": "dad4c039-cddd-4d55-8be4-09dff460fbb8",
   "metadata": {},
   "outputs": [],
   "source": [
    "#for each basis element g \\in G compute the Fourier coefficients \\hat{\\delta_g}(partition) for all partitions\n",
    "from sage.misc.flatten import flatten\n",
    "def unitary_dft(SGA):\n",
    "    return matrix([flatten([hat(delta(g),partition,SGA,unitary=True).list() for partition in Partitions(SGA.group().degree())]) for g in G]).transpose()"
   ]
  },
  {
   "cell_type": "code",
   "execution_count": null,
   "id": "262144e3-03f9-493c-a54e-d288abd9395e",
   "metadata": {},
   "outputs": [],
   "source": [
    "#is the SGA DFT unitary?"
   ]
  },
  {
   "cell_type": "code",
   "execution_count": 44,
   "id": "279b49c8-3b66-4689-a755-26dce655f9d6",
   "metadata": {},
   "outputs": [],
   "source": [
    "SGA = SymmetricGroupAlgebra(QQ,3)"
   ]
  },
  {
   "cell_type": "code",
   "execution_count": 45,
   "id": "1b2edd70-15e8-46b2-a4b8-b7b6e1a62f25",
   "metadata": {},
   "outputs": [
    {
     "data": {
      "text/plain": [
       "[   1    1    1    1    1    1]\n",
       "[   1  1/2   -1 -1/2 -1/2  1/2]\n",
       "[   0  3/4    0  3/4 -3/4 -3/4]\n",
       "[   0    1    0   -1    1   -1]\n",
       "[   1 -1/2    1 -1/2 -1/2 -1/2]\n",
       "[   1   -1   -1    1    1   -1]"
      ]
     },
     "execution_count": 45,
     "metadata": {},
     "output_type": "execute_result"
    }
   ],
   "source": [
    "A = SGA.dft(); A"
   ]
  },
  {
   "cell_type": "code",
   "execution_count": 47,
   "id": "6df6046c-68f4-4e02-8f54-e7fb57c47349",
   "metadata": {},
   "outputs": [
    {
     "data": {
      "text/plain": [
       "[  6   0   0   0   0   0]\n",
       "[  0   3   0   0   0   0]\n",
       "[  0   0 9/4   0   0   0]\n",
       "[  0   0   0   4   0   0]\n",
       "[  0   0   0   0   3   0]\n",
       "[  0   0   0   0   0   6]"
      ]
     },
     "execution_count": 47,
     "metadata": {},
     "output_type": "execute_result"
    }
   ],
   "source": [
    "#check if A*A^T == Id. it's not, but the columns are orthonormal\n",
    "A*A.transpose()"
   ]
  },
  {
   "cell_type": "code",
   "execution_count": 60,
   "id": "493c69c2-8761-4166-bb43-8666618f3740",
   "metadata": {},
   "outputs": [
    {
     "data": {
      "text/plain": [
       "6"
      ]
     },
     "execution_count": 60,
     "metadata": {},
     "output_type": "execute_result"
    }
   ],
   "source": [
    "SGA.group().cardinality()"
   ]
  },
  {
   "cell_type": "code",
   "execution_count": 93,
   "id": "cf96731b-2f63-449b-bcb9-88bd015d4dfd",
   "metadata": {},
   "outputs": [
    {
     "data": {
      "text/plain": [
       "[ 1/6*sqrt(6)  1/6*sqrt(6)  1/6*sqrt(6)  1/6*sqrt(6)  1/6*sqrt(6)  1/6*sqrt(6)]\n",
       "[ 1/3*sqrt(3)            0          1/2 -1/6*sqrt(3) -1/6*sqrt(3)         -1/2]\n",
       "[           0  1/3*sqrt(3) -1/6*sqrt(3)          1/2         -1/2 -1/6*sqrt(3)]\n",
       "[           0  1/3*sqrt(3) -1/6*sqrt(3)         -1/2          1/2 -1/6*sqrt(3)]\n",
       "[ 1/3*sqrt(3)            0         -1/2 -1/6*sqrt(3) -1/6*sqrt(3)          1/2]\n",
       "[ 1/6*sqrt(6) -1/6*sqrt(6) -1/6*sqrt(6)  1/6*sqrt(6)  1/6*sqrt(6) -1/6*sqrt(6)]"
      ]
     },
     "execution_count": 93,
     "metadata": {},
     "output_type": "execute_result"
    }
   ],
   "source": [
    "unitary_dft(SGA).simplify_full()"
   ]
  },
  {
   "cell_type": "code",
   "execution_count": null,
   "id": "8ba7dfc6-7632-4519-93a9-74680ed23263",
   "metadata": {},
   "outputs": [],
   "source": [
    "#check that the DFT is unitary\n",
    "(unitary_dft(3)*unitary_dft(3).transpose()).simplify_full() == identity_matrix(factorial(3))"
   ]
  },
  {
   "cell_type": "code",
   "execution_count": null,
   "id": "888cca70-d42c-42a4-94fc-78f1520fc990",
   "metadata": {},
   "outputs": [],
   "source": [
    "eigs = matrix(CDF,unitary_dft(3).simplify_full()).eigenvalues()"
   ]
  },
  {
   "cell_type": "code",
   "execution_count": null,
   "id": "de676e52-78db-42ae-a2f3-befeec8fe9bc",
   "metadata": {},
   "outputs": [],
   "source": [
    "eigs"
   ]
  },
  {
   "cell_type": "code",
   "execution_count": null,
   "id": "14cbad6c-4016-4b14-9ce0-415b9d90f2c1",
   "metadata": {},
   "outputs": [],
   "source": [
    "#what are the eigenvalues?\n",
    "#n=3: two real, two complex\n",
    "#n=4: all complex\n",
    "#the magnitude is not 1, they're closely grouped around 2 or 3"
   ]
  },
  {
   "cell_type": "code",
   "execution_count": null,
   "id": "2caebbde-e05f-416d-a06f-b1d8d8c53ebb",
   "metadata": {},
   "outputs": [],
   "source": [
    "eigs = A.eigenvalues(); eigs"
   ]
  },
  {
   "cell_type": "code",
   "execution_count": null,
   "id": "edb1c420-f44a-4cb3-9fb3-2ffa17dee539",
   "metadata": {},
   "outputs": [],
   "source": [
    "[abs(eig) for eig in eigs]"
   ]
  },
  {
   "cell_type": "code",
   "execution_count": null,
   "id": "5a48909b-3b9a-437c-a778-e81f28f3735b",
   "metadata": {},
   "outputs": [],
   "source": [
    "#note that the singluar values are the square roots of the diagonal entries of the Gram matrix\n",
    "print(SymmetricGroup(n).algebra(CDF).dft().SVD()[1].numpy().diagonal())\n",
    "print(sqrt((A*A.transpose()).numpy().diagonal()))"
   ]
  },
  {
   "cell_type": "code",
   "execution_count": null,
   "id": "7b949e59-2889-48f2-a750-2c981e15795b",
   "metadata": {},
   "outputs": [],
   "source": []
  }
 ],
 "metadata": {
  "kernelspec": {
   "display_name": "SageMath 10.3",
   "language": "sage",
   "name": "sagemath-10.3"
  },
  "language_info": {
   "codemirror_mode": {
    "name": "ipython",
    "version": 3
   },
   "file_extension": ".py",
   "mimetype": "text/x-python",
   "name": "python",
   "nbconvert_exporter": "python",
   "pygments_lexer": "ipython3",
   "version": "3.11.1"
  }
 },
 "nbformat": 4,
 "nbformat_minor": 5
}
