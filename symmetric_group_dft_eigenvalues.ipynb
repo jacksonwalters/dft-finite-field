{
 "cells": [
  {
   "cell_type": "code",
   "execution_count": 50,
   "id": "e5fa7439-9967-496e-b27a-6c2564f7f9ca",
   "metadata": {},
   "outputs": [],
   "source": [
    "#define a new DFT which is unitary\n",
    "#NOTE: in Beals' ['97] he normalizes by \\sqrt{d_\\lambda/n!}\n",
    "#but also notes that a basis change is an equivalence relation on rep'ns\n",
    "#and each equivalence class contains a unitary representatione\n",
    "#if each rep'n \\rho \\in \\hat{G} is unitary, then the transformation is unitary\n",
    "#these representations are not unitary\n",
    "#to make them unitary, use Weyl's unitary trick\n",
    "#OPTION 1: use the formula P = \\int_G \\rho(g)\\rho(g)^* dg, and take a square root to find Q s.t. P = Q^2\n",
    "#OPTION 2: define a new invariant inner product compute an orthonormal basis by computing the Gram matrix A and using A.gram_schmidt()"
   ]
  },
  {
   "cell_type": "code",
   "execution_count": 6,
   "id": "f4f39b63-d30d-445e-8cde-3ea75a3c64d3",
   "metadata": {},
   "outputs": [],
   "source": [
    "#compute a field which contains all the square roots required\n",
    "#BUG: the required square roots are not all integers. some of them are algebraic numbers\n",
    "def containing_field(SGA):\n",
    "    required_square_roots = []\n",
    "    for partition in Partitions(SGA.group().degree()):\n",
    "        specht_module = SGA.specht_module(partition)\n",
    "        rho = specht_module.representation_matrix\n",
    "        group_size = SGA.group().cardinality()\n",
    "        P = (1/group_size)*sum(rho(g)*rho(g).conjugate().transpose() for g in SGA.group())\n",
    "        d, L = P.eigenmatrix_left()\n",
    "        required_square_roots += [specht_module.dimension(),SGA.group().cardinality()] + d.diagonal()\n",
    "    required_square_roots = flatten([[QQ(q).numerator(),QQ(q).denominator()] if q in QQ else q for q in required_square_roots])\n",
    "    print(required_square_roots)\n",
    "    K = SGA.base_ring()\n",
    "    for n in set(required_square_roots):\n",
    "        R = PolynomialRing(K, 'x')\n",
    "        x = R.gen()\n",
    "        if type(n) == Integer and (x**2-n).is_irreducible():\n",
    "            gen_name = \"sqrt\"+str(n).replace(\"/\",\"over\")\n",
    "            K = K.extension(x**2-n,names=gen_name)\n",
    "        if type(n) != Integer:\n",
    "            gen_name = \"deg\" + str(n.minpoly().degree()) + \"index\" + str(list(set(required_square_roots)).index(n))\n",
    "            K = K.extension(n.minpoly(),names=gen_name)\n",
    "            gen_name = \"sqrt\" + gen_name\n",
    "            R = PolynomialRing(K, 'x')\n",
    "            x = R.gen()\n",
    "            if (x**2 - K(n)).is_irreducible():\n",
    "                K = K.extension(x**2 - n,names=gen_name)\n",
    "    return K"
   ]
  },
  {
   "cell_type": "code",
   "execution_count": 2,
   "id": "ceef00d1-d036-4f68-b585-79fe3f1c6807",
   "metadata": {},
   "outputs": [],
   "source": [
    "#find the change-of-basis matrix Q making \\rho(g) unitary for all g \\in G\n",
    "from sage.matrix.special import diagonal_matrix\n",
    "from sage.misc.functional import sqrt\n",
    "def unitary_change_of_basis(SGA,partition,K):\n",
    "    rho = SGA.specht_module(partition).representation_matrix\n",
    "    group_size = SGA.group().cardinality()\n",
    "    P = (1/group_size)*sum(rho(g)*rho(g).conjugate().transpose() for g in SGA.group())\n",
    "    d, L = P.eigenmatrix_left()\n",
    "    return L.inverse() * diagonal_matrix([sqrt(K(a)) for a in d.diagonal()]) * L"
   ]
  },
  {
   "cell_type": "code",
   "execution_count": 3,
   "id": "aca07005-770f-4a0f-bd28-f6c3a5446787",
   "metadata": {},
   "outputs": [],
   "source": [
    "#define the Fourier coefficient at the representation specht_module\n",
    "#which is the Specht module corresponding to partition\n",
    "def hat(f,partition,SGA,K,unitary=False):\n",
    "    specht_module = SGA.specht_module(partition)\n",
    "    rho = specht_module.representation_matrix\n",
    "    if unitary:\n",
    "        Q = unitary_change_of_basis(SGA,partition,K)\n",
    "        unitary_factor = specht_module.dimension()/SGA.group().cardinality()\n",
    "        sqrt_unitary_factor = sqrt(K(unitary_factor))\n",
    "        return sqrt_unitary_factor*sum(f(g)*Q.inverse()*rho(g)*Q for g in SGA.group())\n",
    "    else:\n",
    "        return sum(f(g)*rho(g) for g in SGA.group())"
   ]
  },
  {
   "cell_type": "code",
   "execution_count": 4,
   "id": "dad4c039-cddd-4d55-8be4-09dff460fbb8",
   "metadata": {},
   "outputs": [],
   "source": [
    "#for each basis element g \\in G compute the Fourier coefficients \\hat{\\delta_g}(partition) for all partitions\n",
    "from sage.misc.flatten import flatten\n",
    "delta = lambda s: lambda t: 1 if t == s else 0 #delta function \\delta_s(t)\n",
    "def dft(SGA,unitary=False):\n",
    "    K = containing_field(SGA)\n",
    "    fourier_transform = [flatten([hat(delta(g),partition,SGA,K,unitary).list() for partition in Partitions(SGA.group().degree())]) for g in SGA.group()]\n",
    "    if unitary:\n",
    "        return matrix(K,fourier_transform).transpose()\n",
    "    else:\n",
    "        return matrix(fourier_transform).transpose()"
   ]
  },
  {
   "cell_type": "code",
   "execution_count": 3,
   "id": "1d123573-fd82-4429-aa0b-5737739e6473",
   "metadata": {},
   "outputs": [],
   "source": [
    "n = 5"
   ]
  },
  {
   "cell_type": "code",
   "execution_count": 4,
   "id": "279b49c8-3b66-4689-a755-26dce655f9d6",
   "metadata": {},
   "outputs": [
    {
     "data": {
      "text/plain": [
       "Symmetric group algebra of order 5 over Rational Field"
      ]
     },
     "execution_count": 4,
     "metadata": {},
     "output_type": "execute_result"
    }
   ],
   "source": [
    "SGA = SymmetricGroupAlgebra(QQ,n); SGA"
   ]
  },
  {
   "cell_type": "code",
   "execution_count": 7,
   "id": "8c2d8748-b9d5-4ed8-94e7-14daceb60e60",
   "metadata": {},
   "outputs": [
    {
     "name": "stdout",
     "output_type": "stream",
     "text": [
      "[1, 1, 120, 1, 1, 1, 4, 1, 120, 1, 4, 1, 4, 5, 4, 5, 4, 5, 5, 1, 120, 1, 1, 2, 3, 2, 3, 2, 0.6576707807867546?, 6.842329219213246?, 6, 1, 120, 1, 3, 1, 3, 1, 3, 1, 3, 5, 3, 5, 3, 5, 5, 1, 120, 1, 4, 3, 0.4222184571375349?, 0.7472488450262424?, 2.802806402627601?, 5.361059628541955?, 4, 1, 120, 1, 2, 5, 2, 1, 2, 1, 2, 1, 1, 1, 120, 1, 1, 1]\n"
     ]
    },
    {
     "ename": "ValueError",
     "evalue": "need a real or complex embedding to convert a non rational element of a number field into an algebraic number",
     "output_type": "error",
     "traceback": [
      "\u001b[0;31m---------------------------------------------------------------------------\u001b[0m",
      "\u001b[0;31mValueError\u001b[0m                                Traceback (most recent call last)",
      "Cell \u001b[0;32mIn[7], line 1\u001b[0m\n\u001b[0;32m----> 1\u001b[0m K \u001b[38;5;241m=\u001b[39m containing_field(SGA); K\n",
      "Cell \u001b[0;32mIn[6], line 27\u001b[0m, in \u001b[0;36mcontaining_field\u001b[0;34m(SGA)\u001b[0m\n\u001b[1;32m     25\u001b[0m         R \u001b[38;5;241m=\u001b[39m PolynomialRing(K, \u001b[38;5;124m'\u001b[39m\u001b[38;5;124mx\u001b[39m\u001b[38;5;124m'\u001b[39m)\n\u001b[1;32m     26\u001b[0m         x \u001b[38;5;241m=\u001b[39m R\u001b[38;5;241m.\u001b[39mgen()\n\u001b[0;32m---> 27\u001b[0m         \u001b[38;5;28;01mif\u001b[39;00m (x\u001b[38;5;241m*\u001b[39m\u001b[38;5;241m*\u001b[39mInteger(\u001b[38;5;241m2\u001b[39m) \u001b[38;5;241m-\u001b[39m \u001b[43mK\u001b[49m\u001b[43m(\u001b[49m\u001b[43mn\u001b[49m\u001b[43m)\u001b[49m)\u001b[38;5;241m.\u001b[39mis_irreducible():\n\u001b[1;32m     28\u001b[0m             K \u001b[38;5;241m=\u001b[39m K\u001b[38;5;241m.\u001b[39mextension(x\u001b[38;5;241m*\u001b[39m\u001b[38;5;241m*\u001b[39mInteger(\u001b[38;5;241m2\u001b[39m) \u001b[38;5;241m-\u001b[39m n,names\u001b[38;5;241m=\u001b[39mgen_name)\n\u001b[1;32m     29\u001b[0m \u001b[38;5;28;01mreturn\u001b[39;00m K\n",
      "File \u001b[0;32m/private/var/tmp/sage-10.3-current/local/var/lib/sage/venv-python3.11.1/lib/python3.11/site-packages/sage/structure/parent.pyx:901\u001b[0m, in \u001b[0;36msage.structure.parent.Parent.__call__ (build/cythonized/sage/structure/parent.c:12676)\u001b[0;34m()\u001b[0m\n\u001b[1;32m    899\u001b[0m if mor is not None:\n\u001b[1;32m    900\u001b[0m     if no_extra_args:\n\u001b[0;32m--> 901\u001b[0m         return mor._call_(x)\n\u001b[1;32m    902\u001b[0m     else:\n\u001b[1;32m    903\u001b[0m         return mor._call_with_args(x, args, kwds)\n",
      "File \u001b[0;32m/private/var/tmp/sage-10.3-current/local/var/lib/sage/venv-python3.11.1/lib/python3.11/site-packages/sage/structure/coerce_maps.pyx:163\u001b[0m, in \u001b[0;36msage.structure.coerce_maps.DefaultConvertMap_unique._call_ (build/cythonized/sage/structure/coerce_maps.c:6957)\u001b[0;34m()\u001b[0m\n\u001b[1;32m    161\u001b[0m             print(type(C), C)\n\u001b[1;32m    162\u001b[0m             print(type(C._element_constructor), C._element_constructor)\n\u001b[0;32m--> 163\u001b[0m         raise\n\u001b[1;32m    164\u001b[0m \n\u001b[1;32m    165\u001b[0m cpdef Element _call_with_args(self, x, args=(), kwds={}) noexcept:\n",
      "File \u001b[0;32m/private/var/tmp/sage-10.3-current/local/var/lib/sage/venv-python3.11.1/lib/python3.11/site-packages/sage/structure/coerce_maps.pyx:158\u001b[0m, in \u001b[0;36msage.structure.coerce_maps.DefaultConvertMap_unique._call_ (build/cythonized/sage/structure/coerce_maps.c:6849)\u001b[0;34m()\u001b[0m\n\u001b[1;32m    156\u001b[0m cdef Parent C = self._codomain\n\u001b[1;32m    157\u001b[0m try:\n\u001b[0;32m--> 158\u001b[0m     return C._element_constructor(x)\n\u001b[1;32m    159\u001b[0m except Exception:\n\u001b[1;32m    160\u001b[0m     if print_warnings:\n",
      "File \u001b[0;32m/private/var/tmp/sage-10.3-current/local/var/lib/sage/venv-python3.11.1/lib/python3.11/site-packages/sage/rings/number_field/number_field_rel.py:1074\u001b[0m, in \u001b[0;36mNumberField_relative._element_constructor_\u001b[0;34m(self, x, check)\u001b[0m\n\u001b[1;32m   1072\u001b[0m         x \u001b[38;5;241m=\u001b[39m \u001b[38;5;28mself\u001b[39m\u001b[38;5;241m.\u001b[39m_pari_rnfeq()\u001b[38;5;241m.\u001b[39m_eltreltoabs(x\u001b[38;5;241m.\u001b[39mliftpol())\n\u001b[1;32m   1073\u001b[0m         check \u001b[38;5;241m=\u001b[39m \u001b[38;5;28;01mFalse\u001b[39;00m\n\u001b[0;32m-> 1074\u001b[0m \u001b[38;5;28;01mreturn\u001b[39;00m \u001b[43mNumberField_generic\u001b[49m\u001b[38;5;241;43m.\u001b[39;49m\u001b[43m_element_constructor_\u001b[49m\u001b[43m(\u001b[49m\u001b[38;5;28;43mself\u001b[39;49m\u001b[43m,\u001b[49m\u001b[43m \u001b[49m\u001b[43mx\u001b[49m\u001b[43m,\u001b[49m\u001b[43m \u001b[49m\u001b[43mcheck\u001b[49m\u001b[38;5;241;43m=\u001b[39;49m\u001b[43mcheck\u001b[49m\u001b[43m)\u001b[49m\n",
      "File \u001b[0;32m/private/var/tmp/sage-10.3-current/local/var/lib/sage/venv-python3.11.1/lib/python3.11/site-packages/sage/rings/number_field/number_field.py:1771\u001b[0m, in \u001b[0;36mNumberField_generic._element_constructor_\u001b[0;34m(self, x, check)\u001b[0m\n\u001b[1;32m   1769\u001b[0m     base \u001b[38;5;241m=\u001b[39m \u001b[38;5;28mself\u001b[39m\u001b[38;5;241m.\u001b[39mbase_ring()\n\u001b[1;32m   1770\u001b[0m     \u001b[38;5;28;01mreturn\u001b[39;00m \u001b[38;5;28msum\u001b[39m(base(c) \u001b[38;5;241m*\u001b[39m g \u001b[38;5;28;01mfor\u001b[39;00m c, g \u001b[38;5;129;01min\u001b[39;00m \u001b[38;5;28mzip\u001b[39m(x, \u001b[38;5;28mself\u001b[39m\u001b[38;5;241m.\u001b[39mgen(\u001b[38;5;241m0\u001b[39m)\u001b[38;5;241m.\u001b[39mpowers(\u001b[38;5;28mlen\u001b[39m(x))))\n\u001b[0;32m-> 1771\u001b[0m \u001b[38;5;28;01mreturn\u001b[39;00m \u001b[38;5;28;43mself\u001b[39;49m\u001b[38;5;241;43m.\u001b[39;49m\u001b[43m_convert_non_number_field_element\u001b[49m\u001b[43m(\u001b[49m\u001b[43mx\u001b[49m\u001b[43m)\u001b[49m\n",
      "File \u001b[0;32m/private/var/tmp/sage-10.3-current/local/var/lib/sage/venv-python3.11.1/lib/python3.11/site-packages/sage/rings/number_field/number_field_rel.py:992\u001b[0m, in \u001b[0;36mNumberField_relative._convert_non_number_field_element\u001b[0;34m(self, x)\u001b[0m\n\u001b[1;32m    989\u001b[0m     \u001b[38;5;28;01mreturn\u001b[39;00m \u001b[38;5;28mself\u001b[39m\u001b[38;5;241m.\u001b[39m_element_class(\u001b[38;5;28mself\u001b[39m, f(\u001b[38;5;28mself\u001b[39m\u001b[38;5;241m.\u001b[39mgen())\u001b[38;5;241m.\u001b[39mpolynomial() )\n\u001b[1;32m    991\u001b[0m \u001b[38;5;66;03m# Anything else: use the code for generic number fields\u001b[39;00m\n\u001b[0;32m--> 992\u001b[0m \u001b[38;5;28;01mreturn\u001b[39;00m \u001b[38;5;28;43msuper\u001b[39;49m\u001b[43m(\u001b[49m\u001b[43m)\u001b[49m\u001b[38;5;241;43m.\u001b[39;49m\u001b[43m_convert_non_number_field_element\u001b[49m\u001b[43m(\u001b[49m\u001b[43mx\u001b[49m\u001b[43m)\u001b[49m\n",
      "File \u001b[0;32m/private/var/tmp/sage-10.3-current/local/var/lib/sage/venv-python3.11.1/lib/python3.11/site-packages/sage/rings/number_field/number_field.py:1847\u001b[0m, in \u001b[0;36mNumberField_generic._convert_non_number_field_element\u001b[0;34m(self, x)\u001b[0m\n\u001b[1;32m   1844\u001b[0m     \u001b[38;5;28;01mreturn\u001b[39;00m x\u001b[38;5;241m.\u001b[39mlift()\u001b[38;5;241m.\u001b[39msubs({y: \u001b[38;5;28mself\u001b[39m\u001b[38;5;241m.\u001b[39mgen()})\n\u001b[1;32m   1846\u001b[0m \u001b[38;5;28;01mif\u001b[39;00m \u001b[38;5;28misinstance\u001b[39m(x, (sage\u001b[38;5;241m.\u001b[39mrings\u001b[38;5;241m.\u001b[39mqqbar\u001b[38;5;241m.\u001b[39mAlgebraicNumber, sage\u001b[38;5;241m.\u001b[39mrings\u001b[38;5;241m.\u001b[39mqqbar\u001b[38;5;241m.\u001b[39mAlgebraicReal)):\n\u001b[0;32m-> 1847\u001b[0m     \u001b[38;5;28;01mreturn\u001b[39;00m \u001b[38;5;28;43mself\u001b[39;49m\u001b[38;5;241;43m.\u001b[39;49m\u001b[43m_convert_from_qqbar\u001b[49m\u001b[43m(\u001b[49m\u001b[43mx\u001b[49m\u001b[43m)\u001b[49m\n\u001b[1;32m   1849\u001b[0m \u001b[38;5;28;01mif\u001b[39;00m \u001b[38;5;28misinstance\u001b[39m(x, polynomial_element\u001b[38;5;241m.\u001b[39mPolynomial):\n\u001b[1;32m   1850\u001b[0m     \u001b[38;5;28;01mreturn\u001b[39;00m \u001b[38;5;28mself\u001b[39m\u001b[38;5;241m.\u001b[39m_element_class(\u001b[38;5;28mself\u001b[39m, x)\n",
      "File \u001b[0;32m/private/var/tmp/sage-10.3-current/local/var/lib/sage/venv-python3.11.1/lib/python3.11/site-packages/sage/rings/number_field/number_field.py:1914\u001b[0m, in \u001b[0;36mNumberField_generic._convert_from_qqbar\u001b[0;34m(self, x)\u001b[0m\n\u001b[1;32m   1912\u001b[0m     z \u001b[38;5;241m=\u001b[39m F_to_self(y)\n\u001b[1;32m   1913\u001b[0m     \u001b[38;5;66;03m# Check whether the diagram commutes\u001b[39;00m\n\u001b[0;32m-> 1914\u001b[0m     \u001b[38;5;28;01mif\u001b[39;00m \u001b[43mQQbar\u001b[49m\u001b[43m(\u001b[49m\u001b[43mz\u001b[49m\u001b[43m)\u001b[49m \u001b[38;5;241m==\u001b[39m x:\n\u001b[1;32m   1915\u001b[0m         \u001b[38;5;28;01mreturn\u001b[39;00m z\n\u001b[1;32m   1917\u001b[0m \u001b[38;5;28;01mraise\u001b[39;00m \u001b[38;5;167;01mTypeError\u001b[39;00m(\u001b[38;5;124m\"\u001b[39m\u001b[38;5;124munable to convert \u001b[39m\u001b[38;5;132;01m%r\u001b[39;00m\u001b[38;5;124m to \u001b[39m\u001b[38;5;132;01m%s\u001b[39;00m\u001b[38;5;124m\"\u001b[39m \u001b[38;5;241m%\u001b[39m (x, \u001b[38;5;28mself\u001b[39m))\n",
      "File \u001b[0;32m/private/var/tmp/sage-10.3-current/local/var/lib/sage/venv-python3.11.1/lib/python3.11/site-packages/sage/structure/parent.pyx:901\u001b[0m, in \u001b[0;36msage.structure.parent.Parent.__call__ (build/cythonized/sage/structure/parent.c:12676)\u001b[0;34m()\u001b[0m\n\u001b[1;32m    899\u001b[0m if mor is not None:\n\u001b[1;32m    900\u001b[0m     if no_extra_args:\n\u001b[0;32m--> 901\u001b[0m         return mor._call_(x)\n\u001b[1;32m    902\u001b[0m     else:\n\u001b[1;32m    903\u001b[0m         return mor._call_with_args(x, args, kwds)\n",
      "File \u001b[0;32m/private/var/tmp/sage-10.3-current/local/var/lib/sage/venv-python3.11.1/lib/python3.11/site-packages/sage/structure/coerce_maps.pyx:163\u001b[0m, in \u001b[0;36msage.structure.coerce_maps.DefaultConvertMap_unique._call_ (build/cythonized/sage/structure/coerce_maps.c:6957)\u001b[0;34m()\u001b[0m\n\u001b[1;32m    161\u001b[0m             print(type(C), C)\n\u001b[1;32m    162\u001b[0m             print(type(C._element_constructor), C._element_constructor)\n\u001b[0;32m--> 163\u001b[0m         raise\n\u001b[1;32m    164\u001b[0m \n\u001b[1;32m    165\u001b[0m cpdef Element _call_with_args(self, x, args=(), kwds={}) noexcept:\n",
      "File \u001b[0;32m/private/var/tmp/sage-10.3-current/local/var/lib/sage/venv-python3.11.1/lib/python3.11/site-packages/sage/structure/coerce_maps.pyx:158\u001b[0m, in \u001b[0;36msage.structure.coerce_maps.DefaultConvertMap_unique._call_ (build/cythonized/sage/structure/coerce_maps.c:6849)\u001b[0;34m()\u001b[0m\n\u001b[1;32m    156\u001b[0m cdef Parent C = self._codomain\n\u001b[1;32m    157\u001b[0m try:\n\u001b[0;32m--> 158\u001b[0m     return C._element_constructor(x)\n\u001b[1;32m    159\u001b[0m except Exception:\n\u001b[1;32m    160\u001b[0m     if print_warnings:\n",
      "File \u001b[0;32m/private/var/tmp/sage-10.3-current/local/var/lib/sage/venv-python3.11.1/lib/python3.11/site-packages/sage/rings/qqbar.py:1654\u001b[0m, in \u001b[0;36mAlgebraicField._element_constructor_\u001b[0;34m(self, x)\u001b[0m\n\u001b[1;32m   1652\u001b[0m     \u001b[38;5;28;01mreturn\u001b[39;00m AlgebraicNumber(x\u001b[38;5;241m.\u001b[39m_descr)\n\u001b[1;32m   1653\u001b[0m \u001b[38;5;28;01melif\u001b[39;00m \u001b[38;5;28mhasattr\u001b[39m(x, \u001b[38;5;124m'\u001b[39m\u001b[38;5;124m_algebraic_\u001b[39m\u001b[38;5;124m'\u001b[39m):\n\u001b[0;32m-> 1654\u001b[0m     \u001b[38;5;28;01mreturn\u001b[39;00m x\u001b[38;5;241m.\u001b[39m_algebraic_(QQbar)\n\u001b[1;32m   1655\u001b[0m \u001b[38;5;28;01mreturn\u001b[39;00m AlgebraicNumber(x)\n",
      "File \u001b[0;32m/private/var/tmp/sage-10.3-current/local/var/lib/sage/venv-python3.11.1/lib/python3.11/site-packages/sage/rings/number_field/number_field_element.pyx:2877\u001b[0m, in \u001b[0;36msage.rings.number_field.number_field_element.NumberFieldElement._algebraic_ (build/cythonized/sage/rings/number_field/number_field_element.cpp:35957)\u001b[0;34m()\u001b[0m\n\u001b[1;32m   2875\u001b[0m emb = self._parent.coerce_embedding()\n\u001b[1;32m   2876\u001b[0m if emb is None:\n\u001b[0;32m-> 2877\u001b[0m     raise ValueError(\"need a real or complex embedding to convert \"\n\u001b[1;32m   2878\u001b[0m                      \"a non rational element of a number field \"\n\u001b[1;32m   2879\u001b[0m                      \"into an algebraic number\")\n",
      "\u001b[0;31mValueError\u001b[0m: need a real or complex embedding to convert a non rational element of a number field into an algebraic number"
     ]
    }
   ],
   "source": [
    "K = containing_field(SGA); K"
   ]
  },
  {
   "cell_type": "code",
   "execution_count": 61,
   "id": "22df4b4d-2712-459f-bbf4-7336e8395d60",
   "metadata": {},
   "outputs": [
    {
     "data": {
      "text/plain": [
       "Number Field in sqrt3 with defining polynomial x^2 - 3 over its base field"
      ]
     },
     "execution_count": 61,
     "metadata": {},
     "output_type": "execute_result"
    }
   ],
   "source": [
    "K.base_ring()"
   ]
  },
  {
   "cell_type": "code",
   "execution_count": 41,
   "id": "ddf55970-a7d3-4b70-aa14-6e2e1c3b3177",
   "metadata": {},
   "outputs": [],
   "source": [
    "G = SGA.group()"
   ]
  },
  {
   "cell_type": "code",
   "execution_count": 42,
   "id": "1b2edd70-15e8-46b2-a4b8-b7b6e1a62f25",
   "metadata": {},
   "outputs": [
    {
     "data": {
      "text/plain": [
       "24 x 24 dense matrix over Rational Field (use the '.str()' method to see the entries)"
      ]
     },
     "execution_count": 42,
     "metadata": {},
     "output_type": "execute_result"
    }
   ],
   "source": [
    "SGA_dft = SGA.dft(); SGA_dft"
   ]
  },
  {
   "cell_type": "code",
   "execution_count": 43,
   "id": "6df6046c-68f4-4e02-8f54-e7fb57c47349",
   "metadata": {},
   "outputs": [
    {
     "data": {
      "text/plain": [
       "24 x 24 dense matrix over Rational Field (use the '.str()' method to see the entries)"
      ]
     },
     "execution_count": 43,
     "metadata": {},
     "output_type": "execute_result"
    }
   ],
   "source": [
    "#check if A*A^T == Id. it's not, but the columns are orthonormal\n",
    "SGA_dft*SGA_dft.transpose()"
   ]
  },
  {
   "cell_type": "code",
   "execution_count": 44,
   "id": "2503a178-95f8-470f-b4d8-d13c520df4fa",
   "metadata": {},
   "outputs": [
    {
     "data": {
      "text/plain": [
       "24 x 24 dense matrix over Number Field in sqrt3 with defining polynomial x^2 - 3 over its base field (use the '.str()' method to see the entries)"
      ]
     },
     "execution_count": 44,
     "metadata": {},
     "output_type": "execute_result"
    }
   ],
   "source": [
    "#compute the unitary DFT of the symmetric group algebra\n",
    "U_dft = dft(SGA,unitary=True); U_dft"
   ]
  },
  {
   "cell_type": "code",
   "execution_count": 45,
   "id": "cf96731b-2f63-449b-bcb9-88bd015d4dfd",
   "metadata": {},
   "outputs": [
    {
     "data": {
      "text/plain": [
       "24 x 24 dense matrix over Number Field in sqrt3 with defining polynomial x^2 - 3 over its base field (use the '.str()' method to see the entries)"
      ]
     },
     "execution_count": 45,
     "metadata": {},
     "output_type": "execute_result"
    }
   ],
   "source": [
    "U_dft*U_dft.conjugate().transpose()"
   ]
  },
  {
   "cell_type": "code",
   "execution_count": 46,
   "id": "8ba7dfc6-7632-4519-93a9-74680ed23263",
   "metadata": {},
   "outputs": [
    {
     "data": {
      "text/plain": [
       "True"
      ]
     },
     "execution_count": 46,
     "metadata": {},
     "output_type": "execute_result"
    }
   ],
   "source": [
    "#check that the DFT is unitary\n",
    "(U_dft*U_dft.transpose()) == identity_matrix(SGA.group().cardinality())"
   ]
  },
  {
   "cell_type": "code",
   "execution_count": 35,
   "id": "45e8804f-368c-49d1-b073-219eadd8f3ed",
   "metadata": {},
   "outputs": [],
   "source": [
    "#QUESTION: what are the eigenvalues?\n",
    "#for n=3, the minimal polynomial is degree 24 for the eigenvalues. the splitting field is degree 192.\n",
    "#this means that the Galois group is nonabelian, and since the minimal polynomial has rational coefficients\n",
    "#the eigenvalues are not roots of unity"
   ]
  },
  {
   "cell_type": "code",
   "execution_count": 47,
   "id": "2a995534-79fe-4563-a07a-187cf2cfc77c",
   "metadata": {},
   "outputs": [
    {
     "data": {
      "text/plain": [
       "x^24 + (1/6*sqrt2*sqrt3 - 1/6*sqrt2)*x^23 + ((-1/54*sqrt2 - 17/54)*sqrt3 + 1/12*sqrt2 - 67/162)*x^22 + ((7/324*sqrt2 - 1/108)*sqrt3 + 91/486*sqrt2 - 17/108)*x^21 + ((343/2916*sqrt2 + 923/5832)*sqrt3 - 103/972*sqrt2 - 1697/2916)*x^20 + ((-623/1944*sqrt2 - 364/2187)*sqrt3 + 1579/17496*sqrt2 + 346/729)*x^19 + ((8159/104976*sqrt2 + 40559/104976)*sqrt3 - 8027/34992*sqrt2 - 7021/26244)*x^18 + ((-5363/314928*sqrt2 + 7459/104976)*sqrt3 + 2851/34992*sqrt2 + 23315/104976)*x^17 + ((-25231/314928*sqrt2 - 15109/104976)*sqrt3 + 12361/69984*sqrt2 + 1118/6561)*x^16 + ((1063/5832*sqrt2 + 15577/69984)*sqrt3 - 89153/629856*sqrt2 - 428785/629856)*x^15 + ((-11675/52488*sqrt2 - 84617/209952)*sqrt3 + 6545/26244*sqrt2 + 45113/69984)*x^14 + ((53225/629856*sqrt2 + 41077/629856)*sqrt3 - 15437/39366*sqrt2 - 4831/209952)*x^13 + ((-53225/629856*sqrt2 - 41077/629856)*sqrt3 + 15437/39366*sqrt2 + 4831/209952)*x^11 + ((11675/52488*sqrt2 + 84617/209952)*sqrt3 - 6545/26244*sqrt2 - 45113/69984)*x^10 + ((-1063/5832*sqrt2 - 15577/69984)*sqrt3 + 89153/629856*sqrt2 + 428785/629856)*x^9 + ((25231/314928*sqrt2 + 15109/104976)*sqrt3 - 12361/69984*sqrt2 - 1118/6561)*x^8 + ((5363/314928*sqrt2 - 7459/104976)*sqrt3 - 2851/34992*sqrt2 - 23315/104976)*x^7 + ((-8159/104976*sqrt2 - 40559/104976)*sqrt3 + 8027/34992*sqrt2 + 7021/26244)*x^6 + ((623/1944*sqrt2 + 364/2187)*sqrt3 - 1579/17496*sqrt2 - 346/729)*x^5 + ((-343/2916*sqrt2 - 923/5832)*sqrt3 + 103/972*sqrt2 + 1697/2916)*x^4 + ((-7/324*sqrt2 + 1/108)*sqrt3 - 91/486*sqrt2 + 17/108)*x^3 + ((1/54*sqrt2 + 17/54)*sqrt3 - 1/12*sqrt2 + 67/162)*x^2 + (-1/6*sqrt2*sqrt3 + 1/6*sqrt2)*x - 1"
      ]
     },
     "execution_count": 47,
     "metadata": {},
     "output_type": "execute_result"
    }
   ],
   "source": [
    "U_dft.charpoly()"
   ]
  },
  {
   "cell_type": "code",
   "execution_count": 48,
   "id": "077ce28b-5e2c-4b73-bfb0-70072c4e9452",
   "metadata": {},
   "outputs": [
    {
     "ename": "KeyboardInterrupt",
     "evalue": "",
     "output_type": "error",
     "traceback": [
      "\u001b[0;31m---------------------------------------------------------------------------\u001b[0m",
      "\u001b[0;31mKeyboardInterrupt\u001b[0m                         Traceback (most recent call last)",
      "Cell \u001b[0;32mIn[48], line 3\u001b[0m\n\u001b[1;32m      1\u001b[0m \u001b[38;5;66;03m#ISSUE: the splitting field appears to be high degree, and the coefficients are large\u001b[39;00m\n\u001b[1;32m      2\u001b[0m \u001b[38;5;28;01mif\u001b[39;00m \u001b[38;5;28mlen\u001b[39m(U_dft\u001b[38;5;241m.\u001b[39mcharpoly()\u001b[38;5;241m.\u001b[39mfactor()) \u001b[38;5;241m!=\u001b[39m U_dft\u001b[38;5;241m.\u001b[39mcharpoly()\u001b[38;5;241m.\u001b[39mdegree():\n\u001b[0;32m----> 3\u001b[0m     L \u001b[38;5;241m=\u001b[39m U_dft\u001b[38;5;241m.\u001b[39mcharpoly()\u001b[38;5;241m.\u001b[39msplitting_field(\u001b[38;5;28mmap\u001b[39m\u001b[38;5;241m=\u001b[39m\u001b[38;5;28;01mFalse\u001b[39;00m, names\u001b[38;5;241m=\u001b[39m(\u001b[38;5;124m'\u001b[39m\u001b[38;5;124ma\u001b[39m\u001b[38;5;124m'\u001b[39m,)); (a,) \u001b[38;5;241m=\u001b[39m L\u001b[38;5;241m.\u001b[39m_first_ngens(\u001b[38;5;241m1\u001b[39m); L\n\u001b[1;32m      4\u001b[0m \u001b[38;5;28;01melse\u001b[39;00m:\n\u001b[1;32m      5\u001b[0m     L \u001b[38;5;241m=\u001b[39m K\n",
      "File \u001b[0;32m/private/var/tmp/sage-10.3-current/local/var/lib/sage/venv-python3.11.1/lib/python3.11/site-packages/sage/rings/polynomial/polynomial_element.pyx:5326\u001b[0m, in \u001b[0;36msage.rings.polynomial.polynomial_element.Polynomial.splitting_field (build/cythonized/sage/rings/polynomial/polynomial_element.c:55827)\u001b[0;34m()\u001b[0m\n\u001b[1;32m   5324\u001b[0m if isinstance(F, NumberField):\n\u001b[1;32m   5325\u001b[0m     from sage.rings.number_field.splitting_field import splitting_field\n\u001b[0;32m-> 5326\u001b[0m     return splitting_field(f, name, map, **kwds)\n\u001b[1;32m   5327\u001b[0m elif isinstance(F, FiniteField):\n\u001b[1;32m   5328\u001b[0m     degree = lcm([f.degree() for f, _ in self.factor()])\n",
      "File \u001b[0;32m/private/var/tmp/sage-10.3-current/local/var/lib/sage/venv-python3.11.1/lib/python3.11/site-packages/sage/rings/number_field/splitting_field.py:530\u001b[0m, in \u001b[0;36msplitting_field\u001b[0;34m(poly, name, map, degree_multiple, abort_degree, simplify, simplify_all)\u001b[0m\n\u001b[1;32m    528\u001b[0m verbose(\u001b[38;5;124m\"\u001b[39m\u001b[38;5;124mHandling polynomial \u001b[39m\u001b[38;5;132;01m%s\u001b[39;00m\u001b[38;5;124m\"\u001b[39m \u001b[38;5;241m%\u001b[39m (f\u001b[38;5;241m.\u001b[39mlift()), level\u001b[38;5;241m=\u001b[39m\u001b[38;5;241m2\u001b[39m)\n\u001b[1;32m    529\u001b[0m t \u001b[38;5;241m=\u001b[39m cputime()\n\u001b[0;32m--> 530\u001b[0m Npol, KtoN, k \u001b[38;5;241m=\u001b[39m \u001b[43mKpol\u001b[49m\u001b[38;5;241;43m.\u001b[39;49m\u001b[43mrnfequation\u001b[49m\u001b[43m(\u001b[49m\u001b[43mf\u001b[49m\u001b[43m,\u001b[49m\u001b[43m \u001b[49m\u001b[43mflag\u001b[49m\u001b[38;5;241;43m=\u001b[39;49m\u001b[38;5;241;43m1\u001b[39;49m\u001b[43m)\u001b[49m\n\u001b[1;32m    532\u001b[0m \u001b[38;5;66;03m# Make Npol monic integral primitive, store in Mpol\u001b[39;00m\n\u001b[1;32m    533\u001b[0m \u001b[38;5;66;03m# (after this, we don't need Npol anymore, only Mpol)\u001b[39;00m\n\u001b[1;32m    534\u001b[0m Mdiv \u001b[38;5;241m=\u001b[39m pari(\u001b[38;5;241m1\u001b[39m)\n",
      "File \u001b[0;32mcypari2/auto_gen.pxi:30931\u001b[0m, in \u001b[0;36mcypari2.gen.Gen_base.rnfequation\u001b[0;34m()\u001b[0m\n",
      "\u001b[0;31mKeyboardInterrupt\u001b[0m: "
     ]
    }
   ],
   "source": [
    "#ISSUE: the splitting field appears to be high degree, and the coefficients are large\n",
    "if len(U_dft.charpoly().factor()) != U_dft.charpoly().degree():\n",
    "    L.<a> = U_dft.charpoly().splitting_field(map=False); L\n",
    "else:\n",
    "    L = K"
   ]
  },
  {
   "cell_type": "code",
   "execution_count": 29,
   "id": "4db15c55-298b-4d11-bb87-bfc4989e98c3",
   "metadata": {},
   "outputs": [
    {
     "name": "stdout",
     "output_type": "stream",
     "text": [
      "2\n",
      "1\n"
     ]
    }
   ],
   "source": [
    "#galois_group() appears to be the absolute version\n",
    "#NOTE: for a splitting field L, we should have [L:K] = |Gal(L/K)|\n",
    "#the relative degree is [L:K] = [L:|Q]/[K:\\Q]\n",
    "if L != L.algebraic_closure():\n",
    "    L_deg = L.absolute_degree(); print(L_deg)\n",
    "    rel_deg = L_deg/K.absolute_degree(); print(rel_deg)"
   ]
  },
  {
   "cell_type": "code",
   "execution_count": 19,
   "id": "4f74a4a1-a5d8-4481-81f4-ad01cc2df694",
   "metadata": {},
   "outputs": [
    {
     "name": "stdout",
     "output_type": "stream",
     "text": [
      "PARI stack size set to 10000000000 bytes, maximum size set to 10000007168\n"
     ]
    },
    {
     "data": {
      "text/plain": [
       "10000000000"
      ]
     },
     "execution_count": 19,
     "metadata": {},
     "output_type": "execute_result"
    }
   ],
   "source": [
    "#getting PARI stack size error\n",
    "pari.allocatemem(10^10)\n",
    "pari.stacksize()"
   ]
  },
  {
   "cell_type": "code",
   "execution_count": 21,
   "id": "f3e7ef8d-86fc-4303-9f89-99897a623e2d",
   "metadata": {},
   "outputs": [],
   "source": [
    "#form relative exrtension M. attempt to compute Galois group\n",
    "#for a splitting field L, we should have [L:K] = |Gal(L/K)|\n",
    "if U_dft.charpoly().is_irreducible():\n",
    "    M.<b> = K.extension(U_dft.charpoly()); M"
   ]
  },
  {
   "cell_type": "code",
   "execution_count": 43,
   "id": "c019b331-f022-4289-a311-c76c0cb9a4eb",
   "metadata": {},
   "outputs": [
    {
     "data": {
      "text/plain": [
       "True"
      ]
     },
     "execution_count": 43,
     "metadata": {},
     "output_type": "execute_result"
    }
   ],
   "source": [
    "#look at all subgroups of order [L:K] in S_d where d is the degree of the polynomial\n",
    "#for n=3, [L:K] = 48 and it appears there is exactly one subgroup of order 48 up to isomorphism\n",
    "subgroups_order_48_in_sym = [H for H in SymmetricGroup(6).subgroups() if H.order() == 48]\n",
    "all([subgroups_order_48_in_sym[0].is_isomorphic(H) for H in subgroups_order_48_in_sym])"
   ]
  },
  {
   "cell_type": "code",
   "execution_count": 44,
   "id": "248ad9f8-d64c-40b6-88b9-d7a23f4a0313",
   "metadata": {},
   "outputs": [],
   "source": [
    "#one can factor the polynomial over a splitting field L/K\n",
    "#but there is no way to express the roots of a quintic in terms of radicals\n",
    "try:\n",
    "    eigs = matrix(L,U_dft).eigenvalues(extend=False)\n",
    "except TypeError:\n",
    "    print(\"Cannot express eigenvalues in terms of radicals since polynomial is a quintic or above.\")"
   ]
  },
  {
   "cell_type": "code",
   "execution_count": 45,
   "id": "c2e92da4-6440-448b-9211-15aa8ddec3f4",
   "metadata": {},
   "outputs": [
    {
     "data": {
      "text/plain": [
       "[-0.9865699009578278? - 0.1633396171296542?*I, -0.9865699009578278? + 0.1633396171296542?*I, -0.5437444089082021? - 0.8392508670124029?*I, -0.5437444089082021? + 0.8392508670124029?*I, 0.9916391752712170? - 0.1290416447020912?*I, 0.9916391752712170? + 0.1290416447020912?*I]"
      ]
     },
     "execution_count": 45,
     "metadata": {},
     "output_type": "execute_result"
    }
   ],
   "source": [
    "eigs"
   ]
  },
  {
   "cell_type": "code",
   "execution_count": 46,
   "id": "94ad338a-c3a4-4226-8378-58516d570241",
   "metadata": {},
   "outputs": [
    {
     "data": {
      "text/plain": [
       "[-2.9775, 2.9775, -2.1457, 2.1457, -0.12940, 0.12940]"
      ]
     },
     "execution_count": 46,
     "metadata": {},
     "output_type": "execute_result"
    }
   ],
   "source": [
    "[arg(eig).n(20) for eig in eigs]"
   ]
  },
  {
   "cell_type": "code",
   "execution_count": 47,
   "id": "9800ad85-ec1c-40fb-bec4-a8d44f63c548",
   "metadata": {},
   "outputs": [
    {
     "data": {
      "text/plain": [
       "x^24 + 2*x^23 - 1/2*x^22 - 17/6*x^21 - 215/144*x^20 - 1/6*x^19 + 509/216*x^18 + 11/3*x^17 - 35/1296*x^16 - 139/54*x^15 - 1483/648*x^14 + 7/18*x^13 + 155/54*x^12 + 7/18*x^11 - 1483/648*x^10 - 139/54*x^9 - 35/1296*x^8 + 11/3*x^7 + 509/216*x^6 - 1/6*x^5 - 215/144*x^4 - 17/6*x^3 - 1/2*x^2 + 2*x + 1"
      ]
     },
     "execution_count": 47,
     "metadata": {},
     "output_type": "execute_result"
    }
   ],
   "source": [
    "eigs[0].minpoly()"
   ]
  },
  {
   "cell_type": "code",
   "execution_count": null,
   "id": "11c97a76-d606-40db-a38e-fb0350836904",
   "metadata": {},
   "outputs": [],
   "source": [
    "U_dft.charpoly().discriminant()"
   ]
  },
  {
   "cell_type": "code",
   "execution_count": null,
   "id": "29767fbd-6c2a-4671-b91c-a9d452956713",
   "metadata": {},
   "outputs": [],
   "source": [
    "-sqrt(K(3))"
   ]
  },
  {
   "cell_type": "code",
   "execution_count": null,
   "id": "325e2a40-277e-4c61-921d-58005e982e94",
   "metadata": {},
   "outputs": [],
   "source": [
    "((-213828613/1679616*(sqrt(2)) + 85996015/69984)*(sqrt(3)) + 348251435/62208*(sqrt(2)) - 33598899709/3359232).n()"
   ]
  },
  {
   "cell_type": "code",
   "execution_count": null,
   "id": "14cbad6c-4016-4b14-9ce0-415b9d90f2c1",
   "metadata": {},
   "outputs": [],
   "source": [
    "#n=3: two real, two complex\n",
    "#n=4: all complex\n",
    "#the magnitude is not 1, they're closely grouped around 2 or 3"
   ]
  },
  {
   "cell_type": "code",
   "execution_count": null,
   "id": "33046e01-08a6-4324-9c30-d908bf1c2256",
   "metadata": {},
   "outputs": [],
   "source": [
    "SGA_dft.base_ring()"
   ]
  },
  {
   "cell_type": "code",
   "execution_count": null,
   "id": "2caebbde-e05f-416d-a06f-b1d8d8c53ebb",
   "metadata": {},
   "outputs": [],
   "source": [
    "SGA_eigs = SGA_dft.eigenvalues(); SGA_eigs"
   ]
  },
  {
   "cell_type": "code",
   "execution_count": null,
   "id": "edb1c420-f44a-4cb3-9fb3-2ffa17dee539",
   "metadata": {},
   "outputs": [],
   "source": [
    "[abs(eig) for eig in SGA_eigs]"
   ]
  },
  {
   "cell_type": "code",
   "execution_count": null,
   "id": "65cb3bc4-b509-4b7b-81d7-da293174d156",
   "metadata": {},
   "outputs": [],
   "source": [
    "SGA_eigs[0].minpoly()"
   ]
  },
  {
   "cell_type": "code",
   "execution_count": null,
   "id": "5a48909b-3b9a-437c-a778-e81f28f3735b",
   "metadata": {},
   "outputs": [],
   "source": [
    "#note that the singluar values are the square roots of the diagonal entries of the Gram matrix\n",
    "print(SymmetricGroup(n).algebra(CDF).dft().SVD()[1].numpy().diagonal())\n",
    "print(sqrt((SGA_dft*SGA_dft.transpose()).numpy().diagonal()))"
   ]
  }
 ],
 "metadata": {
  "kernelspec": {
   "display_name": "SageMath 10.3",
   "language": "sage",
   "name": "sagemath-10.3"
  },
  "language_info": {
   "codemirror_mode": {
    "name": "ipython",
    "version": 3
   },
   "file_extension": ".py",
   "mimetype": "text/x-python",
   "name": "python",
   "nbconvert_exporter": "python",
   "pygments_lexer": "ipython3",
   "version": "3.11.1"
  }
 },
 "nbformat": 4,
 "nbformat_minor": 5
}
