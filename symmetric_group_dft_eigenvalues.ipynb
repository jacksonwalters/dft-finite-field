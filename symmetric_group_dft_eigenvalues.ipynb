{
 "cells": [
  {
   "cell_type": "code",
   "execution_count": 2,
   "id": "e5fa7439-9967-496e-b27a-6c2564f7f9ca",
   "metadata": {},
   "outputs": [],
   "source": [
    "#define a new DFT which is unitary\n",
    "#NOTE: in Beals' ['97] he normalizes by \\sqrt{d_\\lambda/n!}\n",
    "#but also notes that a basis change is an equivalence relation on rep'ns\n",
    "#and each equivalence class contains a unitary representatione\n",
    "#if each rep'n \\rho \\in \\hat{G} is unitary, then the transformation is unitary\n",
    "#these representations are not unitary\n",
    "#to make them unitary, use Weyl's unitary trick\n",
    "#OPTION 1: use the formula P = \\int_G \\rho(g)\\rho(g)^* dg, and take a square root to find Q s.t. P = Q^2\n",
    "#OPTION 2: define a new invariant inner product compute an orthonormal basis w.r.t. \n",
    "#this inner product by computing the Gram matrix A and using A.gram_schmidt()"
   ]
  },
  {
   "cell_type": "code",
   "execution_count": 37,
   "id": "ceef00d1-d036-4f68-b585-79fe3f1c6807",
   "metadata": {},
   "outputs": [],
   "source": [
    "#find the change-of-basis matrix Q making \\rho(g) unitary for all g \\in G\n",
    "from sage.matrix.special import diagonal_matrix\n",
    "from sage.misc.functional import sqrt\n",
    "def unitary_change_of_basis(SGA,partition):\n",
    "    rho = SGA.specht_module(partition).representation_matrix\n",
    "    group_size = SGA.group().cardinality()\n",
    "    P = (1/group_size)*sum(rho(g)*rho(g).conjugate().transpose() for g in SGA.group())\n",
    "    d, L = P.eigenmatrix_left()\n",
    "    K.<a> = NumberField(list(set([sqrt(a).minpoly() for a in d.diagonal()])))\n",
    "    return L.inverse() * diagonal_matrix([sqrt(K(a)) for a in d.diagonal()]) * L"
   ]
  },
  {
   "cell_type": "code",
   "execution_count": 81,
   "id": "efa0fa10-08e2-4abc-9caf-2e274531a6bd",
   "metadata": {},
   "outputs": [],
   "source": [
    "#find the \\sqrt{n} by extending to degree 2 field L = K[x]/(x^2-n)\n",
    "def square_root_ext(K,n):\n",
    "    R.<x> = PolynomialRing(K)\n",
    "    f = x^2-n; assert f in R\n",
    "    if f.is_irreducible():\n",
    "        L.<a> = K.extension(f)\n",
    "        return sqrt(L(n))\n",
    "    else:\n",
    "        return sqrt(K(n))"
   ]
  },
  {
   "cell_type": "code",
   "execution_count": 42,
   "id": "aca07005-770f-4a0f-bd28-f6c3a5446787",
   "metadata": {},
   "outputs": [],
   "source": [
    "#define the Fourier coefficient at the representation specht_module\n",
    "#which is the Specht module corresponding to partition\n",
    "def hat(f,partition,SGA,unitary=False):\n",
    "    specht_module = SGA.specht_module(partition)\n",
    "    rho = specht_module.representation_matrix\n",
    "    if unitary:\n",
    "        Q = unitary_change_of_basis(SGA,partition)\n",
    "        unitary_factor = specht_module.dimension()/SGA.group().cardinality()\n",
    "        sqrt_unitary_factor = square_root_ext(Q.base_ring(),unitary_factor)\n",
    "        return sqrt_unitary_factor*sum(f(g)*Q.inverse()*rho(g)*Q for g in SGA.group())\n",
    "    else:\n",
    "        return sum(f(g)*rho(g) for g in SGA.group())"
   ]
  },
  {
   "cell_type": "code",
   "execution_count": 5,
   "id": "b3d16b48-b4bd-43b8-bb87-038cc9cd9afd",
   "metadata": {},
   "outputs": [],
   "source": [
    "#define the delta function delta_s(t) = {1 if s == t, 0 otherwise}\n",
    "delta = lambda s: lambda t: 1 if t == s else 0"
   ]
  },
  {
   "cell_type": "code",
   "execution_count": 6,
   "id": "dad4c039-cddd-4d55-8be4-09dff460fbb8",
   "metadata": {},
   "outputs": [],
   "source": [
    "#for each basis element g \\in G compute the Fourier coefficients \\hat{\\delta_g}(partition) for all partitions\n",
    "from sage.misc.flatten import flatten\n",
    "def unitary_dft(SGA):\n",
    "    unitary_dft_matrix = matrix([flatten([hat(delta(g),partition,SGA,unitary=True).list() for partition in Partitions(SGA.group().degree())]) for g in G]).transpose()\n",
    "    if unitary_dft_matrix.base_ring() == SR:\n",
    "        return unitary_dft_matrix.simplify_full()\n",
    "    else:\n",
    "        return unitary_dft_matrix"
   ]
  },
  {
   "cell_type": "code",
   "execution_count": 55,
   "id": "262144e3-03f9-493c-a54e-d288abd9395e",
   "metadata": {},
   "outputs": [],
   "source": [
    "#QUESTION: is the SGA DFT unitary?"
   ]
  },
  {
   "cell_type": "code",
   "execution_count": 56,
   "id": "279b49c8-3b66-4689-a755-26dce655f9d6",
   "metadata": {},
   "outputs": [],
   "source": [
    "SGA = SymmetricGroupAlgebra(QQ,3)"
   ]
  },
  {
   "cell_type": "code",
   "execution_count": 48,
   "id": "ddf55970-a7d3-4b70-aa14-6e2e1c3b3177",
   "metadata": {},
   "outputs": [],
   "source": [
    "G = SGA.group()"
   ]
  },
  {
   "cell_type": "code",
   "execution_count": 49,
   "id": "1b2edd70-15e8-46b2-a4b8-b7b6e1a62f25",
   "metadata": {},
   "outputs": [
    {
     "data": {
      "text/plain": [
       "[   1    1    1    1    1    1]\n",
       "[   1  1/2   -1 -1/2 -1/2  1/2]\n",
       "[   0  3/4    0  3/4 -3/4 -3/4]\n",
       "[   0    1    0   -1    1   -1]\n",
       "[   1 -1/2    1 -1/2 -1/2 -1/2]\n",
       "[   1   -1   -1    1    1   -1]"
      ]
     },
     "execution_count": 49,
     "metadata": {},
     "output_type": "execute_result"
    }
   ],
   "source": [
    "SGA_dft = SGA.dft(); SGA_dft"
   ]
  },
  {
   "cell_type": "code",
   "execution_count": 50,
   "id": "6df6046c-68f4-4e02-8f54-e7fb57c47349",
   "metadata": {},
   "outputs": [
    {
     "data": {
      "text/plain": [
       "[  6   0   0   0   0   0]\n",
       "[  0   3   0   0   0   0]\n",
       "[  0   0 9/4   0   0   0]\n",
       "[  0   0   0   4   0   0]\n",
       "[  0   0   0   0   3   0]\n",
       "[  0   0   0   0   0   6]"
      ]
     },
     "execution_count": 50,
     "metadata": {},
     "output_type": "execute_result"
    }
   ],
   "source": [
    "#check if A*A^T == Id. it's not, but the columns are orthonormal\n",
    "SGA_dft*SGA_dft.transpose()"
   ]
  },
  {
   "cell_type": "code",
   "execution_count": 11,
   "id": "3bb7401a-4174-43e1-a5c0-d4cf7274a07f",
   "metadata": {},
   "outputs": [
    {
     "data": {
      "text/plain": [
       "[2, 1]"
      ]
     },
     "execution_count": 11,
     "metadata": {},
     "output_type": "execute_result"
    }
   ],
   "source": [
    "partition = Partitions(SGA.group().degree())[1]; partition"
   ]
  },
  {
   "cell_type": "code",
   "execution_count": 12,
   "id": "585b6cdc-ae42-4ba0-90a8-6ef2723999a3",
   "metadata": {},
   "outputs": [],
   "source": [
    "specht_module = SGA.specht_module(partition)"
   ]
  },
  {
   "cell_type": "code",
   "execution_count": 13,
   "id": "fe9d71f6-1301-451e-8667-b55fa99fbccb",
   "metadata": {},
   "outputs": [],
   "source": [
    "rho = specht_module.representation_matrix"
   ]
  },
  {
   "cell_type": "code",
   "execution_count": 14,
   "id": "6ab6a378-64ed-4d85-8220-645e594b8738",
   "metadata": {},
   "outputs": [],
   "source": [
    "group_size = SGA.group().cardinality()"
   ]
  },
  {
   "cell_type": "code",
   "execution_count": 51,
   "id": "abcea45b-630b-4ecc-abe6-a6699a28bcc9",
   "metadata": {},
   "outputs": [
    {
     "data": {
      "text/plain": [
       "Rational Field"
      ]
     },
     "execution_count": 51,
     "metadata": {},
     "output_type": "execute_result"
    }
   ],
   "source": [
    "P = (1/group_size)*sum(rho(g)*rho(g).conjugate().transpose() for g in SGA.group()); P.base_ring()"
   ]
  },
  {
   "cell_type": "code",
   "execution_count": 52,
   "id": "fd6633d4-7901-44c4-864a-3e6d38026b50",
   "metadata": {},
   "outputs": [],
   "source": [
    "d, L = P.eigenmatrix_left()"
   ]
  },
  {
   "cell_type": "code",
   "execution_count": 77,
   "id": "b7d76204-df6e-4406-8d6f-9ea6e8ab5ea4",
   "metadata": {},
   "outputs": [
    {
     "data": {
      "text/plain": [
       "Number Field in a0 with defining polynomial x^2 - 2 over its base field"
      ]
     },
     "execution_count": 77,
     "metadata": {},
     "output_type": "execute_result"
    }
   ],
   "source": [
    "K.<a> = NumberField([sqrt(a).minpoly() for a in d.diagonal()]); K"
   ]
  },
  {
   "cell_type": "code",
   "execution_count": 54,
   "id": "12c20ca9-b026-44aa-bd75-e6ac1b860fc9",
   "metadata": {},
   "outputs": [
    {
     "data": {
      "text/plain": [
       "[  2   0]\n",
       "[  0 2/3]"
      ]
     },
     "execution_count": 54,
     "metadata": {},
     "output_type": "execute_result"
    }
   ],
   "source": [
    "diagonal_matrix([sqrt(K(a)) for a in d.diagonal()])^2"
   ]
  },
  {
   "cell_type": "code",
   "execution_count": 57,
   "id": "b82a3693-ed70-40ea-a4f4-0ed65dbd56ec",
   "metadata": {},
   "outputs": [
    {
     "data": {
      "text/plain": [
       "[-1/2*a0 - 1/2*a1  1/2*a0 - 1/2*a1]\n",
       "[ 1/2*a0 - 1/2*a1 -1/2*a0 - 1/2*a1]"
      ]
     },
     "execution_count": 57,
     "metadata": {},
     "output_type": "execute_result"
    }
   ],
   "source": [
    "Q = unitary_change_of_basis(SGA,partition); Q"
   ]
  },
  {
   "cell_type": "code",
   "execution_count": 58,
   "id": "c2b8cd24-eb11-4efe-8eae-b01102bf8a9c",
   "metadata": {},
   "outputs": [
    {
     "data": {
      "text/plain": [
       "1/3"
      ]
     },
     "execution_count": 58,
     "metadata": {},
     "output_type": "execute_result"
    }
   ],
   "source": [
    "unitary_factor = specht_module.dimension()/SGA.group().cardinality(); unitary_factor"
   ]
  },
  {
   "cell_type": "code",
   "execution_count": 68,
   "id": "bbf9a9a1-4ef8-4e62-b135-60fefaac0291",
   "metadata": {},
   "outputs": [],
   "source": [
    "R.<x> = PolynomialRing(K)"
   ]
  },
  {
   "cell_type": "code",
   "execution_count": 69,
   "id": "007b008b-5995-41d4-90e2-de6aa1ca0219",
   "metadata": {},
   "outputs": [],
   "source": [
    "f = x^2 - unitary_factor"
   ]
  },
  {
   "cell_type": "code",
   "execution_count": 72,
   "id": "d7d93733-e0a9-4fe9-860f-e131b08f80d8",
   "metadata": {},
   "outputs": [
    {
     "data": {
      "text/plain": [
       "False"
      ]
     },
     "execution_count": 72,
     "metadata": {},
     "output_type": "execute_result"
    }
   ],
   "source": [
    "f.is_irreducible()"
   ]
  },
  {
   "cell_type": "code",
   "execution_count": 83,
   "id": "557854ad-6ac0-4c1b-81d0-62745c8ec70a",
   "metadata": {},
   "outputs": [
    {
     "data": {
      "text/plain": [
       "Number Field in a0 with defining polynomial x^2 - 2 over its base field"
      ]
     },
     "execution_count": 83,
     "metadata": {},
     "output_type": "execute_result"
    }
   ],
   "source": [
    "square_root_ext(K,unitary_factor)"
   ]
  },
  {
   "cell_type": "code",
   "execution_count": 46,
   "id": "18e0e69f-7d77-4e41-877e-4b44fcdcce32",
   "metadata": {},
   "outputs": [
    {
     "ename": "TypeError",
     "evalue": "unsupported operand parent(s) for *: 'Number Field in a with defining polynomial x^4 - 4*x^2 + 1' and 'Full MatrixSpace of 2 by 2 dense matrices over Number Field in a0 with defining polynomial x^2 - 2/3 over its base field'",
     "output_type": "error",
     "traceback": [
      "\u001b[0;31m---------------------------------------------------------------------------\u001b[0m",
      "\u001b[0;31mTypeError\u001b[0m                                 Traceback (most recent call last)",
      "Cell \u001b[0;32mIn[46], line 1\u001b[0m\n\u001b[0;32m----> 1\u001b[0m \u001b[43mhat\u001b[49m\u001b[43m(\u001b[49m\u001b[43mdelta\u001b[49m\u001b[43m(\u001b[49m\u001b[43mG\u001b[49m\u001b[43m[\u001b[49m\u001b[43mInteger\u001b[49m\u001b[43m(\u001b[49m\u001b[38;5;241;43m3\u001b[39;49m\u001b[43m)\u001b[49m\u001b[43m]\u001b[49m\u001b[43m)\u001b[49m\u001b[43m,\u001b[49m\u001b[43mpartition\u001b[49m\u001b[43m,\u001b[49m\u001b[43mSGA\u001b[49m\u001b[43m,\u001b[49m\u001b[43munitary\u001b[49m\u001b[38;5;241;43m=\u001b[39;49m\u001b[38;5;28;43;01mTrue\u001b[39;49;00m\u001b[43m)\u001b[49m\n",
      "Cell \u001b[0;32mIn[42], line 10\u001b[0m, in \u001b[0;36mhat\u001b[0;34m(f, partition, SGA, unitary)\u001b[0m\n\u001b[1;32m      8\u001b[0m     unitary_factor \u001b[38;5;241m=\u001b[39m specht_module\u001b[38;5;241m.\u001b[39mdimension()\u001b[38;5;241m/\u001b[39mSGA\u001b[38;5;241m.\u001b[39mgroup()\u001b[38;5;241m.\u001b[39mcardinality()\n\u001b[1;32m      9\u001b[0m     sqrt_unitary_factor \u001b[38;5;241m=\u001b[39m square_root_ext(Q\u001b[38;5;241m.\u001b[39mbase_ring(),unitary_factor)\n\u001b[0;32m---> 10\u001b[0m     \u001b[38;5;28;01mreturn\u001b[39;00m \u001b[43msqrt_unitary_factor\u001b[49m\u001b[38;5;241;43m*\u001b[39;49m\u001b[38;5;28;43msum\u001b[39;49m\u001b[43m(\u001b[49m\u001b[43mf\u001b[49m\u001b[43m(\u001b[49m\u001b[43mg\u001b[49m\u001b[43m)\u001b[49m\u001b[38;5;241;43m*\u001b[39;49m\u001b[43mQ\u001b[49m\u001b[38;5;241;43m.\u001b[39;49m\u001b[43minverse\u001b[49m\u001b[43m(\u001b[49m\u001b[43m)\u001b[49m\u001b[38;5;241;43m*\u001b[39;49m\u001b[43mrho\u001b[49m\u001b[43m(\u001b[49m\u001b[43mg\u001b[49m\u001b[43m)\u001b[49m\u001b[38;5;241;43m*\u001b[39;49m\u001b[43mQ\u001b[49m\u001b[43m \u001b[49m\u001b[38;5;28;43;01mfor\u001b[39;49;00m\u001b[43m \u001b[49m\u001b[43mg\u001b[49m\u001b[43m \u001b[49m\u001b[38;5;129;43;01min\u001b[39;49;00m\u001b[43m \u001b[49m\u001b[43mSGA\u001b[49m\u001b[38;5;241;43m.\u001b[39;49m\u001b[43mgroup\u001b[49m\u001b[43m(\u001b[49m\u001b[43m)\u001b[49m\u001b[43m)\u001b[49m\n\u001b[1;32m     11\u001b[0m \u001b[38;5;28;01melse\u001b[39;00m:\n\u001b[1;32m     12\u001b[0m     \u001b[38;5;28;01mreturn\u001b[39;00m \u001b[38;5;28msum\u001b[39m(f(g)\u001b[38;5;241m*\u001b[39mrho(g) \u001b[38;5;28;01mfor\u001b[39;00m g \u001b[38;5;129;01min\u001b[39;00m SGA\u001b[38;5;241m.\u001b[39mgroup())\n",
      "File \u001b[0;32m/private/var/tmp/sage-10.3-current/local/var/lib/sage/venv-python3.11.1/lib/python3.11/site-packages/sage/structure/element.pyx:1506\u001b[0m, in \u001b[0;36msage.structure.element.Element.__mul__ (build/cythonized/sage/structure/element.c:20064)\u001b[0;34m()\u001b[0m\n\u001b[1;32m   1504\u001b[0m     return (<Element>left)._mul_(right)\n\u001b[1;32m   1505\u001b[0m if BOTH_ARE_ELEMENT(cl):\n\u001b[0;32m-> 1506\u001b[0m     return coercion_model.bin_op(left, right, mul)\n\u001b[1;32m   1507\u001b[0m \n\u001b[1;32m   1508\u001b[0m cdef long value\n",
      "File \u001b[0;32m/private/var/tmp/sage-10.3-current/local/var/lib/sage/venv-python3.11.1/lib/python3.11/site-packages/sage/structure/coerce.pyx:1278\u001b[0m, in \u001b[0;36msage.structure.coerce.CoercionModel.bin_op (build/cythonized/sage/structure/coerce.c:16857)\u001b[0;34m()\u001b[0m\n\u001b[1;32m   1276\u001b[0m     # We should really include the underlying error.\n\u001b[1;32m   1277\u001b[0m     # This causes so much headache.\n\u001b[0;32m-> 1278\u001b[0m     raise bin_op_exception(op, x, y)\n\u001b[1;32m   1279\u001b[0m \n\u001b[1;32m   1280\u001b[0m cpdef canonical_coercion(self, x, y) noexcept:\n",
      "\u001b[0;31mTypeError\u001b[0m: unsupported operand parent(s) for *: 'Number Field in a with defining polynomial x^4 - 4*x^2 + 1' and 'Full MatrixSpace of 2 by 2 dense matrices over Number Field in a0 with defining polynomial x^2 - 2/3 over its base field'"
     ]
    }
   ],
   "source": [
    "hat(delta(G[3]),partition,SGA,unitary=True)"
   ]
  },
  {
   "cell_type": "code",
   "execution_count": 137,
   "id": "3417c790-bfc5-4740-b1e6-b608a06822bf",
   "metadata": {},
   "outputs": [
    {
     "data": {
      "text/plain": [
       "[2, 3, 1]"
      ]
     },
     "execution_count": 137,
     "metadata": {},
     "output_type": "execute_result"
    }
   ],
   "source": [
    "G[3]"
   ]
  },
  {
   "cell_type": "code",
   "execution_count": 136,
   "id": "351ff127-9790-4633-85b6-24576ccabc18",
   "metadata": {},
   "outputs": [
    {
     "data": {
      "text/plain": [
       "[6 1]\n",
       "[6 0]"
      ]
     },
     "execution_count": 136,
     "metadata": {},
     "output_type": "execute_result"
    }
   ],
   "source": [
    "rho(G[3])"
   ]
  },
  {
   "cell_type": "code",
   "execution_count": 134,
   "id": "cf7eab07-1332-4538-b70c-6ff144812a73",
   "metadata": {},
   "outputs": [
    {
     "data": {
      "text/plain": [
       "[6 1]\n",
       "[6 0]"
      ]
     },
     "execution_count": 134,
     "metadata": {},
     "output_type": "execute_result"
    }
   ],
   "source": [
    "U_rho = Q.inverse()*rho(G[3])*Q; U_rho"
   ]
  },
  {
   "cell_type": "code",
   "execution_count": 139,
   "id": "77a25aa2-afbd-4ffa-9bd8-f204a1ed8558",
   "metadata": {},
   "outputs": [
    {
     "name": "stdout",
     "output_type": "stream",
     "text": [
      "7\n"
     ]
    },
    {
     "data": {
      "text/plain": [
       "[0 6]\n",
       "[1 6]"
      ]
     },
     "execution_count": 139,
     "metadata": {},
     "output_type": "execute_result"
    }
   ],
   "source": [
    "U_rho*conjugate_transpose_pos_char(U_rho)"
   ]
  },
  {
   "cell_type": "code",
   "execution_count": 208,
   "id": "2503a178-95f8-470f-b4d8-d13c520df4fa",
   "metadata": {},
   "outputs": [
    {
     "ename": "AttributeError",
     "evalue": "'sage.rings.number_field.number_field_element_quadratic.NumberFieldElement_quadratic_sqrt' object has no attribute 'square_root'",
     "output_type": "error",
     "traceback": [
      "\u001b[0;31m---------------------------------------------------------------------------\u001b[0m",
      "\u001b[0;31mAttributeError\u001b[0m                            Traceback (most recent call last)",
      "Cell \u001b[0;32mIn[208], line 1\u001b[0m\n\u001b[0;32m----> 1\u001b[0m \u001b[43munitary_dft\u001b[49m\u001b[43m(\u001b[49m\u001b[43mSymmetricGroupAlgebra\u001b[49m\u001b[43m(\u001b[49m\u001b[43mQQ\u001b[49m\u001b[43m,\u001b[49m\u001b[43mInteger\u001b[49m\u001b[43m(\u001b[49m\u001b[38;5;241;43m3\u001b[39;49m\u001b[43m)\u001b[49m\u001b[43m)\u001b[49m\u001b[43m)\u001b[49m\u001b[38;5;241m.\u001b[39mbase_ring()\n",
      "Cell \u001b[0;32mIn[146], line 4\u001b[0m, in \u001b[0;36munitary_dft\u001b[0;34m(SGA)\u001b[0m\n\u001b[1;32m      3\u001b[0m \u001b[38;5;28;01mdef\u001b[39;00m \u001b[38;5;21munitary_dft\u001b[39m(SGA):\n\u001b[0;32m----> 4\u001b[0m     unitary_dft_matrix \u001b[38;5;241m=\u001b[39m matrix(\u001b[43m[\u001b[49m\u001b[43mflatten\u001b[49m\u001b[43m(\u001b[49m\u001b[43m[\u001b[49m\u001b[43mhat\u001b[49m\u001b[43m(\u001b[49m\u001b[43mdelta\u001b[49m\u001b[43m(\u001b[49m\u001b[43mg\u001b[49m\u001b[43m)\u001b[49m\u001b[43m,\u001b[49m\u001b[43mpartition\u001b[49m\u001b[43m,\u001b[49m\u001b[43mSGA\u001b[49m\u001b[43m,\u001b[49m\u001b[43munitary\u001b[49m\u001b[38;5;241;43m=\u001b[39;49m\u001b[38;5;28;43;01mTrue\u001b[39;49;00m\u001b[43m)\u001b[49m\u001b[38;5;241;43m.\u001b[39;49m\u001b[43mlist\u001b[49m\u001b[43m(\u001b[49m\u001b[43m)\u001b[49m\u001b[43m \u001b[49m\u001b[38;5;28;43;01mfor\u001b[39;49;00m\u001b[43m \u001b[49m\u001b[43mpartition\u001b[49m\u001b[43m \u001b[49m\u001b[38;5;129;43;01min\u001b[39;49;00m\u001b[43m \u001b[49m\u001b[43mPartitions\u001b[49m\u001b[43m(\u001b[49m\u001b[43mSGA\u001b[49m\u001b[38;5;241;43m.\u001b[39;49m\u001b[43mgroup\u001b[49m\u001b[43m(\u001b[49m\u001b[43m)\u001b[49m\u001b[38;5;241;43m.\u001b[39;49m\u001b[43mdegree\u001b[49m\u001b[43m(\u001b[49m\u001b[43m)\u001b[49m\u001b[43m)\u001b[49m\u001b[43m]\u001b[49m\u001b[43m)\u001b[49m\u001b[43m \u001b[49m\u001b[38;5;28;43;01mfor\u001b[39;49;00m\u001b[43m \u001b[49m\u001b[43mg\u001b[49m\u001b[43m \u001b[49m\u001b[38;5;129;43;01min\u001b[39;49;00m\u001b[43m \u001b[49m\u001b[43mG\u001b[49m\u001b[43m]\u001b[49m)\u001b[38;5;241m.\u001b[39mtranspose()\n\u001b[1;32m      5\u001b[0m     \u001b[38;5;28;01mif\u001b[39;00m unitary_dft_matrix\u001b[38;5;241m.\u001b[39mbase_ring() \u001b[38;5;241m==\u001b[39m SR:\n\u001b[1;32m      6\u001b[0m         \u001b[38;5;28;01mreturn\u001b[39;00m unitary_dft_matrix\u001b[38;5;241m.\u001b[39msimplify_full()\n",
      "Cell \u001b[0;32mIn[146], line 4\u001b[0m, in \u001b[0;36m<listcomp>\u001b[0;34m(.0)\u001b[0m\n\u001b[1;32m      3\u001b[0m \u001b[38;5;28;01mdef\u001b[39;00m \u001b[38;5;21munitary_dft\u001b[39m(SGA):\n\u001b[0;32m----> 4\u001b[0m     unitary_dft_matrix \u001b[38;5;241m=\u001b[39m matrix([flatten(\u001b[43m[\u001b[49m\u001b[43mhat\u001b[49m\u001b[43m(\u001b[49m\u001b[43mdelta\u001b[49m\u001b[43m(\u001b[49m\u001b[43mg\u001b[49m\u001b[43m)\u001b[49m\u001b[43m,\u001b[49m\u001b[43mpartition\u001b[49m\u001b[43m,\u001b[49m\u001b[43mSGA\u001b[49m\u001b[43m,\u001b[49m\u001b[43munitary\u001b[49m\u001b[38;5;241;43m=\u001b[39;49m\u001b[38;5;28;43;01mTrue\u001b[39;49;00m\u001b[43m)\u001b[49m\u001b[38;5;241;43m.\u001b[39;49m\u001b[43mlist\u001b[49m\u001b[43m(\u001b[49m\u001b[43m)\u001b[49m\u001b[43m \u001b[49m\u001b[38;5;28;43;01mfor\u001b[39;49;00m\u001b[43m \u001b[49m\u001b[43mpartition\u001b[49m\u001b[43m \u001b[49m\u001b[38;5;129;43;01min\u001b[39;49;00m\u001b[43m \u001b[49m\u001b[43mPartitions\u001b[49m\u001b[43m(\u001b[49m\u001b[43mSGA\u001b[49m\u001b[38;5;241;43m.\u001b[39;49m\u001b[43mgroup\u001b[49m\u001b[43m(\u001b[49m\u001b[43m)\u001b[49m\u001b[38;5;241;43m.\u001b[39;49m\u001b[43mdegree\u001b[49m\u001b[43m(\u001b[49m\u001b[43m)\u001b[49m\u001b[43m)\u001b[49m\u001b[43m]\u001b[49m) \u001b[38;5;28;01mfor\u001b[39;00m g \u001b[38;5;129;01min\u001b[39;00m G])\u001b[38;5;241m.\u001b[39mtranspose()\n\u001b[1;32m      5\u001b[0m     \u001b[38;5;28;01mif\u001b[39;00m unitary_dft_matrix\u001b[38;5;241m.\u001b[39mbase_ring() \u001b[38;5;241m==\u001b[39m SR:\n\u001b[1;32m      6\u001b[0m         \u001b[38;5;28;01mreturn\u001b[39;00m unitary_dft_matrix\u001b[38;5;241m.\u001b[39msimplify_full()\n",
      "Cell \u001b[0;32mIn[146], line 4\u001b[0m, in \u001b[0;36m<listcomp>\u001b[0;34m(.0)\u001b[0m\n\u001b[1;32m      3\u001b[0m \u001b[38;5;28;01mdef\u001b[39;00m \u001b[38;5;21munitary_dft\u001b[39m(SGA):\n\u001b[0;32m----> 4\u001b[0m     unitary_dft_matrix \u001b[38;5;241m=\u001b[39m matrix([flatten([\u001b[43mhat\u001b[49m\u001b[43m(\u001b[49m\u001b[43mdelta\u001b[49m\u001b[43m(\u001b[49m\u001b[43mg\u001b[49m\u001b[43m)\u001b[49m\u001b[43m,\u001b[49m\u001b[43mpartition\u001b[49m\u001b[43m,\u001b[49m\u001b[43mSGA\u001b[49m\u001b[43m,\u001b[49m\u001b[43munitary\u001b[49m\u001b[38;5;241;43m=\u001b[39;49m\u001b[38;5;28;43;01mTrue\u001b[39;49;00m\u001b[43m)\u001b[49m\u001b[38;5;241m.\u001b[39mlist() \u001b[38;5;28;01mfor\u001b[39;00m partition \u001b[38;5;129;01min\u001b[39;00m Partitions(SGA\u001b[38;5;241m.\u001b[39mgroup()\u001b[38;5;241m.\u001b[39mdegree())]) \u001b[38;5;28;01mfor\u001b[39;00m g \u001b[38;5;129;01min\u001b[39;00m G])\u001b[38;5;241m.\u001b[39mtranspose()\n\u001b[1;32m      5\u001b[0m     \u001b[38;5;28;01mif\u001b[39;00m unitary_dft_matrix\u001b[38;5;241m.\u001b[39mbase_ring() \u001b[38;5;241m==\u001b[39m SR:\n\u001b[1;32m      6\u001b[0m         \u001b[38;5;28;01mreturn\u001b[39;00m unitary_dft_matrix\u001b[38;5;241m.\u001b[39msimplify_full()\n",
      "Cell \u001b[0;32mIn[204], line 10\u001b[0m, in \u001b[0;36mhat\u001b[0;34m(f, partition, SGA, unitary)\u001b[0m\n\u001b[1;32m      8\u001b[0m     F \u001b[38;5;241m=\u001b[39m Q\u001b[38;5;241m.\u001b[39mbase_ring()\n\u001b[1;32m      9\u001b[0m     unitary_factor \u001b[38;5;241m=\u001b[39m specht_module\u001b[38;5;241m.\u001b[39mdimension()\u001b[38;5;241m/\u001b[39mSGA\u001b[38;5;241m.\u001b[39mgroup()\u001b[38;5;241m.\u001b[39mcardinality()\n\u001b[0;32m---> 10\u001b[0m     sqrt_unitary_factor \u001b[38;5;241m=\u001b[39m \u001b[43msquare_root_ext\u001b[49m\u001b[43m(\u001b[49m\u001b[43mF\u001b[49m\u001b[43m,\u001b[49m\u001b[43munitary_factor\u001b[49m\u001b[43m)\u001b[49m\n\u001b[1;32m     11\u001b[0m     \u001b[38;5;28;01mreturn\u001b[39;00m sqrt_unitary_factor\u001b[38;5;241m*\u001b[39m\u001b[38;5;28msum\u001b[39m(f(g)\u001b[38;5;241m*\u001b[39mQ\u001b[38;5;241m.\u001b[39minverse()\u001b[38;5;241m*\u001b[39mrho(g)\u001b[38;5;241m*\u001b[39mQ \u001b[38;5;28;01mfor\u001b[39;00m g \u001b[38;5;129;01min\u001b[39;00m SGA\u001b[38;5;241m.\u001b[39mgroup())\n\u001b[1;32m     12\u001b[0m \u001b[38;5;28;01melse\u001b[39;00m:\n",
      "Cell \u001b[0;32mIn[202], line 6\u001b[0m, in \u001b[0;36msquare_root_ext\u001b[0;34m(F, n)\u001b[0m\n\u001b[1;32m      4\u001b[0m f \u001b[38;5;241m=\u001b[39m R\u001b[38;5;241m.\u001b[39mgen(\u001b[38;5;241m0\u001b[39m)\u001b[38;5;241m*\u001b[39m\u001b[38;5;241m*\u001b[39mInteger(\u001b[38;5;241m2\u001b[39m)\u001b[38;5;241m-\u001b[39mn; \u001b[38;5;28;01massert\u001b[39;00m f \u001b[38;5;129;01min\u001b[39;00m R\n\u001b[1;32m      5\u001b[0m L \u001b[38;5;241m=\u001b[39m f\u001b[38;5;241m.\u001b[39msplitting_field(names\u001b[38;5;241m=\u001b[39m(\u001b[38;5;124m'\u001b[39m\u001b[38;5;124ma\u001b[39m\u001b[38;5;124m'\u001b[39m,)); (a,) \u001b[38;5;241m=\u001b[39m L\u001b[38;5;241m.\u001b[39m_first_ngens(\u001b[38;5;241m1\u001b[39m)\n\u001b[0;32m----> 6\u001b[0m \u001b[38;5;28;01mreturn\u001b[39;00m \u001b[43mL\u001b[49m\u001b[43m(\u001b[49m\u001b[43mn\u001b[49m\u001b[43m)\u001b[49m\u001b[38;5;241;43m.\u001b[39;49m\u001b[43msquare_root\u001b[49m()\n",
      "File \u001b[0;32m/private/var/tmp/sage-10.3-current/local/var/lib/sage/venv-python3.11.1/lib/python3.11/site-packages/sage/structure/element.pyx:489\u001b[0m, in \u001b[0;36msage.structure.element.Element.__getattr__ (build/cythonized/sage/structure/element.c:11610)\u001b[0;34m()\u001b[0m\n\u001b[1;32m    487\u001b[0m         AttributeError: 'LeftZeroSemigroup_with_category.element_class' object has no attribute 'blah_blah'...\n\u001b[1;32m    488\u001b[0m     \"\"\"\n\u001b[0;32m--> 489\u001b[0m     return self.getattr_from_category(name)\n\u001b[1;32m    490\u001b[0m \n\u001b[1;32m    491\u001b[0m cdef getattr_from_category(self, name) noexcept:\n",
      "File \u001b[0;32m/private/var/tmp/sage-10.3-current/local/var/lib/sage/venv-python3.11.1/lib/python3.11/site-packages/sage/structure/element.pyx:502\u001b[0m, in \u001b[0;36msage.structure.element.Element.getattr_from_category (build/cythonized/sage/structure/element.c:11720)\u001b[0;34m()\u001b[0m\n\u001b[1;32m    500\u001b[0m     else:\n\u001b[1;32m    501\u001b[0m         cls = P._abstract_element_class\n\u001b[0;32m--> 502\u001b[0m     return getattr_from_other_class(self, cls, name)\n\u001b[1;32m    503\u001b[0m \n\u001b[1;32m    504\u001b[0m def __dir__(self):\n",
      "File \u001b[0;32m/private/var/tmp/sage-10.3-current/local/var/lib/sage/venv-python3.11.1/lib/python3.11/site-packages/sage/cpython/getattr.pyx:362\u001b[0m, in \u001b[0;36msage.cpython.getattr.getattr_from_other_class (build/cythonized/sage/cpython/getattr.c:4443)\u001b[0;34m()\u001b[0m\n\u001b[1;32m    360\u001b[0m     dummy_error_message.cls = type(self)\n\u001b[1;32m    361\u001b[0m     dummy_error_message.name = name\n\u001b[0;32m--> 362\u001b[0m     raise AttributeError(dummy_error_message)\n\u001b[1;32m    363\u001b[0m attribute = <object>attr\n\u001b[1;32m    364\u001b[0m # Check for a descriptor (__get__ in Python)\n",
      "\u001b[0;31mAttributeError\u001b[0m: 'sage.rings.number_field.number_field_element_quadratic.NumberFieldElement_quadratic_sqrt' object has no attribute 'square_root'"
     ]
    }
   ],
   "source": [
    "unitary_dft(SymmetricGroupAlgebra(QQ,3)).base_ring()"
   ]
  },
  {
   "cell_type": "code",
   "execution_count": 187,
   "id": "cf96731b-2f63-449b-bcb9-88bd015d4dfd",
   "metadata": {},
   "outputs": [
    {
     "data": {
      "text/plain": [
       "[1 0 0 0 0 0]\n",
       "[0 1 0 0 0 0]\n",
       "[0 0 1 0 0 0]\n",
       "[0 0 0 1 0 0]\n",
       "[0 0 0 0 1 0]\n",
       "[0 0 0 0 0 1]"
      ]
     },
     "execution_count": 187,
     "metadata": {},
     "output_type": "execute_result"
    }
   ],
   "source": [
    "U_dft = unitary_dft(SGA); U_dft*U_dft.conjugate().transpose()"
   ]
  },
  {
   "cell_type": "code",
   "execution_count": 188,
   "id": "8ba7dfc6-7632-4519-93a9-74680ed23263",
   "metadata": {},
   "outputs": [
    {
     "data": {
      "text/plain": [
       "True"
      ]
     },
     "execution_count": 188,
     "metadata": {},
     "output_type": "execute_result"
    }
   ],
   "source": [
    "#check that the DFT is unitary\n",
    "(U_dft*U_dft.transpose()) == identity_matrix(SGA.group().cardinality())"
   ]
  },
  {
   "cell_type": "code",
   "execution_count": 92,
   "id": "45e8804f-368c-49d1-b073-219eadd8f3ed",
   "metadata": {},
   "outputs": [],
   "source": [
    "#what are the eigenvalues?"
   ]
  },
  {
   "cell_type": "code",
   "execution_count": 160,
   "id": "888cca70-d42c-42a4-94fc-78f1520fc990",
   "metadata": {},
   "outputs": [
    {
     "data": {
      "text/plain": [
       "[4*a^5 + 5*a^4 + a^3 + 5*a^2 + 3*a, a^5 + 5*a^4 + 3*a^2 + a, 3*a^5 + 6*a^4 + 4*a^3 + 6*a + 5, 5*a^5 + 6*a^4 + 3*a^3 + 3*a^2 + 3*a + 5, 4*a^5 + 6*a^4 + 2*a^3 + 3*a^2 + 2*a + 4, 3*a^5 + 6*a^4 + 4*a^2 + 4*a + 1]"
      ]
     },
     "execution_count": 160,
     "metadata": {},
     "output_type": "execute_result"
    }
   ],
   "source": [
    "U_dft = unitary_dft(SGA)\n",
    "k.<a> = U_dft.charpoly().splitting_field()\n",
    "eigs = matrix(k,U_dft).eigenvalues(extend=False); eigs"
   ]
  },
  {
   "cell_type": "code",
   "execution_count": null,
   "id": "de676e52-78db-42ae-a2f3-befeec8fe9bc",
   "metadata": {},
   "outputs": [],
   "source": [
    "eigs"
   ]
  },
  {
   "cell_type": "code",
   "execution_count": 93,
   "id": "14cbad6c-4016-4b14-9ce0-415b9d90f2c1",
   "metadata": {},
   "outputs": [],
   "source": [
    "#n=3: two real, two complex\n",
    "#n=4: all complex\n",
    "#the magnitude is not 1, they're closely grouped around 2 or 3"
   ]
  },
  {
   "cell_type": "code",
   "execution_count": null,
   "id": "2caebbde-e05f-416d-a06f-b1d8d8c53ebb",
   "metadata": {},
   "outputs": [],
   "source": [
    "eigs = A.eigenvalues(); eigs"
   ]
  },
  {
   "cell_type": "code",
   "execution_count": null,
   "id": "edb1c420-f44a-4cb3-9fb3-2ffa17dee539",
   "metadata": {},
   "outputs": [],
   "source": [
    "[abs(eig) for eig in eigs]"
   ]
  },
  {
   "cell_type": "code",
   "execution_count": null,
   "id": "5a48909b-3b9a-437c-a778-e81f28f3735b",
   "metadata": {},
   "outputs": [],
   "source": [
    "#note that the singluar values are the square roots of the diagonal entries of the Gram matrix\n",
    "print(SymmetricGroup(n).algebra(CDF).dft().SVD()[1].numpy().diagonal())\n",
    "print(sqrt((A*A.transpose()).numpy().diagonal()))"
   ]
  },
  {
   "cell_type": "code",
   "execution_count": null,
   "id": "7b949e59-2889-48f2-a750-2c981e15795b",
   "metadata": {},
   "outputs": [],
   "source": []
  }
 ],
 "metadata": {
  "kernelspec": {
   "display_name": "SageMath 10.3",
   "language": "sage",
   "name": "sagemath-10.3"
  },
  "language_info": {
   "codemirror_mode": {
    "name": "ipython",
    "version": 3
   },
   "file_extension": ".py",
   "mimetype": "text/x-python",
   "name": "python",
   "nbconvert_exporter": "python",
   "pygments_lexer": "ipython3",
   "version": "3.11.1"
  }
 },
 "nbformat": 4,
 "nbformat_minor": 5
}
