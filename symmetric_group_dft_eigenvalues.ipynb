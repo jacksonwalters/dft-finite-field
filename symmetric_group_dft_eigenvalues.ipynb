{
 "cells": [
  {
   "cell_type": "code",
   "execution_count": 37,
   "id": "e5fa7439-9967-496e-b27a-6c2564f7f9ca",
   "metadata": {},
   "outputs": [],
   "source": [
    "#define a new DFT which is unitary\n",
    "#NOTE: in Beals' ['97] he normalizes by \\sqrt{d_\\lambda/n!}\n",
    "#but also notes that a basis change is an equivalence relation on rep'ns\n",
    "#and each equivalence class contains a unitary representatione\n",
    "#if each rep'n \\rho \\in \\hat{G} is unitary, then the transformation is unitary\n",
    "#these representations are not unitary\n",
    "#to make them unitary, use Weyl's unitary trick\n",
    "#OPTION 1: use the formula P = \\int_G \\rho(g)\\rho(g)^* dg, and take a square root to find Q s.t. P = Q^2\n",
    "#OPTION 2: define a new invariant inner product compute an orthonormal basis w.r.t. \n",
    "#this inner product by computing the Gram matrix A and using A.gram_schmidt()"
   ]
  },
  {
   "cell_type": "code",
   "execution_count": 38,
   "id": "f4f39b63-d30d-445e-8cde-3ea75a3c64d3",
   "metadata": {},
   "outputs": [],
   "source": [
    "#compute a field which contains all the square roots required\n",
    "def containing_field(SGA):\n",
    "    required_square_roots = []\n",
    "    for partition in Partitions(SGA.group().degree()):\n",
    "        specht_module = SGA.specht_module(partition)\n",
    "        rho = specht_module.representation_matrix\n",
    "        group_size = SGA.group().cardinality()\n",
    "        P = (1/group_size)*sum(rho(g)*rho(g).conjugate().transpose() for g in SGA.group())\n",
    "        d, L = P.eigenmatrix_left()\n",
    "        required_square_roots += [specht_module.dimension(),SGA.group().cardinality()] + d.diagonal()\n",
    "    required_square_roots = flatten([[QQ(q).numerator(),QQ(q).denominator()] if q in QQ else q for q in required_square_roots])\n",
    "    K = SGA.base_ring()\n",
    "    for n in set(required_square_roots):\n",
    "        R = PolynomialRing(K, 'x')\n",
    "        x = R.gen()\n",
    "        if (x**2 - n).is_irreducible():\n",
    "            gen_name = \"sqrt\"+str(n).replace(\"/\",\"over\")\n",
    "            K = K.extension(sqrt(n).minpoly(),names=gen_name)\n",
    "    return K"
   ]
  },
  {
   "cell_type": "code",
   "execution_count": 39,
   "id": "ceef00d1-d036-4f68-b585-79fe3f1c6807",
   "metadata": {},
   "outputs": [],
   "source": [
    "#find the change-of-basis matrix Q making \\rho(g) unitary for all g \\in G\n",
    "from sage.matrix.special import diagonal_matrix\n",
    "from sage.misc.functional import sqrt\n",
    "def unitary_change_of_basis(SGA,partition,K):\n",
    "    rho = SGA.specht_module(partition).representation_matrix\n",
    "    group_size = SGA.group().cardinality()\n",
    "    P = (1/group_size)*sum(rho(g)*rho(g).conjugate().transpose() for g in SGA.group())\n",
    "    d, L = P.eigenmatrix_left()\n",
    "    return L.inverse() * diagonal_matrix([sqrt(K(a)) for a in d.diagonal()]) * L"
   ]
  },
  {
   "cell_type": "code",
   "execution_count": 40,
   "id": "aca07005-770f-4a0f-bd28-f6c3a5446787",
   "metadata": {},
   "outputs": [],
   "source": [
    "#define the Fourier coefficient at the representation specht_module\n",
    "#which is the Specht module corresponding to partition\n",
    "def hat(f,partition,SGA,K,unitary=False):\n",
    "    specht_module = SGA.specht_module(partition)\n",
    "    rho = specht_module.representation_matrix\n",
    "    if unitary:\n",
    "        Q = unitary_change_of_basis(SGA,partition,K)\n",
    "        unitary_factor = specht_module.dimension()/SGA.group().cardinality()\n",
    "        sqrt_unitary_factor = sqrt(K(unitary_factor))\n",
    "        return sqrt_unitary_factor*sum(f(g)*Q.inverse()*rho(g)*Q for g in SGA.group())\n",
    "    else:\n",
    "        return sum(f(g)*rho(g) for g in SGA.group())"
   ]
  },
  {
   "cell_type": "code",
   "execution_count": 41,
   "id": "b3d16b48-b4bd-43b8-bb87-038cc9cd9afd",
   "metadata": {},
   "outputs": [],
   "source": [
    "#define the delta function delta_s(t) = {1 if s == t, 0 otherwise}\n",
    "delta = lambda s: lambda t: 1 if t == s else 0"
   ]
  },
  {
   "cell_type": "code",
   "execution_count": 42,
   "id": "dad4c039-cddd-4d55-8be4-09dff460fbb8",
   "metadata": {},
   "outputs": [],
   "source": [
    "#for each basis element g \\in G compute the Fourier coefficients \\hat{\\delta_g}(partition) for all partitions\n",
    "from sage.misc.flatten import flatten\n",
    "def unitary_dft(SGA):\n",
    "    K = containing_field(SGA)\n",
    "    return matrix(K,[flatten([hat(delta(g),partition,SGA,K,unitary=True).list() for partition in Partitions(SGA.group().degree())]) for g in SGA.group()]).transpose()"
   ]
  },
  {
   "cell_type": "code",
   "execution_count": 43,
   "id": "1d123573-fd82-4429-aa0b-5737739e6473",
   "metadata": {},
   "outputs": [],
   "source": [
    "n = 3"
   ]
  },
  {
   "cell_type": "code",
   "execution_count": 44,
   "id": "279b49c8-3b66-4689-a755-26dce655f9d6",
   "metadata": {},
   "outputs": [],
   "source": [
    "SGA = SymmetricGroupAlgebra(QQbar,n)"
   ]
  },
  {
   "cell_type": "code",
   "execution_count": 45,
   "id": "8c2d8748-b9d5-4ed8-94e7-14daceb60e60",
   "metadata": {},
   "outputs": [
    {
     "data": {
      "text/plain": [
       "Algebraic Field"
      ]
     },
     "execution_count": 45,
     "metadata": {},
     "output_type": "execute_result"
    }
   ],
   "source": [
    "K = containing_field(SGA); K"
   ]
  },
  {
   "cell_type": "code",
   "execution_count": 46,
   "id": "ddf55970-a7d3-4b70-aa14-6e2e1c3b3177",
   "metadata": {},
   "outputs": [],
   "source": [
    "G = SGA.group()"
   ]
  },
  {
   "cell_type": "code",
   "execution_count": 47,
   "id": "1b2edd70-15e8-46b2-a4b8-b7b6e1a62f25",
   "metadata": {},
   "outputs": [
    {
     "data": {
      "text/plain": [
       "[   1    1    1    1    1    1]\n",
       "[   1  1/2   -1 -1/2 -1/2  1/2]\n",
       "[   0  3/4    0  3/4 -3/4 -3/4]\n",
       "[   0    1    0   -1    1   -1]\n",
       "[   1 -1/2    1 -1/2 -1/2 -1/2]\n",
       "[   1   -1   -1    1    1   -1]"
      ]
     },
     "execution_count": 47,
     "metadata": {},
     "output_type": "execute_result"
    }
   ],
   "source": [
    "SGA_dft = SGA.dft(); SGA_dft"
   ]
  },
  {
   "cell_type": "code",
   "execution_count": 48,
   "id": "6df6046c-68f4-4e02-8f54-e7fb57c47349",
   "metadata": {},
   "outputs": [
    {
     "data": {
      "text/plain": [
       "[  6   0   0   0   0   0]\n",
       "[  0   3   0   0   0   0]\n",
       "[  0   0 9/4   0   0   0]\n",
       "[  0   0   0   4   0   0]\n",
       "[  0   0   0   0   3   0]\n",
       "[  0   0   0   0   0   6]"
      ]
     },
     "execution_count": 48,
     "metadata": {},
     "output_type": "execute_result"
    }
   ],
   "source": [
    "#check if A*A^T == Id. it's not, but the columns are orthonormal\n",
    "SGA_dft*SGA_dft.transpose()"
   ]
  },
  {
   "cell_type": "code",
   "execution_count": 49,
   "id": "3bb7401a-4174-43e1-a5c0-d4cf7274a07f",
   "metadata": {},
   "outputs": [
    {
     "data": {
      "text/plain": [
       "[2, 1]"
      ]
     },
     "execution_count": 49,
     "metadata": {},
     "output_type": "execute_result"
    }
   ],
   "source": [
    "partition = Partitions(SGA.group().degree())[1]; partition"
   ]
  },
  {
   "cell_type": "code",
   "execution_count": 50,
   "id": "585b6cdc-ae42-4ba0-90a8-6ef2723999a3",
   "metadata": {},
   "outputs": [],
   "source": [
    "specht_module = SGA.specht_module(partition)"
   ]
  },
  {
   "cell_type": "code",
   "execution_count": 51,
   "id": "fe9d71f6-1301-451e-8667-b55fa99fbccb",
   "metadata": {},
   "outputs": [],
   "source": [
    "rho = specht_module.representation_matrix"
   ]
  },
  {
   "cell_type": "code",
   "execution_count": 52,
   "id": "6ab6a378-64ed-4d85-8220-645e594b8738",
   "metadata": {},
   "outputs": [],
   "source": [
    "group_size = SGA.group().cardinality()"
   ]
  },
  {
   "cell_type": "code",
   "execution_count": 53,
   "id": "abcea45b-630b-4ecc-abe6-a6699a28bcc9",
   "metadata": {},
   "outputs": [
    {
     "data": {
      "text/plain": [
       "Algebraic Field"
      ]
     },
     "execution_count": 53,
     "metadata": {},
     "output_type": "execute_result"
    }
   ],
   "source": [
    "P = (1/group_size)*sum(rho(g)*rho(g).conjugate().transpose() for g in SGA.group()); P.base_ring()"
   ]
  },
  {
   "cell_type": "code",
   "execution_count": 54,
   "id": "b82a3693-ed70-40ea-a4f4-0ed65dbd56ec",
   "metadata": {},
   "outputs": [
    {
     "data": {
      "text/plain": [
       "[ 1.115355071650411? 0.2988584907226845?]\n",
       "[0.2988584907226845?  1.115355071650411?]"
      ]
     },
     "execution_count": 54,
     "metadata": {},
     "output_type": "execute_result"
    }
   ],
   "source": [
    "Q = unitary_change_of_basis(SGA,partition,K); Q"
   ]
  },
  {
   "cell_type": "code",
   "execution_count": 55,
   "id": "c2b8cd24-eb11-4efe-8eae-b01102bf8a9c",
   "metadata": {},
   "outputs": [
    {
     "data": {
      "text/plain": [
       "1/3"
      ]
     },
     "execution_count": 55,
     "metadata": {},
     "output_type": "execute_result"
    }
   ],
   "source": [
    "unitary_factor = specht_module.dimension()/SGA.group().cardinality(); unitary_factor"
   ]
  },
  {
   "cell_type": "code",
   "execution_count": 56,
   "id": "132484d0-971e-4b2f-a09b-60a480ed2782",
   "metadata": {},
   "outputs": [
    {
     "data": {
      "text/plain": [
       "Algebraic Field"
      ]
     },
     "execution_count": 56,
     "metadata": {},
     "output_type": "execute_result"
    }
   ],
   "source": [
    "K"
   ]
  },
  {
   "cell_type": "code",
   "execution_count": 57,
   "id": "3417c790-bfc5-4740-b1e6-b608a06822bf",
   "metadata": {},
   "outputs": [
    {
     "data": {
      "text/plain": [
       "[2, 3, 1]"
      ]
     },
     "execution_count": 57,
     "metadata": {},
     "output_type": "execute_result"
    }
   ],
   "source": [
    "G[3]"
   ]
  },
  {
   "cell_type": "code",
   "execution_count": 58,
   "id": "cf7eab07-1332-4538-b70c-6ff144812a73",
   "metadata": {},
   "outputs": [
    {
     "data": {
      "text/plain": [
       "[-0.500000000000000?  0.866025403784439?]\n",
       "[-0.866025403784439? -0.500000000000000?]"
      ]
     },
     "execution_count": 58,
     "metadata": {},
     "output_type": "execute_result"
    }
   ],
   "source": [
    "U_rho = Q.inverse()*rho(G[3])*Q; U_rho"
   ]
  },
  {
   "cell_type": "code",
   "execution_count": 59,
   "id": "77a25aa2-afbd-4ffa-9bd8-f204a1ed8558",
   "metadata": {},
   "outputs": [
    {
     "data": {
      "text/plain": [
       "[1.000000000000000?            0.?e-17]\n",
       "[           0.?e-17 1.000000000000000?]"
      ]
     },
     "execution_count": 59,
     "metadata": {},
     "output_type": "execute_result"
    }
   ],
   "source": [
    "U_rho*U_rho.conjugate().transpose()"
   ]
  },
  {
   "cell_type": "code",
   "execution_count": 60,
   "id": "2503a178-95f8-470f-b4d8-d13c520df4fa",
   "metadata": {},
   "outputs": [
    {
     "data": {
      "text/plain": [
       "[ 0.4082482904638630?  0.4082482904638630?  0.4082482904638630?  0.4082482904638630?  0.4082482904638630?  0.4082482904638630?]\n",
       "[ 0.5773502691896258?                    0   0.500000000000000? -0.2886751345948129? -0.2886751345948129?  -0.500000000000000?]\n",
       "[             0.?e-18  0.5773502691896258? -0.2886751345948129?   0.500000000000000?  -0.500000000000000? -0.2886751345948129?]\n",
       "[             0.?e-18  0.5773502691896258? -0.2886751345948129?  -0.500000000000000?   0.500000000000000? -0.2886751345948129?]\n",
       "[ 0.5773502691896258?                    0  -0.500000000000000? -0.2886751345948129? -0.2886751345948129?   0.500000000000000?]\n",
       "[ 0.4082482904638630? -0.4082482904638630? -0.4082482904638630?  0.4082482904638630?  0.4082482904638630? -0.4082482904638630?]"
      ]
     },
     "execution_count": 60,
     "metadata": {},
     "output_type": "execute_result"
    }
   ],
   "source": [
    "unitary_dft(SGA)"
   ]
  },
  {
   "cell_type": "code",
   "execution_count": 61,
   "id": "cf96731b-2f63-449b-bcb9-88bd015d4dfd",
   "metadata": {},
   "outputs": [
    {
     "data": {
      "text/plain": [
       "[1.000000000000000?            0.?e-18            0.?e-18            0.?e-18            0.?e-18            0.?e-18]\n",
       "[           0.?e-18 1.000000000000000?            0.?e-18            0.?e-18            0.?e-18            0.?e-18]\n",
       "[           0.?e-18            0.?e-18 1.000000000000000?            0.?e-18            0.?e-18            0.?e-18]\n",
       "[           0.?e-18            0.?e-18            0.?e-18 1.000000000000000?            0.?e-18            0.?e-18]\n",
       "[           0.?e-18            0.?e-18            0.?e-18            0.?e-18 1.000000000000000?            0.?e-18]\n",
       "[           0.?e-18            0.?e-18            0.?e-18            0.?e-18            0.?e-18 1.000000000000000?]"
      ]
     },
     "execution_count": 61,
     "metadata": {},
     "output_type": "execute_result"
    }
   ],
   "source": [
    "U_dft = unitary_dft(SGA); U_dft*U_dft.conjugate().transpose()"
   ]
  },
  {
   "cell_type": "code",
   "execution_count": 62,
   "id": "8ba7dfc6-7632-4519-93a9-74680ed23263",
   "metadata": {},
   "outputs": [
    {
     "data": {
      "text/plain": [
       "True"
      ]
     },
     "execution_count": 62,
     "metadata": {},
     "output_type": "execute_result"
    }
   ],
   "source": [
    "#check that the DFT is unitary\n",
    "(U_dft*U_dft.transpose()) == identity_matrix(SGA.group().cardinality())"
   ]
  },
  {
   "cell_type": "code",
   "execution_count": 63,
   "id": "45e8804f-368c-49d1-b073-219eadd8f3ed",
   "metadata": {},
   "outputs": [],
   "source": [
    "#QUESTION: what are the eigenvalues?\n",
    "#need to be careful as characteristic polynomial is degree n! over K, so [L:QQ] = [L:K]*[K:QQ] = n!*[K:QQ]\n",
    "#for n=3, [L:QQ] = n!*[K:QQ] = 6*4 = 24"
   ]
  },
  {
   "cell_type": "code",
   "execution_count": 64,
   "id": "67ab4118-bd8c-45c5-a7b7-68830f1fbf37",
   "metadata": {},
   "outputs": [
    {
     "data": {
      "text/plain": [
       "x^6 + 1.0773502691897?*x^5 - 0.924311009994?*x^4 - 2.10095363131?*x^3 - 0.92431101000?*x^2 + 1.077350269190?*x + 1.00000000000?"
      ]
     },
     "execution_count": 64,
     "metadata": {},
     "output_type": "execute_result"
    }
   ],
   "source": [
    "U_dft.charpoly()"
   ]
  },
  {
   "cell_type": "code",
   "execution_count": 65,
   "id": "077ce28b-5e2c-4b73-bfb0-70072c4e9452",
   "metadata": {},
   "outputs": [],
   "source": [
    "#ISSUE: the splitting field appears to be high degree, and the coefficients are large\n",
    "#the defining polynomial is monic with integer coefficients\n",
    "#since the eigenvalues lie on the unit circle, a result of Kroenecker implies they are roots of unity\n",
    "if len(list(U_dft.charpoly().factor())) != U_dft.charpoly().degree():\n",
    "    L.<a> = U_dft.charpoly().splitting_field(); L\n",
    "else:\n",
    "    L = K"
   ]
  },
  {
   "cell_type": "code",
   "execution_count": 66,
   "id": "bc43cde1-279b-441e-ac07-73a578759cec",
   "metadata": {},
   "outputs": [
    {
     "data": {
      "text/plain": [
       "Algebraic Field"
      ]
     },
     "execution_count": 66,
     "metadata": {},
     "output_type": "execute_result"
    }
   ],
   "source": [
    "L"
   ]
  },
  {
   "cell_type": "code",
   "execution_count": 67,
   "id": "248ad9f8-d64c-40b6-88b9-d7a23f4a0313",
   "metadata": {},
   "outputs": [
    {
     "data": {
      "text/plain": [
       "[-0.9865699009578278? - 0.1633396171296542?*I, -0.9865699009578278? + 0.1633396171296542?*I, -0.5437444089082021? - 0.8392508670124029?*I, -0.5437444089082021? + 0.8392508670124029?*I, 0.9916391752712170? - 0.1290416447020912?*I, 0.9916391752712170? + 0.1290416447020912?*I]"
      ]
     },
     "execution_count": 67,
     "metadata": {},
     "output_type": "execute_result"
    }
   ],
   "source": [
    "#one can factor the polynomial over a splitting field L/K\n",
    "#but there is no way to express the roots of a quintic in terms of radicals\n",
    "eigs = matrix(L,U_dft).eigenvalues(extend=False); eigs"
   ]
  },
  {
   "cell_type": "code",
   "execution_count": 140,
   "id": "f1f58f54-9fe6-4171-ab47-2e0b94e7c675",
   "metadata": {},
   "outputs": [
    {
     "data": {
      "text/plain": [
       "-0.47388668606429877463829835272"
      ]
     },
     "execution_count": 140,
     "metadata": {},
     "output_type": "execute_result"
    }
   ],
   "source": [
    "(arg(eigs[0])/(2*pi)).n(100)"
   ]
  },
  {
   "cell_type": "code",
   "execution_count": 88,
   "id": "3819eb4f-c913-420e-bb43-668d369c172e",
   "metadata": {},
   "outputs": [
    {
     "data": {
      "text/plain": [
       "-22539521630051773595348404504870938475879/47563103781720350556946374220559905473074"
      ]
     },
     "execution_count": 88,
     "metadata": {},
     "output_type": "execute_result"
    }
   ],
   "source": [
    "(arg(eigs[0])/(2*pi)).n(1_000_000).nearby_rational(max_denominator=100_000_000_000_000_000_000_000_000_000_000_000_000_000)"
   ]
  },
  {
   "cell_type": "code",
   "execution_count": 84,
   "id": "ef015dd3-b4f4-485f-8424-db1209fcd69c",
   "metadata": {},
   "outputs": [
    {
     "data": {
      "text/plain": [
       "0.1655631465860383?"
      ]
     },
     "execution_count": 84,
     "metadata": {},
     "output_type": "execute_result"
    }
   ],
   "source": [
    "eigs[0].imag()/eigs[0].real()"
   ]
  },
  {
   "cell_type": "code",
   "execution_count": 70,
   "id": "e57d7d46-5b3f-43da-9487-264abfe2ee1a",
   "metadata": {},
   "outputs": [
    {
     "data": {
      "text/plain": [
       "[-10782678805850241855303/22753706999878039149494,\n",
       " 10782678805850241855303/22753706999878039149494,\n",
       " -19751357844255063647819/57837581692632446111637,\n",
       " 19751357844255063647819/57837581692632446111637,\n",
       " -229510577551663428287/11143970750595710312210,\n",
       " 229510577551663428287/11143970750595710312210]"
      ]
     },
     "execution_count": 70,
     "metadata": {},
     "output_type": "execute_result"
    }
   ],
   "source": [
    "rational_approx_args = [(arg(eig)/(2*pi)).n(100).nearby_rational(max_denominator=100_000_000_000_000_000_000_000) for eig in eigs]; rational_approx_args"
   ]
  },
  {
   "cell_type": "code",
   "execution_count": 71,
   "id": "82af3bd5-8b8d-4f3c-8007-a2a850d0d727",
   "metadata": {},
   "outputs": [
    {
     "data": {
      "text/plain": [
       "x^6 + 1.07735026918963*x^5 - (0.924311009993415 + 1.11022302462516e-16*I)*x^4 - 2.10095363130390*x^3 - (0.924311009993415 - 2.22044604925031e-16*I)*x^2 + (1.07735026918963 + 2.22044604925031e-16*I)*x + 1.00000000000000"
      ]
     },
     "execution_count": 71,
     "metadata": {},
     "output_type": "execute_result"
    }
   ],
   "source": [
    "prod([x-exp(2*pi*I*q).n() for q in rational_approx_args]).expand()"
   ]
  },
  {
   "cell_type": "code",
   "execution_count": 72,
   "id": "e9cd4da8-c21d-4781-b18d-2dab84a8a675",
   "metadata": {},
   "outputs": [],
   "source": [
    "#galois_group() appears to be the absolute version\n",
    "#NOTE: for a splitting field L, we should have [L:K] = |Gal(L/K)|\n",
    "if L != L.algebraic_closure():\n",
    "    L_G = L.galois_group()"
   ]
  },
  {
   "cell_type": "code",
   "execution_count": 73,
   "id": "14cbad6c-4016-4b14-9ce0-415b9d90f2c1",
   "metadata": {},
   "outputs": [],
   "source": [
    "#n=3: two real, two complex\n",
    "#n=4: all complex\n",
    "#the magnitude is not 1, they're closely grouped around 2 or 3"
   ]
  },
  {
   "cell_type": "code",
   "execution_count": 74,
   "id": "2caebbde-e05f-416d-a06f-b1d8d8c53ebb",
   "metadata": {},
   "outputs": [
    {
     "data": {
      "text/plain": [
       "[2.203130118946493?, 0.6196927916815408? + 1.649489291766649?*I, 0.6196927916815408? - 1.649489291766649?*I, -1.180831595337157? + 1.549010082939973?*I, -1.180831595337157? - 1.549010082939973?*I, -2.080852511635262?]"
      ]
     },
     "execution_count": 74,
     "metadata": {},
     "output_type": "execute_result"
    }
   ],
   "source": [
    "SGA_eigs = SGA_dft.eigenvalues(); SGA_eigs"
   ]
  },
  {
   "cell_type": "code",
   "execution_count": 75,
   "id": "edb1c420-f44a-4cb3-9fb3-2ffa17dee539",
   "metadata": {},
   "outputs": [
    {
     "data": {
      "text/plain": [
       "[2.203130118946493?,\n",
       " 1.762053937799550?,\n",
       " 1.762053937799550?,\n",
       " 1.947766796512405?,\n",
       " 1.947766796512405?,\n",
       " 2.080852511635262?]"
      ]
     },
     "execution_count": 75,
     "metadata": {},
     "output_type": "execute_result"
    }
   ],
   "source": [
    "[abs(eig) for eig in SGA_eigs]"
   ]
  },
  {
   "cell_type": "code",
   "execution_count": 76,
   "id": "5a48909b-3b9a-437c-a778-e81f28f3735b",
   "metadata": {},
   "outputs": [
    {
     "name": "stdout",
     "output_type": "stream",
     "text": [
      "[2.44948974+0.j 2.44948974+0.j 2.        +0.j 1.73205081+0.j\n",
      " 1.73205081+0.j 1.5       +0.j]\n",
      "[2.449489742783178? 1.732050807568878? 3/2 2 1.732050807568878?\n",
      " 2.449489742783178?]\n"
     ]
    }
   ],
   "source": [
    "#note that the singluar values are the square roots of the diagonal entries of the Gram matrix\n",
    "print(SymmetricGroup(n).algebra(CDF).dft().SVD()[1].numpy().diagonal())\n",
    "print(sqrt((SGA_dft*SGA_dft.transpose()).numpy().diagonal()))"
   ]
  }
 ],
 "metadata": {
  "kernelspec": {
   "display_name": "SageMath 10.3",
   "language": "sage",
   "name": "sagemath-10.3"
  },
  "language_info": {
   "codemirror_mode": {
    "name": "ipython",
    "version": 3
   },
   "file_extension": ".py",
   "mimetype": "text/x-python",
   "name": "python",
   "nbconvert_exporter": "python",
   "pygments_lexer": "ipython3",
   "version": "3.11.1"
  }
 },
 "nbformat": 4,
 "nbformat_minor": 5
}
