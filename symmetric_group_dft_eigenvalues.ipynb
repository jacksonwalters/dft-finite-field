{
 "cells": [
  {
   "cell_type": "code",
   "execution_count": 1,
   "id": "e5fa7439-9967-496e-b27a-6c2564f7f9ca",
   "metadata": {},
   "outputs": [],
   "source": [
    "#define a new DFT which is unitary\n",
    "#NOTE: in Beals' ['97] he normalizes by \\sqrt{d_\\lambda/n!}\n",
    "#but also notes that a basis change is an equivalence relation on rep'ns\n",
    "#and each equivalence class contains a unitary representatione\n",
    "#if each rep'n \\rho \\in \\hat{G} is unitary, then the transformation is unitary\n",
    "#these representations are not unitary\n",
    "#to make them unitary, use Weyl's unitary trick\n",
    "#OPTION 1: use the formula P = \\int_G \\rho(g)\\rho(g)^* dg, and take a square root to find Q s.t. P = Q^2\n",
    "#OPTION 2: define a new invariant inner product compute an orthonormal basis w.r.t. \n",
    "#this inner product by computing the Gram matrix A and using A.gram_schmidt()"
   ]
  },
  {
   "cell_type": "code",
   "execution_count": 2,
   "id": "f4f39b63-d30d-445e-8cde-3ea75a3c64d3",
   "metadata": {},
   "outputs": [],
   "source": [
    "#compute a field which contains all the square roots required\n",
    "def containing_field(SGA):\n",
    "    required_square_roots = []\n",
    "    for partition in Partitions(SGA.group().degree()):\n",
    "        specht_module = SGA.specht_module(partition)\n",
    "        rho = specht_module.representation_matrix\n",
    "        group_size = SGA.group().cardinality()\n",
    "        P = (1/group_size)*sum(rho(g)*rho(g).conjugate().transpose() for g in SGA.group())\n",
    "        d, L = P.eigenmatrix_left()\n",
    "        required_square_roots += [specht_module.dimension(),SGA.group().cardinality()] + d.diagonal()\n",
    "    required_square_roots = flatten([[QQ(q).numerator(),QQ(q).denominator()] if q in QQ else q for q in required_square_roots])\n",
    "    K = SGA.base_ring()\n",
    "    for n in set(required_square_roots):\n",
    "        R = PolynomialRing(K, 'x')\n",
    "        x = R.gen()\n",
    "        if (x**2 - n).is_irreducible():\n",
    "            gen_name = \"sqrt\"+str(n).replace(\"/\",\"over\")\n",
    "            K = K.extension(sqrt(n).minpoly(),names=gen_name)\n",
    "    return K"
   ]
  },
  {
   "cell_type": "code",
   "execution_count": 99,
   "id": "ceef00d1-d036-4f68-b585-79fe3f1c6807",
   "metadata": {},
   "outputs": [],
   "source": [
    "#find the change-of-basis matrix Q making \\rho(g) unitary for all g \\in G\n",
    "from sage.matrix.special import diagonal_matrix\n",
    "from sage.misc.functional import sqrt\n",
    "def unitary_change_of_basis(SGA,partition,K):\n",
    "    rho = SGA.specht_module(partition).representation_matrix\n",
    "    group_size = SGA.group().cardinality()\n",
    "    P = (1/group_size)*sum(rho(g)*rho(g).conjugate().transpose() for g in SGA.group())\n",
    "    d, L = P.eigenmatrix_left()\n",
    "    return L.inverse() * diagonal_matrix([sqrt(K(a)) for a in d.diagonal()]) * L"
   ]
  },
  {
   "cell_type": "code",
   "execution_count": 100,
   "id": "aca07005-770f-4a0f-bd28-f6c3a5446787",
   "metadata": {},
   "outputs": [],
   "source": [
    "#define the Fourier coefficient at the representation specht_module\n",
    "#which is the Specht module corresponding to partition\n",
    "def hat(f,partition,SGA,K,unitary=False):\n",
    "    specht_module = SGA.specht_module(partition)\n",
    "    rho = specht_module.representation_matrix\n",
    "    if unitary:\n",
    "        Q = unitary_change_of_basis(SGA,partition,K)\n",
    "        unitary_factor = specht_module.dimension()/SGA.group().cardinality()\n",
    "        sqrt_unitary_factor = sqrt(K(unitary_factor))\n",
    "        return sqrt_unitary_factor*sum(f(g)*Q.inverse()*rho(g)*Q for g in SGA.group())\n",
    "    else:\n",
    "        return sum(f(g)*rho(g) for g in SGA.group())"
   ]
  },
  {
   "cell_type": "code",
   "execution_count": 101,
   "id": "b3d16b48-b4bd-43b8-bb87-038cc9cd9afd",
   "metadata": {},
   "outputs": [],
   "source": [
    "#define the delta function delta_s(t) = {1 if s == t, 0 otherwise}\n",
    "delta = lambda s: lambda t: 1 if t == s else 0"
   ]
  },
  {
   "cell_type": "code",
   "execution_count": 102,
   "id": "dad4c039-cddd-4d55-8be4-09dff460fbb8",
   "metadata": {},
   "outputs": [],
   "source": [
    "#for each basis element g \\in G compute the Fourier coefficients \\hat{\\delta_g}(partition) for all partitions\n",
    "from sage.misc.flatten import flatten\n",
    "def dft(SGA,unitary=False):\n",
    "    K = containing_field(SGA)\n",
    "    fourier_transform = [flatten([hat(delta(g),partition,SGA,K,unitary).list() for partition in Partitions(SGA.group().degree())]) for g in SGA.group()]\n",
    "    if unitary:\n",
    "        return matrix(K,fourier_transform).transpose()\n",
    "    else:\n",
    "        return matrix(fourier_transform).transpose()"
   ]
  },
  {
   "cell_type": "code",
   "execution_count": 103,
   "id": "1d123573-fd82-4429-aa0b-5737739e6473",
   "metadata": {},
   "outputs": [],
   "source": [
    "n = 3"
   ]
  },
  {
   "cell_type": "code",
   "execution_count": 104,
   "id": "279b49c8-3b66-4689-a755-26dce655f9d6",
   "metadata": {},
   "outputs": [],
   "source": [
    "SGA = SymmetricGroupAlgebra(QQ,n)"
   ]
  },
  {
   "cell_type": "code",
   "execution_count": 105,
   "id": "8c2d8748-b9d5-4ed8-94e7-14daceb60e60",
   "metadata": {},
   "outputs": [
    {
     "data": {
      "text/plain": [
       "Number Field in sqrt3 with defining polynomial x^2 - 3 over its base field"
      ]
     },
     "execution_count": 105,
     "metadata": {},
     "output_type": "execute_result"
    }
   ],
   "source": [
    "K = containing_field(SGA); K"
   ]
  },
  {
   "cell_type": "code",
   "execution_count": 106,
   "id": "ddf55970-a7d3-4b70-aa14-6e2e1c3b3177",
   "metadata": {},
   "outputs": [],
   "source": [
    "G = SGA.group()"
   ]
  },
  {
   "cell_type": "code",
   "execution_count": 107,
   "id": "1b2edd70-15e8-46b2-a4b8-b7b6e1a62f25",
   "metadata": {},
   "outputs": [
    {
     "data": {
      "text/plain": [
       "[   1    1    1    1    1    1]\n",
       "[   1  1/2   -1 -1/2 -1/2  1/2]\n",
       "[   0  3/4    0  3/4 -3/4 -3/4]\n",
       "[   0    1    0   -1    1   -1]\n",
       "[   1 -1/2    1 -1/2 -1/2 -1/2]\n",
       "[   1   -1   -1    1    1   -1]"
      ]
     },
     "execution_count": 107,
     "metadata": {},
     "output_type": "execute_result"
    }
   ],
   "source": [
    "SGA_dft = SGA.dft(); SGA_dft"
   ]
  },
  {
   "cell_type": "code",
   "execution_count": 108,
   "id": "6df6046c-68f4-4e02-8f54-e7fb57c47349",
   "metadata": {},
   "outputs": [
    {
     "data": {
      "text/plain": [
       "[  6   0   0   0   0   0]\n",
       "[  0   3   0   0   0   0]\n",
       "[  0   0 9/4   0   0   0]\n",
       "[  0   0   0   4   0   0]\n",
       "[  0   0   0   0   3   0]\n",
       "[  0   0   0   0   0   6]"
      ]
     },
     "execution_count": 108,
     "metadata": {},
     "output_type": "execute_result"
    }
   ],
   "source": [
    "#check if A*A^T == Id. it's not, but the columns are orthonormal\n",
    "SGA_dft*SGA_dft.transpose()"
   ]
  },
  {
   "cell_type": "code",
   "execution_count": 109,
   "id": "2503a178-95f8-470f-b4d8-d13c520df4fa",
   "metadata": {},
   "outputs": [
    {
     "data": {
      "text/plain": [
       "Number Field in sqrt3 with defining polynomial x^2 - 3 over its base field"
      ]
     },
     "execution_count": 109,
     "metadata": {},
     "output_type": "execute_result"
    }
   ],
   "source": [
    "#compute the unitary DFT of the symmetric group algebra\n",
    "U_dft = dft(SGA,unitary=True); U_dft.base_ring()"
   ]
  },
  {
   "cell_type": "code",
   "execution_count": 110,
   "id": "cf96731b-2f63-449b-bcb9-88bd015d4dfd",
   "metadata": {},
   "outputs": [
    {
     "data": {
      "text/plain": [
       "[1 0 0 0 0 0]\n",
       "[0 1 0 0 0 0]\n",
       "[0 0 1 0 0 0]\n",
       "[0 0 0 1 0 0]\n",
       "[0 0 0 0 1 0]\n",
       "[0 0 0 0 0 1]"
      ]
     },
     "execution_count": 110,
     "metadata": {},
     "output_type": "execute_result"
    }
   ],
   "source": [
    "U_dft*U_dft.conjugate().transpose()"
   ]
  },
  {
   "cell_type": "code",
   "execution_count": 111,
   "id": "8ba7dfc6-7632-4519-93a9-74680ed23263",
   "metadata": {},
   "outputs": [
    {
     "data": {
      "text/plain": [
       "True"
      ]
     },
     "execution_count": 111,
     "metadata": {},
     "output_type": "execute_result"
    }
   ],
   "source": [
    "#check that the DFT is unitary\n",
    "(U_dft*U_dft.transpose()) == identity_matrix(SGA.group().cardinality())"
   ]
  },
  {
   "cell_type": "code",
   "execution_count": 112,
   "id": "45e8804f-368c-49d1-b073-219eadd8f3ed",
   "metadata": {},
   "outputs": [],
   "source": [
    "#QUESTION: what are the eigenvalues?\n",
    "#for n=3, the minimal polynomial is degree 24 for the eigenvalues. the splitting field is degree 192.\n",
    "#this means that the Galois group is nonabelian, and since the minimal polynomial has rational coefficients\n",
    "#the eigenvalues are not roots of unity"
   ]
  },
  {
   "cell_type": "code",
   "execution_count": 113,
   "id": "2a995534-79fe-4563-a07a-187cf2cfc77c",
   "metadata": {},
   "outputs": [
    {
     "data": {
      "text/plain": [
       "x^6 + (-1/3*sqrt3 - 1/2)*x^5 + ((-1/6*sqrt2 + 1/6)*sqrt3 - 1/3*sqrt2 - 1/3)*x^4 + ((1/3*sqrt2 + 1/3)*sqrt3 + 1/2*sqrt2)*x^3 + ((-1/6*sqrt2 + 1/6)*sqrt3 - 1/3*sqrt2 - 1/3)*x^2 + (-1/3*sqrt3 - 1/2)*x + 1"
      ]
     },
     "execution_count": 113,
     "metadata": {},
     "output_type": "execute_result"
    }
   ],
   "source": [
    "U_dft.charpoly()"
   ]
  },
  {
   "cell_type": "code",
   "execution_count": 114,
   "id": "077ce28b-5e2c-4b73-bfb0-70072c4e9452",
   "metadata": {},
   "outputs": [],
   "source": [
    "#ISSUE: the splitting field appears to be high degree, and the coefficients are large\n",
    "if len(U_dft.charpoly().factor()) != U_dft.charpoly().degree():\n",
    "    L.<a> = U_dft.charpoly().splitting_field(map=False); L\n",
    "else:\n",
    "    L = K"
   ]
  },
  {
   "cell_type": "code",
   "execution_count": 115,
   "id": "4f74a4a1-a5d8-4481-81f4-ad01cc2df694",
   "metadata": {},
   "outputs": [
    {
     "name": "stdout",
     "output_type": "stream",
     "text": [
      "PARI stack size set to 10000000000 bytes, maximum size set to 100000006144\n"
     ]
    },
    {
     "data": {
      "text/plain": [
       "10000000000"
      ]
     },
     "execution_count": 115,
     "metadata": {},
     "output_type": "execute_result"
    }
   ],
   "source": [
    "#getting PARI stack size error\n",
    "pari.allocatemem(10^10)\n",
    "pari.stacksize()"
   ]
  },
  {
   "cell_type": "code",
   "execution_count": 116,
   "id": "f3e7ef8d-86fc-4303-9f89-99897a623e2d",
   "metadata": {},
   "outputs": [
    {
     "ename": "KeyboardInterrupt",
     "evalue": "",
     "output_type": "error",
     "traceback": [
      "\u001b[0;31m---------------------------------------------------------------------------\u001b[0m",
      "\u001b[0;31mKeyError\u001b[0m                                  Traceback (most recent call last)",
      "File \u001b[0;32m/private/var/tmp/sage-10.3-current/local/var/lib/sage/venv-python3.11.1/lib/python3.11/site-packages/sage/misc/cachefunc.pyx:1962\u001b[0m, in \u001b[0;36msage.misc.cachefunc.CachedMethodCaller.__call__ (build/cythonized/sage/misc/cachefunc.c:13399)\u001b[0;34m()\u001b[0m\n\u001b[1;32m   1961\u001b[0m try:\n\u001b[0;32m-> 1962\u001b[0m     return cache[k]\n\u001b[1;32m   1963\u001b[0m except TypeError:  # k is not hashable\n",
      "\u001b[0;31mKeyError\u001b[0m: ",
      "\nDuring handling of the above exception, another exception occurred:\n",
      "\u001b[0;31mKeyboardInterrupt\u001b[0m                         Traceback (most recent call last)",
      "Cell \u001b[0;32mIn[116], line 3\u001b[0m\n\u001b[1;32m      1\u001b[0m \u001b[38;5;66;03m#form relative exrtension M. attempt to compute Galois group\u001b[39;00m\n\u001b[1;32m      2\u001b[0m \u001b[38;5;66;03m#for a splitting field L, we should have [L:K] = |Gal(L/K)|\u001b[39;00m\n\u001b[0;32m----> 3\u001b[0m M \u001b[38;5;241m=\u001b[39m K\u001b[38;5;241m.\u001b[39mextension(U_dft\u001b[38;5;241m.\u001b[39mcharpoly(), names\u001b[38;5;241m=\u001b[39m(\u001b[38;5;124m'\u001b[39m\u001b[38;5;124mb\u001b[39m\u001b[38;5;124m'\u001b[39m,)); (b,) \u001b[38;5;241m=\u001b[39m M\u001b[38;5;241m.\u001b[39m_first_ngens(\u001b[38;5;241m1\u001b[39m); M\u001b[38;5;241m.\u001b[39mgalois_group()\u001b[38;5;241m.\u001b[39morder()\n",
      "File \u001b[0;32m/private/var/tmp/sage-10.3-current/local/var/lib/sage/venv-python3.11.1/lib/python3.11/site-packages/sage/misc/cachefunc.pyx:1967\u001b[0m, in \u001b[0;36msage.misc.cachefunc.CachedMethodCaller.__call__ (build/cythonized/sage/misc/cachefunc.c:13535)\u001b[0;34m()\u001b[0m\n\u001b[1;32m   1965\u001b[0m         return cache[k]\n\u001b[1;32m   1966\u001b[0m except KeyError:\n\u001b[0;32m-> 1967\u001b[0m     w = self._instance_call(*args, **kwds)\n\u001b[1;32m   1968\u001b[0m     cache[k] = w\n\u001b[1;32m   1969\u001b[0m     return w\n",
      "File \u001b[0;32m/private/var/tmp/sage-10.3-current/local/var/lib/sage/venv-python3.11.1/lib/python3.11/site-packages/sage/misc/cachefunc.pyx:1842\u001b[0m, in \u001b[0;36msage.misc.cachefunc.CachedMethodCaller._instance_call (build/cythonized/sage/misc/cachefunc.c:12984)\u001b[0;34m()\u001b[0m\n\u001b[1;32m   1840\u001b[0m         True\n\u001b[1;32m   1841\u001b[0m     \"\"\"\n\u001b[0;32m-> 1842\u001b[0m     return self.f(self._instance, *args, **kwds)\n\u001b[1;32m   1843\u001b[0m \n\u001b[1;32m   1844\u001b[0m cdef fix_args_kwds(self, tuple args, dict kwds) noexcept:\n",
      "File \u001b[0;32m/private/var/tmp/sage-10.3-current/local/var/lib/sage/venv-python3.11.1/lib/python3.11/site-packages/sage/rings/number_field/galois_group.py:377\u001b[0m, in \u001b[0;36mGaloisGroup_v2.order\u001b[0;34m(self, algorithm, recompute)\u001b[0m\n\u001b[1;32m    375\u001b[0m     \u001b[38;5;28;01mreturn\u001b[39;00m \u001b[38;5;28mself\u001b[39m\u001b[38;5;241m.\u001b[39m_pol_galgp(algorithm\u001b[38;5;241m=\u001b[39malgorithm)\u001b[38;5;241m.\u001b[39morder()\n\u001b[1;32m    376\u001b[0m \u001b[38;5;28;01melse\u001b[39;00m:\n\u001b[0;32m--> 377\u001b[0m     \u001b[38;5;28;01mreturn\u001b[39;00m \u001b[38;5;28;43mself\u001b[39;49m\u001b[38;5;241;43m.\u001b[39;49m\u001b[43m_galois_closure\u001b[49m\u001b[38;5;241m.\u001b[39mabsolute_degree()\n",
      "File \u001b[0;32m/private/var/tmp/sage-10.3-current/local/var/lib/sage/venv-python3.11.1/lib/python3.11/site-packages/sage/misc/lazy_attribute.pyx:126\u001b[0m, in \u001b[0;36msage.misc.lazy_attribute._lazy_attribute.__get__ (build/cythonized/sage/misc/lazy_attribute.c:3265)\u001b[0;34m()\u001b[0m\n\u001b[1;32m    124\u001b[0m     except KeyError:\n\u001b[1;32m    125\u001b[0m         pass\n\u001b[0;32m--> 126\u001b[0m result = self.f(a)\n\u001b[1;32m    127\u001b[0m if result is NotImplemented:\n\u001b[1;32m    128\u001b[0m     # Workaround: we make sure that cls is the class\n",
      "File \u001b[0;32m/private/var/tmp/sage-10.3-current/local/var/lib/sage/venv-python3.11.1/lib/python3.11/site-packages/sage/groups/galois_group.py:121\u001b[0m, in \u001b[0;36m_GMixin._galois_closure\u001b[0;34m(self)\u001b[0m\n\u001b[1;32m    108\u001b[0m \u001b[38;5;129m@lazy_attribute\u001b[39m\n\u001b[1;32m    109\u001b[0m \u001b[38;5;28;01mdef\u001b[39;00m \u001b[38;5;21m_galois_closure\u001b[39m(\u001b[38;5;28mself\u001b[39m):\n\u001b[1;32m    110\u001b[0m \u001b[38;5;250m    \u001b[39m\u001b[38;5;124mr\u001b[39m\u001b[38;5;124;03m\"\"\"\u001b[39;00m\n\u001b[1;32m    111\u001b[0m \u001b[38;5;124;03m    The Galois closure of the top field.\u001b[39;00m\n\u001b[1;32m    112\u001b[0m \n\u001b[0;32m   (...)\u001b[0m\n\u001b[1;32m    119\u001b[0m \u001b[38;5;124;03m        Number Field in b with defining polynomial x^6 + 12*x^4 + 36*x^2 + 140\u001b[39;00m\n\u001b[1;32m    120\u001b[0m \u001b[38;5;124;03m    \"\"\"\u001b[39;00m\n\u001b[0;32m--> 121\u001b[0m     \u001b[38;5;28;01mreturn\u001b[39;00m \u001b[38;5;28;43mself\u001b[39;49m\u001b[38;5;241;43m.\u001b[39;49m\u001b[43m_gcdata\u001b[49m[\u001b[38;5;241m0\u001b[39m]\n",
      "File \u001b[0;32m/private/var/tmp/sage-10.3-current/local/var/lib/sage/venv-python3.11.1/lib/python3.11/site-packages/sage/misc/lazy_attribute.pyx:126\u001b[0m, in \u001b[0;36msage.misc.lazy_attribute._lazy_attribute.__get__ (build/cythonized/sage/misc/lazy_attribute.c:3265)\u001b[0;34m()\u001b[0m\n\u001b[1;32m    124\u001b[0m     except KeyError:\n\u001b[1;32m    125\u001b[0m         pass\n\u001b[0;32m--> 126\u001b[0m result = self.f(a)\n\u001b[1;32m    127\u001b[0m if result is NotImplemented:\n\u001b[1;32m    128\u001b[0m     # Workaround: we make sure that cls is the class\n",
      "File \u001b[0;32m/private/var/tmp/sage-10.3-current/local/var/lib/sage/venv-python3.11.1/lib/python3.11/site-packages/sage/rings/number_field/galois_group.py:532\u001b[0m, in \u001b[0;36mGaloisGroup_v2._gcdata\u001b[0;34m(self)\u001b[0m\n\u001b[1;32m    530\u001b[0m \u001b[38;5;28;01melse\u001b[39;00m:\n\u001b[1;32m    531\u001b[0m     to_abs \u001b[38;5;241m=\u001b[39m \u001b[38;5;28;01mNone\u001b[39;00m\n\u001b[0;32m--> 532\u001b[0m L, emb \u001b[38;5;241m=\u001b[39m \u001b[43mK\u001b[49m\u001b[38;5;241;43m.\u001b[39;49m\u001b[43mgalois_closure\u001b[49m\u001b[43m(\u001b[49m\u001b[43mnames\u001b[49m\u001b[38;5;241;43m=\u001b[39;49m\u001b[38;5;28;43mself\u001b[39;49m\u001b[38;5;241;43m.\u001b[39;49m\u001b[43m_gc_names\u001b[49m\u001b[43m,\u001b[49m\u001b[43m \u001b[49m\u001b[38;5;28;43mmap\u001b[39;49m\u001b[38;5;241;43m=\u001b[39;49m\u001b[38;5;28;43;01mTrue\u001b[39;49;00m\u001b[43m)\u001b[49m\n\u001b[1;32m    533\u001b[0m \u001b[38;5;28;01mif\u001b[39;00m to_abs \u001b[38;5;129;01mis\u001b[39;00m \u001b[38;5;129;01mnot\u001b[39;00m \u001b[38;5;28;01mNone\u001b[39;00m:\n\u001b[1;32m    534\u001b[0m     emb \u001b[38;5;241m=\u001b[39m emb \u001b[38;5;241m*\u001b[39m to_abs\n",
      "File \u001b[0;32m/private/var/tmp/sage-10.3-current/local/var/lib/sage/venv-python3.11.1/lib/python3.11/site-packages/sage/rings/number_field/number_field.py:9241\u001b[0m, in \u001b[0;36mNumberField_absolute.galois_closure\u001b[0;34m(self, names, map)\u001b[0m\n\u001b[1;32m   9173\u001b[0m \u001b[38;5;28;01mdef\u001b[39;00m \u001b[38;5;21mgalois_closure\u001b[39m(\u001b[38;5;28mself\u001b[39m, names\u001b[38;5;241m=\u001b[39m\u001b[38;5;28;01mNone\u001b[39;00m, \u001b[38;5;28mmap\u001b[39m\u001b[38;5;241m=\u001b[39m\u001b[38;5;28;01mFalse\u001b[39;00m):\n\u001b[1;32m   9174\u001b[0m \u001b[38;5;250m    \u001b[39m\u001b[38;5;124;03m\"\"\"\u001b[39;00m\n\u001b[1;32m   9175\u001b[0m \u001b[38;5;124;03m    Return number field `K` that is the Galois closure of ``self``,\u001b[39;00m\n\u001b[1;32m   9176\u001b[0m \u001b[38;5;124;03m    i.e., is generated by all roots of the defining polynomial of\u001b[39;00m\n\u001b[0;32m   (...)\u001b[0m\n\u001b[1;32m   9239\u001b[0m \u001b[38;5;124;03m          Defn: a |--> 1/240*cc^5 - 41/120*cc\u001b[39;00m\n\u001b[1;32m   9240\u001b[0m \u001b[38;5;124;03m    \"\"\"\u001b[39;00m\n\u001b[0;32m-> 9241\u001b[0m     L, self_into_L \u001b[38;5;241m=\u001b[39m \u001b[38;5;28;43mself\u001b[39;49m\u001b[38;5;241;43m.\u001b[39;49m\u001b[43m_galois_closure_and_embedding\u001b[49m\u001b[43m(\u001b[49m\u001b[43mnames\u001b[49m\u001b[43m)\u001b[49m\n\u001b[1;32m   9242\u001b[0m     \u001b[38;5;28;01mreturn\u001b[39;00m (L, self_into_L) \u001b[38;5;28;01mif\u001b[39;00m \u001b[38;5;28mmap\u001b[39m \u001b[38;5;28;01melse\u001b[39;00m L\n",
      "File \u001b[0;32m/private/var/tmp/sage-10.3-current/local/var/lib/sage/venv-python3.11.1/lib/python3.11/site-packages/sage/rings/number_field/number_field.py:9168\u001b[0m, in \u001b[0;36mNumberField_absolute._galois_closure_and_embedding\u001b[0;34m(self, names)\u001b[0m\n\u001b[1;32m   9165\u001b[0m \u001b[38;5;66;03m# Compute degree of Galois closure if possible\u001b[39;00m\n\u001b[1;32m   9166\u001b[0m deg \u001b[38;5;241m=\u001b[39m \u001b[38;5;28mself\u001b[39m\u001b[38;5;241m.\u001b[39mgalois_group()\u001b[38;5;241m.\u001b[39measy_order()\n\u001b[0;32m-> 9168\u001b[0m L, self_into_L \u001b[38;5;241m=\u001b[39m \u001b[38;5;28;43mself\u001b[39;49m\u001b[38;5;241;43m.\u001b[39;49m\u001b[43mdefining_polynomial\u001b[49m\u001b[43m(\u001b[49m\u001b[43m)\u001b[49m\u001b[38;5;241;43m.\u001b[39;49m\u001b[43mchange_ring\u001b[49m\u001b[43m(\u001b[49m\u001b[38;5;28;43mself\u001b[39;49m\u001b[43m)\u001b[49m\u001b[38;5;241;43m.\u001b[39;49m\u001b[43msplitting_field\u001b[49m\u001b[43m(\u001b[49m\u001b[43mnames\u001b[49m\u001b[43m,\u001b[49m\u001b[43m \u001b[49m\u001b[38;5;28;43mmap\u001b[39;49m\u001b[38;5;241;43m=\u001b[39;49m\u001b[38;5;28;43;01mTrue\u001b[39;49;00m\u001b[43m,\u001b[49m\u001b[43m \u001b[49m\u001b[43mdegree_multiple\u001b[49m\u001b[38;5;241;43m=\u001b[39;49m\u001b[43mdeg\u001b[49m\u001b[43m)\u001b[49m\n\u001b[1;32m   9169\u001b[0m \u001b[38;5;28mself\u001b[39m\u001b[38;5;241m.\u001b[39m__galois_closure \u001b[38;5;241m=\u001b[39m L\n\u001b[1;32m   9170\u001b[0m \u001b[38;5;28mself\u001b[39m\u001b[38;5;241m.\u001b[39m__galois_closure_embedding \u001b[38;5;241m=\u001b[39m self_into_L\n",
      "File \u001b[0;32m/private/var/tmp/sage-10.3-current/local/var/lib/sage/venv-python3.11.1/lib/python3.11/site-packages/sage/rings/polynomial/polynomial_element.pyx:5326\u001b[0m, in \u001b[0;36msage.rings.polynomial.polynomial_element.Polynomial.splitting_field (build/cythonized/sage/rings/polynomial/polynomial_element.c:55827)\u001b[0;34m()\u001b[0m\n\u001b[1;32m   5324\u001b[0m if isinstance(F, NumberField):\n\u001b[1;32m   5325\u001b[0m     from sage.rings.number_field.splitting_field import splitting_field\n\u001b[0;32m-> 5326\u001b[0m     return splitting_field(f, name, map, **kwds)\n\u001b[1;32m   5327\u001b[0m elif isinstance(F, FiniteField):\n\u001b[1;32m   5328\u001b[0m     degree = lcm([f.degree() for f, _ in self.factor()])\n",
      "File \u001b[0;32m/private/var/tmp/sage-10.3-current/local/var/lib/sage/venv-python3.11.1/lib/python3.11/site-packages/sage/rings/number_field/splitting_field.py:552\u001b[0m, in \u001b[0;36msplitting_field\u001b[0;34m(poly, name, map, degree_multiple, abort_degree, simplify, simplify_all)\u001b[0m\n\u001b[1;32m    550\u001b[0m verbose(\u001b[38;5;124m\"\u001b[39m\u001b[38;5;124mNew field before simplifying: \u001b[39m\u001b[38;5;132;01m%s\u001b[39;00m\u001b[38;5;124m\"\u001b[39m \u001b[38;5;241m%\u001b[39m Mpol, t)\n\u001b[1;32m    551\u001b[0m t \u001b[38;5;241m=\u001b[39m cputime()\n\u001b[0;32m--> 552\u001b[0m M \u001b[38;5;241m=\u001b[39m \u001b[43mMpol\u001b[49m\u001b[38;5;241;43m.\u001b[39;49m\u001b[43mpolredbest\u001b[49m\u001b[43m(\u001b[49m\u001b[38;5;241;43m1\u001b[39;49m\u001b[43m)\u001b[49m\n\u001b[1;32m    553\u001b[0m Lpol \u001b[38;5;241m=\u001b[39m M[\u001b[38;5;241m0\u001b[39m]\u001b[38;5;241m.\u001b[39mchange_variable_name(\u001b[38;5;124m\"\u001b[39m\u001b[38;5;124my\u001b[39m\u001b[38;5;124m\"\u001b[39m)\n\u001b[1;32m    554\u001b[0m MtoL \u001b[38;5;241m=\u001b[39m M[\u001b[38;5;241m1\u001b[39m]\u001b[38;5;241m.\u001b[39mlift()\u001b[38;5;241m.\u001b[39mchange_variable_name(\u001b[38;5;124m\"\u001b[39m\u001b[38;5;124my\u001b[39m\u001b[38;5;124m\"\u001b[39m)\u001b[38;5;241m.\u001b[39mMod(Lpol)\n",
      "File \u001b[0;32mcypari2/auto_gen.pxi:27790\u001b[0m, in \u001b[0;36mcypari2.gen.Gen_base.polredbest\u001b[0;34m()\u001b[0m\n",
      "\u001b[0;31mKeyboardInterrupt\u001b[0m: "
     ]
    }
   ],
   "source": [
    "#form relative exrtension M. attempt to compute Galois group\n",
    "#for a splitting field L, we should have [L:K] = |Gal(L/K)|\n",
    "M.<b> = K.extension(U_dft.charpoly()); M.galois_group().order()"
   ]
  },
  {
   "cell_type": "code",
   "execution_count": 117,
   "id": "03ac8709-d76a-417c-bae5-050e29b1d73e",
   "metadata": {},
   "outputs": [
    {
     "name": "stdout",
     "output_type": "stream",
     "text": [
      "192\n",
      "48\n"
     ]
    }
   ],
   "source": [
    "#galois_group() appears to be the absolute version\n",
    "#NOTE: for a splitting field L, we should have [L:K] = |Gal(L/K)|\n",
    "#the relative degree is [L:K] = [L:|Q]/[K:\\Q]\n",
    "if L != L.algebraic_closure():\n",
    "    L_deg = L.absolute_degree(); print(L_deg)\n",
    "    rel_deg = L_deg/K.absolute_degree(); print(rel_deg)"
   ]
  },
  {
   "cell_type": "code",
   "execution_count": 118,
   "id": "c019b331-f022-4289-a311-c76c0cb9a4eb",
   "metadata": {},
   "outputs": [
    {
     "data": {
      "text/plain": [
       "True"
      ]
     },
     "execution_count": 118,
     "metadata": {},
     "output_type": "execute_result"
    }
   ],
   "source": [
    "#look at all subgroups of order [L:K] in S_d where d is the degree of the polynomial\n",
    "#for n=3, [L:K] = 48 and it appears there is exactly one subgroup of order 48 up to isomorphism\n",
    "poly_deg = U_dft.charpoly().degree()\n",
    "subgroups_order_rel_deg_in_sym = [H for H in SymmetricGroup(poly_deg).subgroups() if H.order() == rel_deg]\n",
    "all([subgroups_order_rel_deg_in_sym[0].is_isomorphic(H) for H  in subgroups_order_rel_deg_in_sym])"
   ]
  },
  {
   "cell_type": "code",
   "execution_count": 119,
   "id": "248ad9f8-d64c-40b6-88b9-d7a23f4a0313",
   "metadata": {},
   "outputs": [
    {
     "name": "stdout",
     "output_type": "stream",
     "text": [
      "Cannot express eigenvalues in terms of radicals since polynomial is a quintic or above.\n"
     ]
    }
   ],
   "source": [
    "#one can factor the polynomial over a splitting field L/K\n",
    "#but there is no way to express the roots of a quintic in terms of radicals\n",
    "try:\n",
    "    eigs = matrix(L,U_dft).eigenvalues(extend=False)\n",
    "except TypeError:\n",
    "    print(\"Cannot express eigenvalues in terms of radicals since polynomial is a quintic or above.\")"
   ]
  },
  {
   "cell_type": "code",
   "execution_count": 120,
   "id": "c2e92da4-6440-448b-9211-15aa8ddec3f4",
   "metadata": {},
   "outputs": [
    {
     "data": {
      "text/plain": [
       "[-0.9865699009578278? - 0.1633396171296542?*I, -0.9865699009578278? + 0.1633396171296542?*I, -0.5437444089082021? - 0.8392508670124029?*I, -0.5437444089082021? + 0.8392508670124029?*I, 0.9916391752712170? - 0.1290416447020912?*I, 0.9916391752712170? + 0.1290416447020912?*I]"
      ]
     },
     "execution_count": 120,
     "metadata": {},
     "output_type": "execute_result"
    }
   ],
   "source": [
    "eigs"
   ]
  },
  {
   "cell_type": "code",
   "execution_count": 121,
   "id": "94ad338a-c3a4-4226-8378-58516d570241",
   "metadata": {},
   "outputs": [
    {
     "data": {
      "text/plain": [
       "[-2.9775, 2.9775, -2.1457, 2.1457, -0.12940, 0.12940]"
      ]
     },
     "execution_count": 121,
     "metadata": {},
     "output_type": "execute_result"
    }
   ],
   "source": [
    "[arg(eig).n(20) for eig in eigs]"
   ]
  },
  {
   "cell_type": "code",
   "execution_count": 122,
   "id": "9800ad85-ec1c-40fb-bec4-a8d44f63c548",
   "metadata": {},
   "outputs": [
    {
     "data": {
      "text/plain": [
       "x^24 + 2*x^23 - 1/2*x^22 - 17/6*x^21 - 215/144*x^20 - 1/6*x^19 + 509/216*x^18 + 11/3*x^17 - 35/1296*x^16 - 139/54*x^15 - 1483/648*x^14 + 7/18*x^13 + 155/54*x^12 + 7/18*x^11 - 1483/648*x^10 - 139/54*x^9 - 35/1296*x^8 + 11/3*x^7 + 509/216*x^6 - 1/6*x^5 - 215/144*x^4 - 17/6*x^3 - 1/2*x^2 + 2*x + 1"
      ]
     },
     "execution_count": 122,
     "metadata": {},
     "output_type": "execute_result"
    }
   ],
   "source": [
    "eigs[0].minpoly()"
   ]
  },
  {
   "cell_type": "code",
   "execution_count": 127,
   "id": "11c97a76-d606-40db-a38e-fb0350836904",
   "metadata": {},
   "outputs": [
    {
     "data": {
      "text/plain": [
       "(-213828613/1679616*sqrt2 + 85996015/69984)*sqrt3 + 348251435/62208*sqrt2 - 33598899709/3359232"
      ]
     },
     "execution_count": 127,
     "metadata": {},
     "output_type": "execute_result"
    }
   ],
   "source": [
    "U_dft.charpoly().discriminant()"
   ]
  },
  {
   "cell_type": "code",
   "execution_count": 144,
   "id": "29767fbd-6c2a-4671-b91c-a9d452956713",
   "metadata": {},
   "outputs": [
    {
     "data": {
      "text/plain": [
       "sqrt3"
      ]
     },
     "execution_count": 144,
     "metadata": {},
     "output_type": "execute_result"
    }
   ],
   "source": [
    "-sqrt(K(3))"
   ]
  },
  {
   "cell_type": "code",
   "execution_count": 141,
   "id": "325e2a40-277e-4c61-921d-58005e982e94",
   "metadata": {},
   "outputs": [
    {
     "data": {
      "text/plain": [
       "-268.443660911799"
      ]
     },
     "execution_count": 141,
     "metadata": {},
     "output_type": "execute_result"
    }
   ],
   "source": [
    "((-213828613/1679616*(sqrt(2)) + 85996015/69984)*(sqrt(3)) + 348251435/62208*(sqrt(2)) - 33598899709/3359232).n()"
   ]
  },
  {
   "cell_type": "code",
   "execution_count": null,
   "id": "14cbad6c-4016-4b14-9ce0-415b9d90f2c1",
   "metadata": {},
   "outputs": [],
   "source": [
    "#n=3: two real, two complex\n",
    "#n=4: all complex\n",
    "#the magnitude is not 1, they're closely grouped around 2 or 3"
   ]
  },
  {
   "cell_type": "code",
   "execution_count": null,
   "id": "33046e01-08a6-4324-9c30-d908bf1c2256",
   "metadata": {},
   "outputs": [],
   "source": [
    "SGA_dft.base_ring()"
   ]
  },
  {
   "cell_type": "code",
   "execution_count": null,
   "id": "2caebbde-e05f-416d-a06f-b1d8d8c53ebb",
   "metadata": {},
   "outputs": [],
   "source": [
    "SGA_eigs = SGA_dft.eigenvalues(); SGA_eigs"
   ]
  },
  {
   "cell_type": "code",
   "execution_count": null,
   "id": "edb1c420-f44a-4cb3-9fb3-2ffa17dee539",
   "metadata": {},
   "outputs": [],
   "source": [
    "[abs(eig) for eig in SGA_eigs]"
   ]
  },
  {
   "cell_type": "code",
   "execution_count": null,
   "id": "65cb3bc4-b509-4b7b-81d7-da293174d156",
   "metadata": {},
   "outputs": [],
   "source": [
    "SGA_eigs[0].minpoly()"
   ]
  },
  {
   "cell_type": "code",
   "execution_count": null,
   "id": "5a48909b-3b9a-437c-a778-e81f28f3735b",
   "metadata": {},
   "outputs": [],
   "source": [
    "#note that the singluar values are the square roots of the diagonal entries of the Gram matrix\n",
    "print(SymmetricGroup(n).algebra(CDF).dft().SVD()[1].numpy().diagonal())\n",
    "print(sqrt((SGA_dft*SGA_dft.transpose()).numpy().diagonal()))"
   ]
  }
 ],
 "metadata": {
  "kernelspec": {
   "display_name": "SageMath 10.3",
   "language": "sage",
   "name": "sagemath-10.3"
  },
  "language_info": {
   "codemirror_mode": {
    "name": "ipython",
    "version": 3
   },
   "file_extension": ".py",
   "mimetype": "text/x-python",
   "name": "python",
   "nbconvert_exporter": "python",
   "pygments_lexer": "ipython3",
   "version": "3.11.1"
  }
 },
 "nbformat": 4,
 "nbformat_minor": 5
}
