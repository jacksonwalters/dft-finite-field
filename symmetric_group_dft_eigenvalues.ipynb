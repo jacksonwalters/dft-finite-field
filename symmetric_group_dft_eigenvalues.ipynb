{
 "cells": [
  {
   "cell_type": "code",
   "execution_count": 44,
   "id": "e5fa7439-9967-496e-b27a-6c2564f7f9ca",
   "metadata": {},
   "outputs": [],
   "source": [
    "#define a new DFT which is unitary\n",
    "#NOTE: in Beals' ['97] he normalizes by \\sqrt{d_\\lambda/n!}\n",
    "#but also notes that a basis change is an equivalence relation on rep'ns\n",
    "#and each equivalence class contains a unitary representatione\n",
    "#if each rep'n \\rho \\in \\hat{G} is unitary, then the transformation is unitary\n",
    "#these representations are not unitary\n",
    "#to make them unitary, use Weyl's unitary trick\n",
    "#OPTION 1: use the formula P = \\int_G \\rho(g)\\rho(g)^* dg, and take a square root to find Q s.t. P = Q^2\n",
    "#OPTION 2: define a new invariant inner product compute an orthonormal basis by computing the Gram matrix A and using A.gram_schmidt()"
   ]
  },
  {
   "cell_type": "code",
   "execution_count": 45,
   "id": "f4f39b63-d30d-445e-8cde-3ea75a3c64d3",
   "metadata": {},
   "outputs": [],
   "source": [
    "#compute a field which contains all the square roots required\n",
    "def containing_field(SGA):\n",
    "    required_square_roots = []\n",
    "    for partition in Partitions(SGA.group().degree()):\n",
    "        specht_module = SGA.specht_module(partition)\n",
    "        rho = specht_module.representation_matrix\n",
    "        group_size = SGA.group().cardinality()\n",
    "        P = (1/group_size)*sum(rho(g)*rho(g).conjugate().transpose() for g in SGA.group())\n",
    "        d, L = P.eigenmatrix_left()\n",
    "        required_square_roots += [specht_module.dimension(),SGA.group().cardinality()] + d.diagonal()\n",
    "    required_square_roots = flatten([[QQ(q).numerator(),QQ(q).denominator()] if q in QQ else q for q in required_square_roots])\n",
    "    K = SGA.base_ring()\n",
    "    for n in set(required_square_roots):\n",
    "        R = PolynomialRing(K, 'x')\n",
    "        x = R.gen()\n",
    "        if type(n) == Integer and (x**2-n).is_irreducible():\n",
    "            gen_name = \"sqrt\"+str(n).replace(\"/\",\"over\")\n",
    "            K = K.extension(x**2-n,names=gen_name)\n",
    "        #BUG: the required square roots are not all integers. some of them are algebraic numbers\n",
    "        if type(n) != Integer:\n",
    "            gen_name = \"deg\" + str(n.minpoly().degree()) + \"index\" + str(list(set(required_square_roots)).index(n))\n",
    "            if sqrt(n).minpoly().is_irreducible():\n",
    "                K = K.extension(sqrt(n).minpoly(),names=gen_name)\n",
    "    return K"
   ]
  },
  {
   "cell_type": "code",
   "execution_count": 46,
   "id": "ceef00d1-d036-4f68-b585-79fe3f1c6807",
   "metadata": {},
   "outputs": [],
   "source": [
    "#find the change-of-basis matrix Q making \\rho(g) unitary for all g \\in G\n",
    "from sage.matrix.special import diagonal_matrix\n",
    "from sage.misc.functional import sqrt\n",
    "def unitary_change_of_basis(SGA,partition,K):\n",
    "    rho = SGA.specht_module(partition).representation_matrix\n",
    "    group_size = SGA.group().cardinality()\n",
    "    P = (1/group_size)*sum(rho(g)*rho(g).conjugate().transpose() for g in SGA.group())\n",
    "    d, L = P.eigenmatrix_left()\n",
    "    return L.inverse() * diagonal_matrix([sqrt(K(a)) for a in d.diagonal()]) * L"
   ]
  },
  {
   "cell_type": "code",
   "execution_count": 47,
   "id": "aca07005-770f-4a0f-bd28-f6c3a5446787",
   "metadata": {},
   "outputs": [],
   "source": [
    "#define the Fourier coefficient at the representation specht_module\n",
    "#which is the Specht module corresponding to partition\n",
    "def hat(f,partition,SGA,K,unitary=False):\n",
    "    specht_module = SGA.specht_module(partition)\n",
    "    rho = specht_module.representation_matrix\n",
    "    if unitary:\n",
    "        Q = unitary_change_of_basis(SGA,partition,K)\n",
    "        unitary_factor = specht_module.dimension()/SGA.group().cardinality()\n",
    "        sqrt_unitary_factor = sqrt(K(unitary_factor))\n",
    "        return sqrt_unitary_factor*sum(f(g)*Q.inverse()*rho(g)*Q for g in SGA.group())\n",
    "    else:\n",
    "        return sum(f(g)*rho(g) for g in SGA.group())"
   ]
  },
  {
   "cell_type": "code",
   "execution_count": 48,
   "id": "dad4c039-cddd-4d55-8be4-09dff460fbb8",
   "metadata": {},
   "outputs": [],
   "source": [
    "#for each basis element g \\in G compute the Fourier coefficients \\hat{\\delta_g}(partition) for all partitions\n",
    "from sage.misc.flatten import flatten\n",
    "delta = lambda s: lambda t: 1 if t == s else 0 #delta function \\delta_s(t)\n",
    "def dft(SGA,unitary=False):\n",
    "    K = containing_field(SGA)\n",
    "    fourier_transform = [flatten([hat(delta(g),partition,SGA,K,unitary).list() for partition in Partitions(SGA.group().degree())]) for g in SGA.group()]\n",
    "    if unitary:\n",
    "        return matrix(K,fourier_transform).transpose()\n",
    "    else:\n",
    "        return matrix(fourier_transform).transpose()"
   ]
  },
  {
   "cell_type": "code",
   "execution_count": 49,
   "id": "1d123573-fd82-4429-aa0b-5737739e6473",
   "metadata": {},
   "outputs": [],
   "source": [
    "n = 4"
   ]
  },
  {
   "cell_type": "code",
   "execution_count": 74,
   "id": "279b49c8-3b66-4689-a755-26dce655f9d6",
   "metadata": {},
   "outputs": [
    {
     "data": {
      "text/plain": [
       "Symmetric group algebra of order 4 over Rational Field"
      ]
     },
     "execution_count": 74,
     "metadata": {},
     "output_type": "execute_result"
    }
   ],
   "source": [
    "SGA = SymmetricGroupAlgebra(QQ,n); SGA"
   ]
  },
  {
   "cell_type": "code",
   "execution_count": 75,
   "id": "8c2d8748-b9d5-4ed8-94e7-14daceb60e60",
   "metadata": {},
   "outputs": [
    {
     "data": {
      "text/plain": [
       "Number Field in sqrt3 with defining polynomial x^2 - 3 over its base field"
      ]
     },
     "execution_count": 75,
     "metadata": {},
     "output_type": "execute_result"
    }
   ],
   "source": [
    "K = containing_field(SGA); K"
   ]
  },
  {
   "cell_type": "code",
   "execution_count": 76,
   "id": "22df4b4d-2712-459f-bbf4-7336e8395d60",
   "metadata": {},
   "outputs": [
    {
     "data": {
      "text/plain": [
       "Number Field in sqrt2 with defining polynomial x^2 - 2"
      ]
     },
     "execution_count": 76,
     "metadata": {},
     "output_type": "execute_result"
    }
   ],
   "source": [
    "K.base_ring()"
   ]
  },
  {
   "cell_type": "code",
   "execution_count": 77,
   "id": "ddf55970-a7d3-4b70-aa14-6e2e1c3b3177",
   "metadata": {},
   "outputs": [
    {
     "data": {
      "text/plain": [
       "Standard permutations of 4"
      ]
     },
     "execution_count": 77,
     "metadata": {},
     "output_type": "execute_result"
    }
   ],
   "source": [
    "G = SGA.group(); G"
   ]
  },
  {
   "cell_type": "code",
   "execution_count": 78,
   "id": "1b2edd70-15e8-46b2-a4b8-b7b6e1a62f25",
   "metadata": {},
   "outputs": [
    {
     "data": {
      "text/plain": [
       "24 x 24 dense matrix over Rational Field (use the '.str()' method to see the entries)"
      ]
     },
     "execution_count": 78,
     "metadata": {},
     "output_type": "execute_result"
    }
   ],
   "source": [
    "SGA_dft = SGA.dft(); SGA_dft"
   ]
  },
  {
   "cell_type": "code",
   "execution_count": 79,
   "id": "6df6046c-68f4-4e02-8f54-e7fb57c47349",
   "metadata": {},
   "outputs": [
    {
     "data": {
      "text/plain": [
       "24 x 24 dense matrix over Rational Field (use the '.str()' method to see the entries)"
      ]
     },
     "execution_count": 79,
     "metadata": {},
     "output_type": "execute_result"
    }
   ],
   "source": [
    "#check if A*A^T == Id. it's not, but the columns are orthonormal\n",
    "SGA_dft*SGA_dft.transpose()"
   ]
  },
  {
   "cell_type": "code",
   "execution_count": 80,
   "id": "2503a178-95f8-470f-b4d8-d13c520df4fa",
   "metadata": {},
   "outputs": [
    {
     "data": {
      "text/plain": [
       "24 x 24 dense matrix over Number Field in sqrt3 with defining polynomial x^2 - 3 over its base field (use the '.str()' method to see the entries)"
      ]
     },
     "execution_count": 80,
     "metadata": {},
     "output_type": "execute_result"
    }
   ],
   "source": [
    "#compute the unitary DFT of the symmetric group algebra\n",
    "U_dft = dft(SGA,unitary=True); U_dft"
   ]
  },
  {
   "cell_type": "code",
   "execution_count": 81,
   "id": "cf96731b-2f63-449b-bcb9-88bd015d4dfd",
   "metadata": {},
   "outputs": [
    {
     "data": {
      "text/plain": [
       "24 x 24 dense matrix over Number Field in sqrt3 with defining polynomial x^2 - 3 over its base field (use the '.str()' method to see the entries)"
      ]
     },
     "execution_count": 81,
     "metadata": {},
     "output_type": "execute_result"
    }
   ],
   "source": [
    "U_dft*U_dft.conjugate().transpose()"
   ]
  },
  {
   "cell_type": "code",
   "execution_count": 82,
   "id": "8ba7dfc6-7632-4519-93a9-74680ed23263",
   "metadata": {},
   "outputs": [
    {
     "data": {
      "text/plain": [
       "True"
      ]
     },
     "execution_count": 82,
     "metadata": {},
     "output_type": "execute_result"
    }
   ],
   "source": [
    "#check that the DFT is unitary\n",
    "(U_dft*U_dft.transpose()) == identity_matrix(SGA.group().cardinality())"
   ]
  },
  {
   "cell_type": "code",
   "execution_count": 87,
   "id": "45e8804f-368c-49d1-b073-219eadd8f3ed",
   "metadata": {},
   "outputs": [],
   "source": [
    "#QUESTION: what are the eigenvalues?\n",
    "#for n=3, the minimal polynomial is degree 24 for the eigenvalues. [L:\\Q] = 192, [L:K] = |Gal(L/K)| = [L:\\Q]/[K:\\Q] = 192/4 = 48\n",
    "#there is only one subgroup of order 48 in S_6, S_2 x S_4. however, there is only one transitive permutation group, S_2 \\wr S_3\n",
    "#the eigenvalues are not roots of unity since min_poly(x) has rational coefficients and cyclotomic polynomials have integer coefficients"
   ]
  },
  {
   "cell_type": "code",
   "execution_count": 83,
   "id": "2a995534-79fe-4563-a07a-187cf2cfc77c",
   "metadata": {},
   "outputs": [
    {
     "data": {
      "text/plain": [
       "x^24 + (1/6*sqrt2*sqrt3 - 1/6*sqrt2)*x^23 + ((-1/54*sqrt2 - 17/54)*sqrt3 + 1/12*sqrt2 - 67/162)*x^22 + ((7/324*sqrt2 - 1/108)*sqrt3 + 91/486*sqrt2 - 17/108)*x^21 + ((343/2916*sqrt2 + 923/5832)*sqrt3 - 103/972*sqrt2 - 1697/2916)*x^20 + ((-623/1944*sqrt2 - 364/2187)*sqrt3 + 1579/17496*sqrt2 + 346/729)*x^19 + ((8159/104976*sqrt2 + 40559/104976)*sqrt3 - 8027/34992*sqrt2 - 7021/26244)*x^18 + ((-5363/314928*sqrt2 + 7459/104976)*sqrt3 + 2851/34992*sqrt2 + 23315/104976)*x^17 + ((-25231/314928*sqrt2 - 15109/104976)*sqrt3 + 12361/69984*sqrt2 + 1118/6561)*x^16 + ((1063/5832*sqrt2 + 15577/69984)*sqrt3 - 89153/629856*sqrt2 - 428785/629856)*x^15 + ((-11675/52488*sqrt2 - 84617/209952)*sqrt3 + 6545/26244*sqrt2 + 45113/69984)*x^14 + ((53225/629856*sqrt2 + 41077/629856)*sqrt3 - 15437/39366*sqrt2 - 4831/209952)*x^13 + ((-53225/629856*sqrt2 - 41077/629856)*sqrt3 + 15437/39366*sqrt2 + 4831/209952)*x^11 + ((11675/52488*sqrt2 + 84617/209952)*sqrt3 - 6545/26244*sqrt2 - 45113/69984)*x^10 + ((-1063/5832*sqrt2 - 15577/69984)*sqrt3 + 89153/629856*sqrt2 + 428785/629856)*x^9 + ((25231/314928*sqrt2 + 15109/104976)*sqrt3 - 12361/69984*sqrt2 - 1118/6561)*x^8 + ((5363/314928*sqrt2 - 7459/104976)*sqrt3 - 2851/34992*sqrt2 - 23315/104976)*x^7 + ((-8159/104976*sqrt2 - 40559/104976)*sqrt3 + 8027/34992*sqrt2 + 7021/26244)*x^6 + ((623/1944*sqrt2 + 364/2187)*sqrt3 - 1579/17496*sqrt2 - 346/729)*x^5 + ((-343/2916*sqrt2 - 923/5832)*sqrt3 + 103/972*sqrt2 + 1697/2916)*x^4 + ((-7/324*sqrt2 + 1/108)*sqrt3 - 91/486*sqrt2 + 17/108)*x^3 + ((1/54*sqrt2 + 17/54)*sqrt3 - 1/12*sqrt2 + 67/162)*x^2 + (-1/6*sqrt2*sqrt3 + 1/6*sqrt2)*x - 1"
      ]
     },
     "execution_count": 83,
     "metadata": {},
     "output_type": "execute_result"
    }
   ],
   "source": [
    "U_dft.charpoly()"
   ]
  },
  {
   "cell_type": "code",
   "execution_count": 61,
   "id": "077ce28b-5e2c-4b73-bfb0-70072c4e9452",
   "metadata": {},
   "outputs": [],
   "source": [
    "#ISSUE: the splitting field appears to be high degree, and the coefficients are large\n",
    "if len(U_dft.charpoly().factor()) != U_dft.charpoly().degree():\n",
    "    L.<a> = U_dft.charpoly().splitting_field(map=False); L\n",
    "else:\n",
    "    L = K"
   ]
  },
  {
   "cell_type": "code",
   "execution_count": 62,
   "id": "4db15c55-298b-4d11-bb87-bfc4989e98c3",
   "metadata": {},
   "outputs": [],
   "source": [
    "#galois_group() appears to be the absolute version\n",
    "#NOTE: for a splitting field L, we should have [L:K] = |Gal(L/K)|\n",
    "#the relative degree is [L:K] = [L:|Q]/[K:\\Q]\n",
    "if L != L.algebraic_closure():\n",
    "    L_deg = L.absolute_degree(); print(L_deg)\n",
    "    rel_deg = L_deg/K.absolute_degree(); print(rel_deg)"
   ]
  },
  {
   "cell_type": "code",
   "execution_count": 63,
   "id": "4f74a4a1-a5d8-4481-81f4-ad01cc2df694",
   "metadata": {},
   "outputs": [
    {
     "name": "stdout",
     "output_type": "stream",
     "text": [
      "PARI stack size set to 10000000000 bytes, maximum size set to 10000007168\n"
     ]
    },
    {
     "data": {
      "text/plain": [
       "10000000000"
      ]
     },
     "execution_count": 63,
     "metadata": {},
     "output_type": "execute_result"
    }
   ],
   "source": [
    "#getting PARI stack size error\n",
    "pari.allocatemem(10^10)\n",
    "pari.stacksize()"
   ]
  },
  {
   "cell_type": "code",
   "execution_count": 64,
   "id": "f3e7ef8d-86fc-4303-9f89-99897a623e2d",
   "metadata": {},
   "outputs": [],
   "source": [
    "#form relative exrtension M. attempt to compute Galois group\n",
    "#for a splitting field L, we should have [L:K] = |Gal(L/K)|\n",
    "if U_dft.charpoly().is_irreducible():\n",
    "    M.<b> = K.extension(U_dft.charpoly()); M"
   ]
  },
  {
   "cell_type": "code",
   "execution_count": 65,
   "id": "c019b331-f022-4289-a311-c76c0cb9a4eb",
   "metadata": {},
   "outputs": [
    {
     "data": {
      "text/plain": [
       "True"
      ]
     },
     "execution_count": 65,
     "metadata": {},
     "output_type": "execute_result"
    }
   ],
   "source": [
    "#look at all subgroups of order [L:K] in S_d where d is the degree of the polynomial\n",
    "#for n=3, [L:K] = 48 and it appears there is exactly one subgroup of order 48 up to isomorphism\n",
    "subgroups_order_48_in_sym = [H for H in SymmetricGroup(6).subgroups() if H.order() == 48]\n",
    "all([subgroups_order_48_in_sym[0].is_isomorphic(H) for H in subgroups_order_48_in_sym])"
   ]
  },
  {
   "cell_type": "code",
   "execution_count": 66,
   "id": "248ad9f8-d64c-40b6-88b9-d7a23f4a0313",
   "metadata": {},
   "outputs": [],
   "source": [
    "#one can factor the polynomial over a splitting field L/K\n",
    "#but there is no way to express the roots of a quintic in terms of radicals\n",
    "try:\n",
    "    eigs = matrix(L,U_dft).eigenvalues(extend=False)\n",
    "except TypeError:\n",
    "    print(\"Cannot express eigenvalues in terms of radicals since polynomial is a quintic or above.\")"
   ]
  },
  {
   "cell_type": "code",
   "execution_count": 84,
   "id": "c2e92da4-6440-448b-9211-15aa8ddec3f4",
   "metadata": {},
   "outputs": [
    {
     "data": {
      "text/plain": [
       "[-1, 1, -0.9824456136768473? - 0.1865492325557063?*I, -0.9824456136768473? + 0.1865492325557063?*I, -0.8985365719703156? - 0.4388986543973836?*I, -0.8985365719703156? + 0.4388986543973836?*I, -0.7578648392050981? - 0.6524115920924694?*I, -0.7578648392050981? + 0.6524115920924694?*I, -0.4633311957343842? - 0.8861851968179935?*I, -0.4633311957343842? + 0.8861851968179935?*I, -0.2805792598087796? - 0.9598308595607651?*I, -0.2805792598087796? + 0.9598308595607651?*I, -0.03584488349997613? - 0.9993573656739981?*I, -0.03584488349997613? + 0.9993573656739981?*I, 0.2574814524105171? - 0.9662832409105369?*I, 0.2574814524105171? + 0.9662832409105369?*I, 0.5606995539799094? - 0.8280193295852039?*I, 0.5606995539799094? + 0.8280193295852039?*I, 0.7835078863685053? - 0.6213818407375271?*I, 0.7835078863685053? + 0.6213818407375271?*I, 0.9104280922597108? - 0.4136673649495976?*I, 0.9104280922597108? + 0.4136673649495976?*I, 0.9927583939109320? - 0.1201281454089212?*I, 0.9927583939109320? + 0.1201281454089212?*I]"
      ]
     },
     "execution_count": 84,
     "metadata": {},
     "output_type": "execute_result"
    }
   ],
   "source": [
    "eigs"
   ]
  },
  {
   "cell_type": "code",
   "execution_count": 68,
   "id": "94ad338a-c3a4-4226-8378-58516d570241",
   "metadata": {},
   "outputs": [
    {
     "data": {
      "text/plain": [
       "[3.1416,\n",
       " 0.00000,\n",
       " -2.9539,\n",
       " 2.9539,\n",
       " -2.6872,\n",
       " 2.6872,\n",
       " -2.4308,\n",
       " 2.4308,\n",
       " -2.0525,\n",
       " 2.0525,\n",
       " -1.8552,\n",
       " 1.8552,\n",
       " -1.6066,\n",
       " 1.6066,\n",
       " -1.3104,\n",
       " 1.3104,\n",
       " -0.97557,\n",
       " 0.97557,\n",
       " -0.67051,\n",
       " 0.67051,\n",
       " -0.42648,\n",
       " 0.42648,\n",
       " -0.12042,\n",
       " 0.12042]"
      ]
     },
     "execution_count": 68,
     "metadata": {},
     "output_type": "execute_result"
    }
   ],
   "source": [
    "[arg(eig).n(20) for eig in eigs]"
   ]
  },
  {
   "cell_type": "code",
   "execution_count": 86,
   "id": "9800ad85-ec1c-40fb-bec4-a8d44f63c548",
   "metadata": {},
   "outputs": [
    {
     "data": {
      "text/plain": [
       "x^88 + 154/81*x^86 + 4/9*x^85 + 5597/8748*x^84 + 248/2187*x^83 - 2773199/2125764*x^82 - 1897717/1417176*x^81 - 3732141845/2754990144*x^80 - 237459079/229582512*x^79 + 78024409/57395628*x^78 + 7743151099/24794911296*x^77 + 3412339717271/892616806656*x^76 + 122365220207/148769467776*x^75 + 12168324306991/8033551259904*x^74 - 6788090639645/5355700839936*x^73 - 83997881282737/42845606719488*x^72 - 1180361015890277/289207845356544*x^71 - 6330087081239947/5205741216417792*x^70 - 6218789334662/2541865828329*x^69 + 59743233908274259/20822964865671168*x^68 + 44923604592040819/31234447298506752*x^67 + 11793908356546037861/1686660154119364608*x^66 + 1889157075119241847/843330077059682304*x^65 + 540922048873901641909/121439531096594251776*x^64 - 412750056499802291/843330077059682304*x^63 - 27555164348880807001/22769912080611422208*x^62 - 891138369272084145617/182159296644891377664*x^61 - 2625232068490205412665/1092955779869348265984*x^60 - 2620420202684848659251/546477889934674132992*x^59 + 1466976352952397489973/1092955779869348265984*x^58 - 35152363191913873097/1092955779869348265984*x^57 + 10121076494143306244323/1457274373159131021312*x^56 + 3384373943955580350575/3278867339608044797952*x^55 + 5424409902913734006091/728637186579565510656*x^54 - 4638465181196457174575/3278867339608044797952*x^53 + 1049367619516883106619/614787626176508399616*x^52 - 18761893728029633255479/3278867339608044797952*x^51 - 476795947915433228015/273238944967337066496*x^50 - 6823762183317029471569/1092955779869348265984*x^49 - 7915562737680462799/60719765548297125888*x^48 - 5616311359230190499179/3278867339608044797952*x^47 + 32989499729157476286587/6557734679216089595904*x^46 + 56981552093511701953/51232302181375699968*x^45 + 177821353026634043582257/19673204037648268787712*x^44 + 56981552093511701953/51232302181375699968*x^43 + 32989499729157476286587/6557734679216089595904*x^42 - 5616311359230190499179/3278867339608044797952*x^41 - 7915562737680462799/60719765548297125888*x^40 - 6823762183317029471569/1092955779869348265984*x^39 - 476795947915433228015/273238944967337066496*x^38 - 18761893728029633255479/3278867339608044797952*x^37 + 1049367619516883106619/614787626176508399616*x^36 - 4638465181196457174575/3278867339608044797952*x^35 + 5424409902913734006091/728637186579565510656*x^34 + 3384373943955580350575/3278867339608044797952*x^33 + 10121076494143306244323/1457274373159131021312*x^32 - 35152363191913873097/1092955779869348265984*x^31 + 1466976352952397489973/1092955779869348265984*x^30 - 2620420202684848659251/546477889934674132992*x^29 - 2625232068490205412665/1092955779869348265984*x^28 - 891138369272084145617/182159296644891377664*x^27 - 27555164348880807001/22769912080611422208*x^26 - 412750056499802291/843330077059682304*x^25 + 540922048873901641909/121439531096594251776*x^24 + 1889157075119241847/843330077059682304*x^23 + 11793908356546037861/1686660154119364608*x^22 + 44923604592040819/31234447298506752*x^21 + 59743233908274259/20822964865671168*x^20 - 6218789334662/2541865828329*x^19 - 6330087081239947/5205741216417792*x^18 - 1180361015890277/289207845356544*x^17 - 83997881282737/42845606719488*x^16 - 6788090639645/5355700839936*x^15 + 12168324306991/8033551259904*x^14 + 122365220207/148769467776*x^13 + 3412339717271/892616806656*x^12 + 7743151099/24794911296*x^11 + 78024409/57395628*x^10 - 237459079/229582512*x^9 - 3732141845/2754990144*x^8 - 1897717/1417176*x^7 - 2773199/2125764*x^6 + 248/2187*x^5 + 5597/8748*x^4 + 4/9*x^3 + 154/81*x^2 + 1"
      ]
     },
     "execution_count": 86,
     "metadata": {},
     "output_type": "execute_result"
    }
   ],
   "source": [
    "eigs[4].minpoly()"
   ]
  },
  {
   "cell_type": "code",
   "execution_count": 70,
   "id": "11c97a76-d606-40db-a38e-fb0350836904",
   "metadata": {},
   "outputs": [
    {
     "ename": "KeyboardInterrupt",
     "evalue": "",
     "output_type": "error",
     "traceback": [
      "\u001b[0;31m---------------------------------------------------------------------------\u001b[0m",
      "\u001b[0;31mPariError\u001b[0m                                 Traceback (most recent call last)",
      "File \u001b[0;32m/private/var/tmp/sage-10.3-current/local/var/lib/sage/venv-python3.11.1/lib/python3.11/site-packages/sage/rings/polynomial/polynomial_element.pyx:7341\u001b[0m, in \u001b[0;36msage.rings.polynomial.polynomial_element.Polynomial.resultant (build/cythonized/sage/rings/polynomial/polynomial_element.c:73656)\u001b[0;34m()\u001b[0m\n\u001b[1;32m   7340\u001b[0m try:\n\u001b[0;32m-> 7341\u001b[0m     res = self.__pari__().polresultant(other, variable)\n\u001b[1;32m   7342\u001b[0m     return self._parent.base_ring()(res)\n",
      "File \u001b[0;32m/private/var/tmp/sage-10.3-current/local/var/lib/sage/venv-python3.11.1/lib/python3.11/site-packages/sage/rings/polynomial/polynomial_element.pyx:7037\u001b[0m, in \u001b[0;36msage.rings.polynomial.polynomial_element.Polynomial.__pari__ (build/cythonized/sage/rings/polynomial/polynomial_element.c:71340)\u001b[0;34m()\u001b[0m\n\u001b[1;32m   7036\u001b[0m \"\"\"\n\u001b[0;32m-> 7037\u001b[0m return self._pari_with_name(self._parent.variable_name())\n\u001b[1;32m   7038\u001b[0m \n",
      "File \u001b[0;32m/private/var/tmp/sage-10.3-current/local/var/lib/sage/venv-python3.11.1/lib/python3.11/site-packages/sage/rings/polynomial/polynomial_element.pyx:7091\u001b[0m, in \u001b[0;36msage.rings.polynomial.polynomial_element.Polynomial._pari_with_name (build/cythonized/sage/rings/polynomial/polynomial_element.c:71865)\u001b[0;34m()\u001b[0m\n\u001b[1;32m   7090\u001b[0m \"\"\"\n\u001b[0;32m-> 7091\u001b[0m vals = [x.__pari__() for x in self.list()]\n\u001b[1;32m   7092\u001b[0m return pari(vals).Polrev(name)\n",
      "File \u001b[0;32m/private/var/tmp/sage-10.3-current/local/var/lib/sage/venv-python3.11.1/lib/python3.11/site-packages/sage/structure/sage_object.pyx:982\u001b[0m, in \u001b[0;36msage.structure.sage_object.SageObject.__pari__ (build/cythonized/sage/structure/sage_object.c:14808)\u001b[0;34m()\u001b[0m\n\u001b[1;32m    981\u001b[0m from sage.libs.pari.all import pari\n\u001b[0;32m--> 982\u001b[0m x = pari(self._pari_init_())\n\u001b[1;32m    983\u001b[0m if self._interface_is_cached_():\n",
      "File \u001b[0;32mcypari2/pari_instance.pyx:841\u001b[0m, in \u001b[0;36mcypari2.pari_instance.Pari.__call__\u001b[0;34m()\u001b[0m\n",
      "File \u001b[0;32mcypari2/gen.pyx:4813\u001b[0m, in \u001b[0;36mcypari2.gen.objtogen\u001b[0;34m()\u001b[0m\n",
      "File \u001b[0;32mcypari2/convert.pyx:547\u001b[0m, in \u001b[0;36mcypari2.convert.PyObject_AsGEN\u001b[0;34m()\u001b[0m\n",
      "File \u001b[0;32mcypari2/handle_error.pyx:213\u001b[0m, in \u001b[0;36mcypari2.handle_error._pari_err_handle\u001b[0;34m()\u001b[0m\n",
      "\u001b[0;31mPariError\u001b[0m: syntax error, unexpected invalid token, expecting end of file",
      "\nDuring handling of the above exception, another exception occurred:\n",
      "\u001b[0;31mKeyboardInterrupt\u001b[0m                         Traceback (most recent call last)",
      "Cell \u001b[0;32mIn[70], line 1\u001b[0m\n\u001b[0;32m----> 1\u001b[0m \u001b[43mU_dft\u001b[49m\u001b[38;5;241;43m.\u001b[39;49m\u001b[43mcharpoly\u001b[49m\u001b[43m(\u001b[49m\u001b[43m)\u001b[49m\u001b[38;5;241;43m.\u001b[39;49m\u001b[43mdiscriminant\u001b[49m\u001b[43m(\u001b[49m\u001b[43m)\u001b[49m\n",
      "File \u001b[0;32m/private/var/tmp/sage-10.3-current/local/var/lib/sage/venv-python3.11.1/lib/python3.11/site-packages/sage/rings/polynomial/polynomial_element.pyx:8015\u001b[0m, in \u001b[0;36msage.rings.polynomial.polynomial_element.Polynomial.discriminant (build/cythonized/sage/rings/polynomial/polynomial_element.c:82343)\u001b[0;34m()\u001b[0m\n\u001b[1;32m   8013\u001b[0m         return u * mat.determinant()\n\u001b[1;32m   8014\u001b[0m     else:\n\u001b[0;32m-> 8015\u001b[0m         return base_ring(u * self.resultant(d) * an)\n\u001b[1;32m   8016\u001b[0m \n\u001b[1;32m   8017\u001b[0m def reverse(self, degree=None):\n",
      "File \u001b[0;32m/private/var/tmp/sage-10.3-current/local/var/lib/sage/venv-python3.11.1/lib/python3.11/site-packages/sage/structure/element.pyx:4680\u001b[0m, in \u001b[0;36msage.structure.element.coerce_binop.new_method (build/cythonized/sage/structure/element.c:41130)\u001b[0;34m()\u001b[0m\n\u001b[1;32m   4678\u001b[0m def new_method(self, other, *args, **kwargs):\n\u001b[1;32m   4679\u001b[0m     if have_same_parent(self, other):\n\u001b[0;32m-> 4680\u001b[0m         return method(self, other, *args, **kwargs)\n\u001b[1;32m   4681\u001b[0m     else:\n\u001b[1;32m   4682\u001b[0m         a, b = coercion_model.canonical_coercion(self, other)\n",
      "File \u001b[0;32m/private/var/tmp/sage-10.3-current/local/var/lib/sage/venv-python3.11.1/lib/python3.11/site-packages/sage/rings/polynomial/polynomial_element.pyx:7344\u001b[0m, in \u001b[0;36msage.rings.polynomial.polynomial_element.Polynomial.resultant (build/cythonized/sage/rings/polynomial/polynomial_element.c:73834)\u001b[0;34m()\u001b[0m\n\u001b[1;32m   7342\u001b[0m         return self._parent.base_ring()(res)\n\u001b[1;32m   7343\u001b[0m     except (TypeError, ValueError, PariError, NotImplementedError):\n\u001b[0;32m-> 7344\u001b[0m         return self.sylvester_matrix(other).det()\n\u001b[1;32m   7345\u001b[0m \n\u001b[1;32m   7346\u001b[0m @coerce_binop\n",
      "File \u001b[0;32m/private/var/tmp/sage-10.3-current/local/var/lib/sage/venv-python3.11.1/lib/python3.11/site-packages/sage/matrix/matrix2.pyx:1982\u001b[0m, in \u001b[0;36msage.matrix.matrix2.Matrix.det (build/cythonized/sage/matrix/matrix2.c:23363)\u001b[0;34m()\u001b[0m\n\u001b[1;32m   1980\u001b[0m         6\n\u001b[1;32m   1981\u001b[0m     \"\"\"\n\u001b[0;32m-> 1982\u001b[0m     return self.determinant(*args, **kwds)\n\u001b[1;32m   1983\u001b[0m \n\u001b[1;32m   1984\u001b[0m def determinant(self, algorithm=None):\n",
      "File \u001b[0;32m/private/var/tmp/sage-10.3-current/local/var/lib/sage/venv-python3.11.1/lib/python3.11/site-packages/sage/matrix/matrix2.pyx:2170\u001b[0m, in \u001b[0;36msage.matrix.matrix2.Matrix.determinant (build/cythonized/sage/matrix/matrix2.c:24801)\u001b[0;34m()\u001b[0m\n\u001b[1;32m   2168\u001b[0m if (algorithm is None and R in _Fields and R.is_exact()) or (algorithm == \"hessenberg\"):\n\u001b[1;32m   2169\u001b[0m     try:\n\u001b[0;32m-> 2170\u001b[0m         charp = self.charpoly('x', algorithm=\"hessenberg\")\n\u001b[1;32m   2171\u001b[0m     except ValueError:\n\u001b[1;32m   2172\u001b[0m         # Hessenberg algorithm not supported, so we use whatever the default algorithm is.\n",
      "File \u001b[0;32m/private/var/tmp/sage-10.3-current/local/var/lib/sage/venv-python3.11.1/lib/python3.11/site-packages/sage/matrix/matrix2.pyx:3094\u001b[0m, in \u001b[0;36msage.matrix.matrix2.Matrix.charpoly (build/cythonized/sage/matrix/matrix2.c:32857)\u001b[0;34m()\u001b[0m\n\u001b[1;32m   3092\u001b[0m else:\n\u001b[1;32m   3093\u001b[0m     if algorithm == \"hessenberg\":\n\u001b[0;32m-> 3094\u001b[0m         f = self._charpoly_hessenberg(var)\n\u001b[1;32m   3095\u001b[0m     elif algorithm == \"df\":\n\u001b[1;32m   3096\u001b[0m         f = self._charpoly_df(var)\n",
      "File \u001b[0;32m/private/var/tmp/sage-10.3-current/local/var/lib/sage/venv-python3.11.1/lib/python3.11/site-packages/sage/matrix/matrix2.pyx:3616\u001b[0m, in \u001b[0;36msage.matrix.matrix2.Matrix._charpoly_hessenberg (build/cythonized/sage/matrix/matrix2.c:37603)\u001b[0;34m()\u001b[0m\n\u001b[1;32m   3614\u001b[0m # (note the entries might now live in the fraction field)\n\u001b[1;32m   3615\u001b[0m cdef Matrix H\n\u001b[0;32m-> 3616\u001b[0m H = self.hessenberg_form()\n\u001b[1;32m   3617\u001b[0m \n\u001b[1;32m   3618\u001b[0m # We represent the intermediate polynomials that come up in\n",
      "File \u001b[0;32m/private/var/tmp/sage-10.3-current/local/var/lib/sage/venv-python3.11.1/lib/python3.11/site-packages/sage/matrix/matrix2.pyx:3483\u001b[0m, in \u001b[0;36msage.matrix.matrix2.Matrix.hessenberg_form (build/cythonized/sage/matrix/matrix2.c:36552)\u001b[0;34m()\u001b[0m\n\u001b[1;32m   3481\u001b[0m else:\n\u001b[1;32m   3482\u001b[0m     H = self.__copy__()\n\u001b[0;32m-> 3483\u001b[0m     H.hessenbergize()\n\u001b[1;32m   3484\u001b[0m # end if\n\u001b[1;32m   3485\u001b[0m self.cache('hessenberg_form', H)\n",
      "File \u001b[0;32m/private/var/tmp/sage-10.3-current/local/var/lib/sage/venv-python3.11.1/lib/python3.11/site-packages/sage/matrix/matrix2.pyx:3579\u001b[0m, in \u001b[0;36msage.matrix.matrix2.Matrix.hessenbergize (build/cythonized/sage/matrix/matrix2.c:37287)\u001b[0;34m()\u001b[0m\n\u001b[1;32m   3577\u001b[0m                 # column m, and we're only worried about column m-1 right now.\n\u001b[1;32m   3578\u001b[0m                 # Add u*column_j to column_m.\n\u001b[0;32m-> 3579\u001b[0m                 self.add_multiple_of_column_c(m, j, u, 0)\n\u001b[1;32m   3580\u001b[0m verbose(f\"Finished Hessenberg Normal Form of {n}x{n} matrix\",\n\u001b[1;32m   3581\u001b[0m         level=2, t=tm)\n",
      "File \u001b[0;32m/private/var/tmp/sage-10.3-current/local/var/lib/sage/venv-python3.11.1/lib/python3.11/site-packages/sage/matrix/matrix0.pyx:3041\u001b[0m, in \u001b[0;36msage.matrix.matrix0.Matrix.add_multiple_of_column_c (build/cythonized/sage/matrix/matrix0.c:28158)\u001b[0;34m()\u001b[0m\n\u001b[1;32m   3039\u001b[0m     cdef Py_ssize_t r\n\u001b[1;32m   3040\u001b[0m     for r from start_row <= r < self._nrows:\n\u001b[0;32m-> 3041\u001b[0m         self.set_unsafe(r, i, self.get_unsafe(r, i) + s*self.get_unsafe(r, j))\n\u001b[1;32m   3042\u001b[0m \n\u001b[1;32m   3043\u001b[0m def with_added_multiple_of_column(self, Py_ssize_t i, Py_ssize_t j, s, Py_ssize_t start_row=0):\n",
      "File \u001b[0;32m/private/var/tmp/sage-10.3-current/local/var/lib/sage/venv-python3.11.1/lib/python3.11/site-packages/sage/structure/element.pyx:1218\u001b[0m, in \u001b[0;36msage.structure.element.Element.__add__ (build/cythonized/sage/structure/element.c:18786)\u001b[0;34m()\u001b[0m\n\u001b[1;32m   1216\u001b[0m cdef int cl = classify_elements(left, right)\n\u001b[1;32m   1217\u001b[0m if HAVE_SAME_PARENT(cl):\n\u001b[0;32m-> 1218\u001b[0m     return (<Element>left)._add_(right)\n\u001b[1;32m   1219\u001b[0m # Left and right are Sage elements => use coercion model\n\u001b[1;32m   1220\u001b[0m if BOTH_ARE_ELEMENT(cl):\n",
      "File \u001b[0;32m/private/var/tmp/sage-10.3-current/local/var/lib/sage/venv-python3.11.1/lib/python3.11/site-packages/sage/structure/element.pyx:2370\u001b[0m, in \u001b[0;36msage.structure.element.ModuleElement._add_ (build/cythonized/sage/structure/element.c:23596)\u001b[0;34m()\u001b[0m\n\u001b[1;32m   2368\u001b[0m Generic element of a module.\n\u001b[1;32m   2369\u001b[0m \"\"\"\n\u001b[0;32m-> 2370\u001b[0m cpdef _add_(self, other) noexcept:\n\u001b[1;32m   2371\u001b[0m     \"\"\"\n\u001b[1;32m   2372\u001b[0m     Abstract addition method\n",
      "File \u001b[0;32m/private/var/tmp/sage-10.3-current/local/var/lib/sage/venv-python3.11.1/lib/python3.11/site-packages/sage/rings/qqbar.py:3910\u001b[0m, in \u001b[0;36mAlgebraicNumber_base._add_\u001b[0;34m(self, other)\u001b[0m\n\u001b[1;32m   3908\u001b[0m sk \u001b[38;5;241m=\u001b[39m \u001b[38;5;28mtype\u001b[39m(\u001b[38;5;28mself\u001b[39m\u001b[38;5;241m.\u001b[39m_descr)\n\u001b[1;32m   3909\u001b[0m ok \u001b[38;5;241m=\u001b[39m \u001b[38;5;28mtype\u001b[39m(other\u001b[38;5;241m.\u001b[39m_descr)\n\u001b[0;32m-> 3910\u001b[0m \u001b[38;5;28;01mreturn\u001b[39;00m \u001b[38;5;28;43mtype\u001b[39;49m\u001b[43m(\u001b[49m\u001b[38;5;28;43mself\u001b[39;49m\u001b[43m)\u001b[49m\u001b[43m(\u001b[49m\u001b[43m_binop_algo\u001b[49m\u001b[43m[\u001b[49m\u001b[43msk\u001b[49m\u001b[43m,\u001b[49m\u001b[43m \u001b[49m\u001b[43mok\u001b[49m\u001b[43m]\u001b[49m\u001b[43m(\u001b[49m\u001b[38;5;28;43mself\u001b[39;49m\u001b[43m,\u001b[49m\u001b[43m \u001b[49m\u001b[43mother\u001b[49m\u001b[43m,\u001b[49m\u001b[43m \u001b[49m\u001b[43moperator\u001b[49m\u001b[38;5;241;43m.\u001b[39;49m\u001b[43madd\u001b[49m\u001b[43m)\u001b[49m\u001b[43m)\u001b[49m\n",
      "File \u001b[0;32m/private/var/tmp/sage-10.3-current/local/var/lib/sage/venv-python3.11.1/lib/python3.11/site-packages/sage/rings/qqbar.py:4862\u001b[0m, in \u001b[0;36mAlgebraicNumber.__init__\u001b[0;34m(self, x)\u001b[0m\n\u001b[1;32m   4852\u001b[0m \u001b[38;5;28;01mdef\u001b[39;00m \u001b[38;5;21m__init__\u001b[39m(\u001b[38;5;28mself\u001b[39m, x):\n\u001b[1;32m   4853\u001b[0m \u001b[38;5;250m    \u001b[39m\u001b[38;5;124mr\u001b[39m\u001b[38;5;124;03m\"\"\"\u001b[39;00m\n\u001b[1;32m   4854\u001b[0m \u001b[38;5;124;03m    Initialize this AlgebraicNumber object.\u001b[39;00m\n\u001b[1;32m   4855\u001b[0m \n\u001b[0;32m   (...)\u001b[0m\n\u001b[1;32m   4860\u001b[0m \u001b[38;5;124;03m        <class 'sage.rings.qqbar.AlgebraicNumber'>\u001b[39;00m\n\u001b[1;32m   4861\u001b[0m \u001b[38;5;124;03m    \"\"\"\u001b[39;00m\n\u001b[0;32m-> 4862\u001b[0m     \u001b[43mAlgebraicNumber_base\u001b[49m\u001b[38;5;241;43m.\u001b[39;49m\u001b[38;5;21;43m__init__\u001b[39;49m\u001b[43m(\u001b[49m\u001b[38;5;28;43mself\u001b[39;49m\u001b[43m,\u001b[49m\u001b[43m \u001b[49m\u001b[43mQQbar\u001b[49m\u001b[43m,\u001b[49m\u001b[43m \u001b[49m\u001b[43mx\u001b[49m\u001b[43m)\u001b[49m\n",
      "File \u001b[0;32m/private/var/tmp/sage-10.3-current/local/var/lib/sage/venv-python3.11.1/lib/python3.11/site-packages/sage/rings/qqbar.py:3707\u001b[0m, in \u001b[0;36mAlgebraicNumber_base.__init__\u001b[0;34m(self, parent, x)\u001b[0m\n\u001b[1;32m   3704\u001b[0m     \u001b[38;5;28;01mraise\u001b[39;00m \u001b[38;5;167;01mTypeError\u001b[39;00m(\u001b[38;5;124m\"\u001b[39m\u001b[38;5;124mIllegal initializer for algebraic number\u001b[39m\u001b[38;5;124m\"\u001b[39m)\n\u001b[1;32m   3706\u001b[0m prec \u001b[38;5;241m=\u001b[39m \u001b[38;5;241m64\u001b[39m\n\u001b[0;32m-> 3707\u001b[0m \u001b[38;5;28mself\u001b[39m\u001b[38;5;241m.\u001b[39m_value \u001b[38;5;241m=\u001b[39m \u001b[38;5;28;43mself\u001b[39;49m\u001b[38;5;241;43m.\u001b[39;49m\u001b[43m_descr\u001b[49m\u001b[38;5;241;43m.\u001b[39;49m\u001b[43m_interval_fast\u001b[49m\u001b[43m(\u001b[49m\u001b[43mprec\u001b[49m\u001b[43m)\u001b[49m\n\u001b[1;32m   3708\u001b[0m \u001b[38;5;28;01mwhile\u001b[39;00m \u001b[38;5;28mself\u001b[39m\u001b[38;5;241m.\u001b[39m_value\u001b[38;5;241m.\u001b[39mis_NaN():\n\u001b[1;32m   3709\u001b[0m     prec \u001b[38;5;241m=\u001b[39m \u001b[38;5;241m2\u001b[39m \u001b[38;5;241m*\u001b[39m prec\n",
      "File \u001b[0;32m/private/var/tmp/sage-10.3-current/local/var/lib/sage/venv-python3.11.1/lib/python3.11/site-packages/sage/rings/qqbar.py:7959\u001b[0m, in \u001b[0;36mANExtensionElement._interval_fast\u001b[0;34m(self, prec)\u001b[0m\n\u001b[1;32m   7957\u001b[0m \u001b[38;5;28;01mdef\u001b[39;00m \u001b[38;5;21m_interval_fast\u001b[39m(\u001b[38;5;28mself\u001b[39m, prec):\n\u001b[1;32m   7958\u001b[0m     gen_val \u001b[38;5;241m=\u001b[39m \u001b[38;5;28mself\u001b[39m\u001b[38;5;241m.\u001b[39m_generator\u001b[38;5;241m.\u001b[39m_interval_fast(prec)\n\u001b[0;32m-> 7959\u001b[0m     v \u001b[38;5;241m=\u001b[39m \u001b[38;5;28;43mself\u001b[39;49m\u001b[38;5;241;43m.\u001b[39;49m\u001b[43m_value\u001b[49m\u001b[38;5;241;43m.\u001b[39;49m\u001b[43mpolynomial\u001b[49m\u001b[43m(\u001b[49m\u001b[43m)\u001b[49m\u001b[43m(\u001b[49m\u001b[43mgen_val\u001b[49m\u001b[43m)\u001b[49m\n\u001b[1;32m   7960\u001b[0m     \u001b[38;5;28;01mif\u001b[39;00m \u001b[38;5;28mself\u001b[39m\u001b[38;5;241m.\u001b[39m_exactly_real \u001b[38;5;129;01mand\u001b[39;00m is_ComplexIntervalFieldElement(v):\n\u001b[1;32m   7961\u001b[0m         \u001b[38;5;28;01mreturn\u001b[39;00m v\u001b[38;5;241m.\u001b[39mreal()\n",
      "File \u001b[0;32m/private/var/tmp/sage-10.3-current/local/var/lib/sage/venv-python3.11.1/lib/python3.11/site-packages/sage/rings/polynomial/polynomial_rational_flint.pyx:562\u001b[0m, in \u001b[0;36msage.rings.polynomial.polynomial_rational_flint.Polynomial_rational_flint.__call__ (build/cythonized/sage/rings/polynomial/polynomial_rational_flint.cpp:15923)\u001b[0;34m()\u001b[0m\n\u001b[1;32m    560\u001b[0m             return acb_z\n\u001b[1;32m    561\u001b[0m \n\u001b[0;32m--> 562\u001b[0m     return Polynomial.__call__(self, *x, **kwds)\n\u001b[1;32m    563\u001b[0m \n\u001b[1;32m    564\u001b[0m cpdef Polynomial truncate(self, long n) noexcept:\n",
      "File \u001b[0;32m/private/var/tmp/sage-10.3-current/local/var/lib/sage/venv-python3.11.1/lib/python3.11/site-packages/sage/rings/polynomial/polynomial_element.pyx:929\u001b[0m, in \u001b[0;36msage.rings.polynomial.polynomial_element.Polynomial.__call__ (build/cythonized/sage/rings/polynomial/polynomial_element.c:21056)\u001b[0;34m()\u001b[0m\n\u001b[1;32m    927\u001b[0m     result = pol.get_unsafe(d)\n\u001b[1;32m    928\u001b[0m     for i in range(d - 1, -1, -1):\n\u001b[0;32m--> 929\u001b[0m         result = result * a + pol.get_unsafe(i)\n\u001b[1;32m    930\u001b[0m     return result\n\u001b[1;32m    931\u001b[0m pol._compiled = CompiledPolynomialFunction(pol.list())\n",
      "File \u001b[0;32m/private/var/tmp/sage-10.3-current/local/var/lib/sage/venv-python3.11.1/lib/python3.11/site-packages/sage/rings/real_mpfi.pyx:2607\u001b[0m, in \u001b[0;36msage.rings.real_mpfi.RealIntervalFieldElement.__add__ (build/cythonized/sage/rings/real_mpfi.c:23803)\u001b[0;34m()\u001b[0m\n\u001b[1;32m   2605\u001b[0m     return left + _left._parent(right)\n\u001b[1;32m   2606\u001b[0m elif isinstance(left, RealIntervalFieldElement):\n\u001b[0;32m-> 2607\u001b[0m     return Element.__add__(left, right)\n\u001b[1;32m   2608\u001b[0m else:\n\u001b[1;32m   2609\u001b[0m     return Element.__radd__(right, left)\n",
      "File \u001b[0;32m/private/var/tmp/sage-10.3-current/local/var/lib/sage/venv-python3.11.1/lib/python3.11/site-packages/sage/structure/element.pyx:1221\u001b[0m, in \u001b[0;36msage.structure.element.Element.__add__ (build/cythonized/sage/structure/element.c:18821)\u001b[0;34m()\u001b[0m\n\u001b[1;32m   1219\u001b[0m # Left and right are Sage elements => use coercion model\n\u001b[1;32m   1220\u001b[0m if BOTH_ARE_ELEMENT(cl):\n\u001b[0;32m-> 1221\u001b[0m     return coercion_model.bin_op(left, right, add)\n\u001b[1;32m   1222\u001b[0m \n\u001b[1;32m   1223\u001b[0m cdef long value\n",
      "File \u001b[0;32m/private/var/tmp/sage-10.3-current/local/var/lib/sage/venv-python3.11.1/lib/python3.11/site-packages/sage/structure/coerce.pyx:1230\u001b[0m, in \u001b[0;36msage.structure.coerce.CoercionModel.bin_op (build/cythonized/sage/structure/coerce.c:15899)\u001b[0;34m()\u001b[0m\n\u001b[1;32m   1228\u001b[0m # Now coerce to a common parent and do the operation there\n\u001b[1;32m   1229\u001b[0m try:\n\u001b[0;32m-> 1230\u001b[0m     xy = self.canonical_coercion(x, y)\n\u001b[1;32m   1231\u001b[0m except TypeError:\n\u001b[1;32m   1232\u001b[0m     self._record_exception()\n",
      "File \u001b[0;32m/private/var/tmp/sage-10.3-current/local/var/lib/sage/venv-python3.11.1/lib/python3.11/site-packages/sage/structure/coerce.pyx:1346\u001b[0m, in \u001b[0;36msage.structure.coerce.CoercionModel.canonical_coercion (build/cythonized/sage/structure/coerce.c:17350)\u001b[0;34m()\u001b[0m\n\u001b[1;32m   1344\u001b[0m     x_elt = x\n\u001b[1;32m   1345\u001b[0m if y_map is not None:\n\u001b[0;32m-> 1346\u001b[0m     y_elt = (<Map>y_map)._call_(y)\n\u001b[1;32m   1347\u001b[0m else:\n\u001b[1;32m   1348\u001b[0m     y_elt = y\n",
      "File \u001b[0;32m/private/var/tmp/sage-10.3-current/local/var/lib/sage/venv-python3.11.1/lib/python3.11/site-packages/sage/structure/coerce_maps.pyx:158\u001b[0m, in \u001b[0;36msage.structure.coerce_maps.DefaultConvertMap_unique._call_ (build/cythonized/sage/structure/coerce_maps.c:6849)\u001b[0;34m()\u001b[0m\n\u001b[1;32m    156\u001b[0m cdef Parent C = self._codomain\n\u001b[1;32m    157\u001b[0m try:\n\u001b[0;32m--> 158\u001b[0m     return C._element_constructor(x)\n\u001b[1;32m    159\u001b[0m except Exception:\n\u001b[1;32m    160\u001b[0m     if print_warnings:\n",
      "File \u001b[0;32m/private/var/tmp/sage-10.3-current/local/var/lib/sage/venv-python3.11.1/lib/python3.11/site-packages/sage/categories/sets_cat.py:992\u001b[0m, in \u001b[0;36mSets.ParentMethods._element_constructor_from_element_class\u001b[0;34m(self, *args, **keywords)\u001b[0m\n\u001b[1;32m    989\u001b[0m     \u001b[38;5;28;01melse\u001b[39;00m:\n\u001b[1;32m    990\u001b[0m         \u001b[38;5;28;01mreturn\u001b[39;00m \u001b[38;5;28mNotImplemented\u001b[39m\n\u001b[0;32m--> 992\u001b[0m \u001b[38;5;28;01mdef\u001b[39;00m \u001b[38;5;21m_element_constructor_from_element_class\u001b[39m(\u001b[38;5;28mself\u001b[39m, \u001b[38;5;241m*\u001b[39margs, \u001b[38;5;241m*\u001b[39m\u001b[38;5;241m*\u001b[39mkeywords):\n\u001b[1;32m    993\u001b[0m \u001b[38;5;250m    \u001b[39m\u001b[38;5;124;03m\"\"\"\u001b[39;00m\n\u001b[1;32m    994\u001b[0m \u001b[38;5;124;03m    The default constructor for elements of this parent ``self``.\u001b[39;00m\n\u001b[1;32m    995\u001b[0m \n\u001b[0;32m   (...)\u001b[0m\n\u001b[1;32m   1010\u001b[0m \u001b[38;5;124;03m        <class 'sage.categories.examples.sets_cat.PrimeNumbers_Inherits_with_category.element_class'>\u001b[39;00m\n\u001b[1;32m   1011\u001b[0m \u001b[38;5;124;03m    \"\"\"\u001b[39;00m\n\u001b[1;32m   1012\u001b[0m     \u001b[38;5;28;01mreturn\u001b[39;00m \u001b[38;5;28mself\u001b[39m\u001b[38;5;241m.\u001b[39melement_class(\u001b[38;5;28mself\u001b[39m, \u001b[38;5;241m*\u001b[39margs, \u001b[38;5;241m*\u001b[39m\u001b[38;5;241m*\u001b[39mkeywords)\n",
      "File \u001b[0;32msrc/cysignals/signals.pyx:341\u001b[0m, in \u001b[0;36mcysignals.signals.python_check_interrupt\u001b[0;34m()\u001b[0m\n",
      "\u001b[0;31mKeyboardInterrupt\u001b[0m: "
     ]
    }
   ],
   "source": [
    "U_dft.charpoly().discriminant()"
   ]
  },
  {
   "cell_type": "code",
   "execution_count": null,
   "id": "29767fbd-6c2a-4671-b91c-a9d452956713",
   "metadata": {},
   "outputs": [],
   "source": [
    "-sqrt(K(3))"
   ]
  },
  {
   "cell_type": "code",
   "execution_count": null,
   "id": "325e2a40-277e-4c61-921d-58005e982e94",
   "metadata": {},
   "outputs": [],
   "source": [
    "((-213828613/1679616*(sqrt(2)) + 85996015/69984)*(sqrt(3)) + 348251435/62208*(sqrt(2)) - 33598899709/3359232).n()"
   ]
  },
  {
   "cell_type": "code",
   "execution_count": null,
   "id": "14cbad6c-4016-4b14-9ce0-415b9d90f2c1",
   "metadata": {},
   "outputs": [],
   "source": [
    "#n=3: two real, two complex\n",
    "#n=4: all complex\n",
    "#the magnitude is not 1, they're closely grouped around 2 or 3"
   ]
  },
  {
   "cell_type": "code",
   "execution_count": null,
   "id": "33046e01-08a6-4324-9c30-d908bf1c2256",
   "metadata": {},
   "outputs": [],
   "source": [
    "SGA_dft.base_ring()"
   ]
  },
  {
   "cell_type": "code",
   "execution_count": null,
   "id": "2caebbde-e05f-416d-a06f-b1d8d8c53ebb",
   "metadata": {},
   "outputs": [],
   "source": [
    "SGA_eigs = SGA_dft.eigenvalues(); SGA_eigs"
   ]
  },
  {
   "cell_type": "code",
   "execution_count": null,
   "id": "edb1c420-f44a-4cb3-9fb3-2ffa17dee539",
   "metadata": {},
   "outputs": [],
   "source": [
    "[abs(eig) for eig in SGA_eigs]"
   ]
  },
  {
   "cell_type": "code",
   "execution_count": null,
   "id": "65cb3bc4-b509-4b7b-81d7-da293174d156",
   "metadata": {},
   "outputs": [],
   "source": [
    "SGA_eigs[0].minpoly()"
   ]
  },
  {
   "cell_type": "code",
   "execution_count": null,
   "id": "5a48909b-3b9a-437c-a778-e81f28f3735b",
   "metadata": {},
   "outputs": [],
   "source": [
    "#note that the singluar values are the square roots of the diagonal entries of the Gram matrix\n",
    "print(SymmetricGroup(n).algebra(CDF).dft().SVD()[1].numpy().diagonal())\n",
    "print(sqrt((SGA_dft*SGA_dft.transpose()).numpy().diagonal()))"
   ]
  }
 ],
 "metadata": {
  "kernelspec": {
   "display_name": "SageMath 10.3",
   "language": "sage",
   "name": "sagemath-10.3"
  },
  "language_info": {
   "codemirror_mode": {
    "name": "ipython",
    "version": 3
   },
   "file_extension": ".py",
   "mimetype": "text/x-python",
   "name": "python",
   "nbconvert_exporter": "python",
   "pygments_lexer": "ipython3",
   "version": "3.11.1"
  }
 },
 "nbformat": 4,
 "nbformat_minor": 5
}
