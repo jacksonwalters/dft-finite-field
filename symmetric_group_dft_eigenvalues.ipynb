{
 "cells": [
  {
   "cell_type": "code",
   "execution_count": 5,
   "id": "2a529f2b-1157-4229-84d0-8749505137a0",
   "metadata": {},
   "outputs": [],
   "source": [
    "n=3"
   ]
  },
  {
   "cell_type": "code",
   "execution_count": 44,
   "id": "8624b4fc-d39e-474d-9358-672e4027ace1",
   "metadata": {},
   "outputs": [],
   "source": [
    "G = SymmetricGroup(n)"
   ]
  },
  {
   "cell_type": "code",
   "execution_count": 7,
   "id": "1c45cb00-2600-4dee-8b70-5a6baf72fca4",
   "metadata": {},
   "outputs": [],
   "source": [
    "SGA = G.algebra(QQ)"
   ]
  },
  {
   "cell_type": "code",
   "execution_count": 8,
   "id": "7fcb1221-5691-4d2e-b30d-32dfef1c1468",
   "metadata": {},
   "outputs": [
    {
     "data": {
      "text/plain": [
       "[   1    1    1    1    1    1]\n",
       "[   1 -1/2 -1/2  1/2  1/2   -1]\n",
       "[   0 -3/4  3/4  3/4 -3/4    0]\n",
       "[   0    1   -1    1   -1    0]\n",
       "[   1 -1/2 -1/2 -1/2 -1/2    1]\n",
       "[   1    1    1   -1   -1   -1]"
      ]
     },
     "execution_count": 8,
     "metadata": {},
     "output_type": "execute_result"
    }
   ],
   "source": [
    "A = SGA.dft(); A"
   ]
  },
  {
   "cell_type": "code",
   "execution_count": 93,
   "id": "01fd16bc-d1c9-43cb-b9fe-95891d53e952",
   "metadata": {},
   "outputs": [],
   "source": [
    "#is the matrix unitary?\n",
    "#A*A^T, the Gram matrix, is diagonal, but not the identity. so A is not unitary."
   ]
  },
  {
   "cell_type": "code",
   "execution_count": 9,
   "id": "e67456ca-95cd-45b2-b443-967066ba5493",
   "metadata": {},
   "outputs": [
    {
     "name": "stdout",
     "output_type": "stream",
     "text": [
      "[  6   0   0   0   0   0]\n",
      "[  0   3   0   0   0   0]\n",
      "[  0   0 9/4   0   0   0]\n",
      "[  0   0   0   4   0   0]\n",
      "[  0   0   0   0   3   0]\n",
      "[  0   0   0   0   0   6]\n"
     ]
    }
   ],
   "source": [
    "print((A*A.transpose()).str())"
   ]
  },
  {
   "cell_type": "code",
   "execution_count": 1,
   "id": "e5fa7439-9967-496e-b27a-6c2564f7f9ca",
   "metadata": {},
   "outputs": [],
   "source": [
    "#define a new DFT which is unitary\n",
    "#NOTE: in Beals' ['97] he normalizes by \\sqrt{d_\\lambda/n!}\n",
    "#but also notes that a basis change is an equivalence relation on rep'ns\n",
    "#and each equivalence class contains a unitary representatione\n",
    "#if each rep'n \\rho \\in \\hat{G} is unitary, then the transformation is unitary\n",
    "#these representations are not unitary\n",
    "#to make them unitary, use Weyl's unitary trick: \n",
    "#define a new inner product <x,y>_\\rho = (1/|G|)\\sum_{g \\in G}<\\rho(g)x,\\rho(g)y>\n",
    "#compute an orthonormal basis using this inner product"
   ]
  },
  {
   "cell_type": "code",
   "execution_count": 18,
   "id": "aca07005-770f-4a0f-bd28-f6c3a5446787",
   "metadata": {},
   "outputs": [],
   "source": [
    "#define the Fourier coefficient at the representation specht_module\n",
    "#which is the Specht module corresponding to partition\n",
    "def hat(f,partition):\n",
    "    n = sum(partition)\n",
    "    G = SymmetricGroup(n)\n",
    "    specht_module = G.algebra(QQ).specht_module(partition)\n",
    "    d_part = specht_module.dimension()\n",
    "    return sqrt(d_part/factorial(n))*sum(f(g)*specht_module.representation_matrix(g) for g in G)"
   ]
  },
  {
   "cell_type": "code",
   "execution_count": 11,
   "id": "b3d16b48-b4bd-43b8-bb87-038cc9cd9afd",
   "metadata": {},
   "outputs": [],
   "source": [
    "#define the delta function delta_s(t) = {1 if s == t, 0 otherwise}\n",
    "def delta(s):\n",
    "    return lambda t: 1 if t == s else 0"
   ]
  },
  {
   "cell_type": "code",
   "execution_count": 12,
   "id": "dad4c039-cddd-4d55-8be4-09dff460fbb8",
   "metadata": {},
   "outputs": [],
   "source": [
    "#for each basis element g \\in G\n",
    "#compute the Fourier coefficients \\hat{\\delta_g}(partition) for all partitions\n",
    "#make the Fourier coefficients into a list via .list()\n",
    "#flatten the list of lists to get a vector \\hat{g}\n",
    "#put the vectors into a list and take the transpose to get the DFT\n",
    "from sage.misc.flatten import flatten\n",
    "def unitary_dft(n):\n",
    "    return matrix([flatten([hat(delta(g),partition).list() for partition in Partitions(n)]) for g in G]).transpose()"
   ]
  },
  {
   "cell_type": "code",
   "execution_count": 41,
   "id": "06e8a8e3-3d2b-4eed-879e-ee3d1a10aa44",
   "metadata": {},
   "outputs": [],
   "source": [
    "#define the G-averaged inner product given a representation\n",
    "#<x,y>_\\rho = (1/|G|)\\sum_{g \\in G}<\\rho(g)x,\\rho(g)y>\n",
    "def inv_inner_product(partition,x,y):\n",
    "    n = sum(partition)\n",
    "    G = SymmetricGroup(n)\n",
    "    rho = G.algebra(QQ).specht_module(partition).representation_matrix\n",
    "    return sum((rho(g)*vector(x)).inner_product(rho(g)*vector(y)) for g in G)"
   ]
  },
  {
   "cell_type": "code",
   "execution_count": 104,
   "id": "4d91c380-b3a7-430e-8ffd-5bfef84bcfff",
   "metadata": {},
   "outputs": [],
   "source": [
    "#define the projection of the vector v oto vector u\n",
    "def proj(u,v):\n",
    "    return (vector(v).inner_product(vector(u))/vector(u).inner_product(vector(u)))*vector(u)"
   ]
  },
  {
   "cell_type": "code",
   "execution_count": 108,
   "id": "9323ef23-5b5e-4a60-bc29-cd0e23d7f5ef",
   "metadata": {},
   "outputs": [],
   "source": [
    "#define Gram-Schmidt orthonormalization process that works in the symbolic ring\n",
    "#assume A = [v_1, v_2, ... , v_k] and each v_j is a column vector\n",
    "def gram_schmidt_SR(A):\n",
    "    v = A.transpose()\n",
    "    u = []\n",
    "    e = []\n",
    "    for k in range(A.ncols()):\n",
    "        u_k = v[k] - sum(proj(u[j],v[k]) for j in range(k))\n",
    "        u.append(u_k)\n",
    "        e.append(u_k/u_k.norm())\n",
    "    return u, e"
   ]
  },
  {
   "cell_type": "code",
   "execution_count": 109,
   "id": "bb08d5b2-5271-4343-8c7e-7acecbd0e797",
   "metadata": {},
   "outputs": [
    {
     "data": {
      "text/plain": [
       "([(sqrt(2), 1), (-1/3*sqrt(2)*(2*sqrt(2) + 3) + 2, -2/3*sqrt(2) + 2)],\n",
       " [(1/3*sqrt(3)*sqrt(2), 1/3*sqrt(3)),\n",
       "  (-(sqrt(2)*(2*sqrt(2) + 3) - 6)/sqrt((sqrt(2)*(2*sqrt(2) + 3) - 6)^2 + 4*(sqrt(2) - 3)^2), -2*(sqrt(2) - 3)/sqrt((sqrt(2)*(2*sqrt(2) + 3) - 6)^2 + 4*(sqrt(2) - 3)^2))])"
      ]
     },
     "execution_count": 109,
     "metadata": {},
     "output_type": "execute_result"
    }
   ],
   "source": [
    "gram_schmidt_SR(A)"
   ]
  },
  {
   "cell_type": "code",
   "execution_count": 110,
   "id": "fe33d126-9b88-402b-8e2c-449fb4edf7b0",
   "metadata": {},
   "outputs": [
    {
     "ename": "TypeError",
     "evalue": "QR decomposition unable to compute square roots in Rational Field",
     "output_type": "error",
     "traceback": [
      "\u001b[0;31m---------------------------------------------------------------------------\u001b[0m",
      "\u001b[0;31mTypeError\u001b[0m                                 Traceback (most recent call last)",
      "File \u001b[0;32m/private/var/tmp/sage-10.3-current/local/var/lib/sage/venv-python3.11.1/lib/python3.11/site-packages/sage/symbolic/expression.pyx:1573\u001b[0m, in \u001b[0;36msage.symbolic.expression.Expression._rational_ (build/cythonized/sage/symbolic/expression.cpp:48914)\u001b[0;34m()\u001b[0m\n\u001b[1;32m   1572\u001b[0m try:\n\u001b[0;32m-> 1573\u001b[0m     n = self.pyobject()\n\u001b[1;32m   1574\u001b[0m except TypeError:\n",
      "File \u001b[0;32m/private/var/tmp/sage-10.3-current/local/var/lib/sage/venv-python3.11.1/lib/python3.11/site-packages/sage/symbolic/expression.pyx:765\u001b[0m, in \u001b[0;36msage.symbolic.expression.Expression.pyobject (build/cythonized/sage/symbolic/expression.cpp:44303)\u001b[0;34m()\u001b[0m\n\u001b[1;32m    764\u001b[0m if not is_a_numeric(self._gobj):\n\u001b[0;32m--> 765\u001b[0m     raise TypeError(\"self must be a numeric expression\")\n\u001b[1;32m    766\u001b[0m return py_object_from_numeric(self._gobj)\n",
      "\u001b[0;31mTypeError\u001b[0m: self must be a numeric expression",
      "\nDuring handling of the above exception, another exception occurred:\n",
      "\u001b[0;31mTypeError\u001b[0m                                 Traceback (most recent call last)",
      "File \u001b[0;32m/private/var/tmp/sage-10.3-current/local/var/lib/sage/venv-python3.11.1/lib/python3.11/site-packages/sage/matrix/matrix2.pyx:10572\u001b[0m, in \u001b[0;36msage.matrix.matrix2.Matrix.QR (build/cythonized/sage/matrix/matrix2.c:88900)\u001b[0;34m()\u001b[0m\n\u001b[1;32m  10571\u001b[0m Q.append(q)\n\u001b[0;32m> 10572\u001b[0m R[row, i] = scale\n\u001b[1;32m  10573\u001b[0m for j in range(i+1, n):\n",
      "File \u001b[0;32m/private/var/tmp/sage-10.3-current/local/var/lib/sage/venv-python3.11.1/lib/python3.11/site-packages/sage/matrix/matrix0.pyx:1466\u001b[0m, in \u001b[0;36msage.matrix.matrix0.Matrix.__setitem__ (build/cythonized/sage/matrix/matrix0.c:13262)\u001b[0;34m()\u001b[0m\n\u001b[1;32m   1465\u001b[0m if single_row and single_col and not no_col_index:\n\u001b[0;32m-> 1466\u001b[0m     self.set_unsafe(row, col, self._coerce_element(value))\n\u001b[1;32m   1467\u001b[0m     return\n",
      "File \u001b[0;32m/private/var/tmp/sage-10.3-current/local/var/lib/sage/venv-python3.11.1/lib/python3.11/site-packages/sage/matrix/matrix0.pyx:1571\u001b[0m, in \u001b[0;36msage.matrix.matrix0.Matrix._coerce_element (build/cythonized/sage/matrix/matrix0.c:14765)\u001b[0;34m()\u001b[0m\n\u001b[1;32m   1570\u001b[0m     return x\n\u001b[0;32m-> 1571\u001b[0m return self._base_ring(x)\n\u001b[1;32m   1572\u001b[0m \n",
      "File \u001b[0;32m/private/var/tmp/sage-10.3-current/local/var/lib/sage/venv-python3.11.1/lib/python3.11/site-packages/sage/structure/parent.pyx:901\u001b[0m, in \u001b[0;36msage.structure.parent.Parent.__call__ (build/cythonized/sage/structure/parent.c:12676)\u001b[0;34m()\u001b[0m\n\u001b[1;32m    900\u001b[0m if no_extra_args:\n\u001b[0;32m--> 901\u001b[0m     return mor._call_(x)\n\u001b[1;32m    902\u001b[0m else:\n",
      "File \u001b[0;32m/private/var/tmp/sage-10.3-current/local/var/lib/sage/venv-python3.11.1/lib/python3.11/site-packages/sage/structure/coerce_maps.pyx:163\u001b[0m, in \u001b[0;36msage.structure.coerce_maps.DefaultConvertMap_unique._call_ (build/cythonized/sage/structure/coerce_maps.c:6957)\u001b[0;34m()\u001b[0m\n\u001b[1;32m    162\u001b[0m     print(type(C._element_constructor), C._element_constructor)\n\u001b[0;32m--> 163\u001b[0m raise\n\u001b[1;32m    164\u001b[0m \n",
      "File \u001b[0;32m/private/var/tmp/sage-10.3-current/local/var/lib/sage/venv-python3.11.1/lib/python3.11/site-packages/sage/structure/coerce_maps.pyx:158\u001b[0m, in \u001b[0;36msage.structure.coerce_maps.DefaultConvertMap_unique._call_ (build/cythonized/sage/structure/coerce_maps.c:6849)\u001b[0;34m()\u001b[0m\n\u001b[1;32m    157\u001b[0m try:\n\u001b[0;32m--> 158\u001b[0m     return C._element_constructor(x)\n\u001b[1;32m    159\u001b[0m except Exception:\n",
      "File \u001b[0;32m/private/var/tmp/sage-10.3-current/local/var/lib/sage/venv-python3.11.1/lib/python3.11/site-packages/sage/rings/rational.pyx:547\u001b[0m, in \u001b[0;36msage.rings.rational.Rational.__init__ (build/cythonized/sage/rings/rational.cpp:14521)\u001b[0;34m()\u001b[0m\n\u001b[1;32m    546\u001b[0m if x is not None:\n\u001b[0;32m--> 547\u001b[0m     self.__set_value(x, base)\n\u001b[1;32m    548\u001b[0m \n",
      "File \u001b[0;32m/private/var/tmp/sage-10.3-current/local/var/lib/sage/venv-python3.11.1/lib/python3.11/site-packages/sage/rings/rational.pyx:631\u001b[0m, in \u001b[0;36msage.rings.rational.Rational._Rational__set_value (build/cythonized/sage/rings/rational.cpp:15684)\u001b[0;34m()\u001b[0m\n\u001b[1;32m    630\u001b[0m elif hasattr(x, \"_rational_\"):\n\u001b[0;32m--> 631\u001b[0m     set_from_Rational(self, x._rational_())\n\u001b[1;32m    632\u001b[0m \n",
      "File \u001b[0;32m/private/var/tmp/sage-10.3-current/local/var/lib/sage/venv-python3.11.1/lib/python3.11/site-packages/sage/symbolic/expression.pyx:1575\u001b[0m, in \u001b[0;36msage.symbolic.expression.Expression._rational_ (build/cythonized/sage/symbolic/expression.cpp:48963)\u001b[0;34m()\u001b[0m\n\u001b[1;32m   1574\u001b[0m except TypeError:\n\u001b[0;32m-> 1575\u001b[0m     raise TypeError(\"unable to convert %s to a rational\" % self)\n\u001b[1;32m   1576\u001b[0m if isinstance(n, sage.rings.rational.Rational):\n",
      "\u001b[0;31mTypeError\u001b[0m: unable to convert 4*sqrt(5) to a rational",
      "\nDuring handling of the above exception, another exception occurred:\n",
      "\u001b[0;31mTypeError\u001b[0m                                 Traceback (most recent call last)",
      "Cell \u001b[0;32mIn[110], line 9\u001b[0m\n\u001b[1;32m      7\u001b[0m e \u001b[38;5;241m=\u001b[39m \u001b[38;5;28;01mlambda\u001b[39;00m i: [Integer(\u001b[38;5;241m1\u001b[39m) \u001b[38;5;28;01mif\u001b[39;00m i\u001b[38;5;241m==\u001b[39mj \u001b[38;5;28;01melse\u001b[39;00m Integer(\u001b[38;5;241m0\u001b[39m) \u001b[38;5;28;01mfor\u001b[39;00m j \u001b[38;5;129;01min\u001b[39;00m \u001b[38;5;28mrange\u001b[39m(d_part)]\n\u001b[1;32m      8\u001b[0m A \u001b[38;5;241m=\u001b[39m matrix([[inv_inner_product(partition,e(i),e(j)) \u001b[38;5;28;01mfor\u001b[39;00m j \u001b[38;5;129;01min\u001b[39;00m \u001b[38;5;28mrange\u001b[39m(d_part)] \u001b[38;5;28;01mfor\u001b[39;00m i \u001b[38;5;129;01min\u001b[39;00m \u001b[38;5;28mrange\u001b[39m(d_part)])\n\u001b[0;32m----> 9\u001b[0m GS, M \u001b[38;5;241m=\u001b[39m \u001b[43mA\u001b[49m\u001b[38;5;241;43m.\u001b[39;49m\u001b[43mgram_schmidt\u001b[49m\u001b[43m(\u001b[49m\u001b[43morthonormal\u001b[49m\u001b[38;5;241;43m=\u001b[39;49m\u001b[38;5;28;43;01mTrue\u001b[39;49;00m\u001b[43m)\u001b[49m\n\u001b[1;32m     10\u001b[0m \u001b[38;5;28mprint\u001b[39m(M\u001b[38;5;241m*\u001b[39mGS \u001b[38;5;241m-\u001b[39m A)\n\u001b[1;32m     11\u001b[0m \u001b[38;5;28;01mtry\u001b[39;00m:\n",
      "File \u001b[0;32m/private/var/tmp/sage-10.3-current/local/var/lib/sage/venv-python3.11.1/lib/python3.11/site-packages/sage/matrix/matrix2.pyx:11085\u001b[0m, in \u001b[0;36msage.matrix.matrix2.Matrix.gram_schmidt (build/cythonized/sage/matrix/matrix2.c:91421)\u001b[0;34m()\u001b[0m\n\u001b[1;32m  11083\u001b[0m \n\u001b[1;32m  11084\u001b[0m             if orthonormal:\n\u001b[0;32m> 11085\u001b[0m                 Q, R = self.transpose().QR(full=False)\n\u001b[1;32m  11086\u001b[0m             else:\n\u001b[1;32m  11087\u001b[0m                 Q, R = self.transpose()._gram_schmidt_noscale()\n",
      "File \u001b[0;32m/private/var/tmp/sage-10.3-current/local/var/lib/sage/venv-python3.11.1/lib/python3.11/site-packages/sage/matrix/matrix2.pyx:10578\u001b[0m, in \u001b[0;36msage.matrix.matrix2.Matrix.QR (build/cythonized/sage/matrix/matrix2.c:89125)\u001b[0;34m()\u001b[0m\n\u001b[1;32m  10576\u001b[0m             row = row + 1\n\u001b[1;32m  10577\u001b[0m         except TypeError:\n\u001b[0;32m> 10578\u001b[0m             raise TypeError('QR decomposition unable to compute square roots in %s' % F)\n\u001b[1;32m  10579\u001b[0m # complete to full orthonormal basis, or reduce to truncated R\n\u001b[1;32m  10580\u001b[0m if full:\n",
      "\u001b[0;31mTypeError\u001b[0m: QR decomposition unable to compute square roots in Rational Field"
     ]
    }
   ],
   "source": [
    "#define the inner product matrix A = [<x_i,x_j>] for some ordered basis of V_\\rho\n",
    "#perform Gram-Schmidt orthogonalization\n",
    "#ISSUE: the output is not normalized\n",
    "partition = Partitions(n)[1]\n",
    "specht_module = G.algebra(QQ).specht_module(partition)\n",
    "d_part = specht_module.dimension()\n",
    "e = lambda i: [1 if i==j else 0 for j in range(d_part)]\n",
    "A = matrix([[inv_inner_product(partition,e(i),e(j)) for j in range(d_part)] for i in range(d_part)])\n",
    "GS, M = A.gram_schmidt(orthonormal=True)\n",
    "print(M*GS - A)\n",
    "try:\n",
    "    assert M*GS == A\n",
    "except AssertionError:\n",
    "    print(\"Gram-Schmidt orthogonalization failed.\")\n",
    "#note the rows of "
   ]
  },
  {
   "cell_type": "code",
   "execution_count": 17,
   "id": "5a54a60f-d1b3-4f88-bab5-000e1e5cc149",
   "metadata": {},
   "outputs": [
    {
     "data": {
      "text/plain": [
       "[ 0 12]\n",
       "[ 0 15]"
      ]
     },
     "execution_count": 17,
     "metadata": {},
     "output_type": "execute_result"
    }
   ],
   "source": [
    "inv_inner_product(Partitions(n)[1],vector([1,2]),vector([1,2]))"
   ]
  },
  {
   "cell_type": "code",
   "execution_count": 106,
   "id": "8ba7dfc6-7632-4519-93a9-74680ed23263",
   "metadata": {},
   "outputs": [
    {
     "data": {
      "text/plain": [
       "[   1    0    0    0    0    0]\n",
       "[   0  4/3 -2/3  2/3 -1/3    0]\n",
       "[   0 -2/3  4/3 -1/3  2/3    0]\n",
       "[   0  2/3 -1/3  4/3 -2/3    0]\n",
       "[   0 -1/3  2/3 -2/3  4/3    0]\n",
       "[   0    0    0    0    0    1]"
      ]
     },
     "execution_count": 106,
     "metadata": {},
     "output_type": "execute_result"
    }
   ],
   "source": [
    "unitary_dft(3)*unitary_dft(3).transpose()"
   ]
  },
  {
   "cell_type": "code",
   "execution_count": 58,
   "id": "14cbad6c-4016-4b14-9ce0-415b9d90f2c1",
   "metadata": {},
   "outputs": [],
   "source": [
    "#what are the eigenvalues?\n",
    "#n=3: two real, two complex\n",
    "#n=4: all complex\n",
    "#the magnitude is not 1, they're closely grouped around 2 or 3"
   ]
  },
  {
   "cell_type": "code",
   "execution_count": 92,
   "id": "2caebbde-e05f-416d-a06f-b1d8d8c53ebb",
   "metadata": {},
   "outputs": [
    {
     "data": {
      "text/plain": [
       "[-1.927382440195288?, 2.121715010353017?, -1.174423554578382? - 1.623003052198150?*I, -1.174423554578382? + 1.623003052198150?*I, 1.452257269499517? - 1.086817272076326?*I, 1.452257269499517? + 1.086817272076326?*I]"
      ]
     },
     "execution_count": 92,
     "metadata": {},
     "output_type": "execute_result"
    }
   ],
   "source": [
    "eigs = A.eigenvalues(); eigs"
   ]
  },
  {
   "cell_type": "code",
   "execution_count": 93,
   "id": "edb1c420-f44a-4cb3-9fb3-2ffa17dee539",
   "metadata": {},
   "outputs": [
    {
     "data": {
      "text/plain": [
       "[1.927382440195288?,\n",
       " 2.121715010353017?,\n",
       " 2.003349593304431?,\n",
       " 2.003349593304431?,\n",
       " 1.813897174510622?,\n",
       " 1.813897174510622?]"
      ]
     },
     "execution_count": 93,
     "metadata": {},
     "output_type": "execute_result"
    }
   ],
   "source": [
    "[abs(eig) for eig in eigs]"
   ]
  },
  {
   "cell_type": "code",
   "execution_count": 121,
   "id": "5a48909b-3b9a-437c-a778-e81f28f3735b",
   "metadata": {},
   "outputs": [
    {
     "name": "stdout",
     "output_type": "stream",
     "text": [
      "[2.44948974+0.j 2.44948974+0.j 2.        +0.j 1.73205081+0.j\n",
      " 1.73205081+0.j 1.5       +0.j]\n",
      "[2.44948974 1.73205081 1.5        2.         1.73205081 2.44948974]\n"
     ]
    }
   ],
   "source": [
    "#note that the singluar values are the square roots of the diagonal entries of the Gram matrix\n",
    "print(SymmetricGroup(n).algebra(CDF).dft().SVD()[1].numpy().diagonal())\n",
    "print(sqrt((A*A.transpose()).numpy().diagonal()))"
   ]
  },
  {
   "cell_type": "code",
   "execution_count": null,
   "id": "7b949e59-2889-48f2-a750-2c981e15795b",
   "metadata": {},
   "outputs": [],
   "source": []
  }
 ],
 "metadata": {
  "kernelspec": {
   "display_name": "SageMath 10.3",
   "language": "sage",
   "name": "sagemath-10.3"
  },
  "language_info": {
   "codemirror_mode": {
    "name": "ipython",
    "version": 3
   },
   "file_extension": ".py",
   "mimetype": "text/x-python",
   "name": "python",
   "nbconvert_exporter": "python",
   "pygments_lexer": "ipython3",
   "version": "3.11.1"
  }
 },
 "nbformat": 4,
 "nbformat_minor": 5
}
