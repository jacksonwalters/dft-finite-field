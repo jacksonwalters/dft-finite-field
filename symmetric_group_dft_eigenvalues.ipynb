{
 "cells": [
  {
   "cell_type": "code",
   "execution_count": 82,
   "id": "e5fa7439-9967-496e-b27a-6c2564f7f9ca",
   "metadata": {},
   "outputs": [],
   "source": [
    "#define a new DFT which is unitary\n",
    "#NOTE: in Beals' ['97] he normalizes by \\sqrt{d_\\lambda/n!}\n",
    "#but also notes that a basis change is an equivalence relation on rep'ns\n",
    "#and each equivalence class contains a unitary representatione\n",
    "#if each rep'n \\rho \\in \\hat{G} is unitary, then the transformation is unitary\n",
    "#these representations are not unitary\n",
    "#to make them unitary, use Weyl's unitary trick\n",
    "#OPTION 1: use the formula P = \\int_G \\rho(g)\\rho(g)^* dg, and take a square root to find Q s.t. P = Q^2\n",
    "#OPTION 2: define a new invariant inner product compute an orthonormal basis w.r.t. \n",
    "#this inner product by computing the Gram matrix A and using A.gram_schmidt()"
   ]
  },
  {
   "cell_type": "code",
   "execution_count": 83,
   "id": "f4f39b63-d30d-445e-8cde-3ea75a3c64d3",
   "metadata": {},
   "outputs": [],
   "source": [
    "#compute a field which contains all the square roots required\n",
    "def containing_field(SGA):\n",
    "    required_square_roots = []\n",
    "    for partition in Partitions(SGA.group().degree()):\n",
    "        specht_module = SGA.specht_module(partition)\n",
    "        rho = specht_module.representation_matrix\n",
    "        group_size = SGA.group().cardinality()\n",
    "        P = (1/group_size)*sum(rho(g)*rho(g).conjugate().transpose() for g in SGA.group())\n",
    "        d, L = P.eigenmatrix_left()\n",
    "        required_square_roots += [specht_module.dimension(),SGA.group().cardinality()] + d.diagonal()\n",
    "    required_square_roots = flatten([[QQ(q).numerator(),QQ(q).denominator()] if q in QQ else q for q in required_square_roots])\n",
    "    K = SGA.base_ring()\n",
    "    for n in set(required_square_roots):\n",
    "        R = PolynomialRing(K, 'x')\n",
    "        x = R.gen()\n",
    "        if (x**2 - n).is_irreducible():\n",
    "            gen_name = \"sqrt\"+str(n).replace(\"/\",\"over\")\n",
    "            K = K.extension(sqrt(n).minpoly(),names=gen_name)\n",
    "    return K"
   ]
  },
  {
   "cell_type": "code",
   "execution_count": 84,
   "id": "ceef00d1-d036-4f68-b585-79fe3f1c6807",
   "metadata": {},
   "outputs": [],
   "source": [
    "#find the change-of-basis matrix Q making \\rho(g) unitary for all g \\in G\n",
    "from sage.matrix.special import diagonal_matrix\n",
    "from sage.misc.functional import sqrt\n",
    "def unitary_change_of_basis(SGA,partition,K):\n",
    "    rho = SGA.specht_module(partition).representation_matrix\n",
    "    group_size = SGA.group().cardinality()\n",
    "    P = (1/group_size)*sum(rho(g)*rho(g).conjugate().transpose() for g in SGA.group())\n",
    "    d, L = P.eigenmatrix_left()\n",
    "    return L.inverse() * diagonal_matrix([sqrt(K(a)) for a in d.diagonal()]) * L"
   ]
  },
  {
   "cell_type": "code",
   "execution_count": 85,
   "id": "aca07005-770f-4a0f-bd28-f6c3a5446787",
   "metadata": {},
   "outputs": [],
   "source": [
    "#define the Fourier coefficient at the representation specht_module\n",
    "#which is the Specht module corresponding to partition\n",
    "def hat(f,partition,SGA,K,unitary=False):\n",
    "    specht_module = SGA.specht_module(partition)\n",
    "    rho = specht_module.representation_matrix\n",
    "    if unitary:\n",
    "        Q = unitary_change_of_basis(SGA,partition,K)\n",
    "        unitary_factor = specht_module.dimension()/SGA.group().cardinality()\n",
    "        sqrt_unitary_factor = sqrt(K(unitary_factor))\n",
    "        return sqrt_unitary_factor*sum(f(g)*Q.inverse()*rho(g)*Q for g in SGA.group())\n",
    "    else:\n",
    "        return sum(f(g)*rho(g) for g in SGA.group())"
   ]
  },
  {
   "cell_type": "code",
   "execution_count": 86,
   "id": "b3d16b48-b4bd-43b8-bb87-038cc9cd9afd",
   "metadata": {},
   "outputs": [],
   "source": [
    "#define the delta function delta_s(t) = {1 if s == t, 0 otherwise}\n",
    "delta = lambda s: lambda t: 1 if t == s else 0"
   ]
  },
  {
   "cell_type": "code",
   "execution_count": 87,
   "id": "dad4c039-cddd-4d55-8be4-09dff460fbb8",
   "metadata": {},
   "outputs": [],
   "source": [
    "#for each basis element g \\in G compute the Fourier coefficients \\hat{\\delta_g}(partition) for all partitions\n",
    "from sage.misc.flatten import flatten\n",
    "def dft(SGA,unitary=False):\n",
    "    K = containing_field(SGA)\n",
    "    fourier_transform = [flatten([hat(delta(g),partition,SGA,K,unitary).list() for partition in Partitions(SGA.group().degree())]) for g in SGA.group()]\n",
    "    if unitary:\n",
    "        return matrix(K,fourier_transform).transpose()\n",
    "    else:\n",
    "        return matrix(fourier_transform).transpose()"
   ]
  },
  {
   "cell_type": "code",
   "execution_count": 88,
   "id": "1d123573-fd82-4429-aa0b-5737739e6473",
   "metadata": {},
   "outputs": [],
   "source": [
    "n = 4"
   ]
  },
  {
   "cell_type": "code",
   "execution_count": 89,
   "id": "279b49c8-3b66-4689-a755-26dce655f9d6",
   "metadata": {},
   "outputs": [],
   "source": [
    "SGA = SymmetricGroupAlgebra(QQbar,n)"
   ]
  },
  {
   "cell_type": "code",
   "execution_count": 90,
   "id": "8c2d8748-b9d5-4ed8-94e7-14daceb60e60",
   "metadata": {},
   "outputs": [
    {
     "data": {
      "text/plain": [
       "Algebraic Field"
      ]
     },
     "execution_count": 90,
     "metadata": {},
     "output_type": "execute_result"
    }
   ],
   "source": [
    "K = containing_field(SGA); K"
   ]
  },
  {
   "cell_type": "code",
   "execution_count": 91,
   "id": "ddf55970-a7d3-4b70-aa14-6e2e1c3b3177",
   "metadata": {},
   "outputs": [],
   "source": [
    "G = SGA.group()"
   ]
  },
  {
   "cell_type": "code",
   "execution_count": 92,
   "id": "1b2edd70-15e8-46b2-a4b8-b7b6e1a62f25",
   "metadata": {},
   "outputs": [
    {
     "data": {
      "text/plain": [
       "24 x 24 dense matrix over Algebraic Field (use the '.str()' method to see the entries)"
      ]
     },
     "execution_count": 92,
     "metadata": {},
     "output_type": "execute_result"
    }
   ],
   "source": [
    "SGA_dft = SGA.dft(); SGA_dft"
   ]
  },
  {
   "cell_type": "code",
   "execution_count": 93,
   "id": "6df6046c-68f4-4e02-8f54-e7fb57c47349",
   "metadata": {},
   "outputs": [
    {
     "data": {
      "text/plain": [
       "24 x 24 dense matrix over Algebraic Field (use the '.str()' method to see the entries)"
      ]
     },
     "execution_count": 93,
     "metadata": {},
     "output_type": "execute_result"
    }
   ],
   "source": [
    "#check if A*A^T == Id. it's not, but the columns are orthonormal\n",
    "SGA_dft*SGA_dft.transpose()"
   ]
  },
  {
   "cell_type": "code",
   "execution_count": 94,
   "id": "3bb7401a-4174-43e1-a5c0-d4cf7274a07f",
   "metadata": {},
   "outputs": [
    {
     "data": {
      "text/plain": [
       "[3, 1]"
      ]
     },
     "execution_count": 94,
     "metadata": {},
     "output_type": "execute_result"
    }
   ],
   "source": [
    "partition = Partitions(SGA.group().degree())[1]; partition"
   ]
  },
  {
   "cell_type": "code",
   "execution_count": 95,
   "id": "585b6cdc-ae42-4ba0-90a8-6ef2723999a3",
   "metadata": {},
   "outputs": [],
   "source": [
    "specht_module = SGA.specht_module(partition)"
   ]
  },
  {
   "cell_type": "code",
   "execution_count": 96,
   "id": "fe9d71f6-1301-451e-8667-b55fa99fbccb",
   "metadata": {},
   "outputs": [],
   "source": [
    "rho = specht_module.representation_matrix"
   ]
  },
  {
   "cell_type": "code",
   "execution_count": 97,
   "id": "6ab6a378-64ed-4d85-8220-645e594b8738",
   "metadata": {},
   "outputs": [],
   "source": [
    "group_size = SGA.group().cardinality()"
   ]
  },
  {
   "cell_type": "code",
   "execution_count": 98,
   "id": "abcea45b-630b-4ecc-abe6-a6699a28bcc9",
   "metadata": {},
   "outputs": [
    {
     "data": {
      "text/plain": [
       "Algebraic Field"
      ]
     },
     "execution_count": 98,
     "metadata": {},
     "output_type": "execute_result"
    }
   ],
   "source": [
    "P = (1/group_size)*sum(rho(g)*rho(g).conjugate().transpose() for g in SGA.group()); P.base_ring()"
   ]
  },
  {
   "cell_type": "code",
   "execution_count": 99,
   "id": "b82a3693-ed70-40ea-a4f4-0ed65dbd56ec",
   "metadata": {},
   "outputs": [
    {
     "data": {
      "text/plain": [
       "[ 1.154700538379252? 0.2886751345948129? 0.2886751345948129?]\n",
       "[0.2886751345948129?  1.154700538379252? 0.2886751345948129?]\n",
       "[0.2886751345948129? 0.2886751345948129?  1.154700538379252?]"
      ]
     },
     "execution_count": 99,
     "metadata": {},
     "output_type": "execute_result"
    }
   ],
   "source": [
    "Q = unitary_change_of_basis(SGA,partition,K); Q"
   ]
  },
  {
   "cell_type": "code",
   "execution_count": 100,
   "id": "c2b8cd24-eb11-4efe-8eae-b01102bf8a9c",
   "metadata": {},
   "outputs": [
    {
     "data": {
      "text/plain": [
       "1/8"
      ]
     },
     "execution_count": 100,
     "metadata": {},
     "output_type": "execute_result"
    }
   ],
   "source": [
    "unitary_factor = specht_module.dimension()/SGA.group().cardinality(); unitary_factor"
   ]
  },
  {
   "cell_type": "code",
   "execution_count": 101,
   "id": "132484d0-971e-4b2f-a09b-60a480ed2782",
   "metadata": {},
   "outputs": [
    {
     "data": {
      "text/plain": [
       "Algebraic Field"
      ]
     },
     "execution_count": 101,
     "metadata": {},
     "output_type": "execute_result"
    }
   ],
   "source": [
    "K"
   ]
  },
  {
   "cell_type": "code",
   "execution_count": 102,
   "id": "3417c790-bfc5-4740-b1e6-b608a06822bf",
   "metadata": {},
   "outputs": [
    {
     "data": {
      "text/plain": [
       "[1, 3, 4, 2]"
      ]
     },
     "execution_count": 102,
     "metadata": {},
     "output_type": "execute_result"
    }
   ],
   "source": [
    "G[3]"
   ]
  },
  {
   "cell_type": "code",
   "execution_count": 103,
   "id": "cf7eab07-1332-4538-b70c-6ff144812a73",
   "metadata": {},
   "outputs": [
    {
     "data": {
      "text/plain": [
       "[           0.?e-15 1.000000000000000?            0.?e-15]\n",
       "[           0.?e-15            0.?e-15 1.000000000000000?]\n",
       "[1.000000000000000?            0.?e-16            0.?e-16]"
      ]
     },
     "execution_count": 103,
     "metadata": {},
     "output_type": "execute_result"
    }
   ],
   "source": [
    "U_rho = Q.inverse()*rho(G[3])*Q; U_rho"
   ]
  },
  {
   "cell_type": "code",
   "execution_count": 104,
   "id": "77a25aa2-afbd-4ffa-9bd8-f204a1ed8558",
   "metadata": {},
   "outputs": [
    {
     "data": {
      "text/plain": [
       "[1.000000000000000?            0.?e-15            0.?e-15]\n",
       "[           0.?e-15 1.000000000000000?            0.?e-15]\n",
       "[           0.?e-15            0.?e-15 1.000000000000000?]"
      ]
     },
     "execution_count": 104,
     "metadata": {},
     "output_type": "execute_result"
    }
   ],
   "source": [
    "U_rho*U_rho.conjugate().transpose()"
   ]
  },
  {
   "cell_type": "code",
   "execution_count": 105,
   "id": "2503a178-95f8-470f-b4d8-d13c520df4fa",
   "metadata": {},
   "outputs": [
    {
     "data": {
      "text/plain": [
       "Algebraic Field"
      ]
     },
     "execution_count": 105,
     "metadata": {},
     "output_type": "execute_result"
    }
   ],
   "source": [
    "U_dft = dft(SGA,unitary=True); U_dft.base_ring()"
   ]
  },
  {
   "cell_type": "code",
   "execution_count": 106,
   "id": "cf96731b-2f63-449b-bcb9-88bd015d4dfd",
   "metadata": {},
   "outputs": [
    {
     "data": {
      "text/plain": [
       "24 x 24 dense matrix over Algebraic Field (use the '.str()' method to see the entries)"
      ]
     },
     "execution_count": 106,
     "metadata": {},
     "output_type": "execute_result"
    }
   ],
   "source": [
    "U_dft*U_dft.conjugate().transpose()"
   ]
  },
  {
   "cell_type": "code",
   "execution_count": 107,
   "id": "8ba7dfc6-7632-4519-93a9-74680ed23263",
   "metadata": {},
   "outputs": [
    {
     "data": {
      "text/plain": [
       "True"
      ]
     },
     "execution_count": 107,
     "metadata": {},
     "output_type": "execute_result"
    }
   ],
   "source": [
    "#check that the DFT is unitary\n",
    "(U_dft*U_dft.transpose()) == identity_matrix(SGA.group().cardinality())"
   ]
  },
  {
   "cell_type": "code",
   "execution_count": 108,
   "id": "45e8804f-368c-49d1-b073-219eadd8f3ed",
   "metadata": {},
   "outputs": [],
   "source": [
    "#QUESTION: what are the eigenvalues?\n",
    "#for n=3, the minimal polynomial is degree 24 for the eigenvalues. the splitting field is degree 192.\n",
    "#this means that the Galois group is nonabelian, and since the minimal polynomial has rational coefficients\n",
    "#the eigenvalues are not roots of unity"
   ]
  },
  {
   "cell_type": "code",
   "execution_count": 109,
   "id": "2a995534-79fe-4563-a07a-187cf2cfc77c",
   "metadata": {},
   "outputs": [
    {
     "data": {
      "text/plain": [
       "x^24 + 0.?e2*x^23 - 0.8863652921131?*x^22 - 0.14427746470?*x^21 - 0.169573238?*x^20 + 0.47102068?*x^19 + 0.2676418?*x^18 - 0.4186792?*x^17 - 0.025348?*x^16 + 0.048954?*x^15 - 0.245604?*x^14 + 0.257632?*x^13 - 0.2576317342623?*x^11 + 0.2456032429?*x^10 - 0.048953670?*x^9 + 0.02534808?*x^8 + 0.4186792?*x^7 - 0.2676417?*x^6 - 0.471021?*x^5 + 0.169574?*x^4 + 0.144278?*x^3 + 0.886366?*x^2 + 0.1725460?*x - 1.0000000?"
      ]
     },
     "execution_count": 109,
     "metadata": {},
     "output_type": "execute_result"
    }
   ],
   "source": [
    "U_dft.charpoly()"
   ]
  },
  {
   "cell_type": "code",
   "execution_count": 110,
   "id": "077ce28b-5e2c-4b73-bfb0-70072c4e9452",
   "metadata": {},
   "outputs": [],
   "source": [
    "#ISSUE: the splitting field appears to be high degree, and the coefficients are large\n",
    "#the defining polynomial is monic with integer coefficients\n",
    "#since the eigenvalues lie on the unit circle, a result of Kroenecker implies they are roots of unity\n",
    "if len(U_dft.charpoly().factor()) != U_dft.charpoly().degree():\n",
    "    L.<a> = U_dft.charpoly().splitting_field(); L\n",
    "else:\n",
    "    L = K"
   ]
  },
  {
   "cell_type": "code",
   "execution_count": 111,
   "id": "03ac8709-d76a-417c-bae5-050e29b1d73e",
   "metadata": {},
   "outputs": [],
   "source": [
    "#galois_group() appears to be the absolute version\n",
    "#NOTE: for a splitting field L, we should have [L:K] = |Gal(L/K)|\n",
    "if L != L.algebraic_closure():\n",
    "    L_deg = L.absolute_degree()\n",
    "    print(L_deg)"
   ]
  },
  {
   "cell_type": "code",
   "execution_count": 112,
   "id": "f8ac1480-844b-4239-a6ca-874eadaaeeec",
   "metadata": {},
   "outputs": [],
   "source": [
    "#galois_group() appears to be the absolute version\n",
    "#NOTE: for a splitting field L, we should have [L:K] = |Gal(L/K)|\n",
    "if L != L.algebraic_closure():\n",
    "    L_G = L.galois_group()"
   ]
  },
  {
   "cell_type": "code",
   "execution_count": 113,
   "id": "248ad9f8-d64c-40b6-88b9-d7a23f4a0313",
   "metadata": {},
   "outputs": [],
   "source": [
    "#one can factor the polynomial over a splitting field L/K\n",
    "#but there is no way to express the roots of a quintic in terms of radicals\n",
    "try:\n",
    "    eigs = matrix(L,U_dft).eigenvalues(extend=False)\n",
    "except TypeError:\n",
    "    print(\"Cannot express eigenvalues in terms of radicals since polynomial is a quintic or above.\")"
   ]
  },
  {
   "cell_type": "code",
   "execution_count": 149,
   "id": "c2e92da4-6440-448b-9211-15aa8ddec3f4",
   "metadata": {},
   "outputs": [
    {
     "data": {
      "text/plain": [
       "[-1, 1, -0.9824456136768473? - 0.1865492325557063?*I, -0.9824456136768473? + 0.1865492325557063?*I, -0.8985365719703156? - 0.4388986543973836?*I, -0.8985365719703156? + 0.4388986543973836?*I, -0.7578648392050981? - 0.6524115920924694?*I, -0.7578648392050981? + 0.6524115920924694?*I, -0.4633311957343842? - 0.8861851968179935?*I, -0.4633311957343842? + 0.8861851968179935?*I, -0.2805792598087796? - 0.9598308595607651?*I, -0.2805792598087796? + 0.9598308595607651?*I, -0.03584488349997613? - 0.9993573656739981?*I, -0.03584488349997613? + 0.9993573656739981?*I, 0.2574814524105171? - 0.9662832409105369?*I, 0.2574814524105171? + 0.9662832409105369?*I, 0.5606995539799094? - 0.8280193295852039?*I, 0.5606995539799094? + 0.8280193295852039?*I, 0.7835078863685053? - 0.6213818407375271?*I, 0.7835078863685053? + 0.6213818407375271?*I, 0.9104280922597108? - 0.4136673649495976?*I, 0.9104280922597108? + 0.4136673649495976?*I, 0.9927583939109320? - 0.1201281454089212?*I, 0.9927583939109320? + 0.1201281454089212?*I]"
      ]
     },
     "execution_count": 149,
     "metadata": {},
     "output_type": "execute_result"
    }
   ],
   "source": [
    "eigs"
   ]
  },
  {
   "cell_type": "code",
   "execution_count": 114,
   "id": "94ad338a-c3a4-4226-8378-58516d570241",
   "metadata": {},
   "outputs": [
    {
     "data": {
      "text/plain": [
       "[3.1416,\n",
       " 0.00000,\n",
       " -2.9539,\n",
       " 2.9539,\n",
       " -2.6872,\n",
       " 2.6872,\n",
       " -2.4308,\n",
       " 2.4308,\n",
       " -2.0525,\n",
       " 2.0525,\n",
       " -1.8552,\n",
       " 1.8552,\n",
       " -1.6066,\n",
       " 1.6066,\n",
       " -1.3104,\n",
       " 1.3104,\n",
       " -0.97557,\n",
       " 0.97557,\n",
       " -0.67051,\n",
       " 0.67051,\n",
       " -0.42648,\n",
       " 0.42648,\n",
       " -0.12042,\n",
       " 0.12042]"
      ]
     },
     "execution_count": 114,
     "metadata": {},
     "output_type": "execute_result"
    }
   ],
   "source": [
    "[arg(eig).n(20) for eig in eigs]"
   ]
  },
  {
   "cell_type": "code",
   "execution_count": 147,
   "id": "9800ad85-ec1c-40fb-bec4-a8d44f63c548",
   "metadata": {},
   "outputs": [
    {
     "data": {
      "text/plain": [
       "x + 1"
      ]
     },
     "execution_count": 147,
     "metadata": {},
     "output_type": "execute_result"
    }
   ],
   "source": [
    "eigs[0].minpoly()"
   ]
  },
  {
   "cell_type": "code",
   "execution_count": 115,
   "id": "14cbad6c-4016-4b14-9ce0-415b9d90f2c1",
   "metadata": {},
   "outputs": [],
   "source": [
    "#n=3: two real, two complex\n",
    "#n=4: all complex\n",
    "#the magnitude is not 1, they're closely grouped around 2 or 3"
   ]
  },
  {
   "cell_type": "code",
   "execution_count": 116,
   "id": "33046e01-08a6-4324-9c30-d908bf1c2256",
   "metadata": {},
   "outputs": [
    {
     "data": {
      "text/plain": [
       "Algebraic Field"
      ]
     },
     "execution_count": 116,
     "metadata": {},
     "output_type": "execute_result"
    }
   ],
   "source": [
    "SGA_dft.base_ring()"
   ]
  },
  {
   "cell_type": "code",
   "execution_count": 117,
   "id": "2caebbde-e05f-416d-a06f-b1d8d8c53ebb",
   "metadata": {},
   "outputs": [
    {
     "data": {
      "text/plain": [
       "[3.199568489272891? + 0.2514410409879547?*I, 3.199568489272891? - 0.2514410409879547?*I, 2.993228869092294? + 0.912124753071154?*I, 2.993228869092294? - 0.912124753071154?*I, 2.642899281891904? + 1.590091131310560?*I, 2.642899281891904? - 1.590091131310560?*I, 2.188474879179236? + 1.931582580658714?*I, 2.188474879179236? - 1.931582580658714?*I, 1.486470426769980? + 2.482244638968972?*I, 1.486470426769980? - 2.482244638968972?*I, 0.7700453938741760? + 2.977686796570087?*I, 0.7700453938741760? - 2.977686796570087?*I, -0.012076105575176902? + 3.280400303454078?*I, -0.012076105575176902? - 3.280400303454078?*I, -0.804952639345548? + 2.912731604176754?*I, -0.804952639345548? - 2.912731604176754?*I, -2.051213395756673? + 2.286358575987839?*I, -2.051213395756673? - 2.286358575987839?*I, -2.745916288430809? + 0.997466441758705?*I, -2.745916288430809? - 0.997466441758705?*I, -2.786686565676190? + 1.302381740159278?*I, -2.786686565676190? - 1.302381740159278?*I, -3.032620123073862? + 0.6105858102163639?*I, -3.032620123073862? - 0.6105858102163639?*I]"
      ]
     },
     "execution_count": 117,
     "metadata": {},
     "output_type": "execute_result"
    }
   ],
   "source": [
    "SGA_eigs = SGA_dft.eigenvalues(); SGA_eigs"
   ]
  },
  {
   "cell_type": "code",
   "execution_count": 118,
   "id": "edb1c420-f44a-4cb3-9fb3-2ffa17dee539",
   "metadata": {},
   "outputs": [
    {
     "data": {
      "text/plain": [
       "[3.209433145376473?,\n",
       " 3.209433145376473?,\n",
       " 3.129119784848871?,\n",
       " 3.129119784848871?,\n",
       " 3.084364832521801?,\n",
       " 3.084364832521801?,\n",
       " 2.918978170987708?,\n",
       " 2.918978170987708?,\n",
       " 2.893290994240283?,\n",
       " 2.893290994240283?,\n",
       " 3.075644414930741?,\n",
       " 3.075644414930741?,\n",
       " 3.280422531203484?,\n",
       " 3.280422531203484?,\n",
       " 3.021912333202181?,\n",
       " 3.021912333202181?,\n",
       " 3.071630175155329?,\n",
       " 3.071630175155329?,\n",
       " 2.921471472649425?,\n",
       " 2.921471472649425?,\n",
       " 3.076007186665932?,\n",
       " 3.076007186665932?,\n",
       " 3.093476982702490?,\n",
       " 3.093476982702490?]"
      ]
     },
     "execution_count": 118,
     "metadata": {},
     "output_type": "execute_result"
    }
   ],
   "source": [
    "[abs(eig) for eig in SGA_eigs]"
   ]
  },
  {
   "cell_type": "code",
   "execution_count": 119,
   "id": "65cb3bc4-b509-4b7b-81d7-da293174d156",
   "metadata": {},
   "outputs": [
    {
     "data": {
      "text/plain": [
       "x^24 - 133/36*x^23 - 1423/216*x^22 + 61015/1296*x^21 - 2504/27*x^20 - 1138789/23328*x^19 + 4168451/2592*x^18 - 329337989/69984*x^17 - 317117995/104976*x^16 + 33502427/972*x^15 - 1239088667/26244*x^14 - 928700101/6561*x^13 + 5176853816/6561*x^12 - 2596344938/6561*x^11 - 37779941960/6561*x^10 + 40835832032/2187*x^9 - 30574432000/2187*x^8 - 41981126656/243*x^7 + 247198662656/243*x^6 - 190156832768/81*x^5 - 95325519872/27*x^4 + 33726398464*x^3 - 43318771712*x^2 - 157840048128*x + 463856467968"
      ]
     },
     "execution_count": 119,
     "metadata": {},
     "output_type": "execute_result"
    }
   ],
   "source": [
    "SGA_eigs[0].minpoly()"
   ]
  },
  {
   "cell_type": "code",
   "execution_count": 120,
   "id": "5a48909b-3b9a-437c-a778-e81f28f3735b",
   "metadata": {},
   "outputs": [
    {
     "name": "stdout",
     "output_type": "stream",
     "text": [
      "[4.89897949+0.j 4.89897949+0.j 4.        +0.j 3.46410162+0.j\n",
      " 3.46410162+0.j 3.46410162+0.j 3.46410162+0.j 3.26598632+0.j\n",
      " 3.26598632+0.j 3.        +0.j 3.        +0.j 3.        +0.j\n",
      " 2.82842712+0.j 2.82842712+0.j 2.82842712+0.j 2.82842712+0.j\n",
      " 2.82842712+0.j 2.82842712+0.j 2.66666667+0.j 2.66666667+0.j\n",
      " 2.44948974+0.j 2.44948974+0.j 2.30940108+0.j 2.30940108+0.j]\n",
      "[4.898979485566356? 2.828427124746190? 2.449489742783178?\n",
      " 2.309401076758503? 3.265986323710904? 2.828427124746190? 8/3\n",
      " 3.464101615137755? 3 2.828427124746190? 3.464101615137755? 3 4\n",
      " 3.464101615137755? 2.828427124746190? 8/3 2.309401076758503? 3\n",
      " 2.828427124746190? 2.449489742783178? 3.464101615137755?\n",
      " 3.265986323710904? 2.828427124746190? 4.898979485566356?]\n"
     ]
    }
   ],
   "source": [
    "#note that the singluar values are the square roots of the diagonal entries of the Gram matrix\n",
    "print(SymmetricGroup(n).algebra(CDF).dft().SVD()[1].numpy().diagonal())\n",
    "print(sqrt((SGA_dft*SGA_dft.transpose()).numpy().diagonal()))"
   ]
  }
 ],
 "metadata": {
  "kernelspec": {
   "display_name": "SageMath 10.3",
   "language": "sage",
   "name": "sagemath-10.3"
  },
  "language_info": {
   "codemirror_mode": {
    "name": "ipython",
    "version": 3
   },
   "file_extension": ".py",
   "mimetype": "text/x-python",
   "name": "python",
   "nbconvert_exporter": "python",
   "pygments_lexer": "ipython3",
   "version": "3.11.1"
  }
 },
 "nbformat": 4,
 "nbformat_minor": 5
}
