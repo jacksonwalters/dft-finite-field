{
 "cells": [
  {
   "cell_type": "code",
   "execution_count": null,
   "id": "db7de1df",
   "metadata": {},
   "outputs": [],
   "source": [
    "#https://en.wikipedia.org/wiki/Discrete_Fourier_transform_over_a_ring\n",
    "#implementation of the discrete Fourier transform over a ring R\n",
    "#can assume R is an integral domain\n",
    "#so just choose \\alpha a primitive n-th root of unity, i.e. \\alpha^n=1, \\alpha \\ne 1\n",
    "#ensure n invertible, i.e. p=char(R) does not divide n\n",
    "#note x^{p-1} = 1, so we require n|p-1"
   ]
  },
  {
   "cell_type": "code",
   "execution_count": 366,
   "id": "8d21f216",
   "metadata": {},
   "outputs": [],
   "source": [
    "n=16; p=17"
   ]
  },
  {
   "cell_type": "code",
   "execution_count": 367,
   "id": "18ff3b8b",
   "metadata": {},
   "outputs": [],
   "source": [
    "#finite field of size p\n",
    "K = GF(p)"
   ]
  },
  {
   "cell_type": "code",
   "execution_count": 368,
   "id": "46f07382",
   "metadata": {},
   "outputs": [
    {
     "data": {
      "text/plain": [
       "16"
      ]
     },
     "execution_count": 368,
     "metadata": {},
     "output_type": "execute_result"
    }
   ],
   "source": [
    "K(n)"
   ]
  },
  {
   "cell_type": "code",
   "execution_count": 381,
   "id": "7298ab64",
   "metadata": {},
   "outputs": [],
   "source": [
    "assert K(n) != K(0) #ensure n is invertible\n",
    "assert n.divides(p-1) #ensure a primitive n-th root of unity exists"
   ]
  },
  {
   "cell_type": "code",
   "execution_count": 378,
   "id": "0000ff44",
   "metadata": {},
   "outputs": [],
   "source": [
    "#find an n-th root in finite field of size p\n",
    "def primitive_root(K,n):\n",
    "    for a in K:\n",
    "        if a**n == 1 and all(a**k != 1 for k in range(1,n)):\n",
    "            return a"
   ]
  },
  {
   "cell_type": "code",
   "execution_count": 379,
   "id": "57e3fbdf",
   "metadata": {},
   "outputs": [],
   "source": [
    "#list to be transformed\n",
    "v = [K(i) for i in range(n)]\n",
    "alpha = primitive_root(K,n)"
   ]
  },
  {
   "cell_type": "code",
   "execution_count": 372,
   "id": "a9a33d83",
   "metadata": {},
   "outputs": [],
   "source": [
    "#DFT over a ring with primitive root alpha\n",
    "def fourier_transform(v,alpha):\n",
    "    return [sum(v[j]*alpha**(j*k) for j in range(len(v))) for k in range(len(v))]"
   ]
  },
  {
   "cell_type": "code",
   "execution_count": 373,
   "id": "0154afd7",
   "metadata": {},
   "outputs": [
    {
     "data": {
      "text/plain": [
       "[1, 8, 2, 15, 7, 4, 6, 5, 9, 13, 12, 14, 11, 3, 16, 10]"
      ]
     },
     "execution_count": 373,
     "metadata": {},
     "output_type": "execute_result"
    }
   ],
   "source": [
    "f=fourier_transform(v,alpha); f"
   ]
  },
  {
   "cell_type": "code",
   "execution_count": 374,
   "id": "0805fee3",
   "metadata": {},
   "outputs": [],
   "source": [
    "#define the inverse Fourier transform\n",
    "def inverse_fourier_transform(f,alpha):\n",
    "    return [K(1/len(f))*sum(f[k]*alpha**(-j*k) for k in range(len(f))) for j in range(len(f))]"
   ]
  },
  {
   "cell_type": "code",
   "execution_count": 375,
   "id": "86dec3b6",
   "metadata": {},
   "outputs": [
    {
     "data": {
      "text/plain": [
       "[0, 1, 2, 3, 4, 5, 6, 7, 8, 9, 10, 11, 12, 13, 14, 15]"
      ]
     },
     "execution_count": 375,
     "metadata": {},
     "output_type": "execute_result"
    }
   ],
   "source": [
    "inverse_fourier_transform(f,alpha)"
   ]
  },
  {
   "cell_type": "code",
   "execution_count": 376,
   "id": "ccffb04a",
   "metadata": {},
   "outputs": [
    {
     "data": {
      "text/plain": [
       "16"
      ]
     },
     "execution_count": 376,
     "metadata": {},
     "output_type": "execute_result"
    }
   ],
   "source": [
    "K(1/len(f))"
   ]
  },
  {
   "cell_type": "code",
   "execution_count": null,
   "id": "b4b755fe",
   "metadata": {},
   "outputs": [],
   "source": []
  }
 ],
 "metadata": {
  "kernelspec": {
   "display_name": "SageMath 10.1",
   "language": "sage",
   "name": "sagemath"
  },
  "language_info": {
   "codemirror_mode": {
    "name": "ipython",
    "version": 3
   },
   "file_extension": ".py",
   "mimetype": "text/x-python",
   "name": "python",
   "nbconvert_exporter": "python",
   "pygments_lexer": "ipython3",
   "version": "3.11.1"
  }
 },
 "nbformat": 4,
 "nbformat_minor": 5
}
