{
 "cells": [
  {
   "cell_type": "code",
   "execution_count": 31,
   "id": "854e2a23-b7b2-4480-85db-04b91957f5fd",
   "metadata": {},
   "outputs": [],
   "source": [
    "#compute the eigenvectors of Schur's matrix according to Morton's '78 paper, \"On the Eigenvectors of Schur's Matrix\"\n",
    "#https://www.sciencedirect.com/science/article/pii/0022314X80900839"
   ]
  },
  {
   "cell_type": "code",
   "execution_count": 40,
   "id": "5f6a1229-25b0-4cc1-97d6-fb0cec54d304",
   "metadata": {},
   "outputs": [
    {
     "data": {
      "text/plain": [
       "[(I*sqrt(3), [(1, -1, 0)], 1),\n",
       " (-sqrt(3), [(1, 1, -sqrt(3) + 1)], 1),\n",
       " (sqrt(3), [(1, 1, sqrt(3) + 1)], 1)]"
      ]
     },
     "execution_count": 40,
     "metadata": {},
     "output_type": "execute_result"
    }
   ],
   "source": [
    "#compute the eigenvectors of Schur's matrix (symbolically) over the complex numbers (or a cyclotomic field containing q^th roots of unity)\n",
    "#note: A is not unitary \n",
    "q=3\n",
    "alpha = exp(2*pi*I/q)\n",
    "#K.<alpha> = CyclotomicField(3)\n",
    "A = matrix([[(alpha**(i*j)).expand() for j in range(1,q+1)] for i in range(1,q+1)])\n",
    "A.eigenvectors_right()"
   ]
  },
  {
   "cell_type": "code",
   "execution_count": 44,
   "id": "6ce7b97d-9886-492e-8729-2ffbba1b2419",
   "metadata": {},
   "outputs": [
    {
     "data": {
      "text/plain": [
       "[(I*sqrt(3), [(0, 1, -1)], 1),\n",
       " (-sqrt(3), [(1, -1/2*sqrt(3) - 1/2, -1/2*sqrt(3) - 1/2)], 1),\n",
       " (sqrt(3), [(1, 1/2*sqrt(3) - 1/2, 1/2*sqrt(3) - 1/2)], 1)]"
      ]
     },
     "execution_count": 44,
     "metadata": {},
     "output_type": "execute_result"
    }
   ],
   "source": [
    "#compute the eigenvectors of the DFT matrix (symbolically) over the complex numbers (or a cyclotomic field containing q^th roots of unity)\n",
    "#NOTE: The DFT matrix is subtly different than the Schur matrix\n",
    "#DFT = exp(2*pi*i*m*n/q) for 0 <= m,n <= q-1\n",
    "#whereas for Schur's matrix A it is 1 <= m,n <= q\n",
    "#this amounts to applying the cyclic permutation \\sigma = (1 2 ... n) to Schur's matrix to both rows and columns\n",
    "#if the row permutation is P_\\sigma, the column permutation is P_\\sigma^{T} = P_\\sigma^{-1}\n",
    "#then DFT = P_\\sigma*A*P_\\sigma^{-1}, so the two matrices are similar and have the same eigenvalues\n",
    "#the eigenvectors of DFT are Pv if v is an eigenvector of A, i.e. cyclicly permuting the entries of v\n",
    "DFT = matrix([[(alpha**(i*j)).expand() for j in range(q)] for i in range(q)])\n",
    "DFT.eigenvectors_right()"
   ]
  },
  {
   "cell_type": "code",
   "execution_count": 72,
   "id": "5195daa4-ed18-42da-89cf-dceca82418d7",
   "metadata": {},
   "outputs": [
    {
     "data": {
      "text/plain": [
       "True"
      ]
     },
     "execution_count": 72,
     "metadata": {},
     "output_type": "execute_result"
    }
   ],
   "source": [
    "#check that A is similar to the DFT matrix by cyclicly permuting columns and rows\n",
    "sigma = Permutation([(i % q)+1 for i in range(1,q+1)])\n",
    "P = sigma.to_matrix()\n",
    "P.inverse()*DFT*P == A"
   ]
  },
  {
   "cell_type": "code",
   "execution_count": 113,
   "id": "eb7fa558-8f3f-4531-8d04-de47fbafcc10",
   "metadata": {},
   "outputs": [],
   "source": [
    "#define the vectors X_d given a divisor d of q/f(chi), where f(chi) is the conductor of the character \\chi\n",
    "def X(d,chi):\n",
    "    q = chi.modulus()\n",
    "    f = chi.conductor()\n",
    "    print(d,q,f,q/f)\n",
    "    assert d.divides(q/f)\n",
    "    return vector([chi.primitive_character()(n/d) if d.divides(n) else 0 for n in range(1,q+1)])"
   ]
  },
  {
   "cell_type": "code",
   "execution_count": 118,
   "id": "4aac809d-11b8-4c36-8076-ba2194c27566",
   "metadata": {},
   "outputs": [],
   "source": [
    "#compute eigenvectors given a character chi and a divisor d of q/f(chi)\n",
    "def eigenvector(d,chi):\n",
    "    print(d,q/chi.conductor())\n",
    "    try:\n",
    "        assert d.divides(q/chi.conductor())\n",
    "    except AssertionError:\n",
    "        print(\"Error: d must divide q/f(chi)\")\n",
    "        return\n",
    "\n",
    "    #define the eigenvectors E(chi,d,lambda) as in (13) in the paper\n",
    "    conjugate_divisor = Integer(chi.modulus()/(chi.conductor()*d))\n",
    "    eig_plus = sqrt(chi(-1)*chi.modulus())\n",
    "    eig_minus = -sqrt(chi(-1)*chi.modulus())\n",
    "    #need to restrict character to modulus conductor, i.e. the primitive character\n",
    "    E = lambda chi, d, eig: sqrt(d)*X(d,chi) + (eig/(chi.bar().primitive_character().gauss_sum()*sqrt(d)))*conjugate(X(conjugate_divisor,chi))\n",
    "\n",
    "    #check if chi is real and if the ratio of modulus to conductor is the square of a divisor\n",
    "    reality_condition = chi.bar() == chi\n",
    "    square_condition = d^2 == chi.modulus()/chi.conductor()\n",
    "\n",
    "    #if chi is real and square condition is met, just return X_d(chi)\n",
    "    if reality_condition and square_condition:\n",
    "        return X(d,chi)\n",
    "\n",
    "    #if one or the other condition is met, return a pair of eigenvalues corresponding to E(chi,d,\\pm lambda)\n",
    "    if reality_condition != square_condition:\n",
    "        return E(chi,d,eig_plus), E(chi,d,eig_minus)\n",
    "\n",
    "    #if neither condition are met, return four eigenvalues E(chi,d,\\pm lambda) and E(chi_bar,d,\\pm lambda)\n",
    "    if (not reality_condition) and (not square_condition):\n",
    "        return E(chi,d,eig_plus), E(chi,d,eig_minus), E(chi.bar(),d,eig_plus), E(chi.bar(),d,eig_minus)"
   ]
  },
  {
   "cell_type": "code",
   "execution_count": 115,
   "id": "3cd5a7ee-653d-4297-b4e7-562c50c8a829",
   "metadata": {},
   "outputs": [],
   "source": [
    "from sage.misc.flatten import flatten\n",
    "#compute all the eigenvectors the Schur matrix\n",
    "def all_eigenvectors(q):\n",
    "    all_eigs = []\n",
    "    G = DirichletGroup(q)\n",
    "    for chi in G:\n",
    "        f = chi.conductor()\n",
    "        for d in divisors(q/f):\n",
    "            print(\"chi: \",chi,\"| d:\",d)\n",
    "            all_eigs.append(eigenvector(Integer(d),chi))\n",
    "    return all_eigs"
   ]
  },
  {
   "cell_type": "code",
   "execution_count": 100,
   "id": "db9cb9db-eb2d-4293-a305-94c9da572bd4",
   "metadata": {},
   "outputs": [],
   "source": [
    "#for q=3, it seems that the second condition is being called twice when it should only be called once\n",
    "#it's giving two independent eigenvectors each time, but they are dependent\n",
    "#there are also two total extra vectors, so removing these two would fix the problem"
   ]
  },
  {
   "cell_type": "code",
   "execution_count": 119,
   "id": "fa8175eb-393b-49ac-8b09-0542598ef0c8",
   "metadata": {},
   "outputs": [
    {
     "name": "stdout",
     "output_type": "stream",
     "text": [
      "chi:  Dirichlet character modulo 4 of conductor 1 mapping 3 |--> 1 | d: 1\n",
      "1 3\n",
      "1 4 1 4\n",
      "4 4 1 4\n",
      "1 4 1 4\n",
      "4 4 1 4\n",
      "chi:  Dirichlet character modulo 4 of conductor 1 mapping 3 |--> 1 | d: 2\n",
      "2 3\n",
      "Error: d must divide q/f(chi)\n",
      "chi:  Dirichlet character modulo 4 of conductor 1 mapping 3 |--> 1 | d: 4\n",
      "4 3\n",
      "Error: d must divide q/f(chi)\n",
      "chi:  Dirichlet character modulo 4 of conductor 4 mapping 3 |--> -1 | d: 1\n",
      "1 3/4\n"
     ]
    },
    {
     "ename": "TypeError",
     "evalue": "no conversion of this rational to integer",
     "output_type": "error",
     "traceback": [
      "\u001b[0;31m---------------------------------------------------------------------------\u001b[0m",
      "\u001b[0;31mTypeError\u001b[0m                                 Traceback (most recent call last)",
      "Cell \u001b[0;32mIn[119], line 1\u001b[0m\n\u001b[0;32m----> 1\u001b[0m \u001b[43mall_eigenvectors\u001b[49m\u001b[43m(\u001b[49m\u001b[43mInteger\u001b[49m\u001b[43m(\u001b[49m\u001b[38;5;241;43m4\u001b[39;49m\u001b[43m)\u001b[49m\u001b[43m)\u001b[49m\n",
      "Cell \u001b[0;32mIn[115], line 10\u001b[0m, in \u001b[0;36mall_eigenvectors\u001b[0;34m(q)\u001b[0m\n\u001b[1;32m      8\u001b[0m     \u001b[38;5;28;01mfor\u001b[39;00m d \u001b[38;5;129;01min\u001b[39;00m divisors(q\u001b[38;5;241m/\u001b[39mf):\n\u001b[1;32m      9\u001b[0m         \u001b[38;5;28mprint\u001b[39m(\u001b[38;5;124m\"\u001b[39m\u001b[38;5;124mchi: \u001b[39m\u001b[38;5;124m\"\u001b[39m,chi,\u001b[38;5;124m\"\u001b[39m\u001b[38;5;124m| d:\u001b[39m\u001b[38;5;124m\"\u001b[39m,d)\n\u001b[0;32m---> 10\u001b[0m         all_eigs\u001b[38;5;241m.\u001b[39mappend(\u001b[43meigenvector\u001b[49m\u001b[43m(\u001b[49m\u001b[43mInteger\u001b[49m\u001b[43m(\u001b[49m\u001b[43md\u001b[49m\u001b[43m)\u001b[49m\u001b[43m,\u001b[49m\u001b[43mchi\u001b[49m\u001b[43m)\u001b[49m)\n\u001b[1;32m     11\u001b[0m \u001b[38;5;28;01mreturn\u001b[39;00m all_eigs\n",
      "Cell \u001b[0;32mIn[118], line 5\u001b[0m, in \u001b[0;36meigenvector\u001b[0;34m(d, chi)\u001b[0m\n\u001b[1;32m      3\u001b[0m \u001b[38;5;28mprint\u001b[39m(d,q\u001b[38;5;241m/\u001b[39mchi\u001b[38;5;241m.\u001b[39mconductor())\n\u001b[1;32m      4\u001b[0m \u001b[38;5;28;01mtry\u001b[39;00m:\n\u001b[0;32m----> 5\u001b[0m     \u001b[38;5;28;01massert\u001b[39;00m \u001b[43md\u001b[49m\u001b[38;5;241;43m.\u001b[39;49m\u001b[43mdivides\u001b[49m\u001b[43m(\u001b[49m\u001b[43mq\u001b[49m\u001b[38;5;241;43m/\u001b[39;49m\u001b[43mchi\u001b[49m\u001b[38;5;241;43m.\u001b[39;49m\u001b[43mconductor\u001b[49m\u001b[43m(\u001b[49m\u001b[43m)\u001b[49m\u001b[43m)\u001b[49m\n\u001b[1;32m      6\u001b[0m \u001b[38;5;28;01mexcept\u001b[39;00m \u001b[38;5;167;01mAssertionError\u001b[39;00m:\n\u001b[1;32m      7\u001b[0m     \u001b[38;5;28mprint\u001b[39m(\u001b[38;5;124m\"\u001b[39m\u001b[38;5;124mError: d must divide q/f(chi)\u001b[39m\u001b[38;5;124m\"\u001b[39m)\n",
      "File \u001b[0;32m/private/var/tmp/sage-10.3-current/local/var/lib/sage/venv-python3.11.1/lib/python3.11/site-packages/sage/rings/integer.pyx:4194\u001b[0m, in \u001b[0;36msage.rings.integer.Integer.divides (build/cythonized/sage/rings/integer.c:39962)\u001b[0;34m()\u001b[0m\n\u001b[1;32m   4192\u001b[0m cdef bint t\n\u001b[1;32m   4193\u001b[0m cdef Integer _n\n\u001b[0;32m-> 4194\u001b[0m _n = Integer(n)\n\u001b[1;32m   4195\u001b[0m if mpz_sgn(self.value) == 0:\n\u001b[1;32m   4196\u001b[0m     return mpz_sgn(_n.value) == 0\n",
      "File \u001b[0;32m/private/var/tmp/sage-10.3-current/local/var/lib/sage/venv-python3.11.1/lib/python3.11/site-packages/sage/rings/integer.pyx:653\u001b[0m, in \u001b[0;36msage.rings.integer.Integer.__init__ (build/cythonized/sage/rings/integer.c:14703)\u001b[0;34m()\u001b[0m\n\u001b[1;32m    651\u001b[0m otmp = getattr(x, \"_integer_\", None)\n\u001b[1;32m    652\u001b[0m if otmp is not None:\n\u001b[0;32m--> 653\u001b[0m     set_from_Integer(self, otmp(the_integer_ring))\n\u001b[1;32m    654\u001b[0m     return\n\u001b[1;32m    655\u001b[0m \n",
      "File \u001b[0;32m/private/var/tmp/sage-10.3-current/local/var/lib/sage/venv-python3.11.1/lib/python3.11/site-packages/sage/rings/rational.pyx:2998\u001b[0m, in \u001b[0;36msage.rings.rational.Rational._integer_ (build/cythonized/sage/rings/rational.cpp:35476)\u001b[0;34m()\u001b[0m\n\u001b[1;32m   2996\u001b[0m \"\"\"\n\u001b[1;32m   2997\u001b[0m if not mpz_cmp_si(mpq_denref(self.value), 1) == 0:\n\u001b[0;32m-> 2998\u001b[0m     raise TypeError(\"no conversion of this rational to integer\")\n\u001b[1;32m   2999\u001b[0m cdef Integer n = Integer.__new__(Integer)\n\u001b[1;32m   3000\u001b[0m n.set_from_mpz(mpq_numref(self.value))\n",
      "\u001b[0;31mTypeError\u001b[0m: no conversion of this rational to integer"
     ]
    }
   ],
   "source": [
    "all_eigenvectors(4)"
   ]
  },
  {
   "cell_type": "code",
   "execution_count": null,
   "id": "c758327e-69ac-4fcb-8439-79f0f7eb207b",
   "metadata": {},
   "outputs": [],
   "source": []
  }
 ],
 "metadata": {
  "kernelspec": {
   "display_name": "SageMath 10.3",
   "language": "sage",
   "name": "sagemath-10.3"
  },
  "language_info": {
   "codemirror_mode": {
    "name": "ipython",
    "version": 3
   },
   "file_extension": ".py",
   "mimetype": "text/x-python",
   "name": "python",
   "nbconvert_exporter": "python",
   "pygments_lexer": "ipython3",
   "version": "3.11.1"
  }
 },
 "nbformat": 4,
 "nbformat_minor": 5
}
