{
 "cells": [
  {
   "cell_type": "code",
   "execution_count": 1,
   "id": "854e2a23-b7b2-4480-85db-04b91957f5fd",
   "metadata": {},
   "outputs": [],
   "source": [
    "#compute the eigenvectors of Schur's matrix according to Morton's '78 paper, \"On the Eigenvectors of Schur's Matrix\"\n",
    "#https://www.sciencedirect.com/science/article/pii/0022314X80900839"
   ]
  },
  {
   "cell_type": "code",
   "execution_count": 59,
   "id": "5f6a1229-25b0-4cc1-97d6-fb0cec54d304",
   "metadata": {},
   "outputs": [
    {
     "data": {
      "text/plain": [
       "[(sqrt(5),\n",
       "  [(1, 0, 0, 1, 1/2*sqrt(5) + 1/2), (0, 1, 1, 0, 1/2*sqrt(5) + 1/2)],\n",
       "  2),\n",
       " (-I*sqrt(5),\n",
       "  [(1, -1/2*sqrt(5) - 1/2*sqrt(2*sqrt(5) + 10) - 1/2, 1/2*sqrt(5) + 1/2*sqrt(2*sqrt(5) + 10) + 1/2, -1, 0)],\n",
       "  1),\n",
       " (I*sqrt(5),\n",
       "  [(1, -1/2*sqrt(5) + 1/2*sqrt(2*sqrt(5) + 10) - 1/2, 1/2*sqrt(5) - 1/2*sqrt(2*sqrt(5) + 10) + 1/2, -1, 0)],\n",
       "  1),\n",
       " (-sqrt(5), [(1, 1, 1, 1, -sqrt(5) + 1)], 1)]"
      ]
     },
     "execution_count": 59,
     "metadata": {},
     "output_type": "execute_result"
    }
   ],
   "source": [
    "#compute the eigenvectors of Schur's matrix (symbolically) over the complex numbers (or a cyclotomic field containing q^th roots of unity)\n",
    "#note: A is not unitary \n",
    "q=5\n",
    "alpha = exp(2*pi*I/q)\n",
    "#K.<alpha> = CyclotomicField(3)\n",
    "A = matrix([[(alpha**(i*j)).expand() for j in range(1,q+1)] for i in range(1,q+1)])\n",
    "A.eigenvectors_right()"
   ]
  },
  {
   "cell_type": "code",
   "execution_count": 27,
   "id": "6ce7b97d-9886-492e-8729-2ffbba1b2419",
   "metadata": {},
   "outputs": [
    {
     "data": {
      "text/plain": [
       "[(2*I, [(0, 1, 0, -1)], 1),\n",
       " (-2, [(1, -1, -1, -1)], 1),\n",
       " (2, [(1, 0, 1, 0), (0, 1, -2, 1)], 2)]"
      ]
     },
     "execution_count": 27,
     "metadata": {},
     "output_type": "execute_result"
    }
   ],
   "source": [
    "#compute the eigenvectors of the DFT matrix (symbolically) over the complex numbers (or a cyclotomic field containing q^th roots of unity)\n",
    "#NOTE: The DFT matrix is subtly different than the Schur matrix\n",
    "#DFT = exp(2*pi*i*m*n/q) for 0 <= m,n <= q-1\n",
    "#whereas for Schur's matrix A it is 1 <= m,n <= q\n",
    "#this amounts to applying the cyclic permutation \\sigma = (1 2 ... n) to Schur's matrix to both rows and columns\n",
    "#if the row permutation is P_\\sigma, the column permutation is P_\\sigma^{T} = P_\\sigma^{-1}\n",
    "#then DFT = P_\\sigma*A*P_\\sigma^{-1}, so the two matrices are similar and have the same eigenvalues\n",
    "#the eigenvectors of DFT are Pv if v is an eigenvector of A, i.e. cyclicly permuting the entries of v\n",
    "DFT = matrix([[(alpha**(i*j)).expand() for j in range(q)] for i in range(q)])\n",
    "DFT.eigenvectors_right()"
   ]
  },
  {
   "cell_type": "code",
   "execution_count": 28,
   "id": "5195daa4-ed18-42da-89cf-dceca82418d7",
   "metadata": {},
   "outputs": [
    {
     "data": {
      "text/plain": [
       "True"
      ]
     },
     "execution_count": 28,
     "metadata": {},
     "output_type": "execute_result"
    }
   ],
   "source": [
    "#check that A is similar to the DFT matrix by cyclicly permuting columns and rows\n",
    "sigma = Permutation([(i % q)+1 for i in range(1,q+1)])\n",
    "P = sigma.to_matrix()\n",
    "P.inverse()*DFT*P == A"
   ]
  },
  {
   "cell_type": "code",
   "execution_count": 158,
   "id": "eb7fa558-8f3f-4531-8d04-de47fbafcc10",
   "metadata": {},
   "outputs": [],
   "source": [
    "#define the vectors X_d given a divisor d of q/f(chi), where f(chi) is the conductor of the character \\chi\n",
    "#characters are evaluated as primitive characeters, i.e. relative to the conductor\n",
    "def X(d,chi):\n",
    "    q = chi.modulus()\n",
    "    f = chi.conductor()\n",
    "    assert d.divides(q/f)\n",
    "    return vector([chi.primitive_character()(n/d) if d.divides(n) else 0 for n in range(1,q+1)])"
   ]
  },
  {
   "cell_type": "code",
   "execution_count": 30,
   "id": "829db2f5-2592-4d58-bbcf-af31a1ddaea7",
   "metadata": {},
   "outputs": [],
   "source": [
    "#helper function to embed cyclotomic field into symbolic ring\n",
    "def embed_SR(x):\n",
    "    K = x.parent()\n",
    "    K.<z> = K\n",
    "    order = K.gen().multiplicative_order()\n",
    "    phi = K.hom([exp(2*pi*I/order)],SR)\n",
    "    return phi(x)"
   ]
  },
  {
   "cell_type": "code",
   "execution_count": 156,
   "id": "4aac809d-11b8-4c36-8076-ba2194c27566",
   "metadata": {},
   "outputs": [],
   "source": [
    "#compute eigenvectors given a character chi and a divisor d of q/f(chi)\n",
    "def eigenvectors(d,chi):\n",
    "    q = chi.modulus()\n",
    "    f = chi.conductor()\n",
    "    try:\n",
    "        assert d.divides(q/f)\n",
    "    except AssertionError:\n",
    "        print(\"Error: d must divide q/f(chi)\")\n",
    "        return\n",
    "\n",
    "    #define the eigenvalues\n",
    "    eig_plus = sqrt(chi(-1)*q)\n",
    "    eig_minus = -sqrt(chi(-1)*q)\n",
    "    eig_X = sqrt(q/f)*chi.primitive_character().gauss_sum()\n",
    "    #map the eigenvalue to the symbolic ring if not already a member\n",
    "    if eig_X.parent() != SR:\n",
    "        eig_X = embed_SR(eig_X)\n",
    "    eig_X = eig_X.simplify_full()\n",
    "\n",
    "    #define the eigenvectors E(chi,d,lambda) as in (13) in the paper\n",
    "    #need to restrict character to modulus conductor, i.e. the primitive character|\n",
    "    E = lambda chi, d, eig: sqrt(d)*X(d,chi) + (eig/(chi.bar().primitive_character().gauss_sum()*sqrt(d)))*X(Integer(q/(f*d)),chi.bar())\n",
    "\n",
    "    #check if chi is real and if the ratio of modulus to conductor is the square of a divisor\n",
    "    reality_condition = chi.bar() == chi\n",
    "    square_condition = d^2 == q/f\n",
    "\n",
    "    #if chi is real and square condition is met, just return X_d(chi)\n",
    "    if reality_condition and square_condition:\n",
    "        return [(eig_X, X(d,chi))]\n",
    "\n",
    "    #if one or the other condition is met, return a pair of eigenvalues corresponding to E(chi,d,\\pm lambda)\n",
    "    if reality_condition != square_condition:\n",
    "        return (eig_plus, E(chi,d,eig_plus)), (eig_minus, E(chi,d,eig_minus))\n",
    "\n",
    "    #if neither condition are met, return four eigenvalues E(chi,d,\\pm lambda) and E(chi_bar,d,\\pm lambda)\n",
    "    if (not reality_condition) and (not square_condition):\n",
    "        return (eig_plus,E(chi,d,eig_plus)), (eig_minus,E(chi,d,eig_minus)), (eig_plus,E(chi.bar(),d,eig_plus)), (eig_minus,E(chi.bar(),d,eig_minus))"
   ]
  },
  {
   "cell_type": "code",
   "execution_count": 114,
   "id": "3cd5a7ee-653d-4297-b4e7-562c50c8a829",
   "metadata": {},
   "outputs": [],
   "source": [
    "from sage.misc.flatten import flatten\n",
    "#compute all the eigenvectors the Schur matrix\n",
    "#return a dict with eigenvalues as keys and list of eigenvectors as values\n",
    "def all_eigenvectors(q):\n",
    "    all_eigs = {}\n",
    "    G = DirichletGroup(q)\n",
    "    for chi in G:\n",
    "        f = chi.conductor()\n",
    "        for d in divisors(q/f):\n",
    "            for v in eigenvectors(Integer(d),chi):\n",
    "                if v[0] not in all_eigs:\n",
    "                    all_eigs[v[0]] = [v[1]]\n",
    "                else:\n",
    "                    all_eigs[v[0]].append(v[1])\n",
    "    return all_eigs"
   ]
  },
  {
   "cell_type": "code",
   "execution_count": 8,
   "id": "db9cb9db-eb2d-4293-a305-94c9da572bd4",
   "metadata": {},
   "outputs": [],
   "source": [
    "#BUG 1:\n",
    "#for q=3 and q=4, it seems that the second condition is being called twice when it should only be called once\n",
    "#it's giving two independent eigenvectors each time, but they are dependent on other vectors in the list\n",
    "#there are two total extra vectors, so removing these two would fix the problem\n",
    "#NOTE: zeta4 <--> I, zeta6 <--> exp(2*pi*I/6), etc. eigenvalues = {\\pm sqrt(q), \\pm I*sqrt(q)}. use map to symbolic ring."
   ]
  },
  {
   "cell_type": "code",
   "execution_count": 126,
   "id": "6d73c706-9643-492b-b74d-8d51a155a8b9",
   "metadata": {},
   "outputs": [],
   "source": [
    "#BUG 2:\n",
    "#for q=5, the eigenvector component expressions are very complicated because they're in the symbolic ring\n",
    "#any linear combintation is an eigenvector, so perhaps these are complicated linear combinations of the simple ones by eigenvectors_right()\n",
    "#for sqrt(5), it is almost correct. the last component is sqrt(5)/2 when it should be sqrt(5)/2+1/2\n",
    "#these are occuring when (reality_condition == True) and (square_condition == False)"
   ]
  },
  {
   "cell_type": "code",
   "execution_count": 150,
   "id": "a2268b5c-a97f-494c-a67c-49699b12591f",
   "metadata": {},
   "outputs": [
    {
     "data": {
      "text/plain": [
       "Dirichlet character modulo 5 of conductor 1 mapping 2 |--> 1"
      ]
     },
     "execution_count": 150,
     "metadata": {},
     "output_type": "execute_result"
    }
   ],
   "source": [
    "chi = DirichletGroup(5)[0]; chi"
   ]
  },
  {
   "cell_type": "code",
   "execution_count": 153,
   "id": "2ac0181e-80ad-4be8-a985-bfbece767861",
   "metadata": {},
   "outputs": [
    {
     "data": {
      "text/plain": [
       "0"
      ]
     },
     "execution_count": 153,
     "metadata": {},
     "output_type": "execute_result"
    }
   ],
   "source": [
    "chi(5)"
   ]
  },
  {
   "cell_type": "code",
   "execution_count": 157,
   "id": "fa8175eb-393b-49ac-8b09-0542598ef0c8",
   "metadata": {},
   "outputs": [
    {
     "data": {
      "text/plain": [
       "{sqrt(5): [(1, 1, 1, 1, sqrt(5) + 1),\n",
       "  (1, 1, 1, 1, sqrt(5) + 1),\n",
       "  (1, -1, -1, 1, 0)],\n",
       " -sqrt(5): [(1, 1, 1, 1, -sqrt(5) + 1), (-1, -1, -1, -1, sqrt(5) - 1)],\n",
       " sqrt(-5): [(-sqrt(-5)/((1/4*I*sqrt(5) + 1/4*sqrt(2*sqrt(5) + 10) - 1/4*I)^7 - (1/4*I*sqrt(5) + 1/4*sqrt(2*sqrt(5) + 10) - 1/4*I)^6 - (1/4*I*sqrt(5) + 1/4*sqrt(2*sqrt(5) + 10) - 1/4*I)^4 - (1/4*I*sqrt(5) + 1/4*sqrt(2*sqrt(5) + 10) - 1/4*I)^3) + 1, I*sqrt(-5)/((1/4*I*sqrt(5) + 1/4*sqrt(2*sqrt(5) + 10) - 1/4*I)^7 - (1/4*I*sqrt(5) + 1/4*sqrt(2*sqrt(5) + 10) - 1/4*I)^6 - (1/4*I*sqrt(5) + 1/4*sqrt(2*sqrt(5) + 10) - 1/4*I)^4 - (1/4*I*sqrt(5) + 1/4*sqrt(2*sqrt(5) + 10) - 1/4*I)^3) + I, -I*sqrt(-5)/((1/4*I*sqrt(5) + 1/4*sqrt(2*sqrt(5) + 10) - 1/4*I)^7 - (1/4*I*sqrt(5) + 1/4*sqrt(2*sqrt(5) + 10) - 1/4*I)^6 - (1/4*I*sqrt(5) + 1/4*sqrt(2*sqrt(5) + 10) - 1/4*I)^4 - (1/4*I*sqrt(5) + 1/4*sqrt(2*sqrt(5) + 10) - 1/4*I)^3) - I, sqrt(-5)/((1/4*I*sqrt(5) + 1/4*sqrt(2*sqrt(5) + 10) - 1/4*I)^7 - (1/4*I*sqrt(5) + 1/4*sqrt(2*sqrt(5) + 10) - 1/4*I)^6 - (1/4*I*sqrt(5) + 1/4*sqrt(2*sqrt(5) + 10) - 1/4*I)^4 - (1/4*I*sqrt(5) + 1/4*sqrt(2*sqrt(5) + 10) - 1/4*I)^3) - 1, 0),\n",
       "  (sqrt(-5)/((1/4*I*sqrt(5) + 1/4*sqrt(2*sqrt(5) + 10) - 1/4*I)^7 + (1/4*I*sqrt(5) + 1/4*sqrt(2*sqrt(5) + 10) - 1/4*I)^6 + (1/4*I*sqrt(5) + 1/4*sqrt(2*sqrt(5) + 10) - 1/4*I)^4 - (1/4*I*sqrt(5) + 1/4*sqrt(2*sqrt(5) + 10) - 1/4*I)^3) + 1, I*sqrt(-5)/((1/4*I*sqrt(5) + 1/4*sqrt(2*sqrt(5) + 10) - 1/4*I)^7 + (1/4*I*sqrt(5) + 1/4*sqrt(2*sqrt(5) + 10) - 1/4*I)^6 + (1/4*I*sqrt(5) + 1/4*sqrt(2*sqrt(5) + 10) - 1/4*I)^4 - (1/4*I*sqrt(5) + 1/4*sqrt(2*sqrt(5) + 10) - 1/4*I)^3) - I, -I*sqrt(-5)/((1/4*I*sqrt(5) + 1/4*sqrt(2*sqrt(5) + 10) - 1/4*I)^7 + (1/4*I*sqrt(5) + 1/4*sqrt(2*sqrt(5) + 10) - 1/4*I)^6 + (1/4*I*sqrt(5) + 1/4*sqrt(2*sqrt(5) + 10) - 1/4*I)^4 - (1/4*I*sqrt(5) + 1/4*sqrt(2*sqrt(5) + 10) - 1/4*I)^3) + I, -sqrt(-5)/((1/4*I*sqrt(5) + 1/4*sqrt(2*sqrt(5) + 10) - 1/4*I)^7 + (1/4*I*sqrt(5) + 1/4*sqrt(2*sqrt(5) + 10) - 1/4*I)^6 + (1/4*I*sqrt(5) + 1/4*sqrt(2*sqrt(5) + 10) - 1/4*I)^4 - (1/4*I*sqrt(5) + 1/4*sqrt(2*sqrt(5) + 10) - 1/4*I)^3) - 1, 0)],\n",
       " -sqrt(-5): [(sqrt(-5)/((1/4*I*sqrt(5) + 1/4*sqrt(2*sqrt(5) + 10) - 1/4*I)^7 - (1/4*I*sqrt(5) + 1/4*sqrt(2*sqrt(5) + 10) - 1/4*I)^6 - (1/4*I*sqrt(5) + 1/4*sqrt(2*sqrt(5) + 10) - 1/4*I)^4 - (1/4*I*sqrt(5) + 1/4*sqrt(2*sqrt(5) + 10) - 1/4*I)^3) + 1, -I*sqrt(-5)/((1/4*I*sqrt(5) + 1/4*sqrt(2*sqrt(5) + 10) - 1/4*I)^7 - (1/4*I*sqrt(5) + 1/4*sqrt(2*sqrt(5) + 10) - 1/4*I)^6 - (1/4*I*sqrt(5) + 1/4*sqrt(2*sqrt(5) + 10) - 1/4*I)^4 - (1/4*I*sqrt(5) + 1/4*sqrt(2*sqrt(5) + 10) - 1/4*I)^3) + I, I*sqrt(-5)/((1/4*I*sqrt(5) + 1/4*sqrt(2*sqrt(5) + 10) - 1/4*I)^7 - (1/4*I*sqrt(5) + 1/4*sqrt(2*sqrt(5) + 10) - 1/4*I)^6 - (1/4*I*sqrt(5) + 1/4*sqrt(2*sqrt(5) + 10) - 1/4*I)^4 - (1/4*I*sqrt(5) + 1/4*sqrt(2*sqrt(5) + 10) - 1/4*I)^3) - I, -sqrt(-5)/((1/4*I*sqrt(5) + 1/4*sqrt(2*sqrt(5) + 10) - 1/4*I)^7 - (1/4*I*sqrt(5) + 1/4*sqrt(2*sqrt(5) + 10) - 1/4*I)^6 - (1/4*I*sqrt(5) + 1/4*sqrt(2*sqrt(5) + 10) - 1/4*I)^4 - (1/4*I*sqrt(5) + 1/4*sqrt(2*sqrt(5) + 10) - 1/4*I)^3) - 1, 0),\n",
       "  (-sqrt(-5)/((1/4*I*sqrt(5) + 1/4*sqrt(2*sqrt(5) + 10) - 1/4*I)^7 + (1/4*I*sqrt(5) + 1/4*sqrt(2*sqrt(5) + 10) - 1/4*I)^6 + (1/4*I*sqrt(5) + 1/4*sqrt(2*sqrt(5) + 10) - 1/4*I)^4 - (1/4*I*sqrt(5) + 1/4*sqrt(2*sqrt(5) + 10) - 1/4*I)^3) + 1, -I*sqrt(-5)/((1/4*I*sqrt(5) + 1/4*sqrt(2*sqrt(5) + 10) - 1/4*I)^7 + (1/4*I*sqrt(5) + 1/4*sqrt(2*sqrt(5) + 10) - 1/4*I)^6 + (1/4*I*sqrt(5) + 1/4*sqrt(2*sqrt(5) + 10) - 1/4*I)^4 - (1/4*I*sqrt(5) + 1/4*sqrt(2*sqrt(5) + 10) - 1/4*I)^3) - I, I*sqrt(-5)/((1/4*I*sqrt(5) + 1/4*sqrt(2*sqrt(5) + 10) - 1/4*I)^7 + (1/4*I*sqrt(5) + 1/4*sqrt(2*sqrt(5) + 10) - 1/4*I)^6 + (1/4*I*sqrt(5) + 1/4*sqrt(2*sqrt(5) + 10) - 1/4*I)^4 - (1/4*I*sqrt(5) + 1/4*sqrt(2*sqrt(5) + 10) - 1/4*I)^3) + I, sqrt(-5)/((1/4*I*sqrt(5) + 1/4*sqrt(2*sqrt(5) + 10) - 1/4*I)^7 + (1/4*I*sqrt(5) + 1/4*sqrt(2*sqrt(5) + 10) - 1/4*I)^6 + (1/4*I*sqrt(5) + 1/4*sqrt(2*sqrt(5) + 10) - 1/4*I)^4 - (1/4*I*sqrt(5) + 1/4*sqrt(2*sqrt(5) + 10) - 1/4*I)^3) - 1, 0)]}"
      ]
     },
     "execution_count": 157,
     "metadata": {},
     "output_type": "execute_result"
    }
   ],
   "source": [
    "all_eigenvectors(5)"
   ]
  },
  {
   "cell_type": "code",
   "execution_count": null,
   "id": "6cb7b358-34e3-45e3-a95e-b737f1b26ce2",
   "metadata": {},
   "outputs": [],
   "source": []
  }
 ],
 "metadata": {
  "kernelspec": {
   "display_name": "SageMath 10.3",
   "language": "sage",
   "name": "sagemath-10.3"
  },
  "language_info": {
   "codemirror_mode": {
    "name": "ipython",
    "version": 3
   },
   "file_extension": ".py",
   "mimetype": "text/x-python",
   "name": "python",
   "nbconvert_exporter": "python",
   "pygments_lexer": "ipython3",
   "version": "3.11.1"
  }
 },
 "nbformat": 4,
 "nbformat_minor": 5
}
