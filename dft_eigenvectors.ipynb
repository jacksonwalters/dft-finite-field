{
 "cells": [
  {
   "cell_type": "code",
   "execution_count": 421,
   "id": "854e2a23-b7b2-4480-85db-04b91957f5fd",
   "metadata": {},
   "outputs": [],
   "source": [
    "#compute the eigenvectors of Schur's matrix according to Morton's '78 paper\n",
    "#\"On the Eigenvectors of Schur's Matrix\": https://www.sciencedirect.com/science/article/pii/0022314X80900839\n",
    "#NOTE: The DFT matrix is subtly different than the Schur matrix. DFT = exp(2*pi*i*m*n/q) for 0 <= m,n <= q-1\n",
    "#whereas for Schur's matrix it is 1 <= m,n <= q"
   ]
  },
  {
   "cell_type": "code",
   "execution_count": 433,
   "id": "5f6a1229-25b0-4cc1-97d6-fb0cec54d304",
   "metadata": {},
   "outputs": [
    {
     "data": {
      "text/plain": [
       "[(2*I, [(1, 0, -1, 0)], 1),\n",
       " (-2, [(1, 1, 1, -1)], 1),\n",
       " (2, [(1, 0, 1, 2), (0, 1, 0, 1)], 2)]"
      ]
     },
     "execution_count": 433,
     "metadata": {},
     "output_type": "execute_result"
    }
   ],
   "source": [
    "#compute the eigenvectors of the unitary matrix corresponding to the Fourier transform over the complex numbers\n",
    "q=4\n",
    "alpha = exp(2*pi*I/q)\n",
    "#K.<alpha> = CyclotomicField(3)\n",
    "U = matrix([[alpha**(i*j) for j in range(1,q+1)] for i in range(1,q+1)])\n",
    "U.eigenvectors_right()"
   ]
  },
  {
   "cell_type": "code",
   "execution_count": 378,
   "id": "eb7fa558-8f3f-4531-8d04-de47fbafcc10",
   "metadata": {},
   "outputs": [],
   "source": [
    "#define the vectors X_d given a divisor d of q/f(chi), where f(chi) is the conductor of the character \\chi\n",
    "def X(d,chi):\n",
    "    q = chi.modulus()\n",
    "    assert d.divides(q/chi.conductor())\n",
    "    return vector([chi(n/d) if d.divides(n) else 0 for n in range(1,q+1)])"
   ]
  },
  {
   "cell_type": "code",
   "execution_count": null,
   "id": "4aac809d-11b8-4c36-8076-ba2194c27566",
   "metadata": {},
   "outputs": [],
   "source": [
    "#compute eigenvectors given a character chi and a divisor d of q/f(chi)\n",
    "def eigenvector(d,chi):\n",
    "    try:\n",
    "        assert d.divides(q/chi.conductor())\n",
    "    except AssertionError:\n",
    "        print(\"Error: d must divide q/f(chi)\")\n",
    "        return\n",
    "\n",
    "    #define the eigenvectors E(chi,d,lambda) as in (13) in the paper\n",
    "    conjugate_divisor = Integer(chi.modulus()/(chi.conductor()*d))\n",
    "    eig_plus = sqrt(chi(-1)*chi.modulus())\n",
    "    eig_minus = -sqrt(chi(-1)*chi.modulus())\n",
    "    #need to restrict character to modulus conductor, i.e. the primitive character\n",
    "    E = lambda chi, d, eig: sqrt(d)*X(d,chi) + (eig/(chi.bar().restrict(chi.conductor()).gauss_sum()*sqrt(d)))*conjugate(X(conjugate_divisor,chi))\n",
    "\n",
    "    #check if chi is real and if the ratio of modulus to conductor is the square of a divisor\n",
    "    reality_condition = chi.bar() == chi\n",
    "    square_condition = d^2 == chi.modulus()/chi.conductor()\n",
    "\n",
    "    #if chi is real and square condition is met, just return X_d(chi)\n",
    "    if reality_condition and square_condition:\n",
    "        return X(d,chi)\n",
    "\n",
    "    #if one or the other condition is met, return a pair of eigenvalues corresponding to E(chi,d,\\pm lambda)\n",
    "    if reality_condition != square_condition:\n",
    "        return E(chi,d,eig_plus), E(chi,d,eig_minus)\n",
    "\n",
    "    #if neither condition are met, return four eigenvalues E(chi,d,\\pm lambda) and E(chi_bar,d,\\pm lambda)\n",
    "    if (not reality_condition) and (not square_condition):\n",
    "        return E(chi,d,eig_plus), E(chi,d,eig_minus), E(chi.bar(),d,eig_plus), E(chi.bar(),d,eig_minus)"
   ]
  },
  {
   "cell_type": "code",
   "execution_count": 463,
   "id": "980fe332-fa23-46b8-9198-f9182994c4da",
   "metadata": {},
   "outputs": [
    {
     "data": {
      "text/plain": [
       "Group of Dirichlet characters modulo 4 with values in Cyclotomic Field of order 2 and degree 1"
      ]
     },
     "execution_count": 463,
     "metadata": {},
     "output_type": "execute_result"
    }
   ],
   "source": [
    "G = DirichletGroup(q); G"
   ]
  },
  {
   "cell_type": "code",
   "execution_count": 464,
   "id": "2303ac38-4e5e-4d9e-a19e-cbe0d85ff384",
   "metadata": {},
   "outputs": [
    {
     "data": {
      "text/plain": [
       "2"
      ]
     },
     "execution_count": 464,
     "metadata": {},
     "output_type": "execute_result"
    }
   ],
   "source": [
    "len(G)"
   ]
  },
  {
   "cell_type": "code",
   "execution_count": 436,
   "id": "fa1f37ca-a82b-45a2-8ae7-ce7d0f5d2332",
   "metadata": {},
   "outputs": [],
   "source": [
    "e = G[0]; f = G[1]"
   ]
  },
  {
   "cell_type": "code",
   "execution_count": 475,
   "id": "6f4ba35f-19f7-41a3-ba3a-149e7082d23b",
   "metadata": {},
   "outputs": [
    {
     "name": "stdout",
     "output_type": "stream",
     "text": [
      "2*zeta4\n",
      "2*zeta4\n"
     ]
    }
   ],
   "source": [
    "#note we are obtaining Gauss sums of zero when q=4 and d=1\n",
    "#the Gauss sum in the paper is really a restricted sum\n",
    "#it's only summing using a primitive f^th root of unity where f = f(chi) is the conductor\n",
    "print(f.bar().gauss_sum())\n",
    "print(f.restrict(f.conductor()).gauss_sum())"
   ]
  },
  {
   "cell_type": "code",
   "execution_count": 466,
   "id": "7d8f42d6-adf0-46bf-9457-0c6fe6edbce7",
   "metadata": {},
   "outputs": [
    {
     "data": {
      "text/plain": [
       "Dirichlet character modulo 4 of conductor 4 mapping 3 |--> -1"
      ]
     },
     "execution_count": 466,
     "metadata": {},
     "output_type": "execute_result"
    }
   ],
   "source": [
    "f"
   ]
  },
  {
   "cell_type": "code",
   "execution_count": 459,
   "id": "aba21f33-1aab-426a-96eb-762bd9f28b97",
   "metadata": {},
   "outputs": [
    {
     "data": {
      "text/plain": [
       "2*zeta4"
      ]
     },
     "execution_count": 459,
     "metadata": {},
     "output_type": "execute_result"
    }
   ],
   "source": [
    "f.primitive_character().gauss_sum()"
   ]
  },
  {
   "cell_type": "code",
   "execution_count": 468,
   "id": "8d195b63-da1a-4631-a501-2f9634d23aa7",
   "metadata": {},
   "outputs": [
    {
     "data": {
      "text/plain": [
       "(0, 1, 0, 0)"
      ]
     },
     "execution_count": 468,
     "metadata": {},
     "output_type": "execute_result"
    }
   ],
   "source": [
    "eigenvector(2,e)"
   ]
  },
  {
   "cell_type": "code",
   "execution_count": 406,
   "id": "02253bef-11b7-4826-8b24-144b6e4a17e5",
   "metadata": {},
   "outputs": [
    {
     "name": "stdout",
     "output_type": "stream",
     "text": [
      "sqrt(3)\n",
      "-sqrt(3)\n"
     ]
    }
   ],
   "source": [
    "eig_plus = sqrt(e(-1)*e.modulus()); print(eig_plus)\n",
    "eig_minus = -sqrt(e(-1)*e.modulus()); print(eig_minus)"
   ]
  },
  {
   "cell_type": "code",
   "execution_count": 412,
   "id": "1022c05f-1e53-4006-80f9-d7c2ffc132f8",
   "metadata": {},
   "outputs": [
    {
     "data": {
      "text/plain": [
       "3"
      ]
     },
     "execution_count": 412,
     "metadata": {},
     "output_type": "execute_result"
    }
   ],
   "source": [
    "conjugate_divisor = Integer(e.modulus()/(e.conductor()*1)); conjugate_divisor"
   ]
  },
  {
   "cell_type": "code",
   "execution_count": 408,
   "id": "9ece81ef-72b3-4b21-8175-884d43227eae",
   "metadata": {},
   "outputs": [
    {
     "data": {
      "text/plain": [
       "-sqrt(3)"
      ]
     },
     "execution_count": 408,
     "metadata": {},
     "output_type": "execute_result"
    }
   ],
   "source": [
    "(eig_plus/(e.bar().gauss_sum()*sqrt(1)))"
   ]
  },
  {
   "cell_type": "code",
   "execution_count": 409,
   "id": "f393b9a6-42b2-4a20-8b9a-513be1e892b8",
   "metadata": {},
   "outputs": [
    {
     "data": {
      "text/plain": [
       "-1"
      ]
     },
     "execution_count": 409,
     "metadata": {},
     "output_type": "execute_result"
    }
   ],
   "source": [
    "e.bar().gauss_sum()"
   ]
  },
  {
   "cell_type": "code",
   "execution_count": 430,
   "id": "9e77708c-edb7-44d6-b296-9cc3eb7965d1",
   "metadata": {},
   "outputs": [
    {
     "data": {
      "text/plain": [
       "(0, 0, 1)"
      ]
     },
     "execution_count": 430,
     "metadata": {},
     "output_type": "execute_result"
    }
   ],
   "source": [
    "conjugate(X(3,e))"
   ]
  },
  {
   "cell_type": "code",
   "execution_count": 432,
   "id": "eafb0885-866e-45d3-959b-1493fa54ae64",
   "metadata": {},
   "outputs": [
    {
     "data": {
      "text/plain": [
       "(1, 1, -sqrt(3))"
      ]
     },
     "execution_count": 432,
     "metadata": {},
     "output_type": "execute_result"
    }
   ],
   "source": [
    "sqrt(1)*X(1,e) + (-sqrt(3))*X(3,e)"
   ]
  },
  {
   "cell_type": "code",
   "execution_count": null,
   "id": "b19989e0-76e0-4bfa-ad20-1dc09eb18b5a",
   "metadata": {},
   "outputs": [],
   "source": []
  }
 ],
 "metadata": {
  "kernelspec": {
   "display_name": "SageMath 10.3",
   "language": "sage",
   "name": "sagemath-10.3"
  },
  "language_info": {
   "codemirror_mode": {
    "name": "ipython",
    "version": 3
   },
   "file_extension": ".py",
   "mimetype": "text/x-python",
   "name": "python",
   "nbconvert_exporter": "python",
   "pygments_lexer": "ipython3",
   "version": "3.11.1"
  }
 },
 "nbformat": 4,
 "nbformat_minor": 5
}
