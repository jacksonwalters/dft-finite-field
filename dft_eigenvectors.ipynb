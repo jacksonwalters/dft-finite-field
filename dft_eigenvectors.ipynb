{
 "cells": [
  {
   "cell_type": "code",
   "execution_count": 31,
   "id": "854e2a23-b7b2-4480-85db-04b91957f5fd",
   "metadata": {},
   "outputs": [],
   "source": [
    "#compute the eigenvectors of Schur's matrix according to Morton's '78 paper, \"On the Eigenvectors of Schur's Matrix\"\n",
    "#https://www.sciencedirect.com/science/article/pii/0022314X80900839"
   ]
  },
  {
   "cell_type": "code",
   "execution_count": 40,
   "id": "5f6a1229-25b0-4cc1-97d6-fb0cec54d304",
   "metadata": {},
   "outputs": [
    {
     "data": {
      "text/plain": [
       "[(I*sqrt(3), [(1, -1, 0)], 1),\n",
       " (-sqrt(3), [(1, 1, -sqrt(3) + 1)], 1),\n",
       " (sqrt(3), [(1, 1, sqrt(3) + 1)], 1)]"
      ]
     },
     "execution_count": 40,
     "metadata": {},
     "output_type": "execute_result"
    }
   ],
   "source": [
    "#compute the eigenvectors of Schur's matrix (symbolically) over the complex numbers (or a cyclotomic field containing q^th roots of unity)\n",
    "#note: A is not unitary \n",
    "q=3\n",
    "alpha = exp(2*pi*I/q)\n",
    "#K.<alpha> = CyclotomicField(3)\n",
    "A = matrix([[(alpha**(i*j)).expand() for j in range(1,q+1)] for i in range(1,q+1)])\n",
    "A.eigenvectors_right()"
   ]
  },
  {
   "cell_type": "code",
   "execution_count": 44,
   "id": "6ce7b97d-9886-492e-8729-2ffbba1b2419",
   "metadata": {},
   "outputs": [
    {
     "data": {
      "text/plain": [
       "[(I*sqrt(3), [(0, 1, -1)], 1),\n",
       " (-sqrt(3), [(1, -1/2*sqrt(3) - 1/2, -1/2*sqrt(3) - 1/2)], 1),\n",
       " (sqrt(3), [(1, 1/2*sqrt(3) - 1/2, 1/2*sqrt(3) - 1/2)], 1)]"
      ]
     },
     "execution_count": 44,
     "metadata": {},
     "output_type": "execute_result"
    }
   ],
   "source": [
    "#compute the eigenvectors of the DFT matrix (symbolically) over the complex numbers (or a cyclotomic field containing q^th roots of unity)\n",
    "#NOTE: The DFT matrix is subtly different than the Schur matrix\n",
    "#DFT = exp(2*pi*i*m*n/q) for 0 <= m,n <= q-1\n",
    "#whereas for Schur's matrix A it is 1 <= m,n <= q\n",
    "#this amounts to applying the cyclic permutation \\sigma = (1 2 ... n) to Schur's matrix to both rows and columns\n",
    "#if the row permutation is P_\\sigma, the column permutation is P_\\sigma^{T} = P_\\sigma^{-1}\n",
    "#then DFT = P_\\sigma*A*P_\\sigma^{-1}, so the two matrices are similar and have the same eigenvalues\n",
    "#the eigenvectors of DFT are Pv if v is an eigenvector of A, i.e. cyclicly permuting the entries of v\n",
    "DFT = matrix([[(alpha**(i*j)).expand() for j in range(q)] for i in range(q)])\n",
    "DFT.eigenvectors_right()"
   ]
  },
  {
   "cell_type": "code",
   "execution_count": 72,
   "id": "5195daa4-ed18-42da-89cf-dceca82418d7",
   "metadata": {},
   "outputs": [
    {
     "data": {
      "text/plain": [
       "True"
      ]
     },
     "execution_count": 72,
     "metadata": {},
     "output_type": "execute_result"
    }
   ],
   "source": [
    "#check that A is similar to the DFT matrix by cyclicly permuting columns and rows\n",
    "sigma = Permutation([(i % q)+1 for i in range(1,q+1)])\n",
    "P = sigma.to_matrix()\n",
    "P.inverse()*DFT*P == A"
   ]
  },
  {
   "cell_type": "code",
   "execution_count": 92,
   "id": "eb7fa558-8f3f-4531-8d04-de47fbafcc10",
   "metadata": {},
   "outputs": [],
   "source": [
    "#define the vectors X_d given a divisor d of q/f(chi), where f(chi) is the conductor of the character \\chi\n",
    "def X(d,chi):\n",
    "    q = chi.modulus()\n",
    "    assert d.divides(q/chi.conductor())\n",
    "    return vector([chi.primitive_character()(n/d) if d.divides(n) else 0 for n in range(1,q+1)])"
   ]
  },
  {
   "cell_type": "code",
   "execution_count": 91,
   "id": "4aac809d-11b8-4c36-8076-ba2194c27566",
   "metadata": {},
   "outputs": [],
   "source": [
    "#compute eigenvectors given a character chi and a divisor d of q/f(chi)\n",
    "def eigenvector(d,chi):\n",
    "    try:\n",
    "        assert d.divides(q/chi.conductor())\n",
    "    except AssertionError:\n",
    "        print(\"Error: d must divide q/f(chi)\")\n",
    "        return\n",
    "\n",
    "    #define the eigenvectors E(chi,d,lambda) as in (13) in the paper\n",
    "    conjugate_divisor = Integer(chi.modulus()/(chi.conductor()*d))\n",
    "    eig_plus = sqrt(chi(-1)*chi.modulus())\n",
    "    eig_minus = -sqrt(chi(-1)*chi.modulus())\n",
    "    #need to restrict character to modulus conductor, i.e. the primitive character\n",
    "    E = lambda chi, d, eig: sqrt(d)*X(d,chi) + (eig/(chi.bar().primitive_character().gauss_sum()*sqrt(d)))*conjugate(X(conjugate_divisor,chi))\n",
    "\n",
    "    #check if chi is real and if the ratio of modulus to conductor is the square of a divisor\n",
    "    reality_condition = chi.bar() == chi\n",
    "    square_condition = d^2 == chi.modulus()/chi.conductor()\n",
    "\n",
    "    #if chi is real and square condition is met, just return X_d(chi)\n",
    "    if reality_condition and square_condition:\n",
    "        return X(d,chi)\n",
    "\n",
    "    #if one or the other condition is met, return a pair of eigenvalues corresponding to E(chi,d,\\pm lambda)\n",
    "    if reality_condition != square_condition:\n",
    "        return E(chi,d,eig_plus), E(chi,d,eig_minus)\n",
    "\n",
    "    #if neither condition are met, return four eigenvalues E(chi,d,\\pm lambda) and E(chi_bar,d,\\pm lambda)\n",
    "    if (not reality_condition) and (not square_condition):\n",
    "        return E(chi,d,eig_plus), E(chi,d,eig_minus), E(chi.bar(),d,eig_plus), E(chi.bar(),d,eig_minus)"
   ]
  },
  {
   "cell_type": "code",
   "execution_count": 98,
   "id": "3cd5a7ee-653d-4297-b4e7-562c50c8a829",
   "metadata": {},
   "outputs": [],
   "source": [
    "from sage.misc.flatten import flatten\n",
    "#compute all the eigenvectors the Schur matrix\n",
    "def all_eigenvectors(q):\n",
    "    all_eigs = []\n",
    "    G = DirichletGroup(q)\n",
    "    for chi in G:\n",
    "        f = chi.conductor()\n",
    "        for d in divisors(q/f):\n",
    "            print(\"chi: \",chi,\"| d:\",d)\n",
    "            all_eigs.append(eigenvector(Integer(d),chi))\n",
    "    return all_eigs"
   ]
  },
  {
   "cell_type": "code",
   "execution_count": 100,
   "id": "db9cb9db-eb2d-4293-a305-94c9da572bd4",
   "metadata": {},
   "outputs": [],
   "source": [
    "#for q=3, it seems that the second condition is being called twice when it should only be called once\n",
    "#it's giving two independent eigenvectors each time, but they are dependent\n",
    "#there are also two total extra vectors, so removing these two would fix the problem"
   ]
  },
  {
   "cell_type": "code",
   "execution_count": 99,
   "id": "fa8175eb-393b-49ac-8b09-0542598ef0c8",
   "metadata": {},
   "outputs": [
    {
     "name": "stdout",
     "output_type": "stream",
     "text": [
      "chi:  Dirichlet character modulo 3 of conductor 1 mapping 2 |--> 1 | d: 1\n",
      "chi:  Dirichlet character modulo 3 of conductor 1 mapping 2 |--> 1 | d: 3\n",
      "chi:  Dirichlet character modulo 3 of conductor 3 mapping 2 |--> -1 | d: 1\n"
     ]
    },
    {
     "data": {
      "text/plain": [
       "[((1, 1, sqrt(3) + 1), (1, 1, -sqrt(3) + 1)),\n",
       " ((1, 1, sqrt(3) + 1), (-1, -1, sqrt(3) - 1)),\n",
       " (1, -1, 0)]"
      ]
     },
     "execution_count": 99,
     "metadata": {},
     "output_type": "execute_result"
    }
   ],
   "source": [
    "all_eigenvectors(3)"
   ]
  },
  {
   "cell_type": "code",
   "execution_count": null,
   "id": "c758327e-69ac-4fcb-8439-79f0f7eb207b",
   "metadata": {},
   "outputs": [],
   "source": []
  }
 ],
 "metadata": {
  "kernelspec": {
   "display_name": "SageMath 10.3",
   "language": "sage",
   "name": "sagemath-10.3"
  },
  "language_info": {
   "codemirror_mode": {
    "name": "ipython",
    "version": 3
   },
   "file_extension": ".py",
   "mimetype": "text/x-python",
   "name": "python",
   "nbconvert_exporter": "python",
   "pygments_lexer": "ipython3",
   "version": "3.11.1"
  }
 },
 "nbformat": 4,
 "nbformat_minor": 5
}
