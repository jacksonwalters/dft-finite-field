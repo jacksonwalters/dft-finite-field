{
 "cells": [
  {
   "cell_type": "code",
   "execution_count": 421,
   "id": "854e2a23-b7b2-4480-85db-04b91957f5fd",
   "metadata": {},
   "outputs": [],
   "source": [
    "#compute the eigenvectors of Schur's matrix according to Morton's '78 paper\n",
    "#\"On the Eigenvectors of Schur's Matrix\": https://www.sciencedirect.com/science/article/pii/0022314X80900839\n",
    "#NOTE: The DFT matrix is subtly different than the Schur matrix. DFT = exp(2*pi*i*m*n/q) for 0 <= m,n <= q-1\n",
    "#whereas for Schur's matrix it is 1 <= m,n <= q"
   ]
  },
  {
   "cell_type": "code",
   "execution_count": 513,
   "id": "5f6a1229-25b0-4cc1-97d6-fb0cec54d304",
   "metadata": {},
   "outputs": [
    {
     "data": {
      "text/plain": [
       "[(I*sqrt(3), [(1, -1, 0)], 1),\n",
       " (-sqrt(3), [(1, 1, -sqrt(3) + 1)], 1),\n",
       " (sqrt(3), [(1, 1, sqrt(3) + 1)], 1)]"
      ]
     },
     "execution_count": 513,
     "metadata": {},
     "output_type": "execute_result"
    }
   ],
   "source": [
    "#compute the eigenvectors of the unitary matrix corresponding to the Fourier transform over the complex numbers\n",
    "q=3\n",
    "alpha = exp(2*pi*I/q)\n",
    "#K.<alpha> = CyclotomicField(3)\n",
    "U = matrix([[alpha**(i*j) for j in range(1,q+1)] for i in range(1,q+1)])\n",
    "U.eigenvectors_right()"
   ]
  },
  {
   "cell_type": "code",
   "execution_count": 542,
   "id": "eb7fa558-8f3f-4531-8d04-de47fbafcc10",
   "metadata": {},
   "outputs": [],
   "source": [
    "#define the vectors X_d given a divisor d of q/f(chi), where f(chi) is the conductor of the character \\chi\n",
    "def X(d,chi):\n",
    "    q = chi.modulus()\n",
    "    assert d.divides(q/chi.conductor())\n",
    "    return vector([chi.primitive_character()(n/d) if d.divides(n) else 0 for n in range(1,q+1)])"
   ]
  },
  {
   "cell_type": "code",
   "execution_count": 498,
   "id": "4aac809d-11b8-4c36-8076-ba2194c27566",
   "metadata": {},
   "outputs": [],
   "source": [
    "#compute eigenvectors given a character chi and a divisor d of q/f(chi)\n",
    "def eigenvector(d,chi):\n",
    "    try:\n",
    "        assert d.divides(q/chi.conductor())\n",
    "    except AssertionError:\n",
    "        print(\"Error: d must divide q/f(chi)\")\n",
    "        return\n",
    "\n",
    "    #define the eigenvectors E(chi,d,lambda) as in (13) in the paper\n",
    "    conjugate_divisor = Integer(chi.modulus()/(chi.conductor()*d))\n",
    "    eig_plus = sqrt(chi(-1)*chi.modulus())\n",
    "    eig_minus = -sqrt(chi(-1)*chi.modulus())\n",
    "    #need to restrict character to modulus conductor, i.e. the primitive character\n",
    "    E = lambda chi, d, eig: sqrt(d)*X(d,chi) + (eig/(chi.bar().primitive_character().gauss_sum()*sqrt(d)))*conjugate(X(conjugate_divisor,chi))\n",
    "\n",
    "    #check if chi is real and if the ratio of modulus to conductor is the square of a divisor\n",
    "    reality_condition = chi.bar() == chi\n",
    "    square_condition = d^2 == chi.modulus()/chi.conductor()\n",
    "\n",
    "    #if chi is real and square condition is met, just return X_d(chi)\n",
    "    if reality_condition and square_condition:\n",
    "        return X(d,chi)\n",
    "\n",
    "    #if one or the other condition is met, return a pair of eigenvalues corresponding to E(chi,d,\\pm lambda)\n",
    "    if reality_condition != square_condition:\n",
    "        return E(chi,d,eig_plus), E(chi,d,eig_minus)\n",
    "\n",
    "    #if neither condition are met, return four eigenvalues E(chi,d,\\pm lambda) and E(chi_bar,d,\\pm lambda)\n",
    "    if (not reality_condition) and (not square_condition):\n",
    "        return E(chi,d,eig_plus), E(chi,d,eig_minus), E(chi.bar(),d,eig_plus), E(chi.bar(),d,eig_minus)"
   ]
  },
  {
   "cell_type": "code",
   "execution_count": 593,
   "id": "3cd5a7ee-653d-4297-b4e7-562c50c8a829",
   "metadata": {},
   "outputs": [],
   "source": [
    "from sage.misc.flatten import flatten\n",
    "#compute all the eigenvectors the Schur matrix\n",
    "def all_eigenvectors(q):\n",
    "    all_eigs = []\n",
    "    G = DirichletGroup(q)\n",
    "    for chi in G:\n",
    "        f = chi.conductor()\n",
    "        for d in divisors(q/f):\n",
    "            all_eigs.append(eigenvector(Integer(d),chi))\n",
    "    return flatten(all_eigs)"
   ]
  },
  {
   "cell_type": "code",
   "execution_count": 596,
   "id": "fa8175eb-393b-49ac-8b09-0542598ef0c8",
   "metadata": {},
   "outputs": [
    {
     "data": {
      "text/plain": [
       "[(1, 1, sqrt(3) + 1),\n",
       " (1, 1, -sqrt(3) + 1),\n",
       " (1, 1, sqrt(3) + 1),\n",
       " (-1, -1, sqrt(3) - 1),\n",
       " (1, -1, 0)]"
      ]
     },
     "execution_count": 596,
     "metadata": {},
     "output_type": "execute_result"
    }
   ],
   "source": [
    "all_eigenvectors(3)"
   ]
  }
 ],
 "metadata": {
  "kernelspec": {
   "display_name": "SageMath 10.3",
   "language": "sage",
   "name": "sagemath-10.3"
  },
  "language_info": {
   "codemirror_mode": {
    "name": "ipython",
    "version": 3
   },
   "file_extension": ".py",
   "mimetype": "text/x-python",
   "name": "python",
   "nbconvert_exporter": "python",
   "pygments_lexer": "ipython3",
   "version": "3.11.1"
  }
 },
 "nbformat": 4,
 "nbformat_minor": 5
}
