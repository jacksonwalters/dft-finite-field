{
 "cells": [
  {
   "cell_type": "code",
   "execution_count": 63,
   "id": "854e2a23-b7b2-4480-85db-04b91957f5fd",
   "metadata": {},
   "outputs": [],
   "source": [
    "#compute the eigenvectors of the DFT matrix according to Morton's paper\n",
    "#https://www.sciencedirect.com/science/article/pii/0022314X80900839"
   ]
  },
  {
   "cell_type": "code",
   "execution_count": 375,
   "id": "5f6a1229-25b0-4cc1-97d6-fb0cec54d304",
   "metadata": {},
   "outputs": [
    {
     "data": {
      "text/plain": [
       "[(I*sqrt(3), [(1, -1, 0)], 1),\n",
       " (-sqrt(3), [(1, 1, -sqrt(3) + 1)], 1),\n",
       " (sqrt(3), [(1, 1, sqrt(3) + 1)], 1)]"
      ]
     },
     "execution_count": 375,
     "metadata": {},
     "output_type": "execute_result"
    }
   ],
   "source": [
    "#compute the eigenvectors of the unitary matrix corresponding to the Fourier transform over the complex numbers\n",
    "q=3\n",
    "alpha = exp(2*pi*I/q)\n",
    "#K.<alpha> = CyclotomicField(3)\n",
    "U = matrix([[alpha**(i*j) for j in range(1,q+1)] for i in range(1,q+1)])\n",
    "U.eigenvectors_right()"
   ]
  },
  {
   "cell_type": "code",
   "execution_count": 207,
   "id": "eb7fa558-8f3f-4531-8d04-de47fbafcc10",
   "metadata": {},
   "outputs": [],
   "source": [
    "#define the vectors X_d given a divisor d of q/f(chi), where f(chi) is the conductor of the character \\chi\n",
    "def X(d,chi):\n",
    "    q = chi.modulus()\n",
    "    assert d.divides(q/chi.conductor())\n",
    "    return vector([chi(n/d) if d.divides(n) else 0 for n in range(1,q+1)])"
   ]
  },
  {
   "cell_type": "code",
   "execution_count": 365,
   "id": "c12bf249-fb1f-4932-81a0-c23d152b1ade",
   "metadata": {},
   "outputs": [
    {
     "data": {
      "text/plain": [
       "[1, 1, 0]"
      ]
     },
     "execution_count": 365,
     "metadata": {},
     "output_type": "execute_result"
    }
   ],
   "source": [
    "[e(n/Integer(1)) if Integer(1).divides(n) else 0 for n in range(1,q+1)]"
   ]
  },
  {
   "cell_type": "code",
   "execution_count": 345,
   "id": "4aac809d-11b8-4c36-8076-ba2194c27566",
   "metadata": {},
   "outputs": [],
   "source": [
    "#compute eigenvectors given a character chi of conductor f(chi) and a divisor d of q/f(chi)\n",
    "def eigenvector(d,chi):\n",
    "    reality_condition = chi.bar() == chi\n",
    "    square_condition = d^2 == chi.modulus()/chi.conductor()\n",
    "    if reality_condition and square_condition:\n",
    "        return X(d,chi)\n",
    "    try:\n",
    "        assert d.divides(q/chi.conductor())\n",
    "    except AssertionError:\n",
    "        print(\"Error: d must divide q/f(chi)\")\n",
    "        return\n",
    "    eig_1 = sqrt(chi(-1)*chi.modulus())\n",
    "    eig_2 = -sqrt(chi(-1)*chi.modulus())\n",
    "    conjugate_divisor = Integer(chi.modulus()/(chi.conductor()*d))\n",
    "    E = lambda eig: sqrt(d)*X(d,chi) + (eig/(chi.bar().gauss_sum()*sqrt(d)))*conjugate(X(conjugate_divisor,chi))\n",
    "    return E(eig_1), E(eig_2)"
   ]
  },
  {
   "cell_type": "code",
   "execution_count": 346,
   "id": "2eb88f69-17c1-4668-9c77-6488721f0d45",
   "metadata": {},
   "outputs": [
    {
     "data": {
      "text/plain": [
       "1"
      ]
     },
     "execution_count": 346,
     "metadata": {},
     "output_type": "execute_result"
    }
   ],
   "source": [
    "e = DirichletGroup(q)[0]; e.conductor()"
   ]
  },
  {
   "cell_type": "code",
   "execution_count": 347,
   "id": "2f57b63c-54bb-486a-80a6-d523decc76ed",
   "metadata": {},
   "outputs": [
    {
     "data": {
      "text/plain": [
       "3"
      ]
     },
     "execution_count": 347,
     "metadata": {},
     "output_type": "execute_result"
    }
   ],
   "source": [
    "f = DirichletGroup(q)[1]; f.conductor()"
   ]
  },
  {
   "cell_type": "code",
   "execution_count": 348,
   "id": "b395f6cd-7b8f-4bd7-9701-eb77d17eba72",
   "metadata": {},
   "outputs": [
    {
     "data": {
      "text/plain": [
       "-1"
      ]
     },
     "execution_count": 348,
     "metadata": {},
     "output_type": "execute_result"
    }
   ],
   "source": [
    "f(-1)"
   ]
  },
  {
   "cell_type": "code",
   "execution_count": 370,
   "id": "e9208b65-3c95-4e47-9373-5505300f6fef",
   "metadata": {},
   "outputs": [
    {
     "data": {
      "text/plain": [
       "(1, -1, 0)"
      ]
     },
     "execution_count": 370,
     "metadata": {},
     "output_type": "execute_result"
    }
   ],
   "source": [
    "X(1,f)"
   ]
  },
  {
   "cell_type": "code",
   "execution_count": 350,
   "id": "fd0ce96a-a760-4170-8ccd-228405fb2720",
   "metadata": {},
   "outputs": [
    {
     "data": {
      "text/plain": [
       "1"
      ]
     },
     "execution_count": 350,
     "metadata": {},
     "output_type": "execute_result"
    }
   ],
   "source": [
    "f.modulus()/f.conductor()"
   ]
  },
  {
   "cell_type": "code",
   "execution_count": 351,
   "id": "64de5455-e7a6-4e8e-9157-b93b4c8cba90",
   "metadata": {},
   "outputs": [
    {
     "data": {
      "text/plain": [
       "True"
      ]
     },
     "execution_count": 351,
     "metadata": {},
     "output_type": "execute_result"
    }
   ],
   "source": [
    "f.bar() == f"
   ]
  },
  {
   "cell_type": "code",
   "execution_count": 353,
   "id": "845ef8a3-0a2f-4eda-ba7b-663f67db1f68",
   "metadata": {},
   "outputs": [
    {
     "data": {
      "text/plain": [
       "True"
      ]
     },
     "execution_count": 353,
     "metadata": {},
     "output_type": "execute_result"
    }
   ],
   "source": [
    "e.bar() == e"
   ]
  },
  {
   "cell_type": "code",
   "execution_count": 368,
   "id": "d02b48c5-3422-43dd-b630-093da407a6cb",
   "metadata": {},
   "outputs": [
    {
     "data": {
      "text/plain": [
       "True"
      ]
     },
     "execution_count": 368,
     "metadata": {},
     "output_type": "execute_result"
    }
   ],
   "source": [
    "1^2 == f.modulus()/f.conductor()"
   ]
  },
  {
   "cell_type": "code",
   "execution_count": 369,
   "id": "3d7812e5-3901-418f-bdf6-f60f324e1ed4",
   "metadata": {},
   "outputs": [
    {
     "data": {
      "text/plain": [
       "(1, -1, 0)"
      ]
     },
     "execution_count": 369,
     "metadata": {},
     "output_type": "execute_result"
    }
   ],
   "source": [
    "eigenvector(1,f)"
   ]
  },
  {
   "cell_type": "code",
   "execution_count": 266,
   "id": "87a8622e-00df-4a8e-95b7-3081a357c73a",
   "metadata": {},
   "outputs": [
    {
     "data": {
      "text/plain": [
       "sqrt(3)"
      ]
     },
     "execution_count": 266,
     "metadata": {},
     "output_type": "execute_result"
    }
   ],
   "source": [
    "sqrt(e(-1)*e.modulus())"
   ]
  },
  {
   "cell_type": "code",
   "execution_count": 371,
   "id": "91463726-8111-46b1-94d1-aecd940123b2",
   "metadata": {},
   "outputs": [
    {
     "data": {
      "text/plain": [
       "(0, -1/2*I*sqrt(3) + 3/2, -(1/2*I*sqrt(3) - 1/2)^2 + 1)"
      ]
     },
     "execution_count": 371,
     "metadata": {},
     "output_type": "execute_result"
    }
   ],
   "source": [
    "U*X(1,f)"
   ]
  },
  {
   "cell_type": "code",
   "execution_count": null,
   "id": "88e90286-69c7-4ae9-b886-ae92a4f82042",
   "metadata": {},
   "outputs": [],
   "source": []
  }
 ],
 "metadata": {
  "kernelspec": {
   "display_name": "SageMath 10.3",
   "language": "sage",
   "name": "sagemath-10.3"
  },
  "language_info": {
   "codemirror_mode": {
    "name": "ipython",
    "version": 3
   },
   "file_extension": ".py",
   "mimetype": "text/x-python",
   "name": "python",
   "nbconvert_exporter": "python",
   "pygments_lexer": "ipython3",
   "version": "3.11.1"
  }
 },
 "nbformat": 4,
 "nbformat_minor": 5
}
