{
 "cells": [
  {
   "cell_type": "code",
   "execution_count": 2,
   "id": "2a529f2b-1157-4229-84d0-8749505137a0",
   "metadata": {},
   "outputs": [],
   "source": [
    "n=3"
   ]
  },
  {
   "cell_type": "code",
   "execution_count": 27,
   "id": "1c45cb00-2600-4dee-8b70-5a6baf72fca4",
   "metadata": {},
   "outputs": [],
   "source": [
    "R = SymmetricGroup(n).algebra(QQ)"
   ]
  },
  {
   "cell_type": "code",
   "execution_count": 32,
   "id": "7fcb1221-5691-4d2e-b30d-32dfef1c1468",
   "metadata": {},
   "outputs": [
    {
     "data": {
      "text/plain": [
       "[   1    1    1    1    1    1]\n",
       "[   1 -1/2 -1/2  1/2  1/2   -1]\n",
       "[   0 -3/4  3/4  3/4 -3/4    0]\n",
       "[   0    1   -1    1   -1    0]\n",
       "[   1 -1/2 -1/2 -1/2 -1/2    1]\n",
       "[   1    1    1   -1   -1   -1]"
      ]
     },
     "execution_count": 32,
     "metadata": {},
     "output_type": "execute_result"
    }
   ],
   "source": [
    "A = R.dft(); A"
   ]
  },
  {
   "cell_type": "code",
   "execution_count": 33,
   "id": "01fd16bc-d1c9-43cb-b9fe-95891d53e952",
   "metadata": {},
   "outputs": [],
   "source": [
    "#is the matrix unitary?\n",
    "#A*A^T is diagonal"
   ]
  },
  {
   "cell_type": "code",
   "execution_count": 31,
   "id": "e67456ca-95cd-45b2-b443-967066ba5493",
   "metadata": {},
   "outputs": [
    {
     "data": {
      "text/plain": [
       "[  6   0   0   0   0   0]\n",
       "[  0   3   0   0   0   0]\n",
       "[  0   0 9/4   0   0   0]\n",
       "[  0   0   0   4   0   0]\n",
       "[  0   0   0   0   3   0]\n",
       "[  0   0   0   0   0   6]"
      ]
     },
     "execution_count": 31,
     "metadata": {},
     "output_type": "execute_result"
    }
   ],
   "source": [
    "A*A.transpose()"
   ]
  },
  {
   "cell_type": "code",
   "execution_count": 30,
   "id": "14cbad6c-4016-4b14-9ce0-415b9d90f2c1",
   "metadata": {},
   "outputs": [],
   "source": [
    "#what are the eigenvalues?\n",
    "eigs = A.eigenvalues()"
   ]
  },
  {
   "cell_type": "code",
   "execution_count": 10,
   "id": "edb1c420-f44a-4cb3-9fb3-2ffa17dee539",
   "metadata": {},
   "outputs": [
    {
     "data": {
      "text/plain": [
       "[1.927382440195288?,\n",
       " 2.121715010353017?,\n",
       " 2.003349593304431?,\n",
       " 2.003349593304431?,\n",
       " 1.813897174510622?,\n",
       " 1.813897174510622?]"
      ]
     },
     "execution_count": 10,
     "metadata": {},
     "output_type": "execute_result"
    }
   ],
   "source": [
    "[abs(eig) for eig in eigs]"
   ]
  },
  {
   "cell_type": "code",
   "execution_count": null,
   "id": "5a48909b-3b9a-437c-a778-e81f28f3735b",
   "metadata": {},
   "outputs": [],
   "source": []
  }
 ],
 "metadata": {
  "kernelspec": {
   "display_name": "SageMath 10.3",
   "language": "sage",
   "name": "sagemath-10.3"
  },
  "language_info": {
   "codemirror_mode": {
    "name": "ipython",
    "version": 3
   },
   "file_extension": ".py",
   "mimetype": "text/x-python",
   "name": "python",
   "nbconvert_exporter": "python",
   "pygments_lexer": "ipython3",
   "version": "3.11.1"
  }
 },
 "nbformat": 4,
 "nbformat_minor": 5
}
