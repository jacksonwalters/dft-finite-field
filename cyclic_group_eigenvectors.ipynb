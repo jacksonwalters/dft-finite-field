{
 "cells": [
  {
   "cell_type": "code",
   "execution_count": 63,
   "id": "854e2a23-b7b2-4480-85db-04b91957f5fd",
   "metadata": {},
   "outputs": [],
   "source": [
    "#compute the eigenvectors of the DFT matrix according to Morton's paper\n",
    "#https://www.sciencedirect.com/science/article/pii/0022314X80900839"
   ]
  },
  {
   "cell_type": "code",
   "execution_count": 129,
   "id": "5f6a1229-25b0-4cc1-97d6-fb0cec54d304",
   "metadata": {},
   "outputs": [
    {
     "data": {
      "text/plain": [
       "[(I*sqrt(3), [(0, 1, -1)], 1),\n",
       " (-sqrt(3), [(1, -1/2*sqrt(3) - 1/2, -1/2*sqrt(3) - 1/2)], 1),\n",
       " (sqrt(3), [(1, 1/2*sqrt(3) - 1/2, 1/2*sqrt(3) - 1/2)], 1)]"
      ]
     },
     "execution_count": 129,
     "metadata": {},
     "output_type": "execute_result"
    }
   ],
   "source": [
    "#compute the eigenvectors of the unitary matrix corresponding to the Fourier transform over the complex numbers\n",
    "q=3\n",
    "alpha = exp(2*pi*I/q)\n",
    "#K.<alpha> = CyclotomicField(3)\n",
    "U = matrix([[alpha**(i*j) for j in range(q)] for i in range(q)])\n",
    "U.eigenvectors_left()"
   ]
  },
  {
   "cell_type": "code",
   "execution_count": 99,
   "id": "eb7fa558-8f3f-4531-8d04-de47fbafcc10",
   "metadata": {},
   "outputs": [],
   "source": [
    "#define the vectors X_d given a divisor d of q/f(chi), where f(chi) is the conductor of the character \\chi\n",
    "def X(d,chi):\n",
    "    q = chi.modulus()\n",
    "    assert d.divides(q/chi.conductor())\n",
    "    return [chi(n/d) if d.divides(n) else 0 for n in range(1,q+1)]"
   ]
  },
  {
   "cell_type": "code",
   "execution_count": 100,
   "id": "edf0f99a-8be5-415e-a2b7-275d15642d2a",
   "metadata": {},
   "outputs": [],
   "source": [
    "#compute the set of eigenvectors by computing all Dirichlet characters \\chi\n",
    "def all_X(q):\n",
    "    eigs = []\n",
    "    for chi in DirichletGroup(q):\n",
    "        for d in divisors(int(q/chi.conductor())):\n",
    "            eigs.append(X(d,chi))\n",
    "    return eigs"
   ]
  },
  {
   "cell_type": "code",
   "execution_count": 120,
   "id": "be9eee43-6c2c-4ab8-8487-27601b69459c",
   "metadata": {},
   "outputs": [],
   "source": [
    "def is_eigenvector(d,chi):\n",
    "    chi_is_real = all(chi(n) in RR for n in range(chi.modulus()))\n",
    "    square_condition = d^2 == chi.modulus()/chi.conductor()\n",
    "    return chi_is_real and square_condition"
   ]
  },
  {
   "cell_type": "code",
   "execution_count": 102,
   "id": "1c1326f9-ff1c-4db0-81ba-f449ec40f524",
   "metadata": {},
   "outputs": [
    {
     "data": {
      "text/plain": [
       "[1, 3]"
      ]
     },
     "execution_count": 102,
     "metadata": {},
     "output_type": "execute_result"
    }
   ],
   "source": [
    "divisors(q/e.conductor())"
   ]
  },
  {
   "cell_type": "code",
   "execution_count": 132,
   "id": "be0c90ab-c21d-4818-b66e-180f20cbbc40",
   "metadata": {},
   "outputs": [
    {
     "data": {
      "text/plain": [
       "[1, 3]"
      ]
     },
     "execution_count": 132,
     "metadata": {},
     "output_type": "execute_result"
    }
   ],
   "source": [
    "[e.conductor() for e in DirichletGroup(q)]"
   ]
  },
  {
   "cell_type": "code",
   "execution_count": 162,
   "id": "2eb88f69-17c1-4668-9c77-6488721f0d45",
   "metadata": {},
   "outputs": [
    {
     "data": {
      "text/plain": [
       "1"
      ]
     },
     "execution_count": 162,
     "metadata": {},
     "output_type": "execute_result"
    }
   ],
   "source": [
    "e = DirichletGroup(q)[0]; e.conductor()"
   ]
  },
  {
   "cell_type": "code",
   "execution_count": 163,
   "id": "2f57b63c-54bb-486a-80a6-d523decc76ed",
   "metadata": {},
   "outputs": [
    {
     "data": {
      "text/plain": [
       "3"
      ]
     },
     "execution_count": 163,
     "metadata": {},
     "output_type": "execute_result"
    }
   ],
   "source": [
    "f = DirichletGroup(q)[1]; f.conductor()"
   ]
  },
  {
   "cell_type": "code",
   "execution_count": 173,
   "id": "e9208b65-3c95-4e47-9373-5505300f6fef",
   "metadata": {},
   "outputs": [
    {
     "data": {
      "text/plain": [
       "[1, -1, 0]"
      ]
     },
     "execution_count": 173,
     "metadata": {},
     "output_type": "execute_result"
    }
   ],
   "source": [
    "X(1,f)"
   ]
  },
  {
   "cell_type": "code",
   "execution_count": 182,
   "id": "b0f11058-5db9-4aac-b5b1-f9d1d3436638",
   "metadata": {},
   "outputs": [
    {
     "data": {
      "text/plain": [
       "False"
      ]
     },
     "execution_count": 182,
     "metadata": {},
     "output_type": "execute_result"
    }
   ],
   "source": [
    "is_eigenvector(1,e)"
   ]
  },
  {
   "cell_type": "code",
   "execution_count": 130,
   "id": "8ccaae29-809a-44bf-80b0-2d38406c6aad",
   "metadata": {},
   "outputs": [
    {
     "data": {
      "text/plain": [
       "[[1, 1, 0], [0, 0, 1], [1, -1, 0]]"
      ]
     },
     "execution_count": 130,
     "metadata": {},
     "output_type": "execute_result"
    }
   ],
   "source": [
    "all_X(q)"
   ]
  },
  {
   "cell_type": "code",
   "execution_count": null,
   "id": "3d7812e5-3901-418f-bdf6-f60f324e1ed4",
   "metadata": {},
   "outputs": [],
   "source": []
  }
 ],
 "metadata": {
  "kernelspec": {
   "display_name": "SageMath 10.3",
   "language": "sage",
   "name": "sagemath-10.3"
  },
  "language_info": {
   "codemirror_mode": {
    "name": "ipython",
    "version": 3
   },
   "file_extension": ".py",
   "mimetype": "text/x-python",
   "name": "python",
   "nbconvert_exporter": "python",
   "pygments_lexer": "ipython3",
   "version": "3.11.1"
  }
 },
 "nbformat": 4,
 "nbformat_minor": 5
}
