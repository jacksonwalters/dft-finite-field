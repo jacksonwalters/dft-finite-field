{
 "cells": [
  {
   "cell_type": "code",
   "execution_count": 142,
   "id": "5f6a1229-25b0-4cc1-97d6-fb0cec54d304",
   "metadata": {},
   "outputs": [
    {
     "data": {
      "text/plain": [
       "[(I*sqrt(3), [(0, 1, -1)], 1),\n",
       " (-sqrt(3), [(1, -1/2*sqrt(3) - 1/2, -1/2*sqrt(3) - 1/2)], 1),\n",
       " (sqrt(3), [(1, 1/2*sqrt(3) - 1/2, 1/2*sqrt(3) - 1/2)], 1)]"
      ]
     },
     "execution_count": 142,
     "metadata": {},
     "output_type": "execute_result"
    }
   ],
   "source": [
    "#compute the eigenvectors of the unitary matrix corresponding to the Fourier transform over the complex numbers\n",
    "q=3\n",
    "alpha = exp(2*pi*I/q)\n",
    "#K.<alpha> = CyclotomicField(3)\n",
    "U = matrix([[alpha**(i*j) for j in range(q)] for i in range(q)])\n",
    "U.eigenvectors_left()"
   ]
  },
  {
   "cell_type": "code",
   "execution_count": 140,
   "id": "fe892223-8fdf-47d8-9ee4-ff2aa8c33a90",
   "metadata": {},
   "outputs": [],
   "source": [
    "#compute the eigenvectors of the DFT matrix according to Morton's paper\n",
    "#https://www.sciencedirect.com/science/article/pii/0022314X80900839"
   ]
  },
  {
   "cell_type": "code",
   "execution_count": null,
   "id": "6c1ca411-87d3-4a69-9b07-d6393e7a1969",
   "metadata": {},
   "outputs": [],
   "source": [
    "#define the conductor of a character \\chi\n",
    "#chi is a character mod q\n",
    "#the least positive divisor f = f(chi) of q such that\n",
    "#chi(n) = 1 for every n == 1 (mod f) such that (n,q) = 1\n",
    "def conductor_f(chi):\n",
    "    #TO-DO"
   ]
  },
  {
   "cell_type": "code",
   "execution_count": 144,
   "id": "eb7fa558-8f3f-4531-8d04-de47fbafcc10",
   "metadata": {},
   "outputs": [],
   "source": [
    "#define the vectors X_d given a divisor d of q/f(chi), where f(chi) is the conductor of the character \\chi\n",
    "def X(d,chi):\n",
    "    return [chi(n/d) if d.divides(n) else 0 for n in range(1,q+1)]"
   ]
  },
  {
   "cell_type": "code",
   "execution_count": null,
   "id": "2eb88f69-17c1-4668-9c77-6488721f0d45",
   "metadata": {},
   "outputs": [],
   "source": []
  }
 ],
 "metadata": {
  "kernelspec": {
   "display_name": "SageMath 10.3",
   "language": "sage",
   "name": "sagemath-10.3"
  },
  "language_info": {
   "codemirror_mode": {
    "name": "ipython",
    "version": 3
   },
   "file_extension": ".py",
   "mimetype": "text/x-python",
   "name": "python",
   "nbconvert_exporter": "python",
   "pygments_lexer": "ipython3",
   "version": "3.11.1"
  }
 },
 "nbformat": 4,
 "nbformat_minor": 5
}
