{
 "cells": [
  {
   "cell_type": "code",
   "execution_count": 63,
   "id": "854e2a23-b7b2-4480-85db-04b91957f5fd",
   "metadata": {},
   "outputs": [],
   "source": [
    "#compute the eigenvectors of the DFT matrix according to Morton's paper\n",
    "#https://www.sciencedirect.com/science/article/pii/0022314X80900839"
   ]
  },
  {
   "cell_type": "code",
   "execution_count": 129,
   "id": "5f6a1229-25b0-4cc1-97d6-fb0cec54d304",
   "metadata": {},
   "outputs": [
    {
     "data": {
      "text/plain": [
       "[(I*sqrt(3), [(0, 1, -1)], 1),\n",
       " (-sqrt(3), [(1, -1/2*sqrt(3) - 1/2, -1/2*sqrt(3) - 1/2)], 1),\n",
       " (sqrt(3), [(1, 1/2*sqrt(3) - 1/2, 1/2*sqrt(3) - 1/2)], 1)]"
      ]
     },
     "execution_count": 129,
     "metadata": {},
     "output_type": "execute_result"
    }
   ],
   "source": [
    "#compute the eigenvectors of the unitary matrix corresponding to the Fourier transform over the complex numbers\n",
    "q=3\n",
    "alpha = exp(2*pi*I/q)\n",
    "#K.<alpha> = CyclotomicField(3)\n",
    "U = matrix([[alpha**(i*j) for j in range(q)] for i in range(q)])\n",
    "U.eigenvectors_left()"
   ]
  },
  {
   "cell_type": "code",
   "execution_count": 207,
   "id": "eb7fa558-8f3f-4531-8d04-de47fbafcc10",
   "metadata": {},
   "outputs": [],
   "source": [
    "#define the vectors X_d given a divisor d of q/f(chi), where f(chi) is the conductor of the character \\chi\n",
    "def X(d,chi):\n",
    "    q = chi.modulus()\n",
    "    assert d.divides(q/chi.conductor())\n",
    "    return vector([chi(n/d) if d.divides(n) else 0 for n in range(1,q+1)])"
   ]
  },
  {
   "cell_type": "code",
   "execution_count": 208,
   "id": "edf0f99a-8be5-415e-a2b7-275d15642d2a",
   "metadata": {},
   "outputs": [],
   "source": [
    "#compute the set of eigenvectors by computing all Dirichlet characters \\chi\n",
    "def all_X(q):\n",
    "    eigs = []\n",
    "    for chi in DirichletGroup(q):\n",
    "        for d in divisors(int(q/chi.conductor())):\n",
    "            eigs.append(X(d,chi))\n",
    "    return eigs"
   ]
  },
  {
   "cell_type": "code",
   "execution_count": 196,
   "id": "be9eee43-6c2c-4ab8-8487-27601b69459c",
   "metadata": {},
   "outputs": [],
   "source": [
    "#check if the conditions given by (12) in the paper are such that we get an eigenvector\n",
    "def is_eigenvector_X(d,chi):\n",
    "    chi_is_real = all(chi(n) in RR for n in range(chi.modulus()))\n",
    "    square_condition = d^2 == chi.modulus()/chi.conductor()\n",
    "    return chi_is_real and square_condition"
   ]
  },
  {
   "cell_type": "code",
   "execution_count": 228,
   "id": "4aac809d-11b8-4c36-8076-ba2194c27566",
   "metadata": {},
   "outputs": [],
   "source": [
    "#compute eigenvectors given a character chi of conductor f(chi) and a divisor d of q/f(chi)\n",
    "def eigenvector(d,chi):\n",
    "    if is_eigenvector_X(d,chi):\n",
    "        return X(d,chi)\n",
    "    eig_1 = sqrt(chi(-1)*chi.modulus())\n",
    "    eig_2 = -sqrt(chi(-1)*chi.modulus())\n",
    "    print(q/(chi.conductor()*d))\n",
    "    conjugate_divisor = int(q/(chi.conductor()*d))\n",
    "    E = lambda eig: sqrt(d)*X(d,chi) + (eig/(chi.bar().gauss_sum()))*conjugate(X(conjugate_divisor,chi))\n",
    "    return E(eig_1), E(eig_2)"
   ]
  },
  {
   "cell_type": "code",
   "execution_count": 206,
   "id": "a8cbe384-2740-4528-8f97-1a9858b05ad4",
   "metadata": {},
   "outputs": [
    {
     "data": {
      "text/plain": [
       "(1, -I, 3)"
      ]
     },
     "execution_count": 206,
     "metadata": {},
     "output_type": "execute_result"
    }
   ],
   "source": [
    "conjugate(vector([1,I,3]))"
   ]
  },
  {
   "cell_type": "code",
   "execution_count": 162,
   "id": "2eb88f69-17c1-4668-9c77-6488721f0d45",
   "metadata": {},
   "outputs": [
    {
     "data": {
      "text/plain": [
       "1"
      ]
     },
     "execution_count": 162,
     "metadata": {},
     "output_type": "execute_result"
    }
   ],
   "source": [
    "e = DirichletGroup(q)[0]; e.conductor()"
   ]
  },
  {
   "cell_type": "code",
   "execution_count": 163,
   "id": "2f57b63c-54bb-486a-80a6-d523decc76ed",
   "metadata": {},
   "outputs": [
    {
     "data": {
      "text/plain": [
       "3"
      ]
     },
     "execution_count": 163,
     "metadata": {},
     "output_type": "execute_result"
    }
   ],
   "source": [
    "f = DirichletGroup(q)[1]; f.conductor()"
   ]
  },
  {
   "cell_type": "code",
   "execution_count": 225,
   "id": "e9208b65-3c95-4e47-9373-5505300f6fef",
   "metadata": {},
   "outputs": [
    {
     "data": {
      "text/plain": [
       "(1, 1, 0)"
      ]
     },
     "execution_count": 225,
     "metadata": {},
     "output_type": "execute_result"
    }
   ],
   "source": [
    "X(1,e)"
   ]
  },
  {
   "cell_type": "code",
   "execution_count": 211,
   "id": "b0f11058-5db9-4aac-b5b1-f9d1d3436638",
   "metadata": {},
   "outputs": [
    {
     "data": {
      "text/plain": [
       "False"
      ]
     },
     "execution_count": 211,
     "metadata": {},
     "output_type": "execute_result"
    }
   ],
   "source": [
    "is_eigenvector_X(1,f)"
   ]
  },
  {
   "cell_type": "code",
   "execution_count": 212,
   "id": "8ccaae29-809a-44bf-80b0-2d38406c6aad",
   "metadata": {},
   "outputs": [
    {
     "data": {
      "text/plain": [
       "[(1, 1, 0), (0, 0, 1), (1, -1, 0)]"
      ]
     },
     "execution_count": 212,
     "metadata": {},
     "output_type": "execute_result"
    }
   ],
   "source": [
    "all_X(q)"
   ]
  },
  {
   "cell_type": "code",
   "execution_count": 227,
   "id": "3d7812e5-3901-418f-bdf6-f60f324e1ed4",
   "metadata": {},
   "outputs": [
    {
     "name": "stdout",
     "output_type": "stream",
     "text": [
      "3\n",
      "3\n"
     ]
    },
    {
     "ename": "AttributeError",
     "evalue": "'int' object has no attribute 'divides'",
     "output_type": "error",
     "traceback": [
      "\u001b[0;31m---------------------------------------------------------------------------\u001b[0m",
      "\u001b[0;31mAttributeError\u001b[0m                            Traceback (most recent call last)",
      "Cell \u001b[0;32mIn[227], line 1\u001b[0m\n\u001b[0;32m----> 1\u001b[0m \u001b[43meigenvector\u001b[49m\u001b[43m(\u001b[49m\u001b[43mInteger\u001b[49m\u001b[43m(\u001b[49m\u001b[38;5;241;43m1\u001b[39;49m\u001b[43m)\u001b[49m\u001b[43m,\u001b[49m\u001b[43me\u001b[49m\u001b[43m)\u001b[49m\n",
      "Cell \u001b[0;32mIn[226], line 11\u001b[0m, in \u001b[0;36meigenvector\u001b[0;34m(d, chi)\u001b[0m\n\u001b[1;32m      9\u001b[0m \u001b[38;5;28mprint\u001b[39m(conjugate_divisor)\n\u001b[1;32m     10\u001b[0m E \u001b[38;5;241m=\u001b[39m \u001b[38;5;28;01mlambda\u001b[39;00m eig: sqrt(d)\u001b[38;5;241m*\u001b[39mX(d,chi) \u001b[38;5;241m+\u001b[39m (eig\u001b[38;5;241m/\u001b[39m(chi\u001b[38;5;241m.\u001b[39mbar()\u001b[38;5;241m.\u001b[39mgauss_sum()))\u001b[38;5;241m*\u001b[39mconjugate(X(conjugate_divisor,chi))\n\u001b[0;32m---> 11\u001b[0m \u001b[38;5;28;01mreturn\u001b[39;00m \u001b[43mE\u001b[49m\u001b[43m(\u001b[49m\u001b[43meig_1\u001b[49m\u001b[43m)\u001b[49m, E(eig_2)\n",
      "Cell \u001b[0;32mIn[226], line 10\u001b[0m, in \u001b[0;36meigenvector.<locals>.<lambda>\u001b[0;34m(eig)\u001b[0m\n\u001b[1;32m      8\u001b[0m conjugate_divisor \u001b[38;5;241m=\u001b[39m \u001b[38;5;28mint\u001b[39m(q\u001b[38;5;241m/\u001b[39m(chi\u001b[38;5;241m.\u001b[39mconductor()\u001b[38;5;241m*\u001b[39md))\n\u001b[1;32m      9\u001b[0m \u001b[38;5;28mprint\u001b[39m(conjugate_divisor)\n\u001b[0;32m---> 10\u001b[0m E \u001b[38;5;241m=\u001b[39m \u001b[38;5;28;01mlambda\u001b[39;00m eig: sqrt(d)\u001b[38;5;241m*\u001b[39mX(d,chi) \u001b[38;5;241m+\u001b[39m (eig\u001b[38;5;241m/\u001b[39m(chi\u001b[38;5;241m.\u001b[39mbar()\u001b[38;5;241m.\u001b[39mgauss_sum()))\u001b[38;5;241m*\u001b[39mconjugate(\u001b[43mX\u001b[49m\u001b[43m(\u001b[49m\u001b[43mconjugate_divisor\u001b[49m\u001b[43m,\u001b[49m\u001b[43mchi\u001b[49m\u001b[43m)\u001b[49m)\n\u001b[1;32m     11\u001b[0m \u001b[38;5;28;01mreturn\u001b[39;00m E(eig_1), E(eig_2)\n",
      "Cell \u001b[0;32mIn[207], line 4\u001b[0m, in \u001b[0;36mX\u001b[0;34m(d, chi)\u001b[0m\n\u001b[1;32m      2\u001b[0m \u001b[38;5;28;01mdef\u001b[39;00m \u001b[38;5;21mX\u001b[39m(d,chi):\n\u001b[1;32m      3\u001b[0m     q \u001b[38;5;241m=\u001b[39m chi\u001b[38;5;241m.\u001b[39mmodulus()\n\u001b[0;32m----> 4\u001b[0m     \u001b[38;5;28;01massert\u001b[39;00m \u001b[43md\u001b[49m\u001b[38;5;241;43m.\u001b[39;49m\u001b[43mdivides\u001b[49m(q\u001b[38;5;241m/\u001b[39mchi\u001b[38;5;241m.\u001b[39mconductor())\n\u001b[1;32m      5\u001b[0m     \u001b[38;5;28;01mreturn\u001b[39;00m vector([chi(n\u001b[38;5;241m/\u001b[39md) \u001b[38;5;28;01mif\u001b[39;00m d\u001b[38;5;241m.\u001b[39mdivides(n) \u001b[38;5;28;01melse\u001b[39;00m Integer(\u001b[38;5;241m0\u001b[39m) \u001b[38;5;28;01mfor\u001b[39;00m n \u001b[38;5;129;01min\u001b[39;00m \u001b[38;5;28mrange\u001b[39m(Integer(\u001b[38;5;241m1\u001b[39m),q\u001b[38;5;241m+\u001b[39mInteger(\u001b[38;5;241m1\u001b[39m))])\n",
      "\u001b[0;31mAttributeError\u001b[0m: 'int' object has no attribute 'divides'"
     ]
    }
   ],
   "source": [
    "eigenvector(1,e)"
   ]
  },
  {
   "cell_type": "code",
   "execution_count": null,
   "id": "87a8622e-00df-4a8e-95b7-3081a357c73a",
   "metadata": {},
   "outputs": [],
   "source": []
  }
 ],
 "metadata": {
  "kernelspec": {
   "display_name": "SageMath 10.3",
   "language": "sage",
   "name": "sagemath-10.3"
  },
  "language_info": {
   "codemirror_mode": {
    "name": "ipython",
    "version": 3
   },
   "file_extension": ".py",
   "mimetype": "text/x-python",
   "name": "python",
   "nbconvert_exporter": "python",
   "pygments_lexer": "ipython3",
   "version": "3.11.1"
  }
 },
 "nbformat": 4,
 "nbformat_minor": 5
}
