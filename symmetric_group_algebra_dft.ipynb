{
 "cells": [
  {
   "cell_type": "code",
   "execution_count": 24,
   "id": "a844b061",
   "metadata": {},
   "outputs": [],
   "source": [
    "#REFS:\n",
    "#Wildon, Vertices of Specht Modules and Blocks of the Symmetric Group\n",
    "#Murphy, The Idempotents of the Symmetric Group and Nakayama's Conjecture\n",
    "#Murphy, A new construction of Young's seminormal representation of the symmetric groups"
   ]
  },
  {
   "cell_type": "code",
   "execution_count": 1,
   "id": "7765a9c5",
   "metadata": {},
   "outputs": [],
   "source": [
    "n=3"
   ]
  },
  {
   "cell_type": "code",
   "execution_count": 2,
   "id": "3ac291e5",
   "metadata": {},
   "outputs": [],
   "source": [
    "SGA = SymmetricGroupAlgebra(QQ,n)"
   ]
  },
  {
   "cell_type": "code",
   "execution_count": 3,
   "id": "d5bc95b0",
   "metadata": {},
   "outputs": [
    {
     "data": {
      "text/plain": [
       "[   1    1    1    1    1    1]\n",
       "[   1  1/2   -1 -1/2 -1/2  1/2]\n",
       "[   0  3/4    0  3/4 -3/4 -3/4]\n",
       "[   0    1    0   -1    1   -1]\n",
       "[   1 -1/2    1 -1/2 -1/2 -1/2]\n",
       "[   1   -1   -1    1    1   -1]"
      ]
     },
     "execution_count": 3,
     "metadata": {},
     "output_type": "execute_result"
    }
   ],
   "source": [
    "SGA.dft()"
   ]
  },
  {
   "cell_type": "code",
   "execution_count": 4,
   "id": "8f98a1b7",
   "metadata": {},
   "outputs": [],
   "source": [
    "SGA_F7 = SymmetricGroupAlgebra(GF(7),3)"
   ]
  },
  {
   "cell_type": "code",
   "execution_count": 5,
   "id": "495bc146",
   "metadata": {},
   "outputs": [
    {
     "data": {
      "text/plain": [
       "[1 1 1 1 1 1]\n",
       "[1 4 6 3 3 4]\n",
       "[0 6 0 6 1 1]\n",
       "[0 1 0 6 1 6]\n",
       "[1 3 1 3 3 3]\n",
       "[1 6 6 1 1 6]"
      ]
     },
     "execution_count": 5,
     "metadata": {},
     "output_type": "execute_result"
    }
   ],
   "source": [
    "SGA_F7.dft()"
   ]
  },
  {
   "cell_type": "code",
   "execution_count": 6,
   "id": "8e7c474e",
   "metadata": {},
   "outputs": [
    {
     "data": {
      "text/plain": [
       "Specht module of [(0, 0), (1, 0), (2, 0)] over Finite Field of size 7"
      ]
     },
     "execution_count": 6,
     "metadata": {},
     "output_type": "execute_result"
    }
   ],
   "source": [
    "SGA_F7.specht_module(Partition([1,1,1]))"
   ]
  },
  {
   "cell_type": "code",
   "execution_count": 7,
   "id": "eac905eb",
   "metadata": {},
   "outputs": [],
   "source": [
    "SGA_F3 = SymmetricGroupAlgebra(GF(3),3)"
   ]
  },
  {
   "cell_type": "code",
   "execution_count": 8,
   "id": "7608ec7e",
   "metadata": {},
   "outputs": [
    {
     "name": "stdout",
     "output_type": "stream",
     "text": [
      "Modular case not handled!\n"
     ]
    }
   ],
   "source": [
    "#one cannot perform the DFT when p | n!\n",
    "try:\n",
    "    SGA_F3.dft()\n",
    "except ZeroDivisionError:\n",
    "    print(\"Modular case not handled!\")"
   ]
  },
  {
   "cell_type": "code",
   "execution_count": 9,
   "id": "80d0b5d9",
   "metadata": {},
   "outputs": [],
   "source": [
    "#Theorem 3.3, \"Nakayama's Conjecture\", pg. 8, Wildon, Vertices of Specht Modules and Blocks of the Symmetric Group:\n",
    "\n",
    "#Let p be a prime. The p-blocks of the symmetric group Sn are labelled by pairs (\\gamma,w), \n",
    "#where \\gamma is a p-core and w \\in \\mathbb{N}_0 is the associated weight, such that |\\gamma| + wp = n. \n",
    "#Thus S^\\lambda lies in the block labelled by (\\gamma,w) if and only if \\lambda has p-core \\gamma and weight w.\n",
    "#\n",
    "#---\n",
    "#\n",
    "#Theorem 2.1, Murphy, The Idempotents of the Symmetric Group and Nakayama's Conjecture\n",
    "#\n",
    "#F_j^i = \\sum_{\\mu,k | t_k^\\mu \\in T_j^i} E_k^\\mu \n",
    "#H^i = \\sum_j F_j^i \n",
    "#\n",
    "#{F_j^i} is a complete set of orthogonal idempotents of RS_n, similarly for {\\overline{F}_j^i}.\n",
    "#\n",
    "#where\n",
    "#\n",
    "#E_i^\\mu = \\prod_{c = -n+1}^{n-1} \\prod_{u | a_{ui}^\\mu \\ne c} \\frac{c-L_u}{c-\\alpha_{ui}^\\mu}\n",
    "#\n",
    "#L_u = (1,u) + (2,u) + ... + (u-1,u), a sum of transpositions\n",
    "#\n",
    "#T_j^i are tableaux belonging to equivalence classes B_i, where B_i are equivalences classes of\n",
    "#partitions given by \\tilde_p\n",
    "#\n",
    "#\\labmda \\tidle_p \\mu iff the classes (j-i) of each node have the same residue mod p\n",
    "#\n",
    "#The class of the node occupied by u in t_i^\\mu is \\alpha_{ui}^\\mu where t_1^\\mu, ..., t_d^\\mu are the standard \\mu-tableaux \n",
    "#in the ordering in pg. 288 of \"A new construction of Young's seminormal representation of the symmetric groups\".\n",
    "#\n",
    "#The \"class\" of a node (i,j) in a Young diagram \\mu is the difference j-i.\n",
    "#\n",
    "#d is the number of \"standard \\mu-tableaux\", given by the Hook-length formula.\n",
    "#\n",
    "#---\n",
    "#\n",
    "#Theorem 2.8 (Nakayama's Conjecture): {\\overline{H}^i} is a complete set of primitive orthogonal central idempotents of \\overline{K}S_n,\n",
    "#and S_{\\overline{K}}^\\mu, S_{\\overline{K}}^\\lambda belong to the same block of \\overline{K}S_n if and only if \\mu \\tilde_p \\lambda.\n",
    "#\n",
    "#---"
   ]
  },
  {
   "cell_type": "code",
   "execution_count": 10,
   "id": "0d0969bf",
   "metadata": {},
   "outputs": [
    {
     "data": {
      "text/plain": [
       "[2, 1]"
      ]
     },
     "execution_count": 10,
     "metadata": {},
     "output_type": "execute_result"
    }
   ],
   "source": [
    "mu = Partition([2,1]); mu"
   ]
  },
  {
   "cell_type": "code",
   "execution_count": 11,
   "id": "c8cfc285",
   "metadata": {},
   "outputs": [
    {
     "data": {
      "text/plain": [
       "[[[1, 3], [2]], [[1, 2], [3]]]"
      ]
     },
     "execution_count": 11,
     "metadata": {},
     "output_type": "execute_result"
    }
   ],
   "source": [
    "list(StandardTableaux(mu))"
   ]
  },
  {
   "cell_type": "code",
   "execution_count": 12,
   "id": "23a37ae4",
   "metadata": {},
   "outputs": [],
   "source": [
    "#define the element \\alpha_{ui}^\\mu\n",
    "#which is the class of u in the i^th standard Tableaux corresponding to mu\n",
    "#the class of a node is j-i where i is the row and j is the column\n",
    "def alpha(mu,u,i):\n",
    "    tab = StandardTableaux(mu)[i]\n",
    "    for row in range(len(tab)):\n",
    "        for col in range(len(tab[row])):\n",
    "            if u == tab[row][col]:\n",
    "                return col - row"
   ]
  },
  {
   "cell_type": "code",
   "execution_count": 13,
   "id": "14616c86",
   "metadata": {},
   "outputs": [],
   "source": [
    "#define the elment L_u = (1,u) + (2,u) + ... + (u-1,u) in K[S_n]\n",
    "def L(u):\n",
    "    return sum(SGA(PermutationGroupElement(f\"({i},{u})\")) for i in range(1,u))"
   ]
  },
  {
   "cell_type": "code",
   "execution_count": 15,
   "id": "c1ca882f",
   "metadata": {},
   "outputs": [],
   "source": [
    "def E(mu,i):\n",
    "    return prod(prod((c-L(u))/(c-alpha(mu,u,i)) for u in range(1,n+1) if alpha(mu,u,i) != c) for c in range(-n+1,n))"
   ]
  },
  {
   "cell_type": "code",
   "execution_count": 23,
   "id": "d500aff5",
   "metadata": {},
   "outputs": [
    {
     "data": {
      "text/plain": [
       "True"
      ]
     },
     "execution_count": 23,
     "metadata": {},
     "output_type": "execute_result"
    }
   ],
   "source": [
    "#check idempotency\n",
    "E(mu,0)*E(mu,0) == E(mu,0)"
   ]
  },
  {
   "cell_type": "code",
   "execution_count": 18,
   "id": "cc1b339d",
   "metadata": {},
   "outputs": [],
   "source": [
    "#equivalent to having the same p-core\n",
    "#look at canonical tableaus (place 1,...,n in top-to-bottom, left-to-right)\n",
    "#compute p-residues of classes j-i \\mod p\n",
    "def p_equiv(mu_1, mu_2,p):\n",
    "    return core(mu_1,p) == core(mu_2,p)\n"
   ]
  },
  {
   "cell_type": "code",
   "execution_count": 128,
   "id": "73ec4b12",
   "metadata": {},
   "outputs": [],
   "source": [
    "#helper function to determine if diagram comes from a partition\n",
    "def diagram_is_from_partition(diag):\n",
    "    from_partition = True\n",
    "    #check if rows start at 0 and have any gaps\n",
    "    row_labels = {node[0] for node in diag}\n",
    "    from_partition &= min(row_labels) == 0\n",
    "    from_partition &= len(row_labels) == max(row_labels) - min(row_labels) + 1\n",
    "    #for each row, check if columns have any gaps, and start at 0\n",
    "    for row in row_labels:\n",
    "        col_labels = {node[1] for node in diag if node[0]==row}\n",
    "        from_partition &= min(col_labels) == 0\n",
    "        from_partition &= len(col_labels) == max(col_labels) - min(col_labels) + 1\n",
    "    return from_partition"
   ]
  },
  {
   "cell_type": "code",
   "execution_count": 148,
   "id": "aea7f523",
   "metadata": {},
   "outputs": [],
   "source": [
    "#given a diagram which comes from a partition, give the partition\n",
    "def to_partition(diag):\n",
    "    assert diagram_is_from_partition(diag)\n",
    "    return Partition([max({node[1] for node in diag if node[0]==row})+1 for row in {node[0] for node in diag}])"
   ]
  },
  {
   "cell_type": "code",
   "execution_count": 149,
   "id": "34ad99d8",
   "metadata": {},
   "outputs": [
    {
     "data": {
      "text/plain": [
       "[2, 1]"
      ]
     },
     "execution_count": 149,
     "metadata": {},
     "output_type": "execute_result"
    }
   ],
   "source": [
    "diag=NorthwestDiagrams().from_partition(Partition([2,1]))\n",
    "to_partition(diag)"
   ]
  },
  {
   "cell_type": "code",
   "execution_count": 176,
   "id": "f0de4426",
   "metadata": {},
   "outputs": [],
   "source": [
    "#find the p-core of a partition\n",
    "#a \"rim p-hook\" is:\n",
    "#connected set of p nodes\n",
    "#in the rim (the node (i+1,j+1) is not in the diagram)\n",
    "#whose removal leaves a valid young diagram\n",
    "from sage.combinat.diagram import NorthwestDiagrams\n",
    "def core(mu,p):\n",
    "    #get the diagram associated to the partition\n",
    "    diag = NorthwestDiagrams().from_partition(mu)\n",
    "    #find the rim of the diagram/partition\n",
    "    rim = []\n",
    "    for node in diag:\n",
    "        if (node[0]+1,node[1]+1) not in diag:\n",
    "            rim.append(node)\n",
    "    #find rim p-hooks\n",
    "    p_hooks = []\n",
    "    for start in rim:\n",
    "        p_hook = [start]\n",
    "        for step in range(p-1):\n",
    "            current = p_hook[step]\n",
    "            down = (current[0]+1,current[1])\n",
    "            left = (current[0],current[1]-1)\n",
    "            if (not down in rim) and (not left in rim):\n",
    "                break\n",
    "            if down in rim:\n",
    "                p_hook.append(down)\n",
    "                continue\n",
    "            if left in rim:\n",
    "                p_hook.append(left)\n",
    "                continue\n",
    "        if len(p_hook) == p:\n",
    "            p_hooks.append(p_hook)\n",
    "    #recursive step: if no p-hooks, return original diagram\n",
    "    if len(p_hooks) == 0:\n",
    "        return to_partition(diag)\n",
    "    #determine if removal of candidate p_hook results in a diagram\n",
    "    valid_p_hook_removed_diags = []\n",
    "    for p_hook in p_hooks:\n",
    "        diag_minus_p_hook = Diagram([node for node in diag if node not in p_hook])\n",
    "        if diagram_is_from_partition(diag_minus_p_hook):\n",
    "            valid_p_hook_removed_diags.append(diag_minus_p_hook)\n",
    "    #recursive step: if diagram is unchanged, return, otherwise keep going\n",
    "    for valid_p_hook_removed_diag in valid_p_hook_removed_diags:\n",
    "        diag.pp()\n",
    "        print(\"-----------\")\n",
    "        valid_p_hook_removed_diag.pp()\n",
    "        print(\"###########\")\n",
    "        print(p_hooks)\n",
    "        partition = to_partition(valid_p_hook_removed_diag)\n",
    "        return core(partition,p)"
   ]
  },
  {
   "cell_type": "code",
   "execution_count": 175,
   "id": "3b8032fe",
   "metadata": {},
   "outputs": [
    {
     "name": "stdout",
     "output_type": "stream",
     "text": [
      "O O O O O O \n",
      "O O O O O O \n",
      "O O O O O . \n",
      "O . . . . . \n",
      "O . . . . . \n",
      "-----------\n",
      "O O O O O \n",
      "O O O O . \n",
      "O O O . . \n",
      "O . . . . \n",
      "O . . . . \n",
      "###########\n",
      "[[(0, 5), (1, 5), (1, 4), (2, 4), (2, 3)], [(1, 4), (2, 4), (2, 3), (2, 2), (2, 1)], [(1, 5), (1, 4), (2, 4), (2, 3), (2, 2)], [(2, 2), (2, 1), (2, 0), (3, 0), (4, 0)], [(2, 3), (2, 2), (2, 1), (2, 0), (3, 0)], [(2, 4), (2, 3), (2, 2), (2, 1), (2, 0)]]\n",
      "O O O O O \n",
      "O O O O . \n",
      "O O O . . \n",
      "O . . . . \n",
      "O . . . . \n",
      "-----------\n",
      "O O O \n",
      "O O . \n",
      "O O . \n",
      "O . . \n",
      "O . . \n",
      "###########\n",
      "[[(0, 3), (1, 3), (1, 2), (2, 2), (2, 1)], [(0, 4), (0, 3), (1, 3), (1, 2), (2, 2)], [(1, 2), (2, 2), (2, 1), (2, 0), (3, 0)], [(1, 3), (1, 2), (2, 2), (2, 1), (2, 0)], [(2, 2), (2, 1), (2, 0), (3, 0), (4, 0)]]\n",
      "O O O \n",
      "O O . \n",
      "O O . \n",
      "O . . \n",
      "O . . \n",
      "-----------\n",
      "O O O \n",
      "O . . \n",
      "###########\n",
      "[[(0, 1), (1, 1), (2, 1), (2, 0), (3, 0)], [(0, 2), (0, 1), (1, 1), (2, 1), (2, 0)], [(1, 1), (2, 1), (2, 0), (3, 0), (4, 0)]]\n"
     ]
    },
    {
     "data": {
      "text/plain": [
       "[3, 1]"
      ]
     },
     "execution_count": 175,
     "metadata": {},
     "output_type": "execute_result"
    }
   ],
   "source": [
    "core(Partition([6,6,5,1,1]),5)"
   ]
  },
  {
   "cell_type": "code",
   "execution_count": 171,
   "id": "6394bbc6",
   "metadata": {},
   "outputs": [
    {
     "name": "stdout",
     "output_type": "stream",
     "text": [
      "empty\n"
     ]
    }
   ],
   "source": [
    "if len([])==0:\n",
    "    print(\"empty\")"
   ]
  },
  {
   "cell_type": "code",
   "execution_count": null,
   "id": "ca501e12",
   "metadata": {},
   "outputs": [],
   "source": []
  }
 ],
 "metadata": {
  "kernelspec": {
   "display_name": "SageMath 10.1",
   "language": "sage",
   "name": "sagemath"
  },
  "language_info": {
   "codemirror_mode": {
    "name": "ipython",
    "version": 3
   },
   "file_extension": ".py",
   "mimetype": "text/x-python",
   "name": "python",
   "nbconvert_exporter": "python",
   "pygments_lexer": "ipython3",
   "version": "3.11.1"
  }
 },
 "nbformat": 4,
 "nbformat_minor": 5
}
