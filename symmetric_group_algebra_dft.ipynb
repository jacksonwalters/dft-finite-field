{
 "cells": [
  {
   "cell_type": "code",
   "execution_count": 301,
   "id": "7448734a",
   "metadata": {},
   "outputs": [],
   "source": [
    "#REFS:\n",
    "#Wildon, Vertices of Specht Modules and Blocks of the Symmetric Group\n",
    "#Murphy, The Idempotents of the Symmetric Group and Nakayama's Conjecture\n",
    "#Murphy, A new construction of Young's seminormal representation of the symmetric groups"
   ]
  },
  {
   "cell_type": "code",
   "execution_count": 302,
   "id": "3ac291e5",
   "metadata": {},
   "outputs": [],
   "source": [
    "SGA_Q3 = SymmetricGroupAlgebra(QQ,3)"
   ]
  },
  {
   "cell_type": "code",
   "execution_count": 303,
   "id": "d5bc95b0",
   "metadata": {},
   "outputs": [
    {
     "data": {
      "text/plain": [
       "[   1    1    1    1    1    1]\n",
       "[   1  1/2   -1 -1/2 -1/2  1/2]\n",
       "[   0  3/4    0  3/4 -3/4 -3/4]\n",
       "[   0    1    0   -1    1   -1]\n",
       "[   1 -1/2    1 -1/2 -1/2 -1/2]\n",
       "[   1   -1   -1    1    1   -1]"
      ]
     },
     "execution_count": 303,
     "metadata": {},
     "output_type": "execute_result"
    }
   ],
   "source": [
    "SGA_Q3.dft()"
   ]
  },
  {
   "cell_type": "code",
   "execution_count": 304,
   "id": "8f98a1b7",
   "metadata": {},
   "outputs": [],
   "source": [
    "SGA_F7 = SymmetricGroupAlgebra(GF(7),3)"
   ]
  },
  {
   "cell_type": "code",
   "execution_count": 305,
   "id": "495bc146",
   "metadata": {},
   "outputs": [
    {
     "data": {
      "text/plain": [
       "[1 1 1 1 1 1]\n",
       "[1 4 6 3 3 4]\n",
       "[0 6 0 6 1 1]\n",
       "[0 1 0 6 1 6]\n",
       "[1 3 1 3 3 3]\n",
       "[1 6 6 1 1 6]"
      ]
     },
     "execution_count": 305,
     "metadata": {},
     "output_type": "execute_result"
    }
   ],
   "source": [
    "SGA_F7.dft()"
   ]
  },
  {
   "cell_type": "code",
   "execution_count": 306,
   "id": "8e7c474e",
   "metadata": {},
   "outputs": [
    {
     "data": {
      "text/plain": [
       "Specht module of [(0, 0), (1, 0), (2, 0)] over Finite Field of size 7"
      ]
     },
     "execution_count": 306,
     "metadata": {},
     "output_type": "execute_result"
    }
   ],
   "source": [
    "SGA_F7.specht_module(Partition([1,1,1]))"
   ]
  },
  {
   "cell_type": "code",
   "execution_count": 307,
   "id": "eac905eb",
   "metadata": {},
   "outputs": [],
   "source": [
    "SGA_F3 = SymmetricGroupAlgebra(GF(3),3)"
   ]
  },
  {
   "cell_type": "code",
   "execution_count": 308,
   "id": "7608ec7e",
   "metadata": {},
   "outputs": [
    {
     "name": "stdout",
     "output_type": "stream",
     "text": [
      "Modular case not handled!\n"
     ]
    }
   ],
   "source": [
    "#one cannot perform the DFT when p | n!\n",
    "try:\n",
    "    SGA_F3.dft()\n",
    "except ZeroDivisionError:\n",
    "    print(\"Modular case not handled!\")"
   ]
  },
  {
   "cell_type": "code",
   "execution_count": 309,
   "id": "80d0b5d9",
   "metadata": {},
   "outputs": [],
   "source": [
    "#Theorem 3.3, \"Nakayama's Conjecture\", pg. 8, Wildon, Vertices of Specht Modules and Blocks of the Symmetric Group:\n",
    "\n",
    "#Let p be a prime. The p-blocks of the symmetric group Sn are labelled by pairs (\\gamma,w), \n",
    "#where \\gamma is a p-core and w \\in \\mathbb{N}_0 is the associated weight, such that |\\gamma| + wp = n. \n",
    "#Thus S^\\lambda lies in the block labelled by (\\gamma,w) if and only if \\lambda has p-core \\gamma and weight w.\n",
    "#\n",
    "#---\n",
    "#\n",
    "#Theorem 2.1, Murphy, The Idempotents of the Symmetric Group and Nakayama's Conjecture\n",
    "#\n",
    "#F_j^i = \\sum_{\\mu,k | t_k^\\mu \\in T_j^i} E_k^\\mu \n",
    "#H^i = \\sum_j F_j^i \n",
    "#\n",
    "#{F_j^i} is a complete set of orthogonal idempotents of RS_n, similarly for {\\overline{F}_j^i}.\n",
    "#\n",
    "#where\n",
    "#\n",
    "#E_i^\\mu = \\prod_{c = -n+1}^{n-1} \\prod_{u | a_{ui}^\\mu \\ne c} \\frac{c-L_u}{c-\\alpha_{ui}^\\mu}\n",
    "#\n",
    "#L_u = (1,u) + (2,u) + ... + (u-1,u), a sum of transpositions\n",
    "#\n",
    "#T_j^i are tableaux belonging to equivalence classes B_i, where B_i are equivalences classes of\n",
    "#partitions given by \\tilde_p\n",
    "#\n",
    "#\\labmda \\tidle_p \\mu iff the classes (j-i) of each node have the same residue mod p\n",
    "#\n",
    "#The class of the node occupied by u in t_i^\\mu is \\alpha_{ui}^\\mu where t_1^\\mu, ..., t_d^\\mu are the standard \\mu-tableaux \n",
    "#in the ordering in pg. 288 of \"A new construction of Young's seminormal representation of the symmetric groups\".\n",
    "#\n",
    "#The \"class\" of a node (i,j) in a Young diagram \\mu is the difference j-i.\n",
    "#\n",
    "#d is the number of \"standard \\mu-tableaux\", given by the Hook-length formula.\n",
    "#\n",
    "#---\n",
    "#\n",
    "#Theorem 2.8 (Nakayama's Conjecture): {\\overline{H}^i} is a complete set of primitive orthogonal central idempotents of \\overline{K}S_n,\n",
    "#and S_{\\overline{K}}^\\mu, S_{\\overline{K}}^\\lambda belong to the same block of \\overline{K}S_n if and only if \\mu \\tilde_p \\lambda.\n",
    "#\n",
    "#---"
   ]
  },
  {
   "cell_type": "code",
   "execution_count": 310,
   "id": "23a37ae4",
   "metadata": {},
   "outputs": [],
   "source": [
    "#define the element \\alpha_{ui}^\\mu\n",
    "#which is the class of u in the i^th standard Tableaux corresponding to mu\n",
    "#the class of a node is j-i where i is the row and j is the column\n",
    "def alpha(mu,u,i):\n",
    "    tab = StandardTableaux(mu)[i]\n",
    "    for row in range(len(tab)):\n",
    "        for col in range(len(tab[row])):\n",
    "            if u == tab[row][col]:\n",
    "                return col - row"
   ]
  },
  {
   "cell_type": "code",
   "execution_count": 311,
   "id": "14616c86",
   "metadata": {},
   "outputs": [],
   "source": [
    "#define the elment L_u = (1,u) + (2,u) + ... + (u-1,u) in K[S_n]\n",
    "def L(u,n,char=0):\n",
    "    if char == 0:\n",
    "        SGA = SymmetricGroupAlgebra(QQ,n)\n",
    "    else:\n",
    "        SGA = SymmetricGroupAlgebra(GF(char),n)\n",
    "    return sum(SGA(PermutationGroupElement(f\"({i},{u})\")) for i in range(1,u))"
   ]
  },
  {
   "cell_type": "code",
   "execution_count": 312,
   "id": "c1ca882f",
   "metadata": {},
   "outputs": [],
   "source": [
    "#from Murphy\n",
    "def E(mu,i,n,char=0):\n",
    "    return prod(prod((c-L(u,n,char))/(c-alpha(mu,u,i)) for u in range(1,n+1) if alpha(mu,u,i) != c) for c in range(-n+1,n))"
   ]
  },
  {
   "cell_type": "code",
   "execution_count": 313,
   "id": "d500aff5",
   "metadata": {},
   "outputs": [
    {
     "data": {
      "text/plain": [
       "True"
      ]
     },
     "execution_count": 313,
     "metadata": {},
     "output_type": "execute_result"
    }
   ],
   "source": [
    "#check idempotency\n",
    "mu = Partition([4,1])\n",
    "E(mu,0,3)*E(mu,0,3) == E(mu,0,3)"
   ]
  },
  {
   "cell_type": "code",
   "execution_count": 314,
   "id": "9bc4f89d",
   "metadata": {},
   "outputs": [],
   "source": [
    "#helper function to determine if diagram comes from a partition\n",
    "def diagram_is_from_partition(diag):\n",
    "    #handle empty diagram\n",
    "    if len(diag) == 0:\n",
    "        return True\n",
    "    from_partition = True\n",
    "    #check if rows start at 0 and have any gaps\n",
    "    row_labels = {node[0] for node in diag}\n",
    "    from_partition &= min(row_labels) == 0\n",
    "    from_partition &= len(row_labels) == max(row_labels) - min(row_labels) + 1\n",
    "    #for each row, check if columns have any gaps, and start at 0\n",
    "    part = []\n",
    "    for row in row_labels:\n",
    "        col_labels = {node[1] for node in diag if node[0]==row}\n",
    "        part.append(len(col_labels))\n",
    "        from_partition &= min(col_labels) == 0\n",
    "        from_partition &= len(col_labels) == max(col_labels) - min(col_labels) + 1\n",
    "    from_partition &= all(part[i] >= part[i+1] for i in range(len(part) - 1))\n",
    "    return from_partition"
   ]
  },
  {
   "cell_type": "code",
   "execution_count": 315,
   "id": "423efb29",
   "metadata": {},
   "outputs": [],
   "source": [
    "#given a diagram which comes from a partition, give the partition\n",
    "def to_partition(diag):\n",
    "    assert diagram_is_from_partition(diag)\n",
    "    return Partition([max({node[1] for node in diag if node[0]==row})+1 for row in {node[0] for node in diag}])"
   ]
  },
  {
   "cell_type": "code",
   "execution_count": 347,
   "id": "f0de4426",
   "metadata": {},
   "outputs": [],
   "source": [
    "#find the p-core of a partition\n",
    "#a \"rim p-hook\" is:\n",
    "#connected set of p nodes\n",
    "#in the rim (the node (i+1,j+1) is not in the diagram)\n",
    "#whose removal leaves a valid young diagram\n",
    "#this re-implements mu.core(p)\n",
    "from sage.combinat.diagram import Diagram, NorthwestDiagrams\n",
    "def core(mu,p):\n",
    "    #get the diagram associated to the partition\n",
    "    diag = NorthwestDiagrams().from_partition(mu)\n",
    "    #find the rim of the diagram/partition\n",
    "    rim = []\n",
    "    for node in diag:\n",
    "        if (node[0]+1,node[1]+1) not in diag:\n",
    "            rim.append(node)\n",
    "    #find rim p-hooks\n",
    "    p_hooks = []\n",
    "    for start in rim:\n",
    "        p_hook = [start]\n",
    "        for step in range(p-1):\n",
    "            current = p_hook[step]\n",
    "            down = (current[0]+1,current[1])\n",
    "            left = (current[0],current[1]-1)\n",
    "            if (not down in rim) and (not left in rim):\n",
    "                break\n",
    "            if down in rim:\n",
    "                p_hook.append(down)\n",
    "                continue\n",
    "            if left in rim:\n",
    "                p_hook.append(left)\n",
    "                continue\n",
    "        if len(p_hook) == p:\n",
    "            p_hooks.append(p_hook)\n",
    "    #determine if removal of candidate p_hook results in a diagram\n",
    "    valid_p_hook_removed_diags = []\n",
    "    for p_hook in p_hooks:\n",
    "        diag_minus_p_hook = Diagram([node for node in diag if node not in p_hook])\n",
    "        if diagram_is_from_partition(diag_minus_p_hook):\n",
    "            valid_p_hook_removed_diags.append(diag_minus_p_hook)\n",
    "    #recursive step: if no p-hooks, return original diagram\n",
    "    if len(valid_p_hook_removed_diags) == 0:\n",
    "        return to_partition(diag)\n",
    "    #recursive step: if diagram is unchanged, return, otherwise keep going\n",
    "    for valid_p_hook_removed_diag in valid_p_hook_removed_diags:\n",
    "        partition = to_partition(valid_p_hook_removed_diag)\n",
    "        return core(partition,p)"
   ]
  },
  {
   "cell_type": "code",
   "execution_count": 317,
   "id": "ecf911d6",
   "metadata": {},
   "outputs": [],
   "source": [
    "#determine when two partitions are p-equivalent, i.e. have the same p-core\n",
    "#look at canonical tableaus (place 1,...,n in top-to-bottom, left-to-right)\n",
    "#compute p-residues of classes j-i \\mod p\n",
    "#using the method described in Littlewood '51\n",
    "#just check if the sets have the same residue classes\n",
    "#BUG: for n=5, p=3, the partition [1,1,1,1,1] is in two classe with residue {0,1,2}\n",
    "from multiset import *\n",
    "def p_equiv(mu_1, mu_2,p,method=\"residue\"):\n",
    "    if method==\"core\":\n",
    "        return core(mu_1,p) == core(mu_2,p)\n",
    "    if method==\"residue\":\n",
    "        max_len = max(len(mu_1),len(mu_2))\n",
    "        #zero pad partitions\n",
    "        mu_1 += [0]*(max_len - len(mu_1))\n",
    "        mu_2 += [0]*(max_len - len(mu_2))\n",
    "        #compute residue sets\n",
    "        residues_1 = set([(mu_1[i]+max_len-1-i) % p for i in range(max_len)])\n",
    "        residues_2 = set([(mu_2[i]+max_len-1-i) % p for i in range(max_len)])\n",
    "        return residues_1 == residues_2\n",
    "    if method==\"multiset\":\n",
    "        diag_1=NorthwestDiagrams().from_partition(mu_1)\n",
    "        diag_2=NorthwestDiagrams().from_partition(mu_2)\n",
    "        res_1 = Multiset([(node[1]-node[0]) % 5 for node in diag_1])\n",
    "        res_2 = Multiset([(node[1]-node[0]) % 5 for node in diag_2])\n",
    "        k=0\n",
    "        while res_1 >= Multiset({i:k for i in range(5)}):\n",
    "            k += 1\n",
    "        reduced_1 = res_1 - Multiset({i:k-1 for i in range(5)})\n",
    "        k=0\n",
    "        while res_2 >= Multiset({i:k for i in range(5)}):\n",
    "            k += 1\n",
    "        reduced_2 = res_2 - Multiset({i:k-1 for i in range(5)})\n",
    "        return reduced_1 == reduced_2"
   ]
  },
  {
   "cell_type": "code",
   "execution_count": 318,
   "id": "4d384ae9",
   "metadata": {},
   "outputs": [],
   "source": [
    "#equivalence classes of all partitions under \\tilde_p\n",
    "#two partitions are equivalent if they have the same p-core\n",
    "def B(n,p):\n",
    "    equiv_classes = []\n",
    "    for part_1 in Partitions(n):\n",
    "        equiv_class_found = False\n",
    "        for equiv_class in equiv_classes:\n",
    "            for part_2 in equiv_class:\n",
    "                if p_equiv(part_1,part_2,p,method=\"core\"):\n",
    "                    equiv_class.append(part_1)\n",
    "                    equiv_class_found = True\n",
    "                    break\n",
    "        if not equiv_class_found:\n",
    "            equiv_classes.append([part_1])\n",
    "    return equiv_classes"
   ]
  },
  {
   "cell_type": "code",
   "execution_count": 319,
   "id": "94679241",
   "metadata": {},
   "outputs": [],
   "source": [
    "#in each equivalence class B_i, we have p-equivalent partitions\n",
    "#each partition in B_i has associated standard tableaux\n",
    "#we obtain equivalences classes T_j^i by extending ~_p from partitions to tableaux\n",
    "#define t ~_p t^* if every u <= n occupies a node of the same p-class in both t and t^*\n",
    "def equiv_tableaux(t1,t2,n,p):\n",
    "    equiv = True\n",
    "    #find index of u in t1 and t2\n",
    "    for u in range(1,n+1):\n",
    "        for i in range(len(t1)):\n",
    "            for j in range(len(t1[i])):\n",
    "                if t1[i][j] == u:\n",
    "                    res_1 = (j-i) % p\n",
    "        for i in range(len(t2)):\n",
    "            for j in range(len(t2[i])):\n",
    "                if t2[i][j] == u:\n",
    "                    res_2 = (j-i) % p\n",
    "        equiv &= res_1 == res_2\n",
    "    return equiv"
   ]
  },
  {
   "cell_type": "code",
   "execution_count": 320,
   "id": "a339ab90",
   "metadata": {},
   "outputs": [],
   "source": [
    "#flatten a list\n",
    "def flatten(l):\n",
    "    return [item for sublist in l for item in sublist]"
   ]
  },
  {
   "cell_type": "code",
   "execution_count": 321,
   "id": "ebe899b8",
   "metadata": {},
   "outputs": [],
   "source": [
    "#equivalence classes of all partitions under \\tilde_p\n",
    "#two partitions are equivalent if they have the same p-core\n",
    "#from sage.combinat.tableau import IncreasingTableaux_shape\n",
    "def T(i,n,p):\n",
    "    partition_equiv_class = B(n,p)[i]\n",
    "    equiv_classes_list = []\n",
    "    #should this be StandardTableaux, or allTableaux?\n",
    "    all_tableaux = flatten([StandardTableaux(mu) for mu in partition_equiv_class])\n",
    "    equiv_classes = []\n",
    "    for tab_1 in all_tableaux:\n",
    "        equiv_class_found = False\n",
    "        for equiv_class in equiv_classes:\n",
    "            for tab_2 in equiv_class:\n",
    "                if equiv_tableaux(tab_1,tab_2,n,p):\n",
    "                    equiv_class.append(tab_1)\n",
    "                    equiv_class_found = True\n",
    "                    break\n",
    "        if not equiv_class_found:\n",
    "            equiv_classes.append([tab_1])\n",
    "    equiv_classes_list.append(equiv_classes)\n",
    "    return flatten(equiv_classes_list)"
   ]
  },
  {
   "cell_type": "code",
   "execution_count": 322,
   "id": "1fad41de",
   "metadata": {},
   "outputs": [],
   "source": [
    "#define idempotents F_i^j\n",
    "def F(i,j,n,p):\n",
    "    F_ij = 0\n",
    "    tableaux = T(i,n,p)[j]\n",
    "    for t in tableaux:\n",
    "        mu = [len(l) for l in t]\n",
    "        std_tableaux = StandardTableaux(mu)\n",
    "        k = list(std_tableaux).index(Tableau(t))\n",
    "        F_ij += E(mu,k,n)\n",
    "    return F_ij"
   ]
  },
  {
   "cell_type": "code",
   "execution_count": 323,
   "id": "761997f9",
   "metadata": {},
   "outputs": [
    {
     "data": {
      "text/plain": [
       "True"
      ]
     },
     "execution_count": 323,
     "metadata": {},
     "output_type": "execute_result"
    }
   ],
   "source": [
    "F(0,0,5,3)*F(0,0,5,3) == F(0,0,5,3)"
   ]
  },
  {
   "cell_type": "code",
   "execution_count": 324,
   "id": "eb08b14b",
   "metadata": {},
   "outputs": [],
   "source": [
    "#reduce idempotent element over F_3\n",
    "idem_SGA5_GF3 = []\n",
    "for i in range(3):\n",
    "    for j in range(4):\n",
    "        idem = sum([GF(3)(item[1])*SymmetricGroupAlgebra(GF(3),5)(item[0]) for item in F(i,j,5,3)])\n",
    "        idem_SGA5_GF3.append(idem)"
   ]
  },
  {
   "cell_type": "code",
   "execution_count": 326,
   "id": "645a63ce",
   "metadata": {},
   "outputs": [
    {
     "data": {
      "text/plain": [
       "True"
      ]
     },
     "execution_count": 326,
     "metadata": {},
     "output_type": "execute_result"
    }
   ],
   "source": [
    "idem_SGA5_GF3[0]*idem_SGA5_GF3[0] == idem_SGA5_GF3[0]"
   ]
  },
  {
   "cell_type": "code",
   "execution_count": 327,
   "id": "55ad29c8",
   "metadata": {},
   "outputs": [],
   "source": [
    "#reduce idempotent element over F_3\n",
    "idem_1 = sum([GF(3)(item[1])*SymmetricGroupAlgebra(GF(3),5)(item[0]) for item in F(0,0,5,3)])\n",
    "idem_2 = sum([GF(3)(item[1])*SymmetricGroupAlgebra(GF(3),5)(item[0]) for item in F(0,1,5,3)])"
   ]
  },
  {
   "cell_type": "code",
   "execution_count": 328,
   "id": "82989475",
   "metadata": {},
   "outputs": [
    {
     "data": {
      "text/plain": [
       "0"
      ]
     },
     "execution_count": 328,
     "metadata": {},
     "output_type": "execute_result"
    }
   ],
   "source": [
    "idem_1*idem_2"
   ]
  },
  {
   "cell_type": "code",
   "execution_count": 329,
   "id": "2f53c75f",
   "metadata": {},
   "outputs": [],
   "source": [
    "#construct Pierce decomposition of SGA into sum of blocks"
   ]
  },
  {
   "cell_type": "code",
   "execution_count": 330,
   "id": "7f092b15",
   "metadata": {},
   "outputs": [
    {
     "data": {
      "text/plain": [
       "2*[1, 2, 3, 4, 5] + 2*[1, 2, 3, 5, 4] + 2*[1, 2, 4, 3, 5] + 2*[1, 2, 5, 4, 3] + 2*[1, 3, 2, 4, 5] + 2*[1, 3, 2, 5, 4] + 2*[1, 3, 4, 5, 2] + 2*[1, 3, 5, 2, 4] + 2*[1, 4, 2, 5, 3] + 2*[1, 4, 3, 2, 5] + 2*[1, 4, 5, 2, 3] + 2*[1, 4, 5, 3, 2] + 2*[1, 5, 2, 3, 4] + 2*[1, 5, 3, 4, 2] + 2*[1, 5, 4, 2, 3] + 2*[1, 5, 4, 3, 2] + 2*[2, 1, 3, 4, 5] + 2*[2, 1, 3, 5, 4] + 2*[2, 1, 4, 3, 5] + 2*[2, 1, 5, 4, 3] + 2*[2, 3, 4, 1, 5] + 2*[2, 3, 4, 5, 1] + 2*[2, 3, 5, 1, 4] + 2*[2, 3, 5, 4, 1] + 2*[2, 4, 1, 3, 5] + 2*[2, 4, 1, 5, 3] + 2*[2, 4, 3, 5, 1] + 2*[2, 4, 5, 3, 1] + 2*[2, 5, 1, 3, 4] + 2*[2, 5, 1, 4, 3] + 2*[2, 5, 3, 1, 4] + 2*[2, 5, 4, 1, 3] + 2*[3, 1, 4, 2, 5] + 2*[3, 1, 4, 5, 2] + 2*[3, 1, 5, 2, 4] + 2*[3, 1, 5, 4, 2] + 2*[3, 2, 1, 4, 5] + 2*[3, 2, 1, 5, 4] + 2*[3, 2, 4, 5, 1] + 2*[3, 2, 5, 1, 4] + 2*[3, 4, 1, 2, 5] + 2*[3, 4, 2, 1, 5] + 2*[3, 4, 2, 5, 1] + 2*[3, 4, 5, 1, 2] + 2*[3, 5, 1, 4, 2] + 2*[3, 5, 2, 1, 4] + 2*[3, 5, 2, 4, 1] + 2*[3, 5, 4, 2, 1] + 2*[4, 1, 2, 3, 5] + 2*[4, 1, 2, 5, 3] + 2*[4, 1, 3, 5, 2] + 2*[4, 1, 5, 3, 2] + 2*[4, 2, 1, 5, 3] + 2*[4, 2, 3, 1, 5] + 2*[4, 2, 5, 1, 3] + 2*[4, 2, 5, 3, 1] + 2*[4, 3, 1, 2, 5] + 2*[4, 3, 1, 5, 2] + 2*[4, 3, 2, 1, 5] + 2*[4, 3, 5, 2, 1] + 2*[4, 5, 1, 2, 3] + 2*[4, 5, 2, 3, 1] + 2*[4, 5, 3, 1, 2] + 2*[4, 5, 3, 2, 1] + 2*[5, 1, 2, 3, 4] + 2*[5, 1, 2, 4, 3] + 2*[5, 1, 3, 2, 4] + 2*[5, 1, 4, 2, 3] + 2*[5, 2, 1, 3, 4] + 2*[5, 2, 3, 4, 1] + 2*[5, 2, 4, 1, 3] + 2*[5, 2, 4, 3, 1] + 2*[5, 3, 1, 2, 4] + 2*[5, 3, 1, 4, 2] + 2*[5, 3, 2, 4, 1] + 2*[5, 3, 4, 1, 2] + 2*[5, 4, 1, 3, 2] + 2*[5, 4, 2, 1, 3] + 2*[5, 4, 3, 1, 2] + 2*[5, 4, 3, 2, 1]"
      ]
     },
     "execution_count": 330,
     "metadata": {},
     "output_type": "execute_result"
    }
   ],
   "source": [
    "SymmetricGroupAlgebra(GF(3),5).central_orthogonal_idempotent(Partition([2,1,1,1]))"
   ]
  },
  {
   "cell_type": "code",
   "execution_count": 331,
   "id": "219da26f",
   "metadata": {},
   "outputs": [],
   "source": [
    "idempotents = SymmetricGroupAlgebra(GF(3),5).central_orthogonal_idempotents()"
   ]
  },
  {
   "cell_type": "code",
   "execution_count": 348,
   "id": "d8472333",
   "metadata": {},
   "outputs": [
    {
     "data": {
      "text/plain": [
       "3"
      ]
     },
     "execution_count": 348,
     "metadata": {},
     "output_type": "execute_result"
    }
   ],
   "source": [
    "len(idempotents)"
   ]
  },
  {
   "cell_type": "code",
   "execution_count": 349,
   "id": "105dc9ca",
   "metadata": {},
   "outputs": [
    {
     "data": {
      "text/plain": [
       "12"
      ]
     },
     "execution_count": 349,
     "metadata": {},
     "output_type": "execute_result"
    }
   ],
   "source": [
    "len(set(idem_SGA5_GF3))"
   ]
  },
  {
   "cell_type": "code",
   "execution_count": 362,
   "id": "24d4ab37",
   "metadata": {},
   "outputs": [],
   "source": [
    "#AHA! it looks like there are blocks of 4 corresponding to each of the 3 idempotents\n",
    "#the first idempotent corresponds to the last block of 4: 8,9,10,11\n",
    "#the second idempotent corresponds the first block of 4: 0,1,2,3\n",
    "#the third idempotent corresponds to the last block of 4: 4,5,6,7"
   ]
  },
  {
   "cell_type": "code",
   "execution_count": 364,
   "id": "9deeb83b",
   "metadata": {},
   "outputs": [
    {
     "name": "stdout",
     "output_type": "stream",
     "text": [
      "0 0\n",
      "0 1\n",
      "0 2\n",
      "0 3\n",
      "0 4\n",
      "0 5\n",
      "0 6\n",
      "0 7\n",
      "idem\n",
      "idem\n",
      "idem\n",
      "idem\n",
      "idem\n",
      "idem\n",
      "idem\n",
      "idem\n",
      "1 4\n",
      "1 5\n",
      "1 6\n",
      "1 7\n",
      "1 8\n",
      "1 9\n",
      "1 10\n",
      "1 11\n",
      "2 0\n",
      "2 1\n",
      "2 2\n",
      "2 3\n",
      "idem\n",
      "idem\n",
      "idem\n",
      "idem\n",
      "2 8\n",
      "2 9\n",
      "2 10\n",
      "2 11\n"
     ]
    }
   ],
   "source": [
    "for i in range(len(idempotents)):\n",
    "    for j in range(len(idem_SGA5_GF3)):\n",
    "        if idempotents[i]*idem_SGA5_GF3[j] == 0:\n",
    "            print(i,j)\n",
    "        if idempotents[i]*idem_SGA5_GF3[j] == idem_SGA5_GF3[j]:\n",
    "            print(\"idem\")"
   ]
  },
  {
   "cell_type": "code",
   "execution_count": 369,
   "id": "5eeca416",
   "metadata": {},
   "outputs": [
    {
     "data": {
      "text/plain": [
       "4"
      ]
     },
     "execution_count": 369,
     "metadata": {},
     "output_type": "execute_result"
    }
   ],
   "source": [
    "idem_SGA5_GF3[8:]"
   ]
  },
  {
   "cell_type": "code",
   "execution_count": 387,
   "id": "7caf8593",
   "metadata": {},
   "outputs": [
    {
     "data": {
      "text/plain": [
       "True"
      ]
     },
     "execution_count": 387,
     "metadata": {},
     "output_type": "execute_result"
    }
   ],
   "source": [
    "idempotents[0] * idem_SGA5_GF3[8:][0] == idem_SGA5_GF3[8:][0]"
   ]
  },
  {
   "cell_type": "code",
   "execution_count": 395,
   "id": "537efaa5",
   "metadata": {},
   "outputs": [
    {
     "data": {
      "text/plain": [
       "[1, 2, 3, 4, 5] + [1, 2, 3, 5, 4] + 2*[1, 2, 4, 5, 3] + 2*[1, 2, 5, 3, 4] + [1, 2, 5, 4, 3] + 2*[1, 3, 2, 4, 5] + 2*[1, 3, 2, 5, 4] + 2*[1, 3, 4, 2, 5] + [1, 3, 5, 4, 2] + 2*[1, 4, 2, 3, 5] + 2*[1, 4, 3, 2, 5] + [1, 4, 3, 5, 2] + 2*[1, 4, 5, 2, 3] + [1, 5, 2, 4, 3] + [1, 5, 3, 2, 4] + [1, 5, 4, 3, 2] + 2*[2, 1, 3, 4, 5] + 2*[2, 1, 3, 5, 4] + [2, 1, 4, 5, 3] + [2, 1, 5, 3, 4] + 2*[2, 1, 5, 4, 3] + [2, 3, 1, 4, 5] + [2, 3, 1, 5, 4] + [2, 3, 4, 1, 5] + 2*[2, 3, 5, 4, 1] + [2, 4, 1, 3, 5] + [2, 4, 3, 1, 5] + 2*[2, 4, 3, 5, 1] + [2, 4, 5, 1, 3] + 2*[2, 5, 1, 4, 3] + 2*[2, 5, 3, 1, 4] + 2*[2, 5, 4, 3, 1] + [3, 1, 2, 4, 5] + [3, 1, 2, 5, 4] + [3, 1, 4, 2, 5] + 2*[3, 1, 5, 4, 2] + 2*[3, 2, 1, 4, 5] + 2*[3, 2, 1, 5, 4] + 2*[3, 2, 4, 1, 5] + [3, 2, 5, 4, 1] + [3, 4, 1, 2, 5] + 2*[3, 4, 1, 5, 2] + 2*[3, 4, 2, 1, 5] + [3, 4, 2, 5, 1] + [3, 4, 5, 1, 2] + 2*[3, 4, 5, 2, 1] + 2*[3, 5, 1, 2, 4] + [3, 5, 2, 1, 4] + [3, 5, 4, 1, 2] + 2*[3, 5, 4, 2, 1] + [4, 1, 2, 3, 5] + [4, 1, 3, 2, 5] + 2*[4, 1, 3, 5, 2] + [4, 1, 5, 2, 3] + 2*[4, 2, 1, 3, 5] + 2*[4, 2, 3, 1, 5] + [4, 2, 3, 5, 1] + 2*[4, 2, 5, 1, 3] + 2*[4, 3, 1, 2, 5] + [4, 3, 1, 5, 2] + [4, 3, 2, 1, 5] + 2*[4, 3, 2, 5, 1] + 2*[4, 3, 5, 1, 2] + [4, 3, 5, 2, 1] + [4, 5, 1, 2, 3] + [4, 5, 1, 3, 2] + 2*[4, 5, 2, 1, 3] + 2*[4, 5, 2, 3, 1] + 2*[5, 1, 2, 4, 3] + 2*[5, 1, 3, 2, 4] + 2*[5, 1, 4, 3, 2] + [5, 2, 1, 4, 3] + [5, 2, 3, 1, 4] + [5, 2, 4, 3, 1] + [5, 3, 1, 2, 4] + 2*[5, 3, 2, 1, 4] + 2*[5, 3, 4, 1, 2] + [5, 3, 4, 2, 1] + 2*[5, 4, 1, 2, 3] + 2*[5, 4, 1, 3, 2] + [5, 4, 2, 1, 3] + [5, 4, 2, 3, 1]"
      ]
     },
     "execution_count": 395,
     "metadata": {},
     "output_type": "execute_result"
    }
   ],
   "source": [
    "idem_SGA5_GF3[8:][0]"
   ]
  },
  {
   "cell_type": "code",
   "execution_count": 393,
   "id": "7127dfad",
   "metadata": {},
   "outputs": [
    {
     "data": {
      "text/plain": [
       "2*[1, 3, 2, 5, 4] + 2*[1, 4, 5, 2, 3] + 2*[1, 5, 4, 3, 2] + 2*[2, 1, 3, 5, 4] + 2*[2, 1, 4, 3, 5] + 2*[2, 1, 5, 4, 3] + 2*[2, 3, 4, 5, 1] + 2*[2, 3, 5, 1, 4] + 2*[2, 4, 1, 5, 3] + 2*[2, 4, 5, 3, 1] + 2*[2, 5, 1, 3, 4] + 2*[2, 5, 4, 1, 3] + 2*[3, 1, 4, 5, 2] + 2*[3, 1, 5, 2, 4] + 2*[3, 2, 1, 5, 4] + 2*[3, 4, 1, 2, 5] + 2*[3, 4, 2, 5, 1] + 2*[3, 4, 5, 1, 2] + 2*[3, 5, 1, 4, 2] + 2*[3, 5, 2, 1, 4] + 2*[3, 5, 4, 2, 1] + 2*[4, 1, 2, 5, 3] + 2*[4, 1, 5, 3, 2] + 2*[4, 2, 5, 1, 3] + 2*[4, 3, 1, 5, 2] + 2*[4, 3, 2, 1, 5] + 2*[4, 3, 5, 2, 1] + 2*[4, 5, 1, 2, 3] + 2*[4, 5, 2, 3, 1] + 2*[4, 5, 3, 1, 2] + 2*[5, 1, 2, 3, 4] + 2*[5, 1, 4, 2, 3] + 2*[5, 2, 4, 3, 1] + 2*[5, 3, 1, 2, 4] + 2*[5, 3, 2, 4, 1] + 2*[5, 3, 4, 1, 2] + 2*[5, 4, 1, 3, 2] + 2*[5, 4, 2, 1, 3] + 2*[5, 4, 3, 2, 1]"
      ]
     },
     "execution_count": 393,
     "metadata": {},
     "output_type": "execute_result"
    }
   ],
   "source": [
    "idempotents[0]"
   ]
  },
  {
   "cell_type": "code",
   "execution_count": null,
   "id": "704b20de",
   "metadata": {},
   "outputs": [],
   "source": []
  }
 ],
 "metadata": {
  "kernelspec": {
   "display_name": "SageMath 10.1",
   "language": "sage",
   "name": "sagemath"
  },
  "language_info": {
   "codemirror_mode": {
    "name": "ipython",
    "version": 3
   },
   "file_extension": ".py",
   "mimetype": "text/x-python",
   "name": "python",
   "nbconvert_exporter": "python",
   "pygments_lexer": "ipython3",
   "version": "3.11.1"
  }
 },
 "nbformat": 4,
 "nbformat_minor": 5
}
