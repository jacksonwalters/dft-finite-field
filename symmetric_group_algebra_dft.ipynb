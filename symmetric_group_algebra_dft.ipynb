{
 "cells": [
  {
   "cell_type": "code",
   "execution_count": 34,
   "id": "7448734a",
   "metadata": {},
   "outputs": [],
   "source": [
    "#REFS:\n",
    "#Wildon, Vertices of Specht Modules and Blocks of the Symmetric Group\n",
    "#Murphy, The Idempotents of the Symmetric Group and Nakayama's Conjecture\n",
    "#Murphy, A new construction of Young's seminormal representation of the symmetric groups"
   ]
  },
  {
   "cell_type": "code",
   "execution_count": 188,
   "id": "3ac291e5",
   "metadata": {},
   "outputs": [],
   "source": [
    "SGA_Q3 = SymmetricGroupAlgebra(QQ,3)"
   ]
  },
  {
   "cell_type": "code",
   "execution_count": 147,
   "id": "d5bc95b0",
   "metadata": {},
   "outputs": [
    {
     "data": {
      "text/plain": [
       "[   1    1    1    1    1    1]\n",
       "[   1  1/2   -1 -1/2 -1/2  1/2]\n",
       "[   0  3/4    0  3/4 -3/4 -3/4]\n",
       "[   0    1    0   -1    1   -1]\n",
       "[   1 -1/2    1 -1/2 -1/2 -1/2]\n",
       "[   1   -1   -1    1    1   -1]"
      ]
     },
     "execution_count": 147,
     "metadata": {},
     "output_type": "execute_result"
    }
   ],
   "source": [
    "SGA_Q3.dft()"
   ]
  },
  {
   "cell_type": "code",
   "execution_count": 148,
   "id": "8f98a1b7",
   "metadata": {},
   "outputs": [],
   "source": [
    "SGA_F7 = SymmetricGroupAlgebra(GF(7),3)"
   ]
  },
  {
   "cell_type": "code",
   "execution_count": 149,
   "id": "495bc146",
   "metadata": {},
   "outputs": [
    {
     "data": {
      "text/plain": [
       "[1 1 1 1 1 1]\n",
       "[1 4 6 3 3 4]\n",
       "[0 6 0 6 1 1]\n",
       "[0 1 0 6 1 6]\n",
       "[1 3 1 3 3 3]\n",
       "[1 6 6 1 1 6]"
      ]
     },
     "execution_count": 149,
     "metadata": {},
     "output_type": "execute_result"
    }
   ],
   "source": [
    "SGA_F7.dft()"
   ]
  },
  {
   "cell_type": "code",
   "execution_count": 150,
   "id": "8e7c474e",
   "metadata": {},
   "outputs": [
    {
     "data": {
      "text/plain": [
       "Specht module of [(0, 0), (1, 0), (2, 0)] over Finite Field of size 7"
      ]
     },
     "execution_count": 150,
     "metadata": {},
     "output_type": "execute_result"
    }
   ],
   "source": [
    "SGA_F7.specht_module(Partition([1,1,1]))"
   ]
  },
  {
   "cell_type": "code",
   "execution_count": 151,
   "id": "eac905eb",
   "metadata": {},
   "outputs": [],
   "source": [
    "SGA_F3 = SymmetricGroupAlgebra(GF(3),3)"
   ]
  },
  {
   "cell_type": "code",
   "execution_count": 152,
   "id": "7608ec7e",
   "metadata": {},
   "outputs": [
    {
     "name": "stdout",
     "output_type": "stream",
     "text": [
      "Modular case not handled!\n"
     ]
    }
   ],
   "source": [
    "#one cannot perform the DFT when p | n!\n",
    "try:\n",
    "    SGA_F3.dft()\n",
    "except ZeroDivisionError:\n",
    "    print(\"Modular case not handled!\")"
   ]
  },
  {
   "cell_type": "code",
   "execution_count": 43,
   "id": "80d0b5d9",
   "metadata": {},
   "outputs": [],
   "source": [
    "#Theorem 3.3, \"Nakayama's Conjecture\", pg. 8, Wildon, Vertices of Specht Modules and Blocks of the Symmetric Group:\n",
    "\n",
    "#Let p be a prime. The p-blocks of the symmetric group Sn are labelled by pairs (\\gamma,w), \n",
    "#where \\gamma is a p-core and w \\in \\mathbb{N}_0 is the associated weight, such that |\\gamma| + wp = n. \n",
    "#Thus S^\\lambda lies in the block labelled by (\\gamma,w) if and only if \\lambda has p-core \\gamma and weight w.\n",
    "#\n",
    "#---\n",
    "#\n",
    "#Theorem 2.1, Murphy, The Idempotents of the Symmetric Group and Nakayama's Conjecture\n",
    "#\n",
    "#F_j^i = \\sum_{\\mu,k | t_k^\\mu \\in T_j^i} E_k^\\mu \n",
    "#H^i = \\sum_j F_j^i \n",
    "#\n",
    "#{F_j^i} is a complete set of orthogonal idempotents of RS_n, similarly for {\\overline{F}_j^i}.\n",
    "#\n",
    "#where\n",
    "#\n",
    "#E_i^\\mu = \\prod_{c = -n+1}^{n-1} \\prod_{u | a_{ui}^\\mu \\ne c} \\frac{c-L_u}{c-\\alpha_{ui}^\\mu}\n",
    "#\n",
    "#L_u = (1,u) + (2,u) + ... + (u-1,u), a sum of transpositions\n",
    "#\n",
    "#T_j^i are tableaux belonging to equivalence classes B_i, where B_i are equivalences classes of\n",
    "#partitions given by \\tilde_p\n",
    "#\n",
    "#\\labmda \\tidle_p \\mu iff the classes (j-i) of each node have the same residue mod p\n",
    "#\n",
    "#The class of the node occupied by u in t_i^\\mu is \\alpha_{ui}^\\mu where t_1^\\mu, ..., t_d^\\mu are the standard \\mu-tableaux \n",
    "#in the ordering in pg. 288 of \"A new construction of Young's seminormal representation of the symmetric groups\".\n",
    "#\n",
    "#The \"class\" of a node (i,j) in a Young diagram \\mu is the difference j-i.\n",
    "#\n",
    "#d is the number of \"standard \\mu-tableaux\", given by the Hook-length formula.\n",
    "#\n",
    "#---\n",
    "#\n",
    "#Theorem 2.8 (Nakayama's Conjecture): {\\overline{H}^i} is a complete set of primitive orthogonal central idempotents of \\overline{K}S_n,\n",
    "#and S_{\\overline{K}}^\\mu, S_{\\overline{K}}^\\lambda belong to the same block of \\overline{K}S_n if and only if \\mu \\tilde_p \\lambda.\n",
    "#\n",
    "#---"
   ]
  },
  {
   "cell_type": "code",
   "execution_count": 44,
   "id": "23a37ae4",
   "metadata": {},
   "outputs": [],
   "source": [
    "#define the element \\alpha_{ui}^\\mu\n",
    "#which is the class of u in the i^th standard Tableaux corresponding to mu\n",
    "#the class of a node is j-i where i is the row and j is the column\n",
    "def alpha(mu,u,i):\n",
    "    tab = StandardTableaux(mu)[i]\n",
    "    for row in range(len(tab)):\n",
    "        for col in range(len(tab[row])):\n",
    "            if u == tab[row][col]:\n",
    "                return col - row"
   ]
  },
  {
   "cell_type": "code",
   "execution_count": 193,
   "id": "14616c86",
   "metadata": {},
   "outputs": [],
   "source": [
    "#define the elment L_u = (1,u) + (2,u) + ... + (u-1,u) in K[S_n]\n",
    "def L(u,n):\n",
    "    SGA = SymmetricGroupAlgebra(QQ,n)\n",
    "    return sum(SGA(PermutationGroupElement(f\"({i},{u})\")) for i in range(1,u))"
   ]
  },
  {
   "cell_type": "code",
   "execution_count": 196,
   "id": "c1ca882f",
   "metadata": {},
   "outputs": [],
   "source": [
    "#from Murphy\n",
    "def E(mu,i,n):\n",
    "    print(n)\n",
    "    return prod(prod((c-L(u,n))/(c-alpha(mu,u,i)) for u in range(1,n+1) if alpha(mu,u,i) != c) for c in range(-n+1,n))"
   ]
  },
  {
   "cell_type": "code",
   "execution_count": 197,
   "id": "d500aff5",
   "metadata": {},
   "outputs": [
    {
     "name": "stdout",
     "output_type": "stream",
     "text": [
      "3\n",
      "3\n",
      "3\n"
     ]
    },
    {
     "data": {
      "text/plain": [
       "True"
      ]
     },
     "execution_count": 197,
     "metadata": {},
     "output_type": "execute_result"
    }
   ],
   "source": [
    "#check idempotency\n",
    "mu = Partition([4,1])\n",
    "E(mu,0,3)*E(mu,0,3) == E(mu,0,3)"
   ]
  },
  {
   "cell_type": "code",
   "execution_count": 48,
   "id": "9bc4f89d",
   "metadata": {},
   "outputs": [],
   "source": [
    "#helper function to determine if diagram comes from a partition\n",
    "def diagram_is_from_partition(diag):\n",
    "    #handle empty diagram\n",
    "    if len(diag) == 0:\n",
    "        return True\n",
    "    from_partition = True\n",
    "    #check if rows start at 0 and have any gaps\n",
    "    row_labels = {node[0] for node in diag}\n",
    "    from_partition &= min(row_labels) == 0\n",
    "    from_partition &= len(row_labels) == max(row_labels) - min(row_labels) + 1\n",
    "    #for each row, check if columns have any gaps, and start at 0\n",
    "    part = []\n",
    "    for row in row_labels:\n",
    "        col_labels = {node[1] for node in diag if node[0]==row}\n",
    "        part.append(len(col_labels))\n",
    "        from_partition &= min(col_labels) == 0\n",
    "        from_partition &= len(col_labels) == max(col_labels) - min(col_labels) + 1\n",
    "    from_partition &= all(part[i] >= part[i+1] for i in range(len(part) - 1))\n",
    "    return from_partition"
   ]
  },
  {
   "cell_type": "code",
   "execution_count": 49,
   "id": "423efb29",
   "metadata": {},
   "outputs": [],
   "source": [
    "#given a diagram which comes from a partition, give the partition\n",
    "def to_partition(diag):\n",
    "    assert diagram_is_from_partition(diag)\n",
    "    return Partition([max({node[1] for node in diag if node[0]==row})+1 for row in {node[0] for node in diag}])"
   ]
  },
  {
   "cell_type": "code",
   "execution_count": 65,
   "id": "f0de4426",
   "metadata": {},
   "outputs": [],
   "source": [
    "#find the p-core of a partition\n",
    "#a \"rim p-hook\" is:\n",
    "#connected set of p nodes\n",
    "#in the rim (the node (i+1,j+1) is not in the diagram)\n",
    "#whose removal leaves a valid young diagram\n",
    "from sage.combinat.diagram import Diagram, NorthwestDiagrams\n",
    "def core(mu,p):\n",
    "    #get the diagram associated to the partition\n",
    "    diag = NorthwestDiagrams().from_partition(mu)\n",
    "    #find the rim of the diagram/partition\n",
    "    rim = []\n",
    "    for node in diag:\n",
    "        if (node[0]+1,node[1]+1) not in diag:\n",
    "            rim.append(node)\n",
    "    #find rim p-hooks\n",
    "    p_hooks = []\n",
    "    for start in rim:\n",
    "        p_hook = [start]\n",
    "        for step in range(p-1):\n",
    "            current = p_hook[step]\n",
    "            down = (current[0]+1,current[1])\n",
    "            left = (current[0],current[1]-1)\n",
    "            if (not down in rim) and (not left in rim):\n",
    "                break\n",
    "            if down in rim:\n",
    "                p_hook.append(down)\n",
    "                continue\n",
    "            if left in rim:\n",
    "                p_hook.append(left)\n",
    "                continue\n",
    "        if len(p_hook) == p:\n",
    "            p_hooks.append(p_hook)\n",
    "    #determine if removal of candidate p_hook results in a diagram\n",
    "    valid_p_hook_removed_diags = []\n",
    "    for p_hook in p_hooks:\n",
    "        diag_minus_p_hook = Diagram([node for node in diag if node not in p_hook])\n",
    "        if diagram_is_from_partition(diag_minus_p_hook):\n",
    "            valid_p_hook_removed_diags.append(diag_minus_p_hook)\n",
    "    #recursive step: if no p-hooks, return original diagram\n",
    "    if len(valid_p_hook_removed_diags) == 0:\n",
    "        return to_partition(diag)\n",
    "    #recursive step: if diagram is unchanged, return, otherwise keep going\n",
    "    for valid_p_hook_removed_diag in valid_p_hook_removed_diags:\n",
    "        partition = to_partition(valid_p_hook_removed_diag)\n",
    "        return core(partition,p)"
   ]
  },
  {
   "cell_type": "code",
   "execution_count": 51,
   "id": "af27f428",
   "metadata": {},
   "outputs": [],
   "source": [
    "diag = NorthwestDiagrams().from_partition(Partition([6,6,5,1,1]))"
   ]
  },
  {
   "cell_type": "code",
   "execution_count": 52,
   "id": "7f634a07",
   "metadata": {},
   "outputs": [
    {
     "data": {
      "text/plain": [
       "False"
      ]
     },
     "execution_count": 52,
     "metadata": {},
     "output_type": "execute_result"
    }
   ],
   "source": [
    "(4,1) in diag"
   ]
  },
  {
   "cell_type": "code",
   "execution_count": 67,
   "id": "24a452ef",
   "metadata": {},
   "outputs": [
    {
     "data": {
      "text/plain": [
       "[1, 1]"
      ]
     },
     "execution_count": 67,
     "metadata": {},
     "output_type": "execute_result"
    }
   ],
   "source": [
    "core(Partition([4,1]),3)"
   ]
  },
  {
   "cell_type": "code",
   "execution_count": 54,
   "id": "ecf911d6",
   "metadata": {},
   "outputs": [],
   "source": [
    "#determine when two partitions are p-equivalent, i.e. have the same p-core\n",
    "#look at canonical tableaus (place 1,...,n in top-to-bottom, left-to-right)\n",
    "#compute p-residues of classes j-i \\mod p\n",
    "#using the method described in Littlewood '51\n",
    "#just check if the sets have the same residue classes\n",
    "#BUG: for n=5, p=3, the partition [1,1,1,1,1] is in two classe with residue {0,1,2}\n",
    "from multiset import *\n",
    "def p_equiv(mu_1, mu_2,p,method=\"residue\"):\n",
    "    if method==\"core\":\n",
    "        return core(mu_1,p) == core(mu_2,p)\n",
    "    if method==\"residue\":\n",
    "        max_len = max(len(mu_1),len(mu_2))\n",
    "        #zero pad partitions\n",
    "        mu_1 += [0]*(max_len - len(mu_1))\n",
    "        mu_2 += [0]*(max_len - len(mu_2))\n",
    "        #compute residue sets\n",
    "        residues_1 = set([(mu_1[i]+max_len-1-i) % p for i in range(max_len)])\n",
    "        residues_2 = set([(mu_2[i]+max_len-1-i) % p for i in range(max_len)])\n",
    "        return residues_1 == residues_2\n",
    "    if method==\"multiset\":\n",
    "        diag_1=NorthwestDiagrams().from_partition(mu_1)\n",
    "        diag_2=NorthwestDiagrams().from_partition(mu_2)\n",
    "        res_1 = Multiset([(node[1]-node[0]) % 5 for node in diag_1])\n",
    "        res_2 = Multiset([(node[1]-node[0]) % 5 for node in diag_2])\n",
    "        k=0\n",
    "        while res_1 >= Multiset({i:k for i in range(5)}):\n",
    "            k += 1\n",
    "        reduced_1 = res_1 - Multiset({i:k-1 for i in range(5)})\n",
    "        k=0\n",
    "        while res_2 >= Multiset({i:k for i in range(5)}):\n",
    "            k += 1\n",
    "        reduced_2 = res_2 - Multiset({i:k-1 for i in range(5)})\n",
    "        return reduced_1 == reduced_2"
   ]
  },
  {
   "cell_type": "code",
   "execution_count": 55,
   "id": "4d384ae9",
   "metadata": {},
   "outputs": [],
   "source": [
    "#equivalence classes of all partitions under \\tilde_p\n",
    "#two partitions are equivalent if they have the same p-core\n",
    "def B(n,p):\n",
    "    equiv_classes = []\n",
    "    for part_1 in Partitions(n):\n",
    "        equiv_class_found = False\n",
    "        for equiv_class in equiv_classes:\n",
    "            for part_2 in equiv_class:\n",
    "                if p_equiv(part_1,part_2,p,method=\"core\"):\n",
    "                    equiv_class.append(part_1)\n",
    "                    equiv_class_found = True\n",
    "                    break\n",
    "        if not equiv_class_found:\n",
    "            equiv_classes.append([part_1])\n",
    "    return equiv_classes"
   ]
  },
  {
   "cell_type": "code",
   "execution_count": 56,
   "id": "107441f2",
   "metadata": {},
   "outputs": [
    {
     "data": {
      "text/plain": [
       "[[[5], [2, 2, 1], [2, 1, 1, 1]],\n",
       " [[4, 1], [3, 2], [1, 1, 1, 1, 1]],\n",
       " [[3, 1, 1]]]"
      ]
     },
     "execution_count": 56,
     "metadata": {},
     "output_type": "execute_result"
    }
   ],
   "source": [
    "B(5,3)"
   ]
  },
  {
   "cell_type": "code",
   "execution_count": 57,
   "id": "4e359c2c",
   "metadata": {},
   "outputs": [
    {
     "data": {
      "text/plain": [
       "[[[1, 3], [2]], [[1, 2], [3]]]"
      ]
     },
     "execution_count": 57,
     "metadata": {},
     "output_type": "execute_result"
    }
   ],
   "source": [
    "list(StandardTableaux(mu))"
   ]
  },
  {
   "cell_type": "code",
   "execution_count": 58,
   "id": "94679241",
   "metadata": {},
   "outputs": [],
   "source": [
    "#in each equivalence class B_i, we have p-equivalent partitions\n",
    "#each partition in B_i has associated standard tableaux\n",
    "#we obtain equivalences classes T_j^i by extending ~_p from partitions to tableaux\n",
    "#define t ~_p t^* if every u <= n occupies a node of the same p-class in both t and t^*\n",
    "#TO-DO\n",
    "def equiv_tableaux(t1,t2,p):\n",
    "    equiv = True\n",
    "    #ensure talbeaux have same shape\n",
    "    assert [len(row) for row in t1] == [len(row) for row in t2]\n",
    "    #find index of u in t1 and t2\n",
    "    for u in range(1,n+1):\n",
    "        for i in range(len(t1)):\n",
    "            for j in range(len(t1[i])):\n",
    "                if t1[i][j] == u:\n",
    "                    res_1 = (j-i) % p\n",
    "                if t2[i][j] == u:\n",
    "                    res_2 = (j-i) % p\n",
    "        equiv &= res_1 == res_2\n",
    "    return equiv"
   ]
  },
  {
   "cell_type": "code",
   "execution_count": 59,
   "id": "b1ae200f",
   "metadata": {},
   "outputs": [
    {
     "data": {
      "text/plain": [
       "False"
      ]
     },
     "execution_count": 59,
     "metadata": {},
     "output_type": "execute_result"
    }
   ],
   "source": [
    "equiv_tableaux(list(StandardTableaux(mu))[0],list(StandardTableaux(mu))[1],5)"
   ]
  },
  {
   "cell_type": "code",
   "execution_count": 88,
   "id": "a2230735",
   "metadata": {},
   "outputs": [],
   "source": [
    "#flatten a list\n",
    "def flatten(l):\n",
    "    return [item for sublist in l for item in sublist]"
   ]
  },
  {
   "cell_type": "code",
   "execution_count": 97,
   "id": "ebe899b8",
   "metadata": {},
   "outputs": [],
   "source": [
    "#equivalence classes of all partitions under \\tilde_p\n",
    "#two partitions are equivalent if they have the same p-core\n",
    "def T(i,n,p):\n",
    "    partition_equiv_class = B(n,p)[i]\n",
    "    equiv_classes_list = []\n",
    "    for mu in partition_equiv_class:\n",
    "        std_tableaux = StandardTableaux(mu)\n",
    "        equiv_classes = []\n",
    "        for tab_1 in std_tableaux:\n",
    "            equiv_class_found = False\n",
    "            for equiv_class in equiv_classes:\n",
    "                for tab_2 in equiv_class:\n",
    "                    if equiv_tableaux(tab_1,tab_2,p):\n",
    "                        equiv_class.append(tab_1)\n",
    "                        equiv_class_found = True\n",
    "                        break\n",
    "            if not equiv_class_found:\n",
    "                equiv_classes.append([tab_1])\n",
    "        equiv_classes_list.append(equiv_classes)\n",
    "    return flatten(equiv_classes_list)"
   ]
  },
  {
   "cell_type": "code",
   "execution_count": 61,
   "id": "aa48c160",
   "metadata": {},
   "outputs": [],
   "source": [
    "partition_equiv_class = B(5,3)[0]"
   ]
  },
  {
   "cell_type": "code",
   "execution_count": 62,
   "id": "4ba5ec03",
   "metadata": {},
   "outputs": [],
   "source": [
    "std_tableaux = [StandardTableaux(mu) for mu in partition_equiv_class]"
   ]
  },
  {
   "cell_type": "code",
   "execution_count": 63,
   "id": "59925bcb",
   "metadata": {},
   "outputs": [
    {
     "data": {
      "text/plain": [
       "[Standard tableaux of shape [5],\n",
       " Standard tableaux of shape [2, 2, 1],\n",
       " Standard tableaux of shape [2, 1, 1, 1]]"
      ]
     },
     "execution_count": 63,
     "metadata": {},
     "output_type": "execute_result"
    }
   ],
   "source": [
    "std_tableaux"
   ]
  },
  {
   "cell_type": "code",
   "execution_count": 103,
   "id": "461222b5",
   "metadata": {},
   "outputs": [
    {
     "data": {
      "text/plain": [
       "[[[1, 2], [3], [4], [5]]]"
      ]
     },
     "execution_count": 103,
     "metadata": {},
     "output_type": "execute_result"
    }
   ],
   "source": [
    "T(0,5,3)[4]"
   ]
  },
  {
   "cell_type": "code",
   "execution_count": 139,
   "id": "2e34a896",
   "metadata": {},
   "outputs": [],
   "source": [
    "#define idempotents F_i^j\n",
    "def F(i,j,n,p):\n",
    "    F_ij = 0\n",
    "    tableaux = T(i,n,p)[j]\n",
    "    for t in tableaux:\n",
    "        mu = [len(l) for l in t]\n",
    "        std_tableaux = StandardTableaux(mu)\n",
    "        k = list(std_tableaux).index(Tableau(t))\n",
    "        F_ij += E(mu,k,n)\n",
    "    return F_ij"
   ]
  },
  {
   "cell_type": "code",
   "execution_count": 140,
   "id": "4c3cb3fa",
   "metadata": {},
   "outputs": [
    {
     "ename": "ValueError",
     "evalue": "The permutation has length 3 but its maximal element is 4. Some element may be repeated, or an element is missing, but there is something wrong with its length.",
     "output_type": "error",
     "traceback": [
      "\u001b[0;31m---------------------------------------------------------------------------\u001b[0m",
      "\u001b[0;31mValueError\u001b[0m                                Traceback (most recent call last)",
      "Cell \u001b[0;32mIn [140], line 1\u001b[0m\n\u001b[0;32m----> 1\u001b[0m \u001b[43mF\u001b[49m\u001b[43m(\u001b[49m\u001b[43mInteger\u001b[49m\u001b[43m(\u001b[49m\u001b[38;5;241;43m0\u001b[39;49m\u001b[43m)\u001b[49m\u001b[43m,\u001b[49m\u001b[43mInteger\u001b[49m\u001b[43m(\u001b[49m\u001b[38;5;241;43m0\u001b[39;49m\u001b[43m)\u001b[49m\u001b[43m,\u001b[49m\u001b[43mInteger\u001b[49m\u001b[43m(\u001b[49m\u001b[38;5;241;43m5\u001b[39;49m\u001b[43m)\u001b[49m\u001b[43m,\u001b[49m\u001b[43mInteger\u001b[49m\u001b[43m(\u001b[49m\u001b[38;5;241;43m3\u001b[39;49m\u001b[43m)\u001b[49m\u001b[43m)\u001b[49m\n",
      "Cell \u001b[0;32mIn [139], line 9\u001b[0m, in \u001b[0;36mF\u001b[0;34m(i, j, n, p)\u001b[0m\n\u001b[1;32m      7\u001b[0m     std_tableaux \u001b[38;5;241m=\u001b[39m StandardTableaux(mu)\n\u001b[1;32m      8\u001b[0m     k \u001b[38;5;241m=\u001b[39m \u001b[38;5;28mlist\u001b[39m(std_tableaux)\u001b[38;5;241m.\u001b[39mindex(Tableau(t))\n\u001b[0;32m----> 9\u001b[0m     F_ij \u001b[38;5;241m+\u001b[39m\u001b[38;5;241m=\u001b[39m \u001b[43mE\u001b[49m\u001b[43m(\u001b[49m\u001b[43mmu\u001b[49m\u001b[43m,\u001b[49m\u001b[43mk\u001b[49m\u001b[43m,\u001b[49m\u001b[43mn\u001b[49m\u001b[43m)\u001b[49m\n\u001b[1;32m     10\u001b[0m \u001b[38;5;28;01mreturn\u001b[39;00m F_ij\n",
      "Cell \u001b[0;32mIn [137], line 3\u001b[0m, in \u001b[0;36mE\u001b[0;34m(mu, i, n)\u001b[0m\n\u001b[1;32m      2\u001b[0m \u001b[38;5;28;01mdef\u001b[39;00m \u001b[38;5;21mE\u001b[39m(mu,i,n):\n\u001b[0;32m----> 3\u001b[0m     \u001b[38;5;28;01mreturn\u001b[39;00m \u001b[43mprod\u001b[49m\u001b[43m(\u001b[49m\u001b[43mprod\u001b[49m\u001b[43m(\u001b[49m\u001b[43m(\u001b[49m\u001b[43mc\u001b[49m\u001b[38;5;241;43m-\u001b[39;49m\u001b[43mL\u001b[49m\u001b[43m(\u001b[49m\u001b[43mu\u001b[49m\u001b[43m)\u001b[49m\u001b[43m)\u001b[49m\u001b[38;5;241;43m/\u001b[39;49m\u001b[43m(\u001b[49m\u001b[43mc\u001b[49m\u001b[38;5;241;43m-\u001b[39;49m\u001b[43malpha\u001b[49m\u001b[43m(\u001b[49m\u001b[43mmu\u001b[49m\u001b[43m,\u001b[49m\u001b[43mu\u001b[49m\u001b[43m,\u001b[49m\u001b[43mi\u001b[49m\u001b[43m)\u001b[49m\u001b[43m)\u001b[49m\u001b[43m \u001b[49m\u001b[38;5;28;43;01mfor\u001b[39;49;00m\u001b[43m \u001b[49m\u001b[43mu\u001b[49m\u001b[43m \u001b[49m\u001b[38;5;129;43;01min\u001b[39;49;00m\u001b[43m \u001b[49m\u001b[38;5;28;43mrange\u001b[39;49m\u001b[43m(\u001b[49m\u001b[43mInteger\u001b[49m\u001b[43m(\u001b[49m\u001b[38;5;241;43m1\u001b[39;49m\u001b[43m)\u001b[49m\u001b[43m,\u001b[49m\u001b[43mn\u001b[49m\u001b[38;5;241;43m+\u001b[39;49m\u001b[43mInteger\u001b[49m\u001b[43m(\u001b[49m\u001b[38;5;241;43m1\u001b[39;49m\u001b[43m)\u001b[49m\u001b[43m)\u001b[49m\u001b[43m \u001b[49m\u001b[38;5;28;43;01mif\u001b[39;49;00m\u001b[43m \u001b[49m\u001b[43malpha\u001b[49m\u001b[43m(\u001b[49m\u001b[43mmu\u001b[49m\u001b[43m,\u001b[49m\u001b[43mu\u001b[49m\u001b[43m,\u001b[49m\u001b[43mi\u001b[49m\u001b[43m)\u001b[49m\u001b[43m \u001b[49m\u001b[38;5;241;43m!=\u001b[39;49m\u001b[43m \u001b[49m\u001b[43mc\u001b[49m\u001b[43m)\u001b[49m\u001b[43m \u001b[49m\u001b[38;5;28;43;01mfor\u001b[39;49;00m\u001b[43m \u001b[49m\u001b[43mc\u001b[49m\u001b[43m \u001b[49m\u001b[38;5;129;43;01min\u001b[39;49;00m\u001b[43m \u001b[49m\u001b[38;5;28;43mrange\u001b[39;49m\u001b[43m(\u001b[49m\u001b[38;5;241;43m-\u001b[39;49m\u001b[43mn\u001b[49m\u001b[38;5;241;43m+\u001b[39;49m\u001b[43mInteger\u001b[49m\u001b[43m(\u001b[49m\u001b[38;5;241;43m1\u001b[39;49m\u001b[43m)\u001b[49m\u001b[43m,\u001b[49m\u001b[43mn\u001b[49m\u001b[43m)\u001b[49m\u001b[43m)\u001b[49m\n",
      "File \u001b[0;32m/private/var/tmp/sage-10.1-current/local/var/lib/sage/venv-python3.11.1/lib/python3.11/site-packages/sage/misc/misc_c.pyx:129\u001b[0m, in \u001b[0;36msage.misc.misc_c.prod (build/cythonized/sage/misc/misc_c.c:2552)\u001b[0;34m()\u001b[0m\n\u001b[1;32m    127\u001b[0m if type(x) is not list:\n\u001b[1;32m    128\u001b[0m     try:\n\u001b[0;32m--> 129\u001b[0m         return iterator_prod(x, z)\n\u001b[1;32m    130\u001b[0m     except StopIteration:\n\u001b[1;32m    131\u001b[0m         x = []\n",
      "File \u001b[0;32m/private/var/tmp/sage-10.1-current/local/var/lib/sage/venv-python3.11.1/lib/python3.11/site-packages/sage/misc/misc_c.pyx:211\u001b[0m, in \u001b[0;36msage.misc.misc_c.iterator_prod (build/cythonized/sage/misc/misc_c.c:3052)\u001b[0;34m()\u001b[0m\n\u001b[1;32m    209\u001b[0m L = iter(L)\n\u001b[1;32m    210\u001b[0m if z is None:\n\u001b[0;32m--> 211\u001b[0m     sub_prods = [next(L)] * 10\n\u001b[1;32m    212\u001b[0m else:\n\u001b[1;32m    213\u001b[0m     sub_prods = [z] * 10\n",
      "Cell \u001b[0;32mIn [137], line 3\u001b[0m, in \u001b[0;36m<genexpr>\u001b[0;34m(.0)\u001b[0m\n\u001b[1;32m      2\u001b[0m \u001b[38;5;28;01mdef\u001b[39;00m \u001b[38;5;21mE\u001b[39m(mu,i,n):\n\u001b[0;32m----> 3\u001b[0m     \u001b[38;5;28;01mreturn\u001b[39;00m prod(\u001b[43mprod\u001b[49m\u001b[43m(\u001b[49m\u001b[43m(\u001b[49m\u001b[43mc\u001b[49m\u001b[38;5;241;43m-\u001b[39;49m\u001b[43mL\u001b[49m\u001b[43m(\u001b[49m\u001b[43mu\u001b[49m\u001b[43m)\u001b[49m\u001b[43m)\u001b[49m\u001b[38;5;241;43m/\u001b[39;49m\u001b[43m(\u001b[49m\u001b[43mc\u001b[49m\u001b[38;5;241;43m-\u001b[39;49m\u001b[43malpha\u001b[49m\u001b[43m(\u001b[49m\u001b[43mmu\u001b[49m\u001b[43m,\u001b[49m\u001b[43mu\u001b[49m\u001b[43m,\u001b[49m\u001b[43mi\u001b[49m\u001b[43m)\u001b[49m\u001b[43m)\u001b[49m\u001b[43m \u001b[49m\u001b[38;5;28;43;01mfor\u001b[39;49;00m\u001b[43m \u001b[49m\u001b[43mu\u001b[49m\u001b[43m \u001b[49m\u001b[38;5;129;43;01min\u001b[39;49;00m\u001b[43m \u001b[49m\u001b[38;5;28;43mrange\u001b[39;49m\u001b[43m(\u001b[49m\u001b[43mInteger\u001b[49m\u001b[43m(\u001b[49m\u001b[38;5;241;43m1\u001b[39;49m\u001b[43m)\u001b[49m\u001b[43m,\u001b[49m\u001b[43mn\u001b[49m\u001b[38;5;241;43m+\u001b[39;49m\u001b[43mInteger\u001b[49m\u001b[43m(\u001b[49m\u001b[38;5;241;43m1\u001b[39;49m\u001b[43m)\u001b[49m\u001b[43m)\u001b[49m\u001b[43m \u001b[49m\u001b[38;5;28;43;01mif\u001b[39;49;00m\u001b[43m \u001b[49m\u001b[43malpha\u001b[49m\u001b[43m(\u001b[49m\u001b[43mmu\u001b[49m\u001b[43m,\u001b[49m\u001b[43mu\u001b[49m\u001b[43m,\u001b[49m\u001b[43mi\u001b[49m\u001b[43m)\u001b[49m\u001b[43m \u001b[49m\u001b[38;5;241;43m!=\u001b[39;49m\u001b[43m \u001b[49m\u001b[43mc\u001b[49m\u001b[43m)\u001b[49m \u001b[38;5;28;01mfor\u001b[39;00m c \u001b[38;5;129;01min\u001b[39;00m \u001b[38;5;28mrange\u001b[39m(\u001b[38;5;241m-\u001b[39mn\u001b[38;5;241m+\u001b[39mInteger(\u001b[38;5;241m1\u001b[39m),n))\n",
      "File \u001b[0;32m/private/var/tmp/sage-10.1-current/local/var/lib/sage/venv-python3.11.1/lib/python3.11/site-packages/sage/misc/misc_c.pyx:129\u001b[0m, in \u001b[0;36msage.misc.misc_c.prod (build/cythonized/sage/misc/misc_c.c:2552)\u001b[0;34m()\u001b[0m\n\u001b[1;32m    127\u001b[0m if type(x) is not list:\n\u001b[1;32m    128\u001b[0m     try:\n\u001b[0;32m--> 129\u001b[0m         return iterator_prod(x, z)\n\u001b[1;32m    130\u001b[0m     except StopIteration:\n\u001b[1;32m    131\u001b[0m         x = []\n",
      "File \u001b[0;32m/private/var/tmp/sage-10.1-current/local/var/lib/sage/venv-python3.11.1/lib/python3.11/site-packages/sage/misc/misc_c.pyx:232\u001b[0m, in \u001b[0;36msage.misc.misc_c.iterator_prod (build/cythonized/sage/misc/misc_c.c:3264)\u001b[0;34m()\u001b[0m\n\u001b[1;32m    230\u001b[0m # for even i we multiply the stack down\n\u001b[1;32m    231\u001b[0m # by the number of factors of 2 in i\n\u001b[0;32m--> 232\u001b[0m x = sub_prods[tip] * x\n\u001b[1;32m    233\u001b[0m for j from 1 <= j < 64:\n\u001b[1;32m    234\u001b[0m     if i & (1 << j):\n",
      "File \u001b[0;32m/private/var/tmp/sage-10.1-current/local/var/lib/sage/venv-python3.11.1/lib/python3.11/site-packages/sage/structure/element.pyx:1507\u001b[0m, in \u001b[0;36msage.structure.element.Element.__mul__ (build/cythonized/sage/structure/element.c:12272)\u001b[0;34m()\u001b[0m\n\u001b[1;32m   1505\u001b[0m cdef int cl = classify_elements(left, right)\n\u001b[1;32m   1506\u001b[0m if HAVE_SAME_PARENT(cl):\n\u001b[0;32m-> 1507\u001b[0m     return (<Element>left)._mul_(right)\n\u001b[1;32m   1508\u001b[0m if BOTH_ARE_ELEMENT(cl):\n\u001b[1;32m   1509\u001b[0m     return coercion_model.bin_op(left, right, mul)\n",
      "File \u001b[0;32m/private/var/tmp/sage-10.1-current/local/var/lib/sage/venv-python3.11.1/lib/python3.11/site-packages/sage/structure/element.pyx:1553\u001b[0m, in \u001b[0;36msage.structure.element.Element._mul_ (build/cythonized/sage/structure/element.c:12625)\u001b[0;34m()\u001b[0m\n\u001b[1;32m   1551\u001b[0m         raise bin_op_exception('*', self, other)\n\u001b[1;32m   1552\u001b[0m     else:\n\u001b[0;32m-> 1553\u001b[0m         return python_op(other)\n\u001b[1;32m   1554\u001b[0m \n\u001b[1;32m   1555\u001b[0m cdef _mul_long(self, long n):\n",
      "File \u001b[0;32m/private/var/tmp/sage-10.1-current/local/var/lib/sage/venv-python3.11.1/lib/python3.11/site-packages/sage/categories/coercion_methods.pyx:53\u001b[0m, in \u001b[0;36msage.categories.coercion_methods._mul_parent (build/cythonized/sage/categories/coercion_methods.c:2484)\u001b[0;34m()\u001b[0m\n\u001b[1;32m     51\u001b[0m     True\n\u001b[1;32m     52\u001b[0m \"\"\"\n\u001b[0;32m---> 53\u001b[0m return (<Element>self)._parent.product(self, other)\n",
      "File \u001b[0;32m/private/var/tmp/sage-10.1-current/local/var/lib/sage/venv-python3.11.1/lib/python3.11/site-packages/sage/categories/magmatic_algebras.py:223\u001b[0m, in \u001b[0;36mMagmaticAlgebras.WithBasis.ParentMethods._product_from_product_on_basis_multiply\u001b[0;34m(self, left, right)\u001b[0m\n\u001b[1;32m    208\u001b[0m \u001b[38;5;28;01mdef\u001b[39;00m \u001b[38;5;21m_product_from_product_on_basis_multiply\u001b[39m( \u001b[38;5;28mself\u001b[39m, left, right ):\n\u001b[1;32m    209\u001b[0m     \u001b[38;5;124mr\u001b[39m\u001b[38;5;124;03m\"\"\"\u001b[39;00m\n\u001b[1;32m    210\u001b[0m \u001b[38;5;124;03m    Compute the product of two elements by extending\u001b[39;00m\n\u001b[1;32m    211\u001b[0m \u001b[38;5;124;03m    bilinearly the method :meth:`product_on_basis`.\u001b[39;00m\n\u001b[0;32m   (...)\u001b[0m\n\u001b[1;32m    221\u001b[0m \n\u001b[1;32m    222\u001b[0m \u001b[38;5;124;03m    \"\"\"\u001b[39;00m\n\u001b[0;32m--> 223\u001b[0m     \u001b[38;5;28;01mreturn\u001b[39;00m \u001b[38;5;28;43mself\u001b[39;49m\u001b[38;5;241;43m.\u001b[39;49m\u001b[43mlinear_combination\u001b[49m\u001b[43m(\u001b[49m\u001b[43m(\u001b[49m\u001b[38;5;28;43mself\u001b[39;49m\u001b[38;5;241;43m.\u001b[39;49m\u001b[43mproduct_on_basis\u001b[49m\u001b[43m(\u001b[49m\u001b[43mmon_left\u001b[49m\u001b[43m,\u001b[49m\u001b[43m \u001b[49m\u001b[43mmon_right\u001b[49m\u001b[43m)\u001b[49m\u001b[43m,\u001b[49m\u001b[43m \u001b[49m\u001b[43mcoeff_left\u001b[49m\u001b[43m \u001b[49m\u001b[38;5;241;43m*\u001b[39;49m\u001b[43m \u001b[49m\u001b[43mcoeff_right\u001b[49m\u001b[43m \u001b[49m\u001b[43m)\u001b[49m\n\u001b[1;32m    224\u001b[0m \u001b[43m                                    \u001b[49m\u001b[38;5;28;43;01mfor\u001b[39;49;00m\u001b[43m \u001b[49m\u001b[43m(\u001b[49m\u001b[43mmon_left\u001b[49m\u001b[43m,\u001b[49m\u001b[43m \u001b[49m\u001b[43mcoeff_left\u001b[49m\u001b[43m)\u001b[49m\u001b[43m \u001b[49m\u001b[38;5;129;43;01min\u001b[39;49;00m\u001b[43m \u001b[49m\u001b[43mleft\u001b[49m\u001b[38;5;241;43m.\u001b[39;49m\u001b[43mmonomial_coefficients\u001b[49m\u001b[43m(\u001b[49m\u001b[43m)\u001b[49m\u001b[38;5;241;43m.\u001b[39;49m\u001b[43mitems\u001b[49m\u001b[43m(\u001b[49m\u001b[43m)\u001b[49m\n\u001b[1;32m    225\u001b[0m \u001b[43m                                    \u001b[49m\u001b[38;5;28;43;01mfor\u001b[39;49;00m\u001b[43m \u001b[49m\u001b[43m(\u001b[49m\u001b[43mmon_right\u001b[49m\u001b[43m,\u001b[49m\u001b[43m \u001b[49m\u001b[43mcoeff_right\u001b[49m\u001b[43m)\u001b[49m\u001b[43m \u001b[49m\u001b[38;5;129;43;01min\u001b[39;49;00m\u001b[43m \u001b[49m\u001b[43mright\u001b[49m\u001b[38;5;241;43m.\u001b[39;49m\u001b[43mmonomial_coefficients\u001b[49m\u001b[43m(\u001b[49m\u001b[43m)\u001b[49m\u001b[38;5;241;43m.\u001b[39;49m\u001b[43mitems\u001b[49m\u001b[43m(\u001b[49m\u001b[43m)\u001b[49m\u001b[43m \u001b[49m\u001b[43m)\u001b[49m\n",
      "File \u001b[0;32m/private/var/tmp/sage-10.1-current/local/var/lib/sage/venv-python3.11.1/lib/python3.11/site-packages/sage/combinat/free_module.py:1067\u001b[0m, in \u001b[0;36mCombinatorialFreeModule.linear_combination\u001b[0;34m(self, iter_of_elements_coeff, factor_on_left)\u001b[0m\n\u001b[1;32m   1043\u001b[0m \u001b[38;5;28;01mdef\u001b[39;00m \u001b[38;5;21mlinear_combination\u001b[39m(\u001b[38;5;28mself\u001b[39m, iter_of_elements_coeff, factor_on_left\u001b[38;5;241m=\u001b[39m\u001b[38;5;28;01mTrue\u001b[39;00m):\n\u001b[1;32m   1044\u001b[0m     \u001b[38;5;124mr\u001b[39m\u001b[38;5;124;03m\"\"\"\u001b[39;00m\n\u001b[1;32m   1045\u001b[0m \u001b[38;5;124;03m    Return the linear combination `\\lambda_1 v_1 + \\cdots +\u001b[39;00m\n\u001b[1;32m   1046\u001b[0m \u001b[38;5;124;03m    \\lambda_k v_k` (resp.  the linear combination `v_1 \\lambda_1 +\u001b[39;00m\n\u001b[0;32m   (...)\u001b[0m\n\u001b[1;32m   1065\u001b[0m \u001b[38;5;124;03m        20*B[1] + 20*B[2]\u001b[39;00m\n\u001b[1;32m   1066\u001b[0m \u001b[38;5;124;03m    \"\"\"\u001b[39;00m\n\u001b[0;32m-> 1067\u001b[0m     \u001b[38;5;28;01mreturn\u001b[39;00m \u001b[38;5;28mself\u001b[39m\u001b[38;5;241m.\u001b[39m_from_dict(\u001b[43mblas\u001b[49m\u001b[38;5;241;43m.\u001b[39;49m\u001b[43mlinear_combination\u001b[49m\u001b[43m(\u001b[49m\u001b[43m(\u001b[49m\u001b[43m(\u001b[49m\u001b[43melement\u001b[49m\u001b[38;5;241;43m.\u001b[39;49m\u001b[43m_monomial_coefficients\u001b[49m\u001b[43m,\u001b[49m\u001b[43m \u001b[49m\u001b[43mcoeff\u001b[49m\u001b[43m)\u001b[49m\n\u001b[1;32m   1068\u001b[0m \u001b[43m                                                    \u001b[49m\u001b[38;5;28;43;01mfor\u001b[39;49;00m\u001b[43m \u001b[49m\u001b[43melement\u001b[49m\u001b[43m,\u001b[49m\u001b[43m \u001b[49m\u001b[43mcoeff\u001b[49m\u001b[43m \u001b[49m\u001b[38;5;129;43;01min\u001b[39;49;00m\u001b[43m \u001b[49m\u001b[43miter_of_elements_coeff\u001b[49m\u001b[43m)\u001b[49m\u001b[43m,\u001b[49m\n\u001b[1;32m   1069\u001b[0m \u001b[43m                                                   \u001b[49m\u001b[43mfactor_on_left\u001b[49m\u001b[38;5;241;43m=\u001b[39;49m\u001b[43mfactor_on_left\u001b[49m\u001b[43m)\u001b[49m,\n\u001b[1;32m   1070\u001b[0m                            remove_zeros\u001b[38;5;241m=\u001b[39m\u001b[38;5;28;01mFalse\u001b[39;00m)\n",
      "File \u001b[0;32m/private/var/tmp/sage-10.1-current/local/var/lib/sage/venv-python3.11.1/lib/python3.11/site-packages/sage/data_structures/blas_dict.pyx:313\u001b[0m, in \u001b[0;36msage.data_structures.blas_dict.linear_combination (build/cythonized/sage/data_structures/blas_dict.c:3565)\u001b[0;34m()\u001b[0m\n\u001b[1;32m    311\u001b[0m     return remove_zeros(result)\n\u001b[1;32m    312\u001b[0m \n\u001b[0;32m--> 313\u001b[0m cpdef dict linear_combination(dict_factor_iter, bint factor_on_left=True):\n\u001b[1;32m    314\u001b[0m     r\"\"\"\n\u001b[1;32m    315\u001b[0m     Return the pointwise addition of dictionaries with coefficients.\n",
      "File \u001b[0;32m/private/var/tmp/sage-10.1-current/local/var/lib/sage/venv-python3.11.1/lib/python3.11/site-packages/sage/data_structures/blas_dict.pyx:348\u001b[0m, in \u001b[0;36msage.data_structures.blas_dict.linear_combination (build/cythonized/sage/data_structures/blas_dict.c:3281)\u001b[0;34m()\u001b[0m\n\u001b[1;32m    346\u001b[0m cdef dict D\n\u001b[1;32m    347\u001b[0m \n\u001b[0;32m--> 348\u001b[0m for D, a in dict_factor_iter:\n\u001b[1;32m    349\u001b[0m     if not a: # We multiply by 0, so nothing to do\n\u001b[1;32m    350\u001b[0m         continue\n",
      "File \u001b[0;32m/private/var/tmp/sage-10.1-current/local/var/lib/sage/venv-python3.11.1/lib/python3.11/site-packages/sage/combinat/free_module.py:1067\u001b[0m, in \u001b[0;36m<genexpr>\u001b[0;34m(.0)\u001b[0m\n\u001b[1;32m   1043\u001b[0m \u001b[38;5;28;01mdef\u001b[39;00m \u001b[38;5;21mlinear_combination\u001b[39m(\u001b[38;5;28mself\u001b[39m, iter_of_elements_coeff, factor_on_left\u001b[38;5;241m=\u001b[39m\u001b[38;5;28;01mTrue\u001b[39;00m):\n\u001b[1;32m   1044\u001b[0m     \u001b[38;5;124mr\u001b[39m\u001b[38;5;124;03m\"\"\"\u001b[39;00m\n\u001b[1;32m   1045\u001b[0m \u001b[38;5;124;03m    Return the linear combination `\\lambda_1 v_1 + \\cdots +\u001b[39;00m\n\u001b[1;32m   1046\u001b[0m \u001b[38;5;124;03m    \\lambda_k v_k` (resp.  the linear combination `v_1 \\lambda_1 +\u001b[39;00m\n\u001b[0;32m   (...)\u001b[0m\n\u001b[1;32m   1065\u001b[0m \u001b[38;5;124;03m        20*B[1] + 20*B[2]\u001b[39;00m\n\u001b[1;32m   1066\u001b[0m \u001b[38;5;124;03m    \"\"\"\u001b[39;00m\n\u001b[0;32m-> 1067\u001b[0m     \u001b[38;5;28;01mreturn\u001b[39;00m \u001b[38;5;28mself\u001b[39m\u001b[38;5;241m.\u001b[39m_from_dict(blas\u001b[38;5;241m.\u001b[39mlinear_combination(((element\u001b[38;5;241m.\u001b[39m_monomial_coefficients, coeff)\n\u001b[1;32m   1068\u001b[0m                                                     \u001b[38;5;28;01mfor\u001b[39;00m element, coeff \u001b[38;5;129;01min\u001b[39;00m iter_of_elements_coeff),\n\u001b[1;32m   1069\u001b[0m                                                    factor_on_left\u001b[38;5;241m=\u001b[39mfactor_on_left),\n\u001b[1;32m   1070\u001b[0m                            remove_zeros\u001b[38;5;241m=\u001b[39m\u001b[38;5;28;01mFalse\u001b[39;00m)\n",
      "File \u001b[0;32m/private/var/tmp/sage-10.1-current/local/var/lib/sage/venv-python3.11.1/lib/python3.11/site-packages/sage/categories/magmatic_algebras.py:223\u001b[0m, in \u001b[0;36m<genexpr>\u001b[0;34m(.0)\u001b[0m\n\u001b[1;32m    208\u001b[0m \u001b[38;5;28;01mdef\u001b[39;00m \u001b[38;5;21m_product_from_product_on_basis_multiply\u001b[39m( \u001b[38;5;28mself\u001b[39m, left, right ):\n\u001b[1;32m    209\u001b[0m     \u001b[38;5;124mr\u001b[39m\u001b[38;5;124;03m\"\"\"\u001b[39;00m\n\u001b[1;32m    210\u001b[0m \u001b[38;5;124;03m    Compute the product of two elements by extending\u001b[39;00m\n\u001b[1;32m    211\u001b[0m \u001b[38;5;124;03m    bilinearly the method :meth:`product_on_basis`.\u001b[39;00m\n\u001b[0;32m   (...)\u001b[0m\n\u001b[1;32m    221\u001b[0m \n\u001b[1;32m    222\u001b[0m \u001b[38;5;124;03m    \"\"\"\u001b[39;00m\n\u001b[0;32m--> 223\u001b[0m     \u001b[38;5;28;01mreturn\u001b[39;00m \u001b[38;5;28mself\u001b[39m\u001b[38;5;241m.\u001b[39mlinear_combination((\u001b[38;5;28;43mself\u001b[39;49m\u001b[38;5;241;43m.\u001b[39;49m\u001b[43mproduct_on_basis\u001b[49m\u001b[43m(\u001b[49m\u001b[43mmon_left\u001b[49m\u001b[43m,\u001b[49m\u001b[43m \u001b[49m\u001b[43mmon_right\u001b[49m\u001b[43m)\u001b[49m, coeff_left \u001b[38;5;241m*\u001b[39m coeff_right )\n\u001b[1;32m    224\u001b[0m                                     \u001b[38;5;28;01mfor\u001b[39;00m (mon_left, coeff_left) \u001b[38;5;129;01min\u001b[39;00m left\u001b[38;5;241m.\u001b[39mmonomial_coefficients()\u001b[38;5;241m.\u001b[39mitems()\n\u001b[1;32m    225\u001b[0m                                     \u001b[38;5;28;01mfor\u001b[39;00m (mon_right, coeff_right) \u001b[38;5;129;01min\u001b[39;00m right\u001b[38;5;241m.\u001b[39mmonomial_coefficients()\u001b[38;5;241m.\u001b[39mitems() )\n",
      "File \u001b[0;32m/private/var/tmp/sage-10.1-current/local/var/lib/sage/venv-python3.11.1/lib/python3.11/site-packages/sage/categories/semigroups.py:970\u001b[0m, in \u001b[0;36mSemigroups.Algebras.ParentMethods.product_on_basis\u001b[0;34m(self, g1, g2)\u001b[0m\n\u001b[1;32m    951\u001b[0m \u001b[38;5;28;01mdef\u001b[39;00m \u001b[38;5;21mproduct_on_basis\u001b[39m(\u001b[38;5;28mself\u001b[39m, g1, g2):\n\u001b[1;32m    952\u001b[0m     \u001b[38;5;124mr\u001b[39m\u001b[38;5;124;03m\"\"\"\u001b[39;00m\n\u001b[1;32m    953\u001b[0m \u001b[38;5;124;03m    Product, on basis elements, as per\u001b[39;00m\n\u001b[1;32m    954\u001b[0m \u001b[38;5;124;03m    :meth:`MagmaticAlgebras.WithBasis.ParentMethods.product_on_basis()\u001b[39;00m\n\u001b[0;32m   (...)\u001b[0m\n\u001b[1;32m    968\u001b[0m \u001b[38;5;124;03m        B['ab'] + B['bdc']\u001b[39;00m\n\u001b[1;32m    969\u001b[0m \u001b[38;5;124;03m    \"\"\"\u001b[39;00m\n\u001b[0;32m--> 970\u001b[0m     \u001b[38;5;28;01mreturn\u001b[39;00m \u001b[38;5;28mself\u001b[39m\u001b[38;5;241m.\u001b[39mmonomial(\u001b[43mg1\u001b[49m\u001b[43m \u001b[49m\u001b[38;5;241;43m*\u001b[39;49m\u001b[43m \u001b[49m\u001b[43mg2\u001b[49m)\n",
      "File \u001b[0;32m/private/var/tmp/sage-10.1-current/local/var/lib/sage/venv-python3.11.1/lib/python3.11/site-packages/sage/combinat/permutation.py:7459\u001b[0m, in \u001b[0;36mStandardPermutations_n.Element.__mul__\u001b[0;34m(self, other)\u001b[0m\n\u001b[1;32m   7457\u001b[0m     \u001b[38;5;28;01mreturn\u001b[39;00m Permutations(\u001b[38;5;28mlen\u001b[39m(p))(p)\n\u001b[1;32m   7458\u001b[0m \u001b[38;5;66;03m# They have the same parent\u001b[39;00m\n\u001b[0;32m-> 7459\u001b[0m \u001b[38;5;28;01mreturn\u001b[39;00m \u001b[38;5;28;43mself\u001b[39;49m\u001b[38;5;241;43m.\u001b[39;49m\u001b[43m_mul_\u001b[49m\u001b[43m(\u001b[49m\u001b[43mother\u001b[49m\u001b[43m)\u001b[49m\n",
      "File \u001b[0;32m/private/var/tmp/sage-10.1-current/local/var/lib/sage/venv-python3.11.1/lib/python3.11/site-packages/sage/combinat/permutation.py:7476\u001b[0m, in \u001b[0;36mStandardPermutations_n.Element._mul_\u001b[0;34m(self, other)\u001b[0m\n\u001b[1;32m   7474\u001b[0m \u001b[38;5;28;01melif\u001b[39;00m mul_order \u001b[38;5;241m==\u001b[39m \u001b[38;5;124m'\u001b[39m\u001b[38;5;124mr2l\u001b[39m\u001b[38;5;124m'\u001b[39m:\n\u001b[1;32m   7475\u001b[0m     p \u001b[38;5;241m=\u001b[39m left_action_same_n(\u001b[38;5;28mself\u001b[39m\u001b[38;5;241m.\u001b[39m_list, other\u001b[38;5;241m.\u001b[39m_list)\n\u001b[0;32m-> 7476\u001b[0m \u001b[38;5;28;01mreturn\u001b[39;00m \u001b[38;5;28;43mself\u001b[39;49m\u001b[38;5;241;43m.\u001b[39;49m\u001b[38;5;18;43m__class__\u001b[39;49m\u001b[43m(\u001b[49m\u001b[38;5;28;43mself\u001b[39;49m\u001b[38;5;241;43m.\u001b[39;49m\u001b[43mparent\u001b[49m\u001b[43m(\u001b[49m\u001b[43m)\u001b[49m\u001b[43m,\u001b[49m\u001b[43m \u001b[49m\u001b[43mp\u001b[49m\u001b[43m)\u001b[49m\n",
      "File \u001b[0;32m/private/var/tmp/sage-10.1-current/local/var/lib/sage/venv-python3.11.1/lib/python3.11/site-packages/sage/misc/classcall_metaclass.pyx:323\u001b[0m, in \u001b[0;36msage.misc.classcall_metaclass.ClasscallMetaclass.__call__ (build/cythonized/sage/misc/classcall_metaclass.c:1945)\u001b[0;34m()\u001b[0m\n\u001b[1;32m    321\u001b[0m     else:\n\u001b[1;32m    322\u001b[0m         # Fast version of type.__call__(cls, *args, **kwds)\n\u001b[0;32m--> 323\u001b[0m         return (<PyTypeObject*>type).tp_call(cls, args, kwds)\n\u001b[1;32m    324\u001b[0m \n\u001b[1;32m    325\u001b[0m def __get__(cls, instance, owner):\n",
      "File \u001b[0;32m/private/var/tmp/sage-10.1-current/local/var/lib/sage/venv-python3.11.1/lib/python3.11/site-packages/sage/misc/decorators.py:657\u001b[0m, in \u001b[0;36mrename_keyword.__call__.<locals>.wrapper\u001b[0;34m(*args, **kwds)\u001b[0m\n\u001b[1;32m    655\u001b[0m         kwds[new_name] \u001b[38;5;241m=\u001b[39m kwds[old_name]\n\u001b[1;32m    656\u001b[0m         \u001b[38;5;28;01mdel\u001b[39;00m kwds[old_name]\n\u001b[0;32m--> 657\u001b[0m \u001b[38;5;28;01mreturn\u001b[39;00m \u001b[43mfunc\u001b[49m\u001b[43m(\u001b[49m\u001b[38;5;241;43m*\u001b[39;49m\u001b[43margs\u001b[49m\u001b[43m,\u001b[49m\u001b[43m \u001b[49m\u001b[38;5;241;43m*\u001b[39;49m\u001b[38;5;241;43m*\u001b[39;49m\u001b[43mkwds\u001b[49m\u001b[43m)\u001b[49m\n",
      "File \u001b[0;32m/private/var/tmp/sage-10.1-current/local/var/lib/sage/venv-python3.11.1/lib/python3.11/site-packages/sage/combinat/permutation.py:551\u001b[0m, in \u001b[0;36mPermutation.__init__\u001b[0;34m(self, parent, l, check)\u001b[0m\n\u001b[1;32m    548\u001b[0m \u001b[38;5;66;03m# Is the maximum element of the permutation the length of input,\u001b[39;00m\n\u001b[1;32m    549\u001b[0m \u001b[38;5;66;03m# or is some integer missing ?\u001b[39;00m\n\u001b[1;32m    550\u001b[0m \u001b[38;5;28;01mif\u001b[39;00m \u001b[38;5;28mint\u001b[39m(lst[\u001b[38;5;241m-\u001b[39m\u001b[38;5;241m1\u001b[39m]) \u001b[38;5;241m!=\u001b[39m \u001b[38;5;28mlen\u001b[39m(lst):\n\u001b[0;32m--> 551\u001b[0m     \u001b[38;5;28;01mraise\u001b[39;00m \u001b[38;5;167;01mValueError\u001b[39;00m(\u001b[38;5;124m\"\u001b[39m\u001b[38;5;124mThe permutation has length \u001b[39m\u001b[38;5;124m\"\u001b[39m\u001b[38;5;241m+\u001b[39m\u001b[38;5;28mstr\u001b[39m(\u001b[38;5;28mlen\u001b[39m(lst))\u001b[38;5;241m+\u001b[39m\n\u001b[1;32m    552\u001b[0m                      \u001b[38;5;124m\"\u001b[39m\u001b[38;5;124m but its maximal element is \u001b[39m\u001b[38;5;124m\"\u001b[39m\u001b[38;5;241m+\u001b[39m\n\u001b[1;32m    553\u001b[0m                      \u001b[38;5;28mstr\u001b[39m(\u001b[38;5;28mint\u001b[39m(lst[\u001b[38;5;241m-\u001b[39m\u001b[38;5;241m1\u001b[39m]))\u001b[38;5;241m+\u001b[39m\u001b[38;5;124m\"\u001b[39m\u001b[38;5;124m. Some element \u001b[39m\u001b[38;5;124m\"\u001b[39m\u001b[38;5;241m+\u001b[39m\n\u001b[1;32m    554\u001b[0m                      \u001b[38;5;124m\"\u001b[39m\u001b[38;5;124mmay be repeated, or an element is missing\u001b[39m\u001b[38;5;124m\"\u001b[39m\u001b[38;5;241m+\u001b[39m\n\u001b[1;32m    555\u001b[0m                      \u001b[38;5;124m\"\u001b[39m\u001b[38;5;124m, but there is something wrong with its length.\u001b[39m\u001b[38;5;124m\"\u001b[39m)\n\u001b[1;32m    557\u001b[0m \u001b[38;5;66;03m# Do the elements appear only once ?\u001b[39;00m\n\u001b[1;32m    558\u001b[0m previous \u001b[38;5;241m=\u001b[39m lst[\u001b[38;5;241m0\u001b[39m]\u001b[38;5;241m-\u001b[39m\u001b[38;5;241m1\u001b[39m\n",
      "\u001b[0;31mValueError\u001b[0m: The permutation has length 3 but its maximal element is 4. Some element may be repeated, or an element is missing, but there is something wrong with its length."
     ]
    }
   ],
   "source": [
    "F(0,0,5,3)"
   ]
  },
  {
   "cell_type": "code",
   "execution_count": null,
   "id": "9b0c0378",
   "metadata": {},
   "outputs": [],
   "source": []
  }
 ],
 "metadata": {
  "kernelspec": {
   "display_name": "SageMath 10.1",
   "language": "sage",
   "name": "sagemath"
  },
  "language_info": {
   "codemirror_mode": {
    "name": "ipython",
    "version": 3
   },
   "file_extension": ".py",
   "mimetype": "text/x-python",
   "name": "python",
   "nbconvert_exporter": "python",
   "pygments_lexer": "ipython3",
   "version": "3.11.1"
  }
 },
 "nbformat": 4,
 "nbformat_minor": 5
}
