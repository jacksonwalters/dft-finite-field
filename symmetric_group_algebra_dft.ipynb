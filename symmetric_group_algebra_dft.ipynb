{
 "cells": [
  {
   "cell_type": "code",
   "execution_count": 105,
   "id": "73d90cc1",
   "metadata": {},
   "outputs": [],
   "source": [
    "n=3"
   ]
  },
  {
   "cell_type": "code",
   "execution_count": 106,
   "id": "3ac291e5",
   "metadata": {},
   "outputs": [],
   "source": [
    "SGA = SymmetricGroupAlgebra(QQ,n)"
   ]
  },
  {
   "cell_type": "code",
   "execution_count": 107,
   "id": "d5bc95b0",
   "metadata": {},
   "outputs": [
    {
     "data": {
      "text/plain": [
       "[   1    1    1    1    1    1]\n",
       "[   1  1/2   -1 -1/2 -1/2  1/2]\n",
       "[   0  3/4    0  3/4 -3/4 -3/4]\n",
       "[   0    1    0   -1    1   -1]\n",
       "[   1 -1/2    1 -1/2 -1/2 -1/2]\n",
       "[   1   -1   -1    1    1   -1]"
      ]
     },
     "execution_count": 107,
     "metadata": {},
     "output_type": "execute_result"
    }
   ],
   "source": [
    "SGA.dft()"
   ]
  },
  {
   "cell_type": "code",
   "execution_count": 87,
   "id": "8f98a1b7",
   "metadata": {},
   "outputs": [],
   "source": [
    "SGA_F7 = SymmetricGroupAlgebra(GF(7),3)"
   ]
  },
  {
   "cell_type": "code",
   "execution_count": 88,
   "id": "495bc146",
   "metadata": {},
   "outputs": [
    {
     "data": {
      "text/plain": [
       "[1 1 1 1 1 1]\n",
       "[1 4 6 3 3 4]\n",
       "[0 6 0 6 1 1]\n",
       "[0 1 0 6 1 6]\n",
       "[1 3 1 3 3 3]\n",
       "[1 6 6 1 1 6]"
      ]
     },
     "execution_count": 88,
     "metadata": {},
     "output_type": "execute_result"
    }
   ],
   "source": [
    "SGA_F7.dft()"
   ]
  },
  {
   "cell_type": "code",
   "execution_count": 26,
   "id": "8e7c474e",
   "metadata": {},
   "outputs": [
    {
     "data": {
      "text/plain": [
       "Specht module of [(0, 0), (1, 0), (2, 0)] over Finite Field of size 7"
      ]
     },
     "execution_count": 26,
     "metadata": {},
     "output_type": "execute_result"
    }
   ],
   "source": [
    "SGA_F7.specht_module(Partition([1,1,1]))"
   ]
  },
  {
   "cell_type": "code",
   "execution_count": 31,
   "id": "eac905eb",
   "metadata": {},
   "outputs": [],
   "source": [
    "SGA_F3 = SymmetricGroupAlgebra(GF(3),3)"
   ]
  },
  {
   "cell_type": "code",
   "execution_count": 35,
   "id": "95383459",
   "metadata": {},
   "outputs": [
    {
     "name": "stdout",
     "output_type": "stream",
     "text": [
      "Modular case not handled!\n"
     ]
    }
   ],
   "source": [
    "#one cannot perform the DFT when p | n!\n",
    "try:\n",
    "    SGA_F3.dft()\n",
    "except ZeroDivisionError:\n",
    "    print(\"Modular case not handled!\")"
   ]
  },
  {
   "cell_type": "code",
   "execution_count": 34,
   "id": "a5f3a118",
   "metadata": {},
   "outputs": [],
   "source": [
    "#Theorem 3.3, \"Nakayama's Conjecture\", pg. 8, Wildon, Vertices of Specht Modules and Blocks of the Symmetric Group:\n",
    "\n",
    "#Let p be a prime. The p-blocks of the symmetric group Sn are labelled by pairs (\\gamma,w), \n",
    "#where \\gamma is a p-core and w \\in \\mathbb{N}_0 is the associated weight, such that |\\gamma| + wp = n. \n",
    "#Thus S^\\lambda lies in the block labelled by (\\gamma,w) if and only if \\lambda has p-core \\gamma and weight w.\n",
    "#\n",
    "#---\n",
    "#\n",
    "#Theorem 2.1, Murphy, The Idempotents of the Symmetric Group and Nakayama's Conjecture\n",
    "#\n",
    "#F_j^i = \\sum_{\\mu,k | t_k^\\mu \\in T_j^i} E_k^\\mu \n",
    "#H^i = \\sum_j F_j^i \n",
    "#\n",
    "#{F_j^i} is a complete set of orthogonal idempotents of RS_n, similarly for {\\overline{F}_j^i}.\n",
    "#\n",
    "#where\n",
    "#\n",
    "#E_i^\\mu = \\prod_{c = -n+1}^{n-1} \\prod_{u | a_{ui}^\\mu \\ne c} \\frac{c-L_u}{c-\\alpha_{ui}^\\mu}\n",
    "#\n",
    "#L_u = (1,u) + (2,u) + ... + (u-1,u), a sum of transpositions\n",
    "#\n",
    "#The class of the node occupied by u in t_i^\\mu is \\alpha_{ui}^\\mu where t_1^\\mu, ..., t_d^\\mu are the standard \\mu-tableaux \n",
    "#in the ordering in pg. 288 of \"A new construction of Young's seminormal representation of the symmetric groups\".\n",
    "#\n",
    "#The \"class\" of a node (i,j) in a Young diagram \\mu is the difference j-i.\n",
    "#\n",
    "#d is the number of \"standard \\mu-tableaux\", given by the Hook-length formula.\n",
    "#\n",
    "#---\n",
    "#\n",
    "#Theorem 2.8 (Nakayama's Conjecture): {\\overline{H}^i} is a complete set of primitive orthogonal central idempotents of \\overline{K}S_n,\n",
    "#and S_{\\overline{K}}^\\mu, S_{\\overline{K}}^\\lambda belong to the same block of \\overline{K}S_n if and only if \\mu \\tilde_p \\lambda.\n",
    "#\n",
    "#---"
   ]
  },
  {
   "cell_type": "code",
   "execution_count": 109,
   "id": "c6d619e4",
   "metadata": {},
   "outputs": [
    {
     "data": {
      "text/plain": [
       "[2, 1]"
      ]
     },
     "execution_count": 109,
     "metadata": {},
     "output_type": "execute_result"
    }
   ],
   "source": [
    "mu = Partition([2,1]); mu"
   ]
  },
  {
   "cell_type": "code",
   "execution_count": 113,
   "id": "6b4cb352",
   "metadata": {},
   "outputs": [
    {
     "data": {
      "text/plain": [
       "[[[1, 3], [2]], [[1, 2], [3]]]"
      ]
     },
     "execution_count": 113,
     "metadata": {},
     "output_type": "execute_result"
    }
   ],
   "source": [
    "list(StandardTableaux(mu))"
   ]
  },
  {
   "cell_type": "code",
   "execution_count": 61,
   "id": "010241cb",
   "metadata": {},
   "outputs": [],
   "source": [
    "#define the element \\alpha_{ui}^\\mu\n",
    "#which is the class of u in the i^th standard Tableaux corresponding to mu\n",
    "#the class of a node is j-i where i is the row and j is the column\n",
    "def alpha(mu,u,i):\n",
    "    tab = StandardTableaux(mu)[i]\n",
    "    for row in range(len(tab)):\n",
    "        for col in range(len(tab[row])):\n",
    "            if u == tab[row][col]:\n",
    "                return col - row"
   ]
  },
  {
   "cell_type": "code",
   "execution_count": 81,
   "id": "e3df9974",
   "metadata": {},
   "outputs": [],
   "source": [
    "#define the elment L_u = (1,u) + (2,u) + ... + (u-1,u) in K[S_n]\n",
    "def L(u):\n",
    "    return sum(SGA(PermutationGroupElement(f\"({i},{u})\")) for i in range(1,u))"
   ]
  },
  {
   "cell_type": "code",
   "execution_count": 139,
   "id": "ba861b61",
   "metadata": {},
   "outputs": [
    {
     "data": {
      "text/plain": [
       "[2, 1, 3]"
      ]
     },
     "execution_count": 139,
     "metadata": {},
     "output_type": "execute_result"
    }
   ],
   "source": [
    "L(2)"
   ]
  },
  {
   "cell_type": "code",
   "execution_count": 155,
   "id": "6dae4d94",
   "metadata": {},
   "outputs": [],
   "source": [
    "def E(mu,i):\n",
    "    return prod(prod((c-L(u))/(c-alpha(mu,u,i)) for u in range(1,n+1) if alpha(mu,u,i) != c) for c in range(-n+1,n+2))"
   ]
  },
  {
   "cell_type": "code",
   "execution_count": 158,
   "id": "c1120a44",
   "metadata": {},
   "outputs": [
    {
     "data": {
      "text/plain": [
       "1/3*[1, 2, 3] + 1/6*[1, 3, 2] - 1/3*[2, 1, 3] - 1/6*[2, 3, 1] - 1/6*[3, 1, 2] + 1/6*[3, 2, 1]"
      ]
     },
     "execution_count": 158,
     "metadata": {},
     "output_type": "execute_result"
    }
   ],
   "source": [
    "E(mu,0)"
   ]
  },
  {
   "cell_type": "code",
   "execution_count": null,
   "id": "5992c557",
   "metadata": {},
   "outputs": [],
   "source": []
  }
 ],
 "metadata": {
  "kernelspec": {
   "display_name": "SageMath 10.1",
   "language": "sage",
   "name": "sagemath"
  },
  "language_info": {
   "codemirror_mode": {
    "name": "ipython",
    "version": 3
   },
   "file_extension": ".py",
   "mimetype": "text/x-python",
   "name": "python",
   "nbconvert_exporter": "python",
   "pygments_lexer": "ipython3",
   "version": "3.11.1"
  }
 },
 "nbformat": 4,
 "nbformat_minor": 5
}
