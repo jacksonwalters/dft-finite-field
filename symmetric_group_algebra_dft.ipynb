{
 "cells": [
  {
   "cell_type": "code",
   "execution_count": 26,
   "id": "7448734a",
   "metadata": {},
   "outputs": [],
   "source": [
    "#REFS:\n",
    "#Wildon, Vertices of Specht Modules and Blocks of the Symmetric Group\n",
    "#Murphy, The Idempotents of the Symmetric Group and Nakayama's Conjecture\n",
    "#Murphy, A new construction of Young's seminormal representation of the symmetric groups"
   ]
  },
  {
   "cell_type": "code",
   "execution_count": 27,
   "id": "3ac291e5",
   "metadata": {},
   "outputs": [],
   "source": [
    "SGA_Q3 = SymmetricGroupAlgebra(QQ,3)"
   ]
  },
  {
   "cell_type": "code",
   "execution_count": 28,
   "id": "d5bc95b0",
   "metadata": {},
   "outputs": [
    {
     "data": {
      "text/plain": [
       "[   1    1    1    1    1    1]\n",
       "[   1  1/2   -1 -1/2 -1/2  1/2]\n",
       "[   0  3/4    0  3/4 -3/4 -3/4]\n",
       "[   0    1    0   -1    1   -1]\n",
       "[   1 -1/2    1 -1/2 -1/2 -1/2]\n",
       "[   1   -1   -1    1    1   -1]"
      ]
     },
     "execution_count": 28,
     "metadata": {},
     "output_type": "execute_result"
    }
   ],
   "source": [
    "SGA_Q3.dft()"
   ]
  },
  {
   "cell_type": "code",
   "execution_count": 29,
   "id": "8f98a1b7",
   "metadata": {},
   "outputs": [],
   "source": [
    "SGA_F7 = SymmetricGroupAlgebra(GF(7),3)"
   ]
  },
  {
   "cell_type": "code",
   "execution_count": 30,
   "id": "495bc146",
   "metadata": {},
   "outputs": [
    {
     "data": {
      "text/plain": [
       "[1 1 1 1 1 1]\n",
       "[1 4 6 3 3 4]\n",
       "[0 6 0 6 1 1]\n",
       "[0 1 0 6 1 6]\n",
       "[1 3 1 3 3 3]\n",
       "[1 6 6 1 1 6]"
      ]
     },
     "execution_count": 30,
     "metadata": {},
     "output_type": "execute_result"
    }
   ],
   "source": [
    "SGA_F7.dft()"
   ]
  },
  {
   "cell_type": "code",
   "execution_count": 31,
   "id": "8e7c474e",
   "metadata": {},
   "outputs": [
    {
     "data": {
      "text/plain": [
       "Specht module of [(0, 0), (1, 0), (2, 0)] over Finite Field of size 7"
      ]
     },
     "execution_count": 31,
     "metadata": {},
     "output_type": "execute_result"
    }
   ],
   "source": [
    "SGA_F7.specht_module(Partition([1,1,1]))"
   ]
  },
  {
   "cell_type": "code",
   "execution_count": 32,
   "id": "eac905eb",
   "metadata": {},
   "outputs": [],
   "source": [
    "SGA_F3 = SymmetricGroupAlgebra(GF(3),3)"
   ]
  },
  {
   "cell_type": "code",
   "execution_count": 33,
   "id": "7608ec7e",
   "metadata": {},
   "outputs": [
    {
     "name": "stdout",
     "output_type": "stream",
     "text": [
      "Modular case not handled!\n"
     ]
    }
   ],
   "source": [
    "#one cannot perform the DFT when p | n!\n",
    "try:\n",
    "    SGA_F3.dft()\n",
    "except ZeroDivisionError:\n",
    "    print(\"Modular case not handled!\")"
   ]
  },
  {
   "cell_type": "code",
   "execution_count": 34,
   "id": "80d0b5d9",
   "metadata": {},
   "outputs": [],
   "source": [
    "#Theorem 3.3, \"Nakayama's Conjecture\", pg. 8, Wildon, Vertices of Specht Modules and Blocks of the Symmetric Group:\n",
    "\n",
    "#Let p be a prime. The p-blocks of the symmetric group Sn are labelled by pairs (\\gamma,w), \n",
    "#where \\gamma is a p-core and w \\in \\mathbb{N}_0 is the associated weight, such that |\\gamma| + wp = n. \n",
    "#Thus S^\\lambda lies in the block labelled by (\\gamma,w) if and only if \\lambda has p-core \\gamma and weight w.\n",
    "#\n",
    "#---\n",
    "#\n",
    "#Theorem 2.1, Murphy, The Idempotents of the Symmetric Group and Nakayama's Conjecture\n",
    "#\n",
    "#F_j^i = \\sum_{\\mu,k | t_k^\\mu \\in T_j^i} E_k^\\mu \n",
    "#H^i = \\sum_j F_j^i \n",
    "#\n",
    "#{F_j^i} is a complete set of orthogonal idempotents of RS_n, similarly for {\\overline{F}_j^i}.\n",
    "#\n",
    "#where\n",
    "#\n",
    "#E_i^\\mu = \\prod_{c = -n+1}^{n-1} \\prod_{u | a_{ui}^\\mu \\ne c} \\frac{c-L_u}{c-\\alpha_{ui}^\\mu}\n",
    "#\n",
    "#L_u = (1,u) + (2,u) + ... + (u-1,u), a sum of transpositions\n",
    "#\n",
    "#T_j^i are tableaux belonging to equivalence classes B_i, where B_i are equivalences classes of\n",
    "#partitions given by \\tilde_p\n",
    "#\n",
    "#\\labmda \\tidle_p \\mu iff the classes (j-i) of each node have the same residue mod p\n",
    "#\n",
    "#The class of the node occupied by u in t_i^\\mu is \\alpha_{ui}^\\mu where t_1^\\mu, ..., t_d^\\mu are the standard \\mu-tableaux \n",
    "#in the ordering in pg. 288 of \"A new construction of Young's seminormal representation of the symmetric groups\".\n",
    "#\n",
    "#The \"class\" of a node (i,j) in a Young diagram \\mu is the difference j-i.\n",
    "#\n",
    "#d is the number of \"standard \\mu-tableaux\", given by the Hook-length formula.\n",
    "#\n",
    "#---\n",
    "#\n",
    "#Theorem 2.8 (Nakayama's Conjecture): {\\overline{H}^i} is a complete set of primitive orthogonal central idempotents of \\overline{K}S_n,\n",
    "#and S_{\\overline{K}}^\\mu, S_{\\overline{K}}^\\lambda belong to the same block of \\overline{K}S_n if and only if \\mu \\tilde_p \\lambda.\n",
    "#\n",
    "#---"
   ]
  },
  {
   "cell_type": "code",
   "execution_count": 35,
   "id": "23a37ae4",
   "metadata": {},
   "outputs": [],
   "source": [
    "#define the element \\alpha_{ui}^\\mu\n",
    "#which is the class of u in the i^th standard Tableaux corresponding to mu\n",
    "#the class of a node is j-i where i is the row and j is the column\n",
    "def alpha(mu,u,i):\n",
    "    tab = StandardTableaux(mu)[i]\n",
    "    for row in range(len(tab)):\n",
    "        for col in range(len(tab[row])):\n",
    "            if u == tab[row][col]:\n",
    "                return col - row"
   ]
  },
  {
   "cell_type": "code",
   "execution_count": 36,
   "id": "14616c86",
   "metadata": {},
   "outputs": [],
   "source": [
    "#define the elment L_u = (1,u) + (2,u) + ... + (u-1,u) in K[S_n]\n",
    "def L(u,n,char=0):\n",
    "    if char == 0:\n",
    "        SGA = SymmetricGroupAlgebra(QQ,n)\n",
    "    else:\n",
    "        SGA = SymmetricGroupAlgebra(GF(char),n)\n",
    "    return sum(SGA(PermutationGroupElement(f\"({i},{u})\")) for i in range(1,u))"
   ]
  },
  {
   "cell_type": "code",
   "execution_count": 37,
   "id": "c1ca882f",
   "metadata": {},
   "outputs": [],
   "source": [
    "#from Murphy\n",
    "def E(mu,i,n,char=0):\n",
    "    return prod(prod((c-L(u,n,char))/(c-alpha(mu,u,i)) for u in range(1,n+1) if alpha(mu,u,i) != c) for c in range(-n+1,n))"
   ]
  },
  {
   "cell_type": "code",
   "execution_count": 38,
   "id": "9bc4f89d",
   "metadata": {},
   "outputs": [],
   "source": [
    "#helper function to determine if diagram comes from a partition\n",
    "def diagram_is_from_partition(diag):\n",
    "    #handle empty diagram\n",
    "    if len(diag) == 0:\n",
    "        return True\n",
    "    from_partition = True\n",
    "    #check if rows start at 0 and have any gaps\n",
    "    row_labels = {node[0] for node in diag}\n",
    "    from_partition &= min(row_labels) == 0\n",
    "    from_partition &= len(row_labels) == max(row_labels) - min(row_labels) + 1\n",
    "    #for each row, check if columns have any gaps, and start at 0\n",
    "    part = []\n",
    "    for row in row_labels:\n",
    "        col_labels = {node[1] for node in diag if node[0]==row}\n",
    "        part.append(len(col_labels))\n",
    "        from_partition &= min(col_labels) == 0\n",
    "        from_partition &= len(col_labels) == max(col_labels) - min(col_labels) + 1\n",
    "    from_partition &= all(part[i] >= part[i+1] for i in range(len(part) - 1))\n",
    "    return from_partition"
   ]
  },
  {
   "cell_type": "code",
   "execution_count": 39,
   "id": "423efb29",
   "metadata": {},
   "outputs": [],
   "source": [
    "#given a diagram which comes from a partition, give the partition\n",
    "def to_partition(diag):\n",
    "    assert diagram_is_from_partition(diag)\n",
    "    return Partition([max({node[1] for node in diag if node[0]==row})+1 for row in {node[0] for node in diag}])"
   ]
  },
  {
   "cell_type": "code",
   "execution_count": 40,
   "id": "f0de4426",
   "metadata": {},
   "outputs": [],
   "source": [
    "#find the p-core of a partition\n",
    "#a \"rim p-hook\" is:\n",
    "#connected set of p nodes\n",
    "#in the rim (the node (i+1,j+1) is not in the diagram)\n",
    "#whose removal leaves a valid young diagram\n",
    "#this re-implements mu.core(p)\n",
    "from sage.combinat.diagram import Diagram, NorthwestDiagrams\n",
    "def core(mu,p):\n",
    "    #get the diagram associated to the partition\n",
    "    diag = NorthwestDiagrams().from_partition(mu)\n",
    "    #find the rim of the diagram/partition\n",
    "    rim = []\n",
    "    for node in diag:\n",
    "        if (node[0]+1,node[1]+1) not in diag:\n",
    "            rim.append(node)\n",
    "    #find rim p-hooks\n",
    "    p_hooks = []\n",
    "    for start in rim:\n",
    "        p_hook = [start]\n",
    "        for step in range(p-1):\n",
    "            current = p_hook[step]\n",
    "            down = (current[0]+1,current[1])\n",
    "            left = (current[0],current[1]-1)\n",
    "            if (not down in rim) and (not left in rim):\n",
    "                break\n",
    "            if down in rim:\n",
    "                p_hook.append(down)\n",
    "                continue\n",
    "            if left in rim:\n",
    "                p_hook.append(left)\n",
    "                continue\n",
    "        if len(p_hook) == p:\n",
    "            p_hooks.append(p_hook)\n",
    "    #determine if removal of candidate p_hook results in a diagram\n",
    "    valid_p_hook_removed_diags = []\n",
    "    for p_hook in p_hooks:\n",
    "        diag_minus_p_hook = Diagram([node for node in diag if node not in p_hook])\n",
    "        if diagram_is_from_partition(diag_minus_p_hook):\n",
    "            valid_p_hook_removed_diags.append(diag_minus_p_hook)\n",
    "    #recursive step: if no p-hooks, return original diagram\n",
    "    if len(valid_p_hook_removed_diags) == 0:\n",
    "        return to_partition(diag)\n",
    "    #recursive step: if diagram is unchanged, return, otherwise keep going\n",
    "    for valid_p_hook_removed_diag in valid_p_hook_removed_diags:\n",
    "        partition = to_partition(valid_p_hook_removed_diag)\n",
    "        return core(partition,p)"
   ]
  },
  {
   "cell_type": "code",
   "execution_count": 41,
   "id": "ecf911d6",
   "metadata": {},
   "outputs": [],
   "source": [
    "#determine when two partitions are p-equivalent, i.e. have the same p-core\n",
    "#look at canonical tableaus (place 1,...,n in top-to-bottom, left-to-right)\n",
    "#compute p-residues of classes j-i \\mod p\n",
    "#using the method described in Littlewood '51\n",
    "#just check if the sets have the same residue classes\n",
    "#BUG: with \"residue\" method, the same partition with different zero padding will have\n",
    "#different residue sets\n",
    "from multiset import *\n",
    "def p_equiv(mu_1, mu_2,p,method=\"residue\"):\n",
    "    if method==\"core\":\n",
    "        return core(mu_1,p) == core(mu_2,p)\n",
    "    if method==\"residue\":\n",
    "        max_len = max(len(mu_1),len(mu_2))\n",
    "        #zero pad partitions\n",
    "        mu_1 += [0]*(max_len - len(mu_1))\n",
    "        mu_2 += [0]*(max_len - len(mu_2))\n",
    "        #compute residue sets\n",
    "        residues_1 = set([(mu_1[i]+max_len-1-i) % p for i in range(max_len)])\n",
    "        residues_2 = set([(mu_2[i]+max_len-1-i) % p for i in range(max_len)])\n",
    "        return residues_1 == residues_2\n",
    "    if method==\"multiset\":\n",
    "        diag_1=NorthwestDiagrams().from_partition(mu_1)\n",
    "        diag_2=NorthwestDiagrams().from_partition(mu_2)\n",
    "        res_1 = Multiset([(node[1]-node[0]) % p for node in diag_1])\n",
    "        res_2 = Multiset([(node[1]-node[0]) % p for node in diag_2])\n",
    "        k=0\n",
    "        while res_1 >= Multiset({i:k for i in range(5)}):\n",
    "            k += 1\n",
    "        reduced_1 = res_1 - Multiset({i:k-1 for i in range(5)})\n",
    "        k=0\n",
    "        while res_2 >= Multiset({i:k for i in range(5)}):\n",
    "            k += 1\n",
    "        reduced_2 = res_2 - Multiset({i:k-1 for i in range(5)})\n",
    "        return reduced_1 == reduced_2"
   ]
  },
  {
   "cell_type": "code",
   "execution_count": 42,
   "id": "4d384ae9",
   "metadata": {},
   "outputs": [],
   "source": [
    "#equivalence classes of all partitions under \\tilde_p\n",
    "#two partitions are equivalent if they have the same p-core\n",
    "def B(n,p):\n",
    "    equiv_classes = []\n",
    "    for part_1 in Partitions(n):\n",
    "        equiv_class_found = False\n",
    "        for equiv_class in equiv_classes:\n",
    "            for part_2 in equiv_class:\n",
    "                if p_equiv(part_1,part_2,p,method=\"core\"):\n",
    "                    equiv_class.append(part_1)\n",
    "                    equiv_class_found = True\n",
    "                    break\n",
    "        if not equiv_class_found:\n",
    "            equiv_classes.append([part_1])\n",
    "    return equiv_classes"
   ]
  },
  {
   "cell_type": "code",
   "execution_count": 43,
   "id": "b27d7585",
   "metadata": {},
   "outputs": [
    {
     "data": {
      "text/plain": [
       "[[[5], [2, 2, 1], [2, 1, 1, 1]],\n",
       " [[4, 1], [3, 2], [1, 1, 1, 1, 1]],\n",
       " [[3, 1, 1]]]"
      ]
     },
     "execution_count": 43,
     "metadata": {},
     "output_type": "execute_result"
    }
   ],
   "source": [
    "B(5,3)"
   ]
  },
  {
   "cell_type": "code",
   "execution_count": 44,
   "id": "94679241",
   "metadata": {},
   "outputs": [],
   "source": [
    "#in each equivalence class B_i, we have p-equivalent partitions\n",
    "#each partition in B_i has associated standard tableaux\n",
    "#we obtain equivalences classes T_j^i by extending ~_p from partitions to tableaux\n",
    "#define t ~_p t^* if every u <= n occupies a node of the same p-class in both t and t^*\n",
    "def equiv_tableaux(t1,t2,n,p):\n",
    "    equiv = True\n",
    "    #find index of u in t1 and t2\n",
    "    for u in range(1,n+1):\n",
    "        for i in range(len(t1)):\n",
    "            for j in range(len(t1[i])):\n",
    "                if t1[i][j] == u:\n",
    "                    res_1 = (j-i) % p\n",
    "        for i in range(len(t2)):\n",
    "            for j in range(len(t2[i])):\n",
    "                if t2[i][j] == u:\n",
    "                    res_2 = (j-i) % p\n",
    "        equiv &= res_1 == res_2\n",
    "    return equiv"
   ]
  },
  {
   "cell_type": "code",
   "execution_count": 45,
   "id": "a339ab90",
   "metadata": {},
   "outputs": [],
   "source": [
    "#flatten a list\n",
    "def flatten(l):\n",
    "    return [item for sublist in l for item in sublist]"
   ]
  },
  {
   "cell_type": "code",
   "execution_count": 46,
   "id": "ebe899b8",
   "metadata": {},
   "outputs": [],
   "source": [
    "#equivalence classes of all partitions under \\tilde_p\n",
    "#two partitions are equivalent if they have the same p-core\n",
    "#from sage.combinat.tableau import IncreasingTableaux_shape\n",
    "def T(i,n,p):\n",
    "    partition_equiv_class = B(n,p)[i]\n",
    "    equiv_classes_list = []\n",
    "    #should this be StandardTableaux, or allTableaux?\n",
    "    all_tableaux = flatten([StandardTableaux(mu) for mu in partition_equiv_class])\n",
    "    equiv_classes = []\n",
    "    for tab_1 in all_tableaux:\n",
    "        equiv_class_found = False\n",
    "        for equiv_class in equiv_classes:\n",
    "            for tab_2 in equiv_class:\n",
    "                if equiv_tableaux(tab_1,tab_2,n,p):\n",
    "                    equiv_class.append(tab_1)\n",
    "                    equiv_class_found = True\n",
    "                    break\n",
    "        if not equiv_class_found:\n",
    "            equiv_classes.append([tab_1])\n",
    "    equiv_classes_list.append(equiv_classes)\n",
    "    return flatten(equiv_classes_list)"
   ]
  },
  {
   "cell_type": "code",
   "execution_count": 47,
   "id": "1fad41de",
   "metadata": {},
   "outputs": [],
   "source": [
    "#define idempotents F_i^j\n",
    "#CLARIFY: flattening and summing over all elements in T(i,n,p)[j] works\n",
    "#however it's not clear why, i.e. F_ij no longer depends on j\n",
    "#CLARIFICATION: since we are summing orthogonal idempotents to get another idempotent, they can't be primitive\n",
    "#therefore we should abandon the j-indices and just sum\n",
    "def F(i,n,p,j=-1):\n",
    "    F_ij = 0\n",
    "    if j >= 0:\n",
    "        tableaux = T(i,n,p)[j]\n",
    "    else:\n",
    "        tableaux = flatten(T(i,n,p))\n",
    "    for t in tableaux:\n",
    "        mu = [len(l) for l in t]\n",
    "        std_tableaux = StandardTableaux(mu)\n",
    "        k = list(std_tableaux).index(Tableau(t))\n",
    "        F_ij += E(mu,k,n)\n",
    "    return F_ij"
   ]
  },
  {
   "cell_type": "code",
   "execution_count": 48,
   "id": "248acf62",
   "metadata": {},
   "outputs": [],
   "source": [
    "#compute idempotents for symmetric group over finite field\n",
    "def central_orthogonal_idempotents(n,p):\n",
    "    num_p_equiv_partition_classes = len(B(n,p))\n",
    "    idempotents = []\n",
    "    for i in range(num_p_equiv_partition_classes):\n",
    "        idem = sum([GF(p)(item[1])*SymmetricGroupAlgebra(GF(p),n)(item[0]) for item in F(i,n,p,j=-1)])\n",
    "        idempotents.append(idem)\n",
    "    return idempotents"
   ]
  },
  {
   "cell_type": "code",
   "execution_count": 62,
   "id": "2f53c75f",
   "metadata": {},
   "outputs": [],
   "source": [
    "#construct Pierce decomposition of SGA into sum of blocks"
   ]
  },
  {
   "cell_type": "code",
   "execution_count": 202,
   "id": "439ef8d6",
   "metadata": {},
   "outputs": [],
   "source": [
    "#create a spanning set for the block corresponding to an idempotent\n",
    "def spanning_set(idem,p,n):\n",
    "    SGA_GFp_n = SymmetricGroupAlgebra(GF(p),n)\n",
    "    return [SGA_GFp_n(sigma)*idem for sigma in SymmetricGroup(n)]"
   ]
  },
  {
   "cell_type": "code",
   "execution_count": 208,
   "id": "49564ebe",
   "metadata": {},
   "outputs": [],
   "source": [
    "#compute all the blocks\n",
    "#compute the submodule corresponding to span_GF(p){\\sigma*e_i | \\sigma \\in S_n}\n",
    "def symmetric_group_blocks(p,n):\n",
    "    SGA_GFp_n = SymmetricGroupAlgebra(GF(p),n)\n",
    "    idempotents = SGA_GFp_n.central_orthogonal_idempotents()\n",
    "    return [SGA_GFp_n.submodule(spanning_set(idem,p,n)) for idem in idempotents]"
   ]
  },
  {
   "cell_type": "code",
   "execution_count": 217,
   "id": "0bda7f79",
   "metadata": {},
   "outputs": [],
   "source": [
    "#inner product of two elements in SymmetricGroupAlgebra(GF(p),n)\n",
    "#ERROR: inner_product(u_j,u_j) == 0 for some elements\n",
    "def inner_product(x,y):\n",
    "    return sum(flatten([[pair_x[1]*pair_y[1] if pair_x[0] == pair_y[0] else 0 for pair_y in y] for pair_x in x]))"
   ]
  },
  {
   "cell_type": "code",
   "execution_count": 258,
   "id": "7358b51c",
   "metadata": {},
   "outputs": [],
   "source": [
    "#TO-DO: implement modular Fourier transform\n",
    "#project v onto each block U_i = F_p[S_n]*e_i\n",
    "#assume {u_j}_{j=1}^r is a basis for U_i\n",
    "#then v_i = \\sum_{j=1}^r (<v,u_j>/<u_j,u_j>)u_j\n",
    "#NEED: inner product on symmetric group algebra vector space\n",
    "def modular_fourier_transform(v,p,n):\n",
    "    blocks = symmetric_group_blocks(p,n)\n",
    "    mod_FT = []\n",
    "    for block in blocks:\n",
    "        block_basis_ambient = [u.lift() for u in block.basis()]\n",
    "        assert len(block_basis_ambient) == block.dimension()\n",
    "        proj_v_onto_U = sum((inner_product(v,u_j)/inner_product(u_j,u_j))*v for u_j in block_basis_ambient)\n",
    "        mod_FT.append(proj_v_onto_U)\n",
    "    return mod_FT"
   ]
  },
  {
   "cell_type": "code",
   "execution_count": 259,
   "id": "a07d87f2",
   "metadata": {},
   "outputs": [],
   "source": [
    "#choose characteristic p and number of elements permuted n\n",
    "p=3; n=5"
   ]
  },
  {
   "cell_type": "code",
   "execution_count": 260,
   "id": "59dbed16",
   "metadata": {},
   "outputs": [],
   "source": [
    "SGA_GF3_5 = SymmetricGroupAlgebra(GF(p),n)"
   ]
  },
  {
   "cell_type": "code",
   "execution_count": 261,
   "id": "8ec99995",
   "metadata": {},
   "outputs": [],
   "source": [
    "blocks = symmetric_group_blocks(p,n)"
   ]
  },
  {
   "cell_type": "code",
   "execution_count": 262,
   "id": "142ae24c",
   "metadata": {},
   "outputs": [
    {
     "data": {
      "text/plain": [
       "[36, 42, 42]"
      ]
     },
     "execution_count": 262,
     "metadata": {},
     "output_type": "execute_result"
    }
   ],
   "source": [
    "[block.dimension() for block in blocks]"
   ]
  },
  {
   "cell_type": "code",
   "execution_count": 263,
   "id": "2614858f",
   "metadata": {},
   "outputs": [
    {
     "data": {
      "text/plain": [
       "Symmetric group algebra of order 5 over Finite Field of size 3"
      ]
     },
     "execution_count": 263,
     "metadata": {},
     "output_type": "execute_result"
    }
   ],
   "source": [
    "blocks[0].ambient()"
   ]
  },
  {
   "cell_type": "code",
   "execution_count": 264,
   "id": "6534c742",
   "metadata": {},
   "outputs": [
    {
     "data": {
      "text/plain": [
       "[1, 2, 3, 4, 5] + 2*[1, 5, 4, 3, 2] + 2*[2, 1, 5, 4, 3] + [2, 4, 3, 1, 5] + [2, 4, 5, 3, 1] + 2*[2, 5, 4, 1, 3] + 2*[3, 2, 1, 5, 4] + [3, 2, 5, 4, 1] + 2*[3, 4, 5, 1, 2] + 2*[3, 5, 2, 1, 4] + 2*[3, 5, 4, 2, 1] + [4, 1, 2, 5, 3] + 2*[4, 1, 5, 3, 2] + 2*[4, 2, 1, 3, 5] + 2*[4, 2, 5, 1, 3] + 2*[4, 3, 2, 1, 5] + 2*[4, 3, 5, 2, 1] + 2*[4, 5, 1, 2, 3] + [4, 5, 2, 3, 1] + [4, 5, 3, 1, 2] + [5, 1, 2, 3, 4] + 2*[5, 1, 3, 4, 2] + [5, 1, 4, 2, 3] + [5, 2, 4, 3, 1] + [5, 3, 1, 2, 4] + [5, 3, 4, 1, 2] + 2*[5, 4, 1, 3, 2] + 2*[5, 4, 2, 1, 3] + [5, 4, 3, 2, 1]"
      ]
     },
     "execution_count": 264,
     "metadata": {},
     "output_type": "execute_result"
    }
   ],
   "source": [
    "blocks[0].basis()[0].lift()"
   ]
  },
  {
   "cell_type": "code",
   "execution_count": 266,
   "id": "2efea8c3",
   "metadata": {},
   "outputs": [],
   "source": [
    "v = SGA_GF3_5(Permutation([1,2,3,4,5]))"
   ]
  },
  {
   "cell_type": "code",
   "execution_count": 267,
   "id": "cb2370b8",
   "metadata": {},
   "outputs": [
    {
     "ename": "ZeroDivisionError",
     "evalue": "inverse of Mod(0, 3) does not exist",
     "output_type": "error",
     "traceback": [
      "\u001b[0;31m---------------------------------------------------------------------------\u001b[0m",
      "\u001b[0;31mZeroDivisionError\u001b[0m                         Traceback (most recent call last)",
      "Cell \u001b[0;32mIn [267], line 1\u001b[0m\n\u001b[0;32m----> 1\u001b[0m \u001b[43mmodular_fourier_transform\u001b[49m\u001b[43m(\u001b[49m\u001b[43mv\u001b[49m\u001b[43m,\u001b[49m\u001b[43mp\u001b[49m\u001b[43m,\u001b[49m\u001b[43mn\u001b[49m\u001b[43m)\u001b[49m\n",
      "Cell \u001b[0;32mIn [258], line 12\u001b[0m, in \u001b[0;36mmodular_fourier_transform\u001b[0;34m(v, p, n)\u001b[0m\n\u001b[1;32m     10\u001b[0m     block_basis_ambient \u001b[38;5;241m=\u001b[39m [u\u001b[38;5;241m.\u001b[39mlift() \u001b[38;5;28;01mfor\u001b[39;00m u \u001b[38;5;129;01min\u001b[39;00m block\u001b[38;5;241m.\u001b[39mbasis()]\n\u001b[1;32m     11\u001b[0m     \u001b[38;5;28;01massert\u001b[39;00m \u001b[38;5;28mlen\u001b[39m(block_basis_ambient) \u001b[38;5;241m==\u001b[39m block\u001b[38;5;241m.\u001b[39mdimension()\n\u001b[0;32m---> 12\u001b[0m     proj_v_onto_U \u001b[38;5;241m=\u001b[39m \u001b[38;5;28;43msum\u001b[39;49m\u001b[43m(\u001b[49m\u001b[43m(\u001b[49m\u001b[43minner_product\u001b[49m\u001b[43m(\u001b[49m\u001b[43mv\u001b[49m\u001b[43m,\u001b[49m\u001b[43mu_j\u001b[49m\u001b[43m)\u001b[49m\u001b[38;5;241;43m/\u001b[39;49m\u001b[43minner_product\u001b[49m\u001b[43m(\u001b[49m\u001b[43mu_j\u001b[49m\u001b[43m,\u001b[49m\u001b[43mu_j\u001b[49m\u001b[43m)\u001b[49m\u001b[43m)\u001b[49m\u001b[38;5;241;43m*\u001b[39;49m\u001b[43mv\u001b[49m\u001b[43m \u001b[49m\u001b[38;5;28;43;01mfor\u001b[39;49;00m\u001b[43m \u001b[49m\u001b[43mu_j\u001b[49m\u001b[43m \u001b[49m\u001b[38;5;129;43;01min\u001b[39;49;00m\u001b[43m \u001b[49m\u001b[43mblock_basis_ambient\u001b[49m\u001b[43m)\u001b[49m\n\u001b[1;32m     13\u001b[0m     mod_FT\u001b[38;5;241m.\u001b[39mappend(proj_v_onto_U)\n\u001b[1;32m     14\u001b[0m \u001b[38;5;28;01mreturn\u001b[39;00m mod_FT\n",
      "File \u001b[0;32m/private/var/tmp/sage-10.1-current/local/var/lib/sage/venv-python3.11.1/lib/python3.11/site-packages/sage/misc/functional.py:585\u001b[0m, in \u001b[0;36msymbolic_sum\u001b[0;34m(expression, *args, **kwds)\u001b[0m\n\u001b[1;32m    583\u001b[0m     \u001b[38;5;28;01mreturn\u001b[39;00m expression\u001b[38;5;241m.\u001b[39msum(\u001b[38;5;241m*\u001b[39margs, \u001b[38;5;241m*\u001b[39m\u001b[38;5;241m*\u001b[39mkwds)\n\u001b[1;32m    584\u001b[0m \u001b[38;5;28;01melif\u001b[39;00m \u001b[38;5;28mmax\u001b[39m(\u001b[38;5;28mlen\u001b[39m(args),\u001b[38;5;28mlen\u001b[39m(kwds)) \u001b[38;5;241m<\u001b[39m\u001b[38;5;241m=\u001b[39m \u001b[38;5;241m1\u001b[39m:\n\u001b[0;32m--> 585\u001b[0m     \u001b[38;5;28;01mreturn\u001b[39;00m \u001b[38;5;28;43msum\u001b[39;49m\u001b[43m(\u001b[49m\u001b[43mexpression\u001b[49m\u001b[43m,\u001b[49m\u001b[43m \u001b[49m\u001b[38;5;241;43m*\u001b[39;49m\u001b[43margs\u001b[49m\u001b[43m,\u001b[49m\u001b[43m \u001b[49m\u001b[38;5;241;43m*\u001b[39;49m\u001b[38;5;241;43m*\u001b[39;49m\u001b[43mkwds\u001b[49m\u001b[43m)\u001b[49m\n\u001b[1;32m    586\u001b[0m \u001b[38;5;28;01melse\u001b[39;00m:\n\u001b[1;32m    587\u001b[0m     \u001b[38;5;28;01mfrom\u001b[39;00m \u001b[38;5;21;01msage\u001b[39;00m\u001b[38;5;21;01m.\u001b[39;00m\u001b[38;5;21;01msymbolic\u001b[39;00m\u001b[38;5;21;01m.\u001b[39;00m\u001b[38;5;21;01mring\u001b[39;00m \u001b[38;5;28;01mimport\u001b[39;00m SR\n",
      "Cell \u001b[0;32mIn [258], line 12\u001b[0m, in \u001b[0;36m<genexpr>\u001b[0;34m(.0)\u001b[0m\n\u001b[1;32m     10\u001b[0m     block_basis_ambient \u001b[38;5;241m=\u001b[39m [u\u001b[38;5;241m.\u001b[39mlift() \u001b[38;5;28;01mfor\u001b[39;00m u \u001b[38;5;129;01min\u001b[39;00m block\u001b[38;5;241m.\u001b[39mbasis()]\n\u001b[1;32m     11\u001b[0m     \u001b[38;5;28;01massert\u001b[39;00m \u001b[38;5;28mlen\u001b[39m(block_basis_ambient) \u001b[38;5;241m==\u001b[39m block\u001b[38;5;241m.\u001b[39mdimension()\n\u001b[0;32m---> 12\u001b[0m     proj_v_onto_U \u001b[38;5;241m=\u001b[39m \u001b[38;5;28msum\u001b[39m((\u001b[43minner_product\u001b[49m\u001b[43m(\u001b[49m\u001b[43mv\u001b[49m\u001b[43m,\u001b[49m\u001b[43mu_j\u001b[49m\u001b[43m)\u001b[49m\u001b[38;5;241;43m/\u001b[39;49m\u001b[43minner_product\u001b[49m\u001b[43m(\u001b[49m\u001b[43mu_j\u001b[49m\u001b[43m,\u001b[49m\u001b[43mu_j\u001b[49m\u001b[43m)\u001b[49m)\u001b[38;5;241m*\u001b[39mv \u001b[38;5;28;01mfor\u001b[39;00m u_j \u001b[38;5;129;01min\u001b[39;00m block_basis_ambient)\n\u001b[1;32m     13\u001b[0m     mod_FT\u001b[38;5;241m.\u001b[39mappend(proj_v_onto_U)\n\u001b[1;32m     14\u001b[0m \u001b[38;5;28;01mreturn\u001b[39;00m mod_FT\n",
      "File \u001b[0;32m/private/var/tmp/sage-10.1-current/local/var/lib/sage/venv-python3.11.1/lib/python3.11/site-packages/sage/rings/integer.pyx:2030\u001b[0m, in \u001b[0;36msage.rings.integer.Integer.__truediv__ (build/cythonized/sage/rings/integer.c:14157)\u001b[0;34m()\u001b[0m\n\u001b[1;32m   2028\u001b[0m         return y\n\u001b[1;32m   2029\u001b[0m \n\u001b[0;32m-> 2030\u001b[0m     return coercion_model.bin_op(left, right, operator.truediv)\n\u001b[1;32m   2031\u001b[0m \n\u001b[1;32m   2032\u001b[0m cpdef _div_(self, right):\n",
      "File \u001b[0;32m/private/var/tmp/sage-10.1-current/local/var/lib/sage/venv-python3.11.1/lib/python3.11/site-packages/sage/structure/coerce.pyx:1225\u001b[0m, in \u001b[0;36msage.structure.coerce.CoercionModel.bin_op (build/cythonized/sage/structure/coerce.c:10797)\u001b[0;34m()\u001b[0m\n\u001b[1;32m   1223\u001b[0m     self._record_exception()\n\u001b[1;32m   1224\u001b[0m else:\n\u001b[0;32m-> 1225\u001b[0m     return PyObject_CallObject(op, xy)\n\u001b[1;32m   1226\u001b[0m \n\u001b[1;32m   1227\u001b[0m if op is mul:\n",
      "File \u001b[0;32m/private/var/tmp/sage-10.1-current/local/var/lib/sage/venv-python3.11.1/lib/python3.11/site-packages/sage/structure/element.pyx:1730\u001b[0m, in \u001b[0;36msage.structure.element.Element.__truediv__ (build/cythonized/sage/structure/element.c:13255)\u001b[0;34m()\u001b[0m\n\u001b[1;32m   1728\u001b[0m cdef int cl = classify_elements(left, right)\n\u001b[1;32m   1729\u001b[0m if HAVE_SAME_PARENT(cl):\n\u001b[0;32m-> 1730\u001b[0m     return (<Element>left)._div_(right)\n\u001b[1;32m   1731\u001b[0m if BOTH_ARE_ELEMENT(cl):\n\u001b[1;32m   1732\u001b[0m     return coercion_model.bin_op(left, right, truediv)\n",
      "File \u001b[0;32m/private/var/tmp/sage-10.1-current/local/var/lib/sage/venv-python3.11.1/lib/python3.11/site-packages/sage/rings/finite_rings/integer_mod.pyx:2641\u001b[0m, in \u001b[0;36msage.rings.finite_rings.integer_mod.IntegerMod_int._div_ (build/cythonized/sage/rings/finite_rings/integer_mod.c:29501)\u001b[0;34m()\u001b[0m\n\u001b[1;32m   2639\u001b[0m right_inverse = self.__modulus.inverses[(<IntegerMod_int>right).ivalue]\n\u001b[1;32m   2640\u001b[0m if right_inverse is None:\n\u001b[0;32m-> 2641\u001b[0m     raise ZeroDivisionError(f\"inverse of Mod({right}, {self.__modulus.sageInteger}) does not exist\")\n\u001b[1;32m   2642\u001b[0m else:\n\u001b[1;32m   2643\u001b[0m     return self._new_c((self.ivalue * (<IntegerMod_int>right_inverse).ivalue) % self.__modulus.int32)\n",
      "\u001b[0;31mZeroDivisionError\u001b[0m: inverse of Mod(0, 3) does not exist"
     ]
    }
   ],
   "source": [
    "modular_fourier_transform(v,p,n)"
   ]
  },
  {
   "cell_type": "code",
   "execution_count": 273,
   "id": "808130c3",
   "metadata": {},
   "outputs": [
    {
     "name": "stdout",
     "output_type": "stream",
     "text": [
      "6\n",
      "[1, 3, 2, 4, 5] + 2*[1, 5, 4, 2, 3] + [2, 4, 3, 5, 1] + [2, 4, 5, 1, 3] + 2*[2, 5, 1, 4, 3] + 2*[2, 5, 4, 3, 1] + 2*[3, 1, 5, 4, 2] + 2*[3, 2, 1, 4, 5] + [3, 2, 4, 5, 1] + 2*[3, 4, 2, 1, 5] + [3, 5, 1, 2, 4] + [3, 5, 4, 1, 2] + [4, 1, 2, 3, 5] + 2*[4, 1, 3, 5, 2] + 2*[4, 2, 1, 5, 3] + 2*[4, 2, 3, 1, 5] + [4, 3, 1, 2, 5] + [4, 5, 1, 3, 2] + [5, 1, 2, 4, 3] + [5, 2, 3, 4, 1] + [5, 2, 4, 1, 3] + 2*[5, 3, 2, 1, 4] + 2*[5, 3, 4, 2, 1] + 2*[5, 4, 2, 3, 1]\n",
      "7\n",
      "[1, 3, 2, 5, 4] + 2*[1, 5, 4, 3, 2] + [2, 4, 3, 1, 5] + [2, 4, 5, 3, 1] + 2*[2, 5, 1, 3, 4] + 2*[2, 5, 4, 1, 3] + 2*[3, 1, 5, 2, 4] + 2*[3, 2, 1, 5, 4] + [3, 2, 4, 1, 5] + 2*[3, 4, 2, 5, 1] + [3, 5, 1, 4, 2] + [3, 5, 4, 2, 1] + [4, 1, 2, 5, 3] + 2*[4, 1, 3, 2, 5] + 2*[4, 2, 1, 3, 5] + 2*[4, 2, 3, 5, 1] + [4, 3, 1, 5, 2] + [4, 5, 1, 2, 3] + [5, 1, 2, 3, 4] + [5, 2, 3, 1, 4] + [5, 2, 4, 3, 1] + 2*[5, 3, 2, 4, 1] + 2*[5, 3, 4, 1, 2] + 2*[5, 4, 2, 1, 3]\n",
      "16\n",
      "[1, 4, 5, 2, 3] + 2*[1, 5, 4, 3, 2] + [2, 4, 5, 3, 1] + 2*[2, 5, 4, 1, 3] + [3, 4, 5, 1, 2] + 2*[3, 5, 4, 2, 1] + 2*[4, 1, 5, 3, 2] + 2*[4, 2, 5, 1, 3] + 2*[4, 3, 5, 2, 1] + [4, 5, 1, 2, 3] + [4, 5, 2, 3, 1] + [4, 5, 3, 1, 2] + [5, 1, 4, 2, 3] + [5, 2, 4, 3, 1] + [5, 3, 4, 1, 2] + 2*[5, 4, 1, 3, 2] + 2*[5, 4, 2, 1, 3] + 2*[5, 4, 3, 2, 1]\n",
      "17\n",
      "[1, 4, 5, 3, 2] + 2*[1, 5, 4, 2, 3] + [2, 4, 5, 1, 3] + 2*[2, 5, 4, 3, 1] + [3, 4, 5, 2, 1] + 2*[3, 5, 4, 1, 2] + 2*[4, 1, 5, 2, 3] + 2*[4, 2, 5, 3, 1] + 2*[4, 3, 5, 1, 2] + [4, 5, 1, 3, 2] + [4, 5, 2, 1, 3] + [4, 5, 3, 2, 1] + [5, 1, 4, 3, 2] + [5, 2, 4, 1, 3] + [5, 3, 4, 2, 1] + 2*[5, 4, 1, 2, 3] + 2*[5, 4, 2, 3, 1] + 2*[5, 4, 3, 1, 2]\n",
      "18\n",
      "[2, 1, 3, 4, 5] + 2*[2, 1, 5, 3, 4] + [2, 4, 3, 5, 1] + 2*[2, 5, 4, 3, 1] + 2*[3, 2, 1, 4, 5] + [3, 2, 5, 1, 4] + 2*[3, 4, 2, 1, 5] + [3, 4, 5, 2, 1] + [3, 5, 1, 2, 4] + 2*[3, 5, 2, 4, 1] + [4, 1, 2, 3, 5] + 2*[4, 1, 5, 2, 3] + 2*[4, 2, 1, 5, 3] + [4, 5, 1, 3, 2] + [5, 1, 2, 4, 3] + 2*[5, 1, 3, 2, 4] + [5, 2, 4, 1, 3] + 2*[5, 4, 3, 1, 2]\n",
      "19\n",
      "[2, 1, 3, 5, 4] + 2*[2, 1, 5, 4, 3] + [2, 4, 3, 1, 5] + 2*[2, 5, 4, 1, 3] + 2*[3, 2, 1, 5, 4] + [3, 2, 5, 4, 1] + 2*[3, 4, 2, 5, 1] + [3, 4, 5, 1, 2] + [3, 5, 1, 4, 2] + 2*[3, 5, 2, 1, 4] + [4, 1, 2, 5, 3] + 2*[4, 1, 5, 3, 2] + 2*[4, 2, 1, 3, 5] + [4, 5, 1, 2, 3] + [5, 1, 2, 3, 4] + 2*[5, 1, 3, 4, 2] + [5, 2, 4, 3, 1] + 2*[5, 4, 3, 2, 1]\n",
      "22\n",
      "[2, 3, 1, 4, 5] + [2, 4, 3, 1, 5] + 2*[2, 5, 1, 3, 4] + 2*[2, 5, 4, 1, 3] + 2*[3, 2, 1, 5, 4] + 2*[3, 4, 2, 5, 1] + [3, 5, 1, 4, 2] + [3, 5, 4, 2, 1] + [4, 1, 2, 5, 3] + 2*[4, 1, 3, 2, 5] + 2*[4, 2, 1, 3, 5] + [4, 3, 1, 5, 2] + [5, 1, 2, 3, 4] + 2*[5, 1, 3, 4, 2] + [5, 2, 3, 1, 4] + [5, 2, 4, 3, 1] + 2*[5, 3, 2, 4, 1] + 2*[5, 3, 4, 1, 2]\n",
      "23\n",
      "[2, 3, 1, 5, 4] + [2, 4, 3, 5, 1] + 2*[2, 5, 1, 4, 3] + 2*[2, 5, 4, 3, 1] + 2*[3, 2, 1, 4, 5] + 2*[3, 4, 2, 1, 5] + [3, 5, 1, 2, 4] + [3, 5, 4, 1, 2] + [4, 1, 2, 3, 5] + 2*[4, 1, 3, 5, 2] + 2*[4, 2, 1, 5, 3] + [4, 3, 1, 2, 5] + [5, 1, 2, 4, 3] + 2*[5, 1, 3, 2, 4] + [5, 2, 3, 4, 1] + [5, 2, 4, 1, 3] + 2*[5, 3, 2, 1, 4] + 2*[5, 3, 4, 2, 1]\n",
      "24\n",
      "[2, 3, 4, 1, 5] + 2*[2, 4, 3, 5, 1] + 2*[2, 4, 5, 1, 3] + [2, 5, 4, 3, 1] + 2*[3, 2, 5, 1, 4] + 2*[3, 4, 5, 2, 1] + [3, 5, 2, 4, 1] + [3, 5, 4, 1, 2] + 2*[4, 1, 2, 3, 5] + [4, 1, 5, 2, 3] + [4, 2, 1, 5, 3] + [4, 2, 5, 3, 1] + [4, 3, 5, 1, 2] + 2*[4, 5, 1, 3, 2] + 2*[4, 5, 2, 1, 3] + 2*[4, 5, 3, 2, 1] + [5, 1, 3, 2, 4] + 2*[5, 1, 4, 3, 2] + 2*[5, 2, 4, 1, 3] + 2*[5, 3, 1, 4, 2] + 2*[5, 3, 4, 2, 1] + [5, 4, 1, 2, 3] + [5, 4, 2, 3, 1] + [5, 4, 3, 1, 2]\n",
      "25\n",
      "[2, 3, 4, 5, 1] + 2*[2, 4, 3, 1, 5] + 2*[2, 4, 5, 3, 1] + [2, 5, 4, 1, 3] + 2*[3, 2, 5, 4, 1] + 2*[3, 4, 5, 1, 2] + [3, 5, 2, 1, 4] + [3, 5, 4, 2, 1] + 2*[4, 1, 2, 5, 3] + [4, 1, 5, 3, 2] + [4, 2, 1, 3, 5] + [4, 2, 5, 1, 3] + [4, 3, 5, 2, 1] + 2*[4, 5, 1, 2, 3] + 2*[4, 5, 2, 3, 1] + 2*[4, 5, 3, 1, 2] + [5, 1, 3, 4, 2] + 2*[5, 1, 4, 2, 3] + 2*[5, 2, 4, 3, 1] + 2*[5, 3, 1, 2, 4] + 2*[5, 3, 4, 1, 2] + [5, 4, 1, 3, 2] + [5, 4, 2, 1, 3] + [5, 4, 3, 2, 1]\n",
      "26\n",
      "[2, 3, 5, 1, 4] + [2, 4, 5, 3, 1] + 2*[2, 5, 3, 4, 1] + 2*[2, 5, 4, 1, 3] + 2*[3, 2, 4, 1, 5] + [3, 4, 2, 5, 1] + [3, 4, 5, 1, 2] + 2*[3, 5, 4, 2, 1] + [4, 1, 3, 2, 5] + 2*[4, 1, 5, 3, 2] + 2*[4, 2, 5, 1, 3] + 2*[4, 3, 1, 5, 2] + 2*[4, 3, 5, 2, 1] + [4, 5, 1, 2, 3] + [4, 5, 2, 3, 1] + [4, 5, 3, 1, 2] + 2*[5, 1, 2, 3, 4] + [5, 1, 4, 2, 3] + [5, 2, 1, 4, 3] + [5, 2, 4, 3, 1] + [5, 3, 4, 1, 2] + 2*[5, 4, 1, 3, 2] + 2*[5, 4, 2, 1, 3] + 2*[5, 4, 3, 2, 1]\n",
      "27\n",
      "[2, 3, 5, 4, 1] + [2, 4, 5, 1, 3] + 2*[2, 5, 3, 1, 4] + 2*[2, 5, 4, 3, 1] + 2*[3, 2, 4, 5, 1] + [3, 4, 2, 1, 5] + [3, 4, 5, 2, 1] + 2*[3, 5, 4, 1, 2] + [4, 1, 3, 5, 2] + 2*[4, 1, 5, 2, 3] + 2*[4, 2, 5, 3, 1] + 2*[4, 3, 1, 2, 5] + 2*[4, 3, 5, 1, 2] + [4, 5, 1, 3, 2] + [4, 5, 2, 1, 3] + [4, 5, 3, 2, 1] + 2*[5, 1, 2, 4, 3] + [5, 1, 4, 3, 2] + [5, 2, 1, 3, 4] + [5, 2, 4, 1, 3] + [5, 3, 4, 2, 1] + 2*[5, 4, 1, 2, 3] + 2*[5, 4, 2, 3, 1] + 2*[5, 4, 3, 1, 2]\n",
      "28\n",
      "[2, 4, 1, 3, 5] + [2, 4, 3, 5, 1] + [2, 4, 5, 1, 3] + 2*[2, 5, 1, 4, 3] + 2*[2, 5, 3, 1, 4] + 2*[2, 5, 4, 3, 1] + 2*[4, 2, 1, 5, 3] + 2*[4, 2, 3, 1, 5] + 2*[4, 2, 5, 3, 1] + [4, 5, 1, 3, 2] + [4, 5, 2, 1, 3] + [4, 5, 3, 2, 1] + [5, 2, 1, 3, 4] + [5, 2, 3, 4, 1] + [5, 2, 4, 1, 3] + 2*[5, 4, 1, 2, 3] + 2*[5, 4, 2, 3, 1] + 2*[5, 4, 3, 1, 2]\n",
      "29\n",
      "[2, 4, 1, 5, 3] + [2, 4, 3, 1, 5] + [2, 4, 5, 3, 1] + 2*[2, 5, 1, 3, 4] + 2*[2, 5, 3, 4, 1] + 2*[2, 5, 4, 1, 3] + 2*[4, 2, 1, 3, 5] + 2*[4, 2, 3, 5, 1] + 2*[4, 2, 5, 1, 3] + [4, 5, 1, 2, 3] + [4, 5, 2, 3, 1] + [4, 5, 3, 1, 2] + [5, 2, 1, 4, 3] + [5, 2, 3, 1, 4] + [5, 2, 4, 3, 1] + 2*[5, 4, 1, 3, 2] + 2*[5, 4, 2, 1, 3] + 2*[5, 4, 3, 2, 1]\n",
      "30\n",
      "[3, 1, 2, 4, 5] + 2*[3, 1, 5, 2, 4] + 2*[3, 2, 1, 5, 4] + [3, 2, 4, 1, 5] + 2*[3, 4, 2, 5, 1] + 2*[3, 4, 5, 1, 2] + [3, 5, 1, 4, 2] + [3, 5, 4, 2, 1] + [4, 1, 2, 5, 3] + 2*[4, 1, 3, 2, 5] + 2*[4, 2, 1, 3, 5] + [4, 2, 5, 1, 3] + [4, 3, 1, 5, 2] + [4, 3, 5, 2, 1] + 2*[4, 5, 2, 3, 1] + 2*[4, 5, 3, 1, 2] + [5, 1, 2, 3, 4] + 2*[5, 1, 4, 2, 3] + 2*[5, 2, 1, 4, 3] + [5, 2, 3, 1, 4] + 2*[5, 3, 2, 4, 1] + 2*[5, 3, 4, 1, 2] + [5, 4, 1, 3, 2] + [5, 4, 3, 2, 1]\n",
      "31\n",
      "[3, 1, 2, 5, 4] + 2*[3, 1, 5, 4, 2] + 2*[3, 2, 1, 4, 5] + [3, 2, 4, 5, 1] + 2*[3, 4, 2, 1, 5] + 2*[3, 4, 5, 2, 1] + [3, 5, 1, 2, 4] + [3, 5, 4, 1, 2] + [4, 1, 2, 3, 5] + 2*[4, 1, 3, 5, 2] + 2*[4, 2, 1, 5, 3] + [4, 2, 5, 3, 1] + [4, 3, 1, 2, 5] + [4, 3, 5, 1, 2] + 2*[4, 5, 2, 1, 3] + 2*[4, 5, 3, 2, 1] + [5, 1, 2, 4, 3] + 2*[5, 1, 4, 3, 2] + 2*[5, 2, 1, 3, 4] + [5, 2, 3, 4, 1] + 2*[5, 3, 2, 1, 4] + 2*[5, 3, 4, 2, 1] + [5, 4, 1, 2, 3] + [5, 4, 3, 1, 2]\n",
      "32\n",
      "[3, 1, 4, 2, 5] + 2*[3, 1, 5, 4, 2] + [3, 2, 4, 5, 1] + 2*[3, 2, 5, 1, 4] + 2*[3, 4, 5, 2, 1] + [3, 5, 4, 1, 2] + 2*[4, 1, 3, 5, 2] + [4, 1, 5, 2, 3] + 2*[4, 2, 3, 1, 5] + [4, 2, 5, 3, 1] + [4, 3, 5, 1, 2] + 2*[4, 5, 3, 2, 1] + [5, 1, 3, 2, 4] + 2*[5, 1, 4, 3, 2] + [5, 2, 3, 4, 1] + 2*[5, 2, 4, 1, 3] + 2*[5, 3, 4, 2, 1] + [5, 4, 3, 1, 2]\n",
      "33\n",
      "[3, 1, 4, 5, 2] + 2*[3, 1, 5, 2, 4] + [3, 2, 4, 1, 5] + 2*[3, 2, 5, 4, 1] + 2*[3, 4, 5, 1, 2] + [3, 5, 4, 2, 1] + 2*[4, 1, 3, 2, 5] + [4, 1, 5, 3, 2] + 2*[4, 2, 3, 5, 1] + [4, 2, 5, 1, 3] + [4, 3, 5, 2, 1] + 2*[4, 5, 3, 1, 2] + [5, 1, 3, 4, 2] + 2*[5, 1, 4, 2, 3] + [5, 2, 3, 1, 4] + 2*[5, 2, 4, 3, 1] + 2*[5, 3, 4, 1, 2] + [5, 4, 3, 2, 1]\n",
      "34\n",
      "[3, 4, 1, 2, 5] + [3, 4, 2, 5, 1] + [3, 4, 5, 1, 2] + 2*[3, 5, 1, 4, 2] + 2*[3, 5, 2, 1, 4] + 2*[3, 5, 4, 2, 1] + 2*[4, 3, 1, 5, 2] + 2*[4, 3, 2, 1, 5] + 2*[4, 3, 5, 2, 1] + [4, 5, 1, 2, 3] + [4, 5, 2, 3, 1] + [4, 5, 3, 1, 2] + [5, 3, 1, 2, 4] + [5, 3, 2, 4, 1] + [5, 3, 4, 1, 2] + 2*[5, 4, 1, 3, 2] + 2*[5, 4, 2, 1, 3] + 2*[5, 4, 3, 2, 1]\n",
      "35\n",
      "[3, 4, 1, 5, 2] + [3, 4, 2, 1, 5] + [3, 4, 5, 2, 1] + 2*[3, 5, 1, 2, 4] + 2*[3, 5, 2, 4, 1] + 2*[3, 5, 4, 1, 2] + 2*[4, 3, 1, 2, 5] + 2*[4, 3, 2, 5, 1] + 2*[4, 3, 5, 1, 2] + [4, 5, 1, 3, 2] + [4, 5, 2, 1, 3] + [4, 5, 3, 2, 1] + [5, 3, 1, 4, 2] + [5, 3, 2, 1, 4] + [5, 3, 4, 2, 1] + 2*[5, 4, 1, 2, 3] + 2*[5, 4, 2, 3, 1] + 2*[5, 4, 3, 1, 2]\n"
     ]
    }
   ],
   "source": [
    "block_basis_ambient = [u.lift() for u in blocks[0].basis()]\n",
    "assert len(block_basis_ambient) == blocks[0].dimension()\n",
    "for u_j in block_basis_ambient:\n",
    "    if inner_product(u_j,u_j) == 0:\n",
    "        print(block_basis_ambient.index(u_j))\n",
    "        print(u_j)"
   ]
  },
  {
   "cell_type": "code",
   "execution_count": null,
   "id": "274d5b27",
   "metadata": {},
   "outputs": [],
   "source": []
  }
 ],
 "metadata": {
  "kernelspec": {
   "display_name": "SageMath 10.1",
   "language": "sage",
   "name": "sagemath"
  },
  "language_info": {
   "codemirror_mode": {
    "name": "ipython",
    "version": 3
   },
   "file_extension": ".py",
   "mimetype": "text/x-python",
   "name": "python",
   "nbconvert_exporter": "python",
   "pygments_lexer": "ipython3",
   "version": "3.11.1"
  }
 },
 "nbformat": 4,
 "nbformat_minor": 5
}
