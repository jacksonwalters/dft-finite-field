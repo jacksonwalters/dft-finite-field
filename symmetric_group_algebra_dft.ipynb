{
 "cells": [
  {
   "cell_type": "code",
   "execution_count": 105,
   "id": "7765a9c5",
   "metadata": {},
   "outputs": [],
   "source": [
    "n=3"
   ]
  },
  {
   "cell_type": "code",
   "execution_count": 106,
   "id": "3ac291e5",
   "metadata": {},
   "outputs": [],
   "source": [
    "SGA = SymmetricGroupAlgebra(QQ,n)"
   ]
  },
  {
   "cell_type": "code",
   "execution_count": 107,
   "id": "d5bc95b0",
   "metadata": {},
   "outputs": [
    {
     "data": {
      "text/plain": [
       "[   1    1    1    1    1    1]\n",
       "[   1  1/2   -1 -1/2 -1/2  1/2]\n",
       "[   0  3/4    0  3/4 -3/4 -3/4]\n",
       "[   0    1    0   -1    1   -1]\n",
       "[   1 -1/2    1 -1/2 -1/2 -1/2]\n",
       "[   1   -1   -1    1    1   -1]"
      ]
     },
     "execution_count": 107,
     "metadata": {},
     "output_type": "execute_result"
    }
   ],
   "source": [
    "SGA.dft()"
   ]
  },
  {
   "cell_type": "code",
   "execution_count": 87,
   "id": "8f98a1b7",
   "metadata": {},
   "outputs": [],
   "source": [
    "SGA_F7 = SymmetricGroupAlgebra(GF(7),3)"
   ]
  },
  {
   "cell_type": "code",
   "execution_count": 88,
   "id": "495bc146",
   "metadata": {},
   "outputs": [
    {
     "data": {
      "text/plain": [
       "[1 1 1 1 1 1]\n",
       "[1 4 6 3 3 4]\n",
       "[0 6 0 6 1 1]\n",
       "[0 1 0 6 1 6]\n",
       "[1 3 1 3 3 3]\n",
       "[1 6 6 1 1 6]"
      ]
     },
     "execution_count": 88,
     "metadata": {},
     "output_type": "execute_result"
    }
   ],
   "source": [
    "SGA_F7.dft()"
   ]
  },
  {
   "cell_type": "code",
   "execution_count": 26,
   "id": "8e7c474e",
   "metadata": {},
   "outputs": [
    {
     "data": {
      "text/plain": [
       "Specht module of [(0, 0), (1, 0), (2, 0)] over Finite Field of size 7"
      ]
     },
     "execution_count": 26,
     "metadata": {},
     "output_type": "execute_result"
    }
   ],
   "source": [
    "SGA_F7.specht_module(Partition([1,1,1]))"
   ]
  },
  {
   "cell_type": "code",
   "execution_count": 188,
   "id": "eac905eb",
   "metadata": {},
   "outputs": [],
   "source": [
    "SGA_F3 = SymmetricGroupAlgebra(GF(3),3)"
   ]
  },
  {
   "cell_type": "code",
   "execution_count": 189,
   "id": "7608ec7e",
   "metadata": {},
   "outputs": [
    {
     "name": "stdout",
     "output_type": "stream",
     "text": [
      "Modular case not handled!\n"
     ]
    }
   ],
   "source": [
    "#one cannot perform the DFT when p | n!\n",
    "try:\n",
    "    SGA_F3.dft()\n",
    "except ZeroDivisionError:\n",
    "    print(\"Modular case not handled!\")"
   ]
  },
  {
   "cell_type": "code",
   "execution_count": 34,
   "id": "80d0b5d9",
   "metadata": {},
   "outputs": [],
   "source": [
    "#Theorem 3.3, \"Nakayama's Conjecture\", pg. 8, Wildon, Vertices of Specht Modules and Blocks of the Symmetric Group:\n",
    "\n",
    "#Let p be a prime. The p-blocks of the symmetric group Sn are labelled by pairs (\\gamma,w), \n",
    "#where \\gamma is a p-core and w \\in \\mathbb{N}_0 is the associated weight, such that |\\gamma| + wp = n. \n",
    "#Thus S^\\lambda lies in the block labelled by (\\gamma,w) if and only if \\lambda has p-core \\gamma and weight w.\n",
    "#\n",
    "#---\n",
    "#\n",
    "#Theorem 2.1, Murphy, The Idempotents of the Symmetric Group and Nakayama's Conjecture\n",
    "#\n",
    "#F_j^i = \\sum_{\\mu,k | t_k^\\mu \\in T_j^i} E_k^\\mu \n",
    "#H^i = \\sum_j F_j^i \n",
    "#\n",
    "#{F_j^i} is a complete set of orthogonal idempotents of RS_n, similarly for {\\overline{F}_j^i}.\n",
    "#\n",
    "#where\n",
    "#\n",
    "#E_i^\\mu = \\prod_{c = -n+1}^{n-1} \\prod_{u | a_{ui}^\\mu \\ne c} \\frac{c-L_u}{c-\\alpha_{ui}^\\mu}\n",
    "#\n",
    "#L_u = (1,u) + (2,u) + ... + (u-1,u), a sum of transpositions\n",
    "#\n",
    "#T_j^i are tableaux belonging to equivalence classes B_i, where B_i are equivalences classes of\n",
    "#partitions given by \\tilde_p\n",
    "#\n",
    "#\\labmda \\tidle_p \\mu iff the classes (j-i) of each node have the same residue mod p\n",
    "#\n",
    "#The class of the node occupied by u in t_i^\\mu is \\alpha_{ui}^\\mu where t_1^\\mu, ..., t_d^\\mu are the standard \\mu-tableaux \n",
    "#in the ordering in pg. 288 of \"A new construction of Young's seminormal representation of the symmetric groups\".\n",
    "#\n",
    "#The \"class\" of a node (i,j) in a Young diagram \\mu is the difference j-i.\n",
    "#\n",
    "#d is the number of \"standard \\mu-tableaux\", given by the Hook-length formula.\n",
    "#\n",
    "#---\n",
    "#\n",
    "#Theorem 2.8 (Nakayama's Conjecture): {\\overline{H}^i} is a complete set of primitive orthogonal central idempotents of \\overline{K}S_n,\n",
    "#and S_{\\overline{K}}^\\mu, S_{\\overline{K}}^\\lambda belong to the same block of \\overline{K}S_n if and only if \\mu \\tilde_p \\lambda.\n",
    "#\n",
    "#---"
   ]
  },
  {
   "cell_type": "code",
   "execution_count": 109,
   "id": "0d0969bf",
   "metadata": {},
   "outputs": [
    {
     "data": {
      "text/plain": [
       "[2, 1]"
      ]
     },
     "execution_count": 109,
     "metadata": {},
     "output_type": "execute_result"
    }
   ],
   "source": [
    "mu = Partition([2,1]); mu"
   ]
  },
  {
   "cell_type": "code",
   "execution_count": 113,
   "id": "c8cfc285",
   "metadata": {},
   "outputs": [
    {
     "data": {
      "text/plain": [
       "[[[1, 3], [2]], [[1, 2], [3]]]"
      ]
     },
     "execution_count": 113,
     "metadata": {},
     "output_type": "execute_result"
    }
   ],
   "source": [
    "list(StandardTableaux(mu))"
   ]
  },
  {
   "cell_type": "code",
   "execution_count": 61,
   "id": "23a37ae4",
   "metadata": {},
   "outputs": [],
   "source": [
    "#define the element \\alpha_{ui}^\\mu\n",
    "#which is the class of u in the i^th standard Tableaux corresponding to mu\n",
    "#the class of a node is j-i where i is the row and j is the column\n",
    "def alpha(mu,u,i):\n",
    "    tab = StandardTableaux(mu)[i]\n",
    "    for row in range(len(tab)):\n",
    "        for col in range(len(tab[row])):\n",
    "            if u == tab[row][col]:\n",
    "                return col - row"
   ]
  },
  {
   "cell_type": "code",
   "execution_count": 81,
   "id": "14616c86",
   "metadata": {},
   "outputs": [],
   "source": [
    "#define the elment L_u = (1,u) + (2,u) + ... + (u-1,u) in K[S_n]\n",
    "def L(u):\n",
    "    return sum(SGA(PermutationGroupElement(f\"({i},{u})\")) for i in range(1,u))"
   ]
  },
  {
   "cell_type": "code",
   "execution_count": 172,
   "id": "16472109",
   "metadata": {},
   "outputs": [],
   "source": [
    "#create a standard \"canonical\" tableau by placing entries sequentially from left-to-right, top-to-bottom\n",
    "def canonical_tableau(la):\n",
    "    return Tableau([[sum(la[k] for k in range(j))+i+1 for i in range(la[j])] for j in range(len(la))])"
   ]
  },
  {
   "cell_type": "code",
   "execution_count": 159,
   "id": "c1ca882f",
   "metadata": {},
   "outputs": [],
   "source": [
    "def E(mu,i):\n",
    "    return prod(prod((c-L(u))/(c-alpha(mu,u,i)) for u in range(1,n+1) if alpha(mu,u,i) != c) for c in range(-n+1,n))"
   ]
  },
  {
   "cell_type": "code",
   "execution_count": 160,
   "id": "d500aff5",
   "metadata": {},
   "outputs": [
    {
     "data": {
      "text/plain": [
       "1/3*[1, 2, 3] + 1/6*[1, 3, 2] - 1/3*[2, 1, 3] - 1/6*[2, 3, 1] - 1/6*[3, 1, 2] + 1/6*[3, 2, 1]"
      ]
     },
     "execution_count": 160,
     "metadata": {},
     "output_type": "execute_result"
    }
   ],
   "source": [
    "E(mu,0)"
   ]
  },
  {
   "cell_type": "code",
   "execution_count": 173,
   "id": "0012f17b",
   "metadata": {},
   "outputs": [
    {
     "data": {
      "text/plain": [
       "[[1, 2], [3]]"
      ]
     },
     "execution_count": 173,
     "metadata": {},
     "output_type": "execute_result"
    }
   ],
   "source": [
    "canonical_tableau(mu)"
   ]
  },
  {
   "cell_type": "code",
   "execution_count": 190,
   "id": "cc1b339d",
   "metadata": {},
   "outputs": [],
   "source": [
    "#equivalent to having the same p-core\n",
    "#look at canonical tableaus (place 1,...,n in top-to-bottom, left-to-right)\n",
    "#compute p-residues of classes j-i \\mod p\n",
    "def p_equiv(mu_1, mu_2):\n",
    "    diag_1 = canonical_tableau(mu_1)\n",
    "    diag_2 = canonical_tableau(mu_2)\n",
    "    p_residues_1 = [[col - row % p for col in range(len(diag_1[row]))] for row in range(len(diag_1))]\n",
    "    p_residues_2 = [[col - row % p for col in range(len(diag_2[row]))] for row in range(len(diag_2))]\n",
    "    #TO-DO"
   ]
  },
  {
   "cell_type": "code",
   "execution_count": 192,
   "id": "f0de4426",
   "metadata": {},
   "outputs": [
    {
     "ename": "ValueError",
     "evalue": "[2, 1] is not a 3-core",
     "output_type": "error",
     "traceback": [
      "\u001b[0;31m---------------------------------------------------------------------------\u001b[0m",
      "\u001b[0;31mValueError\u001b[0m                                Traceback (most recent call last)",
      "Cell \u001b[0;32mIn [192], line 1\u001b[0m\n\u001b[0;32m----> 1\u001b[0m \u001b[43mp_equiv\u001b[49m\u001b[43m(\u001b[49m\u001b[43mmu\u001b[49m\u001b[43m,\u001b[49m\u001b[43mmu\u001b[49m\u001b[43m,\u001b[49m\u001b[43mp\u001b[49m\u001b[43m)\u001b[49m\n",
      "Cell \u001b[0;32mIn [190], line 3\u001b[0m, in \u001b[0;36mp_equiv\u001b[0;34m(mu_1, mu_2, p)\u001b[0m\n\u001b[1;32m      2\u001b[0m \u001b[38;5;28;01mdef\u001b[39;00m \u001b[38;5;21mp_equiv\u001b[39m(mu_1, mu_2,p):\n\u001b[0;32m----> 3\u001b[0m     \u001b[38;5;28;01mreturn\u001b[39;00m \u001b[43mCore\u001b[49m\u001b[43m(\u001b[49m\u001b[43mmu_1\u001b[49m\u001b[43m,\u001b[49m\u001b[43mp\u001b[49m\u001b[43m)\u001b[49m \u001b[38;5;241m==\u001b[39m Core(mu_2,p)\n",
      "File \u001b[0;32m/private/var/tmp/sage-10.1-current/local/var/lib/sage/venv-python3.11.1/lib/python3.11/site-packages/sage/misc/classcall_metaclass.pyx:320\u001b[0m, in \u001b[0;36msage.misc.classcall_metaclass.ClasscallMetaclass.__call__ (build/cythonized/sage/misc/classcall_metaclass.c:1919)\u001b[0;34m()\u001b[0m\n\u001b[1;32m    318\u001b[0m \"\"\"\n\u001b[1;32m    319\u001b[0m if cls.classcall is not None:\n\u001b[0;32m--> 320\u001b[0m     return cls.classcall(cls, *args, **kwds)\n\u001b[1;32m    321\u001b[0m else:\n\u001b[1;32m    322\u001b[0m     # Fast version of type.__call__(cls, *args, **kwds)\n",
      "File \u001b[0;32m/private/var/tmp/sage-10.1-current/local/var/lib/sage/venv-python3.11.1/lib/python3.11/site-packages/sage/combinat/core.py:76\u001b[0m, in \u001b[0;36mCore.__classcall_private__\u001b[0;34m(cls, part, k)\u001b[0m\n\u001b[1;32m     74\u001b[0m part \u001b[38;5;241m=\u001b[39m Partition(part)\n\u001b[1;32m     75\u001b[0m \u001b[38;5;28;01mif\u001b[39;00m \u001b[38;5;129;01mnot\u001b[39;00m part\u001b[38;5;241m.\u001b[39mis_core(k):\n\u001b[0;32m---> 76\u001b[0m     \u001b[38;5;28;01mraise\u001b[39;00m \u001b[38;5;167;01mValueError\u001b[39;00m(\u001b[38;5;124m\"\u001b[39m\u001b[38;5;132;01m%s\u001b[39;00m\u001b[38;5;124m is not a \u001b[39m\u001b[38;5;132;01m%s\u001b[39;00m\u001b[38;5;124m-core\u001b[39m\u001b[38;5;124m\"\u001b[39m \u001b[38;5;241m%\u001b[39m (part, k))\n\u001b[1;32m     77\u001b[0m l \u001b[38;5;241m=\u001b[39m \u001b[38;5;28msum\u001b[39m(part\u001b[38;5;241m.\u001b[39mk_boundary(k)\u001b[38;5;241m.\u001b[39mrow_lengths())\n\u001b[1;32m     78\u001b[0m \u001b[38;5;28;01mreturn\u001b[39;00m Cores(k, l)(part)\n",
      "\u001b[0;31mValueError\u001b[0m: [2, 1] is not a 3-core"
     ]
    }
   ],
   "source": [
    "p_equiv(mu,mu,p)"
   ]
  },
  {
   "cell_type": "code",
   "execution_count": null,
   "id": "d23eb56f",
   "metadata": {},
   "outputs": [],
   "source": [
    "def B(n):\n",
    "    "
   ]
  }
 ],
 "metadata": {
  "kernelspec": {
   "display_name": "SageMath 10.1",
   "language": "sage",
   "name": "sagemath"
  },
  "language_info": {
   "codemirror_mode": {
    "name": "ipython",
    "version": 3
   },
   "file_extension": ".py",
   "mimetype": "text/x-python",
   "name": "python",
   "nbconvert_exporter": "python",
   "pygments_lexer": "ipython3",
   "version": "3.11.1"
  }
 },
 "nbformat": 4,
 "nbformat_minor": 5
}
