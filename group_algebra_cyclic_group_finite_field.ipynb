{
 "cells": [
  {
   "cell_type": "code",
   "execution_count": 21,
   "id": "3f458e24",
   "metadata": {},
   "outputs": [],
   "source": [
    "#we are looking at the group algebra F_p[C_N]\n",
    "#this is F_p[x]/(x^N-1)\n",
    "#if p|N, we can write (x^N-1) = (x^m-1)^{p^s} for some s\n",
    "#we are looking at roots of unity mod p\n",
    "#to factor x^m-1, use cyclotomic polynomials: x^m-1 = \\prod_{d|m} phi_d(x)\n",
    "#to factor phi_d(x) in F_p, that's equivalent to looking at (p) in Z[x]/Phi_d(x) = Z[zeta]\n",
    "#(p) = P_1...P_g where each P_i has the same residue degree f\n",
    "#Here f*g = phi(d), and f is the order of p modulo d, phi is Euler totient\n",
    "#phi_d(x) factors in F_p[x] into g polynomials, each of degree f\n",
    "#thus F_p[x]/(x^N-1) \\cong \\prod_{d|m} \\prod_{i=1}^g F_p[x]/(P_i^{p^s})\n",
    "#by the Chinese remainder theorem\n",
    "#i.e. just factor x^N-1 mod p, and map onto residue classes"
   ]
  },
  {
   "cell_type": "code",
   "execution_count": 9,
   "id": "295e02b4",
   "metadata": {},
   "outputs": [],
   "source": [
    "#h is an element of F_p[C_N]\n",
    "#that is, h = h0+h1*x+h2x^2+...+h_{N-1}x^N-1\n",
    "#we allow h as a list of N numbers modulo p\n",
    "#h = [h0,h1,h2,...,h_{N-1}]\n",
    "def discrete_fourier_transform(h,N,p):\n",
    "    #define the polynomial ring F_p[x]\n",
    "    R = PolynomialRing(GF(p),'x')\n",
    "    #name the generator x an element of R\n",
    "    x = R.0\n",
    "    #define the quotient ring F_p[x]/(x^N-1)\n",
    "    S = R.quotient(x^N - 1, 'z')\n",
    "    #define the polynomial x^N-1\n",
    "    f = x**N-1; assert f in R\n",
    "    #transform the list of coefficients of h into a polynomial in R=F_p[x]\n",
    "    h = sum(h[i]*x**i for i in range(N)); assert h in S\n",
    "    #factor f in F_p[x], save as list of factors and multiplicities\n",
    "    f_factors = list(f.factor())\n",
    "    #implement the Chinese remainder theorem mapping S=F_p[x]/(x^N-1) --> \\prod_i R/(factor_i^mult_i)\n",
    "    h_transform=[list(R.quotient(f_factors[i][0]**f_factors[i][1])(h)) for i in range(len(f_factors))]\n",
    "    return h_transform"
   ]
  },
  {
   "cell_type": "code",
   "execution_count": 23,
   "id": "f6d20497",
   "metadata": {},
   "outputs": [
    {
     "data": {
      "text/plain": [
       "[[15], [14], [16, 6, 0, 4], [1, 11, 0, 4]]"
      ]
     },
     "execution_count": 23,
     "metadata": {},
     "output_type": "execute_result"
    }
   ],
   "source": [
    "discrete_fourier_transform([0,1,0,5,0,0,6,1,0,1],10,17)"
   ]
  },
  {
   "cell_type": "code",
   "execution_count": 14,
   "id": "9a41d3e8",
   "metadata": {},
   "outputs": [],
   "source": [
    "R = PolynomialRing(GF(7^4),'x')"
   ]
  },
  {
   "cell_type": "code",
   "execution_count": 15,
   "id": "526ac9a8",
   "metadata": {},
   "outputs": [],
   "source": [
    "x = R.0"
   ]
  },
  {
   "cell_type": "code",
   "execution_count": 16,
   "id": "ed555591",
   "metadata": {},
   "outputs": [],
   "source": [
    "N=10"
   ]
  },
  {
   "cell_type": "code",
   "execution_count": 17,
   "id": "77fae521",
   "metadata": {},
   "outputs": [],
   "source": [
    "f = x**N-1; assert f in R"
   ]
  },
  {
   "cell_type": "code",
   "execution_count": 18,
   "id": "5029beae",
   "metadata": {},
   "outputs": [
    {
     "data": {
      "text/plain": [
       "(x + 1) * (x + 6) * (x + 3*z4^2 + 5*z4 + 6) * (x + 4*z4^2 + 2*z4 + 1) * (x + z4^3 + 3*z4 + 5) * (x + z4^3 + 6*z4^2 + 2*z4 + 6) * (x + 2*z4^3 + 2*z4^2 + 3*z4 + 2) * (x + 5*z4^3 + 5*z4^2 + 4*z4 + 5) * (x + 6*z4^3 + 4*z4 + 2) * (x + 6*z4^3 + z4^2 + 5*z4 + 1)"
      ]
     },
     "execution_count": 18,
     "metadata": {},
     "output_type": "execute_result"
    }
   ],
   "source": [
    "f.factor()"
   ]
  },
  {
   "cell_type": "code",
   "execution_count": 23,
   "id": "3336ee83",
   "metadata": {},
   "outputs": [],
   "source": [
    "z4=GF(7^4).gens()[0]"
   ]
  },
  {
   "cell_type": "code",
   "execution_count": 37,
   "id": "cdeeb74f",
   "metadata": {},
   "outputs": [
    {
     "data": {
      "text/plain": [
       "6"
      ]
     },
     "execution_count": 37,
     "metadata": {},
     "output_type": "execute_result"
    }
   ],
   "source": [
    "(3*z4^2 + 5*z4 + 6)^5"
   ]
  },
  {
   "cell_type": "code",
   "execution_count": null,
   "id": "c5a48da6",
   "metadata": {},
   "outputs": [],
   "source": []
  }
 ],
 "metadata": {
  "kernelspec": {
   "display_name": "SageMath 10.1",
   "language": "sage",
   "name": "sagemath"
  },
  "language_info": {
   "codemirror_mode": {
    "name": "ipython",
    "version": 3
   },
   "file_extension": ".py",
   "mimetype": "text/x-python",
   "name": "python",
   "nbconvert_exporter": "python",
   "pygments_lexer": "ipython3",
   "version": "3.11.1"
  }
 },
 "nbformat": 4,
 "nbformat_minor": 5
}
