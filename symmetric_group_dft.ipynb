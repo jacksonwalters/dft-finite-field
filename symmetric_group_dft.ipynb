{
 "cells": [
  {
   "cell_type": "code",
   "execution_count": 1,
   "id": "7448734a",
   "metadata": {},
   "outputs": [],
   "source": [
    "#REFS:\n",
    "#Wildon, Vertices of Specht Modules and Blocks of the Symmetric Group\n",
    "#Murphy, The Idempotents of the Symmetric Group and Nakayama's Conjecture\n",
    "#Murphy, A new construction of Young's seminormal representation of the symmetric groups"
   ]
  },
  {
   "cell_type": "code",
   "execution_count": 2,
   "id": "3ac291e5",
   "metadata": {},
   "outputs": [],
   "source": [
    "SGA_Q3 = SymmetricGroupAlgebra(QQ,3)"
   ]
  },
  {
   "cell_type": "code",
   "execution_count": 3,
   "id": "d5bc95b0",
   "metadata": {},
   "outputs": [
    {
     "data": {
      "text/plain": [
       "[   1    1    1    1    1    1]\n",
       "[   1  1/2   -1 -1/2 -1/2  1/2]\n",
       "[   0  3/4    0  3/4 -3/4 -3/4]\n",
       "[   0    1    0   -1    1   -1]\n",
       "[   1 -1/2    1 -1/2 -1/2 -1/2]\n",
       "[   1   -1   -1    1    1   -1]"
      ]
     },
     "execution_count": 3,
     "metadata": {},
     "output_type": "execute_result"
    }
   ],
   "source": [
    "SGA_Q3.dft()"
   ]
  },
  {
   "cell_type": "code",
   "execution_count": 4,
   "id": "8f98a1b7",
   "metadata": {},
   "outputs": [],
   "source": [
    "SGA_F7 = SymmetricGroupAlgebra(GF(7),3)"
   ]
  },
  {
   "cell_type": "code",
   "execution_count": 5,
   "id": "495bc146",
   "metadata": {},
   "outputs": [
    {
     "data": {
      "text/plain": [
       "[1 1 1 1 1 1]\n",
       "[1 4 6 3 3 4]\n",
       "[0 6 0 6 1 1]\n",
       "[0 1 0 6 1 6]\n",
       "[1 3 1 3 3 3]\n",
       "[1 6 6 1 1 6]"
      ]
     },
     "execution_count": 5,
     "metadata": {},
     "output_type": "execute_result"
    }
   ],
   "source": [
    "SGA_F7.dft()"
   ]
  },
  {
   "cell_type": "code",
   "execution_count": 6,
   "id": "8e7c474e",
   "metadata": {},
   "outputs": [
    {
     "data": {
      "text/plain": [
       "Specht module of [(0, 0), (1, 0), (2, 0)] over Finite Field of size 7"
      ]
     },
     "execution_count": 6,
     "metadata": {},
     "output_type": "execute_result"
    }
   ],
   "source": [
    "SGA_F7.specht_module(Partition([1,1,1]))"
   ]
  },
  {
   "cell_type": "code",
   "execution_count": 7,
   "id": "eac905eb",
   "metadata": {},
   "outputs": [],
   "source": [
    "SGA_F3 = SymmetricGroupAlgebra(GF(3),3)"
   ]
  },
  {
   "cell_type": "code",
   "execution_count": 8,
   "id": "7608ec7e",
   "metadata": {},
   "outputs": [
    {
     "name": "stdout",
     "output_type": "stream",
     "text": [
      "Modular case not handled!\n"
     ]
    }
   ],
   "source": [
    "#one cannot perform the DFT when p | n!\n",
    "try:\n",
    "    SGA_F3.dft()\n",
    "except ZeroDivisionError:\n",
    "    print(\"Modular case not handled!\")"
   ]
  },
  {
   "cell_type": "code",
   "execution_count": 9,
   "id": "2f53c75f",
   "metadata": {},
   "outputs": [],
   "source": [
    "#construct Pierce decomposition of SGA into sum of blocks"
   ]
  },
  {
   "cell_type": "code",
   "execution_count": 17,
   "id": "7358b51c",
   "metadata": {},
   "outputs": [],
   "source": [
    "#implements modular Fourier transform\n",
    "#project v onto each block U_i = F_p[S_n]*e_i using \\pi_i: v |--> v*e_i as a projection\n",
    "#this is just a change of basis\n",
    "def modular_fourier_transform(p,n):\n",
    "    #instantiate group algebra\n",
    "    SGA_GFp_n = SymmetricGroupAlgebra(GF(p),n)\n",
    "    #compute the primitive central orthogonal idempotents\n",
    "    idempotents = SGA_GFp_n.central_orthogonal_idempotents()\n",
    "    #create a spanning set for the block corresponding to an idempotent\n",
    "    spanning_set = lambda idem: [SGA_GFp_n(sigma)*idem for sigma in SGA_GFp_n.group()]\n",
    "    #compute the blocks as submodules of the given spanning set\n",
    "    blocks = [SGA_GFp_n.submodule(spanning_set(idem)) for idem in idempotents]\n",
    "    #compute the list of basis vectors lifed to the SGA from each block\n",
    "    block_decomposition_basis = flatten([[u.lift() for u in block.basis()] for block in blocks])\n",
    "    #the elements of the symmetric group are ordered, giving the map from the standard basis\n",
    "    sym_group_list = list(SGA_GFp_n.group())\n",
    "    change_of_basis_matrix = []\n",
    "    for b in block_decomposition_basis:\n",
    "        coord_vector = [0]*len(sym_group_list)\n",
    "        for pair in list(b):\n",
    "            coord_vector[sym_group_list.index(pair[0])] = pair[1]\n",
    "        change_of_basis_matrix.append(coord_vector)\n",
    "    return matrix(GF(p),change_of_basis_matrix).transpose()"
   ]
  },
  {
   "cell_type": "code",
   "execution_count": 11,
   "id": "a07d87f2",
   "metadata": {},
   "outputs": [],
   "source": [
    "#choose characteristic p and number of elements permuted n\n",
    "p=3; n=5"
   ]
  },
  {
   "cell_type": "code",
   "execution_count": 12,
   "id": "cb2370b8",
   "metadata": {},
   "outputs": [
    {
     "data": {
      "text/plain": [
       "120 x 120 dense matrix over Finite Field of size 3 (use the '.str()' method to see the entries)"
      ]
     },
     "execution_count": 12,
     "metadata": {},
     "output_type": "execute_result"
    }
   ],
   "source": [
    "#compute the modular Fourier transform for an example element v\n",
    "mft = modular_fourier_transform(p,n); mft"
   ]
  },
  {
   "cell_type": "code",
   "execution_count": 14,
   "id": "274d5b27",
   "metadata": {},
   "outputs": [
    {
     "name": "stdout",
     "output_type": "stream",
     "text": [
      "(1, 0, 0, 0, 0, 0, 0, 0, 0, 0, 0, 0, 0, 0, 0, 0, 0, 0, 0, 0, 0, 0, 0, 2, 0, 0, 0, 0, 0, 2, 0, 0, 0, 0, 0, 0, 0, 0, 1, 0, 0, 1, 0, 0, 0, 0, 2, 0, 0, 0, 0, 0, 0, 0, 0, 2, 0, 0, 0, 1, 0, 0, 0, 0, 2, 0, 0, 0, 2, 0, 0, 2, 0, 1, 0, 0, 0, 2, 2, 0, 0, 0, 2, 0, 0, 0, 2, 0, 0, 2, 2, 0, 0, 1, 1, 0, 1, 0, 0, 2, 1, 0, 0, 0, 0, 0, 0, 1, 1, 0, 0, 0, 1, 0, 0, 2, 2, 0, 0, 1)\n"
     ]
    }
   ],
   "source": [
    "print(mft[0])"
   ]
  },
  {
   "cell_type": "code",
   "execution_count": 15,
   "id": "2c89a0ab",
   "metadata": {},
   "outputs": [
    {
     "data": {
      "text/plain": [
       "'120210010002121000012120000010211121001201221221202121121110000201100211200120110011001000111020220020012021121202001220'"
      ]
     },
     "execution_count": 15,
     "metadata": {},
     "output_type": "execute_result"
    }
   ],
   "source": [
    "#perform Hill cipher with MFT(p,n) as matrix\n",
    "txt = \"Hom encrypt key p\"\n",
    "bit_str = flatten([list(bin_str)[2:] for bin_str in [bin(num) for num in list(txt.encode())]])\n",
    "encoded_vec = [GF(p)(bit) for bit in bit_str] + (factorial(n)-len(bit_str))*[0]\n",
    "''.join([str(i) for i in mft*vector(encoded_vec)])"
   ]
  },
  {
   "cell_type": "code",
   "execution_count": 16,
   "id": "c499081e",
   "metadata": {},
   "outputs": [
    {
     "ename": "NameError",
     "evalue": "name 'SGA_GF3_5' is not defined",
     "output_type": "error",
     "traceback": [
      "\u001b[0;31m---------------------------------------------------------------------------\u001b[0m",
      "\u001b[0;31mNameError\u001b[0m                                 Traceback (most recent call last)",
      "Cell \u001b[0;32mIn [16], line 1\u001b[0m\n\u001b[0;32m----> 1\u001b[0m \u001b[43mSGA_GF3_5\u001b[49m\u001b[38;5;241m.\u001b[39mbase_ring()\n",
      "\u001b[0;31mNameError\u001b[0m: name 'SGA_GF3_5' is not defined"
     ]
    }
   ],
   "source": [
    "SGA_GF3_5.base_ring()"
   ]
  },
  {
   "cell_type": "code",
   "execution_count": null,
   "id": "695f7df9",
   "metadata": {},
   "outputs": [],
   "source": [
    "modular_fourier_transform(7,3) == SGA_F7.dft()"
   ]
  },
  {
   "cell_type": "code",
   "execution_count": null,
   "id": "b09e4e1d",
   "metadata": {},
   "outputs": [],
   "source": [
    "#note: this matrix has (almost) only has 1's and -1's\n",
    "print(modular_fourier_transform(2,3).str())"
   ]
  },
  {
   "cell_type": "code",
   "execution_count": null,
   "id": "51c9f74f",
   "metadata": {},
   "outputs": [],
   "source": [
    "SGA_F7.dft()"
   ]
  },
  {
   "cell_type": "code",
   "execution_count": null,
   "id": "62c58435",
   "metadata": {},
   "outputs": [],
   "source": [
    "P = Primes()"
   ]
  },
  {
   "cell_type": "code",
   "execution_count": null,
   "id": "e99b65f4",
   "metadata": {},
   "outputs": [],
   "source": [
    "P.unrank(100)"
   ]
  },
  {
   "cell_type": "code",
   "execution_count": null,
   "id": "6de90e56",
   "metadata": {},
   "outputs": [],
   "source": [
    "#note: this matrix has (almost) only has 1's and -1's\n",
    "print(modular_fourier_transform(P.unrank(4),4).str())"
   ]
  },
  {
   "cell_type": "code",
   "execution_count": null,
   "id": "5a9f6750",
   "metadata": {},
   "outputs": [],
   "source": []
  }
 ],
 "metadata": {
  "kernelspec": {
   "display_name": "SageMath 10.1",
   "language": "sage",
   "name": "sagemath"
  },
  "language_info": {
   "codemirror_mode": {
    "name": "ipython",
    "version": 3
   },
   "file_extension": ".py",
   "mimetype": "text/x-python",
   "name": "python",
   "nbconvert_exporter": "python",
   "pygments_lexer": "ipython3",
   "version": "3.11.1"
  }
 },
 "nbformat": 4,
 "nbformat_minor": 5
}
