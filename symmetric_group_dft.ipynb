{
 "cells": [
  {
   "cell_type": "code",
   "execution_count": 1,
   "id": "7448734a",
   "metadata": {},
   "outputs": [],
   "source": [
    "#REFS:\n",
    "#Wildon, Vertices of Specht Modules and Blocks of the Symmetric Group\n",
    "#Murphy, The Idempotents of the Symmetric Group and Nakayama's Conjecture\n",
    "#Murphy, A new construction of Young's seminormal representation of the symmetric groups"
   ]
  },
  {
   "cell_type": "code",
   "execution_count": 2,
   "id": "3ac291e5",
   "metadata": {},
   "outputs": [],
   "source": [
    "SGA_Q3 = SymmetricGroupAlgebra(QQ,3)"
   ]
  },
  {
   "cell_type": "code",
   "execution_count": 3,
   "id": "d5bc95b0",
   "metadata": {},
   "outputs": [
    {
     "data": {
      "text/plain": [
       "[   1    1    1    1    1    1]\n",
       "[   1  1/2   -1 -1/2 -1/2  1/2]\n",
       "[   0  3/4    0  3/4 -3/4 -3/4]\n",
       "[   0    1    0   -1    1   -1]\n",
       "[   1 -1/2    1 -1/2 -1/2 -1/2]\n",
       "[   1   -1   -1    1    1   -1]"
      ]
     },
     "execution_count": 3,
     "metadata": {},
     "output_type": "execute_result"
    }
   ],
   "source": [
    "SGA_Q3.dft()"
   ]
  },
  {
   "cell_type": "code",
   "execution_count": 4,
   "id": "8f98a1b7",
   "metadata": {},
   "outputs": [],
   "source": [
    "SGA_F7 = SymmetricGroupAlgebra(GF(7),3)"
   ]
  },
  {
   "cell_type": "code",
   "execution_count": 5,
   "id": "495bc146",
   "metadata": {},
   "outputs": [
    {
     "data": {
      "text/plain": [
       "[1 1 1 1 1 1]\n",
       "[1 4 6 3 3 4]\n",
       "[0 6 0 6 1 1]\n",
       "[0 1 0 6 1 6]\n",
       "[1 3 1 3 3 3]\n",
       "[1 6 6 1 1 6]"
      ]
     },
     "execution_count": 5,
     "metadata": {},
     "output_type": "execute_result"
    }
   ],
   "source": [
    "SGA_F7.dft()"
   ]
  },
  {
   "cell_type": "code",
   "execution_count": 6,
   "id": "8e7c474e",
   "metadata": {},
   "outputs": [
    {
     "data": {
      "text/plain": [
       "Specht module of [(0, 0), (1, 0), (2, 0)] over Finite Field of size 7"
      ]
     },
     "execution_count": 6,
     "metadata": {},
     "output_type": "execute_result"
    }
   ],
   "source": [
    "SGA_F7.specht_module(Partition([1,1,1]))"
   ]
  },
  {
   "cell_type": "code",
   "execution_count": 7,
   "id": "eac905eb",
   "metadata": {},
   "outputs": [],
   "source": [
    "SGA_F3 = SymmetricGroupAlgebra(GF(3),3)"
   ]
  },
  {
   "cell_type": "code",
   "execution_count": 8,
   "id": "7608ec7e",
   "metadata": {},
   "outputs": [
    {
     "name": "stdout",
     "output_type": "stream",
     "text": [
      "Modular case not handled!\n"
     ]
    }
   ],
   "source": [
    "#one cannot perform the DFT when p | n!\n",
    "try:\n",
    "    SGA_F3.dft()\n",
    "except ZeroDivisionError:\n",
    "    print(\"Modular case not handled!\")"
   ]
  },
  {
   "cell_type": "code",
   "execution_count": 9,
   "id": "2f53c75f",
   "metadata": {},
   "outputs": [],
   "source": [
    "#construct Pierce decomposition of SGA into sum of blocks"
   ]
  },
  {
   "cell_type": "code",
   "execution_count": 9,
   "id": "7358b51c",
   "metadata": {},
   "outputs": [],
   "source": [
    "#implements modular Fourier transform\n",
    "#project v onto each block U_i = F_p[S_n]*e_i using \\pi_i: v |--> v*e_i as a projection\n",
    "#this is just a change of basis\n",
    "def modular_fourier_transform(p,n,nu=1):\n",
    "    #instantiate group algebra\n",
    "    SGA_GFp_n = SymmetricGroupAlgebra(GF(p**nu),n)\n",
    "    #compute the primitive central orthogonal idempotents\n",
    "    idempotents = SGA_GFp_n.central_orthogonal_idempotents()\n",
    "    # project v onto each block U_i = F_p[S_n]*e_i via \\pi_i: v |--> v*e_i\n",
    "    B = SGA_GFp_n.basis()\n",
    "    blocks = [SGA_GFp_n.submodule([b * idem for b in B]) for idem in idempotents]\n",
    "    # compute the list of basis vectors lifted to the SGA from each block\n",
    "    block_decomposition_basis = [u.lift() for block in blocks for u in block.basis()]\n",
    "    # construct the matrix to the standard basis in the order given by the group\n",
    "    G = SGA_GFp_n.group()\n",
    "    mat = [[b[g] for b in block_decomposition_basis] for g in G]\n",
    "    return matrix(SGA_GFp_n.base_ring(), mat)"
   ]
  },
  {
   "cell_type": "code",
   "execution_count": 10,
   "id": "460fee4d",
   "metadata": {},
   "outputs": [],
   "source": [
    "p=3; n=4"
   ]
  },
  {
   "cell_type": "code",
   "execution_count": 11,
   "id": "cb2370b8",
   "metadata": {},
   "outputs": [
    {
     "data": {
      "text/plain": [
       "24 x 24 dense matrix over Finite Field of size 3 (use the '.str()' method to see the entries)"
      ]
     },
     "execution_count": 11,
     "metadata": {},
     "output_type": "execute_result"
    }
   ],
   "source": [
    "#compute the modular Fourier transform for an example element v\n",
    "mft = modular_fourier_transform(p,n); mft"
   ]
  },
  {
   "cell_type": "code",
   "execution_count": 12,
   "id": "274d5b27",
   "metadata": {},
   "outputs": [
    {
     "name": "stdout",
     "output_type": "stream",
     "text": [
      "[1 0 0 0 0 0 0 0 0 1 0 0 0 0 0 0 0 0 1 0 0 0 0 0]\n",
      "[0 1 0 0 0 0 0 0 0 0 1 0 0 0 0 0 0 0 0 1 0 0 0 0]\n",
      "[0 0 1 0 0 0 0 0 0 0 0 1 0 0 0 0 0 0 0 0 1 0 0 0]\n",
      "[0 0 0 1 0 0 0 0 0 0 0 0 1 0 0 0 0 0 0 0 0 1 0 0]\n",
      "[0 0 0 0 1 0 0 0 0 0 0 0 0 1 0 0 0 0 0 0 0 0 1 0]\n",
      "[1 2 2 1 1 0 0 0 0 2 2 2 2 2 0 0 0 0 0 0 0 0 0 1]\n",
      "[0 0 0 0 0 1 0 0 0 0 0 0 0 0 1 0 0 0 0 1 0 0 0 0]\n",
      "[2 1 0 0 0 1 0 0 0 2 2 0 0 0 2 0 0 0 1 0 0 0 0 0]\n",
      "[0 0 0 0 0 0 1 0 0 0 0 0 0 0 0 1 0 0 0 0 0 0 1 0]\n",
      "[0 0 0 0 0 0 0 1 0 0 0 0 0 0 0 0 1 0 0 0 0 0 0 1]\n",
      "[0 0 2 0 1 0 1 0 0 0 0 2 0 2 0 2 0 0 0 0 1 0 0 0]\n",
      "[1 2 2 0 1 0 0 1 0 1 1 1 0 1 0 0 2 0 0 0 0 1 0 0]\n",
      "[0 0 0 0 0 0 0 0 1 0 0 0 0 0 0 0 0 1 0 0 0 1 0 0]\n",
      "[0 0 2 1 0 0 0 0 1 0 0 2 2 0 0 0 0 2 0 0 1 0 0 0]\n",
      "[1 0 2 0 0 2 1 0 1 2 0 2 0 0 2 2 0 2 0 0 0 0 0 1]\n",
      "[1 0 2 0 0 2 0 1 1 1 0 1 0 0 1 0 2 1 0 0 0 0 1 0]\n",
      "[1 2 1 1 1 2 1 0 1 1 1 2 1 1 1 1 0 1 1 0 0 0 0 0]\n",
      "[1 2 2 0 1 2 0 1 1 2 2 2 0 2 2 0 1 2 0 1 0 0 0 0]\n",
      "[1 1 2 2 2 1 2 2 2 2 1 2 1 1 1 1 2 1 0 0 0 0 0 1]\n",
      "[2 0 1 0 2 1 2 2 2 2 0 2 0 2 2 2 1 2 0 0 0 0 1 0]\n",
      "[2 1 1 2 2 0 0 2 2 2 2 2 2 2 0 0 1 2 0 0 0 1 0 0]\n",
      "[0 0 1 2 2 0 2 0 2 0 0 1 1 1 0 1 0 1 0 0 1 0 0 0]\n",
      "[2 0 1 0 2 0 0 2 2 1 0 1 0 1 0 0 2 1 0 1 0 0 0 0]\n",
      "[2 0 2 2 2 0 2 0 2 2 0 1 2 2 0 2 0 2 1 0 0 0 0 0]\n"
     ]
    }
   ],
   "source": [
    "print(mft.str())"
   ]
  },
  {
   "cell_type": "code",
   "execution_count": 13,
   "id": "2c89a0ab",
   "metadata": {},
   "outputs": [
    {
     "name": "stdout",
     "output_type": "stream",
     "text": [
      "24\n"
     ]
    },
    {
     "data": {
      "text/plain": [
       "'222210121111201020111101'"
      ]
     },
     "execution_count": 13,
     "metadata": {},
     "output_type": "execute_result"
    }
   ],
   "source": [
    "#perform Hill cipher with MFT(p,n) as matrix\n",
    "txt = \"hom\"\n",
    "bit_str = flatten([list(bin_str)[2:] for bin_str in [bin(num) for num in list(txt.encode())]])\n",
    "encoded_vec = [GF(p)(bit) for bit in bit_str] + (factorial(n)-len(bit_str))*[0]\n",
    "print(len(encoded_vec))\n",
    "''.join([str(i) for i in mft*vector(encoded_vec)])"
   ]
  },
  {
   "cell_type": "code",
   "execution_count": 14,
   "id": "695f7df9",
   "metadata": {},
   "outputs": [
    {
     "data": {
      "text/plain": [
       "False"
      ]
     },
     "execution_count": 14,
     "metadata": {},
     "output_type": "execute_result"
    }
   ],
   "source": [
    "modular_fourier_transform(7,3) == SGA_F7.dft()"
   ]
  },
  {
   "cell_type": "code",
   "execution_count": 15,
   "id": "b09e4e1d",
   "metadata": {},
   "outputs": [
    {
     "name": "stdout",
     "output_type": "stream",
     "text": [
      "[1 0 0 0 0 0 0 0 0 1 0 0 0 0 0 0 0 0 1 0 0 0 0 0]\n",
      "[0 1 0 0 0 0 0 0 0 0 1 0 0 0 0 0 0 0 0 1 0 0 0 0]\n",
      "[0 0 1 0 0 0 0 0 0 0 0 1 0 0 0 0 0 0 0 0 1 0 0 0]\n",
      "[0 0 0 1 0 0 0 0 0 0 0 0 1 0 0 0 0 0 0 0 0 1 0 0]\n",
      "[0 0 0 0 1 0 0 0 0 0 0 0 0 1 0 0 0 0 0 0 0 0 1 0]\n",
      "[1 2 2 1 1 0 0 0 0 2 2 2 2 2 0 0 0 0 0 0 0 0 0 1]\n",
      "[0 0 0 0 0 1 0 0 0 0 0 0 0 0 1 0 0 0 0 1 0 0 0 0]\n",
      "[2 1 0 0 0 1 0 0 0 2 2 0 0 0 2 0 0 0 1 0 0 0 0 0]\n",
      "[0 0 0 0 0 0 1 0 0 0 0 0 0 0 0 1 0 0 0 0 0 0 1 0]\n",
      "[0 0 0 0 0 0 0 1 0 0 0 0 0 0 0 0 1 0 0 0 0 0 0 1]\n",
      "[0 0 2 0 1 0 1 0 0 0 0 2 0 2 0 2 0 0 0 0 1 0 0 0]\n",
      "[1 2 2 0 1 0 0 1 0 1 1 1 0 1 0 0 2 0 0 0 0 1 0 0]\n",
      "[0 0 0 0 0 0 0 0 1 0 0 0 0 0 0 0 0 1 0 0 0 1 0 0]\n",
      "[0 0 2 1 0 0 0 0 1 0 0 2 2 0 0 0 0 2 0 0 1 0 0 0]\n",
      "[1 0 2 0 0 2 1 0 1 2 0 2 0 0 2 2 0 2 0 0 0 0 0 1]\n",
      "[1 0 2 0 0 2 0 1 1 1 0 1 0 0 1 0 2 1 0 0 0 0 1 0]\n",
      "[1 2 1 1 1 2 1 0 1 1 1 2 1 1 1 1 0 1 1 0 0 0 0 0]\n",
      "[1 2 2 0 1 2 0 1 1 2 2 2 0 2 2 0 1 2 0 1 0 0 0 0]\n",
      "[1 1 2 2 2 1 2 2 2 2 1 2 1 1 1 1 2 1 0 0 0 0 0 1]\n",
      "[2 0 1 0 2 1 2 2 2 2 0 2 0 2 2 2 1 2 0 0 0 0 1 0]\n",
      "[2 1 1 2 2 0 0 2 2 2 2 2 2 2 0 0 1 2 0 0 0 1 0 0]\n",
      "[0 0 1 2 2 0 2 0 2 0 0 1 1 1 0 1 0 1 0 0 1 0 0 0]\n",
      "[2 0 1 0 2 0 0 2 2 1 0 1 0 1 0 0 2 1 0 1 0 0 0 0]\n",
      "[2 0 2 2 2 0 2 0 2 2 0 1 2 2 0 2 0 2 1 0 0 0 0 0]\n"
     ]
    }
   ],
   "source": [
    "#note: this matrix has (almost) only has 1's and -1's\n",
    "M = modular_fourier_transform(3,4,nu=1)\n",
    "print(M.str())"
   ]
  },
  {
   "cell_type": "code",
   "execution_count": 16,
   "id": "e0ca0ad1",
   "metadata": {},
   "outputs": [
    {
     "data": {
      "text/plain": [
       "True"
      ]
     },
     "execution_count": 16,
     "metadata": {},
     "output_type": "execute_result"
    }
   ],
   "source": [
    "matrix.identity(6) == modular_fourier_transform(2,3)^4"
   ]
  },
  {
   "cell_type": "code",
   "execution_count": 18,
   "id": "1b2beb70",
   "metadata": {},
   "outputs": [],
   "source": [
    "#A fast way for computing the order of 𝑀 is thus \n",
    "#to compute the characteristic polynomial P_L of M\n",
    "#factor it over F_p and check then if prime-divisors of p^k-1\n",
    "#(for 𝑘 the degree of an involved irreducible polynomial) \n",
    "#divide the order\n",
    "def order_finite_field(M):\n",
    "    L = M.nrows()\n",
    "    p = len(M.base_ring())\n",
    "    P_L = M.charpoly(); P_L\n",
    "    char_poly_factored = P_L.factor(); char_poly_factored\n",
    "    degree_list = [item[0].degree() for item in char_poly_factored]\n",
    "    U = p^(L-1)*prod(p^k-1 for k in degree_list)\n",
    "    for div in divisors(U):\n",
    "        if M^div == matrix.identity(L):\n",
    "            return div"
   ]
  },
  {
   "cell_type": "code",
   "execution_count": 19,
   "id": "d6f55115",
   "metadata": {},
   "outputs": [
    {
     "data": {
      "text/plain": [
       "488488"
      ]
     },
     "execution_count": 19,
     "metadata": {},
     "output_type": "execute_result"
    }
   ],
   "source": [
    "order_finite_field(mft)"
   ]
  },
  {
   "cell_type": "code",
   "execution_count": 20,
   "id": "2b38a6af",
   "metadata": {},
   "outputs": [
    {
     "data": {
      "text/plain": [
       "True"
      ]
     },
     "execution_count": 20,
     "metadata": {},
     "output_type": "execute_result"
    }
   ],
   "source": [
    "mft^488488 == matrix.identity(24)"
   ]
  },
  {
   "cell_type": "code",
   "execution_count": 21,
   "id": "51c9f74f",
   "metadata": {},
   "outputs": [
    {
     "data": {
      "text/plain": [
       "[1 1 1 1 1 1]\n",
       "[1 4 6 3 3 4]\n",
       "[0 6 0 6 1 1]\n",
       "[0 1 0 6 1 6]\n",
       "[1 3 1 3 3 3]\n",
       "[1 6 6 1 1 6]"
      ]
     },
     "execution_count": 21,
     "metadata": {},
     "output_type": "execute_result"
    }
   ],
   "source": [
    "SymmetricGroupAlgebra(GF(7),3).dft()"
   ]
  },
  {
   "cell_type": "code",
   "execution_count": 22,
   "id": "6de90e56",
   "metadata": {},
   "outputs": [
    {
     "name": "stdout",
     "output_type": "stream",
     "text": [
      "[ 1  1  0  0  0  0  0  0  0  0  1  0  0  0  1  0  0  0  0  0  0  0  0  1]\n",
      "[ 1  0  1  0  0  0  0  0  0  0  0  1  0  0  0  1  0  0  0  0  0  0  0 10]\n",
      "[ 1  0  0  1  0  0  0  0  0  0  0  0  1  0  0  0  1  0  0  0  0  0  0 10]\n",
      "[ 1  0  0  0  1  0  0  0  0  0  0  0  0  1  0  0  0  1  0  0  0  0  0  1]\n",
      "[ 1  0  0  0  0  1  0  0  0  0 10  0  0 10  0  0  0  0  1  0  0  0  0  1]\n",
      "[ 1  1 10 10  1  1  0  0  0  0  0 10 10  0 10 10 10 10 10  0  0  0  0 10]\n",
      "[ 1  0  0  0  0  0  1  0  0  0  0  1  0  0  0  0  0  0  0  1  0  0  0 10]\n",
      "[ 1 10  1  0  0  0  1  0  0  0  1  0  0  0 10 10  0  0  0 10  0  0  0  1]\n",
      "[ 1  0  0  0  0  0  0  1  0  0 10  0  0 10  0  0  0  0  0  0  1  0  0  1]\n",
      "[ 1  0  0  0  0  0  0  0  1  0  0 10 10  0  0  0  0  0  0  0  0  1  0 10]\n",
      "[ 1  0  0 10  0  1  0  1  0  0  0  0  1  0  0  0 10  0 10  0 10  0  0 10]\n",
      "[ 1  1 10 10  0  1  0  0  1  0  0  0  0  1  1  1  1  0  1  0  0 10  0  1]\n",
      "[ 1  0  0  0  0  0  0  0  0  1  0  0  0  1  0  0  0  0  0  0  0  0  1  1]\n",
      "[ 1  0  0 10  1  0  0  0  0  1  0  0  1  0  0  0 10 10  0  0  0  0 10 10]\n",
      "[ 1  1  0 10  0  0 10  1  0  1  0 10 10  0 10  0 10  0  0 10 10  0 10 10]\n",
      "[ 1  1  0 10  0  0 10  0  1  1 10  0  0 10  1  0  1  0  0  1  0 10  1  1]\n",
      "[ 1  1 10  9  1  1 10  1  0  1  1  0  0  0  1  1  2  1  1  1  1  0  1  1]\n",
      "[ 1  1 10 10  0  1 10  0  1  1  0  1  0  0 10 10 10  0 10 10  0  1 10 10]\n",
      "[ 1  9  1  2 10 10  1 10 10 10  0 10 10  0  2  1  2  1  1  1  1 10  1 10]\n",
      "[ 1 10  0  1  0 10  1 10 10 10 10  0  0 10 10  0 10  0 10 10 10  1 10  1]\n",
      "[ 1 10  1  1 10 10  0  0 10 10  0  0  0  1 10 10 10 10 10  0  0  1 10  1]\n",
      "[ 1  0  0  1 10 10  0 10  0 10  0  0  1  0  0  0  1  1  1  0  1  0  1 10]\n",
      "[ 1 10  0  1  0 10  0  0 10 10  0  1  0  0  1  0  1  0  1  0  0 10  1 10]\n",
      "[ 1 10  0  2 10 10  0 10  0 10  1  0  0  0 10  0  9 10 10  0 10  0 10  1]\n"
     ]
    }
   ],
   "source": [
    "#note: this matrix has (almost) only has 1's and -1's\n",
    "print(modular_fourier_transform(11,4).str())"
   ]
  },
  {
   "cell_type": "code",
   "execution_count": 99,
   "id": "ad349b59-e8f3-4814-becd-04f7b1f9bb77",
   "metadata": {},
   "outputs": [
    {
     "data": {
      "text/plain": [
       "[8,\n",
       " 8,\n",
       " 13,\n",
       " 13,\n",
       " 13,\n",
       " 2186,\n",
       " 2186,\n",
       " 2186,\n",
       " 2186,\n",
       " 2186,\n",
       " 2186,\n",
       " 2186,\n",
       " 717897987691852588770248,\n",
       " 717897987691852588770248,\n",
       " 717897987691852588770248,\n",
       " 717897987691852588770248,\n",
       " 717897987691852588770248,\n",
       " 717897987691852588770248,\n",
       " 717897987691852588770248,\n",
       " 717897987691852588770248,\n",
       " 717897987691852588770248,\n",
       " 717897987691852588770248,\n",
       " 717897987691852588770248,\n",
       " 717897987691852588770248,\n",
       " 717897987691852588770248,\n",
       " 717897987691852588770248,\n",
       " 717897987691852588770248,\n",
       " 717897987691852588770248,\n",
       " 717897987691852588770248,\n",
       " 717897987691852588770248,\n",
       " 717897987691852588770248,\n",
       " 717897987691852588770248,\n",
       " 717897987691852588770248,\n",
       " 717897987691852588770248,\n",
       " 717897987691852588770248,\n",
       " 717897987691852588770248,\n",
       " 717897987691852588770248,\n",
       " 717897987691852588770248,\n",
       " 717897987691852588770248,\n",
       " 717897987691852588770248,\n",
       " 717897987691852588770248,\n",
       " 717897987691852588770248,\n",
       " 717897987691852588770248,\n",
       " 717897987691852588770248,\n",
       " 717897987691852588770248,\n",
       " 717897987691852588770248,\n",
       " 717897987691852588770248,\n",
       " 717897987691852588770248,\n",
       " 717897987691852588770248,\n",
       " 717897987691852588770248,\n",
       " 717897987691852588770248,\n",
       " 717897987691852588770248,\n",
       " 717897987691852588770248,\n",
       " 717897987691852588770248,\n",
       " 717897987691852588770248,\n",
       " 717897987691852588770248,\n",
       " 717897987691852588770248,\n",
       " 717897987691852588770248,\n",
       " 717897987691852588770248,\n",
       " 717897987691852588770248,\n",
       " 717897987691852588770248,\n",
       " 717897987691852588770248,\n",
       " 2355064348623122417460801844,\n",
       " 2355064348623122417460801844,\n",
       " 2355064348623122417460801844,\n",
       " 2355064348623122417460801844,\n",
       " 2355064348623122417460801844,\n",
       " 2355064348623122417460801844,\n",
       " 2355064348623122417460801844,\n",
       " 2355064348623122417460801844,\n",
       " 2355064348623122417460801844,\n",
       " 2355064348623122417460801844,\n",
       " 2355064348623122417460801844,\n",
       " 2355064348623122417460801844,\n",
       " 2355064348623122417460801844,\n",
       " 2355064348623122417460801844,\n",
       " 2355064348623122417460801844,\n",
       " 2355064348623122417460801844,\n",
       " 2355064348623122417460801844,\n",
       " 2355064348623122417460801844,\n",
       " 2355064348623122417460801844,\n",
       " 2355064348623122417460801844,\n",
       " 2355064348623122417460801844,\n",
       " 2355064348623122417460801844,\n",
       " 2355064348623122417460801844,\n",
       " 2355064348623122417460801844,\n",
       " 2355064348623122417460801844,\n",
       " 2355064348623122417460801844,\n",
       " 2355064348623122417460801844,\n",
       " 2355064348623122417460801844,\n",
       " 2355064348623122417460801844,\n",
       " 2355064348623122417460801844,\n",
       " 2355064348623122417460801844,\n",
       " 2355064348623122417460801844,\n",
       " 2355064348623122417460801844,\n",
       " 2355064348623122417460801844,\n",
       " 2355064348623122417460801844,\n",
       " 2355064348623122417460801844,\n",
       " 2355064348623122417460801844,\n",
       " 2355064348623122417460801844,\n",
       " 2355064348623122417460801844,\n",
       " 2355064348623122417460801844,\n",
       " 2355064348623122417460801844,\n",
       " 2355064348623122417460801844,\n",
       " 2355064348623122417460801844,\n",
       " 2355064348623122417460801844,\n",
       " 2355064348623122417460801844,\n",
       " 2355064348623122417460801844,\n",
       " 2355064348623122417460801844,\n",
       " 2355064348623122417460801844,\n",
       " 2355064348623122417460801844,\n",
       " 2355064348623122417460801844,\n",
       " 2355064348623122417460801844,\n",
       " 2355064348623122417460801844,\n",
       " 2355064348623122417460801844,\n",
       " 2355064348623122417460801844,\n",
       " 2355064348623122417460801844,\n",
       " 2355064348623122417460801844,\n",
       " 2355064348623122417460801844,\n",
       " 2355064348623122417460801844]"
      ]
     },
     "execution_count": 99,
     "metadata": {},
     "output_type": "execute_result"
    }
   ],
   "source": [
    "eigs = modular_fourier_transform(3,5,nu=1).eigenvalues(); [eig.multiplicative_order() for eig in eigs]"
   ]
  },
  {
   "cell_type": "code",
   "execution_count": 103,
   "id": "3b920c21-869e-4e0b-9b58-d95efc62b4ed",
   "metadata": {},
   "outputs": [
    {
     "data": {
      "text/plain": [
       "120"
      ]
     },
     "execution_count": 103,
     "metadata": {},
     "output_type": "execute_result"
    }
   ],
   "source": [
    "len(set(eigs))"
   ]
  },
  {
   "cell_type": "code",
   "execution_count": 51,
   "id": "60a71f34-632f-4d74-a5fe-80b8cb0cc840",
   "metadata": {},
   "outputs": [],
   "source": [
    "char_poly = modular_fourier_transform(3,4,nu=1).charpoly().factor()"
   ]
  },
  {
   "cell_type": "code",
   "execution_count": 52,
   "id": "7d177530-f8d9-4648-93cd-b854413d966c",
   "metadata": {},
   "outputs": [
    {
     "data": {
      "text/plain": [
       "(x + 1) * (x^2 + 1) * (x^2 + x + 2) * (x^3 + 2*x^2 + 2*x + 2) * (x^6 + x^5 + 2*x^4 + 2*x^2 + 2*x + 2) * (x^10 + 2*x^8 + x^7 + 2*x^6 + x^4 + 2*x + 2)"
      ]
     },
     "execution_count": 52,
     "metadata": {},
     "output_type": "execute_result"
    }
   ],
   "source": [
    "char_poly"
   ]
  },
  {
   "cell_type": "code",
   "execution_count": 47,
   "id": "dde2f77a-b3e2-40b2-91a0-99d684146a43",
   "metadata": {},
   "outputs": [
    {
     "data": {
      "text/plain": [
       "[4, 6, 15, 129, 566]"
      ]
     },
     "execution_count": 47,
     "metadata": {},
     "output_type": "execute_result"
    }
   ],
   "source": [
    "[item[0].degree() for item in list(minpoly)]"
   ]
  },
  {
   "cell_type": "code",
   "execution_count": 50,
   "id": "9404e8ba-b7fa-400a-9fb0-55330576a269",
   "metadata": {},
   "outputs": [
    {
     "data": {
      "text/plain": [
       "2 * 283"
      ]
     },
     "execution_count": 50,
     "metadata": {},
     "output_type": "execute_result"
    }
   ],
   "source": [
    "factor(566)"
   ]
  },
  {
   "cell_type": "code",
   "execution_count": 20,
   "id": "0ce43c57-ae59-454d-87bc-f1b0f63802cc",
   "metadata": {},
   "outputs": [
    {
     "name": "stdout",
     "output_type": "stream",
     "text": [
      "PARI stack size set to 1000000000000 bytes, maximum size set to 1000000012288\n"
     ]
    },
    {
     "data": {
      "text/plain": [
       "1000000000000"
      ]
     },
     "execution_count": 20,
     "metadata": {},
     "output_type": "execute_result"
    }
   ],
   "source": [
    "#getting PARI stack size error\n",
    "pari.allocatemem(10^12)\n",
    "pari.stacksize()"
   ]
  },
  {
   "cell_type": "code",
   "execution_count": 24,
   "id": "02ab5f4f-90c1-48a1-b583-b03ce489db3a",
   "metadata": {},
   "outputs": [],
   "source": [
    "K.<a> = modular_fourier_transform(3,4,nu=1).charpoly().splitting_field()"
   ]
  },
  {
   "cell_type": "code",
   "execution_count": 25,
   "id": "50b3b509-dd9c-4e53-976e-32ac9ce25536",
   "metadata": {},
   "outputs": [
    {
     "data": {
      "text/plain": [
       "Finite Field in a of size 3^30"
      ]
     },
     "execution_count": 25,
     "metadata": {},
     "output_type": "execute_result"
    }
   ],
   "source": [
    "K"
   ]
  },
  {
   "cell_type": "code",
   "execution_count": 26,
   "id": "77b7d009-b67b-4331-b242-0f15c9c2963d",
   "metadata": {},
   "outputs": [
    {
     "data": {
      "text/plain": [
       "120"
      ]
     },
     "execution_count": 26,
     "metadata": {},
     "output_type": "execute_result"
    }
   ],
   "source": [
    "modular_fourier_transform(2,5,nu=1).charpoly().degree()"
   ]
  },
  {
   "cell_type": "code",
   "execution_count": 69,
   "id": "77085442-af91-4903-aded-d2c7649fd9c4",
   "metadata": {},
   "outputs": [
    {
     "data": {
      "text/plain": [
       "True"
      ]
     },
     "execution_count": 69,
     "metadata": {},
     "output_type": "execute_result"
    }
   ],
   "source": [
    "modular_fourier_transform(3,5,nu=1).charpoly() in GF(3)[x]"
   ]
  },
  {
   "cell_type": "code",
   "execution_count": 214,
   "id": "109230f0-cf86-4cc0-a5b9-3cc6d7eddb5a",
   "metadata": {},
   "outputs": [
    {
     "name": "stdout",
     "output_type": "stream",
     "text": [
      "10\n",
      "3\n",
      "1\n"
     ]
    },
    {
     "data": {
      "text/plain": [
       "(Univariate Quotient Polynomial Ring in xbar over Univariate Quotient Polynomial Ring in xbar over Finite Field of size 3 with modulus x^10 + 2*x^8 + x^7 + 2*x^6 + x^4 + 2*x + 2 with modulus x^3 + (2*xbar^8 + 2*xbar^7 + xbar^5 + xbar^4 + 2*xbar^3 + 2*xbar^2)*x^2 + (2*xbar^8 + 2*xbar^7 + xbar^5 + xbar^4 + 2*xbar^3 + 2*xbar^2 + 1)*x + 2*xbar^8 + 2*xbar^7 + xbar^5 + xbar^4 + 2*xbar^3 + 2*xbar^2,\n",
       " [10, 3, 1])"
      ]
     },
     "execution_count": 214,
     "metadata": {},
     "output_type": "execute_result"
    }
   ],
   "source": [
    "splitting_field(modular_fourier_transform(3,4,nu=1).charpoly(),GF(3),splitting_degs=[])"
   ]
  },
  {
   "cell_type": "code",
   "execution_count": 215,
   "id": "86f13840-94d3-452b-9c89-d5734aab5bbc",
   "metadata": {},
   "outputs": [],
   "source": [
    "#compute the splitting field of a polynomial\n",
    "def splitting_field(f,K,splitting_degs=[]):\n",
    "    #define polynomial ring we're working over\n",
    "    R.<x> = PolynomialRing(K)\n",
    "    #factor f over K into irreducible factors \n",
    "    factor_f = f(R.gen()).factor()\n",
    "    #choose first non-linear factor. just pick last one since they're ordered\n",
    "    nonlinear_factor_f = list(factor_f)[-1][0]\n",
    "    splitting_degs.append(nonlinear_factor_f.degree())\n",
    "    if nonlinear_factor_f.degree() == 1:\n",
    "        return K, splitting_degs\n",
    "    #form the quotient ring K_{i+1} = K_i[x]/(f_i(x))\n",
    "    K_ext = R.quotient(nonlinear_factor_f)\n",
    "    #repeat process until f is completely factored\n",
    "    return splitting_field(f,K_ext,splitting_degs)"
   ]
  },
  {
   "cell_type": "code",
   "execution_count": 41,
   "id": "564fe675-ef35-4af8-8e75-f8081cde6e38",
   "metadata": {},
   "outputs": [],
   "source": [
    "#compute the splitting degree of the splitting field of a polynomial by computing the lcm\n",
    "def splitting_field_degree(f):\n",
    "    return lcm([factor[0].degree()**factor[1] for factor in list(f.factor())])"
   ]
  },
  {
   "cell_type": "code",
   "execution_count": 45,
   "id": "664932f4-f40c-43a7-9bb9-72e7a7e67c87",
   "metadata": {},
   "outputs": [
    {
     "data": {
      "text/plain": [
       "730140"
      ]
     },
     "execution_count": 45,
     "metadata": {},
     "output_type": "execute_result"
    }
   ],
   "source": [
    "splitting_field_degree(modular_fourier_transform(5,6,nu=1).charpoly())"
   ]
  },
  {
   "cell_type": "code",
   "execution_count": 104,
   "id": "42d98e6b-12e9-4f09-be9f-69a11c7f5086",
   "metadata": {},
   "outputs": [],
   "source": [
    "#eigenvalues appear to have multiplicity 1"
   ]
  },
  {
   "cell_type": "code",
   "execution_count": null,
   "id": "6a2e630c-955b-4c8b-93db-d083b02119b9",
   "metadata": {},
   "outputs": [],
   "source": []
  }
 ],
 "metadata": {
  "kernelspec": {
   "display_name": "SageMath 10.3",
   "language": "sage",
   "name": "sagemath-10.3"
  },
  "language_info": {
   "codemirror_mode": {
    "name": "ipython",
    "version": 3
   },
   "file_extension": ".py",
   "mimetype": "text/x-python",
   "name": "python",
   "nbconvert_exporter": "python",
   "pygments_lexer": "ipython3",
   "version": "3.11.1"
  }
 },
 "nbformat": 4,
 "nbformat_minor": 5
}
